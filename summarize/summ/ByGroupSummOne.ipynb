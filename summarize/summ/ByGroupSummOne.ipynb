{
 "cells": [
  {
   "cell_type": "markdown",
   "metadata": {},
   "source": [
    "# Summary One Variable by Groups\n",
    "\n",
    "There is a categorical variable (based on one or the interaction of multiple variables), there is a continuous variable, obtain statistics for the continuous variable conditional on the categorical variable, but also unconditionally. \n",
    "\n",
    "Store results in a matrix, but also flatten results wide to row with appropriate keys/variable-names for all group statistics. \n",
    "\n",
    "Pick which statistics to be included in final wide row"
   ]
  },
  {
   "cell_type": "markdown",
   "metadata": {},
   "source": [
    "## Program"
   ]
  },
  {
   "cell_type": "code",
   "execution_count": 54,
   "metadata": {},
   "outputs": [],
   "source": [
    "# Single Variable Group Statistics\n",
    "ff_summ_by_group_summ_one <- function(df, vars.group, var.numeric, str.stats.group = 'main', str.stats.specify = NULL){\n",
    "    \n",
    "    # List of statistics\n",
    "    # https://rdrr.io/cran/dplyr/man/summarise.html\n",
    "    strs.center <- c('mean', 'median')\n",
    "    strs.spread <- c('sd', 'IQR', 'mad')\n",
    "    strs.range <- c('min', 'max')\n",
    "    strs.pos <- c('first', 'last')\n",
    "    strs.count <- c('n_distinct')\n",
    "\n",
    "    # Grouping of Statistics\n",
    "    if (missing(str.stats.specify)) {\n",
    "        if (str.stats.group == 'main') {\n",
    "            strs.all <- c('mean', 'min', 'max', 'sd')\n",
    "        }\n",
    "        if (str.stats.group == 'all') {\n",
    "            strs.all <- c(strs.center, strs.spread, strs.range, strs.pos, strs.count)\n",
    "        }\n",
    "    } else {\n",
    "        strs.all <- str.stats.specify\n",
    "    }\n",
    "    \n",
    "    # Group Sort\n",
    "    df.select <- df %>% \n",
    "                    drop_na() %>% \n",
    "                    group_by(!!!syms(vars.group)) %>% \n",
    "                    arrange(!!!syms(c(vars.group, var.numeric)))\n",
    "\n",
    "    # Table of Statistics\n",
    "    df.table.grp.stats <- df.select %>% summarize_at(vars(var.numeric), funs(!!!strs.all))\n",
    "    \n",
    "    # Add Stat Name\n",
    "    if (length(strs.all) == 1) {\n",
    "        # give it a name, otherwise if only one stat, name of stat not saved\n",
    "        df.table.grp.stats <- df.table.grp.stats %>% rename(!!strs.all := !!sym(var.numeric))\n",
    "    } \n",
    "\n",
    "    \n",
    "    # Row of Statistics\n",
    "    str.vars.group.combine <- paste0(vars.group, collapse='_')\n",
    "    if (length(vars.group) == 1) {\n",
    "        df.row.grp.stats <- df.table.grp.stats %>%\n",
    "                mutate(!!(str.vars.group.combine) := paste0(var.numeric, '.', \n",
    "                                               vars.group, '.g', \n",
    "                                               (!!!syms(vars.group)))) %>%\n",
    "                gather(variable, value, -one_of(vars.group)) %>%\n",
    "                unite(str.vars.group.combine, c(str.vars.group.combine, 'variable')) %>%\n",
    "                spread(str.vars.group.combine, value)        \n",
    "    } else {\n",
    "        df.row.grp.stats <- df.table.grp.stats %>% \n",
    "                                mutate(vars.groups.combine := paste0(paste0(vars.group, collapse='.')), \n",
    "                                       !!(str.vars.group.combine) := paste0(interaction(!!!(syms(vars.group))))) %>% \n",
    "                                mutate(!!(str.vars.group.combine) := paste0(var.numeric, '.', vars.groups.combine, '.',\n",
    "                                                                           (!!sym(str.vars.group.combine)))) %>%\n",
    "                                ungroup() %>%\n",
    "                                select(-vars.groups.combine, -one_of(vars.group)) %>%\n",
    "                gather(variable, value, -one_of(str.vars.group.combine))  %>%\n",
    "                unite(str.vars.group.combine, c(str.vars.group.combine, 'variable')) %>%\n",
    "                spread(str.vars.group.combine, value)\n",
    "        \n",
    "    }\n",
    "\n",
    "    # Clean up name strings\n",
    "    names(df.table.grp.stats) <- gsub(x = names(df.table.grp.stats),pattern = \"_\", replacement = \"\\\\.\")\n",
    "    names(df.row.grp.stats) <- gsub(x = names(df.row.grp.stats),pattern = \"_\", replacement = \"\\\\.\")\n",
    "    \n",
    "    # Return\n",
    "    return(list(df_table_grp_stats = df.table.grp.stats, \n",
    "                df_row_grp_stats = df.row.grp.stats))    \n",
    "}"
   ]
  },
  {
   "cell_type": "markdown",
   "metadata": {},
   "source": [
    "## Data\n",
    "\n",
    "Load data and test"
   ]
  },
  {
   "cell_type": "code",
   "execution_count": 55,
   "metadata": {},
   "outputs": [
    {
     "name": "stderr",
     "output_type": "stream",
     "text": [
      "Parsed with column specification:\n",
      "cols(\n",
      "  S.country = col_character(),\n",
      "  vil.id = col_double(),\n",
      "  indi.id = col_double(),\n",
      "  sex = col_character(),\n",
      "  svymthRound = col_double(),\n",
      "  momEdu = col_double(),\n",
      "  wealthIdx = col_double(),\n",
      "  hgt = col_double(),\n",
      "  wgt = col_double(),\n",
      "  hgt0 = col_double(),\n",
      "  wgt0 = col_double(),\n",
      "  prot = col_double(),\n",
      "  cal = col_double(),\n",
      "  p.A.prot = col_double(),\n",
      "  p.A.nProt = col_double()\n",
      ")\n"
     ]
    }
   ],
   "source": [
    "# Library\n",
    "library(tidyverse)\n",
    "\n",
    "# Load Sample Data\n",
    "setwd('C:/Users/fan/R4Econ/_data/')\n",
    "df <- read_csv('height_weight.csv')"
   ]
  },
  {
   "cell_type": "markdown",
   "metadata": {},
   "source": [
    "## Function Testing By Gender Groups "
   ]
  },
  {
   "cell_type": "markdown",
   "metadata": {},
   "source": [
    "### Select Variables\n",
    "\n",
    "Need two variables, a group variable that is a factor, and a numeric"
   ]
  },
  {
   "cell_type": "code",
   "execution_count": 56,
   "metadata": {},
   "outputs": [],
   "source": [
    "vars.group <- 'sex'\n",
    "var.numeric <- 'hgt'"
   ]
  },
  {
   "cell_type": "code",
   "execution_count": 57,
   "metadata": {},
   "outputs": [],
   "source": [
    "df.select <- df %>% select(one_of(vars.group, var.numeric)) %>% drop_na()"
   ]
  },
  {
   "cell_type": "markdown",
   "metadata": {},
   "source": [
    "### Main Statistics "
   ]
  },
  {
   "cell_type": "code",
   "execution_count": 58,
   "metadata": {},
   "outputs": [
    {
     "data": {
      "text/html": [
       "<dl>\n",
       "\t<dt>$df_table_grp_stats</dt>\n",
       "\t\t<dd><table>\n",
       "<thead><tr><th scope=col>sex</th><th scope=col>mean</th><th scope=col>min</th><th scope=col>max</th><th scope=col>sd</th></tr></thead>\n",
       "<tbody>\n",
       "\t<tr><td>Female  </td><td>82.81198</td><td>41.2    </td><td>170.6   </td><td>29.79351</td></tr>\n",
       "\t<tr><td>Male    </td><td>84.68152</td><td>41.3    </td><td>182.9   </td><td>31.75037</td></tr>\n",
       "</tbody>\n",
       "</table>\n",
       "</dd>\n",
       "\t<dt>$df_row_grp_stats</dt>\n",
       "\t\t<dd><table>\n",
       "<thead><tr><th scope=col>hgt.sex.gFemale.max</th><th scope=col>hgt.sex.gFemale.mean</th><th scope=col>hgt.sex.gFemale.min</th><th scope=col>hgt.sex.gFemale.sd</th><th scope=col>hgt.sex.gMale.max</th><th scope=col>hgt.sex.gMale.mean</th><th scope=col>hgt.sex.gMale.min</th><th scope=col>hgt.sex.gMale.sd</th></tr></thead>\n",
       "<tbody>\n",
       "\t<tr><td>170.6   </td><td>82.81198</td><td>41.2    </td><td>29.79351</td><td>182.9   </td><td>84.68152</td><td>41.3    </td><td>31.75037</td></tr>\n",
       "</tbody>\n",
       "</table>\n",
       "</dd>\n",
       "</dl>\n"
      ],
      "text/latex": [
       "\\begin{description}\n",
       "\\item[\\$df\\_table\\_grp\\_stats] \\begin{tabular}{r|lllll}\n",
       " sex & mean & min & max & sd\\\\\n",
       "\\hline\n",
       "\t Female   & 82.81198 & 41.2     & 170.6    & 29.79351\\\\\n",
       "\t Male     & 84.68152 & 41.3     & 182.9    & 31.75037\\\\\n",
       "\\end{tabular}\n",
       "\n",
       "\\item[\\$df\\_row\\_grp\\_stats] \\begin{tabular}{r|llllllll}\n",
       " hgt.sex.gFemale.max & hgt.sex.gFemale.mean & hgt.sex.gFemale.min & hgt.sex.gFemale.sd & hgt.sex.gMale.max & hgt.sex.gMale.mean & hgt.sex.gMale.min & hgt.sex.gMale.sd\\\\\n",
       "\\hline\n",
       "\t 170.6    & 82.81198 & 41.2     & 29.79351 & 182.9    & 84.68152 & 41.3     & 31.75037\\\\\n",
       "\\end{tabular}\n",
       "\n",
       "\\end{description}\n"
      ],
      "text/markdown": [
       "$df_table_grp_stats\n",
       ":   \n",
       "| sex | mean | min | max | sd |\n",
       "|---|---|---|---|---|\n",
       "| Female   | 82.81198 | 41.2     | 170.6    | 29.79351 |\n",
       "| Male     | 84.68152 | 41.3     | 182.9    | 31.75037 |\n",
       "\n",
       "\n",
       "$df_row_grp_stats\n",
       ":   \n",
       "| hgt.sex.gFemale.max | hgt.sex.gFemale.mean | hgt.sex.gFemale.min | hgt.sex.gFemale.sd | hgt.sex.gMale.max | hgt.sex.gMale.mean | hgt.sex.gMale.min | hgt.sex.gMale.sd |\n",
       "|---|---|---|---|---|---|---|---|\n",
       "| 170.6    | 82.81198 | 41.2     | 29.79351 | 182.9    | 84.68152 | 41.3     | 31.75037 |\n",
       "\n",
       "\n",
       "\n",
       "\n"
      ],
      "text/plain": [
       "$df_table_grp_stats\n",
       "# A tibble: 2 x 5\n",
       "  sex     mean   min   max    sd\n",
       "  <chr>  <dbl> <dbl> <dbl> <dbl>\n",
       "1 Female  82.8  41.2  171.  29.8\n",
       "2 Male    84.7  41.3  183.  31.8\n",
       "\n",
       "$df_row_grp_stats\n",
       "# A tibble: 1 x 8\n",
       "  hgt.sex.gFemale~ hgt.sex.gFemale~ hgt.sex.gFemale~ hgt.sex.gFemale~\n",
       "             <dbl>            <dbl>            <dbl>            <dbl>\n",
       "1             171.             82.8             41.2             29.8\n",
       "# ... with 4 more variables: hgt.sex.gMale.max <dbl>, hgt.sex.gMale.mean <dbl>,\n",
       "#   hgt.sex.gMale.min <dbl>, hgt.sex.gMale.sd <dbl>\n"
      ]
     },
     "metadata": {},
     "output_type": "display_data"
    }
   ],
   "source": [
    "# Single Variable Group Statistics\n",
    "ff_summ_by_group_summ_one(df.select, vars.group = vars.group, var.numeric = var.numeric, str.stats.group = 'main')"
   ]
  },
  {
   "cell_type": "markdown",
   "metadata": {},
   "source": [
    "### Specify Two Specific Statistics"
   ]
  },
  {
   "cell_type": "code",
   "execution_count": 59,
   "metadata": {},
   "outputs": [
    {
     "data": {
      "text/html": [
       "<dl>\n",
       "\t<dt>$df_table_grp_stats</dt>\n",
       "\t\t<dd><table>\n",
       "<thead><tr><th scope=col>sex</th><th scope=col>mean</th><th scope=col>sd</th></tr></thead>\n",
       "<tbody>\n",
       "\t<tr><td>Female  </td><td>82.81198</td><td>29.79351</td></tr>\n",
       "\t<tr><td>Male    </td><td>84.68152</td><td>31.75037</td></tr>\n",
       "</tbody>\n",
       "</table>\n",
       "</dd>\n",
       "\t<dt>$df_row_grp_stats</dt>\n",
       "\t\t<dd><table>\n",
       "<thead><tr><th scope=col>hgt.sex.gFemale.mean</th><th scope=col>hgt.sex.gFemale.sd</th><th scope=col>hgt.sex.gMale.mean</th><th scope=col>hgt.sex.gMale.sd</th></tr></thead>\n",
       "<tbody>\n",
       "\t<tr><td>82.81198</td><td>29.79351</td><td>84.68152</td><td>31.75037</td></tr>\n",
       "</tbody>\n",
       "</table>\n",
       "</dd>\n",
       "</dl>\n"
      ],
      "text/latex": [
       "\\begin{description}\n",
       "\\item[\\$df\\_table\\_grp\\_stats] \\begin{tabular}{r|lll}\n",
       " sex & mean & sd\\\\\n",
       "\\hline\n",
       "\t Female   & 82.81198 & 29.79351\\\\\n",
       "\t Male     & 84.68152 & 31.75037\\\\\n",
       "\\end{tabular}\n",
       "\n",
       "\\item[\\$df\\_row\\_grp\\_stats] \\begin{tabular}{r|llll}\n",
       " hgt.sex.gFemale.mean & hgt.sex.gFemale.sd & hgt.sex.gMale.mean & hgt.sex.gMale.sd\\\\\n",
       "\\hline\n",
       "\t 82.81198 & 29.79351 & 84.68152 & 31.75037\\\\\n",
       "\\end{tabular}\n",
       "\n",
       "\\end{description}\n"
      ],
      "text/markdown": [
       "$df_table_grp_stats\n",
       ":   \n",
       "| sex | mean | sd |\n",
       "|---|---|---|\n",
       "| Female   | 82.81198 | 29.79351 |\n",
       "| Male     | 84.68152 | 31.75037 |\n",
       "\n",
       "\n",
       "$df_row_grp_stats\n",
       ":   \n",
       "| hgt.sex.gFemale.mean | hgt.sex.gFemale.sd | hgt.sex.gMale.mean | hgt.sex.gMale.sd |\n",
       "|---|---|---|---|\n",
       "| 82.81198 | 29.79351 | 84.68152 | 31.75037 |\n",
       "\n",
       "\n",
       "\n",
       "\n"
      ],
      "text/plain": [
       "$df_table_grp_stats\n",
       "# A tibble: 2 x 3\n",
       "  sex     mean    sd\n",
       "  <chr>  <dbl> <dbl>\n",
       "1 Female  82.8  29.8\n",
       "2 Male    84.7  31.8\n",
       "\n",
       "$df_row_grp_stats\n",
       "# A tibble: 1 x 4\n",
       "  hgt.sex.gFemale.mean hgt.sex.gFemale.sd hgt.sex.gMale.mean hgt.sex.gMale.sd\n",
       "                 <dbl>              <dbl>              <dbl>            <dbl>\n",
       "1                 82.8               29.8               84.7             31.8\n"
      ]
     },
     "metadata": {},
     "output_type": "display_data"
    }
   ],
   "source": [
    "ff_summ_by_group_summ_one(df.select, vars.group = vars.group, var.numeric = var.numeric, str.stats.specify = c('mean', 'sd'))"
   ]
  },
  {
   "cell_type": "markdown",
   "metadata": {},
   "source": [
    "### Specify One Specific Statistics"
   ]
  },
  {
   "cell_type": "code",
   "execution_count": 60,
   "metadata": {},
   "outputs": [
    {
     "data": {
      "text/html": [
       "<dl>\n",
       "\t<dt>$df_table_grp_stats</dt>\n",
       "\t\t<dd><table>\n",
       "<thead><tr><th scope=col>sex</th><th scope=col>mean</th></tr></thead>\n",
       "<tbody>\n",
       "\t<tr><td>Female  </td><td>82.81198</td></tr>\n",
       "\t<tr><td>Male    </td><td>84.68152</td></tr>\n",
       "</tbody>\n",
       "</table>\n",
       "</dd>\n",
       "\t<dt>$df_row_grp_stats</dt>\n",
       "\t\t<dd><table>\n",
       "<thead><tr><th scope=col>hgt.sex.gFemale.mean</th><th scope=col>hgt.sex.gMale.mean</th></tr></thead>\n",
       "<tbody>\n",
       "\t<tr><td>82.81198</td><td>84.68152</td></tr>\n",
       "</tbody>\n",
       "</table>\n",
       "</dd>\n",
       "</dl>\n"
      ],
      "text/latex": [
       "\\begin{description}\n",
       "\\item[\\$df\\_table\\_grp\\_stats] \\begin{tabular}{r|ll}\n",
       " sex & mean\\\\\n",
       "\\hline\n",
       "\t Female   & 82.81198\\\\\n",
       "\t Male     & 84.68152\\\\\n",
       "\\end{tabular}\n",
       "\n",
       "\\item[\\$df\\_row\\_grp\\_stats] \\begin{tabular}{r|ll}\n",
       " hgt.sex.gFemale.mean & hgt.sex.gMale.mean\\\\\n",
       "\\hline\n",
       "\t 82.81198 & 84.68152\\\\\n",
       "\\end{tabular}\n",
       "\n",
       "\\end{description}\n"
      ],
      "text/markdown": [
       "$df_table_grp_stats\n",
       ":   \n",
       "| sex | mean |\n",
       "|---|---|\n",
       "| Female   | 82.81198 |\n",
       "| Male     | 84.68152 |\n",
       "\n",
       "\n",
       "$df_row_grp_stats\n",
       ":   \n",
       "| hgt.sex.gFemale.mean | hgt.sex.gMale.mean |\n",
       "|---|---|\n",
       "| 82.81198 | 84.68152 |\n",
       "\n",
       "\n",
       "\n",
       "\n"
      ],
      "text/plain": [
       "$df_table_grp_stats\n",
       "# A tibble: 2 x 2\n",
       "  sex     mean\n",
       "  <chr>  <dbl>\n",
       "1 Female  82.8\n",
       "2 Male    84.7\n",
       "\n",
       "$df_row_grp_stats\n",
       "# A tibble: 1 x 2\n",
       "  hgt.sex.gFemale.mean hgt.sex.gMale.mean\n",
       "                 <dbl>              <dbl>\n",
       "1                 82.8               84.7\n"
      ]
     },
     "metadata": {},
     "output_type": "display_data"
    }
   ],
   "source": [
    "ff_summ_by_group_summ_one(df.select, vars.group = vars.group, var.numeric = var.numeric, str.stats.specify = c('mean'))"
   ]
  },
  {
   "cell_type": "markdown",
   "metadata": {},
   "source": [
    "## Function Testing By Country and Gender  Groups "
   ]
  },
  {
   "cell_type": "markdown",
   "metadata": {},
   "source": [
    "### Select Variables\n",
    "\n",
    "Need two variables, a group variable that is a factor, and a numeric. Now joint grouping variables."
   ]
  },
  {
   "cell_type": "code",
   "execution_count": 61,
   "metadata": {},
   "outputs": [],
   "source": [
    "vars.group <- c('S.country', 'sex')\n",
    "var.numeric <- 'hgt'"
   ]
  },
  {
   "cell_type": "code",
   "execution_count": 62,
   "metadata": {},
   "outputs": [],
   "source": [
    "df.select <- df %>% select(one_of(vars.group, var.numeric)) %>% drop_na()"
   ]
  },
  {
   "cell_type": "markdown",
   "metadata": {},
   "source": [
    "### Main Statistics "
   ]
  },
  {
   "cell_type": "code",
   "execution_count": 63,
   "metadata": {},
   "outputs": [
    {
     "data": {
      "text/html": [
       "<dl>\n",
       "\t<dt>$df_table_grp_stats</dt>\n",
       "\t\t<dd><table>\n",
       "<thead><tr><th scope=col>S.country</th><th scope=col>sex</th><th scope=col>mean</th><th scope=col>min</th><th scope=col>max</th><th scope=col>sd</th></tr></thead>\n",
       "<tbody>\n",
       "\t<tr><td>Cebu     </td><td>Female   </td><td>84.61326 </td><td>41.3     </td><td>170.6    </td><td>32.53651 </td></tr>\n",
       "\t<tr><td>Cebu     </td><td>Male     </td><td>87.02836 </td><td>41.3     </td><td>182.9    </td><td>34.99090 </td></tr>\n",
       "\t<tr><td>Guatemala</td><td>Female   </td><td>76.58771 </td><td>41.2     </td><td>119.9    </td><td>15.71801 </td></tr>\n",
       "\t<tr><td>Guatemala</td><td>Male     </td><td>77.04710 </td><td>41.5     </td><td>124.7    </td><td>15.11444 </td></tr>\n",
       "</tbody>\n",
       "</table>\n",
       "</dd>\n",
       "\t<dt>$df_row_grp_stats</dt>\n",
       "\t\t<dd><table>\n",
       "<thead><tr><th scope=col>hgt.S.country.sex.Cebu.Female.max</th><th scope=col>hgt.S.country.sex.Cebu.Female.mean</th><th scope=col>hgt.S.country.sex.Cebu.Female.min</th><th scope=col>hgt.S.country.sex.Cebu.Female.sd</th><th scope=col>hgt.S.country.sex.Cebu.Male.max</th><th scope=col>hgt.S.country.sex.Cebu.Male.mean</th><th scope=col>hgt.S.country.sex.Cebu.Male.min</th><th scope=col>hgt.S.country.sex.Cebu.Male.sd</th><th scope=col>hgt.S.country.sex.Guatemala.Female.max</th><th scope=col>hgt.S.country.sex.Guatemala.Female.mean</th><th scope=col>hgt.S.country.sex.Guatemala.Female.min</th><th scope=col>hgt.S.country.sex.Guatemala.Female.sd</th><th scope=col>hgt.S.country.sex.Guatemala.Male.max</th><th scope=col>hgt.S.country.sex.Guatemala.Male.mean</th><th scope=col>hgt.S.country.sex.Guatemala.Male.min</th><th scope=col>hgt.S.country.sex.Guatemala.Male.sd</th></tr></thead>\n",
       "<tbody>\n",
       "\t<tr><td>170.6   </td><td>84.61326</td><td>41.3    </td><td>32.53651</td><td>182.9   </td><td>87.02836</td><td>41.3    </td><td>34.9909 </td><td>119.9   </td><td>76.58771</td><td>41.2    </td><td>15.71801</td><td>124.7   </td><td>77.0471 </td><td>41.5    </td><td>15.11444</td></tr>\n",
       "</tbody>\n",
       "</table>\n",
       "</dd>\n",
       "</dl>\n"
      ],
      "text/latex": [
       "\\begin{description}\n",
       "\\item[\\$df\\_table\\_grp\\_stats] \\begin{tabular}{r|llllll}\n",
       " S.country & sex & mean & min & max & sd\\\\\n",
       "\\hline\n",
       "\t Cebu      & Female    & 84.61326  & 41.3      & 170.6     & 32.53651 \\\\\n",
       "\t Cebu      & Male      & 87.02836  & 41.3      & 182.9     & 34.99090 \\\\\n",
       "\t Guatemala & Female    & 76.58771  & 41.2      & 119.9     & 15.71801 \\\\\n",
       "\t Guatemala & Male      & 77.04710  & 41.5      & 124.7     & 15.11444 \\\\\n",
       "\\end{tabular}\n",
       "\n",
       "\\item[\\$df\\_row\\_grp\\_stats] \\begin{tabular}{r|llllllllllllllll}\n",
       " hgt.S.country.sex.Cebu.Female.max & hgt.S.country.sex.Cebu.Female.mean & hgt.S.country.sex.Cebu.Female.min & hgt.S.country.sex.Cebu.Female.sd & hgt.S.country.sex.Cebu.Male.max & hgt.S.country.sex.Cebu.Male.mean & hgt.S.country.sex.Cebu.Male.min & hgt.S.country.sex.Cebu.Male.sd & hgt.S.country.sex.Guatemala.Female.max & hgt.S.country.sex.Guatemala.Female.mean & hgt.S.country.sex.Guatemala.Female.min & hgt.S.country.sex.Guatemala.Female.sd & hgt.S.country.sex.Guatemala.Male.max & hgt.S.country.sex.Guatemala.Male.mean & hgt.S.country.sex.Guatemala.Male.min & hgt.S.country.sex.Guatemala.Male.sd\\\\\n",
       "\\hline\n",
       "\t 170.6    & 84.61326 & 41.3     & 32.53651 & 182.9    & 87.02836 & 41.3     & 34.9909  & 119.9    & 76.58771 & 41.2     & 15.71801 & 124.7    & 77.0471  & 41.5     & 15.11444\\\\\n",
       "\\end{tabular}\n",
       "\n",
       "\\end{description}\n"
      ],
      "text/markdown": [
       "$df_table_grp_stats\n",
       ":   \n",
       "| S.country | sex | mean | min | max | sd |\n",
       "|---|---|---|---|---|---|\n",
       "| Cebu      | Female    | 84.61326  | 41.3      | 170.6     | 32.53651  |\n",
       "| Cebu      | Male      | 87.02836  | 41.3      | 182.9     | 34.99090  |\n",
       "| Guatemala | Female    | 76.58771  | 41.2      | 119.9     | 15.71801  |\n",
       "| Guatemala | Male      | 77.04710  | 41.5      | 124.7     | 15.11444  |\n",
       "\n",
       "\n",
       "$df_row_grp_stats\n",
       ":   \n",
       "| hgt.S.country.sex.Cebu.Female.max | hgt.S.country.sex.Cebu.Female.mean | hgt.S.country.sex.Cebu.Female.min | hgt.S.country.sex.Cebu.Female.sd | hgt.S.country.sex.Cebu.Male.max | hgt.S.country.sex.Cebu.Male.mean | hgt.S.country.sex.Cebu.Male.min | hgt.S.country.sex.Cebu.Male.sd | hgt.S.country.sex.Guatemala.Female.max | hgt.S.country.sex.Guatemala.Female.mean | hgt.S.country.sex.Guatemala.Female.min | hgt.S.country.sex.Guatemala.Female.sd | hgt.S.country.sex.Guatemala.Male.max | hgt.S.country.sex.Guatemala.Male.mean | hgt.S.country.sex.Guatemala.Male.min | hgt.S.country.sex.Guatemala.Male.sd |\n",
       "|---|---|---|---|---|---|---|---|---|---|---|---|---|---|---|---|\n",
       "| 170.6    | 84.61326 | 41.3     | 32.53651 | 182.9    | 87.02836 | 41.3     | 34.9909  | 119.9    | 76.58771 | 41.2     | 15.71801 | 124.7    | 77.0471  | 41.5     | 15.11444 |\n",
       "\n",
       "\n",
       "\n",
       "\n"
      ],
      "text/plain": [
       "$df_table_grp_stats\n",
       "# A tibble: 4 x 6\n",
       "# Groups:   S.country [2]\n",
       "  S.country sex     mean   min   max    sd\n",
       "  <chr>     <chr>  <dbl> <dbl> <dbl> <dbl>\n",
       "1 Cebu      Female  84.6  41.3  171.  32.5\n",
       "2 Cebu      Male    87.0  41.3  183.  35.0\n",
       "3 Guatemala Female  76.6  41.2  120.  15.7\n",
       "4 Guatemala Male    77.0  41.5  125.  15.1\n",
       "\n",
       "$df_row_grp_stats\n",
       "# A tibble: 1 x 16\n",
       "  hgt.S.country.s~ hgt.S.country.s~ hgt.S.country.s~ hgt.S.country.s~\n",
       "             <dbl>            <dbl>            <dbl>            <dbl>\n",
       "1             171.             84.6             41.3             32.5\n",
       "# ... with 12 more variables: hgt.S.country.sex.Cebu.Male.max <dbl>,\n",
       "#   hgt.S.country.sex.Cebu.Male.mean <dbl>,\n",
       "#   hgt.S.country.sex.Cebu.Male.min <dbl>,\n",
       "#   hgt.S.country.sex.Cebu.Male.sd <dbl>,\n",
       "#   hgt.S.country.sex.Guatemala.Female.max <dbl>,\n",
       "#   hgt.S.country.sex.Guatemala.Female.mean <dbl>,\n",
       "#   hgt.S.country.sex.Guatemala.Female.min <dbl>,\n",
       "#   hgt.S.country.sex.Guatemala.Female.sd <dbl>,\n",
       "#   hgt.S.country.sex.Guatemala.Male.max <dbl>,\n",
       "#   hgt.S.country.sex.Guatemala.Male.mean <dbl>,\n",
       "#   hgt.S.country.sex.Guatemala.Male.min <dbl>,\n",
       "#   hgt.S.country.sex.Guatemala.Male.sd <dbl>\n"
      ]
     },
     "metadata": {},
     "output_type": "display_data"
    }
   ],
   "source": [
    "ff_summ_by_group_summ_one(df.select, vars.group = vars.group, var.numeric = var.numeric, str.stats.group = 'main')"
   ]
  },
  {
   "cell_type": "markdown",
   "metadata": {},
   "source": [
    "### Specify Two Specific Statistics"
   ]
  },
  {
   "cell_type": "code",
   "execution_count": 64,
   "metadata": {},
   "outputs": [
    {
     "data": {
      "text/html": [
       "<dl>\n",
       "\t<dt>$df_table_grp_stats</dt>\n",
       "\t\t<dd><table>\n",
       "<thead><tr><th scope=col>S.country</th><th scope=col>sex</th><th scope=col>mean</th><th scope=col>sd</th></tr></thead>\n",
       "<tbody>\n",
       "\t<tr><td>Cebu     </td><td>Female   </td><td>84.61326 </td><td>32.53651 </td></tr>\n",
       "\t<tr><td>Cebu     </td><td>Male     </td><td>87.02836 </td><td>34.99090 </td></tr>\n",
       "\t<tr><td>Guatemala</td><td>Female   </td><td>76.58771 </td><td>15.71801 </td></tr>\n",
       "\t<tr><td>Guatemala</td><td>Male     </td><td>77.04710 </td><td>15.11444 </td></tr>\n",
       "</tbody>\n",
       "</table>\n",
       "</dd>\n",
       "\t<dt>$df_row_grp_stats</dt>\n",
       "\t\t<dd><table>\n",
       "<thead><tr><th scope=col>hgt.S.country.sex.Cebu.Female.mean</th><th scope=col>hgt.S.country.sex.Cebu.Female.sd</th><th scope=col>hgt.S.country.sex.Cebu.Male.mean</th><th scope=col>hgt.S.country.sex.Cebu.Male.sd</th><th scope=col>hgt.S.country.sex.Guatemala.Female.mean</th><th scope=col>hgt.S.country.sex.Guatemala.Female.sd</th><th scope=col>hgt.S.country.sex.Guatemala.Male.mean</th><th scope=col>hgt.S.country.sex.Guatemala.Male.sd</th></tr></thead>\n",
       "<tbody>\n",
       "\t<tr><td>84.61326</td><td>32.53651</td><td>87.02836</td><td>34.9909 </td><td>76.58771</td><td>15.71801</td><td>77.0471 </td><td>15.11444</td></tr>\n",
       "</tbody>\n",
       "</table>\n",
       "</dd>\n",
       "</dl>\n"
      ],
      "text/latex": [
       "\\begin{description}\n",
       "\\item[\\$df\\_table\\_grp\\_stats] \\begin{tabular}{r|llll}\n",
       " S.country & sex & mean & sd\\\\\n",
       "\\hline\n",
       "\t Cebu      & Female    & 84.61326  & 32.53651 \\\\\n",
       "\t Cebu      & Male      & 87.02836  & 34.99090 \\\\\n",
       "\t Guatemala & Female    & 76.58771  & 15.71801 \\\\\n",
       "\t Guatemala & Male      & 77.04710  & 15.11444 \\\\\n",
       "\\end{tabular}\n",
       "\n",
       "\\item[\\$df\\_row\\_grp\\_stats] \\begin{tabular}{r|llllllll}\n",
       " hgt.S.country.sex.Cebu.Female.mean & hgt.S.country.sex.Cebu.Female.sd & hgt.S.country.sex.Cebu.Male.mean & hgt.S.country.sex.Cebu.Male.sd & hgt.S.country.sex.Guatemala.Female.mean & hgt.S.country.sex.Guatemala.Female.sd & hgt.S.country.sex.Guatemala.Male.mean & hgt.S.country.sex.Guatemala.Male.sd\\\\\n",
       "\\hline\n",
       "\t 84.61326 & 32.53651 & 87.02836 & 34.9909  & 76.58771 & 15.71801 & 77.0471  & 15.11444\\\\\n",
       "\\end{tabular}\n",
       "\n",
       "\\end{description}\n"
      ],
      "text/markdown": [
       "$df_table_grp_stats\n",
       ":   \n",
       "| S.country | sex | mean | sd |\n",
       "|---|---|---|---|\n",
       "| Cebu      | Female    | 84.61326  | 32.53651  |\n",
       "| Cebu      | Male      | 87.02836  | 34.99090  |\n",
       "| Guatemala | Female    | 76.58771  | 15.71801  |\n",
       "| Guatemala | Male      | 77.04710  | 15.11444  |\n",
       "\n",
       "\n",
       "$df_row_grp_stats\n",
       ":   \n",
       "| hgt.S.country.sex.Cebu.Female.mean | hgt.S.country.sex.Cebu.Female.sd | hgt.S.country.sex.Cebu.Male.mean | hgt.S.country.sex.Cebu.Male.sd | hgt.S.country.sex.Guatemala.Female.mean | hgt.S.country.sex.Guatemala.Female.sd | hgt.S.country.sex.Guatemala.Male.mean | hgt.S.country.sex.Guatemala.Male.sd |\n",
       "|---|---|---|---|---|---|---|---|\n",
       "| 84.61326 | 32.53651 | 87.02836 | 34.9909  | 76.58771 | 15.71801 | 77.0471  | 15.11444 |\n",
       "\n",
       "\n",
       "\n",
       "\n"
      ],
      "text/plain": [
       "$df_table_grp_stats\n",
       "# A tibble: 4 x 4\n",
       "# Groups:   S.country [2]\n",
       "  S.country sex     mean    sd\n",
       "  <chr>     <chr>  <dbl> <dbl>\n",
       "1 Cebu      Female  84.6  32.5\n",
       "2 Cebu      Male    87.0  35.0\n",
       "3 Guatemala Female  76.6  15.7\n",
       "4 Guatemala Male    77.0  15.1\n",
       "\n",
       "$df_row_grp_stats\n",
       "# A tibble: 1 x 8\n",
       "  hgt.S.country.s~ hgt.S.country.s~ hgt.S.country.s~ hgt.S.country.s~\n",
       "             <dbl>            <dbl>            <dbl>            <dbl>\n",
       "1             84.6             32.5             87.0             35.0\n",
       "# ... with 4 more variables: hgt.S.country.sex.Guatemala.Female.mean <dbl>,\n",
       "#   hgt.S.country.sex.Guatemala.Female.sd <dbl>,\n",
       "#   hgt.S.country.sex.Guatemala.Male.mean <dbl>,\n",
       "#   hgt.S.country.sex.Guatemala.Male.sd <dbl>\n"
      ]
     },
     "metadata": {},
     "output_type": "display_data"
    }
   ],
   "source": [
    "ff_summ_by_group_summ_one(df.select, vars.group = vars.group, var.numeric = var.numeric, str.stats.specify = c('mean', 'sd'))"
   ]
  },
  {
   "cell_type": "markdown",
   "metadata": {},
   "source": [
    "### Specify One Specific Statistics"
   ]
  },
  {
   "cell_type": "code",
   "execution_count": 65,
   "metadata": {},
   "outputs": [
    {
     "data": {
      "text/html": [
       "<dl>\n",
       "\t<dt>$df_table_grp_stats</dt>\n",
       "\t\t<dd><table>\n",
       "<thead><tr><th scope=col>S.country</th><th scope=col>sex</th><th scope=col>mean</th></tr></thead>\n",
       "<tbody>\n",
       "\t<tr><td>Cebu     </td><td>Female   </td><td>84.61326 </td></tr>\n",
       "\t<tr><td>Cebu     </td><td>Male     </td><td>87.02836 </td></tr>\n",
       "\t<tr><td>Guatemala</td><td>Female   </td><td>76.58771 </td></tr>\n",
       "\t<tr><td>Guatemala</td><td>Male     </td><td>77.04710 </td></tr>\n",
       "</tbody>\n",
       "</table>\n",
       "</dd>\n",
       "\t<dt>$df_row_grp_stats</dt>\n",
       "\t\t<dd><table>\n",
       "<thead><tr><th scope=col>hgt.S.country.sex.Cebu.Female.mean</th><th scope=col>hgt.S.country.sex.Cebu.Male.mean</th><th scope=col>hgt.S.country.sex.Guatemala.Female.mean</th><th scope=col>hgt.S.country.sex.Guatemala.Male.mean</th></tr></thead>\n",
       "<tbody>\n",
       "\t<tr><td>84.61326</td><td>87.02836</td><td>76.58771</td><td>77.0471 </td></tr>\n",
       "</tbody>\n",
       "</table>\n",
       "</dd>\n",
       "</dl>\n"
      ],
      "text/latex": [
       "\\begin{description}\n",
       "\\item[\\$df\\_table\\_grp\\_stats] \\begin{tabular}{r|lll}\n",
       " S.country & sex & mean\\\\\n",
       "\\hline\n",
       "\t Cebu      & Female    & 84.61326 \\\\\n",
       "\t Cebu      & Male      & 87.02836 \\\\\n",
       "\t Guatemala & Female    & 76.58771 \\\\\n",
       "\t Guatemala & Male      & 77.04710 \\\\\n",
       "\\end{tabular}\n",
       "\n",
       "\\item[\\$df\\_row\\_grp\\_stats] \\begin{tabular}{r|llll}\n",
       " hgt.S.country.sex.Cebu.Female.mean & hgt.S.country.sex.Cebu.Male.mean & hgt.S.country.sex.Guatemala.Female.mean & hgt.S.country.sex.Guatemala.Male.mean\\\\\n",
       "\\hline\n",
       "\t 84.61326 & 87.02836 & 76.58771 & 77.0471 \\\\\n",
       "\\end{tabular}\n",
       "\n",
       "\\end{description}\n"
      ],
      "text/markdown": [
       "$df_table_grp_stats\n",
       ":   \n",
       "| S.country | sex | mean |\n",
       "|---|---|---|\n",
       "| Cebu      | Female    | 84.61326  |\n",
       "| Cebu      | Male      | 87.02836  |\n",
       "| Guatemala | Female    | 76.58771  |\n",
       "| Guatemala | Male      | 77.04710  |\n",
       "\n",
       "\n",
       "$df_row_grp_stats\n",
       ":   \n",
       "| hgt.S.country.sex.Cebu.Female.mean | hgt.S.country.sex.Cebu.Male.mean | hgt.S.country.sex.Guatemala.Female.mean | hgt.S.country.sex.Guatemala.Male.mean |\n",
       "|---|---|---|---|\n",
       "| 84.61326 | 87.02836 | 76.58771 | 77.0471  |\n",
       "\n",
       "\n",
       "\n",
       "\n"
      ],
      "text/plain": [
       "$df_table_grp_stats\n",
       "# A tibble: 4 x 3\n",
       "# Groups:   S.country [2]\n",
       "  S.country sex     mean\n",
       "  <chr>     <chr>  <dbl>\n",
       "1 Cebu      Female  84.6\n",
       "2 Cebu      Male    87.0\n",
       "3 Guatemala Female  76.6\n",
       "4 Guatemala Male    77.0\n",
       "\n",
       "$df_row_grp_stats\n",
       "# A tibble: 1 x 4\n",
       "  hgt.S.country.sex.~ hgt.S.country.sex.~ hgt.S.country.sex.~ hgt.S.country.sex~\n",
       "                <dbl>               <dbl>               <dbl>              <dbl>\n",
       "1                84.6                87.0                76.6               77.0\n"
      ]
     },
     "metadata": {},
     "output_type": "display_data"
    }
   ],
   "source": [
    "ff_summ_by_group_summ_one(df.select, vars.group = vars.group, var.numeric = var.numeric, str.stats.specify = c('mean'))"
   ]
  }
 ],
 "metadata": {
  "kernelspec": {
   "display_name": "R",
   "language": "R",
   "name": "ir"
  },
  "language_info": {
   "codemirror_mode": "r",
   "file_extension": ".r",
   "mimetype": "text/x-r-source",
   "name": "R",
   "pygments_lexer": "r",
   "version": "3.5.1"
  }
 },
 "nbformat": 4,
 "nbformat_minor": 2
}
