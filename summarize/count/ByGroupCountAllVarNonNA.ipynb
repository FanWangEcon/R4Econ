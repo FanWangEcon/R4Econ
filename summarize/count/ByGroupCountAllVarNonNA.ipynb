{
 "cells": [
  {
   "cell_type": "markdown",
   "metadata": {},
   "source": [
    "Back to **[Fan](https://fanwangecon.github.io/)**'s R4Econ Homepage **[Table of Content](https://fanwangecon.github.io/R4Econ/)**\n",
    "\n",
    "# By Group, Count non-NA observations of All Variables\n",
    "\n",
    "Within groups, the number of non-NA observations for some list of variables. \n",
    "\n",
    "In some dataset, not all variables are observed at all observations. \n",
    "\n",
    "It is often important to check on the number of non-NA values across observations/variables, especially if these variables are to enter some regression together. \n",
    "\n",
    "If we see that some variables are not observed much within some groups, we have to consider perhaps not including that variable in regression. "
   ]
  },
  {
   "cell_type": "markdown",
   "metadata": {},
   "source": [
    "## Function\n",
    "\n",
    "This function takes in dataframe and a sym list of grouping variables."
   ]
  },
  {
   "cell_type": "code",
   "execution_count": 25,
   "metadata": {},
   "outputs": [],
   "source": [
    "# Data Function\n",
    "f.by.group.vars.obs <- function (df, group.vars = c('S.country', 'svymthRound'), graph=TRUE) {\n",
    "    \n",
    "    df.group <- df %>% group_by(!!!syms(group.vars)) %>%\n",
    "            arrange(!!!syms(group.vars)) %>%\n",
    "            summarise_if(is.numeric, funs(sum(is.na(.)==0)))\n",
    "    \n",
    "    if (graph){\n",
    "        graph <- graphf.by.group.vars.obs(df.group, group.vars)\n",
    "        return(list(df=df.group, graph=graph))\n",
    "    } else {\n",
    "        return(list(df=df.group))\n",
    "    }\n",
    "}"
   ]
  },
  {
   "cell_type": "code",
   "execution_count": 26,
   "metadata": {},
   "outputs": [],
   "source": [
    "# Graphing Function\n",
    "graphf.by.group.vars.obs <- function(df.by.group, group.vars = c('S.country', 'svymthRound')) {\n",
    "    color.var <- group.vars[1]\n",
    "    x.var <- group.vars[2]\n",
    "\n",
    "    # x-var as factor\n",
    "    df.by.group[[x.var]] <- factor(df.by.group[[x.var]])\n",
    "\n",
    "    # Graph Size\n",
    "    options(repr.plot.width = 9, repr.plot.height = 10)\n",
    "\n",
    "    # Titling\n",
    "    graph.title <- sprintf('Number of Observations Each Variable By (%s and %s) Groups', \n",
    "                           color.var, x.var)\n",
    "    graph.caption <- sprintf(\n",
    "        paste0('Jitter/Random Hgt/Wgt Guat/Cebu Data\\n',\n",
    "               'see:https://fanwangecon.github.io/HeightProfile/'))\n",
    "    graph.title.x <- 'Month Groups'\n",
    "    graph.title.y <- 'Number of Observations'\n",
    "\n",
    "    # Graphing\n",
    "    graph <- df.by.group %>% \n",
    "        gather(variable, value, -one_of(group.vars)) %>% \n",
    "        ggplot(aes(x=!!sym(x.var), y=value, fill=!!sym(color.var))) + \n",
    "        geom_bar(stat = 'identity', position=\"dodge\") + \n",
    "        facet_wrap( ~ variable, ncol=2) + \n",
    "        labs(title = graph.title,\n",
    "             x = graph.title.x, y = graph.title.y,\n",
    "             caption = graph.caption) +\n",
    "        theme(axis.text.x = element_text(angle = 90, hjust = 1))\n",
    "    \n",
    "    return(graph)\n",
    "}"
   ]
  },
  {
   "cell_type": "markdown",
   "metadata": {},
   "source": [
    "## Data\n",
    "\n",
    "In our sample dataset, the number of nutrition/height/income etc information observed within each country and month of age group are different. \n",
    "\n",
    "We have a panel dataset for children observed over different months of age. \n",
    "\n",
    "We have two key grouping variables:\n",
    "1. country: data are observed for guatemala and cebu\n",
    "2. month-age (survey month round=svymthRound): different months of age at which each individual child is observed\n",
    "\n",
    "A child could be observed for many months, or just a few months. A child's height information could be observed for more months-of-age than nutritional intake information. \n",
    "\n",
    "We eventually want to run regressions where the outcome is height/weight and the input is nutrition. The regressions will be at the month-of-age level. We need to know how many times different variables are observed at the month-of-age level."
   ]
  },
  {
   "cell_type": "code",
   "execution_count": 27,
   "metadata": {},
   "outputs": [
    {
     "name": "stderr",
     "output_type": "stream",
     "text": [
      "Parsed with column specification:\n",
      "cols(\n",
      "  S.country = col_character(),\n",
      "  vil.id = col_double(),\n",
      "  indi.id = col_double(),\n",
      "  sex = col_character(),\n",
      "  svymthRound = col_double(),\n",
      "  momEdu = col_double(),\n",
      "  wealthIdx = col_double(),\n",
      "  hgt = col_double(),\n",
      "  wgt = col_double(),\n",
      "  hgt0 = col_double(),\n",
      "  wgt0 = col_double(),\n",
      "  prot = col_double(),\n",
      "  cal = col_double(),\n",
      "  p.A.prot = col_double(),\n",
      "  p.A.nProt = col_double()\n",
      ")\n"
     ]
    }
   ],
   "source": [
    "# Library\n",
    "library(tidyverse)\n",
    "\n",
    "# Load Sample Data\n",
    "setwd('C:/Users/fan/R4Econ/_data/')\n",
    "df <- read_csv('height_weight.csv')"
   ]
  },
  {
   "cell_type": "markdown",
   "metadata": {},
   "source": [
    "## Use Function with Data\n",
    "\n",
    "The results below show that:\n",
    "\n",
    "1. data in guatemala and cebu are observed at different months. \n",
    "2. there are some age-months in which data is observed in both Guatemala and Cebu"
   ]
  },
  {
   "cell_type": "code",
   "execution_count": 28,
   "metadata": {},
   "outputs": [],
   "source": [
    "group.vars <- c('S.country', 'svymthRound')\n",
    "group.vars.obs.df <- f.by.group.vars.obs(df, group.vars)"
   ]
  },
  {
   "cell_type": "markdown",
   "metadata": {},
   "source": [
    "### Table\n",
    "\n",
    "This is the tabular version of results"
   ]
  },
  {
   "cell_type": "code",
   "execution_count": 29,
   "metadata": {},
   "outputs": [
    {
     "data": {
      "text/html": [
       "<table>\n",
       "<thead><tr><th scope=col>S.country</th><th scope=col>svymthRound</th><th scope=col>vil.id</th><th scope=col>indi.id</th><th scope=col>momEdu</th><th scope=col>wealthIdx</th><th scope=col>hgt</th><th scope=col>wgt</th><th scope=col>hgt0</th><th scope=col>wgt0</th><th scope=col>prot</th><th scope=col>cal</th><th scope=col>p.A.prot</th><th scope=col>p.A.nProt</th></tr></thead>\n",
       "<tbody>\n",
       "\t<tr><td>Cebu     </td><td>  0      </td><td>1343     </td><td>1343     </td><td>1343     </td><td>1343     </td><td>1341     </td><td>1341     </td><td>1341     </td><td>1341     </td><td>1343     </td><td>1343     </td><td>1238     </td><td>1238     </td></tr>\n",
       "\t<tr><td>Cebu     </td><td>  2      </td><td>1343     </td><td>1343     </td><td>1343     </td><td>1343     </td><td>1319     </td><td>1319     </td><td>1341     </td><td>1341     </td><td>1320     </td><td>1320     </td><td>1205     </td><td>1205     </td></tr>\n",
       "\t<tr><td>Cebu     </td><td>  4      </td><td>1343     </td><td>1343     </td><td>1343     </td><td>1343     </td><td>1326     </td><td>1328     </td><td>1341     </td><td>1341     </td><td>1328     </td><td>1328     </td><td>1218     </td><td>1218     </td></tr>\n",
       "\t<tr><td>Cebu     </td><td>  6      </td><td>1343     </td><td>1343     </td><td>1343     </td><td>1343     </td><td>1343     </td><td>1343     </td><td>1341     </td><td>1341     </td><td>1342     </td><td>1342     </td><td>1243     </td><td>1243     </td></tr>\n",
       "\t<tr><td>Cebu     </td><td>  8      </td><td>1343     </td><td>1343     </td><td>1343     </td><td>1343     </td><td>1293     </td><td>1292     </td><td>1341     </td><td>1341     </td><td>1294     </td><td>1294     </td><td>1195     </td><td>1195     </td></tr>\n",
       "\t<tr><td>Cebu     </td><td> 10      </td><td>1343     </td><td>1343     </td><td>1343     </td><td>1343     </td><td>1274     </td><td>1276     </td><td>1341     </td><td>1341     </td><td>1277     </td><td>1277     </td><td>1167     </td><td>1167     </td></tr>\n",
       "\t<tr><td>Cebu     </td><td> 12      </td><td>1343     </td><td>1343     </td><td>1343     </td><td>1343     </td><td>1259     </td><td>1259     </td><td>1341     </td><td>1341     </td><td>1260     </td><td>1260     </td><td>1142     </td><td>1142     </td></tr>\n",
       "\t<tr><td>Cebu     </td><td> 14      </td><td>1343     </td><td>1343     </td><td>1343     </td><td>1343     </td><td>1238     </td><td>1238     </td><td>1341     </td><td>1341     </td><td>1239     </td><td>1239     </td><td>1133     </td><td>1133     </td></tr>\n",
       "\t<tr><td>Cebu     </td><td> 16      </td><td>1343     </td><td>1343     </td><td>1343     </td><td>1343     </td><td>1213     </td><td>1214     </td><td>1341     </td><td>1341     </td><td>1215     </td><td>1215     </td><td>1123     </td><td>1123     </td></tr>\n",
       "\t<tr><td>Cebu     </td><td> 18      </td><td>1343     </td><td>1343     </td><td>1343     </td><td>1343     </td><td>1203     </td><td>1205     </td><td>1341     </td><td>1341     </td><td>1205     </td><td>1205     </td><td>1118     </td><td>1118     </td></tr>\n",
       "\t<tr><td>Cebu     </td><td> 20      </td><td>1343     </td><td>1343     </td><td>1343     </td><td>1343     </td><td>1207     </td><td>1207     </td><td>1341     </td><td>1341     </td><td>1210     </td><td>1210     </td><td>1126     </td><td>1126     </td></tr>\n",
       "\t<tr><td>Cebu     </td><td> 22      </td><td>1343     </td><td>1343     </td><td>1343     </td><td>1343     </td><td>1185     </td><td>1186     </td><td>1341     </td><td>1341     </td><td>1191     </td><td>1191     </td><td>1099     </td><td>1099     </td></tr>\n",
       "\t<tr><td>Cebu     </td><td> 24      </td><td>1343     </td><td>1343     </td><td>1343     </td><td>1343     </td><td>1174     </td><td>1176     </td><td>1341     </td><td>1341     </td><td>1181     </td><td>1181     </td><td>1086     </td><td>1086     </td></tr>\n",
       "\t<tr><td>Cebu     </td><td>102      </td><td>1343     </td><td>1343     </td><td>1343     </td><td>1343     </td><td>1067     </td><td>1067     </td><td>1341     </td><td>1341     </td><td>   0     </td><td>   0     </td><td>   0     </td><td>   0     </td></tr>\n",
       "\t<tr><td>Cebu     </td><td>138      </td><td>1343     </td><td>1343     </td><td>1343     </td><td>1343     </td><td>1033     </td><td>1034     </td><td>1341     </td><td>1341     </td><td>   0     </td><td>   0     </td><td>   0     </td><td>   0     </td></tr>\n",
       "\t<tr><td>Cebu     </td><td>187      </td><td>1342     </td><td>1342     </td><td>1342     </td><td>1342     </td><td>1001     </td><td>1001     </td><td>1340     </td><td>1340     </td><td>   0     </td><td>   0     </td><td>   0     </td><td>   0     </td></tr>\n",
       "\t<tr><td>Cebu     </td><td>224      </td><td>1341     </td><td>1341     </td><td>1341     </td><td>1341     </td><td> 964     </td><td> 964     </td><td>1339     </td><td>1339     </td><td>   0     </td><td>   0     </td><td>   0     </td><td>   0     </td></tr>\n",
       "\t<tr><td>Cebu     </td><td>258      </td><td>1341     </td><td>1341     </td><td>1341     </td><td>1341     </td><td> 911     </td><td> 911     </td><td>1339     </td><td>1339     </td><td>   0     </td><td>   0     </td><td>   0     </td><td>   0     </td></tr>\n",
       "\t<tr><td>Guatemala</td><td>  0      </td><td> 680     </td><td> 680     </td><td>   0     </td><td> 680     </td><td> 354     </td><td> 353     </td><td> 354     </td><td> 353     </td><td>   0     </td><td>   0     </td><td> 356     </td><td> 356     </td></tr>\n",
       "\t<tr><td>Guatemala</td><td>  3      </td><td> 680     </td><td> 680     </td><td>   0     </td><td> 680     </td><td> 422     </td><td> 422     </td><td> 354     </td><td> 353     </td><td> 183     </td><td> 183     </td><td> 423     </td><td> 423     </td></tr>\n",
       "\t<tr><td>Guatemala</td><td>  6      </td><td> 680     </td><td> 680     </td><td>   0     </td><td> 680     </td><td> 446     </td><td> 448     </td><td> 354     </td><td> 353     </td><td> 200     </td><td> 200     </td><td> 448     </td><td> 448     </td></tr>\n",
       "\t<tr><td>Guatemala</td><td>  9      </td><td> 680     </td><td> 680     </td><td>   0     </td><td> 680     </td><td> 466     </td><td> 466     </td><td> 354     </td><td> 353     </td><td> 211     </td><td> 211     </td><td> 468     </td><td> 468     </td></tr>\n",
       "\t<tr><td>Guatemala</td><td> 12      </td><td> 680     </td><td> 680     </td><td>   0     </td><td> 680     </td><td> 475     </td><td> 479     </td><td> 354     </td><td> 353     </td><td> 214     </td><td> 214     </td><td> 479     </td><td> 479     </td></tr>\n",
       "\t<tr><td>Guatemala</td><td> 15      </td><td> 680     </td><td> 680     </td><td>   0     </td><td> 680     </td><td> 463     </td><td> 464     </td><td> 354     </td><td> 353     </td><td> 414     </td><td> 414     </td><td> 464     </td><td> 464     </td></tr>\n",
       "\t<tr><td>Guatemala</td><td> 18      </td><td> 680     </td><td> 680     </td><td>   0     </td><td> 680     </td><td> 467     </td><td> 468     </td><td> 354     </td><td> 353     </td><td> 410     </td><td> 410     </td><td> 468     </td><td> 468     </td></tr>\n",
       "\t<tr><td>Guatemala</td><td> 21      </td><td> 680     </td><td> 680     </td><td>   0     </td><td> 680     </td><td> 442     </td><td> 444     </td><td> 354     </td><td> 353     </td><td> 409     </td><td> 409     </td><td> 444     </td><td> 444     </td></tr>\n",
       "\t<tr><td>Guatemala</td><td> 24      </td><td> 680     </td><td> 680     </td><td>   0     </td><td> 680     </td><td> 463     </td><td> 465     </td><td> 354     </td><td> 353     </td><td> 408     </td><td> 408     </td><td> 465     </td><td> 465     </td></tr>\n",
       "\t<tr><td>Guatemala</td><td> 30      </td><td> 680     </td><td> 680     </td><td>   0     </td><td> 680     </td><td> 437     </td><td> 436     </td><td> 354     </td><td> 353     </td><td> 400     </td><td> 400     </td><td> 438     </td><td> 438     </td></tr>\n",
       "\t<tr><td>Guatemala</td><td> 36      </td><td> 680     </td><td> 680     </td><td>   0     </td><td> 680     </td><td> 436     </td><td> 435     </td><td> 354     </td><td> 353     </td><td> 382     </td><td> 382     </td><td> 436     </td><td> 436     </td></tr>\n",
       "\t<tr><td>Guatemala</td><td> 42      </td><td> 680     </td><td> 680     </td><td>   0     </td><td> 680     </td><td> 423     </td><td> 422     </td><td> 354     </td><td> 353     </td><td> 383     </td><td> 383     </td><td> 424     </td><td> 424     </td></tr>\n",
       "\t<tr><td>Guatemala</td><td> 48      </td><td> 680     </td><td> 680     </td><td>   0     </td><td> 680     </td><td> 396     </td><td> 397     </td><td> 354     </td><td> 353     </td><td> 360     </td><td> 360     </td><td> 398     </td><td> 398     </td></tr>\n",
       "\t<tr><td>Guatemala</td><td> 60      </td><td> 680     </td><td> 680     </td><td>   0     </td><td> 680     </td><td> 336     </td><td> 336     </td><td> 354     </td><td> 353     </td><td> 324     </td><td> 324     </td><td> 336     </td><td> 336     </td></tr>\n",
       "\t<tr><td>Guatemala</td><td> 72      </td><td> 680     </td><td> 680     </td><td>   0     </td><td> 680     </td><td> 276     </td><td> 276     </td><td> 354     </td><td> 353     </td><td>  88     </td><td>  88     </td><td> 277     </td><td> 277     </td></tr>\n",
       "\t<tr><td>Guatemala</td><td> 84      </td><td> 680     </td><td> 680     </td><td>   0     </td><td> 680     </td><td> 219     </td><td> 219     </td><td> 354     </td><td> 353     </td><td>  80     </td><td>  80     </td><td> 220     </td><td> 220     </td></tr>\n",
       "</tbody>\n",
       "</table>\n"
      ],
      "text/latex": [
       "\\begin{tabular}{r|llllllllllllll}\n",
       " S.country & svymthRound & vil.id & indi.id & momEdu & wealthIdx & hgt & wgt & hgt0 & wgt0 & prot & cal & p.A.prot & p.A.nProt\\\\\n",
       "\\hline\n",
       "\t Cebu      &   0       & 1343      & 1343      & 1343      & 1343      & 1341      & 1341      & 1341      & 1341      & 1343      & 1343      & 1238      & 1238     \\\\\n",
       "\t Cebu      &   2       & 1343      & 1343      & 1343      & 1343      & 1319      & 1319      & 1341      & 1341      & 1320      & 1320      & 1205      & 1205     \\\\\n",
       "\t Cebu      &   4       & 1343      & 1343      & 1343      & 1343      & 1326      & 1328      & 1341      & 1341      & 1328      & 1328      & 1218      & 1218     \\\\\n",
       "\t Cebu      &   6       & 1343      & 1343      & 1343      & 1343      & 1343      & 1343      & 1341      & 1341      & 1342      & 1342      & 1243      & 1243     \\\\\n",
       "\t Cebu      &   8       & 1343      & 1343      & 1343      & 1343      & 1293      & 1292      & 1341      & 1341      & 1294      & 1294      & 1195      & 1195     \\\\\n",
       "\t Cebu      &  10       & 1343      & 1343      & 1343      & 1343      & 1274      & 1276      & 1341      & 1341      & 1277      & 1277      & 1167      & 1167     \\\\\n",
       "\t Cebu      &  12       & 1343      & 1343      & 1343      & 1343      & 1259      & 1259      & 1341      & 1341      & 1260      & 1260      & 1142      & 1142     \\\\\n",
       "\t Cebu      &  14       & 1343      & 1343      & 1343      & 1343      & 1238      & 1238      & 1341      & 1341      & 1239      & 1239      & 1133      & 1133     \\\\\n",
       "\t Cebu      &  16       & 1343      & 1343      & 1343      & 1343      & 1213      & 1214      & 1341      & 1341      & 1215      & 1215      & 1123      & 1123     \\\\\n",
       "\t Cebu      &  18       & 1343      & 1343      & 1343      & 1343      & 1203      & 1205      & 1341      & 1341      & 1205      & 1205      & 1118      & 1118     \\\\\n",
       "\t Cebu      &  20       & 1343      & 1343      & 1343      & 1343      & 1207      & 1207      & 1341      & 1341      & 1210      & 1210      & 1126      & 1126     \\\\\n",
       "\t Cebu      &  22       & 1343      & 1343      & 1343      & 1343      & 1185      & 1186      & 1341      & 1341      & 1191      & 1191      & 1099      & 1099     \\\\\n",
       "\t Cebu      &  24       & 1343      & 1343      & 1343      & 1343      & 1174      & 1176      & 1341      & 1341      & 1181      & 1181      & 1086      & 1086     \\\\\n",
       "\t Cebu      & 102       & 1343      & 1343      & 1343      & 1343      & 1067      & 1067      & 1341      & 1341      &    0      &    0      &    0      &    0     \\\\\n",
       "\t Cebu      & 138       & 1343      & 1343      & 1343      & 1343      & 1033      & 1034      & 1341      & 1341      &    0      &    0      &    0      &    0     \\\\\n",
       "\t Cebu      & 187       & 1342      & 1342      & 1342      & 1342      & 1001      & 1001      & 1340      & 1340      &    0      &    0      &    0      &    0     \\\\\n",
       "\t Cebu      & 224       & 1341      & 1341      & 1341      & 1341      &  964      &  964      & 1339      & 1339      &    0      &    0      &    0      &    0     \\\\\n",
       "\t Cebu      & 258       & 1341      & 1341      & 1341      & 1341      &  911      &  911      & 1339      & 1339      &    0      &    0      &    0      &    0     \\\\\n",
       "\t Guatemala &   0       &  680      &  680      &    0      &  680      &  354      &  353      &  354      &  353      &    0      &    0      &  356      &  356     \\\\\n",
       "\t Guatemala &   3       &  680      &  680      &    0      &  680      &  422      &  422      &  354      &  353      &  183      &  183      &  423      &  423     \\\\\n",
       "\t Guatemala &   6       &  680      &  680      &    0      &  680      &  446      &  448      &  354      &  353      &  200      &  200      &  448      &  448     \\\\\n",
       "\t Guatemala &   9       &  680      &  680      &    0      &  680      &  466      &  466      &  354      &  353      &  211      &  211      &  468      &  468     \\\\\n",
       "\t Guatemala &  12       &  680      &  680      &    0      &  680      &  475      &  479      &  354      &  353      &  214      &  214      &  479      &  479     \\\\\n",
       "\t Guatemala &  15       &  680      &  680      &    0      &  680      &  463      &  464      &  354      &  353      &  414      &  414      &  464      &  464     \\\\\n",
       "\t Guatemala &  18       &  680      &  680      &    0      &  680      &  467      &  468      &  354      &  353      &  410      &  410      &  468      &  468     \\\\\n",
       "\t Guatemala &  21       &  680      &  680      &    0      &  680      &  442      &  444      &  354      &  353      &  409      &  409      &  444      &  444     \\\\\n",
       "\t Guatemala &  24       &  680      &  680      &    0      &  680      &  463      &  465      &  354      &  353      &  408      &  408      &  465      &  465     \\\\\n",
       "\t Guatemala &  30       &  680      &  680      &    0      &  680      &  437      &  436      &  354      &  353      &  400      &  400      &  438      &  438     \\\\\n",
       "\t Guatemala &  36       &  680      &  680      &    0      &  680      &  436      &  435      &  354      &  353      &  382      &  382      &  436      &  436     \\\\\n",
       "\t Guatemala &  42       &  680      &  680      &    0      &  680      &  423      &  422      &  354      &  353      &  383      &  383      &  424      &  424     \\\\\n",
       "\t Guatemala &  48       &  680      &  680      &    0      &  680      &  396      &  397      &  354      &  353      &  360      &  360      &  398      &  398     \\\\\n",
       "\t Guatemala &  60       &  680      &  680      &    0      &  680      &  336      &  336      &  354      &  353      &  324      &  324      &  336      &  336     \\\\\n",
       "\t Guatemala &  72       &  680      &  680      &    0      &  680      &  276      &  276      &  354      &  353      &   88      &   88      &  277      &  277     \\\\\n",
       "\t Guatemala &  84       &  680      &  680      &    0      &  680      &  219      &  219      &  354      &  353      &   80      &   80      &  220      &  220     \\\\\n",
       "\\end{tabular}\n"
      ],
      "text/markdown": [
       "\n",
       "| S.country | svymthRound | vil.id | indi.id | momEdu | wealthIdx | hgt | wgt | hgt0 | wgt0 | prot | cal | p.A.prot | p.A.nProt |\n",
       "|---|---|---|---|---|---|---|---|---|---|---|---|---|---|\n",
       "| Cebu      |   0       | 1343      | 1343      | 1343      | 1343      | 1341      | 1341      | 1341      | 1341      | 1343      | 1343      | 1238      | 1238      |\n",
       "| Cebu      |   2       | 1343      | 1343      | 1343      | 1343      | 1319      | 1319      | 1341      | 1341      | 1320      | 1320      | 1205      | 1205      |\n",
       "| Cebu      |   4       | 1343      | 1343      | 1343      | 1343      | 1326      | 1328      | 1341      | 1341      | 1328      | 1328      | 1218      | 1218      |\n",
       "| Cebu      |   6       | 1343      | 1343      | 1343      | 1343      | 1343      | 1343      | 1341      | 1341      | 1342      | 1342      | 1243      | 1243      |\n",
       "| Cebu      |   8       | 1343      | 1343      | 1343      | 1343      | 1293      | 1292      | 1341      | 1341      | 1294      | 1294      | 1195      | 1195      |\n",
       "| Cebu      |  10       | 1343      | 1343      | 1343      | 1343      | 1274      | 1276      | 1341      | 1341      | 1277      | 1277      | 1167      | 1167      |\n",
       "| Cebu      |  12       | 1343      | 1343      | 1343      | 1343      | 1259      | 1259      | 1341      | 1341      | 1260      | 1260      | 1142      | 1142      |\n",
       "| Cebu      |  14       | 1343      | 1343      | 1343      | 1343      | 1238      | 1238      | 1341      | 1341      | 1239      | 1239      | 1133      | 1133      |\n",
       "| Cebu      |  16       | 1343      | 1343      | 1343      | 1343      | 1213      | 1214      | 1341      | 1341      | 1215      | 1215      | 1123      | 1123      |\n",
       "| Cebu      |  18       | 1343      | 1343      | 1343      | 1343      | 1203      | 1205      | 1341      | 1341      | 1205      | 1205      | 1118      | 1118      |\n",
       "| Cebu      |  20       | 1343      | 1343      | 1343      | 1343      | 1207      | 1207      | 1341      | 1341      | 1210      | 1210      | 1126      | 1126      |\n",
       "| Cebu      |  22       | 1343      | 1343      | 1343      | 1343      | 1185      | 1186      | 1341      | 1341      | 1191      | 1191      | 1099      | 1099      |\n",
       "| Cebu      |  24       | 1343      | 1343      | 1343      | 1343      | 1174      | 1176      | 1341      | 1341      | 1181      | 1181      | 1086      | 1086      |\n",
       "| Cebu      | 102       | 1343      | 1343      | 1343      | 1343      | 1067      | 1067      | 1341      | 1341      |    0      |    0      |    0      |    0      |\n",
       "| Cebu      | 138       | 1343      | 1343      | 1343      | 1343      | 1033      | 1034      | 1341      | 1341      |    0      |    0      |    0      |    0      |\n",
       "| Cebu      | 187       | 1342      | 1342      | 1342      | 1342      | 1001      | 1001      | 1340      | 1340      |    0      |    0      |    0      |    0      |\n",
       "| Cebu      | 224       | 1341      | 1341      | 1341      | 1341      |  964      |  964      | 1339      | 1339      |    0      |    0      |    0      |    0      |\n",
       "| Cebu      | 258       | 1341      | 1341      | 1341      | 1341      |  911      |  911      | 1339      | 1339      |    0      |    0      |    0      |    0      |\n",
       "| Guatemala |   0       |  680      |  680      |    0      |  680      |  354      |  353      |  354      |  353      |    0      |    0      |  356      |  356      |\n",
       "| Guatemala |   3       |  680      |  680      |    0      |  680      |  422      |  422      |  354      |  353      |  183      |  183      |  423      |  423      |\n",
       "| Guatemala |   6       |  680      |  680      |    0      |  680      |  446      |  448      |  354      |  353      |  200      |  200      |  448      |  448      |\n",
       "| Guatemala |   9       |  680      |  680      |    0      |  680      |  466      |  466      |  354      |  353      |  211      |  211      |  468      |  468      |\n",
       "| Guatemala |  12       |  680      |  680      |    0      |  680      |  475      |  479      |  354      |  353      |  214      |  214      |  479      |  479      |\n",
       "| Guatemala |  15       |  680      |  680      |    0      |  680      |  463      |  464      |  354      |  353      |  414      |  414      |  464      |  464      |\n",
       "| Guatemala |  18       |  680      |  680      |    0      |  680      |  467      |  468      |  354      |  353      |  410      |  410      |  468      |  468      |\n",
       "| Guatemala |  21       |  680      |  680      |    0      |  680      |  442      |  444      |  354      |  353      |  409      |  409      |  444      |  444      |\n",
       "| Guatemala |  24       |  680      |  680      |    0      |  680      |  463      |  465      |  354      |  353      |  408      |  408      |  465      |  465      |\n",
       "| Guatemala |  30       |  680      |  680      |    0      |  680      |  437      |  436      |  354      |  353      |  400      |  400      |  438      |  438      |\n",
       "| Guatemala |  36       |  680      |  680      |    0      |  680      |  436      |  435      |  354      |  353      |  382      |  382      |  436      |  436      |\n",
       "| Guatemala |  42       |  680      |  680      |    0      |  680      |  423      |  422      |  354      |  353      |  383      |  383      |  424      |  424      |\n",
       "| Guatemala |  48       |  680      |  680      |    0      |  680      |  396      |  397      |  354      |  353      |  360      |  360      |  398      |  398      |\n",
       "| Guatemala |  60       |  680      |  680      |    0      |  680      |  336      |  336      |  354      |  353      |  324      |  324      |  336      |  336      |\n",
       "| Guatemala |  72       |  680      |  680      |    0      |  680      |  276      |  276      |  354      |  353      |   88      |   88      |  277      |  277      |\n",
       "| Guatemala |  84       |  680      |  680      |    0      |  680      |  219      |  219      |  354      |  353      |   80      |   80      |  220      |  220      |\n",
       "\n"
      ],
      "text/plain": [
       "   S.country svymthRound vil.id indi.id momEdu wealthIdx hgt  wgt  hgt0 wgt0\n",
       "1  Cebu        0         1343   1343    1343   1343      1341 1341 1341 1341\n",
       "2  Cebu        2         1343   1343    1343   1343      1319 1319 1341 1341\n",
       "3  Cebu        4         1343   1343    1343   1343      1326 1328 1341 1341\n",
       "4  Cebu        6         1343   1343    1343   1343      1343 1343 1341 1341\n",
       "5  Cebu        8         1343   1343    1343   1343      1293 1292 1341 1341\n",
       "6  Cebu       10         1343   1343    1343   1343      1274 1276 1341 1341\n",
       "7  Cebu       12         1343   1343    1343   1343      1259 1259 1341 1341\n",
       "8  Cebu       14         1343   1343    1343   1343      1238 1238 1341 1341\n",
       "9  Cebu       16         1343   1343    1343   1343      1213 1214 1341 1341\n",
       "10 Cebu       18         1343   1343    1343   1343      1203 1205 1341 1341\n",
       "11 Cebu       20         1343   1343    1343   1343      1207 1207 1341 1341\n",
       "12 Cebu       22         1343   1343    1343   1343      1185 1186 1341 1341\n",
       "13 Cebu       24         1343   1343    1343   1343      1174 1176 1341 1341\n",
       "14 Cebu      102         1343   1343    1343   1343      1067 1067 1341 1341\n",
       "15 Cebu      138         1343   1343    1343   1343      1033 1034 1341 1341\n",
       "16 Cebu      187         1342   1342    1342   1342      1001 1001 1340 1340\n",
       "17 Cebu      224         1341   1341    1341   1341       964  964 1339 1339\n",
       "18 Cebu      258         1341   1341    1341   1341       911  911 1339 1339\n",
       "19 Guatemala   0          680    680       0    680       354  353  354  353\n",
       "20 Guatemala   3          680    680       0    680       422  422  354  353\n",
       "21 Guatemala   6          680    680       0    680       446  448  354  353\n",
       "22 Guatemala   9          680    680       0    680       466  466  354  353\n",
       "23 Guatemala  12          680    680       0    680       475  479  354  353\n",
       "24 Guatemala  15          680    680       0    680       463  464  354  353\n",
       "25 Guatemala  18          680    680       0    680       467  468  354  353\n",
       "26 Guatemala  21          680    680       0    680       442  444  354  353\n",
       "27 Guatemala  24          680    680       0    680       463  465  354  353\n",
       "28 Guatemala  30          680    680       0    680       437  436  354  353\n",
       "29 Guatemala  36          680    680       0    680       436  435  354  353\n",
       "30 Guatemala  42          680    680       0    680       423  422  354  353\n",
       "31 Guatemala  48          680    680       0    680       396  397  354  353\n",
       "32 Guatemala  60          680    680       0    680       336  336  354  353\n",
       "33 Guatemala  72          680    680       0    680       276  276  354  353\n",
       "34 Guatemala  84          680    680       0    680       219  219  354  353\n",
       "   prot cal  p.A.prot p.A.nProt\n",
       "1  1343 1343 1238     1238     \n",
       "2  1320 1320 1205     1205     \n",
       "3  1328 1328 1218     1218     \n",
       "4  1342 1342 1243     1243     \n",
       "5  1294 1294 1195     1195     \n",
       "6  1277 1277 1167     1167     \n",
       "7  1260 1260 1142     1142     \n",
       "8  1239 1239 1133     1133     \n",
       "9  1215 1215 1123     1123     \n",
       "10 1205 1205 1118     1118     \n",
       "11 1210 1210 1126     1126     \n",
       "12 1191 1191 1099     1099     \n",
       "13 1181 1181 1086     1086     \n",
       "14    0    0    0        0     \n",
       "15    0    0    0        0     \n",
       "16    0    0    0        0     \n",
       "17    0    0    0        0     \n",
       "18    0    0    0        0     \n",
       "19    0    0  356      356     \n",
       "20  183  183  423      423     \n",
       "21  200  200  448      448     \n",
       "22  211  211  468      468     \n",
       "23  214  214  479      479     \n",
       "24  414  414  464      464     \n",
       "25  410  410  468      468     \n",
       "26  409  409  444      444     \n",
       "27  408  408  465      465     \n",
       "28  400  400  438      438     \n",
       "29  382  382  436      436     \n",
       "30  383  383  424      424     \n",
       "31  360  360  398      398     \n",
       "32  324  324  336      336     \n",
       "33   88   88  277      277     \n",
       "34   80   80  220      220     "
      ]
     },
     "metadata": {},
     "output_type": "display_data"
    }
   ],
   "source": [
    "group.vars.obs.df$df"
   ]
  },
  {
   "cell_type": "markdown",
   "metadata": {},
   "source": [
    "### Graph\n",
    "\n",
    "This is the graphical version of results"
   ]
  },
  {
   "cell_type": "code",
   "execution_count": 30,
   "metadata": {},
   "outputs": [
    {
     "data": {
      "image/png": "[encoded data removed]",
      "text/plain": [
       "plot without title"
      ]
     },
     "metadata": {},
     "output_type": "display_data"
    }
   ],
   "source": [
    "group.vars.obs.df$graph"
   ]
  }
 ],
 "metadata": {
  "kernelspec": {
   "display_name": "R",
   "language": "R",
   "name": "ir"
  },
  "language_info": {
   "codemirror_mode": "r",
   "file_extension": ".r",
   "mimetype": "text/x-r-source",
   "name": "R",
   "pygments_lexer": "r",
   "version": "3.5.1"
  }
 },
 "nbformat": 4,
 "nbformat_minor": 2
}
