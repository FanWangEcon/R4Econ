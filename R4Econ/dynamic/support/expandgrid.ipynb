{
 "cells": [
  {
   "cell_type": "markdown",
   "metadata": {},
   "source": [
    "# Processing Results from Solving Dynamic Programming Problem using Grids\n",
    "\n",
    "There are several state variables. We solved for the optimal choices and values along grids of the state variables.\n",
    "\n",
    "There are several matrixes/tensors etc that store the value function policy function results where each dimension corresponds to a discretized state space grid. \n",
    "\n",
    "There are also several (unique-valued) grid that store the grid values at which we solved the problems. "
   ]
  },
  {
   "cell_type": "markdown",
   "metadata": {},
   "source": [
    "## Program"
   ]
  },
  {
   "cell_type": "code",
   "execution_count": 48,
   "metadata": {},
   "outputs": [],
   "source": [
    "ff_dyna_sup_expand_grids <- function(ar.st.vars, list.ar.fl, \n",
    "                                     list.ts.valpolmat) {\n",
    "    \n",
    "#     val <- array(c(1, 1.5, 0, 2, 0, 4, 0, 3), dim=c(2, 2, 2))\n",
    "#     pol <- array(runif(8), dim=c(2, 2, 2))\n",
    "#     list.ts.valpolmat <- list(val=val, pol=pol)\n",
    "    \n",
    "#     ar.fl.x <- c(1.1,2.3)\n",
    "#     ar.fl.y <- c(2.1,3.3)\n",
    "#     ar.fl.z <- c(3.1,4.3)\n",
    "#     ar.st.vars <- c('vx', 'vy', 'vz')    \n",
    "#     list.ar.fl <- list(ar.fl.x, ar.fl.y, ar.fl.z)\n",
    "    \n",
    "    mt.fl.expanded <- do.call(expand.grid, list.ar.fl)\n",
    "    colnames(mt.fl.expanded) <- ar.st.vars\n",
    "    df.out <- as_tibble(bind_cols(mt.fl.expanded, list.ts.valpolmat))\n",
    "    \n",
    "    return(df.out)\n",
    "}"
   ]
  },
  {
   "cell_type": "markdown",
   "metadata": {},
   "source": [
    "## Load Data"
   ]
  },
  {
   "cell_type": "code",
   "execution_count": 49,
   "metadata": {},
   "outputs": [],
   "source": [
    "# Library\n",
    "library(tidyverse)\n",
    "library(AER)\n",
    "library(R.matlab)\n",
    "\n",
    "# Load Sample Data\n",
    "setwd('C:/Users/fan/R4Econ/_data/')\n",
    "matfile <- 'vf_az_p_ga_sa0.mat'\n",
    "mat.out <- readMat(matfile)"
   ]
  },
  {
   "cell_type": "markdown",
   "metadata": {},
   "source": [
    "## Test Program "
   ]
  },
  {
   "cell_type": "code",
   "execution_count": 50,
   "metadata": {},
   "outputs": [],
   "source": [
    "# 1 is r1c1t1, 1.5 in r2c1t1, 0 in r1c2t1, etc.\n",
    "# Three dimensions, row first, column second, and tensor third\n",
    "val <- array(c(1, 1.5, 0, 2, 0, 4, 0, 3), dim=c(2, 2, 2))\n",
    "pol <- array(runif(8), dim=c(2, 2, 2))\n",
    "# dim(x)\n",
    "# print(x)\n",
    "       \n",
    "# Suppose the three dimensions above come from some value function problem with three states each solved along a grid\n",
    "ar.fl.x <- c(1.1,2.3)\n",
    "ar.fl.y <- c(2.1,3.3)\n",
    "ar.fl.z <- c(3.1,4.3)\n",
    "ar.st.vars <- c('vx', 'vy', 'vz')\n",
    "\n",
    "# Inputs\n",
    "list.ar.fl <- list(ar.fl.x, ar.fl.y, ar.fl.z)\n",
    "list.ts.valpolmat <- tibble(val=as.numeric(val), pol=as.numeric(pol))"
   ]
  },
  {
   "cell_type": "code",
   "execution_count": 51,
   "metadata": {},
   "outputs": [
    {
     "data": {
      "text/html": [
       "<table>\n",
       "<thead><tr><th scope=col>vx</th><th scope=col>vy</th><th scope=col>vz</th><th scope=col>val</th><th scope=col>pol</th></tr></thead>\n",
       "<tbody>\n",
       "\t<tr><td>1.1      </td><td>2.1      </td><td>3.1      </td><td>1.0      </td><td>0.7789320</td></tr>\n",
       "\t<tr><td>2.3      </td><td>2.1      </td><td>3.1      </td><td>1.5      </td><td>0.7491228</td></tr>\n",
       "\t<tr><td>1.1      </td><td>3.3      </td><td>3.1      </td><td>0.0      </td><td>0.1679961</td></tr>\n",
       "\t<tr><td>2.3      </td><td>3.3      </td><td>3.1      </td><td>2.0      </td><td>0.9355506</td></tr>\n",
       "\t<tr><td>1.1      </td><td>2.1      </td><td>4.3      </td><td>0.0      </td><td>0.2162831</td></tr>\n",
       "\t<tr><td>2.3      </td><td>2.1      </td><td>4.3      </td><td>4.0      </td><td>0.6415859</td></tr>\n",
       "\t<tr><td>1.1      </td><td>3.3      </td><td>4.3      </td><td>0.0      </td><td>0.5363320</td></tr>\n",
       "\t<tr><td>2.3      </td><td>3.3      </td><td>4.3      </td><td>3.0      </td><td>0.5092637</td></tr>\n",
       "</tbody>\n",
       "</table>\n"
      ],
      "text/latex": [
       "\\begin{tabular}{r|lllll}\n",
       " vx & vy & vz & val & pol\\\\\n",
       "\\hline\n",
       "\t 1.1       & 2.1       & 3.1       & 1.0       & 0.7789320\\\\\n",
       "\t 2.3       & 2.1       & 3.1       & 1.5       & 0.7491228\\\\\n",
       "\t 1.1       & 3.3       & 3.1       & 0.0       & 0.1679961\\\\\n",
       "\t 2.3       & 3.3       & 3.1       & 2.0       & 0.9355506\\\\\n",
       "\t 1.1       & 2.1       & 4.3       & 0.0       & 0.2162831\\\\\n",
       "\t 2.3       & 2.1       & 4.3       & 4.0       & 0.6415859\\\\\n",
       "\t 1.1       & 3.3       & 4.3       & 0.0       & 0.5363320\\\\\n",
       "\t 2.3       & 3.3       & 4.3       & 3.0       & 0.5092637\\\\\n",
       "\\end{tabular}\n"
      ],
      "text/markdown": [
       "\n",
       "| vx | vy | vz | val | pol |\n",
       "|---|---|---|---|---|\n",
       "| 1.1       | 2.1       | 3.1       | 1.0       | 0.7789320 |\n",
       "| 2.3       | 2.1       | 3.1       | 1.5       | 0.7491228 |\n",
       "| 1.1       | 3.3       | 3.1       | 0.0       | 0.1679961 |\n",
       "| 2.3       | 3.3       | 3.1       | 2.0       | 0.9355506 |\n",
       "| 1.1       | 2.1       | 4.3       | 0.0       | 0.2162831 |\n",
       "| 2.3       | 2.1       | 4.3       | 4.0       | 0.6415859 |\n",
       "| 1.1       | 3.3       | 4.3       | 0.0       | 0.5363320 |\n",
       "| 2.3       | 3.3       | 4.3       | 3.0       | 0.5092637 |\n",
       "\n"
      ],
      "text/plain": [
       "  vx  vy  vz  val pol      \n",
       "1 1.1 2.1 3.1 1.0 0.7789320\n",
       "2 2.3 2.1 3.1 1.5 0.7491228\n",
       "3 1.1 3.3 3.1 0.0 0.1679961\n",
       "4 2.3 3.3 3.1 2.0 0.9355506\n",
       "5 1.1 2.1 4.3 0.0 0.2162831\n",
       "6 2.3 2.1 4.3 4.0 0.6415859\n",
       "7 1.1 3.3 4.3 0.0 0.5363320\n",
       "8 2.3 3.3 4.3 3.0 0.5092637"
      ]
     },
     "metadata": {},
     "output_type": "display_data"
    }
   ],
   "source": [
    "# Invoke Program\n",
    "ff_dyna_sup_expand_grids(ar.st.vars, list.ar.fl, list.ts.valpolmat)"
   ]
  },
  {
   "cell_type": "markdown",
   "metadata": {},
   "source": [
    "## Line by Line"
   ]
  },
  {
   "cell_type": "code",
   "execution_count": 52,
   "metadata": {},
   "outputs": [],
   "source": [
    "# 1 is r1c1t1, 1.5 in r2c1t1, 0 in r1c2t1, etc.\n",
    "# Three dimensions, row first, column second, and tensor third\n",
    "val <- array(c(1, 1.5, 0, 2, 0, 4, 0, 3), dim=c(2, 2, 2))\n",
    "pol <- array(runif(8), dim=c(2, 2, 2))\n",
    "# dim(x)\n",
    "# print(x)\n",
    "       \n",
    "# Suppose the three dimensions above come from some value function problem with three states each solved along a grid\n",
    "ar.fl.x <- c(1.1,2.3)\n",
    "ar.fl.y <- c(2.1,3.3)\n",
    "ar.fl.z <- c(3.1,4.3)\n",
    "ar.st.vars <- c('vx', 'vy', 'vz')"
   ]
  },
  {
   "cell_type": "code",
   "execution_count": 53,
   "metadata": {},
   "outputs": [],
   "source": [
    "# Input\n",
    "list.ar.fl <- list(ar.fl.x, ar.fl.y, ar.fl.z)\n",
    "list.ts.valpolmat <- tibble(val=as.numeric(val), pol=as.numeric(pol))"
   ]
  },
  {
   "cell_type": "code",
   "execution_count": 54,
   "metadata": {},
   "outputs": [
    {
     "data": {
      "text/html": [
       "<table>\n",
       "<thead><tr><th scope=col>vx</th><th scope=col>vy</th><th scope=col>vz</th><th scope=col>val</th><th scope=col>pol</th></tr></thead>\n",
       "<tbody>\n",
       "\t<tr><td>1.1      </td><td>2.1      </td><td>3.1      </td><td>1.0      </td><td>0.2790970</td></tr>\n",
       "\t<tr><td>2.3      </td><td>2.1      </td><td>3.1      </td><td>1.5      </td><td>0.6259312</td></tr>\n",
       "\t<tr><td>1.1      </td><td>3.3      </td><td>3.1      </td><td>0.0      </td><td>0.2530683</td></tr>\n",
       "\t<tr><td>2.3      </td><td>3.3      </td><td>3.1      </td><td>2.0      </td><td>0.6782105</td></tr>\n",
       "\t<tr><td>1.1      </td><td>2.1      </td><td>4.3      </td><td>0.0      </td><td>0.7660390</td></tr>\n",
       "\t<tr><td>2.3      </td><td>2.1      </td><td>4.3      </td><td>4.0      </td><td>0.4057107</td></tr>\n",
       "\t<tr><td>1.1      </td><td>3.3      </td><td>4.3      </td><td>0.0      </td><td>0.6435767</td></tr>\n",
       "\t<tr><td>2.3      </td><td>3.3      </td><td>4.3      </td><td>3.0      </td><td>0.6513102</td></tr>\n",
       "</tbody>\n",
       "</table>\n"
      ],
      "text/latex": [
       "\\begin{tabular}{r|lllll}\n",
       " vx & vy & vz & val & pol\\\\\n",
       "\\hline\n",
       "\t 1.1       & 2.1       & 3.1       & 1.0       & 0.2790970\\\\\n",
       "\t 2.3       & 2.1       & 3.1       & 1.5       & 0.6259312\\\\\n",
       "\t 1.1       & 3.3       & 3.1       & 0.0       & 0.2530683\\\\\n",
       "\t 2.3       & 3.3       & 3.1       & 2.0       & 0.6782105\\\\\n",
       "\t 1.1       & 2.1       & 4.3       & 0.0       & 0.7660390\\\\\n",
       "\t 2.3       & 2.1       & 4.3       & 4.0       & 0.4057107\\\\\n",
       "\t 1.1       & 3.3       & 4.3       & 0.0       & 0.6435767\\\\\n",
       "\t 2.3       & 3.3       & 4.3       & 3.0       & 0.6513102\\\\\n",
       "\\end{tabular}\n"
      ],
      "text/markdown": [
       "\n",
       "| vx | vy | vz | val | pol |\n",
       "|---|---|---|---|---|\n",
       "| 1.1       | 2.1       | 3.1       | 1.0       | 0.2790970 |\n",
       "| 2.3       | 2.1       | 3.1       | 1.5       | 0.6259312 |\n",
       "| 1.1       | 3.3       | 3.1       | 0.0       | 0.2530683 |\n",
       "| 2.3       | 3.3       | 3.1       | 2.0       | 0.6782105 |\n",
       "| 1.1       | 2.1       | 4.3       | 0.0       | 0.7660390 |\n",
       "| 2.3       | 2.1       | 4.3       | 4.0       | 0.4057107 |\n",
       "| 1.1       | 3.3       | 4.3       | 0.0       | 0.6435767 |\n",
       "| 2.3       | 3.3       | 4.3       | 3.0       | 0.6513102 |\n",
       "\n"
      ],
      "text/plain": [
       "  vx  vy  vz  val pol      \n",
       "1 1.1 2.1 3.1 1.0 0.2790970\n",
       "2 2.3 2.1 3.1 1.5 0.6259312\n",
       "3 1.1 3.3 3.1 0.0 0.2530683\n",
       "4 2.3 3.3 3.1 2.0 0.6782105\n",
       "5 1.1 2.1 4.3 0.0 0.7660390\n",
       "6 2.3 2.1 4.3 4.0 0.4057107\n",
       "7 1.1 3.3 4.3 0.0 0.6435767\n",
       "8 2.3 3.3 4.3 3.0 0.6513102"
      ]
     },
     "metadata": {},
     "output_type": "display_data"
    }
   ],
   "source": [
    "# Generating Combined Dataframe, Model Solution as Dataframe\n",
    "mt.fl.expanded <- do.call(expand.grid, list.ar.fl)\n",
    "\n",
    "colnames(mt.fl.expanded) <- ar.st.vars\n",
    "\n",
    "as_tibble(bind_cols(mt.fl.expanded, list.ts.valpolmat))\n",
    "# as_tibble(bind_cols(mt.fl.expanded, list.ts.valpolmat))\n",
    "# for (i in 1:length(list.input)) {\n",
    "#     df.fl.expanded <- df.fl.expanded %>% mutate(val = val)    \n",
    "# }"
   ]
  }
 ],
 "metadata": {
  "kernelspec": {
   "display_name": "R",
   "language": "R",
   "name": "ir"
  },
  "language_info": {
   "codemirror_mode": "r",
   "file_extension": ".r",
   "mimetype": "text/x-r-source",
   "name": "R",
   "pygments_lexer": "r",
   "version": "3.5.1"
  }
 },
 "nbformat": 4,
 "nbformat_minor": 2
}
