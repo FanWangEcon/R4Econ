{
 "cells": [
  {
   "cell_type": "markdown",
   "metadata": {},
   "source": [
    "# Graph outputs from Dynamic Programming Problems\n",
    "\n",
    "Graph results along a anumber of outcome/choices dimensions along state dimensions. \n",
    "\n",
    "Dependency: \n",
    "    - C:\\Users\\fan\\R4Econ\\dynamic\\support\\expandgrid.R"
   ]
  },
  {
   "cell_type": "markdown",
   "metadata": {},
   "source": [
    "## Program\n",
    "\n",
    "Graphing Program."
   ]
  },
  {
   "cell_type": "code",
   "execution_count": 4,
   "metadata": {},
   "outputs": [],
   "source": [
    "# Graphing Function, Multiple a-axis variables\n",
    "ff_dyna_sup_grid_out_graph <- function(df, x.var,\n",
    "                                       fill.var,\n",
    "                                       out.var,\n",
    "                                       subplot.var,\n",
    "                                       it.fill.var.show.cnt = 3,\n",
    "                                       it.subplot.var.show.cnt = 3,\n",
    "                                       round = 3,\n",
    "                                       ncol = 3,\n",
    "                                       geom_type = 'line',\n",
    "                                       st.caption = '',\n",
    "                                       bl.lines.axis = FALSE,\n",
    "                                       bl.lines.45 = FALSE,\n",
    "                                       print=TRUE){\n",
    "  # df <- df.aprime.max_c.fibs\n",
    "  # x.var <- 'aprime'\n",
    "  # fill.var <- 'fl_r_inf'\n",
    "  # subplot.var <- 'fl_for_br_block'\n",
    "  # out.var <- 'fl_coh_add'\n",
    "  # ff_dyna_sup_grid_out_graph(df, x.var, fill.var, out.var, subplot.var,\n",
    "  #                           it.fill.var.show.cnt = 3,\n",
    "  #                           it.subplot.var.show.cnt = 3,\n",
    "  #                           round = 3, ncol = 3, print=TRUE)\n",
    "\n",
    "    fill.var.unique <- unique(df[[fill.var]])\n",
    "    seq.fill.var <- unique(round(seq(1, length(fill.var.unique), length.out = it.fill.var.show.cnt)))\n",
    "\n",
    "    if (!missing(subplot.var)){\n",
    "        subplot.var.unique <- unique(df[[subplot.var]])\n",
    "        seq.subplot.var <- unique(round(seq(1, length(subplot.var.unique), length.out = it.subplot.var.show.cnt)))\n",
    "\n",
    "        df <- df %>%\n",
    "            select(one_of(c(out.var, x.var, subplot.var, fill.var))) %>%\n",
    "            arrange(!!sym(subplot.var), !!sym(fill.var), !!sym(x.var), !!sym(out.var)) %>%\n",
    "            filter((!!sym(subplot.var)) %in% subplot.var.unique[seq.subplot.var])\n",
    "\n",
    "    } else {\n",
    "        df <- df %>%\n",
    "            select(one_of(c(out.var, x.var, fill.var))) %>%\n",
    "            arrange(!!sym(fill.var), !!sym(x.var), !!sym(out.var))\n",
    "    }\n",
    "\n",
    "    df <- df %>%\n",
    "            filter((!!sym(fill.var)) %in% fill.var.unique[seq.fill.var]) %>%\n",
    "            mutate(!!(fill.var) := as.factor(!!sym(fill.var)))\n",
    "\n",
    "\n",
    "    plot <- df %>% ggplot(aes(x=!!sym(x.var),\n",
    "                              y=!!sym(out.var),\n",
    "                              color=!!sym(fill.var),\n",
    "                              shape=!!sym(fill.var)))\n",
    "\n",
    "    if (!missing(subplot.var)) {\n",
    "        plot <- plot + facet_wrap(as.formula(paste0('~ ', subplot.var)), ncol = ncol)\n",
    "    }\n",
    "\n",
    "    if (geom_type == 'line') {\n",
    "        plot <- plot  + geom_line(size = 1) + geom_point()\n",
    "    }\n",
    "\n",
    "    if (bl.lines.axis) {\n",
    "      plot <- plot + geom_hline(yintercept = 0, size=1, color='black', linetype=2, alpha=0.5) +\n",
    "                     geom_vline(xintercept = 0, size=1, color='black', linetype=2, alpha=0.5)\n",
    "    }\n",
    "    if (bl.lines.45) {\n",
    "      plot <- plot + geom_abline(intercept = 0, slope = 1, size=1, color='black', linetype=1, alpha=0.5)\n",
    "    }\n",
    "\n",
    "   plot <- plot  + labs(title = paste0('outcome=',out.var,', x=', x.var, ', color=', fill.var),\n",
    "                        caption = st.caption)\n",
    "\n",
    "    plot <- plot + theme(axis.text.x = element_text(angle = 90, hjust = 1))\n",
    "\n",
    "    if (print) {\n",
    "      print(plot)\n",
    "    }\n",
    "\n",
    "    return(list(plot=plot))\n",
    "}"
   ]
  },
  {
   "cell_type": "markdown",
   "metadata": {},
   "source": [
    "## Load Data"
   ]
  },
  {
   "cell_type": "code",
   "execution_count": 5,
   "metadata": {},
   "outputs": [],
   "source": [
    "# Library\n",
    "library(tidyverse)\n",
    "library(AER)\n",
    "library(R.matlab)\n",
    "source('C:/Users/fan/R4Econ/dynamic/support/expandgrid.R')\n",
    "\n",
    "# Load Sample Data\n",
    "setwd('C:/Users/fan/R4Econ/_data/')\n",
    "matfile <- 'vf_az_p_ga_sa158_c1.mat'\n",
    "mat.out <- readMat(matfile)\n",
    "# mat.out"
   ]
  },
  {
   "cell_type": "markdown",
   "metadata": {},
   "source": [
    "## Test Program With only One Category"
   ]
  },
  {
   "cell_type": "code",
   "execution_count": 6,
   "metadata": {},
   "outputs": [
    {
     "data": {
      "image/png": "[encoded data removed]",
      "text/plain": [
       "plot without title"
      ]
     },
     "metadata": {},
     "output_type": "display_data"
    },
    {
     "data": {
      "image/png": "[encoded data removed]",
      "text/plain": [
       "plot without title"
      ]
     },
     "metadata": {},
     "output_type": "display_data"
    }
   ],
   "source": [
    "mt.pol <- mat.out$mt.pol\n",
    "mt.val <- mat.out$mt.val\n",
    "ar.a <- mat.out$ar.a\n",
    "ar.z <- mat.out$ar.z\n",
    "\n",
    "ar.st.vars <- c('a', 'z')\n",
    "list.ar.fl <- list(ar.a, ar.z)\n",
    "list.ts.valpolmat <- tibble(val=as.numeric(mt.val), pol=as.numeric(mt.pol))\n",
    "df.solu <- ff_dyna_sup_expand_grids(ar.st.vars, list.ar.fl, list.ts.valpolmat)\n",
    "\n",
    "options(repr.matrix.max.rows=500, repr.matrix.max.cols=20)\n",
    "options(repr.plot.width = 10, repr.plot.height = 4)\n",
    "plot <- ff_dyna_sup_grid_out_graph(df=df.solu, x.var='a', fill.var='z', out.var='val', it.fill.var.show.cnt=5)\n",
    "options(repr.plot.width = 10, repr.plot.height = 4)\n",
    "plot <- ff_dyna_sup_grid_out_graph(df=df.solu, x.var='a', fill.var='z', out.var='pol', it.fill.var.show.cnt=5)"
   ]
  }
 ],
 "metadata": {
  "kernelspec": {
   "display_name": "R",
   "language": "R",
   "name": "ir"
  },
  "language_info": {
   "codemirror_mode": "r",
   "file_extension": ".r",
   "mimetype": "text/x-r-source",
   "name": "R",
   "pygments_lexer": "r",
   "version": "3.5.1"
  }
 },
 "nbformat": 4,
 "nbformat_minor": 2
}
