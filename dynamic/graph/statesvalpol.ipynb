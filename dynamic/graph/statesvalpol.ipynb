{
 "cells": [
  {
   "cell_type": "markdown",
   "metadata": {},
   "source": [
    "# Graph outputs from Dynamic Programming Problems\n",
    "\n",
    "Graph results along a anumber of outcome/choices dimensions along state dimensions. \n",
    "\n",
    "Dependency: \n",
    "    - C:\\Users\\fan\\R4Econ\\dynamic\\support\\expandgrid.R"
   ]
  },
  {
   "cell_type": "markdown",
   "metadata": {},
   "source": [
    "## Program\n",
    "\n",
    "Graphing Program."
   ]
  },
  {
   "cell_type": "code",
   "execution_count": 21,
   "metadata": {},
   "outputs": [
    {
     "ename": "ERROR",
     "evalue": "Error in parse(text = x, srcfile = src): <text>:24:5: unexpected '}'\n23:         \n24:     }\n        ^\n",
     "output_type": "error",
     "traceback": [
      "Error in parse(text = x, srcfile = src): <text>:24:5: unexpected '}'\n23:         \n24:     }\n        ^\nTraceback:\n"
     ]
    }
   ],
   "source": [
    "# Graphing Function, Multiple a-axis variables\n",
    "ff_dyna_sup_grid_out_graph_2states <- function(df, x.var,\n",
    "                                               fill.var,\n",
    "                                               out.var,\n",
    "                                               subplot.var,\n",
    "                                               it.fill.var.show.cnt = 3,\n",
    "                                               it.subplot.var.show.cnt = 3,\n",
    "                                               round = 3,\n",
    "                                               ncol = 3, print=TRUE){\n",
    "\n",
    "    fill.var.unique <- unique(df[[fill.var]])\n",
    "    seq.fill.var <- unique(round(seq(1, length(fill.var.unique), length.out = it.fill.var.show.cnt)))\n",
    "    \n",
    "    if (!missing(subplot.var)){\n",
    "\n",
    "        subplot.var.unique <- unique(df[[subplot.var]])\n",
    "        seq.subplot.var <- unique(round(seq(1, length(subplot.var.unique), length.out = it.subplot.var.show.cnt)))\n",
    "\n",
    "        df <- df %>%\n",
    "            select(one_of(c(out.var, x.var, subplot.var, fill.var))) %>%\n",
    "            arrange(!!sym(subplot.var), !!sym(fill.var), !!sym(x.var), !!sym(out.var)) %>%\n",
    "            filter((!!sym(subplot.var)) %in% subplot.var.unique[seq.subplot.var])  %>%\n",
    "        \n",
    "    } else {\n",
    "        df <- df %>%\n",
    "            select(one_of(c(out.var, x.var, fill.var))) %>%\n",
    "            arrange(!!sym(fill.var), !!sym(x.var), !!sym(out.var)) %>%\n",
    "    }\n",
    "    \n",
    "    df <- df %>% \n",
    "            filter((!!sym(fill.var)) %in% fill.var.unique[seq.fill.var]) %>%\n",
    "            mutate(!!(fill.var) := as.factor(!!sym(fill.var)))\n",
    "    \n",
    "    \n",
    "    plot <- df %>% ggplot(aes(x=!!sym(x.var),\n",
    "                              y=!!sym(out.var),\n",
    "                              color=!!sym(fill.var),\n",
    "                              shape=!!sym(fill.var)))\n",
    "    \n",
    "    if (!missing(subplot.var)) {\n",
    "        plot <- plot + facet_wrap(as.formula(paste0('~ ', subplot.var)), ncol = ncol)\n",
    "    }\n",
    "    \n",
    "    plot <- plot + geom_line(size = 1) + \n",
    "                    geom_point() + \n",
    "                    labs(title = paste0('outcome=',out.var,', x=', x.var, ', color=', fill.var)) + \n",
    "                    theme(axis.text.x = element_text(angle = 90, hjust = 1))\n",
    "\n",
    "    if (print) {\n",
    "      print(plot)\n",
    "    }\n",
    "\n",
    "    return(list(plot=plot))\n",
    "}"
   ]
  },
  {
   "cell_type": "code",
   "execution_count": null,
   "metadata": {},
   "outputs": [],
   "source": [
    "# Graphing Function, Multiple a-axis variables\n",
    "graph.out.joint <- function(df, x.var, fill.var, subplot.vars, out.var, ncol = 3, print=TRUE){    \n",
    "#         df <- df_all\n",
    "#         out.var <- 'equi_r_j'\n",
    "#         x.var <- 'hh_savefc_T1'\n",
    "#         fill.var <- 'hh_savesunkc_T1'\n",
    "# There could be multiple subplot vars\n",
    "    # Control Graph Size    \n",
    "#     options(repr.plot.width = 10, repr.plot.height = 6)\n",
    "    \n",
    "\n",
    "    subplot.var.unique <- unique(df[[subplot.var]])\n",
    "    seq.subplot.var <- c(1, round(length(subplot.var.unique)/2), length(subplot.var.unique))\n",
    "#     subplot.var.unique[seq.subplot.var]\n",
    "\n",
    "    fill.var.unique <- unique(df[[fill.var]])\n",
    "    seq.fill.var <- c(1, round(length(fill.var.unique)/2), length(fill.var.unique))\n",
    "#     fill.var.unique[seq.fill.var]\n",
    "    \n",
    "    plot <- df %>%\n",
    "        select(one_of(c(out.var, x.var, subplot.vars, fill.var))) %>%\n",
    "        arrange(!!!syms(subplot.vars), !!sym(fill.var), !!sym(x.var), !!sym(out.var)) %>%\n",
    "        filter((!!sym(subplot.var)) %in% subplot.var.unique[seq.subplot.var])  %>%\n",
    "        filter((!!sym(fill.var)) %in% fill.var.unique[seq.fill.var])  %>%\n",
    "        mutate(!!(subplot.var) := as.factor(!!sym(subplot.var)),\n",
    "                !!(fill.var) := as.factor(!!sym(fill.var))) %>%\n",
    "        ggplot(aes(x=!!sym(x.var),\n",
    "                   y=!!sym(out.var),\n",
    "                   color=!!sym(fill.var),\n",
    "                   shape=!!sym(fill.var))) + \n",
    "        geom_line(size = 1) +\n",
    "        geom_point() +\n",
    "        facet_wrap(as.formula(paste0('~ ', subplot.var)), ncol = ncol) +\n",
    "        labs(title = paste0('outcome=',out.var,', x=', x.var, ', color=', fill.var, ', subplot=', subplot.var)) +\n",
    "        theme(axis.text.x = element_text(angle = 90, hjust = 1)) \n",
    "\n",
    "    options(repr.plot.width = 12, repr.plot.height = 3)\n",
    "    print(plot)\n",
    "#     coord_flip()\n",
    "#     print(box_plot)\n",
    "    return(list(plot=plot))\n",
    "}"
   ]
  },
  {
   "cell_type": "markdown",
   "metadata": {},
   "source": [
    "## Load Data"
   ]
  },
  {
   "cell_type": "code",
   "execution_count": null,
   "metadata": {},
   "outputs": [],
   "source": [
    "# Library\n",
    "library(tidyverse)\n",
    "library(AER)\n",
    "library(R.matlab)\n",
    "source('C:/Users/fan/R4Econ/dynamic/support/expandgrid.R')\n",
    "\n",
    "# Load Sample Data\n",
    "setwd('C:/Users/fan/R4Econ/_data/')\n",
    "matfile <- 'vf_az_p_ga_sa1.mat'\n",
    "mat.out <- readMat(matfile)\n",
    "# mat.out"
   ]
  },
  {
   "cell_type": "markdown",
   "metadata": {},
   "source": [
    "## Test Program "
   ]
  },
  {
   "cell_type": "code",
   "execution_count": null,
   "metadata": {},
   "outputs": [],
   "source": [
    "mt.pol <- mat.out$mt.pol\n",
    "mt.val <- mat.out$mt.val\n",
    "ar.a <- mat.out$ar.a\n",
    "ar.z <- mat.out$ar.z\n",
    "\n",
    "ar.st.vars <- c('a', 'z')\n",
    "list.ar.fl <- list(ar.a, ar.z)\n",
    "list.ts.valpolmat <- tibble(val=as.numeric(mt.val), pol=as.numeric(mt.pol))\n",
    "df.solu <- ff_dyna_sup_expand_grids(ar.st.vars, list.ar.fl, list.ts.valpolmat)\n",
    "\n",
    "options(repr.matrix.max.rows=500, repr.matrix.max.cols=20)\n",
    "options(repr.plot.width = 10, repr.plot.height = 4)\n",
    "plot <- ff_dyna_sup_grid_out_graph_2states(df=df.solu, x.var='a', fill.var='z', out.var='val', it.fill.var.show.cnt=5)\n",
    "options(repr.plot.width = 10, repr.plot.height = 4)\n",
    "plot <- ff_dyna_sup_grid_out_graph_2states(df=df.solu, x.var='a', fill.var='z', out.var='pol', it.fill.var.show.cnt=5)"
   ]
  },
  {
   "cell_type": "code",
   "execution_count": null,
   "metadata": {},
   "outputs": [],
   "source": []
  }
 ],
 "metadata": {
  "kernelspec": {
   "display_name": "R",
   "language": "R",
   "name": "ir"
  },
  "language_info": {
   "codemirror_mode": "r",
   "file_extension": ".r",
   "mimetype": "text/x-r-source",
   "name": "R",
   "pygments_lexer": "r",
   "version": "3.5.1"
  }
 },
 "nbformat": 4,
 "nbformat_minor": 2
}
