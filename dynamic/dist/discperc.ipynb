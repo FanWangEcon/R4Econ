{
 "cells": [
  {
   "cell_type": "markdown",
   "metadata": {},
   "source": [
    "# From Joint Discrete Distribution to Percentiles\n",
    "\n",
    "Often, in solving dynamic heterogeneous agent models, the state and choice spaces are discretized. We obtain as output from solving the model a discrete random variable with a vector of discrete random variable's values and another vector of probabilities. \n",
    "\n",
    "But we are often interested in distributional statistics such as percentiles of the distribution. \n",
    "\n",
    "If there are multiple outcomes/choices of interest, we might be additionally interested in the joint distribution of outcomes. \n",
    "\n",
    "The output discrete random variable vector might be sorted along the dimension of some vector, but not the other variables of interest. \n",
    "\n",
    "The function here: \n",
    "1. simulates random variables with many draws from joint discrete probability distribution \n",
    "2. computes various conditional, marginal, and joint distributional statistics. "
   ]
  },
  {
   "cell_type": "markdown",
   "metadata": {},
   "source": [
    "## Program\n",
    "\n",
    "Graphing Program."
   ]
  },
  {
   "cell_type": "code",
   "execution_count": 9,
   "metadata": {},
   "outputs": [],
   "source": [
    "# Graphing Function, Multiple a-axis variables\n",
    "ff_discrete_to_percentiles <- function(df, x.var,\n",
    "                                       fill.var,\n",
    "                                       out.var,\n",
    "                                       subplot.var,\n",
    "                                       it.fill.var.show.cnt = 3,\n",
    "                                       it.subplot.var.show.cnt = 3,\n",
    "                                       round = 3,\n",
    "                                       ncol = 3,\n",
    "                                       geom_type = 'line',\n",
    "                                       st.caption = '',\n",
    "                                       bl.lines.axis = FALSE,\n",
    "                                       bl.lines.45 = FALSE,\n",
    "                                       print=TRUE){\n",
    "\n",
    "\n",
    "    return(list(plot=plot))\n",
    "}"
   ]
  },
  {
   "cell_type": "markdown",
   "metadata": {},
   "source": [
    "## Load Data"
   ]
  },
  {
   "cell_type": "code",
   "execution_count": 16,
   "metadata": {},
   "outputs": [],
   "source": [
    "# Library\n",
    "library(tidyverse)\n",
    "library(AER)\n",
    "library(R.matlab)\n",
    "source('C:/Users/fan/R4Econ/dynamic/support/expandgrid.R')\n",
    "\n",
    "# Load Sample Data\n",
    "setwd('C:/Users/fan/R4Econ/_data/gda_small1/pm158/')\n",
    "vf.matfile <- 'vf_az_p_gb_sa158_c1.mat'\n",
    "vf.mat.out <- readMat(vf.matfile)\n",
    "\n",
    "ds.matfile <- 'ds_az_p_gb_sa158_c1.mat'\n",
    "ds.mat.out <- readMat(ds.matfile)"
   ]
  },
  {
   "cell_type": "code",
   "execution_count": 17,
   "metadata": {},
   "outputs": [
    {
     "name": "stdout",
     "output_type": "stream",
     "text": [
      "List of 41\n",
      " $ MCOS          : raw [1:14] 63 6f 6e 74 ...\n",
      " $               : int [1:6, 1] -587202560 2 1 1 1 1\n",
      " $ MCOS          : raw [1:14] 63 6f 6e 74 ...\n",
      " $               : int [1:6, 1] -587202560 2 1 1 2 1\n",
      " $ mt.val        : num [1:250, 1:13] -1000 -1000 -952 -857 -729 ...\n",
      " $ mt.pol        : num [1:250, 1:13] -10 -9.78 -10 -9.56 -9.34 ...\n",
      " $ flag          : num [1, 1] 0\n",
      " $ it.z.n        : num [1, 1] 13\n",
      " $ ar.z          : num [1, 1:13] 0.0297 0.0489 0.0806 0.1329 0.2191 ...\n",
      " $ mt.z.trans    : num [1:13, 1:13] 0.279834 0.10565 0.02764 0.004893 0.000577 ...\n",
      " $ fl.w          : num [1, 1] 1\n",
      " $ fl.r          : num [1, 1] 0.025\n",
      " $ it.a.n        : num [1, 1] 250\n",
      " $ ar.a          : num [1, 1:250] -10 -9.78 -9.56 -9.34 -9.12 ...\n",
      " $ fl.crra       : num [1, 1] 2\n",
      " $ fl.beta       : num [1, 1] 0.95\n",
      " $ fl.rho        : num [1, 1] 0.8\n",
      " $ fl.sig        : num [1, 1] 0.6\n",
      " $ it.maxiter.val: num [1, 1] 5000\n",
      " $ fl.tol.val    : num [1, 1] 1e-06\n",
      " $ mt.val0       : num [1:250, 1:13] -1000 -1000 -952 -857 -729 ...\n",
      " $ mt.val1       : num [1:250, 1:13] -1000 -1000 -952 -857 -729 ...\n",
      " $ mt.pol1       : num [1:250, 1:13] -10 -9.78 -10 -9.56 -9.34 ...\n",
      " $ fl.diff       : num [1, 1] 9.71e-07\n",
      " $ it.iter       : num [1, 1] 352\n",
      " $ i             : num [1, 1] 13\n",
      " $ z             : num [1, 1] 12\n",
      " $ j             : num [1, 1] 250\n",
      " $ a             : num [1, 1] 45\n",
      " $ vnew          : num [1, 1:250] -4.66 -4.08 -3.56 -3.09 -2.67 ...\n",
      " $ x             : num [1, 1] 250\n",
      " $ aprime        : num [1, 1] 45\n",
      " $ c             : num [1, 1] 13.1\n",
      " $ y             : num [1, 1] 13\n",
      " $ max.a.position: num [1, 1] 250\n",
      " $ ar.z.1byn     : num [1, 1:13] 0.0297 0.0489 0.0806 0.1329 0.2191 ...\n",
      " $ ar.a.mby1     : num [1:250, 1] -10 -9.78 -9.56 -9.34 -9.12 ...\n",
      " $ mt.cons       : num [1:250, 1:13] 0.0304 0.0304 0.4722 0.2513 0.2513 ...\n",
      " $ mt.incm       : num [1:250, 1:13] -10 -9.78 -9.56 -9.34 -9.12 ...\n",
      " $ st.file.name  : chr [1, 1] \"vf_az_p_gb_sa158_c1\"\n",
      " $               : int [1, 1:9192] 0 1 73 77 0 0 0 0 14 0 ...\n",
      " - attr(*, \"header\")=List of 3\n",
      "  ..$ description: chr \"MATLAB 5.0 MAT-file, Platform: PCWIN64, Created on: Sun Apr 14 18:41:13 2019                                        •Ù\\001\"\n",
      "  ..$ version    : chr \"5\"\n",
      "  ..$ endian     : chr \"little\"\n"
     ]
    }
   ],
   "source": [
    "str(vf.mat.out)"
   ]
  },
  {
   "cell_type": "code",
   "execution_count": 30,
   "metadata": {},
   "outputs": [
    {
     "name": "stdout",
     "output_type": "stream",
     "text": [
      "List of 29\n",
      " $ MCOS           : raw [1:14] 63 6f 6e 74 ...\n",
      " $                : int [1:6, 1] -587202560 2 1 1 1 1\n",
      " $ MCOS           : raw [1:14] 63 6f 6e 74 ...\n",
      " $                : int [1:6, 1] -587202560 2 1 1 2 1\n",
      " $ ar.dist.a      : num [1:250, 1] 0.001234 0.000465 0.000442 0.000529 0.000615 ...\n",
      " $ mt.dist.az     : num [1:250, 1:13] 2.07e-05 3.89e-06 4.88e-06 5.74e-06 6.75e-06 ...\n",
      " $ mt.pol         : num [1:250, 1:13] -10 -9.78 -10 -9.56 -9.34 ...\n",
      " $ flag           : num [1, 1] 0\n",
      " $ it.z.n         : num [1, 1] 13\n",
      " $ ar.z           : num [1, 1:13] 0.0297 0.0489 0.0806 0.1329 0.2191 ...\n",
      " $ mt.z.trans     : num [1:13, 1:13] 0.279834 0.10565 0.02764 0.004893 0.000577 ...\n",
      " $ it.a.n         : num [1, 1] 250\n",
      " $ ar.a           : num [1, 1:250] -10 -9.78 -9.56 -9.34 -9.12 ...\n",
      " $ it.maxiter.dist: num [1, 1] 5000\n",
      " $ fl.tol.dist    : num [1, 1] 1e-06\n",
      " $ fl.crra        : num [1, 1] 2\n",
      " $ fl.rho         : num [1, 1] 0.8\n",
      " $ fl.sig         : num [1, 1] 0.6\n",
      " $ D0             : num [1:250, 1:13] 2.07e-05 3.89e-06 4.88e-06 5.74e-06 6.75e-06 ...\n",
      " $ it.iter        : num [1, 1] 244\n",
      " $ fl.diff        : num [1, 1] 9.85e-07\n",
      " $ D1             : num [1:250, 1:13] 2.07e-05 3.89e-06 4.88e-06 5.74e-06 6.75e-06 ...\n",
      " $ i              : num [1, 1] 13\n",
      " $ j              : num [1, 1] 250\n",
      " $ aprime         : num [1, 1] 45\n",
      " $ loc.a.prime    : num [1, 1] 250\n",
      " $ pi             : num [1, 1:13] 1.27e-21 1.27e-18 6.37e-16 1.62e-13 2.08e-11 ...\n",
      " $ st.file.name   : chr [1, 1] \"ds_az_p_gb_sa158_c1\"\n",
      " $                : int [1, 1:9192] 0 1 73 77 0 0 0 0 14 0 ...\n",
      " - attr(*, \"header\")=List of 3\n",
      "  ..$ description: chr \"MATLAB 5.0 MAT-file, Platform: PCWIN64, Created on: Sun Apr 14 18:41:14 2019                                        2P\\001\"\n",
      "  ..$ version    : chr \"5\"\n",
      "  ..$ endian     : chr \"little\"\n"
     ]
    }
   ],
   "source": [
    "str(ds.mat.out)"
   ]
  },
  {
   "cell_type": "markdown",
   "metadata": {},
   "source": [
    "## Program Line by Line"
   ]
  },
  {
   "cell_type": "code",
   "execution_count": 31,
   "metadata": {},
   "outputs": [],
   "source": [
    "# Vectors of States\n",
    "ar.a <- vf.mat.out$ar.a\n",
    "ar.z <- vf.mat.out$ar.z\n",
    "\n",
    "# Outcome Matrix\n",
    "mt.pol <- vf.mat.out$mt.pol\n",
    "mt.val <- vf.mat.out$mt.val\n",
    "mt.con <- vf.mat.out$mt.cons\n",
    "mt.inc <- vf.mat.out$mt.incm\n",
    "\n",
    "# Discrete Distribution\n",
    "mt.dist <- ds.mat.out$D0"
   ]
  },
  {
   "cell_type": "code",
   "execution_count": 32,
   "metadata": {},
   "outputs": [
    {
     "data": {
      "text/html": [
       "0.999999999999999"
      ],
      "text/latex": [
       "0.999999999999999"
      ],
      "text/markdown": [
       "0.999999999999999"
      ],
      "text/plain": [
       "[1] 1"
      ]
     },
     "metadata": {},
     "output_type": "display_data"
    }
   ],
   "source": [
    "sum(mt.dist)"
   ]
  },
  {
   "cell_type": "code",
   "execution_count": 33,
   "metadata": {},
   "outputs": [],
   "source": [
    "ar.st.vars <- c('a', 'z')\n",
    "list.ar.fl <- list(ar.a, ar.z)\n",
    "list.ts.valpolmat <- tibble(val=as.numeric(mt.pol),\n",
    "                            pol=as.numeric(mt.val),\n",
    "                            con=as.numeric(mt.con),\n",
    "                            inc=as.numeric(mt.inc),\n",
    "                            prob=as.numeric(mt.dist))\n",
    "df.slds <- ff_dyna_sup_expand_grids(ar.st.vars, list.ar.fl, list.ts.valpolmat)"
   ]
  },
  {
   "cell_type": "code",
   "execution_count": 34,
   "metadata": {},
   "outputs": [
    {
     "data": {
      "text/html": [
       "<table>\n",
       "<tbody>\n",
       "\t<tr><td>a   </td><td>z   </td><td>val </td><td>pol </td><td>con </td><td>inc </td><td>prob</td></tr>\n",
       "</tbody>\n",
       "</table>\n"
      ],
      "text/latex": [
       "\\begin{tabular}{lllllll}\n",
       "\t a    & z    & val  & pol  & con  & inc  & prob\\\\\n",
       "\\end{tabular}\n"
      ],
      "text/markdown": [
       "\n",
       "| a    | z    | val  | pol  | con  | inc  | prob | \n",
       "\n",
       "\n"
      ],
      "text/plain": [
       "     [,1] [,2] [,3] [,4] [,5] [,6] [,7]\n",
       "[1,] a    z    val  pol  con  inc  prob"
      ]
     },
     "metadata": {},
     "output_type": "display_data"
    }
   ],
   "source": [
    "t(names(df.slds))"
   ]
  },
  {
   "cell_type": "code",
   "execution_count": 35,
   "metadata": {},
   "outputs": [
    {
     "data": {
      "text/plain": [
       "       a                 z                 val              pol            \n",
       " Min.   :-10.000   Min.   : 0.02965   Min.   :-10.00   Min.   :-1000.0000  \n",
       " 1st Qu.:  3.695   1st Qu.: 0.13290   1st Qu.:  5.02   1st Qu.:   -0.9347  \n",
       " Median : 17.500   Median : 0.59560   Median : 18.49   Median :    6.2856  \n",
       " Mean   : 17.500   Mean   : 2.33525   Mean   : 18.38   Mean   :   -8.9161  \n",
       " 3rd Qu.: 31.305   3rd Qu.: 2.66931   3rd Qu.: 31.97   3rd Qu.:    9.4507  \n",
       " Max.   : 45.000   Max.   :11.96302   Max.   : 45.00   Max.   :   12.4223  \n",
       "      con                inc              prob          \n",
       " Min.   : 0.03039   Min.   :-9.999   Min.   :0.000e+00  \n",
       " 1st Qu.: 0.96898   1st Qu.: 3.723   1st Qu.:2.234e-05  \n",
       " Median : 1.37541   Median :17.611   Median :9.843e-05  \n",
       " Mean   : 1.51560   Mean   :17.558   Mean   :3.077e-04  \n",
       " 3rd Qu.: 1.71008   3rd Qu.:31.327   3rd Qu.:3.687e-04  \n",
       " Max.   :12.26210   Max.   :45.299   Max.   :3.247e-03  "
      ]
     },
     "metadata": {},
     "output_type": "display_data"
    }
   ],
   "source": [
    "summary(df.slds)"
   ]
  },
  {
   "cell_type": "code",
   "execution_count": 36,
   "metadata": {},
   "outputs": [
    {
     "name": "stdout",
     "output_type": "stream",
     "text": [
      "Classes 'tbl_df', 'tbl' and 'data.frame':\t3250 obs. of  7 variables:\n",
      " $ a   : num  -10 -9.78 -9.56 -9.34 -9.12 ...\n",
      " $ z   : num  0.0297 0.0297 0.0297 0.0297 0.0297 ...\n",
      " $ val : num  -10 -9.78 -10 -9.56 -9.34 ...\n",
      " $ pol : num  -1000 -1000 -952 -857 -729 ...\n",
      " $ con : num  0.0304 0.0304 0.4722 0.2513 0.2513 ...\n",
      " $ inc : num  -10 -9.78 -9.56 -9.34 -9.12 ...\n",
      " $ prob: num  2.07e-05 3.89e-06 4.88e-06 5.74e-06 6.75e-06 ...\n",
      " - attr(*, \"out.attrs\")=List of 2\n",
      "  ..$ dim     : int  250 13\n",
      "  ..$ dimnames:List of 2\n",
      "  .. ..$ Var1: chr  \"Var1=-10.00000000\" \"Var1= -9.77911647\" \"Var1= -9.55823293\" \"Var1= -9.33734940\" ...\n",
      "  .. ..$ Var2: chr  \"Var2= 0.02965337\" \"Var2= 0.04889014\" \"Var2= 0.08060622\" \"Var2= 0.13289718\" ...\n"
     ]
    }
   ],
   "source": [
    "str(df.slds)"
   ]
  },
  {
   "cell_type": "code",
   "execution_count": 38,
   "metadata": {},
   "outputs": [
    {
     "data": {
      "text/html": [
       "0.999999999999999"
      ],
      "text/latex": [
       "0.999999999999999"
      ],
      "text/markdown": [
       "0.999999999999999"
      ],
      "text/plain": [
       "[1] 1"
      ]
     },
     "metadata": {},
     "output_type": "display_data"
    },
    {
     "data": {
      "text/html": [
       "1"
      ],
      "text/latex": [
       "1"
      ],
      "text/markdown": [
       "1"
      ],
      "text/plain": [
       "[1] 1"
      ]
     },
     "metadata": {},
     "output_type": "display_data"
    }
   ],
   "source": [
    "sum(df.slds$prob)\n",
    "sum(df.slds$prob/sum(df.slds$prob))"
   ]
  },
  {
   "cell_type": "code",
   "execution_count": 47,
   "metadata": {},
   "outputs": [
    {
     "data": {},
     "metadata": {},
     "output_type": "display_data"
    },
    {
     "data": {
      "image/png": "[encoded data removed]",
      "text/plain": [
       "plot without title"
      ]
     },
     "metadata": {},
     "output_type": "display_data"
    }
   ],
   "source": [
    "it.sample.draws <- 100000\n",
    "ar.it.simu = sample(dim(df.slds)[1], it.sample.draws, replace = TRUE,\n",
    "                    prob = (df.slds$prob/sum(df.slds$prob)));\n",
    "# z = hist(df.slds$, plot=FALSE) \n",
    "options(repr.plot.width = 4, repr.plot.height = 2)\n",
    "tibble(ar.it.simu=ar.it.simu) %>% ggplot(aes(x=ar.it.simu)) + geom_density()"
   ]
  },
  {
   "cell_type": "code",
   "execution_count": 15,
   "metadata": {},
   "outputs": [
    {
     "ename": "ERROR",
     "evalue": "Error in eval_tidy(xs[[i]], unique_output): object 'mt.val' not found\n",
     "output_type": "error",
     "traceback": [
      "Error in eval_tidy(xs[[i]], unique_output): object 'mt.val' not found\nTraceback:\n",
      "1. tibble(val = as.numeric(mt.val), pol = as.numeric(mt.pol))",
      "2. as_tibble(lst_quos(xs, expand = TRUE))",
      "3. lst_quos(xs, expand = TRUE)",
      "4. eval_tidy(xs[[i]], unique_output)"
     ]
    }
   ],
   "source": [
    "ar.st.vars <- c('a', 'z')\n",
    "list.ar.fl <- list(ar.a, ar.z)\n",
    "list.ts.valpolmat <- tibble(val=as.numeric(mt.val), pol=as.numeric(mt.pol))\n",
    "df.solu <- ff_dyna_sup_expand_grids(ar.st.vars, list.ar.fl, list.ts.valpolmat)\n",
    "\n",
    "options(repr.matrix.max.rows=500, repr.matrix.max.cols=20)\n",
    "options(repr.plot.width = 10, repr.plot.height = 4)\n",
    "plot <- ff_dyna_sup_grid_out_graph(df=df.solu, x.var='a', fill.var='z', out.var='val', it.fill.var.show.cnt=5)\n",
    "options(repr.plot.width = 10, repr.plot.height = 4)\n",
    "plot <- ff_dyna_sup_grid_out_graph(df=df.solu, x.var='a', fill.var='z', out.var='pol', it.fill.var.show.cnt=5)"
   ]
  },
  {
   "cell_type": "code",
   "execution_count": null,
   "metadata": {},
   "outputs": [],
   "source": []
  }
 ],
 "metadata": {
  "kernelspec": {
   "display_name": "R",
   "language": "R",
   "name": "ir"
  },
  "language_info": {
   "codemirror_mode": "r",
   "file_extension": ".r",
   "mimetype": "text/x-r-source",
   "name": "R",
   "pygments_lexer": "r",
   "version": "3.5.1"
  }
 },
 "nbformat": 4,
 "nbformat_minor": 2
}
