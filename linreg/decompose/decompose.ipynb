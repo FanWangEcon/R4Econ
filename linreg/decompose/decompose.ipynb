{
 "cells": [
  {
   "cell_type": "markdown",
   "metadata": {},
   "source": [
    "Back to **[Fan](https://fanwangecon.github.io/)**'s R4Econ Homepage **[Table of Content](https://fanwangecon.github.io/R4Econ/)**\n",
    "\n",
    "# Fraction of Variation Explained by Right Hand Side Regression Terms\n",
    "\n",
    "One runs a number of regressions. With different outcomes, and various right hand side variables. \n",
    "\n",
    "What is the remaining variation in the left hand side variable if right hand side variable one by one is set to the average of the observed values. \n",
    "\n",
    "Dependency: C:\\Users\\fan\\R4Econ\\linreg\\ivreg\\ivregdfrow.R\n",
    "\n",
    "The code below does not work with categorical variables (except for dummies).\n",
    "\n",
    "Dummy variable inputs need to be converted to zero/one first."
   ]
  },
  {
   "cell_type": "markdown",
   "metadata": {},
   "source": [
    "## Program"
   ]
  },
  {
   "cell_type": "code",
   "execution_count": 151,
   "metadata": {},
   "outputs": [],
   "source": [
    "ff_lr_decompose <- function(df, vars.y, vars.x, vars.c, vars.z, vars.other.keep,\n",
    "                            list.vars.tomean, list.vars.tomean.name.suffix,\n",
    "                            graph=FALSE, graph.nrow=2) {\n",
    "\n",
    "    vars.xc <- c(vars.x, vars.c)\n",
    "\n",
    "    # Regressions\n",
    "    # regf.iv from C:\\Users\\fan\\R4Econ\\linreg\\ivreg\\ivregdfrow.R\n",
    "    df.reg.out <- as_tibble(bind_rows(lapply(vars.y, regf.iv,\n",
    "                                             vars.x=vars.x, vars.c=vars.c, vars.z=vars.z, df=df)))\n",
    "\n",
    "    # Select Variables\n",
    "    str.esti.suffix <- '_Estimate'\n",
    "    arr.esti.name <- paste0(vars.xc, str.esti.suffix)\n",
    "    str.outcome.name <- 'vars_var.y'\n",
    "    arr.columns2select <- c(arr.esti.name, str.outcome.name)\n",
    "    # arr.columns2select\n",
    "\n",
    "    # Generate dataframe for coefficients\n",
    "    df.coef <- df.reg.out[,c(arr.columns2select)] %>% mutate_at(vars(arr.esti.name), as.numeric) %>% column_to_rownames(str.outcome.name)\n",
    "    # df.coef\n",
    "    # str(df.coef)\n",
    "\n",
    "    # Decomposition Step 1: gather\n",
    "    df.decompose <- df %>%\n",
    "                            filter(svymthRound %in% c(12, 18, 24)) %>%\n",
    "                            select(one_of(c(vars.other.keep, vars.xc, vars.y))) %>%\n",
    "                            drop_na() %>%\n",
    "                            gather(variable, value, -one_of(c(vars.other.keep, vars.xc)))\n",
    "\n",
    "    # Decomposition Step 2: mutate_at(vars, funs(mean = mean(.)))\n",
    "    # the xc averaging could have taken place earlier, no difference in mean across variables\n",
    "    df.decompose <- df.decompose %>%\n",
    "                          group_by(variable) %>%\n",
    "                          mutate_at(vars(c(vars.xc, 'value')), funs(mean = mean(.))) %>%\n",
    "                          ungroup()\n",
    "\n",
    "    # Decomposition Step 3 With Loop\n",
    "    for (i in 1:length(list.vars.tomean)) {\n",
    "        var.decomp.cur <- (paste0('value', list.vars.tomean.name.suffix[[i]]))\n",
    "        vars.tomean <- list.vars.tomean[[i]]\n",
    "        var.decomp.cur\n",
    "        df.decompose <- df.decompose %>% mutate((!!var.decomp.cur) := ff_lr_decompose_valadj(., df.coef, vars.tomean, str.esti.suffix))\n",
    "    }\n",
    "\n",
    "    # Additional Statistics\n",
    "    df.decompose.var.frac <- df.decompose %>%\n",
    "            select(variable, contains('value')) %>%\n",
    "            group_by(variable) %>%\n",
    "            summarize_all(funs(mean = mean, var = var)) %>%\n",
    "            select(matches('value')) %>% select(ends_with(\"_var\")) %>%\n",
    "            mutate_if(is.numeric, funs( frac = (./value_var))) %>%\n",
    "            mutate_if(is.numeric, round, 3)\n",
    "\n",
    "    # Graph\n",
    "    g.graph.dist <- NULL\n",
    "    if (graph) {\n",
    "      g.graph.dist <- df.decompose %>%\n",
    "          select(variable, contains('value'), -value_mean) %>%\n",
    "          rename(outcome = variable) %>%\n",
    "          gather(variable, value, -outcome) %>%\n",
    "          ggplot(aes(x=value, color = variable, fill = variable)) +\n",
    "              geom_line(stat = \"density\") +\n",
    "              facet_wrap(~ outcome, scales='free', nrow=graph.nrow)\n",
    "    }\n",
    "\n",
    "    # Return\n",
    "    return(list(dfmain = df.decompose,\n",
    "                dfsumm = df.decompose.var.frac,\n",
    "                graph = g.graph.dist))\n",
    "\n",
    "}\n",
    "\n",
    "# Support Function\n",
    "ff_lr_decompose_valadj <- function(df, df.coef, vars.tomean, str.esti.suffix) {\n",
    "    new_value <- (df$value +\n",
    "                  rowSums((df[paste0(vars.tomean, '_mean')] - df[vars.tomean])\n",
    "                          *df.coef[df$variable, paste0(vars.tomean, str.esti.suffix)]))\n",
    "    return(new_value)\n",
    "}"
   ]
  },
  {
   "cell_type": "markdown",
   "metadata": {},
   "source": [
    "## Load Data"
   ]
  },
  {
   "cell_type": "code",
   "execution_count": 152,
   "metadata": {},
   "outputs": [
    {
     "name": "stderr",
     "output_type": "stream",
     "text": [
      "Parsed with column specification:\n",
      "cols(\n",
      "  S.country = col_character(),\n",
      "  vil.id = col_double(),\n",
      "  indi.id = col_double(),\n",
      "  sex = col_character(),\n",
      "  svymthRound = col_double(),\n",
      "  momEdu = col_double(),\n",
      "  wealthIdx = col_double(),\n",
      "  hgt = col_double(),\n",
      "  wgt = col_double(),\n",
      "  hgt0 = col_double(),\n",
      "  wgt0 = col_double(),\n",
      "  prot = col_double(),\n",
      "  cal = col_double(),\n",
      "  p.A.prot = col_double(),\n",
      "  p.A.nProt = col_double()\n",
      ")\n"
     ]
    }
   ],
   "source": [
    "# Library\n",
    "library(tidyverse)\n",
    "library(AER)\n",
    "\n",
    "# Load Sample Data\n",
    "setwd('C:/Users/fan/R4Econ/_data/')\n",
    "df <- read_csv('height_weight.csv')\n",
    "\n",
    "# Source Dependency\n",
    "source('C:/Users/fan/R4Econ/linreg/ivreg/ivregdfrow.R')\n",
    "\n",
    "# Setting\n",
    "options(repr.matrix.max.rows=50, repr.matrix.max.cols=50)"
   ]
  },
  {
   "cell_type": "markdown",
   "metadata": {},
   "source": [
    "## Data Cleaning"
   ]
  },
  {
   "cell_type": "code",
   "execution_count": 153,
   "metadata": {},
   "outputs": [
    {
     "data": {
      "text/html": [
       "<dl class=dl-horizontal>\n",
       "\t<dt>Female</dt>\n",
       "\t\t<dd>16446</dd>\n",
       "\t<dt>Male</dt>\n",
       "\t\t<dd>18619</dd>\n",
       "</dl>\n"
      ],
      "text/latex": [
       "\\begin{description*}\n",
       "\\item[Female] 16446\n",
       "\\item[Male] 18619\n",
       "\\end{description*}\n"
      ],
      "text/markdown": [
       "Female\n",
       ":   16446Male\n",
       ":   18619\n",
       "\n"
      ],
      "text/plain": [
       "Female   Male \n",
       " 16446  18619 "
      ]
     },
     "metadata": {},
     "output_type": "display_data"
    },
    {
     "data": {
      "text/plain": [
       "   Min. 1st Qu.  Median    Mean 3rd Qu.    Max. \n",
       "  0.000   0.000   1.000   0.531   1.000   1.000 "
      ]
     },
     "metadata": {},
     "output_type": "display_data"
    }
   ],
   "source": [
    "# Convert Variable for Sex which is categorical to Numeric\n",
    "df <- df\n",
    "df$male <- (as.numeric(factor(df$sex)) - 1)\n",
    "summary(factor(df$sex))\n",
    "summary(df$male)"
   ]
  },
  {
   "cell_type": "markdown",
   "metadata": {},
   "source": [
    "## Parameters"
   ]
  },
  {
   "cell_type": "code",
   "execution_count": 154,
   "metadata": {},
   "outputs": [],
   "source": [
    "var.y1 <- c('hgt')\n",
    "var.y2 <- c('wgt')\n",
    "vars.y <- c(var.y1, var.y2)\n",
    "vars.x <- c('prot')\n",
    "vars.c <- c('male', 'wgt0', 'hgt0', 'svymthRound')\n",
    "vars.other.keep <- c('S.country', 'vil.id', 'indi.id', 'svymthRound')\n",
    "\n",
    "# Decompose sequence\n",
    "vars.tomean.first <- c('male', 'hgt0')\n",
    "var.tomean.first.name.suffix <- '_A'\n",
    "vars.tomean.third <- c(vars.tomean.second, 'prot')\n",
    "var.tomean.third.name.suffix <- '_B'\n",
    "vars.tomean.fourth <- c(vars.tomean.third, 'svymthRound')\n",
    "var.tomean.fourth.name.suffix <- '_C'\n",
    "list.vars.tomean = list(vars.tomean.first, \n",
    "                        vars.tomean.third,\n",
    "                        vars.tomean.fourth)\n",
    "list.vars.tomean.name.suffix <- list(var.tomean.first.name.suffix, \n",
    "                                     var.tomean.third.name.suffix,\n",
    "                                     var.tomean.fourth.name.suffix)"
   ]
  },
  {
   "cell_type": "markdown",
   "metadata": {},
   "source": [
    "## Example Guatemala OLS"
   ]
  },
  {
   "cell_type": "code",
   "execution_count": 155,
   "metadata": {},
   "outputs": [
    {
     "name": "stderr",
     "output_type": "stream",
     "text": [
      "Warning message:\n",
      "\"Setting row names on a tibble is deprecated.\""
     ]
    },
    {
     "data": {
      "text/html": [
       "<table>\n",
       "<thead><tr><th scope=col>S.country</th><th scope=col>vil.id</th><th scope=col>indi.id</th><th scope=col>svymthRound</th><th scope=col>prot</th><th scope=col>male</th><th scope=col>wgt0</th><th scope=col>hgt0</th><th scope=col>variable</th><th scope=col>value</th><th scope=col>prot_mean</th><th scope=col>male_mean</th><th scope=col>wgt0_mean</th><th scope=col>hgt0_mean</th><th scope=col>svymthRound_mean</th><th scope=col>value_mean</th><th scope=col>value_A</th><th scope=col>value_B</th><th scope=col>value_C</th></tr></thead>\n",
       "<tbody>\n",
       "\t<tr><td>Guatemala</td><td>3        </td><td>1352     </td><td>18       </td><td>13.3     </td><td>1        </td><td>2545.2   </td><td>47.4     </td><td>hgt      </td><td>70.2     </td><td>20.64819 </td><td>0.5499276</td><td>3312.297 </td><td>49.75137 </td><td>18.42547 </td><td>73.41216 </td><td>71.37891 </td><td>73.31571 </td><td>73.60235 </td></tr>\n",
       "\t<tr><td>Guatemala</td><td>3        </td><td>1352     </td><td>24       </td><td>46.3     </td><td>1        </td><td>2545.2   </td><td>47.4     </td><td>hgt      </td><td>75.8     </td><td>20.64819 </td><td>0.5499276</td><td>3312.297 </td><td>49.75137 </td><td>18.42547 </td><td>73.41216 </td><td>76.97891 </td><td>77.44455 </td><td>73.68902 </td></tr>\n",
       "\t<tr><td>Guatemala</td><td>3        </td><td>1354     </td><td>12       </td><td> 1.0     </td><td>1        </td><td>3634.3   </td><td>51.2     </td><td>hgt      </td><td>66.3     </td><td>20.64819 </td><td>0.5499276</td><td>3312.297 </td><td>49.75137 </td><td>18.42547 </td><td>73.41216 </td><td>65.24416 </td><td>65.17313 </td><td>69.50194 </td></tr>\n",
       "\t<tr><td>Guatemala</td><td>3        </td><td>1354     </td><td>18       </td><td> 9.8     </td><td>1        </td><td>3634.3   </td><td>51.2     </td><td>hgt      </td><td>69.2     </td><td>20.64819 </td><td>0.5499276</td><td>3312.297 </td><td>49.75137 </td><td>18.42547 </td><td>73.41216 </td><td>68.14416 </td><td>67.68082 </td><td>67.96746 </td></tr>\n",
       "\t<tr><td>Guatemala</td><td>3        </td><td>1354     </td><td>24       </td><td>15.4     </td><td>1        </td><td>3634.3   </td><td>51.2     </td><td>hgt      </td><td>75.3     </td><td>20.64819 </td><td>0.5499276</td><td>3312.297 </td><td>49.75137 </td><td>18.42547 </td><td>73.41216 </td><td>74.24416 </td><td>73.53117 </td><td>69.77564 </td></tr>\n",
       "\t<tr><td>...</td><td>...</td><td>...</td><td>...</td><td>...</td><td>...</td><td>...</td><td>...</td><td>...</td><td>...</td><td>...</td><td>...</td><td>...</td><td>...</td><td>...</td><td>...</td><td>...</td><td>...</td><td>...</td></tr>\n",
       "\t<tr><td>Guatemala</td><td>14       </td><td>2019     </td><td>12       </td><td>17.3     </td><td>1        </td><td>3132.9   </td><td>49.7     </td><td>wgt      </td><td> 7777.6  </td><td>20.64819 </td><td>0.5499276</td><td>3312.297 </td><td>49.75137 </td><td>18.42547 </td><td>8807.877 </td><td> 7702.788</td><td>7861.861 </td><td>8639.751 </td></tr>\n",
       "\t<tr><td>Guatemala</td><td>14       </td><td>2019     </td><td>18       </td><td>24.5     </td><td>1        </td><td>3132.9   </td><td>49.7     </td><td>wgt      </td><td> 9729.6  </td><td>20.64819 </td><td>0.5499276</td><td>3312.297 </td><td>49.75137 </td><td>18.42547 </td><td>8807.877 </td><td> 9654.788</td><td>9667.175 </td><td>9718.684 </td></tr>\n",
       "\t<tr><td>Guatemala</td><td>14       </td><td>2019     </td><td>24       </td><td>57.8     </td><td>1        </td><td>3132.9   </td><td>49.7     </td><td>wgt      </td><td>10276.5  </td><td>20.64819 </td><td>0.5499276</td><td>3312.297 </td><td>49.75137 </td><td>18.42547 </td><td>8807.877 </td><td>10201.688</td><td>9535.651 </td><td>8860.779 </td></tr>\n",
       "\t<tr><td>Guatemala</td><td>14       </td><td>2023     </td><td>12       </td><td>15.9     </td><td>1        </td><td>3607.1   </td><td>50.3     </td><td>wgt      </td><td> 8424.7  </td><td>20.64819 </td><td>0.5499276</td><td>3312.297 </td><td>49.75137 </td><td>18.42547 </td><td>8807.877 </td><td> 8304.458</td><td>8216.735 </td><td>8994.625 </td></tr>\n",
       "\t<tr><td>Guatemala</td><td>14       </td><td>2023     </td><td>18       </td><td>22.2     </td><td>1        </td><td>3607.1   </td><td>50.3     </td><td>wgt      </td><td> 6933.2  </td><td>20.64819 </td><td>0.5499276</td><td>3312.297 </td><td>49.75137 </td><td>18.42547 </td><td>8807.877 </td><td> 6812.958</td><td>6596.885 </td><td>6648.393 </td></tr>\n",
       "</tbody>\n",
       "</table>\n"
      ],
      "text/latex": [
       "\\begin{tabular}{r|lllllllllllllllllll}\n",
       " S.country & vil.id & indi.id & svymthRound & prot & male & wgt0 & hgt0 & variable & value & prot\\_mean & male\\_mean & wgt0\\_mean & hgt0\\_mean & svymthRound\\_mean & value\\_mean & value\\_A & value\\_B & value\\_C\\\\\n",
       "\\hline\n",
       "\t Guatemala & 3         & 1352      & 18        & 13.3      & 1         & 2545.2    & 47.4      & hgt       & 70.2      & 20.64819  & 0.5499276 & 3312.297  & 49.75137  & 18.42547  & 73.41216  & 71.37891  & 73.31571  & 73.60235 \\\\\n",
       "\t Guatemala & 3         & 1352      & 24        & 46.3      & 1         & 2545.2    & 47.4      & hgt       & 75.8      & 20.64819  & 0.5499276 & 3312.297  & 49.75137  & 18.42547  & 73.41216  & 76.97891  & 77.44455  & 73.68902 \\\\\n",
       "\t Guatemala & 3         & 1354      & 12        &  1.0      & 1         & 3634.3    & 51.2      & hgt       & 66.3      & 20.64819  & 0.5499276 & 3312.297  & 49.75137  & 18.42547  & 73.41216  & 65.24416  & 65.17313  & 69.50194 \\\\\n",
       "\t Guatemala & 3         & 1354      & 18        &  9.8      & 1         & 3634.3    & 51.2      & hgt       & 69.2      & 20.64819  & 0.5499276 & 3312.297  & 49.75137  & 18.42547  & 73.41216  & 68.14416  & 67.68082  & 67.96746 \\\\\n",
       "\t Guatemala & 3         & 1354      & 24        & 15.4      & 1         & 3634.3    & 51.2      & hgt       & 75.3      & 20.64819  & 0.5499276 & 3312.297  & 49.75137  & 18.42547  & 73.41216  & 74.24416  & 73.53117  & 69.77564 \\\\\n",
       "\t ... & ... & ... & ... & ... & ... & ... & ... & ... & ... & ... & ... & ... & ... & ... & ... & ... & ... & ...\\\\\n",
       "\t Guatemala & 14        & 2019      & 12        & 17.3      & 1         & 3132.9    & 49.7      & wgt       &  7777.6   & 20.64819  & 0.5499276 & 3312.297  & 49.75137  & 18.42547  & 8807.877  &  7702.788 & 7861.861  & 8639.751 \\\\\n",
       "\t Guatemala & 14        & 2019      & 18        & 24.5      & 1         & 3132.9    & 49.7      & wgt       &  9729.6   & 20.64819  & 0.5499276 & 3312.297  & 49.75137  & 18.42547  & 8807.877  &  9654.788 & 9667.175  & 9718.684 \\\\\n",
       "\t Guatemala & 14        & 2019      & 24        & 57.8      & 1         & 3132.9    & 49.7      & wgt       & 10276.5   & 20.64819  & 0.5499276 & 3312.297  & 49.75137  & 18.42547  & 8807.877  & 10201.688 & 9535.651  & 8860.779 \\\\\n",
       "\t Guatemala & 14        & 2023      & 12        & 15.9      & 1         & 3607.1    & 50.3      & wgt       &  8424.7   & 20.64819  & 0.5499276 & 3312.297  & 49.75137  & 18.42547  & 8807.877  &  8304.458 & 8216.735  & 8994.625 \\\\\n",
       "\t Guatemala & 14        & 2023      & 18        & 22.2      & 1         & 3607.1    & 50.3      & wgt       &  6933.2   & 20.64819  & 0.5499276 & 3312.297  & 49.75137  & 18.42547  & 8807.877  &  6812.958 & 6596.885  & 6648.393 \\\\\n",
       "\\end{tabular}\n"
      ],
      "text/markdown": [
       "\n",
       "S.country | vil.id | indi.id | svymthRound | prot | male | wgt0 | hgt0 | variable | value | prot_mean | male_mean | wgt0_mean | hgt0_mean | svymthRound_mean | value_mean | value_A | value_B | value_C | \n",
       "|---|---|---|---|---|---|---|---|---|---|---|\n",
       "| Guatemala | 3         | 1352      | 18        | 13.3      | 1         | 2545.2    | 47.4      | hgt       | 70.2      | 20.64819  | 0.5499276 | 3312.297  | 49.75137  | 18.42547  | 73.41216  | 71.37891  | 73.31571  | 73.60235  | \n",
       "| Guatemala | 3         | 1352      | 24        | 46.3      | 1         | 2545.2    | 47.4      | hgt       | 75.8      | 20.64819  | 0.5499276 | 3312.297  | 49.75137  | 18.42547  | 73.41216  | 76.97891  | 77.44455  | 73.68902  | \n",
       "| Guatemala | 3         | 1354      | 12        |  1.0      | 1         | 3634.3    | 51.2      | hgt       | 66.3      | 20.64819  | 0.5499276 | 3312.297  | 49.75137  | 18.42547  | 73.41216  | 65.24416  | 65.17313  | 69.50194  | \n",
       "| Guatemala | 3         | 1354      | 18        |  9.8      | 1         | 3634.3    | 51.2      | hgt       | 69.2      | 20.64819  | 0.5499276 | 3312.297  | 49.75137  | 18.42547  | 73.41216  | 68.14416  | 67.68082  | 67.96746  | \n",
       "| Guatemala | 3         | 1354      | 24        | 15.4      | 1         | 3634.3    | 51.2      | hgt       | 75.3      | 20.64819  | 0.5499276 | 3312.297  | 49.75137  | 18.42547  | 73.41216  | 74.24416  | 73.53117  | 69.77564  | \n",
       "| ... | ... | ... | ... | ... | ... | ... | ... | ... | ... | ... | ... | ... | ... | ... | ... | ... | ... | ... | \n",
       "| Guatemala | 14        | 2019      | 12        | 17.3      | 1         | 3132.9    | 49.7      | wgt       |  7777.6   | 20.64819  | 0.5499276 | 3312.297  | 49.75137  | 18.42547  | 8807.877  |  7702.788 | 7861.861  | 8639.751  | \n",
       "| Guatemala | 14        | 2019      | 18        | 24.5      | 1         | 3132.9    | 49.7      | wgt       |  9729.6   | 20.64819  | 0.5499276 | 3312.297  | 49.75137  | 18.42547  | 8807.877  |  9654.788 | 9667.175  | 9718.684  | \n",
       "| Guatemala | 14        | 2019      | 24        | 57.8      | 1         | 3132.9    | 49.7      | wgt       | 10276.5   | 20.64819  | 0.5499276 | 3312.297  | 49.75137  | 18.42547  | 8807.877  | 10201.688 | 9535.651  | 8860.779  | \n",
       "| Guatemala | 14        | 2023      | 12        | 15.9      | 1         | 3607.1    | 50.3      | wgt       |  8424.7   | 20.64819  | 0.5499276 | 3312.297  | 49.75137  | 18.42547  | 8807.877  |  8304.458 | 8216.735  | 8994.625  | \n",
       "| Guatemala | 14        | 2023      | 18        | 22.2      | 1         | 3607.1    | 50.3      | wgt       |  6933.2   | 20.64819  | 0.5499276 | 3312.297  | 49.75137  | 18.42547  | 8807.877  |  6812.958 | 6596.885  | 6648.393  | \n",
       "\n",
       "\n"
      ],
      "text/plain": [
       "     S.country vil.id indi.id svymthRound prot male wgt0   hgt0 variable\n",
       "1    Guatemala 3      1352    18          13.3 1    2545.2 47.4 hgt     \n",
       "2    Guatemala 3      1352    24          46.3 1    2545.2 47.4 hgt     \n",
       "3    Guatemala 3      1354    12           1.0 1    3634.3 51.2 hgt     \n",
       "4    Guatemala 3      1354    18           9.8 1    3634.3 51.2 hgt     \n",
       "5    Guatemala 3      1354    24          15.4 1    3634.3 51.2 hgt     \n",
       "...  ...       ...    ...     ...         ...  ...  ...    ...  ...     \n",
       "1378 Guatemala 14     2019    12          17.3 1    3132.9 49.7 wgt     \n",
       "1379 Guatemala 14     2019    18          24.5 1    3132.9 49.7 wgt     \n",
       "1380 Guatemala 14     2019    24          57.8 1    3132.9 49.7 wgt     \n",
       "1381 Guatemala 14     2023    12          15.9 1    3607.1 50.3 wgt     \n",
       "1382 Guatemala 14     2023    18          22.2 1    3607.1 50.3 wgt     \n",
       "     value   prot_mean male_mean wgt0_mean hgt0_mean svymthRound_mean\n",
       "1    70.2    20.64819  0.5499276 3312.297  49.75137  18.42547        \n",
       "2    75.8    20.64819  0.5499276 3312.297  49.75137  18.42547        \n",
       "3    66.3    20.64819  0.5499276 3312.297  49.75137  18.42547        \n",
       "4    69.2    20.64819  0.5499276 3312.297  49.75137  18.42547        \n",
       "5    75.3    20.64819  0.5499276 3312.297  49.75137  18.42547        \n",
       "...  ...     ...       ...       ...       ...       ...             \n",
       "1378  7777.6 20.64819  0.5499276 3312.297  49.75137  18.42547        \n",
       "1379  9729.6 20.64819  0.5499276 3312.297  49.75137  18.42547        \n",
       "1380 10276.5 20.64819  0.5499276 3312.297  49.75137  18.42547        \n",
       "1381  8424.7 20.64819  0.5499276 3312.297  49.75137  18.42547        \n",
       "1382  6933.2 20.64819  0.5499276 3312.297  49.75137  18.42547        \n",
       "     value_mean value_A   value_B  value_C \n",
       "1    73.41216   71.37891  73.31571 73.60235\n",
       "2    73.41216   76.97891  77.44455 73.68902\n",
       "3    73.41216   65.24416  65.17313 69.50194\n",
       "4    73.41216   68.14416  67.68082 67.96746\n",
       "5    73.41216   74.24416  73.53117 69.77564\n",
       "...  ...        ...       ...      ...     \n",
       "1378 8807.877    7702.788 7861.861 8639.751\n",
       "1379 8807.877    9654.788 9667.175 9718.684\n",
       "1380 8807.877   10201.688 9535.651 8860.779\n",
       "1381 8807.877    8304.458 8216.735 8994.625\n",
       "1382 8807.877    6812.958 6596.885 6648.393"
      ]
     },
     "metadata": {},
     "output_type": "display_data"
    },
    {
     "data": {
      "text/html": [
       "<table>\n",
       "<thead><tr><th scope=col>value_var</th><th scope=col>value_mean_var</th><th scope=col>value_A_var</th><th scope=col>value_B_var</th><th scope=col>value_C_var</th><th scope=col>value_var_frac</th><th scope=col>value_mean_var_frac</th><th scope=col>value_A_var_frac</th><th scope=col>value_B_var_frac</th><th scope=col>value_C_var_frac</th></tr></thead>\n",
       "<tbody>\n",
       "\t<tr><td>     21.864</td><td>NA         </td><td>     20.264</td><td>     21.231</td><td>     10.293</td><td>1          </td><td>NA         </td><td>0.927      </td><td>0.971      </td><td>0.471      </td></tr>\n",
       "\t<tr><td>2965693.245</td><td>NA         </td><td>2863501.267</td><td>2662604.945</td><td>2316612.760</td><td>1          </td><td>NA         </td><td>0.966      </td><td>0.898      </td><td>0.781      </td></tr>\n",
       "</tbody>\n",
       "</table>\n"
      ],
      "text/latex": [
       "\\begin{tabular}{r|llllllllll}\n",
       " value\\_var & value\\_mean\\_var & value\\_A\\_var & value\\_B\\_var & value\\_C\\_var & value\\_var\\_frac & value\\_mean\\_var\\_frac & value\\_A\\_var\\_frac & value\\_B\\_var\\_frac & value\\_C\\_var\\_frac\\\\\n",
       "\\hline\n",
       "\t      21.864 & NA          &      20.264 &      21.231 &      10.293 & 1           & NA          & 0.927       & 0.971       & 0.471      \\\\\n",
       "\t 2965693.245 & NA          & 2863501.267 & 2662604.945 & 2316612.760 & 1           & NA          & 0.966       & 0.898       & 0.781      \\\\\n",
       "\\end{tabular}\n"
      ],
      "text/markdown": [
       "\n",
       "value_var | value_mean_var | value_A_var | value_B_var | value_C_var | value_var_frac | value_mean_var_frac | value_A_var_frac | value_B_var_frac | value_C_var_frac | \n",
       "|---|---|\n",
       "|      21.864 | NA          |      20.264 |      21.231 |      10.293 | 1           | NA          | 0.927       | 0.971       | 0.471       | \n",
       "| 2965693.245 | NA          | 2863501.267 | 2662604.945 | 2316612.760 | 1           | NA          | 0.966       | 0.898       | 0.781       | \n",
       "\n",
       "\n"
      ],
      "text/plain": [
       "  value_var   value_mean_var value_A_var value_B_var value_C_var value_var_frac\n",
       "1      21.864 NA                  20.264      21.231      10.293 1             \n",
       "2 2965693.245 NA             2863501.267 2662604.945 2316612.760 1             \n",
       "  value_mean_var_frac value_A_var_frac value_B_var_frac value_C_var_frac\n",
       "1 NA                  0.927            0.971            0.471           \n",
       "2 NA                  0.966            0.898            0.781           "
      ]
     },
     "metadata": {},
     "output_type": "display_data"
    }
   ],
   "source": [
    "df.use <- df %>% filter(S.country == 'Guatemala') %>% filter(svymthRound %in% c(12, 18, 24))\n",
    "vars.z <- NULL\n",
    "list.out <- ff_lr_decompose(df=df.use, vars.y, vars.x, vars.c, vars.z, vars.other.keep,\n",
    "                            list.vars.tomean, list.vars.tomean.name.suffix,\n",
    "                            graph=TRUE, graph.nrow=1)\n",
    "options(repr.matrix.max.rows=10, repr.matrix.max.cols=50)\n",
    "list.out$dfmain\n",
    "options(repr.plot.width = 10, repr.plot.height = 4)\n",
    "list.out$dfsumm"
   ]
  },
  {
   "cell_type": "markdown",
   "metadata": {},
   "source": [
    "## Example Guatemala IV = vil.id"
   ]
  },
  {
   "cell_type": "code",
   "execution_count": 156,
   "metadata": {},
   "outputs": [
    {
     "name": "stderr",
     "output_type": "stream",
     "text": [
      "Warning message:\n",
      "\"Setting row names on a tibble is deprecated.\""
     ]
    },
    {
     "data": {
      "text/html": [
       "<table>\n",
       "<thead><tr><th scope=col>value_var</th><th scope=col>value_mean_var</th><th scope=col>value_A_var</th><th scope=col>value_B_var</th><th scope=col>value_C_var</th><th scope=col>value_var_frac</th><th scope=col>value_mean_var_frac</th><th scope=col>value_A_var_frac</th><th scope=col>value_B_var_frac</th><th scope=col>value_C_var_frac</th></tr></thead>\n",
       "<tbody>\n",
       "\t<tr><td>     21.864</td><td>NA         </td><td>     20.235</td><td>     18.623</td><td>     11.653</td><td>1          </td><td>NA         </td><td>0.926      </td><td>0.852      </td><td>0.533      </td></tr>\n",
       "\t<tr><td>2965693.245</td><td>NA         </td><td>2876682.895</td><td>2663130.427</td><td>2555834.238</td><td>1          </td><td>NA         </td><td>0.970      </td><td>0.898      </td><td>0.862      </td></tr>\n",
       "</tbody>\n",
       "</table>\n"
      ],
      "text/latex": [
       "\\begin{tabular}{r|llllllllll}\n",
       " value\\_var & value\\_mean\\_var & value\\_A\\_var & value\\_B\\_var & value\\_C\\_var & value\\_var\\_frac & value\\_mean\\_var\\_frac & value\\_A\\_var\\_frac & value\\_B\\_var\\_frac & value\\_C\\_var\\_frac\\\\\n",
       "\\hline\n",
       "\t      21.864 & NA          &      20.235 &      18.623 &      11.653 & 1           & NA          & 0.926       & 0.852       & 0.533      \\\\\n",
       "\t 2965693.245 & NA          & 2876682.895 & 2663130.427 & 2555834.238 & 1           & NA          & 0.970       & 0.898       & 0.862      \\\\\n",
       "\\end{tabular}\n"
      ],
      "text/markdown": [
       "\n",
       "value_var | value_mean_var | value_A_var | value_B_var | value_C_var | value_var_frac | value_mean_var_frac | value_A_var_frac | value_B_var_frac | value_C_var_frac | \n",
       "|---|---|\n",
       "|      21.864 | NA          |      20.235 |      18.623 |      11.653 | 1           | NA          | 0.926       | 0.852       | 0.533       | \n",
       "| 2965693.245 | NA          | 2876682.895 | 2663130.427 | 2555834.238 | 1           | NA          | 0.970       | 0.898       | 0.862       | \n",
       "\n",
       "\n"
      ],
      "text/plain": [
       "  value_var   value_mean_var value_A_var value_B_var value_C_var value_var_frac\n",
       "1      21.864 NA                  20.235      18.623      11.653 1             \n",
       "2 2965693.245 NA             2876682.895 2663130.427 2555834.238 1             \n",
       "  value_mean_var_frac value_A_var_frac value_B_var_frac value_C_var_frac\n",
       "1 NA                  0.926            0.852            0.533           \n",
       "2 NA                  0.970            0.898            0.862           "
      ]
     },
     "metadata": {},
     "output_type": "display_data"
    },
    {
     "data": {},
     "metadata": {},
     "output_type": "display_data"
    },
    {
     "data": {
      "image/png": "[encoded data removed]",
      "text/plain": [
       "plot without title"
      ]
     },
     "metadata": {},
     "output_type": "display_data"
    }
   ],
   "source": [
    "df.use <- df %>% filter(S.country == 'Guatemala') %>% filter(svymthRound %in% c(12, 18, 24))\n",
    "vars.z <- c('vil.id')\n",
    "list.out <- ff_lr_decompose(df=df.use, vars.y, vars.x, vars.c, vars.z, vars.other.keep,\n",
    "                            list.vars.tomean, list.vars.tomean.name.suffix,\n",
    "                            graph=TRUE, graph.nrow=1)\n",
    "list.out$dfsumm\n",
    "options(repr.plot.width = 10, repr.plot.height = 2)\n",
    "list.out$graph"
   ]
  },
  {
   "cell_type": "markdown",
   "metadata": {},
   "source": [
    "## Example Cebu OLS"
   ]
  },
  {
   "cell_type": "code",
   "execution_count": 157,
   "metadata": {},
   "outputs": [
    {
     "name": "stderr",
     "output_type": "stream",
     "text": [
      "Warning message:\n",
      "\"Setting row names on a tibble is deprecated.\""
     ]
    },
    {
     "data": {
      "text/html": [
       "<table>\n",
       "<thead><tr><th scope=col>S.country</th><th scope=col>vil.id</th><th scope=col>indi.id</th><th scope=col>svymthRound</th><th scope=col>prot</th><th scope=col>male</th><th scope=col>wgt0</th><th scope=col>hgt0</th><th scope=col>variable</th><th scope=col>value</th><th scope=col>prot_mean</th><th scope=col>male_mean</th><th scope=col>wgt0_mean</th><th scope=col>hgt0_mean</th><th scope=col>svymthRound_mean</th><th scope=col>value_mean</th><th scope=col>value_A</th><th scope=col>value_B</th><th scope=col>value_C</th></tr></thead>\n",
       "<tbody>\n",
       "\t<tr><td>Cebu     </td><td>1        </td><td>1        </td><td>12       </td><td>11.3     </td><td>1        </td><td>2043.8   </td><td>44.2     </td><td>hgt      </td><td>70.8     </td><td>16.95957 </td><td>0.5263013</td><td>2988.773 </td><td>49.23897 </td><td>17.87441 </td><td>74.99584 </td><td>72.12171 </td><td>75.23858 </td><td>79.26306 </td></tr>\n",
       "\t<tr><td>Cebu     </td><td>1        </td><td>2        </td><td>12       </td><td> 5.9     </td><td>0        </td><td>2839.9   </td><td>49.7     </td><td>hgt      </td><td>72.2     </td><td>16.95957 </td><td>0.5263013</td><td>2988.773 </td><td>49.23897 </td><td>17.87441 </td><td>74.99584 </td><td>72.64812 </td><td>73.04655 </td><td>77.07104 </td></tr>\n",
       "\t<tr><td>Cebu     </td><td>1        </td><td>2        </td><td>18       </td><td> 0.5     </td><td>0        </td><td>2839.9   </td><td>49.7     </td><td>hgt      </td><td>76.5     </td><td>16.95957 </td><td>0.5263013</td><td>2988.773 </td><td>49.23897 </td><td>17.87441 </td><td>74.99584 </td><td>76.94812 </td><td>77.54600 </td><td>77.45996 </td></tr>\n",
       "\t<tr><td>Cebu     </td><td>1        </td><td>2        </td><td>24       </td><td>14.1     </td><td>0        </td><td>2839.9   </td><td>49.7     </td><td>hgt      </td><td>79.2     </td><td>16.95957 </td><td>0.5263013</td><td>2988.773 </td><td>49.23897 </td><td>17.87441 </td><td>74.99584 </td><td>79.64812 </td><td>79.74370 </td><td>75.54714 </td></tr>\n",
       "\t<tr><td>Cebu     </td><td>1        </td><td>3        </td><td>12       </td><td>21.4     </td><td>0        </td><td>3445.6   </td><td>51.7     </td><td>hgt      </td><td>68.0     </td><td>16.95957 </td><td>0.5263013</td><td>2988.773 </td><td>49.23897 </td><td>17.87441 </td><td>74.99584 </td><td>67.70200 </td><td>66.12292 </td><td>70.14740 </td></tr>\n",
       "\t<tr><td>...</td><td>...</td><td>...</td><td>...</td><td>...</td><td>...</td><td>...</td><td>...</td><td>...</td><td>...</td><td>...</td><td>...</td><td>...</td><td>...</td><td>...</td><td>...</td><td>...</td><td>...</td><td>...</td></tr>\n",
       "\t<tr><td>Cebu     </td><td>33       </td><td>1348     </td><td>18       </td><td>48.6     </td><td>1        </td><td>3339.5   </td><td>52.4     </td><td>wgt      </td><td> 9938.4  </td><td>16.95957 </td><td>0.5263013</td><td>2988.773 </td><td>49.23897 </td><td>17.87441 </td><td>8845.333 </td><td> 9632.231</td><td> 8705.546</td><td> 8687.786</td></tr>\n",
       "\t<tr><td>Cebu     </td><td>33       </td><td>1348     </td><td>24       </td><td>17.6     </td><td>1        </td><td>3339.5   </td><td>52.4     </td><td>wgt      </td><td>13120.4  </td><td>16.95957 </td><td>0.5263013</td><td>2988.773 </td><td>49.23897 </td><td>17.87441 </td><td>8845.333 </td><td>12814.231</td><td>12439.011</td><td>11572.732</td></tr>\n",
       "\t<tr><td>Cebu     </td><td>33       </td><td>1349     </td><td>12       </td><td>15.3     </td><td>1        </td><td>3216.5   </td><td>50.9     </td><td>wgt      </td><td> 8979.3  </td><td>16.95957 </td><td>0.5263013</td><td>2988.773 </td><td>49.23897 </td><td>17.87441 </td><td>8845.333 </td><td> 8700.920</td><td> 8501.461</td><td> 9332.220</td></tr>\n",
       "\t<tr><td>Cebu     </td><td>33       </td><td>1349     </td><td>18       </td><td>12.0     </td><td>1        </td><td>3216.5   </td><td>50.9     </td><td>wgt      </td><td>10759.6  </td><td>16.95957 </td><td>0.5263013</td><td>2988.773 </td><td>49.23897 </td><td>17.87441 </td><td>8845.333 </td><td>10481.220</td><td>10340.466</td><td>10322.705</td></tr>\n",
       "\t<tr><td>Cebu     </td><td>33       </td><td>1349     </td><td>24       </td><td>38.4     </td><td>1        </td><td>3216.5   </td><td>50.9     </td><td>wgt      </td><td> 9634.6  </td><td>16.95957 </td><td>0.5263013</td><td>2988.773 </td><td>49.23897 </td><td>17.87441 </td><td>8845.333 </td><td> 9356.220</td><td> 8745.831</td><td> 7879.551</td></tr>\n",
       "</tbody>\n",
       "</table>\n"
      ],
      "text/latex": [
       "\\begin{tabular}{r|lllllllllllllllllll}\n",
       " S.country & vil.id & indi.id & svymthRound & prot & male & wgt0 & hgt0 & variable & value & prot\\_mean & male\\_mean & wgt0\\_mean & hgt0\\_mean & svymthRound\\_mean & value\\_mean & value\\_A & value\\_B & value\\_C\\\\\n",
       "\\hline\n",
       "\t Cebu      & 1         & 1         & 12        & 11.3      & 1         & 2043.8    & 44.2      & hgt       & 70.8      & 16.95957  & 0.5263013 & 2988.773  & 49.23897  & 17.87441  & 74.99584  & 72.12171  & 75.23858  & 79.26306 \\\\\n",
       "\t Cebu      & 1         & 2         & 12        &  5.9      & 0         & 2839.9    & 49.7      & hgt       & 72.2      & 16.95957  & 0.5263013 & 2988.773  & 49.23897  & 17.87441  & 74.99584  & 72.64812  & 73.04655  & 77.07104 \\\\\n",
       "\t Cebu      & 1         & 2         & 18        &  0.5      & 0         & 2839.9    & 49.7      & hgt       & 76.5      & 16.95957  & 0.5263013 & 2988.773  & 49.23897  & 17.87441  & 74.99584  & 76.94812  & 77.54600  & 77.45996 \\\\\n",
       "\t Cebu      & 1         & 2         & 24        & 14.1      & 0         & 2839.9    & 49.7      & hgt       & 79.2      & 16.95957  & 0.5263013 & 2988.773  & 49.23897  & 17.87441  & 74.99584  & 79.64812  & 79.74370  & 75.54714 \\\\\n",
       "\t Cebu      & 1         & 3         & 12        & 21.4      & 0         & 3445.6    & 51.7      & hgt       & 68.0      & 16.95957  & 0.5263013 & 2988.773  & 49.23897  & 17.87441  & 74.99584  & 67.70200  & 66.12292  & 70.14740 \\\\\n",
       "\t ... & ... & ... & ... & ... & ... & ... & ... & ... & ... & ... & ... & ... & ... & ... & ... & ... & ... & ...\\\\\n",
       "\t Cebu      & 33        & 1348      & 18        & 48.6      & 1         & 3339.5    & 52.4      & wgt       &  9938.4   & 16.95957  & 0.5263013 & 2988.773  & 49.23897  & 17.87441  & 8845.333  &  9632.231 &  8705.546 &  8687.786\\\\\n",
       "\t Cebu      & 33        & 1348      & 24        & 17.6      & 1         & 3339.5    & 52.4      & wgt       & 13120.4   & 16.95957  & 0.5263013 & 2988.773  & 49.23897  & 17.87441  & 8845.333  & 12814.231 & 12439.011 & 11572.732\\\\\n",
       "\t Cebu      & 33        & 1349      & 12        & 15.3      & 1         & 3216.5    & 50.9      & wgt       &  8979.3   & 16.95957  & 0.5263013 & 2988.773  & 49.23897  & 17.87441  & 8845.333  &  8700.920 &  8501.461 &  9332.220\\\\\n",
       "\t Cebu      & 33        & 1349      & 18        & 12.0      & 1         & 3216.5    & 50.9      & wgt       & 10759.6   & 16.95957  & 0.5263013 & 2988.773  & 49.23897  & 17.87441  & 8845.333  & 10481.220 & 10340.466 & 10322.705\\\\\n",
       "\t Cebu      & 33        & 1349      & 24        & 38.4      & 1         & 3216.5    & 50.9      & wgt       &  9634.6   & 16.95957  & 0.5263013 & 2988.773  & 49.23897  & 17.87441  & 8845.333  &  9356.220 &  8745.831 &  7879.551\\\\\n",
       "\\end{tabular}\n"
      ],
      "text/markdown": [
       "\n",
       "S.country | vil.id | indi.id | svymthRound | prot | male | wgt0 | hgt0 | variable | value | prot_mean | male_mean | wgt0_mean | hgt0_mean | svymthRound_mean | value_mean | value_A | value_B | value_C | \n",
       "|---|---|---|---|---|---|---|---|---|---|---|\n",
       "| Cebu      | 1         | 1         | 12        | 11.3      | 1         | 2043.8    | 44.2      | hgt       | 70.8      | 16.95957  | 0.5263013 | 2988.773  | 49.23897  | 17.87441  | 74.99584  | 72.12171  | 75.23858  | 79.26306  | \n",
       "| Cebu      | 1         | 2         | 12        |  5.9      | 0         | 2839.9    | 49.7      | hgt       | 72.2      | 16.95957  | 0.5263013 | 2988.773  | 49.23897  | 17.87441  | 74.99584  | 72.64812  | 73.04655  | 77.07104  | \n",
       "| Cebu      | 1         | 2         | 18        |  0.5      | 0         | 2839.9    | 49.7      | hgt       | 76.5      | 16.95957  | 0.5263013 | 2988.773  | 49.23897  | 17.87441  | 74.99584  | 76.94812  | 77.54600  | 77.45996  | \n",
       "| Cebu      | 1         | 2         | 24        | 14.1      | 0         | 2839.9    | 49.7      | hgt       | 79.2      | 16.95957  | 0.5263013 | 2988.773  | 49.23897  | 17.87441  | 74.99584  | 79.64812  | 79.74370  | 75.54714  | \n",
       "| Cebu      | 1         | 3         | 12        | 21.4      | 0         | 3445.6    | 51.7      | hgt       | 68.0      | 16.95957  | 0.5263013 | 2988.773  | 49.23897  | 17.87441  | 74.99584  | 67.70200  | 66.12292  | 70.14740  | \n",
       "| ... | ... | ... | ... | ... | ... | ... | ... | ... | ... | ... | ... | ... | ... | ... | ... | ... | ... | ... | \n",
       "| Cebu      | 33        | 1348      | 18        | 48.6      | 1         | 3339.5    | 52.4      | wgt       |  9938.4   | 16.95957  | 0.5263013 | 2988.773  | 49.23897  | 17.87441  | 8845.333  |  9632.231 |  8705.546 |  8687.786 | \n",
       "| Cebu      | 33        | 1348      | 24        | 17.6      | 1         | 3339.5    | 52.4      | wgt       | 13120.4   | 16.95957  | 0.5263013 | 2988.773  | 49.23897  | 17.87441  | 8845.333  | 12814.231 | 12439.011 | 11572.732 | \n",
       "| Cebu      | 33        | 1349      | 12        | 15.3      | 1         | 3216.5    | 50.9      | wgt       |  8979.3   | 16.95957  | 0.5263013 | 2988.773  | 49.23897  | 17.87441  | 8845.333  |  8700.920 |  8501.461 |  9332.220 | \n",
       "| Cebu      | 33        | 1349      | 18        | 12.0      | 1         | 3216.5    | 50.9      | wgt       | 10759.6   | 16.95957  | 0.5263013 | 2988.773  | 49.23897  | 17.87441  | 8845.333  | 10481.220 | 10340.466 | 10322.705 | \n",
       "| Cebu      | 33        | 1349      | 24        | 38.4      | 1         | 3216.5    | 50.9      | wgt       |  9634.6   | 16.95957  | 0.5263013 | 2988.773  | 49.23897  | 17.87441  | 8845.333  |  9356.220 |  8745.831 |  7879.551 | \n",
       "\n",
       "\n"
      ],
      "text/plain": [
       "     S.country vil.id indi.id svymthRound prot male wgt0   hgt0 variable\n",
       "1    Cebu      1      1       12          11.3 1    2043.8 44.2 hgt     \n",
       "2    Cebu      1      2       12           5.9 0    2839.9 49.7 hgt     \n",
       "3    Cebu      1      2       18           0.5 0    2839.9 49.7 hgt     \n",
       "4    Cebu      1      2       24          14.1 0    2839.9 49.7 hgt     \n",
       "5    Cebu      1      3       12          21.4 0    3445.6 51.7 hgt     \n",
       "...  ...       ...    ...     ...         ...  ...  ...    ...  ...     \n",
       "7258 Cebu      33     1348    18          48.6 1    3339.5 52.4 wgt     \n",
       "7259 Cebu      33     1348    24          17.6 1    3339.5 52.4 wgt     \n",
       "7260 Cebu      33     1349    12          15.3 1    3216.5 50.9 wgt     \n",
       "7261 Cebu      33     1349    18          12.0 1    3216.5 50.9 wgt     \n",
       "7262 Cebu      33     1349    24          38.4 1    3216.5 50.9 wgt     \n",
       "     value   prot_mean male_mean wgt0_mean hgt0_mean svymthRound_mean\n",
       "1    70.8    16.95957  0.5263013 2988.773  49.23897  17.87441        \n",
       "2    72.2    16.95957  0.5263013 2988.773  49.23897  17.87441        \n",
       "3    76.5    16.95957  0.5263013 2988.773  49.23897  17.87441        \n",
       "4    79.2    16.95957  0.5263013 2988.773  49.23897  17.87441        \n",
       "5    68.0    16.95957  0.5263013 2988.773  49.23897  17.87441        \n",
       "...  ...     ...       ...       ...       ...       ...             \n",
       "7258  9938.4 16.95957  0.5263013 2988.773  49.23897  17.87441        \n",
       "7259 13120.4 16.95957  0.5263013 2988.773  49.23897  17.87441        \n",
       "7260  8979.3 16.95957  0.5263013 2988.773  49.23897  17.87441        \n",
       "7261 10759.6 16.95957  0.5263013 2988.773  49.23897  17.87441        \n",
       "7262  9634.6 16.95957  0.5263013 2988.773  49.23897  17.87441        \n",
       "     value_mean value_A   value_B   value_C  \n",
       "1    74.99584   72.12171  75.23858  79.26306 \n",
       "2    74.99584   72.64812  73.04655  77.07104 \n",
       "3    74.99584   76.94812  77.54600  77.45996 \n",
       "4    74.99584   79.64812  79.74370  75.54714 \n",
       "5    74.99584   67.70200  66.12292  70.14740 \n",
       "...  ...        ...       ...       ...      \n",
       "7258 8845.333    9632.231  8705.546  8687.786\n",
       "7259 8845.333   12814.231 12439.011 11572.732\n",
       "7260 8845.333    8700.920  8501.461  9332.220\n",
       "7261 8845.333   10481.220 10340.466 10322.705\n",
       "7262 8845.333    9356.220  8745.831  7879.551"
      ]
     },
     "metadata": {},
     "output_type": "display_data"
    },
    {
     "data": {
      "text/html": [
       "<table>\n",
       "<thead><tr><th scope=col>value_var</th><th scope=col>value_mean_var</th><th scope=col>value_A_var</th><th scope=col>value_B_var</th><th scope=col>value_C_var</th><th scope=col>value_var_frac</th><th scope=col>value_mean_var_frac</th><th scope=col>value_A_var_frac</th><th scope=col>value_B_var_frac</th><th scope=col>value_C_var_frac</th></tr></thead>\n",
       "<tbody>\n",
       "\t<tr><td>     24.375</td><td>NA         </td><td>     22.561</td><td>     21.712</td><td>     10.423</td><td>1          </td><td>NA         </td><td>0.926      </td><td>0.891      </td><td>0.428      </td></tr>\n",
       "\t<tr><td>3337460.957</td><td>NA         </td><td>3218987.397</td><td>2898062.395</td><td>2417504.727</td><td>1          </td><td>NA         </td><td>0.965      </td><td>0.868      </td><td>0.724      </td></tr>\n",
       "</tbody>\n",
       "</table>\n"
      ],
      "text/latex": [
       "\\begin{tabular}{r|llllllllll}\n",
       " value\\_var & value\\_mean\\_var & value\\_A\\_var & value\\_B\\_var & value\\_C\\_var & value\\_var\\_frac & value\\_mean\\_var\\_frac & value\\_A\\_var\\_frac & value\\_B\\_var\\_frac & value\\_C\\_var\\_frac\\\\\n",
       "\\hline\n",
       "\t      24.375 & NA          &      22.561 &      21.712 &      10.423 & 1           & NA          & 0.926       & 0.891       & 0.428      \\\\\n",
       "\t 3337460.957 & NA          & 3218987.397 & 2898062.395 & 2417504.727 & 1           & NA          & 0.965       & 0.868       & 0.724      \\\\\n",
       "\\end{tabular}\n"
      ],
      "text/markdown": [
       "\n",
       "value_var | value_mean_var | value_A_var | value_B_var | value_C_var | value_var_frac | value_mean_var_frac | value_A_var_frac | value_B_var_frac | value_C_var_frac | \n",
       "|---|---|\n",
       "|      24.375 | NA          |      22.561 |      21.712 |      10.423 | 1           | NA          | 0.926       | 0.891       | 0.428       | \n",
       "| 3337460.957 | NA          | 3218987.397 | 2898062.395 | 2417504.727 | 1           | NA          | 0.965       | 0.868       | 0.724       | \n",
       "\n",
       "\n"
      ],
      "text/plain": [
       "  value_var   value_mean_var value_A_var value_B_var value_C_var value_var_frac\n",
       "1      24.375 NA                  22.561      21.712      10.423 1             \n",
       "2 3337460.957 NA             3218987.397 2898062.395 2417504.727 1             \n",
       "  value_mean_var_frac value_A_var_frac value_B_var_frac value_C_var_frac\n",
       "1 NA                  0.926            0.891            0.428           \n",
       "2 NA                  0.965            0.868            0.724           "
      ]
     },
     "metadata": {},
     "output_type": "display_data"
    }
   ],
   "source": [
    "df.use <- df %>% filter(S.country == 'Cebu') %>% filter(svymthRound %in% c(12, 18, 24))\n",
    "vars.z <- NULL\n",
    "list.out <- ff_lr_decompose(df=df.use, vars.y, vars.x, vars.c, vars.z, vars.other.keep,\n",
    "                            list.vars.tomean, list.vars.tomean.name.suffix,\n",
    "                            graph=TRUE, graph.nrow=1)\n",
    "options(repr.matrix.max.rows=10, repr.matrix.max.cols=50)\n",
    "list.out$dfmain\n",
    "options(repr.plot.width = 10, repr.plot.height = 4)\n",
    "list.out$dfsumm"
   ]
  },
  {
   "cell_type": "markdown",
   "metadata": {},
   "source": [
    "## Example Cebu IV"
   ]
  },
  {
   "cell_type": "code",
   "execution_count": 158,
   "metadata": {},
   "outputs": [
    {
     "name": "stderr",
     "output_type": "stream",
     "text": [
      "Warning message:\n",
      "\"Setting row names on a tibble is deprecated.\""
     ]
    },
    {
     "data": {
      "text/html": [
       "<table>\n",
       "<thead><tr><th scope=col>value_var</th><th scope=col>value_mean_var</th><th scope=col>value_A_var</th><th scope=col>value_B_var</th><th scope=col>value_C_var</th><th scope=col>value_var_frac</th><th scope=col>value_mean_var_frac</th><th scope=col>value_A_var_frac</th><th scope=col>value_B_var_frac</th><th scope=col>value_C_var_frac</th></tr></thead>\n",
       "<tbody>\n",
       "\t<tr><td>     24.375</td><td>NA         </td><td>     22.625</td><td>     22.676</td><td>     14.89 </td><td>1          </td><td>NA         </td><td>0.928      </td><td>0.930      </td><td>0.611      </td></tr>\n",
       "\t<tr><td>3337460.957</td><td>NA         </td><td>3237415.252</td><td>3298020.911</td><td>3071065.97 </td><td>1          </td><td>NA         </td><td>0.970      </td><td>0.988      </td><td>0.920      </td></tr>\n",
       "</tbody>\n",
       "</table>\n"
      ],
      "text/latex": [
       "\\begin{tabular}{r|llllllllll}\n",
       " value\\_var & value\\_mean\\_var & value\\_A\\_var & value\\_B\\_var & value\\_C\\_var & value\\_var\\_frac & value\\_mean\\_var\\_frac & value\\_A\\_var\\_frac & value\\_B\\_var\\_frac & value\\_C\\_var\\_frac\\\\\n",
       "\\hline\n",
       "\t      24.375 & NA          &      22.625 &      22.676 &      14.89  & 1           & NA          & 0.928       & 0.930       & 0.611      \\\\\n",
       "\t 3337460.957 & NA          & 3237415.252 & 3298020.911 & 3071065.97  & 1           & NA          & 0.970       & 0.988       & 0.920      \\\\\n",
       "\\end{tabular}\n"
      ],
      "text/markdown": [
       "\n",
       "value_var | value_mean_var | value_A_var | value_B_var | value_C_var | value_var_frac | value_mean_var_frac | value_A_var_frac | value_B_var_frac | value_C_var_frac | \n",
       "|---|---|\n",
       "|      24.375 | NA          |      22.625 |      22.676 |      14.89  | 1           | NA          | 0.928       | 0.930       | 0.611       | \n",
       "| 3337460.957 | NA          | 3237415.252 | 3298020.911 | 3071065.97  | 1           | NA          | 0.970       | 0.988       | 0.920       | \n",
       "\n",
       "\n"
      ],
      "text/plain": [
       "  value_var   value_mean_var value_A_var value_B_var value_C_var value_var_frac\n",
       "1      24.375 NA                  22.625      22.676      14.89  1             \n",
       "2 3337460.957 NA             3237415.252 3298020.911 3071065.97  1             \n",
       "  value_mean_var_frac value_A_var_frac value_B_var_frac value_C_var_frac\n",
       "1 NA                  0.928            0.930            0.611           \n",
       "2 NA                  0.970            0.988            0.920           "
      ]
     },
     "metadata": {},
     "output_type": "display_data"
    },
    {
     "data": {},
     "metadata": {},
     "output_type": "display_data"
    },
    {
     "data": {
      "image/png": "[encoded data removed]",
      "text/plain": [
       "plot without title"
      ]
     },
     "metadata": {},
     "output_type": "display_data"
    }
   ],
   "source": [
    "df.use <- df %>% filter(S.country == 'Cebu') %>% filter(svymthRound %in% c(12, 18, 24))\n",
    "vars.z <- c('wealthIdx')\n",
    "list.out <- ff_lr_decompose(df=df.use, vars.y, vars.x, vars.c, vars.z, vars.other.keep,\n",
    "                            list.vars.tomean, list.vars.tomean.name.suffix,\n",
    "                            graph=TRUE, graph.nrow=1)\n",
    "list.out$dfsumm\n",
    "options(repr.plot.width = 10, repr.plot.height = 2)\n",
    "list.out$graph"
   ]
  },
  {
   "cell_type": "markdown",
   "metadata": {},
   "source": [
    "## Examples Line by Line\n",
    "\n",
    "The examples are just to test the code with different types of variables."
   ]
  },
  {
   "cell_type": "code",
   "execution_count": 159,
   "metadata": {},
   "outputs": [
    {
     "data": {
      "text/html": [
       "<ol class=list-inline>\n",
       "\t<li>2022</li>\n",
       "\t<li>16</li>\n",
       "</ol>\n"
      ],
      "text/latex": [
       "\\begin{enumerate*}\n",
       "\\item 2022\n",
       "\\item 16\n",
       "\\end{enumerate*}\n"
      ],
      "text/markdown": [
       "1. 2022\n",
       "2. 16\n",
       "\n",
       "\n"
      ],
      "text/plain": [
       "[1] 2022   16"
      ]
     },
     "metadata": {},
     "output_type": "display_data"
    }
   ],
   "source": [
    "df.use <- df %>% filter(S.country == 'Guatemala') %>% filter(svymthRound %in% c(12, 18, 24))\n",
    "dim(df.use)"
   ]
  },
  {
   "cell_type": "markdown",
   "metadata": {},
   "source": [
    "### Setting Up Parameters"
   ]
  },
  {
   "cell_type": "code",
   "execution_count": 160,
   "metadata": {},
   "outputs": [],
   "source": [
    "# Define Left Hand Side Variables\n",
    "var.y1 <- c('hgt')\n",
    "var.y2 <- c('wgt')\n",
    "vars.y <- c(var.y1, var.y2)\n",
    "# Define Right Hand Side Variables\n",
    "vars.x <- c('prot')\n",
    "vars.c <- c('male', 'wgt0', 'hgt0', 'svymthRound')\n",
    "# vars.z <- c('p.A.prot')\n",
    "vars.z <- c('vil.id')\n",
    "# vars.z <- NULL\n",
    "vars.xc <- c(vars.x, vars.c)\n",
    "\n",
    "# Other variables to keep\n",
    "vars.other.keep <- c('S.country', 'vil.id', 'indi.id', 'svymthRound')\n",
    "\n",
    "# Decompose sequence\n",
    "vars.tomean.first <- c('male', 'hgt0')\n",
    "var.tomean.first.name.suffix <- '_mh02m'\n",
    "vars.tomean.second <- c(vars.tomean.first, 'hgt0', 'wgt0')\n",
    "var.tomean.second.name.suffix <- '_mh0me2m'\n",
    "vars.tomean.third <- c(vars.tomean.second, 'prot')\n",
    "var.tomean.third.name.suffix <- '_mh0mep2m'\n",
    "vars.tomean.fourth <- c(vars.tomean.third, 'svymthRound')\n",
    "var.tomean.fourth.name.suffix <- '_mh0mepm2m'\n",
    "list.vars.tomean = list(\n",
    "#                         vars.tomean.first, \n",
    "                        vars.tomean.second,                         \n",
    "                        vars.tomean.third,\n",
    "                        vars.tomean.fourth\n",
    "                        )\n",
    "list.vars.tomean.name.suffix <- list(\n",
    "#                                     var.tomean.first.name.suffix, \n",
    "                                     var.tomean.second.name.suffix,\n",
    "                                     var.tomean.third.name.suffix,\n",
    "                                     var.tomean.fourth.name.suffix\n",
    "                                    )"
   ]
  },
  {
   "cell_type": "markdown",
   "metadata": {},
   "source": [
    "### Obtain Regression Coefficients from somewhere"
   ]
  },
  {
   "cell_type": "code",
   "execution_count": 161,
   "metadata": {},
   "outputs": [],
   "source": [
    "# Regressions\n",
    "# regf.iv from C:\\Users\\fan\\R4Econ\\linreg\\ivreg\\ivregdfrow.R\n",
    "df.reg.out <- as_tibble(bind_rows(lapply(vars.y, regf.iv,\n",
    "                                         vars.x=vars.x, vars.c=vars.c, vars.z=vars.z, df=df)))\n",
    "# Regressions\n",
    "# reg1 <- regf.iv(var.y = var.y1, vars.x, vars.c, vars.z, df.use)\n",
    "# reg2 <- regf.iv(var.y = var.y2, vars.x, vars.c, vars.z, df.use)\n",
    "# df.reg.out <- as_tibble(bind_rows(reg1, reg2))"
   ]
  },
  {
   "cell_type": "code",
   "execution_count": 162,
   "metadata": {},
   "outputs": [
    {
     "data": {
      "text/html": [
       "<table>\n",
       "<thead><tr><th scope=col>X.Intercept._Estimate</th><th scope=col>X.Intercept._Pr...z..</th><th scope=col>X.Intercept._Std.Error</th><th scope=col>X.Intercept._zvalue</th><th scope=col>hgt0_Estimate</th><th scope=col>hgt0_Pr...z..</th><th scope=col>hgt0_Std.Error</th><th scope=col>hgt0_zvalue</th><th scope=col>male_Estimate</th><th scope=col>male_Pr...z..</th><th scope=col>male_Std.Error</th><th scope=col>male_zvalue</th><th scope=col>prot_Estimate</th><th scope=col>prot_Pr...z..</th><th scope=col>prot_Std.Error</th><th scope=col>prot_zvalue</th><th scope=col>Sargan_df1</th><th scope=col>svymthRound_Estimate</th><th scope=col>svymthRound_Pr...z..</th><th scope=col>svymthRound_Std.Error</th><th scope=col>svymthRound_zvalue</th><th scope=col>vars_var.y</th><th scope=col>vars_vars.c</th><th scope=col>vars_vars.x</th><th scope=col>vars_vars.z</th><th scope=col>Weakinstruments_df1</th><th scope=col>Weakinstruments_df2</th><th scope=col>Weakinstruments_p.value</th><th scope=col>Weakinstruments_statistic</th><th scope=col>wgt0_Estimate</th><th scope=col>wgt0_Pr...z..</th><th scope=col>wgt0_Std.Error</th><th scope=col>wgt0_zvalue</th><th scope=col>Wu.Hausman_df1</th><th scope=col>Wu.Hausman_df2</th><th scope=col>Wu.Hausman_p.value</th><th scope=col>Wu.Hausman_statistic</th></tr></thead>\n",
       "<tbody>\n",
       "\t<tr><td>22.2547168993562          </td><td>8.90880805116339e-75      </td><td>1.21637209166939          </td><td>18.2959778934199          </td><td>0.683485333749857         </td><td>4.55758747404583e-123     </td><td>0.0289699490334337        </td><td>23.5929077044995          </td><td>1.24473528437265          </td><td>6.90641190023989e-47      </td><td>0.0865599892152535        </td><td>14.3800304928101          </td><td>-0.27147719759472         </td><td>1.41850396300123e-19      </td><td>0.0299946394681993        </td><td>-9.05085716674618         </td><td>0                         </td><td>1.13391864772583          </td><td>0                         </td><td>0.0250995291586825        </td><td>45.176889198082           </td><td>hgt                       </td><td>male+wgt0+hgt0+svymthRound</td><td>prot                      </td><td>vil.id                    </td><td>1                         </td><td>18957                     </td><td>2.50701851391303e-60      </td><td>270.337017802049          </td><td>0.000443041849600911      </td><td>0.00335642643992964       </td><td>0.00015105124195408       </td><td>2.93305664931638          </td><td>1                         </td><td>18956                     </td><td>2.71953708467901e-42      </td><td>186.64752853014           </td></tr>\n",
       "\t<tr><td>-1101.09005806864         </td><td>0.00510620293260513       </td><td>393.210441213089          </td><td>-2.80025640893889         </td><td>75.4867896610275          </td><td>3.00433623813613e-16      </td><td>9.23594523428083          </td><td>8.17315258440956          </td><td>489.852902350196          </td><td>3.81065764666863e-65      </td><td>28.7388865413848          </td><td>17.0449506331706          </td><td>-59.0727542411542         </td><td>9.53469044018094e-09      </td><td>10.293563528696           </td><td>-5.73880503835948         </td><td>0                         </td><td>250.778883169332          </td><td>6.33178366808817e-190     </td><td>8.53129752452757          </td><td>29.395163215014           </td><td>wgt                       </td><td>male+wgt0+hgt0+svymthRound</td><td>prot                      </td><td>vil.id                    </td><td>1                         </td><td>18962                     </td><td>1.34647368544412e-60      </td><td>271.592883001643          </td><td>0.769615810959556         </td><td>1.88093171544694e-60      </td><td>0.0469249111255955        </td><td>16.4010073220952          </td><td>1                         </td><td>18961                     </td><td>4.84720137482191e-16      </td><td>65.9737961330202          </td></tr>\n",
       "</tbody>\n",
       "</table>\n"
      ],
      "text/latex": [
       "\\begin{tabular}{r|lllllllllllllllllllllllllllllllllllll}\n",
       " X.Intercept.\\_Estimate & X.Intercept.\\_Pr...z.. & X.Intercept.\\_Std.Error & X.Intercept.\\_zvalue & hgt0\\_Estimate & hgt0\\_Pr...z.. & hgt0\\_Std.Error & hgt0\\_zvalue & male\\_Estimate & male\\_Pr...z.. & male\\_Std.Error & male\\_zvalue & prot\\_Estimate & prot\\_Pr...z.. & prot\\_Std.Error & prot\\_zvalue & Sargan\\_df1 & svymthRound\\_Estimate & svymthRound\\_Pr...z.. & svymthRound\\_Std.Error & svymthRound\\_zvalue & vars\\_var.y & vars\\_vars.c & vars\\_vars.x & vars\\_vars.z & Weakinstruments\\_df1 & Weakinstruments\\_df2 & Weakinstruments\\_p.value & Weakinstruments\\_statistic & wgt0\\_Estimate & wgt0\\_Pr...z.. & wgt0\\_Std.Error & wgt0\\_zvalue & Wu.Hausman\\_df1 & Wu.Hausman\\_df2 & Wu.Hausman\\_p.value & Wu.Hausman\\_statistic\\\\\n",
       "\\hline\n",
       "\t 22.2547168993562           & 8.90880805116339e-75       & 1.21637209166939           & 18.2959778934199           & 0.683485333749857          & 4.55758747404583e-123      & 0.0289699490334337         & 23.5929077044995           & 1.24473528437265           & 6.90641190023989e-47       & 0.0865599892152535         & 14.3800304928101           & -0.27147719759472          & 1.41850396300123e-19       & 0.0299946394681993         & -9.05085716674618          & 0                          & 1.13391864772583           & 0                          & 0.0250995291586825         & 45.176889198082            & hgt                        & male+wgt0+hgt0+svymthRound & prot                       & vil.id                     & 1                          & 18957                      & 2.50701851391303e-60       & 270.337017802049           & 0.000443041849600911       & 0.00335642643992964        & 0.00015105124195408        & 2.93305664931638           & 1                          & 18956                      & 2.71953708467901e-42       & 186.64752853014           \\\\\n",
       "\t -1101.09005806864          & 0.00510620293260513        & 393.210441213089           & -2.80025640893889          & 75.4867896610275           & 3.00433623813613e-16       & 9.23594523428083           & 8.17315258440956           & 489.852902350196           & 3.81065764666863e-65       & 28.7388865413848           & 17.0449506331706           & -59.0727542411542          & 9.53469044018094e-09       & 10.293563528696            & -5.73880503835948          & 0                          & 250.778883169332           & 6.33178366808817e-190      & 8.53129752452757           & 29.395163215014            & wgt                        & male+wgt0+hgt0+svymthRound & prot                       & vil.id                     & 1                          & 18962                      & 1.34647368544412e-60       & 271.592883001643           & 0.769615810959556          & 1.88093171544694e-60       & 0.0469249111255955         & 16.4010073220952           & 1                          & 18961                      & 4.84720137482191e-16       & 65.9737961330202          \\\\\n",
       "\\end{tabular}\n"
      ],
      "text/markdown": [
       "\n",
       "X.Intercept._Estimate | X.Intercept._Pr...z.. | X.Intercept._Std.Error | X.Intercept._zvalue | hgt0_Estimate | hgt0_Pr...z.. | hgt0_Std.Error | hgt0_zvalue | male_Estimate | male_Pr...z.. | male_Std.Error | male_zvalue | prot_Estimate | prot_Pr...z.. | prot_Std.Error | prot_zvalue | Sargan_df1 | svymthRound_Estimate | svymthRound_Pr...z.. | svymthRound_Std.Error | svymthRound_zvalue | vars_var.y | vars_vars.c | vars_vars.x | vars_vars.z | Weakinstruments_df1 | Weakinstruments_df2 | Weakinstruments_p.value | Weakinstruments_statistic | wgt0_Estimate | wgt0_Pr...z.. | wgt0_Std.Error | wgt0_zvalue | Wu.Hausman_df1 | Wu.Hausman_df2 | Wu.Hausman_p.value | Wu.Hausman_statistic | \n",
       "|---|---|\n",
       "| 22.2547168993562           | 8.90880805116339e-75       | 1.21637209166939           | 18.2959778934199           | 0.683485333749857          | 4.55758747404583e-123      | 0.0289699490334337         | 23.5929077044995           | 1.24473528437265           | 6.90641190023989e-47       | 0.0865599892152535         | 14.3800304928101           | -0.27147719759472          | 1.41850396300123e-19       | 0.0299946394681993         | -9.05085716674618          | 0                          | 1.13391864772583           | 0                          | 0.0250995291586825         | 45.176889198082            | hgt                        | male+wgt0+hgt0+svymthRound | prot                       | vil.id                     | 1                          | 18957                      | 2.50701851391303e-60       | 270.337017802049           | 0.000443041849600911       | 0.00335642643992964        | 0.00015105124195408        | 2.93305664931638           | 1                          | 18956                      | 2.71953708467901e-42       | 186.64752853014            | \n",
       "| -1101.09005806864          | 0.00510620293260513        | 393.210441213089           | -2.80025640893889          | 75.4867896610275           | 3.00433623813613e-16       | 9.23594523428083           | 8.17315258440956           | 489.852902350196           | 3.81065764666863e-65       | 28.7388865413848           | 17.0449506331706           | -59.0727542411542          | 9.53469044018094e-09       | 10.293563528696            | -5.73880503835948          | 0                          | 250.778883169332           | 6.33178366808817e-190      | 8.53129752452757           | 29.395163215014            | wgt                        | male+wgt0+hgt0+svymthRound | prot                       | vil.id                     | 1                          | 18962                      | 1.34647368544412e-60       | 271.592883001643           | 0.769615810959556          | 1.88093171544694e-60       | 0.0469249111255955         | 16.4010073220952           | 1                          | 18961                      | 4.84720137482191e-16       | 65.9737961330202           | \n",
       "\n",
       "\n"
      ],
      "text/plain": [
       "  X.Intercept._Estimate X.Intercept._Pr...z.. X.Intercept._Std.Error\n",
       "1 22.2547168993562      8.90880805116339e-75  1.21637209166939      \n",
       "2 -1101.09005806864     0.00510620293260513   393.210441213089      \n",
       "  X.Intercept._zvalue hgt0_Estimate     hgt0_Pr...z..        \n",
       "1 18.2959778934199    0.683485333749857 4.55758747404583e-123\n",
       "2 -2.80025640893889   75.4867896610275  3.00433623813613e-16 \n",
       "  hgt0_Std.Error     hgt0_zvalue      male_Estimate    male_Pr...z..       \n",
       "1 0.0289699490334337 23.5929077044995 1.24473528437265 6.90641190023989e-47\n",
       "2 9.23594523428083   8.17315258440956 489.852902350196 3.81065764666863e-65\n",
       "  male_Std.Error     male_zvalue      prot_Estimate     prot_Pr...z..       \n",
       "1 0.0865599892152535 14.3800304928101 -0.27147719759472 1.41850396300123e-19\n",
       "2 28.7388865413848   17.0449506331706 -59.0727542411542 9.53469044018094e-09\n",
       "  prot_Std.Error     prot_zvalue       Sargan_df1 svymthRound_Estimate\n",
       "1 0.0299946394681993 -9.05085716674618 0          1.13391864772583    \n",
       "2 10.293563528696    -5.73880503835948 0          250.778883169332    \n",
       "  svymthRound_Pr...z..  svymthRound_Std.Error svymthRound_zvalue vars_var.y\n",
       "1 0                     0.0250995291586825    45.176889198082    hgt       \n",
       "2 6.33178366808817e-190 8.53129752452757      29.395163215014    wgt       \n",
       "  vars_vars.c                vars_vars.x vars_vars.z Weakinstruments_df1\n",
       "1 male+wgt0+hgt0+svymthRound prot        vil.id      1                  \n",
       "2 male+wgt0+hgt0+svymthRound prot        vil.id      1                  \n",
       "  Weakinstruments_df2 Weakinstruments_p.value Weakinstruments_statistic\n",
       "1 18957               2.50701851391303e-60    270.337017802049         \n",
       "2 18962               1.34647368544412e-60    271.592883001643         \n",
       "  wgt0_Estimate        wgt0_Pr...z..        wgt0_Std.Error     \n",
       "1 0.000443041849600911 0.00335642643992964  0.00015105124195408\n",
       "2 0.769615810959556    1.88093171544694e-60 0.0469249111255955 \n",
       "  wgt0_zvalue      Wu.Hausman_df1 Wu.Hausman_df2 Wu.Hausman_p.value  \n",
       "1 2.93305664931638 1              18956          2.71953708467901e-42\n",
       "2 16.4010073220952 1              18961          4.84720137482191e-16\n",
       "  Wu.Hausman_statistic\n",
       "1 186.64752853014     \n",
       "2 65.9737961330202    "
      ]
     },
     "metadata": {},
     "output_type": "display_data"
    }
   ],
   "source": [
    "options(repr.matrix.max.rows=50, repr.matrix.max.cols=50)\n",
    "df.reg.out"
   ]
  },
  {
   "cell_type": "code",
   "execution_count": 163,
   "metadata": {},
   "outputs": [
    {
     "data": {
      "text/html": [
       "<ol class=list-inline>\n",
       "\t<li>'prot_Estimate'</li>\n",
       "\t<li>'male_Estimate'</li>\n",
       "\t<li>'wgt0_Estimate'</li>\n",
       "\t<li>'hgt0_Estimate'</li>\n",
       "\t<li>'svymthRound_Estimate'</li>\n",
       "\t<li>'vars_var.y'</li>\n",
       "</ol>\n"
      ],
      "text/latex": [
       "\\begin{enumerate*}\n",
       "\\item 'prot\\_Estimate'\n",
       "\\item 'male\\_Estimate'\n",
       "\\item 'wgt0\\_Estimate'\n",
       "\\item 'hgt0\\_Estimate'\n",
       "\\item 'svymthRound\\_Estimate'\n",
       "\\item 'vars\\_var.y'\n",
       "\\end{enumerate*}\n"
      ],
      "text/markdown": [
       "1. 'prot_Estimate'\n",
       "2. 'male_Estimate'\n",
       "3. 'wgt0_Estimate'\n",
       "4. 'hgt0_Estimate'\n",
       "5. 'svymthRound_Estimate'\n",
       "6. 'vars_var.y'\n",
       "\n",
       "\n"
      ],
      "text/plain": [
       "[1] \"prot_Estimate\"        \"male_Estimate\"        \"wgt0_Estimate\"       \n",
       "[4] \"hgt0_Estimate\"        \"svymthRound_Estimate\" \"vars_var.y\"          "
      ]
     },
     "metadata": {},
     "output_type": "display_data"
    }
   ],
   "source": [
    "# Select Variables\n",
    "str.esti.suffix <- '_Estimate'\n",
    "arr.esti.name <- paste0(vars.xc, str.esti.suffix)\n",
    "str.outcome.name <- 'vars_var.y'\n",
    "arr.columns2select <- c(arr.esti.name, str.outcome.name)\n",
    "arr.columns2select"
   ]
  },
  {
   "cell_type": "code",
   "execution_count": 164,
   "metadata": {},
   "outputs": [
    {
     "name": "stderr",
     "output_type": "stream",
     "text": [
      "Warning message:\n",
      "\"Setting row names on a tibble is deprecated.\""
     ]
    },
    {
     "data": {
      "text/html": [
       "<table>\n",
       "<thead><tr><th></th><th scope=col>prot_Estimate</th><th scope=col>male_Estimate</th><th scope=col>wgt0_Estimate</th><th scope=col>hgt0_Estimate</th><th scope=col>svymthRound_Estimate</th></tr></thead>\n",
       "<tbody>\n",
       "\t<tr><th scope=row>hgt</th><td> -0.2714772 </td><td>  1.244735  </td><td>0.0004430418</td><td> 0.6834853  </td><td>  1.133919  </td></tr>\n",
       "\t<tr><th scope=row>wgt</th><td>-59.0727542 </td><td>489.852902  </td><td>0.7696158110</td><td>75.4867897  </td><td>250.778883  </td></tr>\n",
       "</tbody>\n",
       "</table>\n"
      ],
      "text/latex": [
       "\\begin{tabular}{r|lllll}\n",
       "  & prot\\_Estimate & male\\_Estimate & wgt0\\_Estimate & hgt0\\_Estimate & svymthRound\\_Estimate\\\\\n",
       "\\hline\n",
       "\thgt &  -0.2714772  &   1.244735   & 0.0004430418 &  0.6834853   &   1.133919  \\\\\n",
       "\twgt & -59.0727542  & 489.852902   & 0.7696158110 & 75.4867897   & 250.778883  \\\\\n",
       "\\end{tabular}\n"
      ],
      "text/markdown": [
       "\n",
       "| <!--/--> | prot_Estimate | male_Estimate | wgt0_Estimate | hgt0_Estimate | svymthRound_Estimate | \n",
       "|---|---|\n",
       "| hgt |  -0.2714772  |   1.244735   | 0.0004430418 |  0.6834853   |   1.133919   | \n",
       "| wgt | -59.0727542  | 489.852902   | 0.7696158110 | 75.4867897   | 250.778883   | \n",
       "\n",
       "\n"
      ],
      "text/plain": [
       "    prot_Estimate male_Estimate wgt0_Estimate hgt0_Estimate\n",
       "hgt  -0.2714772     1.244735    0.0004430418   0.6834853   \n",
       "wgt -59.0727542   489.852902    0.7696158110  75.4867897   \n",
       "    svymthRound_Estimate\n",
       "hgt   1.133919          \n",
       "wgt 250.778883          "
      ]
     },
     "metadata": {},
     "output_type": "display_data"
    },
    {
     "name": "stdout",
     "output_type": "stream",
     "text": [
      "Classes 'tbl_df', 'tbl' and 'data.frame':\t2 obs. of  5 variables:\n",
      " $ prot_Estimate       : num  -0.271 -59.073\n",
      " $ male_Estimate       : num  1.24 489.85\n",
      " $ wgt0_Estimate       : num  0.000443 0.769616\n",
      " $ hgt0_Estimate       : num  0.683 75.487\n",
      " $ svymthRound_Estimate: num  1.13 250.78\n"
     ]
    }
   ],
   "source": [
    "# Generate dataframe for coefficients\n",
    "df.coef <- df.reg.out[,c(arr.columns2select)] %>% mutate_at(vars(arr.esti.name), as.numeric) %>% column_to_rownames(str.outcome.name) \n",
    "df.coef\n",
    "str(df.coef)"
   ]
  },
  {
   "cell_type": "markdown",
   "metadata": {},
   "source": [
    "### Decomposition Step 1"
   ]
  },
  {
   "cell_type": "code",
   "execution_count": 165,
   "metadata": {},
   "outputs": [
    {
     "data": {
      "text/html": [
       "<ol class=list-inline>\n",
       "\t<li>1382</li>\n",
       "\t<li>10</li>\n",
       "</ol>\n"
      ],
      "text/latex": [
       "\\begin{enumerate*}\n",
       "\\item 1382\n",
       "\\item 10\n",
       "\\end{enumerate*}\n"
      ],
      "text/markdown": [
       "1. 1382\n",
       "2. 10\n",
       "\n",
       "\n"
      ],
      "text/plain": [
       "[1] 1382   10"
      ]
     },
     "metadata": {},
     "output_type": "display_data"
    },
    {
     "data": {
      "text/html": [
       "<table>\n",
       "<thead><tr><th scope=col>S.country</th><th scope=col>vil.id</th><th scope=col>indi.id</th><th scope=col>svymthRound</th><th scope=col>prot</th><th scope=col>male</th><th scope=col>wgt0</th><th scope=col>hgt0</th><th scope=col>variable</th><th scope=col>value</th></tr></thead>\n",
       "<tbody>\n",
       "\t<tr><td>Guatemala</td><td>3        </td><td>1352     </td><td>18       </td><td>13.3     </td><td>1        </td><td>2545.2   </td><td>47.4     </td><td>hgt      </td><td>70.2     </td></tr>\n",
       "\t<tr><td>Guatemala</td><td>3        </td><td>1352     </td><td>24       </td><td>46.3     </td><td>1        </td><td>2545.2   </td><td>47.4     </td><td>hgt      </td><td>75.8     </td></tr>\n",
       "\t<tr><td>Guatemala</td><td>3        </td><td>1354     </td><td>12       </td><td> 1.0     </td><td>1        </td><td>3634.3   </td><td>51.2     </td><td>hgt      </td><td>66.3     </td></tr>\n",
       "\t<tr><td>Guatemala</td><td>3        </td><td>1354     </td><td>18       </td><td> 9.8     </td><td>1        </td><td>3634.3   </td><td>51.2     </td><td>hgt      </td><td>69.2     </td></tr>\n",
       "\t<tr><td>Guatemala</td><td>3        </td><td>1354     </td><td>24       </td><td>15.4     </td><td>1        </td><td>3634.3   </td><td>51.2     </td><td>hgt      </td><td>75.3     </td></tr>\n",
       "\t<tr><td>Guatemala</td><td>3        </td><td>1356     </td><td>12       </td><td> 8.6     </td><td>1        </td><td>3911.8   </td><td>51.9     </td><td>hgt      </td><td>68.1     </td></tr>\n",
       "\t<tr><td>Guatemala</td><td>3        </td><td>1356     </td><td>18       </td><td>17.8     </td><td>1        </td><td>3911.8   </td><td>51.9     </td><td>hgt      </td><td>74.1     </td></tr>\n",
       "\t<tr><td>Guatemala</td><td>3        </td><td>1356     </td><td>24       </td><td>30.5     </td><td>1        </td><td>3911.8   </td><td>51.9     </td><td>hgt      </td><td>77.1     </td></tr>\n",
       "\t<tr><td>Guatemala</td><td>3        </td><td>1357     </td><td>12       </td><td> 1.0     </td><td>1        </td><td>3791.4   </td><td>52.6     </td><td>hgt      </td><td>71.5     </td></tr>\n",
       "\t<tr><td>Guatemala</td><td>3        </td><td>1357     </td><td>18       </td><td>12.7     </td><td>1        </td><td>3791.4   </td><td>52.6     </td><td>hgt      </td><td>77.8     </td></tr>\n",
       "\t<tr><td>...</td><td>...</td><td>...</td><td>...</td><td>...</td><td>...</td><td>...</td><td>...</td><td>...</td><td>...</td></tr>\n",
       "\t<tr><td>Guatemala</td><td>14       </td><td>2017     </td><td>18       </td><td>42.6     </td><td>1        </td><td>3312.9   </td><td>49.2     </td><td>wgt      </td><td> 8641.0  </td></tr>\n",
       "\t<tr><td>Guatemala</td><td>14       </td><td>2017     </td><td>24       </td><td>43.1     </td><td>1        </td><td>3312.9   </td><td>49.2     </td><td>wgt      </td><td>10922.6  </td></tr>\n",
       "\t<tr><td>Guatemala</td><td>14       </td><td>2018     </td><td>12       </td><td>24.0     </td><td>0        </td><td>3682.8   </td><td>48.8     </td><td>wgt      </td><td> 6266.3  </td></tr>\n",
       "\t<tr><td>Guatemala</td><td>14       </td><td>2018     </td><td>18       </td><td>37.2     </td><td>0        </td><td>3682.8   </td><td>48.8     </td><td>wgt      </td><td>11008.2  </td></tr>\n",
       "\t<tr><td>Guatemala</td><td>14       </td><td>2018     </td><td>24       </td><td>31.7     </td><td>0        </td><td>3682.8   </td><td>48.8     </td><td>wgt      </td><td> 9668.5  </td></tr>\n",
       "\t<tr><td>Guatemala</td><td>14       </td><td>2019     </td><td>12       </td><td>17.3     </td><td>1        </td><td>3132.9   </td><td>49.7     </td><td>wgt      </td><td> 7777.6  </td></tr>\n",
       "\t<tr><td>Guatemala</td><td>14       </td><td>2019     </td><td>18       </td><td>24.5     </td><td>1        </td><td>3132.9   </td><td>49.7     </td><td>wgt      </td><td> 9729.6  </td></tr>\n",
       "\t<tr><td>Guatemala</td><td>14       </td><td>2019     </td><td>24       </td><td>57.8     </td><td>1        </td><td>3132.9   </td><td>49.7     </td><td>wgt      </td><td>10276.5  </td></tr>\n",
       "\t<tr><td>Guatemala</td><td>14       </td><td>2023     </td><td>12       </td><td>15.9     </td><td>1        </td><td>3607.1   </td><td>50.3     </td><td>wgt      </td><td> 8424.7  </td></tr>\n",
       "\t<tr><td>Guatemala</td><td>14       </td><td>2023     </td><td>18       </td><td>22.2     </td><td>1        </td><td>3607.1   </td><td>50.3     </td><td>wgt      </td><td> 6933.2  </td></tr>\n",
       "</tbody>\n",
       "</table>\n"
      ],
      "text/latex": [
       "\\begin{tabular}{r|llllllllll}\n",
       " S.country & vil.id & indi.id & svymthRound & prot & male & wgt0 & hgt0 & variable & value\\\\\n",
       "\\hline\n",
       "\t Guatemala & 3         & 1352      & 18        & 13.3      & 1         & 2545.2    & 47.4      & hgt       & 70.2     \\\\\n",
       "\t Guatemala & 3         & 1352      & 24        & 46.3      & 1         & 2545.2    & 47.4      & hgt       & 75.8     \\\\\n",
       "\t Guatemala & 3         & 1354      & 12        &  1.0      & 1         & 3634.3    & 51.2      & hgt       & 66.3     \\\\\n",
       "\t Guatemala & 3         & 1354      & 18        &  9.8      & 1         & 3634.3    & 51.2      & hgt       & 69.2     \\\\\n",
       "\t Guatemala & 3         & 1354      & 24        & 15.4      & 1         & 3634.3    & 51.2      & hgt       & 75.3     \\\\\n",
       "\t Guatemala & 3         & 1356      & 12        &  8.6      & 1         & 3911.8    & 51.9      & hgt       & 68.1     \\\\\n",
       "\t Guatemala & 3         & 1356      & 18        & 17.8      & 1         & 3911.8    & 51.9      & hgt       & 74.1     \\\\\n",
       "\t Guatemala & 3         & 1356      & 24        & 30.5      & 1         & 3911.8    & 51.9      & hgt       & 77.1     \\\\\n",
       "\t Guatemala & 3         & 1357      & 12        &  1.0      & 1         & 3791.4    & 52.6      & hgt       & 71.5     \\\\\n",
       "\t Guatemala & 3         & 1357      & 18        & 12.7      & 1         & 3791.4    & 52.6      & hgt       & 77.8     \\\\\n",
       "\t ... & ... & ... & ... & ... & ... & ... & ... & ... & ...\\\\\n",
       "\t Guatemala & 14        & 2017      & 18        & 42.6      & 1         & 3312.9    & 49.2      & wgt       &  8641.0  \\\\\n",
       "\t Guatemala & 14        & 2017      & 24        & 43.1      & 1         & 3312.9    & 49.2      & wgt       & 10922.6  \\\\\n",
       "\t Guatemala & 14        & 2018      & 12        & 24.0      & 0         & 3682.8    & 48.8      & wgt       &  6266.3  \\\\\n",
       "\t Guatemala & 14        & 2018      & 18        & 37.2      & 0         & 3682.8    & 48.8      & wgt       & 11008.2  \\\\\n",
       "\t Guatemala & 14        & 2018      & 24        & 31.7      & 0         & 3682.8    & 48.8      & wgt       &  9668.5  \\\\\n",
       "\t Guatemala & 14        & 2019      & 12        & 17.3      & 1         & 3132.9    & 49.7      & wgt       &  7777.6  \\\\\n",
       "\t Guatemala & 14        & 2019      & 18        & 24.5      & 1         & 3132.9    & 49.7      & wgt       &  9729.6  \\\\\n",
       "\t Guatemala & 14        & 2019      & 24        & 57.8      & 1         & 3132.9    & 49.7      & wgt       & 10276.5  \\\\\n",
       "\t Guatemala & 14        & 2023      & 12        & 15.9      & 1         & 3607.1    & 50.3      & wgt       &  8424.7  \\\\\n",
       "\t Guatemala & 14        & 2023      & 18        & 22.2      & 1         & 3607.1    & 50.3      & wgt       &  6933.2  \\\\\n",
       "\\end{tabular}\n"
      ],
      "text/markdown": [
       "\n",
       "S.country | vil.id | indi.id | svymthRound | prot | male | wgt0 | hgt0 | variable | value | \n",
       "|---|---|---|---|---|---|---|---|---|---|---|---|---|---|---|---|---|---|---|---|---|\n",
       "| Guatemala | 3         | 1352      | 18        | 13.3      | 1         | 2545.2    | 47.4      | hgt       | 70.2      | \n",
       "| Guatemala | 3         | 1352      | 24        | 46.3      | 1         | 2545.2    | 47.4      | hgt       | 75.8      | \n",
       "| Guatemala | 3         | 1354      | 12        |  1.0      | 1         | 3634.3    | 51.2      | hgt       | 66.3      | \n",
       "| Guatemala | 3         | 1354      | 18        |  9.8      | 1         | 3634.3    | 51.2      | hgt       | 69.2      | \n",
       "| Guatemala | 3         | 1354      | 24        | 15.4      | 1         | 3634.3    | 51.2      | hgt       | 75.3      | \n",
       "| Guatemala | 3         | 1356      | 12        |  8.6      | 1         | 3911.8    | 51.9      | hgt       | 68.1      | \n",
       "| Guatemala | 3         | 1356      | 18        | 17.8      | 1         | 3911.8    | 51.9      | hgt       | 74.1      | \n",
       "| Guatemala | 3         | 1356      | 24        | 30.5      | 1         | 3911.8    | 51.9      | hgt       | 77.1      | \n",
       "| Guatemala | 3         | 1357      | 12        |  1.0      | 1         | 3791.4    | 52.6      | hgt       | 71.5      | \n",
       "| Guatemala | 3         | 1357      | 18        | 12.7      | 1         | 3791.4    | 52.6      | hgt       | 77.8      | \n",
       "| ... | ... | ... | ... | ... | ... | ... | ... | ... | ... | \n",
       "| Guatemala | 14        | 2017      | 18        | 42.6      | 1         | 3312.9    | 49.2      | wgt       |  8641.0   | \n",
       "| Guatemala | 14        | 2017      | 24        | 43.1      | 1         | 3312.9    | 49.2      | wgt       | 10922.6   | \n",
       "| Guatemala | 14        | 2018      | 12        | 24.0      | 0         | 3682.8    | 48.8      | wgt       |  6266.3   | \n",
       "| Guatemala | 14        | 2018      | 18        | 37.2      | 0         | 3682.8    | 48.8      | wgt       | 11008.2   | \n",
       "| Guatemala | 14        | 2018      | 24        | 31.7      | 0         | 3682.8    | 48.8      | wgt       |  9668.5   | \n",
       "| Guatemala | 14        | 2019      | 12        | 17.3      | 1         | 3132.9    | 49.7      | wgt       |  7777.6   | \n",
       "| Guatemala | 14        | 2019      | 18        | 24.5      | 1         | 3132.9    | 49.7      | wgt       |  9729.6   | \n",
       "| Guatemala | 14        | 2019      | 24        | 57.8      | 1         | 3132.9    | 49.7      | wgt       | 10276.5   | \n",
       "| Guatemala | 14        | 2023      | 12        | 15.9      | 1         | 3607.1    | 50.3      | wgt       |  8424.7   | \n",
       "| Guatemala | 14        | 2023      | 18        | 22.2      | 1         | 3607.1    | 50.3      | wgt       |  6933.2   | \n",
       "\n",
       "\n"
      ],
      "text/plain": [
       "     S.country vil.id indi.id svymthRound prot male wgt0   hgt0 variable\n",
       "1    Guatemala 3      1352    18          13.3 1    2545.2 47.4 hgt     \n",
       "2    Guatemala 3      1352    24          46.3 1    2545.2 47.4 hgt     \n",
       "3    Guatemala 3      1354    12           1.0 1    3634.3 51.2 hgt     \n",
       "4    Guatemala 3      1354    18           9.8 1    3634.3 51.2 hgt     \n",
       "5    Guatemala 3      1354    24          15.4 1    3634.3 51.2 hgt     \n",
       "6    Guatemala 3      1356    12           8.6 1    3911.8 51.9 hgt     \n",
       "7    Guatemala 3      1356    18          17.8 1    3911.8 51.9 hgt     \n",
       "8    Guatemala 3      1356    24          30.5 1    3911.8 51.9 hgt     \n",
       "9    Guatemala 3      1357    12           1.0 1    3791.4 52.6 hgt     \n",
       "10   Guatemala 3      1357    18          12.7 1    3791.4 52.6 hgt     \n",
       "...  ...       ...    ...     ...         ...  ...  ...    ...  ...     \n",
       "1373 Guatemala 14     2017    18          42.6 1    3312.9 49.2 wgt     \n",
       "1374 Guatemala 14     2017    24          43.1 1    3312.9 49.2 wgt     \n",
       "1375 Guatemala 14     2018    12          24.0 0    3682.8 48.8 wgt     \n",
       "1376 Guatemala 14     2018    18          37.2 0    3682.8 48.8 wgt     \n",
       "1377 Guatemala 14     2018    24          31.7 0    3682.8 48.8 wgt     \n",
       "1378 Guatemala 14     2019    12          17.3 1    3132.9 49.7 wgt     \n",
       "1379 Guatemala 14     2019    18          24.5 1    3132.9 49.7 wgt     \n",
       "1380 Guatemala 14     2019    24          57.8 1    3132.9 49.7 wgt     \n",
       "1381 Guatemala 14     2023    12          15.9 1    3607.1 50.3 wgt     \n",
       "1382 Guatemala 14     2023    18          22.2 1    3607.1 50.3 wgt     \n",
       "     value  \n",
       "1    70.2   \n",
       "2    75.8   \n",
       "3    66.3   \n",
       "4    69.2   \n",
       "5    75.3   \n",
       "6    68.1   \n",
       "7    74.1   \n",
       "8    77.1   \n",
       "9    71.5   \n",
       "10   77.8   \n",
       "...  ...    \n",
       "1373  8641.0\n",
       "1374 10922.6\n",
       "1375  6266.3\n",
       "1376 11008.2\n",
       "1377  9668.5\n",
       "1378  7777.6\n",
       "1379  9729.6\n",
       "1380 10276.5\n",
       "1381  8424.7\n",
       "1382  6933.2"
      ]
     },
     "metadata": {},
     "output_type": "display_data"
    }
   ],
   "source": [
    "# Decomposition Step 1: gather\n",
    "df.decompose_step1 <- df.use %>% \n",
    "                        filter(svymthRound %in% c(12, 18, 24)) %>%\n",
    "                        select(one_of(c(vars.other.keep, vars.xc, vars.y))) %>% \n",
    "                        drop_na() %>% \n",
    "                        gather(variable, value, -one_of(c(vars.other.keep, vars.xc)))\n",
    "options(repr.matrix.max.rows=20, repr.matrix.max.cols=20)\n",
    "dim(df.decompose_step1)\n",
    "df.decompose_step1"
   ]
  },
  {
   "cell_type": "markdown",
   "metadata": {},
   "source": [
    "### Decomposition Step 2"
   ]
  },
  {
   "cell_type": "code",
   "execution_count": 166,
   "metadata": {},
   "outputs": [
    {
     "data": {
      "text/html": [
       "<ol class=list-inline>\n",
       "\t<li>1382</li>\n",
       "\t<li>16</li>\n",
       "</ol>\n"
      ],
      "text/latex": [
       "\\begin{enumerate*}\n",
       "\\item 1382\n",
       "\\item 16\n",
       "\\end{enumerate*}\n"
      ],
      "text/markdown": [
       "1. 1382\n",
       "2. 16\n",
       "\n",
       "\n"
      ],
      "text/plain": [
       "[1] 1382   16"
      ]
     },
     "metadata": {},
     "output_type": "display_data"
    },
    {
     "data": {
      "text/html": [
       "<table>\n",
       "<thead><tr><th scope=col>S.country</th><th scope=col>vil.id</th><th scope=col>indi.id</th><th scope=col>svymthRound</th><th scope=col>prot</th><th scope=col>male</th><th scope=col>wgt0</th><th scope=col>hgt0</th><th scope=col>variable</th><th scope=col>value</th><th scope=col>prot_mean</th><th scope=col>male_mean</th><th scope=col>wgt0_mean</th><th scope=col>hgt0_mean</th><th scope=col>svymthRound_mean</th><th scope=col>value_mean</th></tr></thead>\n",
       "<tbody>\n",
       "\t<tr><td>Guatemala</td><td>3        </td><td>1352     </td><td>18       </td><td>13.3     </td><td>1        </td><td>2545.2   </td><td>47.4     </td><td>hgt      </td><td>70.2     </td><td>20.64819 </td><td>0.5499276</td><td>3312.297 </td><td>49.75137 </td><td>18.42547 </td><td>73.41216 </td></tr>\n",
       "\t<tr><td>Guatemala</td><td>3        </td><td>1352     </td><td>24       </td><td>46.3     </td><td>1        </td><td>2545.2   </td><td>47.4     </td><td>hgt      </td><td>75.8     </td><td>20.64819 </td><td>0.5499276</td><td>3312.297 </td><td>49.75137 </td><td>18.42547 </td><td>73.41216 </td></tr>\n",
       "\t<tr><td>Guatemala</td><td>3        </td><td>1354     </td><td>12       </td><td> 1.0     </td><td>1        </td><td>3634.3   </td><td>51.2     </td><td>hgt      </td><td>66.3     </td><td>20.64819 </td><td>0.5499276</td><td>3312.297 </td><td>49.75137 </td><td>18.42547 </td><td>73.41216 </td></tr>\n",
       "\t<tr><td>Guatemala</td><td>3        </td><td>1354     </td><td>18       </td><td> 9.8     </td><td>1        </td><td>3634.3   </td><td>51.2     </td><td>hgt      </td><td>69.2     </td><td>20.64819 </td><td>0.5499276</td><td>3312.297 </td><td>49.75137 </td><td>18.42547 </td><td>73.41216 </td></tr>\n",
       "\t<tr><td>Guatemala</td><td>3        </td><td>1354     </td><td>24       </td><td>15.4     </td><td>1        </td><td>3634.3   </td><td>51.2     </td><td>hgt      </td><td>75.3     </td><td>20.64819 </td><td>0.5499276</td><td>3312.297 </td><td>49.75137 </td><td>18.42547 </td><td>73.41216 </td></tr>\n",
       "\t<tr><td>Guatemala</td><td>3        </td><td>1356     </td><td>12       </td><td> 8.6     </td><td>1        </td><td>3911.8   </td><td>51.9     </td><td>hgt      </td><td>68.1     </td><td>20.64819 </td><td>0.5499276</td><td>3312.297 </td><td>49.75137 </td><td>18.42547 </td><td>73.41216 </td></tr>\n",
       "\t<tr><td>Guatemala</td><td>3        </td><td>1356     </td><td>18       </td><td>17.8     </td><td>1        </td><td>3911.8   </td><td>51.9     </td><td>hgt      </td><td>74.1     </td><td>20.64819 </td><td>0.5499276</td><td>3312.297 </td><td>49.75137 </td><td>18.42547 </td><td>73.41216 </td></tr>\n",
       "\t<tr><td>Guatemala</td><td>3        </td><td>1356     </td><td>24       </td><td>30.5     </td><td>1        </td><td>3911.8   </td><td>51.9     </td><td>hgt      </td><td>77.1     </td><td>20.64819 </td><td>0.5499276</td><td>3312.297 </td><td>49.75137 </td><td>18.42547 </td><td>73.41216 </td></tr>\n",
       "\t<tr><td>Guatemala</td><td>3        </td><td>1357     </td><td>12       </td><td> 1.0     </td><td>1        </td><td>3791.4   </td><td>52.6     </td><td>hgt      </td><td>71.5     </td><td>20.64819 </td><td>0.5499276</td><td>3312.297 </td><td>49.75137 </td><td>18.42547 </td><td>73.41216 </td></tr>\n",
       "\t<tr><td>Guatemala</td><td>3        </td><td>1357     </td><td>18       </td><td>12.7     </td><td>1        </td><td>3791.4   </td><td>52.6     </td><td>hgt      </td><td>77.8     </td><td>20.64819 </td><td>0.5499276</td><td>3312.297 </td><td>49.75137 </td><td>18.42547 </td><td>73.41216 </td></tr>\n",
       "\t<tr><td>...</td><td>...</td><td>...</td><td>...</td><td>...</td><td>...</td><td>...</td><td>...</td><td>...</td><td>...</td><td>...</td><td>...</td><td>...</td><td>...</td><td>...</td><td>...</td></tr>\n",
       "\t<tr><td>Guatemala</td><td>14       </td><td>2017     </td><td>18       </td><td>42.6     </td><td>1        </td><td>3312.9   </td><td>49.2     </td><td>wgt      </td><td> 8641.0  </td><td>20.64819 </td><td>0.5499276</td><td>3312.297 </td><td>49.75137 </td><td>18.42547 </td><td>8807.877 </td></tr>\n",
       "\t<tr><td>Guatemala</td><td>14       </td><td>2017     </td><td>24       </td><td>43.1     </td><td>1        </td><td>3312.9   </td><td>49.2     </td><td>wgt      </td><td>10922.6  </td><td>20.64819 </td><td>0.5499276</td><td>3312.297 </td><td>49.75137 </td><td>18.42547 </td><td>8807.877 </td></tr>\n",
       "\t<tr><td>Guatemala</td><td>14       </td><td>2018     </td><td>12       </td><td>24.0     </td><td>0        </td><td>3682.8   </td><td>48.8     </td><td>wgt      </td><td> 6266.3  </td><td>20.64819 </td><td>0.5499276</td><td>3312.297 </td><td>49.75137 </td><td>18.42547 </td><td>8807.877 </td></tr>\n",
       "\t<tr><td>Guatemala</td><td>14       </td><td>2018     </td><td>18       </td><td>37.2     </td><td>0        </td><td>3682.8   </td><td>48.8     </td><td>wgt      </td><td>11008.2  </td><td>20.64819 </td><td>0.5499276</td><td>3312.297 </td><td>49.75137 </td><td>18.42547 </td><td>8807.877 </td></tr>\n",
       "\t<tr><td>Guatemala</td><td>14       </td><td>2018     </td><td>24       </td><td>31.7     </td><td>0        </td><td>3682.8   </td><td>48.8     </td><td>wgt      </td><td> 9668.5  </td><td>20.64819 </td><td>0.5499276</td><td>3312.297 </td><td>49.75137 </td><td>18.42547 </td><td>8807.877 </td></tr>\n",
       "\t<tr><td>Guatemala</td><td>14       </td><td>2019     </td><td>12       </td><td>17.3     </td><td>1        </td><td>3132.9   </td><td>49.7     </td><td>wgt      </td><td> 7777.6  </td><td>20.64819 </td><td>0.5499276</td><td>3312.297 </td><td>49.75137 </td><td>18.42547 </td><td>8807.877 </td></tr>\n",
       "\t<tr><td>Guatemala</td><td>14       </td><td>2019     </td><td>18       </td><td>24.5     </td><td>1        </td><td>3132.9   </td><td>49.7     </td><td>wgt      </td><td> 9729.6  </td><td>20.64819 </td><td>0.5499276</td><td>3312.297 </td><td>49.75137 </td><td>18.42547 </td><td>8807.877 </td></tr>\n",
       "\t<tr><td>Guatemala</td><td>14       </td><td>2019     </td><td>24       </td><td>57.8     </td><td>1        </td><td>3132.9   </td><td>49.7     </td><td>wgt      </td><td>10276.5  </td><td>20.64819 </td><td>0.5499276</td><td>3312.297 </td><td>49.75137 </td><td>18.42547 </td><td>8807.877 </td></tr>\n",
       "\t<tr><td>Guatemala</td><td>14       </td><td>2023     </td><td>12       </td><td>15.9     </td><td>1        </td><td>3607.1   </td><td>50.3     </td><td>wgt      </td><td> 8424.7  </td><td>20.64819 </td><td>0.5499276</td><td>3312.297 </td><td>49.75137 </td><td>18.42547 </td><td>8807.877 </td></tr>\n",
       "\t<tr><td>Guatemala</td><td>14       </td><td>2023     </td><td>18       </td><td>22.2     </td><td>1        </td><td>3607.1   </td><td>50.3     </td><td>wgt      </td><td> 6933.2  </td><td>20.64819 </td><td>0.5499276</td><td>3312.297 </td><td>49.75137 </td><td>18.42547 </td><td>8807.877 </td></tr>\n",
       "</tbody>\n",
       "</table>\n"
      ],
      "text/latex": [
       "\\begin{tabular}{r|llllllllllllllll}\n",
       " S.country & vil.id & indi.id & svymthRound & prot & male & wgt0 & hgt0 & variable & value & prot\\_mean & male\\_mean & wgt0\\_mean & hgt0\\_mean & svymthRound\\_mean & value\\_mean\\\\\n",
       "\\hline\n",
       "\t Guatemala & 3         & 1352      & 18        & 13.3      & 1         & 2545.2    & 47.4      & hgt       & 70.2      & 20.64819  & 0.5499276 & 3312.297  & 49.75137  & 18.42547  & 73.41216 \\\\\n",
       "\t Guatemala & 3         & 1352      & 24        & 46.3      & 1         & 2545.2    & 47.4      & hgt       & 75.8      & 20.64819  & 0.5499276 & 3312.297  & 49.75137  & 18.42547  & 73.41216 \\\\\n",
       "\t Guatemala & 3         & 1354      & 12        &  1.0      & 1         & 3634.3    & 51.2      & hgt       & 66.3      & 20.64819  & 0.5499276 & 3312.297  & 49.75137  & 18.42547  & 73.41216 \\\\\n",
       "\t Guatemala & 3         & 1354      & 18        &  9.8      & 1         & 3634.3    & 51.2      & hgt       & 69.2      & 20.64819  & 0.5499276 & 3312.297  & 49.75137  & 18.42547  & 73.41216 \\\\\n",
       "\t Guatemala & 3         & 1354      & 24        & 15.4      & 1         & 3634.3    & 51.2      & hgt       & 75.3      & 20.64819  & 0.5499276 & 3312.297  & 49.75137  & 18.42547  & 73.41216 \\\\\n",
       "\t Guatemala & 3         & 1356      & 12        &  8.6      & 1         & 3911.8    & 51.9      & hgt       & 68.1      & 20.64819  & 0.5499276 & 3312.297  & 49.75137  & 18.42547  & 73.41216 \\\\\n",
       "\t Guatemala & 3         & 1356      & 18        & 17.8      & 1         & 3911.8    & 51.9      & hgt       & 74.1      & 20.64819  & 0.5499276 & 3312.297  & 49.75137  & 18.42547  & 73.41216 \\\\\n",
       "\t Guatemala & 3         & 1356      & 24        & 30.5      & 1         & 3911.8    & 51.9      & hgt       & 77.1      & 20.64819  & 0.5499276 & 3312.297  & 49.75137  & 18.42547  & 73.41216 \\\\\n",
       "\t Guatemala & 3         & 1357      & 12        &  1.0      & 1         & 3791.4    & 52.6      & hgt       & 71.5      & 20.64819  & 0.5499276 & 3312.297  & 49.75137  & 18.42547  & 73.41216 \\\\\n",
       "\t Guatemala & 3         & 1357      & 18        & 12.7      & 1         & 3791.4    & 52.6      & hgt       & 77.8      & 20.64819  & 0.5499276 & 3312.297  & 49.75137  & 18.42547  & 73.41216 \\\\\n",
       "\t ... & ... & ... & ... & ... & ... & ... & ... & ... & ... & ... & ... & ... & ... & ... & ...\\\\\n",
       "\t Guatemala & 14        & 2017      & 18        & 42.6      & 1         & 3312.9    & 49.2      & wgt       &  8641.0   & 20.64819  & 0.5499276 & 3312.297  & 49.75137  & 18.42547  & 8807.877 \\\\\n",
       "\t Guatemala & 14        & 2017      & 24        & 43.1      & 1         & 3312.9    & 49.2      & wgt       & 10922.6   & 20.64819  & 0.5499276 & 3312.297  & 49.75137  & 18.42547  & 8807.877 \\\\\n",
       "\t Guatemala & 14        & 2018      & 12        & 24.0      & 0         & 3682.8    & 48.8      & wgt       &  6266.3   & 20.64819  & 0.5499276 & 3312.297  & 49.75137  & 18.42547  & 8807.877 \\\\\n",
       "\t Guatemala & 14        & 2018      & 18        & 37.2      & 0         & 3682.8    & 48.8      & wgt       & 11008.2   & 20.64819  & 0.5499276 & 3312.297  & 49.75137  & 18.42547  & 8807.877 \\\\\n",
       "\t Guatemala & 14        & 2018      & 24        & 31.7      & 0         & 3682.8    & 48.8      & wgt       &  9668.5   & 20.64819  & 0.5499276 & 3312.297  & 49.75137  & 18.42547  & 8807.877 \\\\\n",
       "\t Guatemala & 14        & 2019      & 12        & 17.3      & 1         & 3132.9    & 49.7      & wgt       &  7777.6   & 20.64819  & 0.5499276 & 3312.297  & 49.75137  & 18.42547  & 8807.877 \\\\\n",
       "\t Guatemala & 14        & 2019      & 18        & 24.5      & 1         & 3132.9    & 49.7      & wgt       &  9729.6   & 20.64819  & 0.5499276 & 3312.297  & 49.75137  & 18.42547  & 8807.877 \\\\\n",
       "\t Guatemala & 14        & 2019      & 24        & 57.8      & 1         & 3132.9    & 49.7      & wgt       & 10276.5   & 20.64819  & 0.5499276 & 3312.297  & 49.75137  & 18.42547  & 8807.877 \\\\\n",
       "\t Guatemala & 14        & 2023      & 12        & 15.9      & 1         & 3607.1    & 50.3      & wgt       &  8424.7   & 20.64819  & 0.5499276 & 3312.297  & 49.75137  & 18.42547  & 8807.877 \\\\\n",
       "\t Guatemala & 14        & 2023      & 18        & 22.2      & 1         & 3607.1    & 50.3      & wgt       &  6933.2   & 20.64819  & 0.5499276 & 3312.297  & 49.75137  & 18.42547  & 8807.877 \\\\\n",
       "\\end{tabular}\n"
      ],
      "text/markdown": [
       "\n",
       "S.country | vil.id | indi.id | svymthRound | prot | male | wgt0 | hgt0 | variable | value | prot_mean | male_mean | wgt0_mean | hgt0_mean | svymthRound_mean | value_mean | \n",
       "|---|---|---|---|---|---|---|---|---|---|---|---|---|---|---|---|---|---|---|---|---|\n",
       "| Guatemala | 3         | 1352      | 18        | 13.3      | 1         | 2545.2    | 47.4      | hgt       | 70.2      | 20.64819  | 0.5499276 | 3312.297  | 49.75137  | 18.42547  | 73.41216  | \n",
       "| Guatemala | 3         | 1352      | 24        | 46.3      | 1         | 2545.2    | 47.4      | hgt       | 75.8      | 20.64819  | 0.5499276 | 3312.297  | 49.75137  | 18.42547  | 73.41216  | \n",
       "| Guatemala | 3         | 1354      | 12        |  1.0      | 1         | 3634.3    | 51.2      | hgt       | 66.3      | 20.64819  | 0.5499276 | 3312.297  | 49.75137  | 18.42547  | 73.41216  | \n",
       "| Guatemala | 3         | 1354      | 18        |  9.8      | 1         | 3634.3    | 51.2      | hgt       | 69.2      | 20.64819  | 0.5499276 | 3312.297  | 49.75137  | 18.42547  | 73.41216  | \n",
       "| Guatemala | 3         | 1354      | 24        | 15.4      | 1         | 3634.3    | 51.2      | hgt       | 75.3      | 20.64819  | 0.5499276 | 3312.297  | 49.75137  | 18.42547  | 73.41216  | \n",
       "| Guatemala | 3         | 1356      | 12        |  8.6      | 1         | 3911.8    | 51.9      | hgt       | 68.1      | 20.64819  | 0.5499276 | 3312.297  | 49.75137  | 18.42547  | 73.41216  | \n",
       "| Guatemala | 3         | 1356      | 18        | 17.8      | 1         | 3911.8    | 51.9      | hgt       | 74.1      | 20.64819  | 0.5499276 | 3312.297  | 49.75137  | 18.42547  | 73.41216  | \n",
       "| Guatemala | 3         | 1356      | 24        | 30.5      | 1         | 3911.8    | 51.9      | hgt       | 77.1      | 20.64819  | 0.5499276 | 3312.297  | 49.75137  | 18.42547  | 73.41216  | \n",
       "| Guatemala | 3         | 1357      | 12        |  1.0      | 1         | 3791.4    | 52.6      | hgt       | 71.5      | 20.64819  | 0.5499276 | 3312.297  | 49.75137  | 18.42547  | 73.41216  | \n",
       "| Guatemala | 3         | 1357      | 18        | 12.7      | 1         | 3791.4    | 52.6      | hgt       | 77.8      | 20.64819  | 0.5499276 | 3312.297  | 49.75137  | 18.42547  | 73.41216  | \n",
       "| ... | ... | ... | ... | ... | ... | ... | ... | ... | ... | ... | ... | ... | ... | ... | ... | \n",
       "| Guatemala | 14        | 2017      | 18        | 42.6      | 1         | 3312.9    | 49.2      | wgt       |  8641.0   | 20.64819  | 0.5499276 | 3312.297  | 49.75137  | 18.42547  | 8807.877  | \n",
       "| Guatemala | 14        | 2017      | 24        | 43.1      | 1         | 3312.9    | 49.2      | wgt       | 10922.6   | 20.64819  | 0.5499276 | 3312.297  | 49.75137  | 18.42547  | 8807.877  | \n",
       "| Guatemala | 14        | 2018      | 12        | 24.0      | 0         | 3682.8    | 48.8      | wgt       |  6266.3   | 20.64819  | 0.5499276 | 3312.297  | 49.75137  | 18.42547  | 8807.877  | \n",
       "| Guatemala | 14        | 2018      | 18        | 37.2      | 0         | 3682.8    | 48.8      | wgt       | 11008.2   | 20.64819  | 0.5499276 | 3312.297  | 49.75137  | 18.42547  | 8807.877  | \n",
       "| Guatemala | 14        | 2018      | 24        | 31.7      | 0         | 3682.8    | 48.8      | wgt       |  9668.5   | 20.64819  | 0.5499276 | 3312.297  | 49.75137  | 18.42547  | 8807.877  | \n",
       "| Guatemala | 14        | 2019      | 12        | 17.3      | 1         | 3132.9    | 49.7      | wgt       |  7777.6   | 20.64819  | 0.5499276 | 3312.297  | 49.75137  | 18.42547  | 8807.877  | \n",
       "| Guatemala | 14        | 2019      | 18        | 24.5      | 1         | 3132.9    | 49.7      | wgt       |  9729.6   | 20.64819  | 0.5499276 | 3312.297  | 49.75137  | 18.42547  | 8807.877  | \n",
       "| Guatemala | 14        | 2019      | 24        | 57.8      | 1         | 3132.9    | 49.7      | wgt       | 10276.5   | 20.64819  | 0.5499276 | 3312.297  | 49.75137  | 18.42547  | 8807.877  | \n",
       "| Guatemala | 14        | 2023      | 12        | 15.9      | 1         | 3607.1    | 50.3      | wgt       |  8424.7   | 20.64819  | 0.5499276 | 3312.297  | 49.75137  | 18.42547  | 8807.877  | \n",
       "| Guatemala | 14        | 2023      | 18        | 22.2      | 1         | 3607.1    | 50.3      | wgt       |  6933.2   | 20.64819  | 0.5499276 | 3312.297  | 49.75137  | 18.42547  | 8807.877  | \n",
       "\n",
       "\n"
      ],
      "text/plain": [
       "     S.country vil.id indi.id svymthRound prot male wgt0   hgt0 variable\n",
       "1    Guatemala 3      1352    18          13.3 1    2545.2 47.4 hgt     \n",
       "2    Guatemala 3      1352    24          46.3 1    2545.2 47.4 hgt     \n",
       "3    Guatemala 3      1354    12           1.0 1    3634.3 51.2 hgt     \n",
       "4    Guatemala 3      1354    18           9.8 1    3634.3 51.2 hgt     \n",
       "5    Guatemala 3      1354    24          15.4 1    3634.3 51.2 hgt     \n",
       "6    Guatemala 3      1356    12           8.6 1    3911.8 51.9 hgt     \n",
       "7    Guatemala 3      1356    18          17.8 1    3911.8 51.9 hgt     \n",
       "8    Guatemala 3      1356    24          30.5 1    3911.8 51.9 hgt     \n",
       "9    Guatemala 3      1357    12           1.0 1    3791.4 52.6 hgt     \n",
       "10   Guatemala 3      1357    18          12.7 1    3791.4 52.6 hgt     \n",
       "...  ...       ...    ...     ...         ...  ...  ...    ...  ...     \n",
       "1373 Guatemala 14     2017    18          42.6 1    3312.9 49.2 wgt     \n",
       "1374 Guatemala 14     2017    24          43.1 1    3312.9 49.2 wgt     \n",
       "1375 Guatemala 14     2018    12          24.0 0    3682.8 48.8 wgt     \n",
       "1376 Guatemala 14     2018    18          37.2 0    3682.8 48.8 wgt     \n",
       "1377 Guatemala 14     2018    24          31.7 0    3682.8 48.8 wgt     \n",
       "1378 Guatemala 14     2019    12          17.3 1    3132.9 49.7 wgt     \n",
       "1379 Guatemala 14     2019    18          24.5 1    3132.9 49.7 wgt     \n",
       "1380 Guatemala 14     2019    24          57.8 1    3132.9 49.7 wgt     \n",
       "1381 Guatemala 14     2023    12          15.9 1    3607.1 50.3 wgt     \n",
       "1382 Guatemala 14     2023    18          22.2 1    3607.1 50.3 wgt     \n",
       "     value   prot_mean male_mean wgt0_mean hgt0_mean svymthRound_mean\n",
       "1    70.2    20.64819  0.5499276 3312.297  49.75137  18.42547        \n",
       "2    75.8    20.64819  0.5499276 3312.297  49.75137  18.42547        \n",
       "3    66.3    20.64819  0.5499276 3312.297  49.75137  18.42547        \n",
       "4    69.2    20.64819  0.5499276 3312.297  49.75137  18.42547        \n",
       "5    75.3    20.64819  0.5499276 3312.297  49.75137  18.42547        \n",
       "6    68.1    20.64819  0.5499276 3312.297  49.75137  18.42547        \n",
       "7    74.1    20.64819  0.5499276 3312.297  49.75137  18.42547        \n",
       "8    77.1    20.64819  0.5499276 3312.297  49.75137  18.42547        \n",
       "9    71.5    20.64819  0.5499276 3312.297  49.75137  18.42547        \n",
       "10   77.8    20.64819  0.5499276 3312.297  49.75137  18.42547        \n",
       "...  ...     ...       ...       ...       ...       ...             \n",
       "1373  8641.0 20.64819  0.5499276 3312.297  49.75137  18.42547        \n",
       "1374 10922.6 20.64819  0.5499276 3312.297  49.75137  18.42547        \n",
       "1375  6266.3 20.64819  0.5499276 3312.297  49.75137  18.42547        \n",
       "1376 11008.2 20.64819  0.5499276 3312.297  49.75137  18.42547        \n",
       "1377  9668.5 20.64819  0.5499276 3312.297  49.75137  18.42547        \n",
       "1378  7777.6 20.64819  0.5499276 3312.297  49.75137  18.42547        \n",
       "1379  9729.6 20.64819  0.5499276 3312.297  49.75137  18.42547        \n",
       "1380 10276.5 20.64819  0.5499276 3312.297  49.75137  18.42547        \n",
       "1381  8424.7 20.64819  0.5499276 3312.297  49.75137  18.42547        \n",
       "1382  6933.2 20.64819  0.5499276 3312.297  49.75137  18.42547        \n",
       "     value_mean\n",
       "1    73.41216  \n",
       "2    73.41216  \n",
       "3    73.41216  \n",
       "4    73.41216  \n",
       "5    73.41216  \n",
       "6    73.41216  \n",
       "7    73.41216  \n",
       "8    73.41216  \n",
       "9    73.41216  \n",
       "10   73.41216  \n",
       "...  ...       \n",
       "1373 8807.877  \n",
       "1374 8807.877  \n",
       "1375 8807.877  \n",
       "1376 8807.877  \n",
       "1377 8807.877  \n",
       "1378 8807.877  \n",
       "1379 8807.877  \n",
       "1380 8807.877  \n",
       "1381 8807.877  \n",
       "1382 8807.877  "
      ]
     },
     "metadata": {},
     "output_type": "display_data"
    }
   ],
   "source": [
    "# Decomposition Step 2: mutate_at(vars, funs(mean = mean(.)))\n",
    "# the xc averaging could have taken place earlier, no difference in mean across variables\n",
    "df.decompose_step2 <- df.decompose_step1 %>% \n",
    "                        group_by(variable) %>% \n",
    "                        mutate_at(vars(c(vars.xc, 'value')), funs(mean = mean(.))) %>% \n",
    "                        ungroup()\n",
    "\n",
    "options(repr.matrix.max.rows=20, repr.matrix.max.cols=20)\n",
    "dim(df.decompose_step2)\n",
    "df.decompose_step2"
   ]
  },
  {
   "cell_type": "markdown",
   "metadata": {},
   "source": [
    "### Decomposition Step 3 Non-Loop"
   ]
  },
  {
   "cell_type": "code",
   "execution_count": 167,
   "metadata": {},
   "outputs": [],
   "source": [
    "ff_lr_decompose_valadj <- function(df, df.coef, vars.tomean, str.esti.suffix) {    \n",
    "    new_value <- (df$value + \n",
    "                  rowSums((df[paste0(vars.tomean, '_mean')] - df[vars.tomean])\n",
    "                          *df.coef[df$variable, paste0(vars.tomean, str.esti.suffix)]))    \n",
    "    return(new_value)\n",
    "}\n",
    "\n",
    "# # Decomposition Step 3: mutate_at(vars, funs(mean = mean(.)))\n",
    "# var.decomp.one <- (paste0('value', list.vars.tomean.name.suffix[[1]]))\n",
    "# var.decomp.two <- (paste0('value', list.vars.tomean.name.suffix[[2]]))\n",
    "# var.decomp.thr <- (paste0('value', list.vars.tomean.name.suffix[[3]]))\n",
    "# df.decompose_step3 <- df.decompose_step2 %>% \n",
    "#                         mutate((!!var.decomp.one) := f_decompose_here(., df.coef, list.vars.tomean[[1]], str.esti.suffix), \n",
    "#                                (!!var.decomp.two) := f_decompose_here(., df.coef, list.vars.tomean[[2]], str.esti.suffix),\n",
    "#                                (!!var.decomp.thr) := f_decompose_here(., df.coef, list.vars.tomean[[3]], str.esti.suffix))\n",
    "\n",
    "# options(repr.matrix.max.rows=10, repr.matrix.max.cols=20)\n",
    "# dim(df.decompose_step3)\n",
    "# df.decompose_step3"
   ]
  },
  {
   "cell_type": "markdown",
   "metadata": {},
   "source": [
    "### Decomposition Step 3 With Loop"
   ]
  },
  {
   "cell_type": "code",
   "execution_count": 168,
   "metadata": {},
   "outputs": [
    {
     "data": {
      "text/html": [
       "<ol class=list-inline>\n",
       "\t<li>1382</li>\n",
       "\t<li>19</li>\n",
       "</ol>\n"
      ],
      "text/latex": [
       "\\begin{enumerate*}\n",
       "\\item 1382\n",
       "\\item 19\n",
       "\\end{enumerate*}\n"
      ],
      "text/markdown": [
       "1. 1382\n",
       "2. 19\n",
       "\n",
       "\n"
      ],
      "text/plain": [
       "[1] 1382   19"
      ]
     },
     "metadata": {},
     "output_type": "display_data"
    },
    {
     "data": {
      "text/html": [
       "<table>\n",
       "<thead><tr><th scope=col>S.country</th><th scope=col>vil.id</th><th scope=col>indi.id</th><th scope=col>svymthRound</th><th scope=col>prot</th><th scope=col>male</th><th scope=col>wgt0</th><th scope=col>hgt0</th><th scope=col>variable</th><th scope=col>value</th><th scope=col>prot_mean</th><th scope=col>male_mean</th><th scope=col>wgt0_mean</th><th scope=col>hgt0_mean</th><th scope=col>svymthRound_mean</th><th scope=col>value_mean</th><th scope=col>value_mh0me2m</th><th scope=col>value_mh0mep2m</th><th scope=col>value_mh0mepm2m</th></tr></thead>\n",
       "<tbody>\n",
       "\t<tr><td>Guatemala</td><td>3        </td><td>1352     </td><td>18       </td><td>13.3     </td><td>1        </td><td>2545.2   </td><td>47.4     </td><td>hgt      </td><td>70.2     </td><td>20.64819 </td><td>0.5499276</td><td>3312.297 </td><td>49.75137 </td><td>18.42547 </td><td>73.41216 </td><td>73.19390 </td><td>71.19903 </td><td>71.68148 </td></tr>\n",
       "\t<tr><td>Guatemala</td><td>3        </td><td>1352     </td><td>24       </td><td>46.3     </td><td>1        </td><td>2545.2   </td><td>47.4     </td><td>hgt      </td><td>75.8     </td><td>20.64819 </td><td>0.5499276</td><td>3312.297 </td><td>49.75137 </td><td>18.42547 </td><td>73.41216 </td><td>78.79390 </td><td>85.75778 </td><td>79.43671 </td></tr>\n",
       "\t<tr><td>Guatemala</td><td>3        </td><td>1354     </td><td>12       </td><td> 1.0     </td><td>1        </td><td>3634.3   </td><td>51.2     </td><td>hgt      </td><td>66.3     </td><td>20.64819 </td><td>0.5499276</td><td>3312.297 </td><td>49.75137 </td><td>18.42547 </td><td>73.41216 </td><td>63.61689 </td><td>58.28285 </td><td>65.56882 </td></tr>\n",
       "\t<tr><td>Guatemala</td><td>3        </td><td>1354     </td><td>18       </td><td> 9.8     </td><td>1        </td><td>3634.3   </td><td>51.2     </td><td>hgt      </td><td>69.2     </td><td>20.64819 </td><td>0.5499276</td><td>3312.297 </td><td>49.75137 </td><td>18.42547 </td><td>73.41216 </td><td>66.51689 </td><td>63.57185 </td><td>64.05430 </td></tr>\n",
       "\t<tr><td>Guatemala</td><td>3        </td><td>1354     </td><td>24       </td><td>15.4     </td><td>1        </td><td>3634.3   </td><td>51.2     </td><td>hgt      </td><td>75.3     </td><td>20.64819 </td><td>0.5499276</td><td>3312.297 </td><td>49.75137 </td><td>18.42547 </td><td>73.41216 </td><td>72.61689 </td><td>71.19213 </td><td>64.87106 </td></tr>\n",
       "\t<tr><td>...</td><td>...</td><td>...</td><td>...</td><td>...</td><td>...</td><td>...</td><td>...</td><td>...</td><td>...</td><td>...</td><td>...</td><td>...</td><td>...</td><td>...</td><td>...</td><td>...</td><td>...</td><td>...</td></tr>\n",
       "\t<tr><td>Guatemala</td><td>14       </td><td>2019     </td><td>12       </td><td>17.3     </td><td>1        </td><td>3132.9   </td><td>49.7     </td><td>wgt      </td><td> 7777.6  </td><td>20.64819 </td><td>0.5499276</td><td>3312.297 </td><td>49.75137 </td><td>18.42547 </td><td>8807.877 </td><td> 7702.954</td><td> 7505.167</td><td> 9116.539</td></tr>\n",
       "\t<tr><td>Guatemala</td><td>14       </td><td>2019     </td><td>18       </td><td>24.5     </td><td>1        </td><td>3132.9   </td><td>49.7     </td><td>wgt      </td><td> 9729.6  </td><td>20.64819 </td><td>0.5499276</td><td>3312.297 </td><td>49.75137 </td><td>18.42547 </td><td>8807.877 </td><td> 9654.954</td><td> 9882.491</td><td> 9989.190</td></tr>\n",
       "\t<tr><td>Guatemala</td><td>14       </td><td>2019     </td><td>24       </td><td>57.8     </td><td>1        </td><td>3132.9   </td><td>49.7     </td><td>wgt      </td><td>10276.5  </td><td>20.64819 </td><td>0.5499276</td><td>3312.297 </td><td>49.75137 </td><td>18.42547 </td><td>8807.877 </td><td>10201.854</td><td>12396.514</td><td>10998.539</td></tr>\n",
       "\t<tr><td>Guatemala</td><td>14       </td><td>2023     </td><td>12       </td><td>15.9     </td><td>1        </td><td>3607.1   </td><td>50.3     </td><td>wgt      </td><td> 8424.7  </td><td>20.64819 </td><td>0.5499276</td><td>3312.297 </td><td>49.75137 </td><td>18.42547 </td><td>8807.877 </td><td> 7894.518</td><td> 7614.029</td><td> 9225.402</td></tr>\n",
       "\t<tr><td>Guatemala</td><td>14       </td><td>2023     </td><td>18       </td><td>22.2     </td><td>1        </td><td>3607.1   </td><td>50.3     </td><td>wgt      </td><td> 6933.2  </td><td>20.64819 </td><td>0.5499276</td><td>3312.297 </td><td>49.75137 </td><td>18.42547 </td><td>8807.877 </td><td> 6403.018</td><td> 6494.688</td><td> 6601.387</td></tr>\n",
       "</tbody>\n",
       "</table>\n"
      ],
      "text/latex": [
       "\\begin{tabular}{r|lllllllllllllllllll}\n",
       " S.country & vil.id & indi.id & svymthRound & prot & male & wgt0 & hgt0 & variable & value & prot\\_mean & male\\_mean & wgt0\\_mean & hgt0\\_mean & svymthRound\\_mean & value\\_mean & value\\_mh0me2m & value\\_mh0mep2m & value\\_mh0mepm2m\\\\\n",
       "\\hline\n",
       "\t Guatemala & 3         & 1352      & 18        & 13.3      & 1         & 2545.2    & 47.4      & hgt       & 70.2      & 20.64819  & 0.5499276 & 3312.297  & 49.75137  & 18.42547  & 73.41216  & 73.19390  & 71.19903  & 71.68148 \\\\\n",
       "\t Guatemala & 3         & 1352      & 24        & 46.3      & 1         & 2545.2    & 47.4      & hgt       & 75.8      & 20.64819  & 0.5499276 & 3312.297  & 49.75137  & 18.42547  & 73.41216  & 78.79390  & 85.75778  & 79.43671 \\\\\n",
       "\t Guatemala & 3         & 1354      & 12        &  1.0      & 1         & 3634.3    & 51.2      & hgt       & 66.3      & 20.64819  & 0.5499276 & 3312.297  & 49.75137  & 18.42547  & 73.41216  & 63.61689  & 58.28285  & 65.56882 \\\\\n",
       "\t Guatemala & 3         & 1354      & 18        &  9.8      & 1         & 3634.3    & 51.2      & hgt       & 69.2      & 20.64819  & 0.5499276 & 3312.297  & 49.75137  & 18.42547  & 73.41216  & 66.51689  & 63.57185  & 64.05430 \\\\\n",
       "\t Guatemala & 3         & 1354      & 24        & 15.4      & 1         & 3634.3    & 51.2      & hgt       & 75.3      & 20.64819  & 0.5499276 & 3312.297  & 49.75137  & 18.42547  & 73.41216  & 72.61689  & 71.19213  & 64.87106 \\\\\n",
       "\t ... & ... & ... & ... & ... & ... & ... & ... & ... & ... & ... & ... & ... & ... & ... & ... & ... & ... & ...\\\\\n",
       "\t Guatemala & 14        & 2019      & 12        & 17.3      & 1         & 3132.9    & 49.7      & wgt       &  7777.6   & 20.64819  & 0.5499276 & 3312.297  & 49.75137  & 18.42547  & 8807.877  &  7702.954 &  7505.167 &  9116.539\\\\\n",
       "\t Guatemala & 14        & 2019      & 18        & 24.5      & 1         & 3132.9    & 49.7      & wgt       &  9729.6   & 20.64819  & 0.5499276 & 3312.297  & 49.75137  & 18.42547  & 8807.877  &  9654.954 &  9882.491 &  9989.190\\\\\n",
       "\t Guatemala & 14        & 2019      & 24        & 57.8      & 1         & 3132.9    & 49.7      & wgt       & 10276.5   & 20.64819  & 0.5499276 & 3312.297  & 49.75137  & 18.42547  & 8807.877  & 10201.854 & 12396.514 & 10998.539\\\\\n",
       "\t Guatemala & 14        & 2023      & 12        & 15.9      & 1         & 3607.1    & 50.3      & wgt       &  8424.7   & 20.64819  & 0.5499276 & 3312.297  & 49.75137  & 18.42547  & 8807.877  &  7894.518 &  7614.029 &  9225.402\\\\\n",
       "\t Guatemala & 14        & 2023      & 18        & 22.2      & 1         & 3607.1    & 50.3      & wgt       &  6933.2   & 20.64819  & 0.5499276 & 3312.297  & 49.75137  & 18.42547  & 8807.877  &  6403.018 &  6494.688 &  6601.387\\\\\n",
       "\\end{tabular}\n"
      ],
      "text/markdown": [
       "\n",
       "S.country | vil.id | indi.id | svymthRound | prot | male | wgt0 | hgt0 | variable | value | prot_mean | male_mean | wgt0_mean | hgt0_mean | svymthRound_mean | value_mean | value_mh0me2m | value_mh0mep2m | value_mh0mepm2m | \n",
       "|---|---|---|---|---|---|---|---|---|---|---|\n",
       "| Guatemala | 3         | 1352      | 18        | 13.3      | 1         | 2545.2    | 47.4      | hgt       | 70.2      | 20.64819  | 0.5499276 | 3312.297  | 49.75137  | 18.42547  | 73.41216  | 73.19390  | 71.19903  | 71.68148  | \n",
       "| Guatemala | 3         | 1352      | 24        | 46.3      | 1         | 2545.2    | 47.4      | hgt       | 75.8      | 20.64819  | 0.5499276 | 3312.297  | 49.75137  | 18.42547  | 73.41216  | 78.79390  | 85.75778  | 79.43671  | \n",
       "| Guatemala | 3         | 1354      | 12        |  1.0      | 1         | 3634.3    | 51.2      | hgt       | 66.3      | 20.64819  | 0.5499276 | 3312.297  | 49.75137  | 18.42547  | 73.41216  | 63.61689  | 58.28285  | 65.56882  | \n",
       "| Guatemala | 3         | 1354      | 18        |  9.8      | 1         | 3634.3    | 51.2      | hgt       | 69.2      | 20.64819  | 0.5499276 | 3312.297  | 49.75137  | 18.42547  | 73.41216  | 66.51689  | 63.57185  | 64.05430  | \n",
       "| Guatemala | 3         | 1354      | 24        | 15.4      | 1         | 3634.3    | 51.2      | hgt       | 75.3      | 20.64819  | 0.5499276 | 3312.297  | 49.75137  | 18.42547  | 73.41216  | 72.61689  | 71.19213  | 64.87106  | \n",
       "| ... | ... | ... | ... | ... | ... | ... | ... | ... | ... | ... | ... | ... | ... | ... | ... | ... | ... | ... | \n",
       "| Guatemala | 14        | 2019      | 12        | 17.3      | 1         | 3132.9    | 49.7      | wgt       |  7777.6   | 20.64819  | 0.5499276 | 3312.297  | 49.75137  | 18.42547  | 8807.877  |  7702.954 |  7505.167 |  9116.539 | \n",
       "| Guatemala | 14        | 2019      | 18        | 24.5      | 1         | 3132.9    | 49.7      | wgt       |  9729.6   | 20.64819  | 0.5499276 | 3312.297  | 49.75137  | 18.42547  | 8807.877  |  9654.954 |  9882.491 |  9989.190 | \n",
       "| Guatemala | 14        | 2019      | 24        | 57.8      | 1         | 3132.9    | 49.7      | wgt       | 10276.5   | 20.64819  | 0.5499276 | 3312.297  | 49.75137  | 18.42547  | 8807.877  | 10201.854 | 12396.514 | 10998.539 | \n",
       "| Guatemala | 14        | 2023      | 12        | 15.9      | 1         | 3607.1    | 50.3      | wgt       |  8424.7   | 20.64819  | 0.5499276 | 3312.297  | 49.75137  | 18.42547  | 8807.877  |  7894.518 |  7614.029 |  9225.402 | \n",
       "| Guatemala | 14        | 2023      | 18        | 22.2      | 1         | 3607.1    | 50.3      | wgt       |  6933.2   | 20.64819  | 0.5499276 | 3312.297  | 49.75137  | 18.42547  | 8807.877  |  6403.018 |  6494.688 |  6601.387 | \n",
       "\n",
       "\n"
      ],
      "text/plain": [
       "     S.country vil.id indi.id svymthRound prot male wgt0   hgt0 variable\n",
       "1    Guatemala 3      1352    18          13.3 1    2545.2 47.4 hgt     \n",
       "2    Guatemala 3      1352    24          46.3 1    2545.2 47.4 hgt     \n",
       "3    Guatemala 3      1354    12           1.0 1    3634.3 51.2 hgt     \n",
       "4    Guatemala 3      1354    18           9.8 1    3634.3 51.2 hgt     \n",
       "5    Guatemala 3      1354    24          15.4 1    3634.3 51.2 hgt     \n",
       "...  ...       ...    ...     ...         ...  ...  ...    ...  ...     \n",
       "1378 Guatemala 14     2019    12          17.3 1    3132.9 49.7 wgt     \n",
       "1379 Guatemala 14     2019    18          24.5 1    3132.9 49.7 wgt     \n",
       "1380 Guatemala 14     2019    24          57.8 1    3132.9 49.7 wgt     \n",
       "1381 Guatemala 14     2023    12          15.9 1    3607.1 50.3 wgt     \n",
       "1382 Guatemala 14     2023    18          22.2 1    3607.1 50.3 wgt     \n",
       "     value   prot_mean male_mean wgt0_mean hgt0_mean svymthRound_mean\n",
       "1    70.2    20.64819  0.5499276 3312.297  49.75137  18.42547        \n",
       "2    75.8    20.64819  0.5499276 3312.297  49.75137  18.42547        \n",
       "3    66.3    20.64819  0.5499276 3312.297  49.75137  18.42547        \n",
       "4    69.2    20.64819  0.5499276 3312.297  49.75137  18.42547        \n",
       "5    75.3    20.64819  0.5499276 3312.297  49.75137  18.42547        \n",
       "...  ...     ...       ...       ...       ...       ...             \n",
       "1378  7777.6 20.64819  0.5499276 3312.297  49.75137  18.42547        \n",
       "1379  9729.6 20.64819  0.5499276 3312.297  49.75137  18.42547        \n",
       "1380 10276.5 20.64819  0.5499276 3312.297  49.75137  18.42547        \n",
       "1381  8424.7 20.64819  0.5499276 3312.297  49.75137  18.42547        \n",
       "1382  6933.2 20.64819  0.5499276 3312.297  49.75137  18.42547        \n",
       "     value_mean value_mh0me2m value_mh0mep2m value_mh0mepm2m\n",
       "1    73.41216   73.19390      71.19903       71.68148       \n",
       "2    73.41216   78.79390      85.75778       79.43671       \n",
       "3    73.41216   63.61689      58.28285       65.56882       \n",
       "4    73.41216   66.51689      63.57185       64.05430       \n",
       "5    73.41216   72.61689      71.19213       64.87106       \n",
       "...  ...        ...           ...            ...            \n",
       "1378 8807.877    7702.954      7505.167       9116.539      \n",
       "1379 8807.877    9654.954      9882.491       9989.190      \n",
       "1380 8807.877   10201.854     12396.514      10998.539      \n",
       "1381 8807.877    7894.518      7614.029       9225.402      \n",
       "1382 8807.877    6403.018      6494.688       6601.387      "
      ]
     },
     "metadata": {},
     "output_type": "display_data"
    }
   ],
   "source": [
    "df.decompose_step3 <- df.decompose_step2\n",
    "for (i in 1:length(list.vars.tomean)) {\n",
    "    var.decomp.cur <- (paste0('value', list.vars.tomean.name.suffix[[i]]))\n",
    "    vars.tomean <- list.vars.tomean[[i]]\n",
    "    var.decomp.cur\n",
    "    df.decompose_step3 <- df.decompose_step3 %>% mutate((!!var.decomp.cur) := ff_lr_decompose_valadj(., df.coef, vars.tomean, str.esti.suffix))\n",
    "    \n",
    "}\n",
    "options(repr.matrix.max.rows=10, repr.matrix.max.cols=20)\n",
    "dim(df.decompose_step3)\n",
    "df.decompose_step3"
   ]
  },
  {
   "cell_type": "markdown",
   "metadata": {},
   "source": [
    "### Decomposition Step 4 Variance"
   ]
  },
  {
   "cell_type": "code",
   "execution_count": 169,
   "metadata": {},
   "outputs": [
    {
     "data": {
      "text/html": [
       "<table>\n",
       "<thead><tr><th scope=col>value_var</th><th scope=col>value_mean_var</th><th scope=col>value_mh0me2m_var</th><th scope=col>value_mh0mep2m_var</th><th scope=col>value_mh0mepm2m_var</th><th scope=col>value_var_frac</th><th scope=col>value_mean_var_frac</th><th scope=col>value_mh0me2m_var_frac</th><th scope=col>value_mh0mep2m_var_frac</th><th scope=col>value_mh0mepm2m_var_frac</th></tr></thead>\n",
       "<tbody>\n",
       "\t<tr><td>     21.864</td><td>NA         </td><td>     25.35 </td><td>     49.047</td><td>     23.06 </td><td>1          </td><td>NA         </td><td>1.159      </td><td>2.243      </td><td>1.055      </td></tr>\n",
       "\t<tr><td>2965693.245</td><td>NA         </td><td>2949187.64 </td><td>4192769.518</td><td>3147506.60 </td><td>1          </td><td>NA         </td><td>0.994      </td><td>1.414      </td><td>1.061      </td></tr>\n",
       "</tbody>\n",
       "</table>\n"
      ],
      "text/latex": [
       "\\begin{tabular}{r|llllllllll}\n",
       " value\\_var & value\\_mean\\_var & value\\_mh0me2m\\_var & value\\_mh0mep2m\\_var & value\\_mh0mepm2m\\_var & value\\_var\\_frac & value\\_mean\\_var\\_frac & value\\_mh0me2m\\_var\\_frac & value\\_mh0mep2m\\_var\\_frac & value\\_mh0mepm2m\\_var\\_frac\\\\\n",
       "\\hline\n",
       "\t      21.864 & NA          &      25.35  &      49.047 &      23.06  & 1           & NA          & 1.159       & 2.243       & 1.055      \\\\\n",
       "\t 2965693.245 & NA          & 2949187.64  & 4192769.518 & 3147506.60  & 1           & NA          & 0.994       & 1.414       & 1.061      \\\\\n",
       "\\end{tabular}\n"
      ],
      "text/markdown": [
       "\n",
       "value_var | value_mean_var | value_mh0me2m_var | value_mh0mep2m_var | value_mh0mepm2m_var | value_var_frac | value_mean_var_frac | value_mh0me2m_var_frac | value_mh0mep2m_var_frac | value_mh0mepm2m_var_frac | \n",
       "|---|---|\n",
       "|      21.864 | NA          |      25.35  |      49.047 |      23.06  | 1           | NA          | 1.159       | 2.243       | 1.055       | \n",
       "| 2965693.245 | NA          | 2949187.64  | 4192769.518 | 3147506.60  | 1           | NA          | 0.994       | 1.414       | 1.061       | \n",
       "\n",
       "\n"
      ],
      "text/plain": [
       "  value_var   value_mean_var value_mh0me2m_var value_mh0mep2m_var\n",
       "1      21.864 NA                  25.35             49.047       \n",
       "2 2965693.245 NA             2949187.64        4192769.518       \n",
       "  value_mh0mepm2m_var value_var_frac value_mean_var_frac value_mh0me2m_var_frac\n",
       "1      23.06          1              NA                  1.159                 \n",
       "2 3147506.60          1              NA                  0.994                 \n",
       "  value_mh0mep2m_var_frac value_mh0mepm2m_var_frac\n",
       "1 2.243                   1.055                   \n",
       "2 1.414                   1.061                   "
      ]
     },
     "metadata": {},
     "output_type": "display_data"
    }
   ],
   "source": [
    "df.decompose_step3 %>%\n",
    "        select(variable, contains('value')) %>%\n",
    "        group_by(variable) %>%\n",
    "        summarize_all(funs(mean = mean, var = var)) %>%\n",
    "        select(matches('value')) %>% select(ends_with(\"_var\")) %>%\n",
    "        mutate_if(is.numeric, funs( frac = (./value_var))) %>%\n",
    "        mutate_if(is.numeric, round, 3)            "
   ]
  },
  {
   "cell_type": "markdown",
   "metadata": {},
   "source": [
    "### Graphical Results"
   ]
  },
  {
   "cell_type": "markdown",
   "metadata": {},
   "source": [
    "Graphically, difficult to pick up exact differences in variance, a 50 percent reduction in variance visually does not look like 50 percent. Intuitively, we are kind of seeing standard deviation, not variance on the graph if we think abou the x-scale. "
   ]
  },
  {
   "cell_type": "code",
   "execution_count": 170,
   "metadata": {},
   "outputs": [
    {
     "data": {
      "text/html": [
       "<table>\n",
       "<thead><tr><th scope=col>variable</th><th scope=col>value</th><th scope=col>value_mh0me2m</th><th scope=col>value_mh0mep2m</th><th scope=col>value_mh0mepm2m</th></tr></thead>\n",
       "<tbody>\n",
       "\t<tr><td>hgt     </td><td>70.2    </td><td>73.19390</td><td>71.19903</td><td>71.68148</td></tr>\n",
       "\t<tr><td>hgt     </td><td>75.8    </td><td>78.79390</td><td>85.75778</td><td>79.43671</td></tr>\n",
       "\t<tr><td>hgt     </td><td>66.3    </td><td>63.61689</td><td>58.28285</td><td>65.56882</td></tr>\n",
       "\t<tr><td>hgt     </td><td>69.2    </td><td>66.51689</td><td>63.57185</td><td>64.05430</td></tr>\n",
       "\t<tr><td>hgt     </td><td>75.3    </td><td>72.61689</td><td>71.19213</td><td>64.87106</td></tr>\n",
       "\t<tr><td>...</td><td>...</td><td>...</td><td>...</td><td>...</td></tr>\n",
       "\t<tr><td>wgt      </td><td> 7777.6  </td><td> 7702.954</td><td> 7505.167</td><td> 9116.539</td></tr>\n",
       "\t<tr><td>wgt      </td><td> 9729.6  </td><td> 9654.954</td><td> 9882.491</td><td> 9989.190</td></tr>\n",
       "\t<tr><td>wgt      </td><td>10276.5  </td><td>10201.854</td><td>12396.514</td><td>10998.539</td></tr>\n",
       "\t<tr><td>wgt      </td><td> 8424.7  </td><td> 7894.518</td><td> 7614.029</td><td> 9225.402</td></tr>\n",
       "\t<tr><td>wgt      </td><td> 6933.2  </td><td> 6403.018</td><td> 6494.688</td><td> 6601.387</td></tr>\n",
       "</tbody>\n",
       "</table>\n"
      ],
      "text/latex": [
       "\\begin{tabular}{r|lllll}\n",
       " variable & value & value\\_mh0me2m & value\\_mh0mep2m & value\\_mh0mepm2m\\\\\n",
       "\\hline\n",
       "\t hgt      & 70.2     & 73.19390 & 71.19903 & 71.68148\\\\\n",
       "\t hgt      & 75.8     & 78.79390 & 85.75778 & 79.43671\\\\\n",
       "\t hgt      & 66.3     & 63.61689 & 58.28285 & 65.56882\\\\\n",
       "\t hgt      & 69.2     & 66.51689 & 63.57185 & 64.05430\\\\\n",
       "\t hgt      & 75.3     & 72.61689 & 71.19213 & 64.87106\\\\\n",
       "\t ... & ... & ... & ... & ...\\\\\n",
       "\t wgt       &  7777.6   &  7702.954 &  7505.167 &  9116.539\\\\\n",
       "\t wgt       &  9729.6   &  9654.954 &  9882.491 &  9989.190\\\\\n",
       "\t wgt       & 10276.5   & 10201.854 & 12396.514 & 10998.539\\\\\n",
       "\t wgt       &  8424.7   &  7894.518 &  7614.029 &  9225.402\\\\\n",
       "\t wgt       &  6933.2   &  6403.018 &  6494.688 &  6601.387\\\\\n",
       "\\end{tabular}\n"
      ],
      "text/markdown": [
       "\n",
       "variable | value | value_mh0me2m | value_mh0mep2m | value_mh0mepm2m | \n",
       "|---|---|---|---|---|---|---|---|---|---|---|\n",
       "| hgt      | 70.2     | 73.19390 | 71.19903 | 71.68148 | \n",
       "| hgt      | 75.8     | 78.79390 | 85.75778 | 79.43671 | \n",
       "| hgt      | 66.3     | 63.61689 | 58.28285 | 65.56882 | \n",
       "| hgt      | 69.2     | 66.51689 | 63.57185 | 64.05430 | \n",
       "| hgt      | 75.3     | 72.61689 | 71.19213 | 64.87106 | \n",
       "| ... | ... | ... | ... | ... | \n",
       "| wgt       |  7777.6   |  7702.954 |  7505.167 |  9116.539 | \n",
       "| wgt       |  9729.6   |  9654.954 |  9882.491 |  9989.190 | \n",
       "| wgt       | 10276.5   | 10201.854 | 12396.514 | 10998.539 | \n",
       "| wgt       |  8424.7   |  7894.518 |  7614.029 |  9225.402 | \n",
       "| wgt       |  6933.2   |  6403.018 |  6494.688 |  6601.387 | \n",
       "\n",
       "\n"
      ],
      "text/plain": [
       "     variable value   value_mh0me2m value_mh0mep2m value_mh0mepm2m\n",
       "1    hgt      70.2    73.19390      71.19903       71.68148       \n",
       "2    hgt      75.8    78.79390      85.75778       79.43671       \n",
       "3    hgt      66.3    63.61689      58.28285       65.56882       \n",
       "4    hgt      69.2    66.51689      63.57185       64.05430       \n",
       "5    hgt      75.3    72.61689      71.19213       64.87106       \n",
       "...  ...      ...     ...           ...            ...            \n",
       "1378 wgt       7777.6  7702.954      7505.167       9116.539      \n",
       "1379 wgt       9729.6  9654.954      9882.491       9989.190      \n",
       "1380 wgt      10276.5 10201.854     12396.514      10998.539      \n",
       "1381 wgt       8424.7  7894.518      7614.029       9225.402      \n",
       "1382 wgt       6933.2  6403.018      6494.688       6601.387      "
      ]
     },
     "metadata": {},
     "output_type": "display_data"
    }
   ],
   "source": [
    "df.decompose_step3 %>% \n",
    "    select(variable, contains('value'), -value_mean)"
   ]
  },
  {
   "cell_type": "code",
   "execution_count": 171,
   "metadata": {},
   "outputs": [
    {
     "data": {},
     "metadata": {},
     "output_type": "display_data"
    },
    {
     "data": {
      "image/png": "[encoded data removed]",
      "text/plain": [
       "plot without title"
      ]
     },
     "metadata": {},
     "output_type": "display_data"
    }
   ],
   "source": [
    "options(repr.plot.width = 10, repr.plot.height = 4)\n",
    "df.decompose_step3 %>% \n",
    "    select(variable, contains('value'), -value_mean) %>%\n",
    "    rename(outcome = variable) %>%\n",
    "    gather(variable, value, -outcome) %>%\n",
    "    ggplot(aes(x=value, color = variable, fill = variable)) + \n",
    "        geom_line(stat = \"density\") + \n",
    "        facet_wrap(~ outcome, scales='free', nrow=2)                    "
   ]
  },
  {
   "cell_type": "markdown",
   "metadata": {},
   "source": [
    "### Additional Detailed Testings"
   ]
  },
  {
   "cell_type": "code",
   "execution_count": 172,
   "metadata": {},
   "outputs": [
    {
     "data": {
      "text/html": [
       "<table>\n",
       "<thead><tr><th scope=col>male</th><th scope=col>hgt0</th></tr></thead>\n",
       "<tbody>\n",
       "\t<tr><td>1   </td><td>47.4</td></tr>\n",
       "\t<tr><td>1   </td><td>47.4</td></tr>\n",
       "\t<tr><td>1   </td><td>51.2</td></tr>\n",
       "</tbody>\n",
       "</table>\n"
      ],
      "text/latex": [
       "\\begin{tabular}{r|ll}\n",
       " male & hgt0\\\\\n",
       "\\hline\n",
       "\t 1    & 47.4\\\\\n",
       "\t 1    & 47.4\\\\\n",
       "\t 1    & 51.2\\\\\n",
       "\\end{tabular}\n"
      ],
      "text/markdown": [
       "\n",
       "male | hgt0 | \n",
       "|---|---|---|\n",
       "| 1    | 47.4 | \n",
       "| 1    | 47.4 | \n",
       "| 1    | 51.2 | \n",
       "\n",
       "\n"
      ],
      "text/plain": [
       "  male hgt0\n",
       "1 1    47.4\n",
       "2 1    47.4\n",
       "3 1    51.2"
      ]
     },
     "metadata": {},
     "output_type": "display_data"
    },
    {
     "data": {
      "text/html": [
       "<table>\n",
       "<thead><tr><th scope=col>male_mean</th><th scope=col>hgt0_mean</th></tr></thead>\n",
       "<tbody>\n",
       "\t<tr><td>0.5499276</td><td>49.75137 </td></tr>\n",
       "\t<tr><td>0.5499276</td><td>49.75137 </td></tr>\n",
       "\t<tr><td>0.5499276</td><td>49.75137 </td></tr>\n",
       "</tbody>\n",
       "</table>\n"
      ],
      "text/latex": [
       "\\begin{tabular}{r|ll}\n",
       " male\\_mean & hgt0\\_mean\\\\\n",
       "\\hline\n",
       "\t 0.5499276 & 49.75137 \\\\\n",
       "\t 0.5499276 & 49.75137 \\\\\n",
       "\t 0.5499276 & 49.75137 \\\\\n",
       "\\end{tabular}\n"
      ],
      "text/markdown": [
       "\n",
       "male_mean | hgt0_mean | \n",
       "|---|---|---|\n",
       "| 0.5499276 | 49.75137  | \n",
       "| 0.5499276 | 49.75137  | \n",
       "| 0.5499276 | 49.75137  | \n",
       "\n",
       "\n"
      ],
      "text/plain": [
       "  male_mean hgt0_mean\n",
       "1 0.5499276 49.75137 \n",
       "2 0.5499276 49.75137 \n",
       "3 0.5499276 49.75137 "
      ]
     },
     "metadata": {},
     "output_type": "display_data"
    },
    {
     "data": {
      "text/html": [
       "<table>\n",
       "<thead><tr><th scope=col>male_Estimate</th><th scope=col>hgt0_Estimate</th></tr></thead>\n",
       "<tbody>\n",
       "\t<tr><td>1.244735 </td><td>0.6834853</td></tr>\n",
       "\t<tr><td>1.244735 </td><td>0.6834853</td></tr>\n",
       "\t<tr><td>1.244735 </td><td>0.6834853</td></tr>\n",
       "</tbody>\n",
       "</table>\n"
      ],
      "text/latex": [
       "\\begin{tabular}{r|ll}\n",
       " male\\_Estimate & hgt0\\_Estimate\\\\\n",
       "\\hline\n",
       "\t 1.244735  & 0.6834853\\\\\n",
       "\t 1.244735  & 0.6834853\\\\\n",
       "\t 1.244735  & 0.6834853\\\\\n",
       "\\end{tabular}\n"
      ],
      "text/markdown": [
       "\n",
       "male_Estimate | hgt0_Estimate | \n",
       "|---|---|---|\n",
       "| 1.244735  | 0.6834853 | \n",
       "| 1.244735  | 0.6834853 | \n",
       "| 1.244735  | 0.6834853 | \n",
       "\n",
       "\n"
      ],
      "text/plain": [
       "  male_Estimate hgt0_Estimate\n",
       "1 1.244735      0.6834853    \n",
       "2 1.244735      0.6834853    \n",
       "3 1.244735      0.6834853    "
      ]
     },
     "metadata": {},
     "output_type": "display_data"
    },
    {
     "data": {
      "text/html": [
       "<table>\n",
       "<thead><tr><th scope=col>variable</th><th scope=col>value</th><th scope=col>pred_new</th></tr></thead>\n",
       "<tbody>\n",
       "\t<tr><td>hgt     </td><td>70.2    </td><td>71.24691</td></tr>\n",
       "\t<tr><td>hgt     </td><td>75.8    </td><td>76.84691</td></tr>\n",
       "\t<tr><td>hgt     </td><td>66.3    </td><td>64.74966</td></tr>\n",
       "\t<tr><td>hgt     </td><td>69.2    </td><td>67.64966</td></tr>\n",
       "\t<tr><td>hgt     </td><td>75.3    </td><td>73.74966</td></tr>\n",
       "\t<tr><td>hgt     </td><td>68.1    </td><td>66.07123</td></tr>\n",
       "\t<tr><td>hgt     </td><td>74.1    </td><td>72.07123</td></tr>\n",
       "\t<tr><td>hgt     </td><td>77.1    </td><td>75.07123</td></tr>\n",
       "\t<tr><td>hgt     </td><td>71.5    </td><td>68.99279</td></tr>\n",
       "\t<tr><td>hgt     </td><td>77.8    </td><td>75.29279</td></tr>\n",
       "</tbody>\n",
       "</table>\n"
      ],
      "text/latex": [
       "\\begin{tabular}{r|lll}\n",
       " variable & value & pred\\_new\\\\\n",
       "\\hline\n",
       "\t hgt      & 70.2     & 71.24691\\\\\n",
       "\t hgt      & 75.8     & 76.84691\\\\\n",
       "\t hgt      & 66.3     & 64.74966\\\\\n",
       "\t hgt      & 69.2     & 67.64966\\\\\n",
       "\t hgt      & 75.3     & 73.74966\\\\\n",
       "\t hgt      & 68.1     & 66.07123\\\\\n",
       "\t hgt      & 74.1     & 72.07123\\\\\n",
       "\t hgt      & 77.1     & 75.07123\\\\\n",
       "\t hgt      & 71.5     & 68.99279\\\\\n",
       "\t hgt      & 77.8     & 75.29279\\\\\n",
       "\\end{tabular}\n"
      ],
      "text/markdown": [
       "\n",
       "variable | value | pred_new | \n",
       "|---|---|---|---|---|---|---|---|---|---|\n",
       "| hgt      | 70.2     | 71.24691 | \n",
       "| hgt      | 75.8     | 76.84691 | \n",
       "| hgt      | 66.3     | 64.74966 | \n",
       "| hgt      | 69.2     | 67.64966 | \n",
       "| hgt      | 75.3     | 73.74966 | \n",
       "| hgt      | 68.1     | 66.07123 | \n",
       "| hgt      | 74.1     | 72.07123 | \n",
       "| hgt      | 77.1     | 75.07123 | \n",
       "| hgt      | 71.5     | 68.99279 | \n",
       "| hgt      | 77.8     | 75.29279 | \n",
       "\n",
       "\n"
      ],
      "text/plain": [
       "   variable value pred_new\n",
       "1  hgt      70.2  71.24691\n",
       "2  hgt      75.8  76.84691\n",
       "3  hgt      66.3  64.74966\n",
       "4  hgt      69.2  67.64966\n",
       "5  hgt      75.3  73.74966\n",
       "6  hgt      68.1  66.07123\n",
       "7  hgt      74.1  72.07123\n",
       "8  hgt      77.1  75.07123\n",
       "9  hgt      71.5  68.99279\n",
       "10 hgt      77.8  75.29279"
      ]
     },
     "metadata": {},
     "output_type": "display_data"
    },
    {
     "data": {
      "text/html": [
       "<table>\n",
       "<thead><tr><th scope=col>variable</th><th scope=col>value_mean</th><th scope=col>pred_new_mean</th><th scope=col>value_sd</th><th scope=col>pred_new_sd</th></tr></thead>\n",
       "<tbody>\n",
       "\t<tr><td>hgt        </td><td>  73.41216 </td><td>  73.41216 </td><td>   4.675867</td><td>   4.534947</td></tr>\n",
       "\t<tr><td>wgt        </td><td>8807.87656 </td><td>8807.87656 </td><td>1722.118824</td><td>1695.221845</td></tr>\n",
       "</tbody>\n",
       "</table>\n"
      ],
      "text/latex": [
       "\\begin{tabular}{r|lllll}\n",
       " variable & value\\_mean & pred\\_new\\_mean & value\\_sd & pred\\_new\\_sd\\\\\n",
       "\\hline\n",
       "\t hgt         &   73.41216  &   73.41216  &    4.675867 &    4.534947\\\\\n",
       "\t wgt         & 8807.87656  & 8807.87656  & 1722.118824 & 1695.221845\\\\\n",
       "\\end{tabular}\n"
      ],
      "text/markdown": [
       "\n",
       "variable | value_mean | pred_new_mean | value_sd | pred_new_sd | \n",
       "|---|---|\n",
       "| hgt         |   73.41216  |   73.41216  |    4.675867 |    4.534947 | \n",
       "| wgt         | 8807.87656  | 8807.87656  | 1722.118824 | 1695.221845 | \n",
       "\n",
       "\n"
      ],
      "text/plain": [
       "  variable value_mean pred_new_mean value_sd    pred_new_sd\n",
       "1 hgt        73.41216   73.41216       4.675867    4.534947\n",
       "2 wgt      8807.87656 8807.87656    1722.118824 1695.221845"
      ]
     },
     "metadata": {},
     "output_type": "display_data"
    }
   ],
   "source": [
    "head(df.decompose_step2[vars.tomean.first],3)\n",
    "head(df.decompose_step2[paste0(vars.tomean.first, '_mean')], 3)\n",
    "head(df.coef[df.decompose_step2$variable, paste0(vars.tomean.first, str.esti.suffix)], 3)\n",
    "df.decompose.tomean.first <- df.decompose_step2 %>%\n",
    "    mutate(pred_new = df.decompose_step2$value +\n",
    "        rowSums((df.decompose_step2[paste0(vars.tomean.first, '_mean')] - df.decompose_step2[vars.tomean.first])\n",
    "            *df.coef[df.decompose_step2$variable, paste0(vars.tomean.first, str.esti.suffix)])) %>%\n",
    "        select(variable, value, pred_new)\n",
    "head(df.decompose.tomean.first, 10)\n",
    "df.decompose.tomean.first %>%\n",
    "        group_by(variable) %>%\n",
    "        summarize_all(funs(mean = mean, sd = sd))"
   ]
  },
  {
   "cell_type": "markdown",
   "metadata": {},
   "source": [
    "Note the r-square from regression above matches up with the 1 - ratio below. This is the proper decomposition method that is equivalent to r2. "
   ]
  },
  {
   "cell_type": "code",
   "execution_count": 173,
   "metadata": {},
   "outputs": [
    {
     "data": {
      "text/html": [
       "<table>\n",
       "<thead><tr><th scope=col>variable</th><th scope=col>value_mean</th><th scope=col>pred_new_mean</th><th scope=col>value_var</th><th scope=col>pred_new_var</th><th scope=col>ratio</th></tr></thead>\n",
       "<tbody>\n",
       "\t<tr><td>hgt         </td><td>  73.41216  </td><td>  73.41216  </td><td>2.186374e+01</td><td>     25.3504</td><td>1.1594724   </td></tr>\n",
       "\t<tr><td>wgt         </td><td>8807.87656  </td><td>8807.87656  </td><td>2.965693e+06</td><td>2949187.6357</td><td>0.9944345   </td></tr>\n",
       "</tbody>\n",
       "</table>\n"
      ],
      "text/latex": [
       "\\begin{tabular}{r|llllll}\n",
       " variable & value\\_mean & pred\\_new\\_mean & value\\_var & pred\\_new\\_var & ratio\\\\\n",
       "\\hline\n",
       "\t hgt          &   73.41216   &   73.41216   & 2.186374e+01 &      25.3504 & 1.1594724   \\\\\n",
       "\t wgt          & 8807.87656   & 8807.87656   & 2.965693e+06 & 2949187.6357 & 0.9944345   \\\\\n",
       "\\end{tabular}\n"
      ],
      "text/markdown": [
       "\n",
       "variable | value_mean | pred_new_mean | value_var | pred_new_var | ratio | \n",
       "|---|---|\n",
       "| hgt          |   73.41216   |   73.41216   | 2.186374e+01 |      25.3504 | 1.1594724    | \n",
       "| wgt          | 8807.87656   | 8807.87656   | 2.965693e+06 | 2949187.6357 | 0.9944345    | \n",
       "\n",
       "\n"
      ],
      "text/plain": [
       "  variable value_mean pred_new_mean value_var    pred_new_var ratio    \n",
       "1 hgt        73.41216   73.41216    2.186374e+01      25.3504 1.1594724\n",
       "2 wgt      8807.87656 8807.87656    2.965693e+06 2949187.6357 0.9944345"
      ]
     },
     "metadata": {},
     "output_type": "display_data"
    }
   ],
   "source": [
    "df.decompose_step2 %>%\n",
    "    mutate(pred_new = df.decompose_step2$value +\n",
    "        rowSums((df.decompose_step2[paste0(vars.tomean.second, '_mean')] - df.decompose_step2[vars.tomean.second])\n",
    "            *df.coef[df.decompose_step2$variable, paste0(vars.tomean.second, str.esti.suffix)])) %>%\n",
    "        select(variable, value, pred_new) %>%\n",
    "        group_by(variable) %>%\n",
    "        summarize_all(funs(mean = mean, var = var)) %>%\n",
    "        mutate(ratio = (pred_new_var/value_var))"
   ]
  }
 ],
 "metadata": {
  "kernelspec": {
   "display_name": "R",
   "language": "R",
   "name": "ir"
  },
  "language_info": {
   "codemirror_mode": "r",
   "file_extension": ".r",
   "mimetype": "text/x-r-source",
   "name": "R",
   "pygments_lexer": "r",
   "version": "3.5.1"
  }
 },
 "nbformat": 4,
 "nbformat_minor": 2
}
