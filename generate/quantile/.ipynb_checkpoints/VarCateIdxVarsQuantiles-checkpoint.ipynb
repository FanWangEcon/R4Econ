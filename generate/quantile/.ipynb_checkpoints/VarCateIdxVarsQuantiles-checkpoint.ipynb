{
 "cells": [
  {
   "cell_type": "markdown",
   "metadata": {},
   "source": [
    "Back to **[Fan](https://fanwangecon.github.io/)**'s R4Econ Homepage **[Table of Content](https://fanwangecon.github.io/R4Econ/)**\n",
    "\n",
    "# Generate Joint Quantiles from Multiple Continuous Variables as a Categorical Variable with Linear Index\n",
    "\n",
    "There are multiple or a single continuous variables. Find which quantile each observation belongs to for each of the variables. Then also generate a joint/interaction variable of all combinations of quantiles from different variables.\n",
    "\n",
    "The program has these features:\n",
    "\n",
    "1. Quantiles breaks are generated based on group_by characteristics, meaning quantiles for individual level characteristics when data is panel\n",
    "2. Quantiles variables apply to full panel at within-group observation levels.\n",
    "3. Robust to non-unique breaks for quantiles (non-unique grouped together)\n",
    "4. Quantile categories have detailed labeling (specifying which non-unique groupings belong to quantile)\n",
    "\n",
    "\n",
    "When joining multiple quantile variables together:\n",
    "\n",
    "1. First check if only calculate quantiles at observations where all quantile base variables are not null\n",
    "2. Calculate Quantiles for each variable, with different quantile levels for sub-groups of variables\n",
    "3. Summary statistics by mulltiple quantile-categorical variables, summary "
   ]
  },
  {
   "cell_type": "markdown",
   "metadata": {},
   "source": [
    "## Program"
   ]
  },
  {
   "cell_type": "markdown",
   "metadata": {},
   "source": [
    "### Support Functions"
   ]
  },
  {
   "cell_type": "code",
   "execution_count": 183,
   "metadata": {},
   "outputs": [],
   "source": [
    "# Quantiles for any variable\n",
    "gen_quantiles <- function(var, df, prob=c(0.25, 0.50, 0.75)) {\n",
    "    enframe(quantile(as.numeric(df[[var]]), prob, na.rm=TRUE), 'quant.perc', var) \n",
    "}\n",
    "# Support Functions for Variable Suffix \n",
    "f_Q_suffix <- function(seq.quantiles) {\n",
    "    quantile.suffix <- paste0('Qs', min(seq.quantiles),\n",
    "                              'e', max(seq.quantiles),\n",
    "                              'n', (length(seq.quantiles)-1))\n",
    "}\n",
    "# Support Functions for Quantile Labeling\n",
    "f_Q_label <- function(arr.quantiles, \n",
    "                      arr.sort.unique.quantile,\n",
    "                      seq.quantiles) {\n",
    "    paste0('(', \n",
    "           paste0(which(arr.quantiles %in% arr.sort.unique.quantile), collapse=','), \n",
    "           ') of ', f_Q_suffix(seq.quantiles)) \n",
    "}\n",
    "# Generate New Variable Names with Quantile Suffix\n",
    "f_var_rename <- function(name, seq.quantiles) {\n",
    "    quantile.suffix <- paste0('_', f_Q_suffix(seq.quantiles))\n",
    "    return(sub('_q', quantile.suffix, name))\n",
    "}\n",
    "\n",
    "# Check Are Values within Group By Unique? If not, STOP\n",
    "f_check_distinct_ingroup <- function(df, vars.group_by, vars.values_in_group) {\n",
    "    \n",
    "    df.uniqus.in.group <- df %>% group_by(!!!syms(vars.group_by)) %>% \n",
    "            mutate(quant_vars_paste = paste(!!!(syms(vars.values_in_group)), sep='-')) %>%\n",
    "            mutate(unique_in_group = n_distinct(quant_vars_paste)) %>%\n",
    "            slice(1L) %>%\n",
    "            ungroup() %>% \n",
    "            group_by(unique_in_group) %>%\n",
    "            summarise(n=n())\n",
    "\n",
    "    if (sum(df.uniqus.in.group$unique_in_group) > 1) {\n",
    "        print(df.uniqus.in.group)\n",
    "        print(paste('vars.values_in_group', vars.values_in_group, sep=':'))\n",
    "        print(paste('vars.group_by', vars.group_by, sep=':'))\n",
    "        stop(\"The variables for which quantiles are to be taken are not identical within the group variables\")\n",
    "    }\n",
    "}"
   ]
  },
  {
   "cell_type": "markdown",
   "metadata": {},
   "source": [
    "### Data Slicing and Quantile Generation\n",
    "\n",
    "- Function 1: generate quantiles based on group-specific characteristics. the groups could be at the panel observation level as well. "
   ]
  },
  {
   "cell_type": "code",
   "execution_count": 184,
   "metadata": {},
   "outputs": [],
   "source": [
    "# First Step, given groups, generate quantiles based on group characteristics\n",
    "# vars.cts2quantile <- c('wealthIdx', 'hgt0', 'wgt0')\n",
    "# seq.quantiles <- c(0, 0.3333, 0.6666, 1.0)\n",
    "# vars.group_by <- c('indi.id')\n",
    "# vars.arrange <- c('indi.id', 'svymthRound')\n",
    "# vars.continuous <- c('wealthIdx', 'hgt0', 'wgt0')\n",
    "df_sliced_quantiles <- function(df, vars.cts2quantile, seq.quantiles, \n",
    "                                vars.group_by, vars.arrange) {\n",
    "    \n",
    "    # Slicing data\n",
    "    df.grp.L1 <- df %>% group_by(!!!syms(vars.group_by)) %>% arrange(!!!syms(vars.arrange)) %>% slice(1L) %>% ungroup()\n",
    "    \n",
    "    # Quantiles based on sliced data\n",
    "    df.sliced.quantiles <- lapply(vars.cts2quantile, gen_quantiles, df=df.grp.L1, prob=seq.quantiles) %>% reduce(full_join)\n",
    "    \n",
    "    return(list(df.sliced.quantiles=df.sliced.quantiles, \n",
    "                df.grp.L1=df.grp.L1))\n",
    "}"
   ]
  },
  {
   "cell_type": "markdown",
   "metadata": {},
   "source": [
    "## Data Cutting\n",
    "\n",
    "- Function 2: cut groups for full panel dataframe based on group-specific characteristics quantiles."
   ]
  },
  {
   "cell_type": "code",
   "execution_count": 185,
   "metadata": {},
   "outputs": [],
   "source": [
    "# Cutting Function, Cut Continuous Variables into Quantiles with labeing\n",
    "f_cut <- function(var, df.sliced.quantiles, seq.quantiles, include.lowest=TRUE, fan.labels=TRUE, print=FALSE) {\n",
    "    \n",
    "    # unparsed string variable name\n",
    "    var.str <- substitute(var)\n",
    "    \n",
    "    # Breaks\n",
    "    arr.quantiles <- df.sliced.quantiles[[var.str]]\n",
    "    arr.sort.unique.quantiles <- sort(unique(arr.quantiles))\n",
    "    if (print) {\n",
    "        print(arr.sort.unique.quantiles)\n",
    "    }\n",
    "    \n",
    "    # Regular cutting With Standard Labels\n",
    "    # TRUE, means the lowest group has closed bracket left and right \n",
    "    var.quantile <- cut(var, breaks=arr.sort.unique.quantiles, include.lowest=include.lowest)\n",
    "    \n",
    "    # Use my custom labels\n",
    "    if (fan.labels) {\n",
    "        levels.suffix <- lapply(arr.sort.unique.quantiles[1:(length(arr.sort.unique.quantiles)-1)],\n",
    "                                f_Q_label,                                \n",
    "                                arr.quantiles=arr.quantiles,\n",
    "                                seq.quantiles=seq.quantiles)\n",
    "        if (print) {\n",
    "            print(levels.suffix)\n",
    "        }\n",
    "        levels(var.quantile) <- paste0(levels(var.quantile), '; ', levels.suffix)\n",
    "    }\n",
    "    \n",
    "    # Return\n",
    "    return(var.quantile)\n",
    "}"
   ]
  },
  {
   "cell_type": "code",
   "execution_count": 186,
   "metadata": {},
   "outputs": [],
   "source": [
    "# Combo Quantile Function\n",
    "# vars.cts2quantile <- c('wealthIdx', 'hgt0', 'wgt0')\n",
    "# seq.quantiles <- c(0, 0.3333, 0.6666, 1.0)\n",
    "# vars.group_by <- c('indi.id')\n",
    "# vars.arrange <- c('indi.id', 'svymthRound')\n",
    "# vars.continuous <- c('wealthIdx', 'hgt0', 'wgt0')\n",
    "df_cut_by_sliced_quantiles <- function(df, vars.cts2quantile, seq.quantiles, \n",
    "                                       vars.group_by, vars.arrange) {\n",
    "    \n",
    "    \n",
    "    # Check Are Values within Group By Unique? If not, STOP\n",
    "    f_check_distinct_ingroup(df, vars.group_by, vars.values_in_group=vars.cts2quantile)\n",
    "                                       \n",
    "    # First Step Slicing\n",
    "    df.sliced <- df_sliced_quantiles(df, vars.cts2quantile, seq.quantiles, vars.group_by, vars.arrange)\n",
    "\n",
    "    # Second Step Generate Categorical Variables of Quantiles\n",
    "    df.with.cut.quant <- df %>% mutate_at(vars.cts2quantile,\n",
    "                               funs(q=f_cut(., df.sliced$df.sliced.quantiles,\n",
    "                                            seq.quantiles=seq.quantiles, \n",
    "                                            include.lowest=TRUE, fan.labels=TRUE)))\n",
    "    \n",
    "    if (length(vars.cts2quantile) > 1) {\n",
    "        df.with.cut.quant <- df.with.cut.quant %>% \n",
    "                              rename_at(vars(contains('_q')), \n",
    "                                        funs(f_var_rename(., seq.quantiles=seq.quantiles)))\n",
    "    } else {\n",
    "        new.var.name <- paste0(vars.cts2quantile[1], '_', f_Q_suffix(seq.quantiles))\n",
    "        df.with.cut.quant <- df.with.cut.quant %>% rename(!!new.var.name := q)\n",
    "    }\n",
    "    \n",
    "    # Newly Generated Quantile-Cut Variables\n",
    "    vars.quantile.cut <- df.with.cut.quant %>% \n",
    "                select(matches(paste0(vars.cts2quantile, collapse='|'))) %>% \n",
    "                select(matches(f_Q_suffix(seq.quantiles)))\n",
    "    \n",
    "    # Return\n",
    "    return(list(df.with.cut.quant = df.with.cut.quant, \n",
    "                df.sliced.quantiles=df.sliced$df.sliced.quantiles, \n",
    "                df.grp.L1=df.sliced$df.grp.L1,\n",
    "                vars.quantile.cut=vars.quantile.cut))\n",
    "    \n",
    "}"
   ]
  },
  {
   "cell_type": "markdown",
   "metadata": {},
   "source": [
    "## Different Vars Different Probabilities Joint Quantiles\n",
    "\n",
    "- Accomondate multiple continuousv ariables\n",
    "- Different percentiles\n",
    "- list of lists\n",
    "- generate joint categorical variables\n",
    "- keep only values that exist for all quantile base vars"
   ]
  },
  {
   "cell_type": "code",
   "execution_count": 187,
   "metadata": {},
   "outputs": [],
   "source": [
    "# Function to handle list inputs with different quantiles vars and probabilities\n",
    "df_cut_by_sliced_quantiles_grps <- function(quantile.grp.list, df, vars.group_by, vars.arrange) {\n",
    "   vars.cts2quantile <- quantile.grp.list$vars\n",
    "   seq.quantiles <- quantile.grp.list$prob\n",
    "   return(df_cut_by_sliced_quantiles(df, vars.cts2quantile, seq.quantiles, vars.group_by, vars.arrange))\n",
    "}\n",
    "# Show Results\n",
    "df_cut_by_sliced_quantiles_joint_results_grped <- function(df.with.cut.quant.all, vars.cts2quantile, vars.group_by, vars.arrange,\n",
    "                                                           vars.quantile.cut.all, var.qjnt.grp.idx) {\n",
    "    # Show ALL\n",
    "    df.group.panel.cnt.mean <- df.with.cut.quant.all %>% group_by(!!!syms(vars.quantile.cut.all), !!sym(var.qjnt.grp.idx)) %>%\n",
    "            summarise_at(vars.cts2quantile, funs(mean, n()))\n",
    "\n",
    "    # Show Based on SLicing first\n",
    "    df.group.slice1.cnt.mean <- df.with.cut.quant.all %>% group_by(!!!syms(vars.group_by)) %>% arrange(!!!syms(vars.arrange)) %>% slice(1L) %>%\n",
    "            group_by(!!!syms(vars.quantile.cut.all), !!sym(var.qjnt.grp.idx)) %>%\n",
    "            summarise_at(vars.cts2quantile, funs(mean, n()))\n",
    "    \n",
    "    return(list(df.group.panel.cnt.mean=df.group.panel.cnt.mean, \n",
    "                df.group.slice1.cnt.mean=df.group.slice1.cnt.mean))\n",
    "}"
   ]
  },
  {
   "cell_type": "code",
   "execution_count": 188,
   "metadata": {},
   "outputs": [],
   "source": [
    "# # Joint Quantile Group Name\n",
    "# var.qjnt.grp.idx <- 'group.index'\n",
    "# # Generate Categorical Variables of Quantiles\n",
    "# vars.group_by <- c('indi.id')\n",
    "# vars.arrange <- c('indi.id', 'svymthRound')\n",
    "# # Quantile Variables and Quantiles\n",
    "# vars.cts2quantile.wealth <- c('wealthIdx')\n",
    "# seq.quantiles.wealth <- c(0, .5, 1.0)\n",
    "# vars.cts2quantile.wgthgt <- c('hgt0', 'wgt0')\n",
    "# seq.quantiles.wgthgt <- c(0, .3333, 0.6666, 1.0)\n",
    "# drop.any.quantile.na <- TRUE\n",
    "# # collect to list\n",
    "# list.cts2quantile <- list(list(vars=vars.cts2quantile.wealth,\n",
    "#                                prob=seq.quantiles.wealth),\n",
    "#                           list(vars=vars.cts2quantile.wgthgt,\n",
    "#                                prob=seq.quantiles.wgthgt))\n",
    "\n",
    "df_cut_by_sliced_quantiles_joint <- function(df, var.qjnt.grp.idx, \n",
    "                                             list.cts2quantile,\n",
    "                                             vars.group_by, vars.arrange,\n",
    "                                             drop.any.quantile.na = TRUE,\n",
    "                                             toprint = TRUE) {\n",
    "\n",
    "  #  Original dimensions\n",
    "  if(toprint) {\n",
    "   print(dim(df))\n",
    "  }\n",
    "\n",
    "  # All Continuous Variables from lists\n",
    "  vars.cts2quantile <- unlist(lapply(list.cts2quantile, function(elist) elist$vars))\n",
    "  vars.cts2quantile\n",
    "\n",
    "  # Keep only if not NA for all Quantile variables\n",
    "  if (drop.any.quantile.na) {\n",
    "   df.select <- df %>% drop_na(c(vars.group_by, vars.arrange, vars.cts2quantile))\n",
    "  } else {\n",
    "   df.select <- df\n",
    "  }\n",
    "\n",
    "  if(toprint) {\n",
    "   print(dim(df.select))\n",
    "  }\n",
    "\n",
    "  # Apply qunatile function to all elements of list of list\n",
    "  df.cut.list <- lapply(list.cts2quantile, df_cut_by_sliced_quantiles_grps,\n",
    "                        df=df.select, vars.group_by=vars.group_by, vars.arrange=vars.arrange)\n",
    "\n",
    "  # Reduce Resulting Core Panel Matrix Together\n",
    "  df.with.cut.quant.all <- lapply(df.cut.list, function(elist) elist$df.with.cut.quant) %>% reduce(left_join)\n",
    "  df.sliced.quantiles.all <- lapply(df.cut.list, function(elist) elist$df.sliced.quantiles)\n",
    "\n",
    "  if(toprint) {\n",
    "    print(dim(df.with.cut.quant.all))\n",
    "  }\n",
    "\n",
    "  # Obrain Newly Created Quantile Group Variables\n",
    "  vars.quantile.cut.all <- unlist(lapply(df.cut.list, function(elist) names(elist$vars.quantile.cut)))\n",
    "  if(toprint) {\n",
    "    print(vars.quantile.cut.all)\n",
    "    print(summary(df.with.cut.quant.all %>% select(one_of(vars.quantile.cut.all))))\n",
    "  }\n",
    "\n",
    "  # Generate Joint Quantile Index Variable\n",
    "  df.with.cut.quant.all <- df.with.cut.quant.all %>% mutate(!!var.qjnt.grp.idx := group_indices(., !!!syms(vars.quantile.cut.all)))\n",
    "\n",
    "  # Quantile Groups\n",
    "  arr.group.idx <- t(sort(unique(df.with.cut.quant.all[[var.qjnt.grp.idx]])))\n",
    "\n",
    "  # Results Display\n",
    "  df.group.print <- df_cut_by_sliced_quantiles_joint_results_grped(df.with.cut.quant.all, vars.cts2quantile,\n",
    "                                                 vars.group_by, vars.arrange,\n",
    "                                                 vars.quantile.cut.all, var.qjnt.grp.idx)\n",
    "\n",
    "  # list to Return\n",
    "  # These returns are the same as returns earlier: df_cut_by_sliced_quantiles\n",
    "  # Except that they are combined together\n",
    "  return(list(df.with.cut.quant = df.with.cut.quant.all,\n",
    "              df.sliced.quantiles = df.sliced.quantiles.all,\n",
    "              df.grp.L1 = (df.cut.list[[1]])$df.grp.L1,\n",
    "              vars.quantile.cut = vars.quantile.cut.all, \n",
    "              df.group.panel.cnt.mean = df.group.print$df.group.panel.cnt.mean, \n",
    "              df.group.slice1.cnt.mean = df.group.print$df.group.slice1.cnt.mean))\n",
    "\n",
    "}"
   ]
  },
  {
   "cell_type": "markdown",
   "metadata": {},
   "source": [
    "## Use Program"
   ]
  },
  {
   "cell_type": "markdown",
   "metadata": {},
   "source": [
    "### Load Data"
   ]
  },
  {
   "cell_type": "code",
   "execution_count": 189,
   "metadata": {},
   "outputs": [
    {
     "name": "stderr",
     "output_type": "stream",
     "text": [
      "Parsed with column specification:\n",
      "cols(\n",
      "  S.country = col_character(),\n",
      "  vil.id = col_double(),\n",
      "  indi.id = col_double(),\n",
      "  sex = col_character(),\n",
      "  svymthRound = col_double(),\n",
      "  momEdu = col_double(),\n",
      "  wealthIdx = col_double(),\n",
      "  hgt = col_double(),\n",
      "  wgt = col_double(),\n",
      "  hgt0 = col_double(),\n",
      "  wgt0 = col_double(),\n",
      "  prot = col_double(),\n",
      "  cal = col_double(),\n",
      "  p.A.prot = col_double(),\n",
      "  p.A.nProt = col_double()\n",
      ")\n"
     ]
    }
   ],
   "source": [
    "# Library\n",
    "library(tidyverse)\n",
    "\n",
    "# Load Sample Data\n",
    "setwd('C:/Users/fan/R4Econ/_data/')\n",
    "df <- read_csv('height_weight.csv')"
   ]
  },
  {
   "cell_type": "markdown",
   "metadata": {},
   "source": [
    "## Use Program"
   ]
  },
  {
   "cell_type": "markdown",
   "metadata": {},
   "source": [
    "### Hgt0 3 Groups"
   ]
  },
  {
   "cell_type": "code",
   "execution_count": 190,
   "metadata": {},
   "outputs": [
    {
     "data": {
      "text/html": [
       "<table>\n",
       "<thead><tr><th scope=col>hgt0_Qs0e1n3</th><th scope=col>group.index</th><th scope=col>mean</th><th scope=col>n</th></tr></thead>\n",
       "<tbody>\n",
       "\t<tr><td>[40.6,48.5]; (1) of Qs0e1n3</td><td>1                          </td><td>47.04103                   </td><td>580                        </td></tr>\n",
       "\t<tr><td>(48.5,50.2]; (2) of Qs0e1n3</td><td>2                          </td><td>49.38948                   </td><td>561                        </td></tr>\n",
       "\t<tr><td>(50.2,58]; (3) of Qs0e1n3  </td><td>3                          </td><td>51.65563                   </td><td>568                        </td></tr>\n",
       "</tbody>\n",
       "</table>\n"
      ],
      "text/latex": [
       "\\begin{tabular}{r|llll}\n",
       " hgt0\\_Qs0e1n3 & group.index & mean & n\\\\\n",
       "\\hline\n",
       "\t {[}40.6,48.5{]}; (1) of Qs0e1n3 & 1                               & 47.04103                        & 580                            \\\\\n",
       "\t (48.5,50.2{]}; (2) of Qs0e1n3 & 2                             & 49.38948                      & 561                          \\\\\n",
       "\t (50.2,58{]}; (3) of Qs0e1n3   & 3                             & 51.65563                      & 568                          \\\\\n",
       "\\end{tabular}\n"
      ],
      "text/markdown": [
       "\n",
       "| hgt0_Qs0e1n3 | group.index | mean | n |\n",
       "|---|---|---|---|\n",
       "| [40.6,48.5]; (1) of Qs0e1n3 | 1                           | 47.04103                    | 580                         |\n",
       "| (48.5,50.2]; (2) of Qs0e1n3 | 2                           | 49.38948                    | 561                         |\n",
       "| (50.2,58]; (3) of Qs0e1n3   | 3                           | 51.65563                    | 568                         |\n",
       "\n"
      ],
      "text/plain": [
       "  hgt0_Qs0e1n3                group.index mean     n  \n",
       "1 [40.6,48.5]; (1) of Qs0e1n3 1           47.04103 580\n",
       "2 (48.5,50.2]; (2) of Qs0e1n3 2           49.38948 561\n",
       "3 (50.2,58]; (3) of Qs0e1n3   3           51.65563 568"
      ]
     },
     "metadata": {},
     "output_type": "display_data"
    }
   ],
   "source": [
    "# Joint Quantile Group Name\n",
    "var.qjnt.grp.idx <- 'group.index'\n",
    "list.cts2quantile <- list(list(vars=c('hgt0'), prob=c(0, .3333, 0.6666, 1.0)))\n",
    "results <- df_cut_by_sliced_quantiles_joint(df, var.qjnt.grp.idx, list.cts2quantile,\n",
    "                                            vars.group_by = c('indi.id'), vars.arrange = c('indi.id', 'svymthRound'),\n",
    "                                            drop.any.quantile.na = TRUE, toprint = FALSE)\n",
    "# Show Results\n",
    "results$df.group.slice1.cnt.mean"
   ]
  },
  {
   "cell_type": "markdown",
   "metadata": {},
   "source": [
    "### Wealth 5 Groups Guatemala"
   ]
  },
  {
   "cell_type": "code",
   "execution_count": 191,
   "metadata": {},
   "outputs": [
    {
     "data": {
      "text/html": [
       "<table>\n",
       "<thead><tr><th scope=col>wealthIdx_Qs0e1n5</th><th scope=col>wltQuintle.index</th><th scope=col>mean</th><th scope=col>n</th></tr></thead>\n",
       "<tbody>\n",
       "\t<tr><td>[1,1.6]; (1) of Qs0e1n5  </td><td>1                        </td><td>1.245033                 </td><td>151                      </td></tr>\n",
       "\t<tr><td>(1.6,2.1]; (2) of Qs0e1n5</td><td>2                        </td><td>1.822302                 </td><td>139                      </td></tr>\n",
       "\t<tr><td>(2.1,2.3]; (3) of Qs0e1n5</td><td>3                        </td><td>2.245324                 </td><td>139                      </td></tr>\n",
       "\t<tr><td>(2.3,2.9]; (4) of Qs0e1n5</td><td>4                        </td><td>2.697761                 </td><td>134                      </td></tr>\n",
       "\t<tr><td>(2.9,6.6]; (5) of Qs0e1n5</td><td>5                        </td><td>3.770270                 </td><td>111                      </td></tr>\n",
       "</tbody>\n",
       "</table>\n"
      ],
      "text/latex": [
       "\\begin{tabular}{r|llll}\n",
       " wealthIdx\\_Qs0e1n5 & wltQuintle.index & mean & n\\\\\n",
       "\\hline\n",
       "\t {[}1,1.6{]}; (1) of Qs0e1n5   & 1                             & 1.245033                      & 151                          \\\\\n",
       "\t (1.6,2.1{]}; (2) of Qs0e1n5 & 2                           & 1.822302                    & 139                        \\\\\n",
       "\t (2.1,2.3{]}; (3) of Qs0e1n5 & 3                           & 2.245324                    & 139                        \\\\\n",
       "\t (2.3,2.9{]}; (4) of Qs0e1n5 & 4                           & 2.697761                    & 134                        \\\\\n",
       "\t (2.9,6.6{]}; (5) of Qs0e1n5 & 5                           & 3.770270                    & 111                        \\\\\n",
       "\\end{tabular}\n"
      ],
      "text/markdown": [
       "\n",
       "| wealthIdx_Qs0e1n5 | wltQuintle.index | mean | n |\n",
       "|---|---|---|---|\n",
       "| [1,1.6]; (1) of Qs0e1n5   | 1                         | 1.245033                  | 151                       |\n",
       "| (1.6,2.1]; (2) of Qs0e1n5 | 2                         | 1.822302                  | 139                       |\n",
       "| (2.1,2.3]; (3) of Qs0e1n5 | 3                         | 2.245324                  | 139                       |\n",
       "| (2.3,2.9]; (4) of Qs0e1n5 | 4                         | 2.697761                  | 134                       |\n",
       "| (2.9,6.6]; (5) of Qs0e1n5 | 5                         | 3.770270                  | 111                       |\n",
       "\n"
      ],
      "text/plain": [
       "  wealthIdx_Qs0e1n5         wltQuintle.index mean     n  \n",
       "1 [1,1.6]; (1) of Qs0e1n5   1                1.245033 151\n",
       "2 (1.6,2.1]; (2) of Qs0e1n5 2                1.822302 139\n",
       "3 (2.1,2.3]; (3) of Qs0e1n5 3                2.245324 139\n",
       "4 (2.3,2.9]; (4) of Qs0e1n5 4                2.697761 134\n",
       "5 (2.9,6.6]; (5) of Qs0e1n5 5                3.770270 111"
      ]
     },
     "metadata": {},
     "output_type": "display_data"
    }
   ],
   "source": [
    "# Joint Quantile Group Name\n",
    "var.qjnt.grp.idx <- 'wltQuintle.index'\n",
    "list.cts2quantile <- list(list(vars=c('wealthIdx'), prob=seq(0, 1.0, 0.20)))\n",
    "results <- df_cut_by_sliced_quantiles_joint((df %>% filter(S.country == 'Guatemala')),\n",
    "                                            var.qjnt.grp.idx, list.cts2quantile,\n",
    "                                            vars.group_by = c('indi.id'), vars.arrange = c('indi.id', 'svymthRound'),\n",
    "                                            drop.any.quantile.na = TRUE, toprint = FALSE)\n",
    "# Show Results\n",
    "results$df.group.slice1.cnt.mean"
   ]
  },
  {
   "cell_type": "markdown",
   "metadata": {},
   "source": [
    "### Hgt0 2 groups, Wgt0 2 groups too"
   ]
  },
  {
   "cell_type": "code",
   "execution_count": 192,
   "metadata": {},
   "outputs": [
    {
     "name": "stderr",
     "output_type": "stream",
     "text": [
      "Joining, by = \"quant.perc\"\n"
     ]
    },
    {
     "data": {
      "text/html": [
       "<table>\n",
       "<thead><tr><th scope=col>hgt0_Qs0e1n2</th><th scope=col>wgt0_Qs0e1n2</th><th scope=col>group.index</th><th scope=col>hgt0_mean</th><th scope=col>wgt0_mean</th><th scope=col>hgt0_n</th><th scope=col>wgt0_n</th></tr></thead>\n",
       "<tbody>\n",
       "\t<tr><td>[40.6,49.4]; (1) of Qs0e1n2        </td><td>[1.4e+03,3.01e+03]; (1) of Qs0e1n2 </td><td>1                                  </td><td>47.41534                           </td><td>2650.312                           </td><td>652                                </td><td>652                                </td></tr>\n",
       "\t<tr><td>[40.6,49.4]; (1) of Qs0e1n2        </td><td>(3.01e+03,5.49e+03]; (2) of Qs0e1n2</td><td>2                                  </td><td>48.53904                           </td><td>3244.168                           </td><td>228                                </td><td>228                                </td></tr>\n",
       "\t<tr><td>(49.4,58]; (2) of Qs0e1n2          </td><td>[1.4e+03,3.01e+03]; (1) of Qs0e1n2 </td><td>3                                  </td><td>50.42376                           </td><td>2828.974                           </td><td>202                                </td><td>202                                </td></tr>\n",
       "\t<tr><td>(49.4,58]; (2) of Qs0e1n2          </td><td>(3.01e+03,5.49e+03]; (2) of Qs0e1n2</td><td>4                                  </td><td>51.30479                           </td><td>3483.461                           </td><td>626                                </td><td>626                                </td></tr>\n",
       "</tbody>\n",
       "</table>\n"
      ],
      "text/latex": [
       "\\begin{tabular}{r|lllllll}\n",
       " hgt0\\_Qs0e1n2 & wgt0\\_Qs0e1n2 & group.index & hgt0\\_mean & wgt0\\_mean & hgt0\\_n & wgt0\\_n\\\\\n",
       "\\hline\n",
       "\t {[}40.6,49.4{]}; (1) of Qs0e1n2         & {[}1.4e+03,3.01e+03{]}; (1) of Qs0e1n2  & 1                                       & 47.41534                                & 2650.312                                & 652                                     & 652                                    \\\\\n",
       "\t {[}40.6,49.4{]}; (1) of Qs0e1n2       & (3.01e+03,5.49e+03{]}; (2) of Qs0e1n2 & 2                                     & 48.53904                              & 3244.168                              & 228                                   & 228                                  \\\\\n",
       "\t (49.4,58{]}; (2) of Qs0e1n2             & {[}1.4e+03,3.01e+03{]}; (1) of Qs0e1n2  & 3                                       & 50.42376                                & 2828.974                                & 202                                     & 202                                    \\\\\n",
       "\t (49.4,58{]}; (2) of Qs0e1n2           & (3.01e+03,5.49e+03{]}; (2) of Qs0e1n2 & 4                                     & 51.30479                              & 3483.461                              & 626                                   & 626                                  \\\\\n",
       "\\end{tabular}\n"
      ],
      "text/markdown": [
       "\n",
       "| hgt0_Qs0e1n2 | wgt0_Qs0e1n2 | group.index | hgt0_mean | wgt0_mean | hgt0_n | wgt0_n |\n",
       "|---|---|---|---|---|---|---|\n",
       "| [40.6,49.4]; (1) of Qs0e1n2         | [1.4e+03,3.01e+03]; (1) of Qs0e1n2  | 1                                   | 47.41534                            | 2650.312                            | 652                                 | 652                                 |\n",
       "| [40.6,49.4]; (1) of Qs0e1n2         | (3.01e+03,5.49e+03]; (2) of Qs0e1n2 | 2                                   | 48.53904                            | 3244.168                            | 228                                 | 228                                 |\n",
       "| (49.4,58]; (2) of Qs0e1n2           | [1.4e+03,3.01e+03]; (1) of Qs0e1n2  | 3                                   | 50.42376                            | 2828.974                            | 202                                 | 202                                 |\n",
       "| (49.4,58]; (2) of Qs0e1n2           | (3.01e+03,5.49e+03]; (2) of Qs0e1n2 | 4                                   | 51.30479                            | 3483.461                            | 626                                 | 626                                 |\n",
       "\n"
      ],
      "text/plain": [
       "  hgt0_Qs0e1n2                wgt0_Qs0e1n2                        group.index\n",
       "1 [40.6,49.4]; (1) of Qs0e1n2 [1.4e+03,3.01e+03]; (1) of Qs0e1n2  1          \n",
       "2 [40.6,49.4]; (1) of Qs0e1n2 (3.01e+03,5.49e+03]; (2) of Qs0e1n2 2          \n",
       "3 (49.4,58]; (2) of Qs0e1n2   [1.4e+03,3.01e+03]; (1) of Qs0e1n2  3          \n",
       "4 (49.4,58]; (2) of Qs0e1n2   (3.01e+03,5.49e+03]; (2) of Qs0e1n2 4          \n",
       "  hgt0_mean wgt0_mean hgt0_n wgt0_n\n",
       "1 47.41534  2650.312  652    652   \n",
       "2 48.53904  3244.168  228    228   \n",
       "3 50.42376  2828.974  202    202   \n",
       "4 51.30479  3483.461  626    626   "
      ]
     },
     "metadata": {},
     "output_type": "display_data"
    }
   ],
   "source": [
    "# Joint Quantile Group Name\n",
    "var.qjnt.grp.idx <- 'group.index'\n",
    "list.cts2quantile <- list(list(vars=c('hgt0', 'wgt0'), prob=c(0, .5, 1.0)))\n",
    "results <- df_cut_by_sliced_quantiles_joint(df, var.qjnt.grp.idx, list.cts2quantile,\n",
    "                                            vars.group_by = c('indi.id'), vars.arrange = c('indi.id', 'svymthRound'),\n",
    "                                            drop.any.quantile.na = TRUE, toprint = FALSE)\n",
    "# Show Results\n",
    "results$df.group.slice1.cnt.mean"
   ]
  },
  {
   "cell_type": "markdown",
   "metadata": {},
   "source": [
    "## Hgt0 2 groups, Wealth 2 groups, Cebu Only"
   ]
  },
  {
   "cell_type": "code",
   "execution_count": 193,
   "metadata": {},
   "outputs": [
    {
     "name": "stderr",
     "output_type": "stream",
     "text": [
      "Joining, by = c(\"S.country\", \"vil.id\", \"indi.id\", \"sex\", \"svymthRound\", \"momEdu\", \"wealthIdx\", \"hgt\", \"wgt\", \"hgt0\", \"wgt0\", \"prot\", \"cal\", \"p.A.prot\", \"p.A.nProt\")\n"
     ]
    },
    {
     "data": {
      "text/html": [
       "<table>\n",
       "<thead><tr><th scope=col>wealthIdx_Qs0e1n2</th><th scope=col>hgt0_Qs0e1n3</th><th scope=col>group.index</th><th scope=col>wealthIdx_mean</th><th scope=col>hgt0_mean</th><th scope=col>wealthIdx_n</th><th scope=col>hgt0_n</th></tr></thead>\n",
       "<tbody>\n",
       "\t<tr><td>[5.2,8.3]; (1) of Qs0e1n2  </td><td>[41.1,48.4]; (1) of Qs0e1n3</td><td>1                          </td><td> 7.154074                  </td><td>46.88741                   </td><td>270                        </td><td>270                        </td></tr>\n",
       "\t<tr><td>[5.2,8.3]; (1) of Qs0e1n2  </td><td>(48.4,50.1]; (2) of Qs0e1n3</td><td>2                          </td><td> 7.177323                  </td><td>49.23197                   </td><td>269                        </td><td>269                        </td></tr>\n",
       "\t<tr><td>[5.2,8.3]; (1) of Qs0e1n2  </td><td>(50.1,58]; (3) of Qs0e1n3  </td><td>3                          </td><td> 7.131780                  </td><td>51.33814                   </td><td>236                        </td><td>236                        </td></tr>\n",
       "\t<tr><td>(8.3,19.3]; (2) of Qs0e1n2 </td><td>[41.1,48.4]; (1) of Qs0e1n3</td><td>4                          </td><td>11.075978                  </td><td>47.16927                   </td><td>179                        </td><td>179                        </td></tr>\n",
       "\t<tr><td>(8.3,19.3]; (2) of Qs0e1n2 </td><td>(48.4,50.1]; (2) of Qs0e1n3</td><td>5                          </td><td>11.237297                  </td><td>49.30973                   </td><td>185                        </td><td>185                        </td></tr>\n",
       "\t<tr><td>(8.3,19.3]; (2) of Qs0e1n2 </td><td>(50.1,58]; (3) of Qs0e1n3  </td><td>6                          </td><td>11.644928                  </td><td>51.69758                   </td><td>207                        </td><td>207                        </td></tr>\n",
       "</tbody>\n",
       "</table>\n"
      ],
      "text/latex": [
       "\\begin{tabular}{r|lllllll}\n",
       " wealthIdx\\_Qs0e1n2 & hgt0\\_Qs0e1n3 & group.index & wealthIdx\\_mean & hgt0\\_mean & wealthIdx\\_n & hgt0\\_n\\\\\n",
       "\\hline\n",
       "\t {[}5.2,8.3{]}; (1) of Qs0e1n2   & {[}41.1,48.4{]}; (1) of Qs0e1n3 & 1                               &  7.154074                       & 46.88741                        & 270                             & 270                            \\\\\n",
       "\t {[}5.2,8.3{]}; (1) of Qs0e1n2  & (48.4,50.1{]}; (2) of Qs0e1n3  & 2                              &  7.177323                      & 49.23197                       & 269                            & 269                           \\\\\n",
       "\t {[}5.2,8.3{]}; (1) of Qs0e1n2  & (50.1,58{]}; (3) of Qs0e1n3    & 3                              &  7.131780                      & 51.33814                       & 236                            & 236                           \\\\\n",
       "\t (8.3,19.3{]}; (2) of Qs0e1n2    & {[}41.1,48.4{]}; (1) of Qs0e1n3 & 4                               & 11.075978                       & 47.16927                        & 179                             & 179                            \\\\\n",
       "\t (8.3,19.3{]}; (2) of Qs0e1n2  & (48.4,50.1{]}; (2) of Qs0e1n3 & 5                             & 11.237297                     & 49.30973                      & 185                           & 185                          \\\\\n",
       "\t (8.3,19.3{]}; (2) of Qs0e1n2  & (50.1,58{]}; (3) of Qs0e1n3   & 6                             & 11.644928                     & 51.69758                      & 207                           & 207                          \\\\\n",
       "\\end{tabular}\n"
      ],
      "text/markdown": [
       "\n",
       "| wealthIdx_Qs0e1n2 | hgt0_Qs0e1n3 | group.index | wealthIdx_mean | hgt0_mean | wealthIdx_n | hgt0_n |\n",
       "|---|---|---|---|---|---|---|\n",
       "| [5.2,8.3]; (1) of Qs0e1n2   | [41.1,48.4]; (1) of Qs0e1n3 | 1                           |  7.154074                   | 46.88741                    | 270                         | 270                         |\n",
       "| [5.2,8.3]; (1) of Qs0e1n2   | (48.4,50.1]; (2) of Qs0e1n3 | 2                           |  7.177323                   | 49.23197                    | 269                         | 269                         |\n",
       "| [5.2,8.3]; (1) of Qs0e1n2   | (50.1,58]; (3) of Qs0e1n3   | 3                           |  7.131780                   | 51.33814                    | 236                         | 236                         |\n",
       "| (8.3,19.3]; (2) of Qs0e1n2  | [41.1,48.4]; (1) of Qs0e1n3 | 4                           | 11.075978                   | 47.16927                    | 179                         | 179                         |\n",
       "| (8.3,19.3]; (2) of Qs0e1n2  | (48.4,50.1]; (2) of Qs0e1n3 | 5                           | 11.237297                   | 49.30973                    | 185                         | 185                         |\n",
       "| (8.3,19.3]; (2) of Qs0e1n2  | (50.1,58]; (3) of Qs0e1n3   | 6                           | 11.644928                   | 51.69758                    | 207                         | 207                         |\n",
       "\n"
      ],
      "text/plain": [
       "  wealthIdx_Qs0e1n2          hgt0_Qs0e1n3                group.index\n",
       "1 [5.2,8.3]; (1) of Qs0e1n2  [41.1,48.4]; (1) of Qs0e1n3 1          \n",
       "2 [5.2,8.3]; (1) of Qs0e1n2  (48.4,50.1]; (2) of Qs0e1n3 2          \n",
       "3 [5.2,8.3]; (1) of Qs0e1n2  (50.1,58]; (3) of Qs0e1n3   3          \n",
       "4 (8.3,19.3]; (2) of Qs0e1n2 [41.1,48.4]; (1) of Qs0e1n3 4          \n",
       "5 (8.3,19.3]; (2) of Qs0e1n2 (48.4,50.1]; (2) of Qs0e1n3 5          \n",
       "6 (8.3,19.3]; (2) of Qs0e1n2 (50.1,58]; (3) of Qs0e1n3   6          \n",
       "  wealthIdx_mean hgt0_mean wealthIdx_n hgt0_n\n",
       "1  7.154074      46.88741  270         270   \n",
       "2  7.177323      49.23197  269         269   \n",
       "3  7.131780      51.33814  236         236   \n",
       "4 11.075978      47.16927  179         179   \n",
       "5 11.237297      49.30973  185         185   \n",
       "6 11.644928      51.69758  207         207   "
      ]
     },
     "metadata": {},
     "output_type": "display_data"
    }
   ],
   "source": [
    "# Joint Quantile Group Name\n",
    "var.qjnt.grp.idx <- 'group.index'\n",
    "list.cts2quantile <- list(list(vars=c('wealthIdx'), prob=c(0, .5, 1.0)), list(vars=c('hgt0'), prob=c(0, .333, 0.666, 1.0)))\n",
    "results <- df_cut_by_sliced_quantiles_joint((df %>% filter(S.country == 'Cebu')),\n",
    "                                             var.qjnt.grp.idx, list.cts2quantile,\n",
    "                                             vars.group_by = c('indi.id'), vars.arrange = c('indi.id', 'svymthRound'),\n",
    "                                             drop.any.quantile.na = TRUE, toprint = FALSE)\n",
    "# Show Results\n",
    "results$df.group.slice1.cnt.mean"
   ]
  },
  {
   "cell_type": "markdown",
   "metadata": {},
   "source": [
    "### Results of income + Wgt0 + Hgt0 joint Gruops in Cebu\n",
    "\n",
    "Weight at month 0 below and above median, height at month zero into three terciles. "
   ]
  },
  {
   "cell_type": "code",
   "execution_count": 194,
   "metadata": {},
   "outputs": [
    {
     "name": "stderr",
     "output_type": "stream",
     "text": [
      "Joining, by = \"quant.perc\"\n",
      "Joining, by = c(\"S.country\", \"vil.id\", \"indi.id\", \"sex\", \"svymthRound\", \"momEdu\", \"wealthIdx\", \"hgt\", \"wgt\", \"hgt0\", \"wgt0\", \"prot\", \"cal\", \"p.A.prot\", \"p.A.nProt\")\n"
     ]
    },
    {
     "data": {
      "text/html": [
       "<table>\n",
       "<thead><tr><th scope=col>wealthIdx_Qs0e1n2</th><th scope=col>hgt0_Qs0e1n2</th><th scope=col>wgt0_Qs0e1n2</th><th scope=col>wltHgt0Wgt0.index</th><th scope=col>wealthIdx_mean</th><th scope=col>hgt0_mean</th><th scope=col>wgt0_mean</th><th scope=col>wealthIdx_n</th><th scope=col>hgt0_n</th><th scope=col>wgt0_n</th></tr></thead>\n",
       "<tbody>\n",
       "\t<tr><td>[5.2,8.3]; (1) of Qs0e1n2          </td><td>[41.1,49.2]; (1) of Qs0e1n2        </td><td>[1.4e+03,2.98e+03]; (1) of Qs0e1n2 </td><td>1                                  </td><td> 7.161039                          </td><td>47.27338                           </td><td>2606.668                           </td><td>308                                </td><td>308                                </td><td>308                                </td></tr>\n",
       "\t<tr><td>[5.2,8.3]; (1) of Qs0e1n2          </td><td>[41.1,49.2]; (1) of Qs0e1n2        </td><td>(2.98e+03,5.49e+03]; (2) of Qs0e1n2</td><td>2                                  </td><td> 7.270588                          </td><td>48.37745                           </td><td>3155.769                           </td><td>102                                </td><td>102                                </td><td>102                                </td></tr>\n",
       "\t<tr><td>[5.2,8.3]; (1) of Qs0e1n2          </td><td>(49.2,58]; (2) of Qs0e1n2          </td><td>[1.4e+03,2.98e+03]; (1) of Qs0e1n2 </td><td>3                                  </td><td> 7.003093                          </td><td>50.15155                           </td><td>2781.425                           </td><td> 97                                </td><td> 97                                </td><td> 97                                </td></tr>\n",
       "\t<tr><td>[5.2,8.3]; (1) of Qs0e1n2          </td><td>(49.2,58]; (2) of Qs0e1n2          </td><td>(2.98e+03,5.49e+03]; (2) of Qs0e1n2</td><td>4                                  </td><td> 7.160075                          </td><td>50.96791                           </td><td>3327.950                           </td><td>268                                </td><td>268                                </td><td>268                                </td></tr>\n",
       "\t<tr><td>(8.3,19.3]; (2) of Qs0e1n2         </td><td>[41.1,49.2]; (1) of Qs0e1n2        </td><td>[1.4e+03,2.98e+03]; (1) of Qs0e1n2 </td><td>5                                  </td><td>10.925806                          </td><td>47.40430                           </td><td>2631.880                           </td><td>186                                </td><td>186                                </td><td>186                                </td></tr>\n",
       "\t<tr><td>(8.3,19.3]; (2) of Qs0e1n2         </td><td>[41.1,49.2]; (1) of Qs0e1n2        </td><td>(2.98e+03,5.49e+03]; (2) of Qs0e1n2</td><td>6                                  </td><td>11.302469                          </td><td>48.46667                           </td><td>3196.432                           </td><td> 81                                </td><td> 81                                </td><td> 81                                </td></tr>\n",
       "\t<tr><td>(8.3,19.3]; (2) of Qs0e1n2         </td><td>(49.2,58]; (2) of Qs0e1n2          </td><td>[1.4e+03,2.98e+03]; (1) of Qs0e1n2 </td><td>7                                  </td><td>11.253659                          </td><td>50.16220                           </td><td>2778.694                           </td><td> 82                                </td><td> 82                                </td><td> 82                                </td></tr>\n",
       "\t<tr><td>(8.3,19.3]; (2) of Qs0e1n2         </td><td>(49.2,58]; (2) of Qs0e1n2          </td><td>(2.98e+03,5.49e+03]; (2) of Qs0e1n2</td><td>8                                  </td><td>11.718468                          </td><td>51.39955                           </td><td>3430.700                           </td><td>222                                </td><td>222                                </td><td>222                                </td></tr>\n",
       "</tbody>\n",
       "</table>\n"
      ],
      "text/latex": [
       "\\begin{tabular}{r|llllllllll}\n",
       " wealthIdx\\_Qs0e1n2 & hgt0\\_Qs0e1n2 & wgt0\\_Qs0e1n2 & wltHgt0Wgt0.index & wealthIdx\\_mean & hgt0\\_mean & wgt0\\_mean & wealthIdx\\_n & hgt0\\_n & wgt0\\_n\\\\\n",
       "\\hline\n",
       "\t {[}5.2,8.3{]}; (1) of Qs0e1n2           & {[}41.1,49.2{]}; (1) of Qs0e1n2         & {[}1.4e+03,2.98e+03{]}; (1) of Qs0e1n2  & 1                                       &  7.161039                               & 47.27338                                & 2606.668                                & 308                                     & 308                                     & 308                                    \\\\\n",
       "\t {[}5.2,8.3{]}; (1) of Qs0e1n2         & {[}41.1,49.2{]}; (1) of Qs0e1n2       & (2.98e+03,5.49e+03{]}; (2) of Qs0e1n2 & 2                                     &  7.270588                             & 48.37745                              & 3155.769                              & 102                                   & 102                                   & 102                                  \\\\\n",
       "\t {[}5.2,8.3{]}; (1) of Qs0e1n2           & (49.2,58{]}; (2) of Qs0e1n2             & {[}1.4e+03,2.98e+03{]}; (1) of Qs0e1n2  & 3                                       &  7.003093                               & 50.15155                                & 2781.425                                &  97                                     &  97                                     &  97                                    \\\\\n",
       "\t {[}5.2,8.3{]}; (1) of Qs0e1n2         & (49.2,58{]}; (2) of Qs0e1n2           & (2.98e+03,5.49e+03{]}; (2) of Qs0e1n2 & 4                                     &  7.160075                             & 50.96791                              & 3327.950                              & 268                                   & 268                                   & 268                                  \\\\\n",
       "\t (8.3,19.3{]}; (2) of Qs0e1n2            & {[}41.1,49.2{]}; (1) of Qs0e1n2         & {[}1.4e+03,2.98e+03{]}; (1) of Qs0e1n2  & 5                                       & 10.925806                               & 47.40430                                & 2631.880                                & 186                                     & 186                                     & 186                                    \\\\\n",
       "\t (8.3,19.3{]}; (2) of Qs0e1n2          & {[}41.1,49.2{]}; (1) of Qs0e1n2       & (2.98e+03,5.49e+03{]}; (2) of Qs0e1n2 & 6                                     & 11.302469                             & 48.46667                              & 3196.432                              &  81                                   &  81                                   &  81                                  \\\\\n",
       "\t (8.3,19.3{]}; (2) of Qs0e1n2            & (49.2,58{]}; (2) of Qs0e1n2             & {[}1.4e+03,2.98e+03{]}; (1) of Qs0e1n2  & 7                                       & 11.253659                               & 50.16220                                & 2778.694                                &  82                                     &  82                                     &  82                                    \\\\\n",
       "\t (8.3,19.3{]}; (2) of Qs0e1n2          & (49.2,58{]}; (2) of Qs0e1n2           & (2.98e+03,5.49e+03{]}; (2) of Qs0e1n2 & 8                                     & 11.718468                             & 51.39955                              & 3430.700                              & 222                                   & 222                                   & 222                                  \\\\\n",
       "\\end{tabular}\n"
      ],
      "text/markdown": [
       "\n",
       "| wealthIdx_Qs0e1n2 | hgt0_Qs0e1n2 | wgt0_Qs0e1n2 | wltHgt0Wgt0.index | wealthIdx_mean | hgt0_mean | wgt0_mean | wealthIdx_n | hgt0_n | wgt0_n |\n",
       "|---|---|---|---|---|---|---|---|---|---|\n",
       "| [5.2,8.3]; (1) of Qs0e1n2           | [41.1,49.2]; (1) of Qs0e1n2         | [1.4e+03,2.98e+03]; (1) of Qs0e1n2  | 1                                   |  7.161039                           | 47.27338                            | 2606.668                            | 308                                 | 308                                 | 308                                 |\n",
       "| [5.2,8.3]; (1) of Qs0e1n2           | [41.1,49.2]; (1) of Qs0e1n2         | (2.98e+03,5.49e+03]; (2) of Qs0e1n2 | 2                                   |  7.270588                           | 48.37745                            | 3155.769                            | 102                                 | 102                                 | 102                                 |\n",
       "| [5.2,8.3]; (1) of Qs0e1n2           | (49.2,58]; (2) of Qs0e1n2           | [1.4e+03,2.98e+03]; (1) of Qs0e1n2  | 3                                   |  7.003093                           | 50.15155                            | 2781.425                            |  97                                 |  97                                 |  97                                 |\n",
       "| [5.2,8.3]; (1) of Qs0e1n2           | (49.2,58]; (2) of Qs0e1n2           | (2.98e+03,5.49e+03]; (2) of Qs0e1n2 | 4                                   |  7.160075                           | 50.96791                            | 3327.950                            | 268                                 | 268                                 | 268                                 |\n",
       "| (8.3,19.3]; (2) of Qs0e1n2          | [41.1,49.2]; (1) of Qs0e1n2         | [1.4e+03,2.98e+03]; (1) of Qs0e1n2  | 5                                   | 10.925806                           | 47.40430                            | 2631.880                            | 186                                 | 186                                 | 186                                 |\n",
       "| (8.3,19.3]; (2) of Qs0e1n2          | [41.1,49.2]; (1) of Qs0e1n2         | (2.98e+03,5.49e+03]; (2) of Qs0e1n2 | 6                                   | 11.302469                           | 48.46667                            | 3196.432                            |  81                                 |  81                                 |  81                                 |\n",
       "| (8.3,19.3]; (2) of Qs0e1n2          | (49.2,58]; (2) of Qs0e1n2           | [1.4e+03,2.98e+03]; (1) of Qs0e1n2  | 7                                   | 11.253659                           | 50.16220                            | 2778.694                            |  82                                 |  82                                 |  82                                 |\n",
       "| (8.3,19.3]; (2) of Qs0e1n2          | (49.2,58]; (2) of Qs0e1n2           | (2.98e+03,5.49e+03]; (2) of Qs0e1n2 | 8                                   | 11.718468                           | 51.39955                            | 3430.700                            | 222                                 | 222                                 | 222                                 |\n",
       "\n"
      ],
      "text/plain": [
       "  wealthIdx_Qs0e1n2          hgt0_Qs0e1n2               \n",
       "1 [5.2,8.3]; (1) of Qs0e1n2  [41.1,49.2]; (1) of Qs0e1n2\n",
       "2 [5.2,8.3]; (1) of Qs0e1n2  [41.1,49.2]; (1) of Qs0e1n2\n",
       "3 [5.2,8.3]; (1) of Qs0e1n2  (49.2,58]; (2) of Qs0e1n2  \n",
       "4 [5.2,8.3]; (1) of Qs0e1n2  (49.2,58]; (2) of Qs0e1n2  \n",
       "5 (8.3,19.3]; (2) of Qs0e1n2 [41.1,49.2]; (1) of Qs0e1n2\n",
       "6 (8.3,19.3]; (2) of Qs0e1n2 [41.1,49.2]; (1) of Qs0e1n2\n",
       "7 (8.3,19.3]; (2) of Qs0e1n2 (49.2,58]; (2) of Qs0e1n2  \n",
       "8 (8.3,19.3]; (2) of Qs0e1n2 (49.2,58]; (2) of Qs0e1n2  \n",
       "  wgt0_Qs0e1n2                        wltHgt0Wgt0.index wealthIdx_mean\n",
       "1 [1.4e+03,2.98e+03]; (1) of Qs0e1n2  1                  7.161039     \n",
       "2 (2.98e+03,5.49e+03]; (2) of Qs0e1n2 2                  7.270588     \n",
       "3 [1.4e+03,2.98e+03]; (1) of Qs0e1n2  3                  7.003093     \n",
       "4 (2.98e+03,5.49e+03]; (2) of Qs0e1n2 4                  7.160075     \n",
       "5 [1.4e+03,2.98e+03]; (1) of Qs0e1n2  5                 10.925806     \n",
       "6 (2.98e+03,5.49e+03]; (2) of Qs0e1n2 6                 11.302469     \n",
       "7 [1.4e+03,2.98e+03]; (1) of Qs0e1n2  7                 11.253659     \n",
       "8 (2.98e+03,5.49e+03]; (2) of Qs0e1n2 8                 11.718468     \n",
       "  hgt0_mean wgt0_mean wealthIdx_n hgt0_n wgt0_n\n",
       "1 47.27338  2606.668  308         308    308   \n",
       "2 48.37745  3155.769  102         102    102   \n",
       "3 50.15155  2781.425   97          97     97   \n",
       "4 50.96791  3327.950  268         268    268   \n",
       "5 47.40430  2631.880  186         186    186   \n",
       "6 48.46667  3196.432   81          81     81   \n",
       "7 50.16220  2778.694   82          82     82   \n",
       "8 51.39955  3430.700  222         222    222   "
      ]
     },
     "metadata": {},
     "output_type": "display_data"
    }
   ],
   "source": [
    "# Joint Quantile Group Name\n",
    "var.qjnt.grp.idx <- 'wltHgt0Wgt0.index'\n",
    "list.cts2quantile <- list(list(vars=c('wealthIdx'), prob=c(0, .5, 1.0)), list(vars=c('hgt0', 'wgt0'), prob=c(0, .5, 1.0)))\n",
    "results <- df_cut_by_sliced_quantiles_joint((df %>% filter(S.country == 'Cebu')),\n",
    "                                            var.qjnt.grp.idx, list.cts2quantile,\n",
    "                                            vars.group_by = c('indi.id'), vars.arrange = c('indi.id', 'svymthRound'),\n",
    "                                            drop.any.quantile.na = TRUE, toprint = FALSE)\n",
    "# Show Results\n",
    "results$df.group.slice1.cnt.mean"
   ]
  },
  {
   "cell_type": "markdown",
   "metadata": {},
   "source": [
    "## Line by Line--Quantiles Var by Var\n",
    "\n",
    "The idea of the function is to generate quantiles levels first, and then use those to generate the categories based on quantiles. Rather than doing this in one step. These are done in two steps, to increase clarity in the quantiles used for quantile category generation. And a dataframe with these quantiles are saved as a separate output of the function."
   ]
  },
  {
   "cell_type": "markdown",
   "metadata": {},
   "source": [
    "### Dataframe of Variables' Group-by Level Quantiles\n",
    "\n",
    "Quantiles from Different Variables. Note that these variables are specific to the individual, not individual/month. So we need to first slick the data, so that we only get the first rows. \n",
    "\n",
    "Do this in several steps to clarify group_by level. No speed loss. "
   ]
  },
  {
   "cell_type": "code",
   "execution_count": 195,
   "metadata": {},
   "outputs": [
    {
     "name": "stderr",
     "output_type": "stream",
     "text": [
      "Joining, by = \"quant.perc\"\n",
      "Joining, by = \"quant.perc\"\n"
     ]
    }
   ],
   "source": [
    "# Selected Variables, many Percentiles\n",
    "vars.group_by <- c('indi.id')\n",
    "vars.arrange <- c('indi.id', 'svymthRound')\n",
    "vars.cts2quantile <- c('wealthIdx', 'hgt0', 'wgt0')\n",
    "seq.quantiles <- c(0, 0.3333, 0.6666, 1.0)\n",
    "df.sliced <- df_sliced_quantiles(df, vars.cts2quantile, seq.quantiles, vars.group_by, vars.arrange)\n",
    "df.sliced.quantiles <- df.sliced$df.sliced.quantiles\n",
    "df.grp.L1 <- df.sliced$df.grp.L1"
   ]
  },
  {
   "cell_type": "code",
   "execution_count": 196,
   "metadata": {},
   "outputs": [
    {
     "data": {
      "text/html": [
       "<table>\n",
       "<thead><tr><th scope=col>quant.perc</th><th scope=col>wealthIdx</th><th scope=col>hgt0</th><th scope=col>wgt0</th></tr></thead>\n",
       "<tbody>\n",
       "\t<tr><td>0%      </td><td> 1.0    </td><td>40.6    </td><td>1402.500</td></tr>\n",
       "\t<tr><td>33.33%  </td><td> 5.2    </td><td>48.5    </td><td>2843.472</td></tr>\n",
       "\t<tr><td>66.66%  </td><td> 8.3    </td><td>50.2    </td><td>3208.689</td></tr>\n",
       "\t<tr><td>100%    </td><td>19.3    </td><td>58.0    </td><td>5493.800</td></tr>\n",
       "</tbody>\n",
       "</table>\n"
      ],
      "text/latex": [
       "\\begin{tabular}{r|llll}\n",
       " quant.perc & wealthIdx & hgt0 & wgt0\\\\\n",
       "\\hline\n",
       "\t 0\\%     &  1.0     & 40.6     & 1402.500\\\\\n",
       "\t 33.33\\% &  5.2     & 48.5     & 2843.472\\\\\n",
       "\t 66.66\\% &  8.3     & 50.2     & 3208.689\\\\\n",
       "\t 100\\%   & 19.3     & 58.0     & 5493.800\\\\\n",
       "\\end{tabular}\n"
      ],
      "text/markdown": [
       "\n",
       "| quant.perc | wealthIdx | hgt0 | wgt0 |\n",
       "|---|---|---|---|\n",
       "| 0%       |  1.0     | 40.6     | 1402.500 |\n",
       "| 33.33%   |  5.2     | 48.5     | 2843.472 |\n",
       "| 66.66%   |  8.3     | 50.2     | 3208.689 |\n",
       "| 100%     | 19.3     | 58.0     | 5493.800 |\n",
       "\n"
      ],
      "text/plain": [
       "  quant.perc wealthIdx hgt0 wgt0    \n",
       "1 0%          1.0      40.6 1402.500\n",
       "2 33.33%      5.2      48.5 2843.472\n",
       "3 66.66%      8.3      50.2 3208.689\n",
       "4 100%       19.3      58.0 5493.800"
      ]
     },
     "metadata": {},
     "output_type": "display_data"
    }
   ],
   "source": [
    "df.sliced.quantiles"
   ]
  },
  {
   "cell_type": "code",
   "execution_count": 197,
   "metadata": {},
   "outputs": [
    {
     "name": "stderr",
     "output_type": "stream",
     "text": [
      "Warning message in quantile(as.numeric(df[[var]]), prob, na.rm = TRUE):\n",
      "\"NAs introduced by coercion\"Warning message in quantile(as.numeric(df[[var]]), prob, na.rm = TRUE):\n",
      "\"NAs introduced by coercion\""
     ]
    },
    {
     "data": {
      "text/html": [
       "<table>\n",
       "<thead><tr><th scope=col>quant.perc</th><th scope=col>S.country</th><th scope=col>vil.id</th><th scope=col>indi.id</th><th scope=col>sex</th><th scope=col>svymthRound</th><th scope=col>momEdu</th><th scope=col>wealthIdx</th><th scope=col>hgt</th><th scope=col>wgt</th><th scope=col>hgt0</th><th scope=col>wgt0</th><th scope=col>prot</th><th scope=col>cal</th><th scope=col>p.A.prot</th><th scope=col>p.A.nProt</th></tr></thead>\n",
       "<tbody>\n",
       "\t<tr><td>10%     </td><td>NA      </td><td> 3      </td><td> 203.2  </td><td>NA      </td><td>0       </td><td> 5.70   </td><td> 1.7    </td><td>46.3    </td><td>1396.94 </td><td>46.60   </td><td>2500.28 </td><td>0.5     </td><td> 0.50   </td><td>   24.28</td><td>  0.50  </td></tr>\n",
       "\t<tr><td>20%     </td><td>NA      </td><td> 4      </td><td> 405.4  </td><td>NA      </td><td>0       </td><td> 6.90   </td><td> 2.3    </td><td>47.3    </td><td>1839.64 </td><td>47.70   </td><td>2686.28 </td><td>0.5     </td><td> 0.50   </td><td>  172.30</td><td>  0.50  </td></tr>\n",
       "\t<tr><td>30%     </td><td>NA      </td><td> 6      </td><td> 607.6  </td><td>NA      </td><td>0       </td><td> 7.70   </td><td> 3.3    </td><td>48.0    </td><td>2271.69 </td><td>48.30   </td><td>2803.89 </td><td>0.5     </td><td> 0.50   </td><td>  721.08</td><td>  1.06  </td></tr>\n",
       "\t<tr><td>40%     </td><td>NA      </td><td> 8      </td><td> 809.8  </td><td>NA      </td><td>0       </td><td> 8.60   </td><td> 6.3    </td><td>48.7    </td><td>2669.16 </td><td>48.80   </td><td>2909.68 </td><td>0.5     </td><td> 0.50   </td><td> 1009.88</td><td> 19.00  </td></tr>\n",
       "\t<tr><td>50%     </td><td>NA      </td><td> 9      </td><td>1012.0  </td><td>NA      </td><td>0       </td><td> 9.30   </td><td> 7.3    </td><td>49.4    </td><td>3050.10 </td><td>49.40   </td><td>3013.00 </td><td>0.5     </td><td> 0.50   </td><td> 1273.30</td><td>110.95  </td></tr>\n",
       "\t<tr><td>60%     </td><td>NA      </td><td>13      </td><td>1214.2  </td><td>NA      </td><td>0       </td><td>10.40   </td><td> 8.3    </td><td>49.9    </td><td>3439.50 </td><td>49.90   </td><td>3126.08 </td><td>0.5     </td><td> 3.88   </td><td> 1614.40</td><td>221.92  </td></tr>\n",
       "\t<tr><td>70%     </td><td>NA      </td><td>14      </td><td>1416.4  </td><td>NA      </td><td>0       </td><td>11.36   </td><td> 8.3    </td><td>50.5    </td><td>3857.28 </td><td>50.40   </td><td>3249.52 </td><td>0.7     </td><td> 8.26   </td><td> 2679.54</td><td>256.80  </td></tr>\n",
       "\t<tr><td>80%     </td><td>NA      </td><td>17      </td><td>1618.6  </td><td>NA      </td><td>0       </td><td>12.70   </td><td> 9.3    </td><td>51.2    </td><td>4258.12 </td><td>51.04   </td><td>3417.86 </td><td>1.2     </td><td>11.50   </td><td> 4761.14</td><td>298.12  </td></tr>\n",
       "\t<tr><td>90%     </td><td>NA      </td><td>26      </td><td>1820.8  </td><td>NA      </td><td>0       </td><td>14.60   </td><td>11.3    </td><td>52.3    </td><td>4703.62 </td><td>52.00   </td><td>3682.83 </td><td>1.6     </td><td>15.60   </td><td>10867.72</td><td>365.46  </td></tr>\n",
       "</tbody>\n",
       "</table>\n"
      ],
      "text/latex": [
       "\\begin{tabular}{r|llllllllllllllll}\n",
       " quant.perc & S.country & vil.id & indi.id & sex & svymthRound & momEdu & wealthIdx & hgt & wgt & hgt0 & wgt0 & prot & cal & p.A.prot & p.A.nProt\\\\\n",
       "\\hline\n",
       "\t 10\\%    & NA       &  3       &  203.2   & NA       & 0        &  5.70    &  1.7     & 46.3     & 1396.94  & 46.60    & 2500.28  & 0.5      &  0.50    &    24.28 &   0.50  \\\\\n",
       "\t 20\\%    & NA       &  4       &  405.4   & NA       & 0        &  6.90    &  2.3     & 47.3     & 1839.64  & 47.70    & 2686.28  & 0.5      &  0.50    &   172.30 &   0.50  \\\\\n",
       "\t 30\\%    & NA       &  6       &  607.6   & NA       & 0        &  7.70    &  3.3     & 48.0     & 2271.69  & 48.30    & 2803.89  & 0.5      &  0.50    &   721.08 &   1.06  \\\\\n",
       "\t 40\\%    & NA       &  8       &  809.8   & NA       & 0        &  8.60    &  6.3     & 48.7     & 2669.16  & 48.80    & 2909.68  & 0.5      &  0.50    &  1009.88 &  19.00  \\\\\n",
       "\t 50\\%    & NA       &  9       & 1012.0   & NA       & 0        &  9.30    &  7.3     & 49.4     & 3050.10  & 49.40    & 3013.00  & 0.5      &  0.50    &  1273.30 & 110.95  \\\\\n",
       "\t 60\\%    & NA       & 13       & 1214.2   & NA       & 0        & 10.40    &  8.3     & 49.9     & 3439.50  & 49.90    & 3126.08  & 0.5      &  3.88    &  1614.40 & 221.92  \\\\\n",
       "\t 70\\%    & NA       & 14       & 1416.4   & NA       & 0        & 11.36    &  8.3     & 50.5     & 3857.28  & 50.40    & 3249.52  & 0.7      &  8.26    &  2679.54 & 256.80  \\\\\n",
       "\t 80\\%    & NA       & 17       & 1618.6   & NA       & 0        & 12.70    &  9.3     & 51.2     & 4258.12  & 51.04    & 3417.86  & 1.2      & 11.50    &  4761.14 & 298.12  \\\\\n",
       "\t 90\\%    & NA       & 26       & 1820.8   & NA       & 0        & 14.60    & 11.3     & 52.3     & 4703.62  & 52.00    & 3682.83  & 1.6      & 15.60    & 10867.72 & 365.46  \\\\\n",
       "\\end{tabular}\n"
      ],
      "text/markdown": [
       "\n",
       "| quant.perc | S.country | vil.id | indi.id | sex | svymthRound | momEdu | wealthIdx | hgt | wgt | hgt0 | wgt0 | prot | cal | p.A.prot | p.A.nProt |\n",
       "|---|---|---|---|---|---|---|---|---|---|---|---|---|---|---|---|\n",
       "| 10%      | NA       |  3       |  203.2   | NA       | 0        |  5.70    |  1.7     | 46.3     | 1396.94  | 46.60    | 2500.28  | 0.5      |  0.50    |    24.28 |   0.50   |\n",
       "| 20%      | NA       |  4       |  405.4   | NA       | 0        |  6.90    |  2.3     | 47.3     | 1839.64  | 47.70    | 2686.28  | 0.5      |  0.50    |   172.30 |   0.50   |\n",
       "| 30%      | NA       |  6       |  607.6   | NA       | 0        |  7.70    |  3.3     | 48.0     | 2271.69  | 48.30    | 2803.89  | 0.5      |  0.50    |   721.08 |   1.06   |\n",
       "| 40%      | NA       |  8       |  809.8   | NA       | 0        |  8.60    |  6.3     | 48.7     | 2669.16  | 48.80    | 2909.68  | 0.5      |  0.50    |  1009.88 |  19.00   |\n",
       "| 50%      | NA       |  9       | 1012.0   | NA       | 0        |  9.30    |  7.3     | 49.4     | 3050.10  | 49.40    | 3013.00  | 0.5      |  0.50    |  1273.30 | 110.95   |\n",
       "| 60%      | NA       | 13       | 1214.2   | NA       | 0        | 10.40    |  8.3     | 49.9     | 3439.50  | 49.90    | 3126.08  | 0.5      |  3.88    |  1614.40 | 221.92   |\n",
       "| 70%      | NA       | 14       | 1416.4   | NA       | 0        | 11.36    |  8.3     | 50.5     | 3857.28  | 50.40    | 3249.52  | 0.7      |  8.26    |  2679.54 | 256.80   |\n",
       "| 80%      | NA       | 17       | 1618.6   | NA       | 0        | 12.70    |  9.3     | 51.2     | 4258.12  | 51.04    | 3417.86  | 1.2      | 11.50    |  4761.14 | 298.12   |\n",
       "| 90%      | NA       | 26       | 1820.8   | NA       | 0        | 14.60    | 11.3     | 52.3     | 4703.62  | 52.00    | 3682.83  | 1.6      | 15.60    | 10867.72 | 365.46   |\n",
       "\n"
      ],
      "text/plain": [
       "  quant.perc S.country vil.id indi.id sex svymthRound momEdu wealthIdx hgt \n",
       "1 10%        NA         3      203.2  NA  0            5.70   1.7      46.3\n",
       "2 20%        NA         4      405.4  NA  0            6.90   2.3      47.3\n",
       "3 30%        NA         6      607.6  NA  0            7.70   3.3      48.0\n",
       "4 40%        NA         8      809.8  NA  0            8.60   6.3      48.7\n",
       "5 50%        NA         9     1012.0  NA  0            9.30   7.3      49.4\n",
       "6 60%        NA        13     1214.2  NA  0           10.40   8.3      49.9\n",
       "7 70%        NA        14     1416.4  NA  0           11.36   8.3      50.5\n",
       "8 80%        NA        17     1618.6  NA  0           12.70   9.3      51.2\n",
       "9 90%        NA        26     1820.8  NA  0           14.60  11.3      52.3\n",
       "  wgt     hgt0  wgt0    prot cal   p.A.prot p.A.nProt\n",
       "1 1396.94 46.60 2500.28 0.5   0.50    24.28   0.50   \n",
       "2 1839.64 47.70 2686.28 0.5   0.50   172.30   0.50   \n",
       "3 2271.69 48.30 2803.89 0.5   0.50   721.08   1.06   \n",
       "4 2669.16 48.80 2909.68 0.5   0.50  1009.88  19.00   \n",
       "5 3050.10 49.40 3013.00 0.5   0.50  1273.30 110.95   \n",
       "6 3439.50 49.90 3126.08 0.5   3.88  1614.40 221.92   \n",
       "7 3857.28 50.40 3249.52 0.7   8.26  2679.54 256.80   \n",
       "8 4258.12 51.04 3417.86 1.2  11.50  4761.14 298.12   \n",
       "9 4703.62 52.00 3682.83 1.6  15.60 10867.72 365.46   "
      ]
     },
     "metadata": {},
     "output_type": "display_data"
    }
   ],
   "source": [
    "# Quantiles all Variables\n",
    "suppressMessages(lapply(names(df), gen_quantiles, df=df.grp.L1, prob=seq(0.1,0.9,0.10)) %>% reduce(full_join))"
   ]
  },
  {
   "cell_type": "markdown",
   "metadata": {},
   "source": [
    "### Cut Quantile Categorical Variables\n",
    "\n",
    "Using the Quantiles we have generate, cut the continuous variables to generate categorical quantile variables in the full dataframe.\n",
    "\n",
    "Note that we can only cut based on unique breaks, but sometimes quantile break-points are the same if some values are often observed, and also if there are too few observations with respect to quantile groups. \n",
    "\n",
    "To resolve this issue, we only look at unique quantiles. \n",
    "\n",
    "We need several support Functions:\n",
    "1. support functions to generate suffix for quantile variables based on quantile cuts\n",
    "2. support for labeling variables of resulting quantiles beyond bracketing"
   ]
  },
  {
   "cell_type": "code",
   "execution_count": 198,
   "metadata": {},
   "outputs": [
    {
     "data": {
      "text/html": [
       "<ol class=list-inline>\n",
       "\t<li>1</li>\n",
       "\t<li>5.2</li>\n",
       "\t<li>8.3</li>\n",
       "\t<li>19.3</li>\n",
       "</ol>\n"
      ],
      "text/latex": [
       "\\begin{enumerate*}\n",
       "\\item 1\n",
       "\\item 5.2\n",
       "\\item 8.3\n",
       "\\item 19.3\n",
       "\\end{enumerate*}\n"
      ],
      "text/markdown": [
       "1. 1\n",
       "2. 5.2\n",
       "3. 8.3\n",
       "4. 19.3\n",
       "\n",
       "\n"
      ],
      "text/plain": [
       "[1]  1.0  5.2  8.3 19.3"
      ]
     },
     "metadata": {},
     "output_type": "display_data"
    },
    {
     "data": {
      "text/html": [
       "<ol class=list-inline>\n",
       "\t<li>1</li>\n",
       "\t<li>5.2</li>\n",
       "\t<li>8.3</li>\n",
       "\t<li>19.3</li>\n",
       "</ol>\n"
      ],
      "text/latex": [
       "\\begin{enumerate*}\n",
       "\\item 1\n",
       "\\item 5.2\n",
       "\\item 8.3\n",
       "\\item 19.3\n",
       "\\end{enumerate*}\n"
      ],
      "text/markdown": [
       "1. 1\n",
       "2. 5.2\n",
       "3. 8.3\n",
       "4. 19.3\n",
       "\n",
       "\n"
      ],
      "text/plain": [
       "[1]  1.0  5.2  8.3 19.3"
      ]
     },
     "metadata": {},
     "output_type": "display_data"
    },
    {
     "data": {
      "text/html": [
       "'(1) of Qs0e1n3'"
      ],
      "text/latex": [
       "'(1) of Qs0e1n3'"
      ],
      "text/markdown": [
       "'(1) of Qs0e1n3'"
      ],
      "text/plain": [
       "[1] \"(1) of Qs0e1n3\""
      ]
     },
     "metadata": {},
     "output_type": "display_data"
    },
    {
     "data": {
      "text/html": [
       "'(2) of Qs0e1n3'"
      ],
      "text/latex": [
       "'(2) of Qs0e1n3'"
      ],
      "text/markdown": [
       "'(2) of Qs0e1n3'"
      ],
      "text/plain": [
       "[1] \"(2) of Qs0e1n3\""
      ]
     },
     "metadata": {},
     "output_type": "display_data"
    },
    {
     "data": {
      "text/html": [
       "<ol>\n",
       "\t<li>'(1) of Qs0e1n3'</li>\n",
       "\t<li>'(2) of Qs0e1n3'</li>\n",
       "\t<li>'(3) of Qs0e1n3'</li>\n",
       "</ol>\n"
      ],
      "text/latex": [
       "\\begin{enumerate}\n",
       "\\item '(1) of Qs0e1n3'\n",
       "\\item '(2) of Qs0e1n3'\n",
       "\\item '(3) of Qs0e1n3'\n",
       "\\end{enumerate}\n"
      ],
      "text/markdown": [
       "1. '(1) of Qs0e1n3'\n",
       "2. '(2) of Qs0e1n3'\n",
       "3. '(3) of Qs0e1n3'\n",
       "\n",
       "\n"
      ],
      "text/plain": [
       "[[1]]\n",
       "[1] \"(1) of Qs0e1n3\"\n",
       "\n",
       "[[2]]\n",
       "[1] \"(2) of Qs0e1n3\"\n",
       "\n",
       "[[3]]\n",
       "[1] \"(3) of Qs0e1n3\"\n"
      ]
     },
     "metadata": {},
     "output_type": "display_data"
    }
   ],
   "source": [
    "# Function Testing\n",
    "arr.quantiles <- df.sliced.quantiles[[substitute('wealthIdx')]]\n",
    "arr.quantiles\n",
    "arr.sort.unique.quantiles <- sort(unique(df.sliced.quantiles[[substitute('wealthIdx')]]))\n",
    "arr.sort.unique.quantiles\n",
    "f_Q_label(arr.quantiles, arr.sort.unique.quantiles[1], seq.quantiles)\n",
    "f_Q_label(arr.quantiles, arr.sort.unique.quantiles[2], seq.quantiles)\n",
    "lapply(arr.sort.unique.quantiles[1:(length(arr.sort.unique.quantiles)-1)],\n",
    "       f_Q_label,\n",
    "       arr.quantiles=arr.quantiles,\n",
    "       seq.quantiles=seq.quantiles)"
   ]
  },
  {
   "cell_type": "code",
   "execution_count": 199,
   "metadata": {},
   "outputs": [
    {
     "name": "stderr",
     "output_type": "stream",
     "text": [
      "Joining, by = \"quant.perc\"\n",
      "Joining, by = \"quant.perc\"\n"
     ]
    }
   ],
   "source": [
    "# Generate Categorical Variables of Quantiles\n",
    "vars.group_by <- c('indi.id')\n",
    "vars.arrange <- c('indi.id', 'svymthRound')\n",
    "vars.cts2quantile <- c('wealthIdx', 'hgt0', 'wgt0')\n",
    "seq.quantiles <- c(0, 0.3333, 0.6666, 1.0)\n",
    "df.cut <- df_cut_by_sliced_quantiles(df, vars.cts2quantile, seq.quantiles, vars.group_by, vars.arrange)\n",
    "vars.quantile.cut <- df.cut$vars.quantile.cut\n",
    "df.with.cut.quant <- df.cut$df.with.cut.quant\n",
    "df.grp.L1 <- df.cut$df.grp.L1"
   ]
  },
  {
   "cell_type": "code",
   "execution_count": 200,
   "metadata": {},
   "outputs": [
    {
     "data": {
      "text/html": [
       "<ol class=list-inline>\n",
       "\t<li>'wealthIdx_Qs0e1n3'</li>\n",
       "\t<li>'hgt0_Qs0e1n3'</li>\n",
       "\t<li>'wgt0_Qs0e1n3'</li>\n",
       "</ol>\n"
      ],
      "text/latex": [
       "\\begin{enumerate*}\n",
       "\\item 'wealthIdx\\_Qs0e1n3'\n",
       "\\item 'hgt0\\_Qs0e1n3'\n",
       "\\item 'wgt0\\_Qs0e1n3'\n",
       "\\end{enumerate*}\n"
      ],
      "text/markdown": [
       "1. 'wealthIdx_Qs0e1n3'\n",
       "2. 'hgt0_Qs0e1n3'\n",
       "3. 'wgt0_Qs0e1n3'\n",
       "\n",
       "\n"
      ],
      "text/plain": [
       "[1] \"wealthIdx_Qs0e1n3\" \"hgt0_Qs0e1n3\"      \"wgt0_Qs0e1n3\"     "
      ]
     },
     "metadata": {},
     "output_type": "display_data"
    },
    {
     "data": {
      "text/plain": [
       "                  wealthIdx_Qs0e1n3                      hgt0_Qs0e1n3  \n",
       " [1,5.2]; (1) of Qs0e1n3   :10958   [40.6,48.5]; (1) of Qs0e1n3:10232  \n",
       " (5.2,8.3]; (2) of Qs0e1n3 :13812   (48.5,50.2]; (2) of Qs0e1n3: 9895  \n",
       " (8.3,19.3]; (3) of Qs0e1n3:10295   (50.2,58]; (3) of Qs0e1n3  : 9908  \n",
       "                                    NA's                       : 5030  \n",
       "                              wgt0_Qs0e1n3  \n",
       " [1.4e+03,2.84e+03]; (1) of Qs0e1n3 :10105  \n",
       " (2.84e+03,3.21e+03]; (2) of Qs0e1n3:10056  \n",
       " (3.21e+03,5.49e+03]; (3) of Qs0e1n3: 9858  \n",
       " NA's                               : 5046  "
      ]
     },
     "metadata": {},
     "output_type": "display_data"
    }
   ],
   "source": [
    "# Cut Variables Generated\n",
    "names(vars.quantile.cut)\n",
    "summary(vars.quantile.cut)"
   ]
  },
  {
   "cell_type": "code",
   "execution_count": 201,
   "metadata": {},
   "outputs": [],
   "source": [
    "# options(repr.matrix.max.rows=50, repr.matrix.max.cols=20)\n",
    "# df.with.cut.quant"
   ]
  },
  {
   "cell_type": "markdown",
   "metadata": {},
   "source": [
    "### Individual Variables' Quantile Cuts Review Results"
   ]
  },
  {
   "cell_type": "code",
   "execution_count": 202,
   "metadata": {},
   "outputs": [],
   "source": [
    "# Group By Results\n",
    "f.count <- function(df, var.cts, seq.quantiles) {\n",
    "    df %>% select(S.country, indi.id, svymthRound, matches(paste0(var.cts, collapse='|'))) %>%\n",
    "        group_by(!!sym(f_var_rename(paste0(var.cts,'_q'), seq.quantiles))) %>%\n",
    "        summarise_all(funs(n=n()))\n",
    "}"
   ]
  },
  {
   "cell_type": "code",
   "execution_count": 203,
   "metadata": {},
   "outputs": [
    {
     "data": {
      "text/html": [
       "<ol>\n",
       "\t<li><table>\n",
       "<thead><tr><th scope=col>wealthIdx_Qs0e1n3</th><th scope=col>S.country_n</th><th scope=col>indi.id_n</th><th scope=col>svymthRound_n</th><th scope=col>wealthIdx_n</th></tr></thead>\n",
       "<tbody>\n",
       "\t<tr><td>[1,5.2]; (1) of Qs0e1n3   </td><td>10958                     </td><td>10958                     </td><td>10958                     </td><td>10958                     </td></tr>\n",
       "\t<tr><td>(5.2,8.3]; (2) of Qs0e1n3 </td><td>13812                     </td><td>13812                     </td><td>13812                     </td><td>13812                     </td></tr>\n",
       "\t<tr><td>(8.3,19.3]; (3) of Qs0e1n3</td><td>10295                     </td><td>10295                     </td><td>10295                     </td><td>10295                     </td></tr>\n",
       "</tbody>\n",
       "</table>\n",
       "</li>\n",
       "\t<li><table>\n",
       "<thead><tr><th scope=col>hgt0_Qs0e1n3</th><th scope=col>S.country_n</th><th scope=col>indi.id_n</th><th scope=col>svymthRound_n</th><th scope=col>hgt0_n</th></tr></thead>\n",
       "<tbody>\n",
       "\t<tr><td>[40.6,48.5]; (1) of Qs0e1n3</td><td>10232                      </td><td>10232                      </td><td>10232                      </td><td>10232                      </td></tr>\n",
       "\t<tr><td>(48.5,50.2]; (2) of Qs0e1n3</td><td> 9895                      </td><td> 9895                      </td><td> 9895                      </td><td> 9895                      </td></tr>\n",
       "\t<tr><td>(50.2,58]; (3) of Qs0e1n3  </td><td> 9908                      </td><td> 9908                      </td><td> 9908                      </td><td> 9908                      </td></tr>\n",
       "\t<tr><td>NA                         </td><td> 5030                      </td><td> 5030                      </td><td> 5030                      </td><td> 5030                      </td></tr>\n",
       "</tbody>\n",
       "</table>\n",
       "</li>\n",
       "\t<li><table>\n",
       "<thead><tr><th scope=col>wgt0_Qs0e1n3</th><th scope=col>S.country_n</th><th scope=col>indi.id_n</th><th scope=col>svymthRound_n</th><th scope=col>wgt0_n</th></tr></thead>\n",
       "<tbody>\n",
       "\t<tr><td>[1.4e+03,2.84e+03]; (1) of Qs0e1n3 </td><td>10105                              </td><td>10105                              </td><td>10105                              </td><td>10105                              </td></tr>\n",
       "\t<tr><td>(2.84e+03,3.21e+03]; (2) of Qs0e1n3</td><td>10056                              </td><td>10056                              </td><td>10056                              </td><td>10056                              </td></tr>\n",
       "\t<tr><td>(3.21e+03,5.49e+03]; (3) of Qs0e1n3</td><td> 9858                              </td><td> 9858                              </td><td> 9858                              </td><td> 9858                              </td></tr>\n",
       "\t<tr><td>NA                                 </td><td> 5046                              </td><td> 5046                              </td><td> 5046                              </td><td> 5046                              </td></tr>\n",
       "</tbody>\n",
       "</table>\n",
       "</li>\n",
       "</ol>\n"
      ],
      "text/latex": [
       "\\begin{enumerate}\n",
       "\\item \\begin{tabular}{r|lllll}\n",
       " wealthIdx\\_Qs0e1n3 & S.country\\_n & indi.id\\_n & svymthRound\\_n & wealthIdx\\_n\\\\\n",
       "\\hline\n",
       "\t {[}1,5.2{]}; (1) of Qs0e1n3    & 10958                          & 10958                          & 10958                          & 10958                         \\\\\n",
       "\t (5.2,8.3{]}; (2) of Qs0e1n3  & 13812                        & 13812                        & 13812                        & 13812                       \\\\\n",
       "\t (8.3,19.3{]}; (3) of Qs0e1n3 & 10295                        & 10295                        & 10295                        & 10295                       \\\\\n",
       "\\end{tabular}\n",
       "\n",
       "\\item \\begin{tabular}{r|lllll}\n",
       " hgt0\\_Qs0e1n3 & S.country\\_n & indi.id\\_n & svymthRound\\_n & hgt0\\_n\\\\\n",
       "\\hline\n",
       "\t {[}40.6,48.5{]}; (1) of Qs0e1n3 & 10232                           & 10232                           & 10232                           & 10232                          \\\\\n",
       "\t (48.5,50.2{]}; (2) of Qs0e1n3 &  9895                         &  9895                         &  9895                         &  9895                        \\\\\n",
       "\t (50.2,58{]}; (3) of Qs0e1n3   &  9908                         &  9908                         &  9908                         &  9908                        \\\\\n",
       "\t NA                          &  5030                       &  5030                       &  5030                       &  5030                      \\\\\n",
       "\\end{tabular}\n",
       "\n",
       "\\item \\begin{tabular}{r|lllll}\n",
       " wgt0\\_Qs0e1n3 & S.country\\_n & indi.id\\_n & svymthRound\\_n & wgt0\\_n\\\\\n",
       "\\hline\n",
       "\t {[}1.4e+03,2.84e+03{]}; (1) of Qs0e1n3  & 10105                                   & 10105                                   & 10105                                   & 10105                                  \\\\\n",
       "\t (2.84e+03,3.21e+03{]}; (2) of Qs0e1n3 & 10056                                 & 10056                                 & 10056                                 & 10056                                \\\\\n",
       "\t (3.21e+03,5.49e+03{]}; (3) of Qs0e1n3 &  9858                                 &  9858                                 &  9858                                 &  9858                                \\\\\n",
       "\t NA                                  &  5046                               &  5046                               &  5046                               &  5046                              \\\\\n",
       "\\end{tabular}\n",
       "\n",
       "\\end{enumerate}\n"
      ],
      "text/markdown": [
       "1. \n",
       "| wealthIdx_Qs0e1n3 | S.country_n | indi.id_n | svymthRound_n | wealthIdx_n |\n",
       "|---|---|---|---|---|\n",
       "| [1,5.2]; (1) of Qs0e1n3    | 10958                      | 10958                      | 10958                      | 10958                      |\n",
       "| (5.2,8.3]; (2) of Qs0e1n3  | 13812                      | 13812                      | 13812                      | 13812                      |\n",
       "| (8.3,19.3]; (3) of Qs0e1n3 | 10295                      | 10295                      | 10295                      | 10295                      |\n",
       "\n",
       "\n",
       "2. \n",
       "| hgt0_Qs0e1n3 | S.country_n | indi.id_n | svymthRound_n | hgt0_n |\n",
       "|---|---|---|---|---|\n",
       "| [40.6,48.5]; (1) of Qs0e1n3 | 10232                       | 10232                       | 10232                       | 10232                       |\n",
       "| (48.5,50.2]; (2) of Qs0e1n3 |  9895                       |  9895                       |  9895                       |  9895                       |\n",
       "| (50.2,58]; (3) of Qs0e1n3   |  9908                       |  9908                       |  9908                       |  9908                       |\n",
       "| NA                          |  5030                       |  5030                       |  5030                       |  5030                       |\n",
       "\n",
       "\n",
       "3. \n",
       "| wgt0_Qs0e1n3 | S.country_n | indi.id_n | svymthRound_n | wgt0_n |\n",
       "|---|---|---|---|---|\n",
       "| [1.4e+03,2.84e+03]; (1) of Qs0e1n3  | 10105                               | 10105                               | 10105                               | 10105                               |\n",
       "| (2.84e+03,3.21e+03]; (2) of Qs0e1n3 | 10056                               | 10056                               | 10056                               | 10056                               |\n",
       "| (3.21e+03,5.49e+03]; (3) of Qs0e1n3 |  9858                               |  9858                               |  9858                               |  9858                               |\n",
       "| NA                                  |  5046                               |  5046                               |  5046                               |  5046                               |\n",
       "\n",
       "\n",
       "\n",
       "\n"
      ],
      "text/plain": [
       "[[1]]\n",
       "# A tibble: 3 x 5\n",
       "  wealthIdx_Qs0e1n3          S.country_n indi.id_n svymthRound_n wealthIdx_n\n",
       "  <fct>                            <int>     <int>         <int>       <int>\n",
       "1 [1,5.2]; (1) of Qs0e1n3          10958     10958         10958       10958\n",
       "2 (5.2,8.3]; (2) of Qs0e1n3        13812     13812         13812       13812\n",
       "3 (8.3,19.3]; (3) of Qs0e1n3       10295     10295         10295       10295\n",
       "\n",
       "[[2]]\n",
       "# A tibble: 4 x 5\n",
       "  hgt0_Qs0e1n3                S.country_n indi.id_n svymthRound_n hgt0_n\n",
       "  <fct>                             <int>     <int>         <int>  <int>\n",
       "1 [40.6,48.5]; (1) of Qs0e1n3       10232     10232         10232  10232\n",
       "2 (48.5,50.2]; (2) of Qs0e1n3        9895      9895          9895   9895\n",
       "3 (50.2,58]; (3) of Qs0e1n3          9908      9908          9908   9908\n",
       "4 <NA>                               5030      5030          5030   5030\n",
       "\n",
       "[[3]]\n",
       "# A tibble: 4 x 5\n",
       "  wgt0_Qs0e1n3                        S.country_n indi.id_n svymthRound_n wgt0_n\n",
       "  <fct>                                     <int>     <int>         <int>  <int>\n",
       "1 [1.4e+03,2.84e+03]; (1) of Qs0e1n3        10105     10105         10105  10105\n",
       "2 (2.84e+03,3.21e+03]; (2) of Qs0e1n3       10056     10056         10056  10056\n",
       "3 (3.21e+03,5.49e+03]; (3) of Qs0e1n3        9858      9858          9858   9858\n",
       "4 <NA>                                       5046      5046          5046   5046\n"
      ]
     },
     "metadata": {},
     "output_type": "display_data"
    }
   ],
   "source": [
    "# Full Panel Results\n",
    "lapply(vars.cts2quantile, f.count, df=df.with.cut.quant, seq.quantiles=seq.quantiles)"
   ]
  },
  {
   "cell_type": "code",
   "execution_count": 204,
   "metadata": {},
   "outputs": [
    {
     "data": {
      "text/html": [
       "<ol>\n",
       "\t<li><table>\n",
       "<thead><tr><th scope=col>wealthIdx_Qs0e1n3</th><th scope=col>S.country_n</th><th scope=col>indi.id_n</th><th scope=col>svymthRound_n</th><th scope=col>wealthIdx_n</th></tr></thead>\n",
       "<tbody>\n",
       "\t<tr><td>[1,5.2]; (1) of Qs0e1n3   </td><td>683                       </td><td>683                       </td><td>683                       </td><td>683                       </td></tr>\n",
       "\t<tr><td>(5.2,8.3]; (2) of Qs0e1n3 </td><td>768                       </td><td>768                       </td><td>768                       </td><td>768                       </td></tr>\n",
       "\t<tr><td>(8.3,19.3]; (3) of Qs0e1n3</td><td>572                       </td><td>572                       </td><td>572                       </td><td>572                       </td></tr>\n",
       "</tbody>\n",
       "</table>\n",
       "</li>\n",
       "\t<li><table>\n",
       "<thead><tr><th scope=col>hgt0_Qs0e1n3</th><th scope=col>S.country_n</th><th scope=col>indi.id_n</th><th scope=col>svymthRound_n</th><th scope=col>hgt0_n</th></tr></thead>\n",
       "<tbody>\n",
       "\t<tr><td>[40.6,48.5]; (1) of Qs0e1n3</td><td>580                        </td><td>580                        </td><td>580                        </td><td>580                        </td></tr>\n",
       "\t<tr><td>(48.5,50.2]; (2) of Qs0e1n3</td><td>561                        </td><td>561                        </td><td>561                        </td><td>561                        </td></tr>\n",
       "\t<tr><td>(50.2,58]; (3) of Qs0e1n3  </td><td>568                        </td><td>568                        </td><td>568                        </td><td>568                        </td></tr>\n",
       "\t<tr><td>NA                         </td><td>314                        </td><td>314                        </td><td>314                        </td><td>314                        </td></tr>\n",
       "</tbody>\n",
       "</table>\n",
       "</li>\n",
       "\t<li><table>\n",
       "<thead><tr><th scope=col>wgt0_Qs0e1n3</th><th scope=col>S.country_n</th><th scope=col>indi.id_n</th><th scope=col>svymthRound_n</th><th scope=col>wgt0_n</th></tr></thead>\n",
       "<tbody>\n",
       "\t<tr><td>[1.4e+03,2.84e+03]; (1) of Qs0e1n3 </td><td>569                                </td><td>569                                </td><td>569                                </td><td>569                                </td></tr>\n",
       "\t<tr><td>(2.84e+03,3.21e+03]; (2) of Qs0e1n3</td><td>569                                </td><td>569                                </td><td>569                                </td><td>569                                </td></tr>\n",
       "\t<tr><td>(3.21e+03,5.49e+03]; (3) of Qs0e1n3</td><td>570                                </td><td>570                                </td><td>570                                </td><td>570                                </td></tr>\n",
       "\t<tr><td>NA                                 </td><td>315                                </td><td>315                                </td><td>315                                </td><td>315                                </td></tr>\n",
       "</tbody>\n",
       "</table>\n",
       "</li>\n",
       "</ol>\n"
      ],
      "text/latex": [
       "\\begin{enumerate}\n",
       "\\item \\begin{tabular}{r|lllll}\n",
       " wealthIdx\\_Qs0e1n3 & S.country\\_n & indi.id\\_n & svymthRound\\_n & wealthIdx\\_n\\\\\n",
       "\\hline\n",
       "\t {[}1,5.2{]}; (1) of Qs0e1n3    & 683                            & 683                            & 683                            & 683                           \\\\\n",
       "\t (5.2,8.3{]}; (2) of Qs0e1n3  & 768                          & 768                          & 768                          & 768                         \\\\\n",
       "\t (8.3,19.3{]}; (3) of Qs0e1n3 & 572                          & 572                          & 572                          & 572                         \\\\\n",
       "\\end{tabular}\n",
       "\n",
       "\\item \\begin{tabular}{r|lllll}\n",
       " hgt0\\_Qs0e1n3 & S.country\\_n & indi.id\\_n & svymthRound\\_n & hgt0\\_n\\\\\n",
       "\\hline\n",
       "\t {[}40.6,48.5{]}; (1) of Qs0e1n3 & 580                             & 580                             & 580                             & 580                            \\\\\n",
       "\t (48.5,50.2{]}; (2) of Qs0e1n3 & 561                           & 561                           & 561                           & 561                          \\\\\n",
       "\t (50.2,58{]}; (3) of Qs0e1n3   & 568                           & 568                           & 568                           & 568                          \\\\\n",
       "\t NA                          & 314                         & 314                         & 314                         & 314                        \\\\\n",
       "\\end{tabular}\n",
       "\n",
       "\\item \\begin{tabular}{r|lllll}\n",
       " wgt0\\_Qs0e1n3 & S.country\\_n & indi.id\\_n & svymthRound\\_n & wgt0\\_n\\\\\n",
       "\\hline\n",
       "\t {[}1.4e+03,2.84e+03{]}; (1) of Qs0e1n3  & 569                                     & 569                                     & 569                                     & 569                                    \\\\\n",
       "\t (2.84e+03,3.21e+03{]}; (2) of Qs0e1n3 & 569                                   & 569                                   & 569                                   & 569                                  \\\\\n",
       "\t (3.21e+03,5.49e+03{]}; (3) of Qs0e1n3 & 570                                   & 570                                   & 570                                   & 570                                  \\\\\n",
       "\t NA                                  & 315                                 & 315                                 & 315                                 & 315                                \\\\\n",
       "\\end{tabular}\n",
       "\n",
       "\\end{enumerate}\n"
      ],
      "text/markdown": [
       "1. \n",
       "| wealthIdx_Qs0e1n3 | S.country_n | indi.id_n | svymthRound_n | wealthIdx_n |\n",
       "|---|---|---|---|---|\n",
       "| [1,5.2]; (1) of Qs0e1n3    | 683                        | 683                        | 683                        | 683                        |\n",
       "| (5.2,8.3]; (2) of Qs0e1n3  | 768                        | 768                        | 768                        | 768                        |\n",
       "| (8.3,19.3]; (3) of Qs0e1n3 | 572                        | 572                        | 572                        | 572                        |\n",
       "\n",
       "\n",
       "2. \n",
       "| hgt0_Qs0e1n3 | S.country_n | indi.id_n | svymthRound_n | hgt0_n |\n",
       "|---|---|---|---|---|\n",
       "| [40.6,48.5]; (1) of Qs0e1n3 | 580                         | 580                         | 580                         | 580                         |\n",
       "| (48.5,50.2]; (2) of Qs0e1n3 | 561                         | 561                         | 561                         | 561                         |\n",
       "| (50.2,58]; (3) of Qs0e1n3   | 568                         | 568                         | 568                         | 568                         |\n",
       "| NA                          | 314                         | 314                         | 314                         | 314                         |\n",
       "\n",
       "\n",
       "3. \n",
       "| wgt0_Qs0e1n3 | S.country_n | indi.id_n | svymthRound_n | wgt0_n |\n",
       "|---|---|---|---|---|\n",
       "| [1.4e+03,2.84e+03]; (1) of Qs0e1n3  | 569                                 | 569                                 | 569                                 | 569                                 |\n",
       "| (2.84e+03,3.21e+03]; (2) of Qs0e1n3 | 569                                 | 569                                 | 569                                 | 569                                 |\n",
       "| (3.21e+03,5.49e+03]; (3) of Qs0e1n3 | 570                                 | 570                                 | 570                                 | 570                                 |\n",
       "| NA                                  | 315                                 | 315                                 | 315                                 | 315                                 |\n",
       "\n",
       "\n",
       "\n",
       "\n"
      ],
      "text/plain": [
       "[[1]]\n",
       "# A tibble: 3 x 5\n",
       "  wealthIdx_Qs0e1n3          S.country_n indi.id_n svymthRound_n wealthIdx_n\n",
       "  <fct>                            <int>     <int>         <int>       <int>\n",
       "1 [1,5.2]; (1) of Qs0e1n3            683       683           683         683\n",
       "2 (5.2,8.3]; (2) of Qs0e1n3          768       768           768         768\n",
       "3 (8.3,19.3]; (3) of Qs0e1n3         572       572           572         572\n",
       "\n",
       "[[2]]\n",
       "# A tibble: 4 x 5\n",
       "  hgt0_Qs0e1n3                S.country_n indi.id_n svymthRound_n hgt0_n\n",
       "  <fct>                             <int>     <int>         <int>  <int>\n",
       "1 [40.6,48.5]; (1) of Qs0e1n3         580       580           580    580\n",
       "2 (48.5,50.2]; (2) of Qs0e1n3         561       561           561    561\n",
       "3 (50.2,58]; (3) of Qs0e1n3           568       568           568    568\n",
       "4 <NA>                                314       314           314    314\n",
       "\n",
       "[[3]]\n",
       "# A tibble: 4 x 5\n",
       "  wgt0_Qs0e1n3                        S.country_n indi.id_n svymthRound_n wgt0_n\n",
       "  <fct>                                     <int>     <int>         <int>  <int>\n",
       "1 [1.4e+03,2.84e+03]; (1) of Qs0e1n3          569       569           569    569\n",
       "2 (2.84e+03,3.21e+03]; (2) of Qs0e1n3         569       569           569    569\n",
       "3 (3.21e+03,5.49e+03]; (3) of Qs0e1n3         570       570           570    570\n",
       "4 <NA>                                        315       315           315    315\n"
      ]
     },
     "metadata": {},
     "output_type": "display_data"
    }
   ],
   "source": [
    "# Results Individual Slice\n",
    "lapply(vars.cts2quantile, f.count, \n",
    "       df=(df.with.cut.quant %>% group_by(!!!syms(vars.group_by)) %>% arrange(!!!syms(vars.arrange)) %>% slice(1L)), \n",
    "       seq.quantiles = seq.quantiles)"
   ]
  },
  {
   "cell_type": "markdown",
   "metadata": {},
   "source": [
    "## Differential Quantiles for Different Variables Then Combine to Form New Groups\n",
    "Collect together different quantile base variables and their percentile cuttings quantile rules. "
   ]
  },
  {
   "cell_type": "markdown",
   "metadata": {},
   "source": [
    "### Input Parameters"
   ]
  },
  {
   "cell_type": "code",
   "execution_count": 205,
   "metadata": {},
   "outputs": [],
   "source": [
    "# Generate Categorical Variables of Quantiles\n",
    "vars.group_by <- c('indi.id')\n",
    "vars.arrange <- c('indi.id', 'svymthRound')"
   ]
  },
  {
   "cell_type": "code",
   "execution_count": 206,
   "metadata": {},
   "outputs": [],
   "source": [
    "# Quantile Variables and Quantiles\n",
    "vars.cts2quantile.wealth <- c('wealthIdx')\n",
    "seq.quantiles.wealth <- c(0, .5, 1.0)\n",
    "vars.cts2quantile.wgthgt <- c('hgt0', 'wgt0')\n",
    "seq.quantiles.wgthgt <- c(0, .3333, 0.6666, 1.0)\n",
    "drop.any.quantile.na <- TRUE\n",
    "# collect to list\n",
    "list.cts2quantile <- list(list(vars=vars.cts2quantile.wealth,\n",
    "                               prob=seq.quantiles.wealth),\n",
    "                          list(vars=vars.cts2quantile.wgthgt,\n",
    "                               prob=seq.quantiles.wgthgt))"
   ]
  },
  {
   "cell_type": "markdown",
   "metadata": {},
   "source": [
    "## Check if Within Group Variables Are The Same\n",
    "\n",
    "Need to make sure quantile variables are unique within groups"
   ]
  },
  {
   "cell_type": "code",
   "execution_count": 207,
   "metadata": {},
   "outputs": [],
   "source": [
    "vars.cts2quantile <- unlist(lapply(list.cts2quantile, function(elist) elist$vars))\n",
    "f_check_distinct_ingroup(df, vars.group_by, vars.values_in_group=vars.cts2quantile)"
   ]
  },
  {
   "cell_type": "markdown",
   "metadata": {},
   "source": [
    "### Keep only non-NA for all Quantile Variables"
   ]
  },
  {
   "cell_type": "code",
   "execution_count": 208,
   "metadata": {},
   "outputs": [
    {
     "data": {
      "text/html": [
       "<ol class=list-inline>\n",
       "\t<li>35065</li>\n",
       "\t<li>15</li>\n",
       "</ol>\n"
      ],
      "text/latex": [
       "\\begin{enumerate*}\n",
       "\\item 35065\n",
       "\\item 15\n",
       "\\end{enumerate*}\n"
      ],
      "text/markdown": [
       "1. 35065\n",
       "2. 15\n",
       "\n",
       "\n"
      ],
      "text/plain": [
       "[1] 35065    15"
      ]
     },
     "metadata": {},
     "output_type": "display_data"
    },
    {
     "data": {
      "text/html": [
       "<ol class=list-inline>\n",
       "\t<li>'wealthIdx'</li>\n",
       "\t<li>'hgt0'</li>\n",
       "\t<li>'wgt0'</li>\n",
       "</ol>\n"
      ],
      "text/latex": [
       "\\begin{enumerate*}\n",
       "\\item 'wealthIdx'\n",
       "\\item 'hgt0'\n",
       "\\item 'wgt0'\n",
       "\\end{enumerate*}\n"
      ],
      "text/markdown": [
       "1. 'wealthIdx'\n",
       "2. 'hgt0'\n",
       "3. 'wgt0'\n",
       "\n",
       "\n"
      ],
      "text/plain": [
       "[1] \"wealthIdx\" \"hgt0\"      \"wgt0\"     "
      ]
     },
     "metadata": {},
     "output_type": "display_data"
    },
    {
     "data": {
      "text/html": [
       "<ol class=list-inline>\n",
       "\t<li>30019</li>\n",
       "\t<li>15</li>\n",
       "</ol>\n"
      ],
      "text/latex": [
       "\\begin{enumerate*}\n",
       "\\item 30019\n",
       "\\item 15\n",
       "\\end{enumerate*}\n"
      ],
      "text/markdown": [
       "1. 30019\n",
       "2. 15\n",
       "\n",
       "\n"
      ],
      "text/plain": [
       "[1] 30019    15"
      ]
     },
     "metadata": {},
     "output_type": "display_data"
    }
   ],
   "source": [
    "# Original dimensions\n",
    "dim(df)\n",
    "# All Continuous Variables from lists\n",
    "vars.cts2quantile <- unlist(lapply(list.cts2quantile, function(elist) elist$vars))\n",
    "vars.cts2quantile\n",
    "# Keep only if not NA for all Quantile variables       \n",
    "if (drop.any.quantile.na) {\n",
    "    df.select <- df %>% drop_na(c(vars.group_by, vars.arrange, vars.cts2quantile))\n",
    "}\n",
    "dim(df.select)"
   ]
  },
  {
   "cell_type": "markdown",
   "metadata": {},
   "source": [
    "### Apply Quantiles for Each Quantile Variable"
   ]
  },
  {
   "cell_type": "code",
   "execution_count": 209,
   "metadata": {},
   "outputs": [
    {
     "data": {
      "text/plain": [
       "                  wealthIdx_Qs0e1n2\n",
       " [1,7.3]; (1) of Qs0e1n2   :14936  \n",
       " (7.3,19.3]; (2) of Qs0e1n2:15083  "
      ]
     },
     "metadata": {},
     "output_type": "display_data"
    }
   ],
   "source": [
    "# Dealing with a list of quantile variables\n",
    "df.cut.wealth <- df_cut_by_sliced_quantiles(df.select, vars.cts2quantile.wealth, seq.quantiles.wealth, vars.group_by, vars.arrange)\n",
    "summary(df.cut.wealth$vars.quantile.cut)\n",
    "# summary((df.cut.wealth$df.with.cut.quant)[['wealthIdx_Qs0e1n2']])\n",
    "# df.cut.wealth$df.with.cut.quant %>% filter(is.na(wealthIdx_Qs0e1n2))\n",
    "# df.cut.wealth$df.with.cut.quant %>% filter(indi.id == 500)"
   ]
  },
  {
   "cell_type": "code",
   "execution_count": 210,
   "metadata": {},
   "outputs": [
    {
     "name": "stderr",
     "output_type": "stream",
     "text": [
      "Joining, by = \"quant.perc\"\n"
     ]
    },
    {
     "data": {
      "text/plain": [
       "                      hgt0_Qs0e1n3  \n",
       " [40.6,48.5]; (1) of Qs0e1n3:10216  \n",
       " (48.5,50.2]; (2) of Qs0e1n3: 9895  \n",
       " (50.2,58]; (3) of Qs0e1n3  : 9908  \n",
       "                              wgt0_Qs0e1n3  \n",
       " [1.4e+03,2.84e+03]; (1) of Qs0e1n3 :10105  \n",
       " (2.84e+03,3.21e+03]; (2) of Qs0e1n3:10056  \n",
       " (3.21e+03,5.49e+03]; (3) of Qs0e1n3: 9858  "
      ]
     },
     "metadata": {},
     "output_type": "display_data"
    }
   ],
   "source": [
    "df.cut.wgthgt <- df_cut_by_sliced_quantiles(df.select, vars.cts2quantile.wgthgt, seq.quantiles.wgthgt, vars.group_by, vars.arrange)\n",
    "summary(df.cut.wgthgt$vars.quantile.cut)"
   ]
  },
  {
   "cell_type": "markdown",
   "metadata": {},
   "source": [
    "### Apply Quantiles Functionally"
   ]
  },
  {
   "cell_type": "code",
   "execution_count": 211,
   "metadata": {},
   "outputs": [],
   "source": [
    "# Function to handle list inputs with different quantiles vars and probabilities\n",
    "df_cut_by_sliced_quantiles_grps <- function(quantile.grp.list, df, vars.group_by, vars.arrange) {\n",
    "    vars.cts2quantile <- quantile.grp.list$vars\n",
    "    seq.quantiles <- quantile.grp.list$prob\n",
    "    return(df_cut_by_sliced_quantiles(df, vars.cts2quantile, seq.quantiles, vars.group_by, vars.arrange))\n",
    "}"
   ]
  },
  {
   "cell_type": "code",
   "execution_count": 212,
   "metadata": {},
   "outputs": [
    {
     "name": "stderr",
     "output_type": "stream",
     "text": [
      "Joining, by = \"quant.perc\"\n"
     ]
    }
   ],
   "source": [
    "# Apply function\n",
    "df.cut.list <- lapply(list.cts2quantile, df_cut_by_sliced_quantiles_grps, \n",
    "                      df=df.select, vars.group_by=vars.group_by, vars.arrange=vars.arrange)"
   ]
  },
  {
   "cell_type": "code",
   "execution_count": 213,
   "metadata": {},
   "outputs": [
    {
     "name": "stderr",
     "output_type": "stream",
     "text": [
      "Joining, by = c(\"S.country\", \"vil.id\", \"indi.id\", \"sex\", \"svymthRound\", \"momEdu\", \"wealthIdx\", \"hgt\", \"wgt\", \"hgt0\", \"wgt0\", \"prot\", \"cal\", \"p.A.prot\", \"p.A.nProt\")\n"
     ]
    },
    {
     "data": {
      "text/html": [
       "<ol class=list-inline>\n",
       "\t<li>30019</li>\n",
       "\t<li>18</li>\n",
       "</ol>\n"
      ],
      "text/latex": [
       "\\begin{enumerate*}\n",
       "\\item 30019\n",
       "\\item 18\n",
       "\\end{enumerate*}\n"
      ],
      "text/markdown": [
       "1. 30019\n",
       "2. 18\n",
       "\n",
       "\n"
      ],
      "text/plain": [
       "[1] 30019    18"
      ]
     },
     "metadata": {},
     "output_type": "display_data"
    }
   ],
   "source": [
    "# Reduce Resulting Matrixes Together\n",
    "df.with.cut.quant.all <- lapply(df.cut.list, function(elist) elist$df.with.cut.quant) %>% reduce(left_join)\n",
    "dim(df.with.cut.quant.all)"
   ]
  },
  {
   "cell_type": "code",
   "execution_count": 214,
   "metadata": {},
   "outputs": [
    {
     "data": {
      "text/html": [
       "<ol class=list-inline>\n",
       "\t<li>'wealthIdx_Qs0e1n2'</li>\n",
       "\t<li>'hgt0_Qs0e1n3'</li>\n",
       "\t<li>'wgt0_Qs0e1n3'</li>\n",
       "</ol>\n"
      ],
      "text/latex": [
       "\\begin{enumerate*}\n",
       "\\item 'wealthIdx\\_Qs0e1n2'\n",
       "\\item 'hgt0\\_Qs0e1n3'\n",
       "\\item 'wgt0\\_Qs0e1n3'\n",
       "\\end{enumerate*}\n"
      ],
      "text/markdown": [
       "1. 'wealthIdx_Qs0e1n2'\n",
       "2. 'hgt0_Qs0e1n3'\n",
       "3. 'wgt0_Qs0e1n3'\n",
       "\n",
       "\n"
      ],
      "text/plain": [
       "[1] \"wealthIdx_Qs0e1n2\" \"hgt0_Qs0e1n3\"      \"wgt0_Qs0e1n3\"     "
      ]
     },
     "metadata": {},
     "output_type": "display_data"
    }
   ],
   "source": [
    "# Obrain Newly Created Quantile Group Variables\n",
    "vars.quantile.cut.all <- unlist(lapply(df.cut.list, function(elist) names(elist$vars.quantile.cut)))\n",
    "vars.quantile.cut.all"
   ]
  },
  {
   "cell_type": "markdown",
   "metadata": {},
   "source": [
    "### Summarize by Groups\n",
    "\n",
    "Summarize by all groups."
   ]
  },
  {
   "cell_type": "code",
   "execution_count": 215,
   "metadata": {},
   "outputs": [
    {
     "data": {
      "text/plain": [
       "                  wealthIdx_Qs0e1n2                      hgt0_Qs0e1n3  \n",
       " [1,7.3]; (1) of Qs0e1n2   :14936   [40.6,48.5]; (1) of Qs0e1n3:10216  \n",
       " (7.3,19.3]; (2) of Qs0e1n2:15083   (48.5,50.2]; (2) of Qs0e1n3: 9895  \n",
       "                                    (50.2,58]; (3) of Qs0e1n3  : 9908  \n",
       "                              wgt0_Qs0e1n3  \n",
       " [1.4e+03,2.84e+03]; (1) of Qs0e1n3 :10105  \n",
       " (2.84e+03,3.21e+03]; (2) of Qs0e1n3:10056  \n",
       " (3.21e+03,5.49e+03]; (3) of Qs0e1n3: 9858  "
      ]
     },
     "metadata": {},
     "output_type": "display_data"
    }
   ],
   "source": [
    "summary(df.with.cut.quant.all %>% select(one_of(vars.quantile.cut.all)))"
   ]
  },
  {
   "cell_type": "code",
   "execution_count": 216,
   "metadata": {},
   "outputs": [],
   "source": [
    "# df.with.cut.quant.all %>%\n",
    "#     group_by(!!!syms(vars.quantile.cut.all)) %>%\n",
    "#     summarise_at(vars.cts2quantile, funs(mean, n()))"
   ]
  },
  {
   "cell_type": "markdown",
   "metadata": {},
   "source": [
    "### Generate Joint Quantile Vars Unique Groups"
   ]
  },
  {
   "cell_type": "code",
   "execution_count": 217,
   "metadata": {},
   "outputs": [],
   "source": [
    "# Generate Joint Quantile Index Variable\n",
    "var.qjnt.grp.idx <- 'group.index'\n",
    "df.with.cut.quant.all <- df.with.cut.quant.all %>% mutate(!!var.qjnt.grp.idx := group_indices(., !!!syms(vars.quantile.cut.all)))"
   ]
  },
  {
   "cell_type": "code",
   "execution_count": 218,
   "metadata": {},
   "outputs": [
    {
     "data": {
      "text/html": [
       "<table>\n",
       "<tbody>\n",
       "\t<tr><td>1 </td><td>2 </td><td>3 </td><td>4 </td><td>5 </td><td>6 </td><td>7 </td><td>8 </td><td>9 </td><td>10</td><td>11</td><td>12</td><td>13</td><td>14</td><td>15</td><td>16</td><td>17</td><td>18</td></tr>\n",
       "</tbody>\n",
       "</table>\n"
      ],
      "text/latex": [
       "\\begin{tabular}{llllllllllllllllll}\n",
       "\t 1  & 2  & 3  & 4  & 5  & 6  & 7  & 8  & 9  & 10 & 11 & 12 & 13 & 14 & 15 & 16 & 17 & 18\\\\\n",
       "\\end{tabular}\n"
      ],
      "text/markdown": [
       "\n",
       "| 1  | 2  | 3  | 4  | 5  | 6  | 7  | 8  | 9  | 10 | 11 | 12 | 13 | 14 | 15 | 16 | 17 | 18 |\n",
       "\n"
      ],
      "text/plain": [
       "     [,1] [,2] [,3] [,4] [,5] [,6] [,7] [,8] [,9] [,10] [,11] [,12] [,13] [,14]\n",
       "[1,] 1    2    3    4    5    6    7    8    9    10    11    12    13    14   \n",
       "     [,15] [,16] [,17] [,18]\n",
       "[1,] 15    16    17    18   "
      ]
     },
     "metadata": {},
     "output_type": "display_data"
    }
   ],
   "source": [
    "arr.group.idx <- t(sort(unique(df.with.cut.quant.all[[var.qjnt.grp.idx]])))\n",
    "arr.group.idx"
   ]
  },
  {
   "cell_type": "code",
   "execution_count": 219,
   "metadata": {},
   "outputs": [
    {
     "data": {
      "text/html": [
       "<table>\n",
       "<thead><tr><th scope=col>wealthIdx_Qs0e1n2</th><th scope=col>hgt0_Qs0e1n3</th><th scope=col>wgt0_Qs0e1n3</th><th scope=col>group.index</th><th scope=col>wealthIdx_mean</th><th scope=col>hgt0_mean</th><th scope=col>wgt0_mean</th><th scope=col>wealthIdx_n</th><th scope=col>hgt0_n</th><th scope=col>wgt0_n</th></tr></thead>\n",
       "<tbody>\n",
       "\t<tr><td>[1,7.3]; (1) of Qs0e1n2            </td><td>[40.6,48.5]; (1) of Qs0e1n3        </td><td>[1.4e+03,2.84e+03]; (1) of Qs0e1n3 </td><td> 1                                 </td><td> 5.306477                          </td><td>46.56259                           </td><td>2497.543                           </td><td>3304                               </td><td>3304                               </td><td>3304                               </td></tr>\n",
       "\t<tr><td>[1,7.3]; (1) of Qs0e1n2            </td><td>[40.6,48.5]; (1) of Qs0e1n3        </td><td>(2.84e+03,3.21e+03]; (2) of Qs0e1n3</td><td> 2                                 </td><td> 5.077300                          </td><td>47.61424                           </td><td>2992.620                           </td><td>1348                               </td><td>1348                               </td><td>1348                               </td></tr>\n",
       "\t<tr><td>[1,7.3]; (1) of Qs0e1n2            </td><td>[40.6,48.5]; (1) of Qs0e1n3        </td><td>(3.21e+03,5.49e+03]; (3) of Qs0e1n3</td><td> 3                                 </td><td> 3.639227                          </td><td>47.74586                           </td><td>3428.613                           </td><td> 362                               </td><td> 362                               </td><td> 362                               </td></tr>\n",
       "\t<tr><td>[1,7.3]; (1) of Qs0e1n2            </td><td>(48.5,50.2]; (2) of Qs0e1n3        </td><td>[1.4e+03,2.84e+03]; (1) of Qs0e1n3 </td><td> 4                                 </td><td> 6.042504                          </td><td>49.24233                           </td><td>2671.040                           </td><td>1134                               </td><td>1134                               </td><td>1134                               </td></tr>\n",
       "\t<tr><td>[1,7.3]; (1) of Qs0e1n2            </td><td>(48.5,50.2]; (2) of Qs0e1n3        </td><td>(2.84e+03,3.21e+03]; (2) of Qs0e1n3</td><td> 5                                 </td><td> 5.355495                          </td><td>49.34579                           </td><td>3030.472                           </td><td>2184                               </td><td>2184                               </td><td>2184                               </td></tr>\n",
       "\t<tr><td>[1,7.3]; (1) of Qs0e1n2            </td><td>(48.5,50.2]; (2) of Qs0e1n3        </td><td>(3.21e+03,5.49e+03]; (3) of Qs0e1n3</td><td> 6                                 </td><td> 4.360647                          </td><td>49.61496                           </td><td>3480.880                           </td><td>1484                               </td><td>1484                               </td><td>1484                               </td></tr>\n",
       "\t<tr><td>[1,7.3]; (1) of Qs0e1n2            </td><td>(50.2,58]; (3) of Qs0e1n3          </td><td>[1.4e+03,2.84e+03]; (1) of Qs0e1n3 </td><td> 7                                 </td><td> 6.254082                          </td><td>51.16327                           </td><td>2665.767                           </td><td> 196                               </td><td> 196                               </td><td> 196                               </td></tr>\n",
       "\t<tr><td>[1,7.3]; (1) of Qs0e1n2            </td><td>(50.2,58]; (3) of Qs0e1n3          </td><td>(2.84e+03,3.21e+03]; (2) of Qs0e1n3</td><td> 8                                 </td><td> 5.451432                          </td><td>50.96835                           </td><td>3047.780                           </td><td>1466                               </td><td>1466                               </td><td>1466                               </td></tr>\n",
       "\t<tr><td>[1,7.3]; (1) of Qs0e1n2            </td><td>(50.2,58]; (3) of Qs0e1n3          </td><td>(3.21e+03,5.49e+03]; (3) of Qs0e1n3</td><td> 9                                 </td><td> 4.055986                          </td><td>51.83008                           </td><td>3660.124                           </td><td>3458                               </td><td>3458                               </td><td>3458                               </td></tr>\n",
       "\t<tr><td>(7.3,19.3]; (2) of Qs0e1n2         </td><td>[40.6,48.5]; (1) of Qs0e1n3        </td><td>[1.4e+03,2.84e+03]; (1) of Qs0e1n3 </td><td>10                                 </td><td> 9.860733                          </td><td>46.79267                           </td><td>2539.984                           </td><td>3438                               </td><td>3438                               </td><td>3438                               </td></tr>\n",
       "\t<tr><td>(7.3,19.3]; (2) of Qs0e1n2         </td><td>[40.6,48.5]; (1) of Qs0e1n3        </td><td>(2.84e+03,3.21e+03]; (2) of Qs0e1n3</td><td>11                                 </td><td>10.483750                          </td><td>47.83000                           </td><td>2980.079                           </td><td>1440                               </td><td>1440                               </td><td>1440                               </td></tr>\n",
       "\t<tr><td>(7.3,19.3]; (2) of Qs0e1n2         </td><td>[40.6,48.5]; (1) of Qs0e1n3        </td><td>(3.21e+03,5.49e+03]; (3) of Qs0e1n3</td><td>12                                 </td><td>11.183333                          </td><td>47.97778                           </td><td>3402.806                           </td><td> 324                               </td><td> 324                               </td><td> 324                               </td></tr>\n",
       "\t<tr><td>(7.3,19.3]; (2) of Qs0e1n2         </td><td>(48.5,50.2]; (2) of Qs0e1n3        </td><td>[1.4e+03,2.84e+03]; (1) of Qs0e1n3 </td><td>13                                 </td><td>10.161030                          </td><td>49.37033                           </td><td>2678.633                           </td><td>1709                               </td><td>1709                               </td><td>1709                               </td></tr>\n",
       "\t<tr><td>(7.3,19.3]; (2) of Qs0e1n2         </td><td>(48.5,50.2]; (2) of Qs0e1n3        </td><td>(2.84e+03,3.21e+03]; (2) of Qs0e1n3</td><td>14                                 </td><td>10.301770                          </td><td>49.33451                           </td><td>3024.322                           </td><td>2034                               </td><td>2034                               </td><td>2034                               </td></tr>\n",
       "\t<tr><td>(7.3,19.3]; (2) of Qs0e1n2         </td><td>(48.5,50.2]; (2) of Qs0e1n3        </td><td>(3.21e+03,5.49e+03]; (3) of Qs0e1n3</td><td>15                                 </td><td>10.277333                          </td><td>49.43333                           </td><td>3386.919                           </td><td>1350                               </td><td>1350                               </td><td>1350                               </td></tr>\n",
       "\t<tr><td>(7.3,19.3]; (2) of Qs0e1n2         </td><td>(50.2,58]; (3) of Qs0e1n3          </td><td>[1.4e+03,2.84e+03]; (1) of Qs0e1n3 </td><td>16                                 </td><td>10.511111                          </td><td>50.85556                           </td><td>2676.561                           </td><td> 324                               </td><td> 324                               </td><td> 324                               </td></tr>\n",
       "\t<tr><td>(7.3,19.3]; (2) of Qs0e1n2         </td><td>(50.2,58]; (3) of Qs0e1n3          </td><td>(2.84e+03,3.21e+03]; (2) of Qs0e1n3</td><td>17                                 </td><td>10.294318                          </td><td>51.26591                           </td><td>3059.789                           </td><td>1584                               </td><td>1584                               </td><td>1584                               </td></tr>\n",
       "\t<tr><td>(7.3,19.3]; (2) of Qs0e1n2         </td><td>(50.2,58]; (3) of Qs0e1n3          </td><td>(3.21e+03,5.49e+03]; (3) of Qs0e1n3</td><td>18                                 </td><td>11.030625                          </td><td>52.12125                           </td><td>3622.696                           </td><td>2880                               </td><td>2880                               </td><td>2880                               </td></tr>\n",
       "</tbody>\n",
       "</table>\n"
      ],
      "text/latex": [
       "\\begin{tabular}{r|llllllllll}\n",
       " wealthIdx\\_Qs0e1n2 & hgt0\\_Qs0e1n3 & wgt0\\_Qs0e1n3 & group.index & wealthIdx\\_mean & hgt0\\_mean & wgt0\\_mean & wealthIdx\\_n & hgt0\\_n & wgt0\\_n\\\\\n",
       "\\hline\n",
       "\t {[}1,7.3{]}; (1) of Qs0e1n2             & {[}40.6,48.5{]}; (1) of Qs0e1n3         & {[}1.4e+03,2.84e+03{]}; (1) of Qs0e1n3  &  1                                      &  5.306477                               & 46.56259                                & 2497.543                                & 3304                                    & 3304                                    & 3304                                   \\\\\n",
       "\t {[}1,7.3{]}; (1) of Qs0e1n2           & {[}40.6,48.5{]}; (1) of Qs0e1n3       & (2.84e+03,3.21e+03{]}; (2) of Qs0e1n3 &  2                                    &  5.077300                             & 47.61424                              & 2992.620                              & 1348                                  & 1348                                  & 1348                                 \\\\\n",
       "\t {[}1,7.3{]}; (1) of Qs0e1n2           & {[}40.6,48.5{]}; (1) of Qs0e1n3       & (3.21e+03,5.49e+03{]}; (3) of Qs0e1n3 &  3                                    &  3.639227                             & 47.74586                              & 3428.613                              &  362                                  &  362                                  &  362                                 \\\\\n",
       "\t {[}1,7.3{]}; (1) of Qs0e1n2             & (48.5,50.2{]}; (2) of Qs0e1n3           & {[}1.4e+03,2.84e+03{]}; (1) of Qs0e1n3  &  4                                      &  6.042504                               & 49.24233                                & 2671.040                                & 1134                                    & 1134                                    & 1134                                   \\\\\n",
       "\t {[}1,7.3{]}; (1) of Qs0e1n2           & (48.5,50.2{]}; (2) of Qs0e1n3         & (2.84e+03,3.21e+03{]}; (2) of Qs0e1n3 &  5                                    &  5.355495                             & 49.34579                              & 3030.472                              & 2184                                  & 2184                                  & 2184                                 \\\\\n",
       "\t {[}1,7.3{]}; (1) of Qs0e1n2           & (48.5,50.2{]}; (2) of Qs0e1n3         & (3.21e+03,5.49e+03{]}; (3) of Qs0e1n3 &  6                                    &  4.360647                             & 49.61496                              & 3480.880                              & 1484                                  & 1484                                  & 1484                                 \\\\\n",
       "\t {[}1,7.3{]}; (1) of Qs0e1n2             & (50.2,58{]}; (3) of Qs0e1n3             & {[}1.4e+03,2.84e+03{]}; (1) of Qs0e1n3  &  7                                      &  6.254082                               & 51.16327                                & 2665.767                                &  196                                    &  196                                    &  196                                   \\\\\n",
       "\t {[}1,7.3{]}; (1) of Qs0e1n2           & (50.2,58{]}; (3) of Qs0e1n3           & (2.84e+03,3.21e+03{]}; (2) of Qs0e1n3 &  8                                    &  5.451432                             & 50.96835                              & 3047.780                              & 1466                                  & 1466                                  & 1466                                 \\\\\n",
       "\t {[}1,7.3{]}; (1) of Qs0e1n2           & (50.2,58{]}; (3) of Qs0e1n3           & (3.21e+03,5.49e+03{]}; (3) of Qs0e1n3 &  9                                    &  4.055986                             & 51.83008                              & 3660.124                              & 3458                                  & 3458                                  & 3458                                 \\\\\n",
       "\t (7.3,19.3{]}; (2) of Qs0e1n2            & {[}40.6,48.5{]}; (1) of Qs0e1n3         & {[}1.4e+03,2.84e+03{]}; (1) of Qs0e1n3  & 10                                      &  9.860733                               & 46.79267                                & 2539.984                                & 3438                                    & 3438                                    & 3438                                   \\\\\n",
       "\t (7.3,19.3{]}; (2) of Qs0e1n2          & {[}40.6,48.5{]}; (1) of Qs0e1n3       & (2.84e+03,3.21e+03{]}; (2) of Qs0e1n3 & 11                                    & 10.483750                             & 47.83000                              & 2980.079                              & 1440                                  & 1440                                  & 1440                                 \\\\\n",
       "\t (7.3,19.3{]}; (2) of Qs0e1n2          & {[}40.6,48.5{]}; (1) of Qs0e1n3       & (3.21e+03,5.49e+03{]}; (3) of Qs0e1n3 & 12                                    & 11.183333                             & 47.97778                              & 3402.806                              &  324                                  &  324                                  &  324                                 \\\\\n",
       "\t (7.3,19.3{]}; (2) of Qs0e1n2            & (48.5,50.2{]}; (2) of Qs0e1n3           & {[}1.4e+03,2.84e+03{]}; (1) of Qs0e1n3  & 13                                      & 10.161030                               & 49.37033                                & 2678.633                                & 1709                                    & 1709                                    & 1709                                   \\\\\n",
       "\t (7.3,19.3{]}; (2) of Qs0e1n2          & (48.5,50.2{]}; (2) of Qs0e1n3         & (2.84e+03,3.21e+03{]}; (2) of Qs0e1n3 & 14                                    & 10.301770                             & 49.33451                              & 3024.322                              & 2034                                  & 2034                                  & 2034                                 \\\\\n",
       "\t (7.3,19.3{]}; (2) of Qs0e1n2          & (48.5,50.2{]}; (2) of Qs0e1n3         & (3.21e+03,5.49e+03{]}; (3) of Qs0e1n3 & 15                                    & 10.277333                             & 49.43333                              & 3386.919                              & 1350                                  & 1350                                  & 1350                                 \\\\\n",
       "\t (7.3,19.3{]}; (2) of Qs0e1n2            & (50.2,58{]}; (3) of Qs0e1n3             & {[}1.4e+03,2.84e+03{]}; (1) of Qs0e1n3  & 16                                      & 10.511111                               & 50.85556                                & 2676.561                                &  324                                    &  324                                    &  324                                   \\\\\n",
       "\t (7.3,19.3{]}; (2) of Qs0e1n2          & (50.2,58{]}; (3) of Qs0e1n3           & (2.84e+03,3.21e+03{]}; (2) of Qs0e1n3 & 17                                    & 10.294318                             & 51.26591                              & 3059.789                              & 1584                                  & 1584                                  & 1584                                 \\\\\n",
       "\t (7.3,19.3{]}; (2) of Qs0e1n2          & (50.2,58{]}; (3) of Qs0e1n3           & (3.21e+03,5.49e+03{]}; (3) of Qs0e1n3 & 18                                    & 11.030625                             & 52.12125                              & 3622.696                              & 2880                                  & 2880                                  & 2880                                 \\\\\n",
       "\\end{tabular}\n"
      ],
      "text/markdown": [
       "\n",
       "| wealthIdx_Qs0e1n2 | hgt0_Qs0e1n3 | wgt0_Qs0e1n3 | group.index | wealthIdx_mean | hgt0_mean | wgt0_mean | wealthIdx_n | hgt0_n | wgt0_n |\n",
       "|---|---|---|---|---|---|---|---|---|---|\n",
       "| [1,7.3]; (1) of Qs0e1n2             | [40.6,48.5]; (1) of Qs0e1n3         | [1.4e+03,2.84e+03]; (1) of Qs0e1n3  |  1                                  |  5.306477                           | 46.56259                            | 2497.543                            | 3304                                | 3304                                | 3304                                |\n",
       "| [1,7.3]; (1) of Qs0e1n2             | [40.6,48.5]; (1) of Qs0e1n3         | (2.84e+03,3.21e+03]; (2) of Qs0e1n3 |  2                                  |  5.077300                           | 47.61424                            | 2992.620                            | 1348                                | 1348                                | 1348                                |\n",
       "| [1,7.3]; (1) of Qs0e1n2             | [40.6,48.5]; (1) of Qs0e1n3         | (3.21e+03,5.49e+03]; (3) of Qs0e1n3 |  3                                  |  3.639227                           | 47.74586                            | 3428.613                            |  362                                |  362                                |  362                                |\n",
       "| [1,7.3]; (1) of Qs0e1n2             | (48.5,50.2]; (2) of Qs0e1n3         | [1.4e+03,2.84e+03]; (1) of Qs0e1n3  |  4                                  |  6.042504                           | 49.24233                            | 2671.040                            | 1134                                | 1134                                | 1134                                |\n",
       "| [1,7.3]; (1) of Qs0e1n2             | (48.5,50.2]; (2) of Qs0e1n3         | (2.84e+03,3.21e+03]; (2) of Qs0e1n3 |  5                                  |  5.355495                           | 49.34579                            | 3030.472                            | 2184                                | 2184                                | 2184                                |\n",
       "| [1,7.3]; (1) of Qs0e1n2             | (48.5,50.2]; (2) of Qs0e1n3         | (3.21e+03,5.49e+03]; (3) of Qs0e1n3 |  6                                  |  4.360647                           | 49.61496                            | 3480.880                            | 1484                                | 1484                                | 1484                                |\n",
       "| [1,7.3]; (1) of Qs0e1n2             | (50.2,58]; (3) of Qs0e1n3           | [1.4e+03,2.84e+03]; (1) of Qs0e1n3  |  7                                  |  6.254082                           | 51.16327                            | 2665.767                            |  196                                |  196                                |  196                                |\n",
       "| [1,7.3]; (1) of Qs0e1n2             | (50.2,58]; (3) of Qs0e1n3           | (2.84e+03,3.21e+03]; (2) of Qs0e1n3 |  8                                  |  5.451432                           | 50.96835                            | 3047.780                            | 1466                                | 1466                                | 1466                                |\n",
       "| [1,7.3]; (1) of Qs0e1n2             | (50.2,58]; (3) of Qs0e1n3           | (3.21e+03,5.49e+03]; (3) of Qs0e1n3 |  9                                  |  4.055986                           | 51.83008                            | 3660.124                            | 3458                                | 3458                                | 3458                                |\n",
       "| (7.3,19.3]; (2) of Qs0e1n2          | [40.6,48.5]; (1) of Qs0e1n3         | [1.4e+03,2.84e+03]; (1) of Qs0e1n3  | 10                                  |  9.860733                           | 46.79267                            | 2539.984                            | 3438                                | 3438                                | 3438                                |\n",
       "| (7.3,19.3]; (2) of Qs0e1n2          | [40.6,48.5]; (1) of Qs0e1n3         | (2.84e+03,3.21e+03]; (2) of Qs0e1n3 | 11                                  | 10.483750                           | 47.83000                            | 2980.079                            | 1440                                | 1440                                | 1440                                |\n",
       "| (7.3,19.3]; (2) of Qs0e1n2          | [40.6,48.5]; (1) of Qs0e1n3         | (3.21e+03,5.49e+03]; (3) of Qs0e1n3 | 12                                  | 11.183333                           | 47.97778                            | 3402.806                            |  324                                |  324                                |  324                                |\n",
       "| (7.3,19.3]; (2) of Qs0e1n2          | (48.5,50.2]; (2) of Qs0e1n3         | [1.4e+03,2.84e+03]; (1) of Qs0e1n3  | 13                                  | 10.161030                           | 49.37033                            | 2678.633                            | 1709                                | 1709                                | 1709                                |\n",
       "| (7.3,19.3]; (2) of Qs0e1n2          | (48.5,50.2]; (2) of Qs0e1n3         | (2.84e+03,3.21e+03]; (2) of Qs0e1n3 | 14                                  | 10.301770                           | 49.33451                            | 3024.322                            | 2034                                | 2034                                | 2034                                |\n",
       "| (7.3,19.3]; (2) of Qs0e1n2          | (48.5,50.2]; (2) of Qs0e1n3         | (3.21e+03,5.49e+03]; (3) of Qs0e1n3 | 15                                  | 10.277333                           | 49.43333                            | 3386.919                            | 1350                                | 1350                                | 1350                                |\n",
       "| (7.3,19.3]; (2) of Qs0e1n2          | (50.2,58]; (3) of Qs0e1n3           | [1.4e+03,2.84e+03]; (1) of Qs0e1n3  | 16                                  | 10.511111                           | 50.85556                            | 2676.561                            |  324                                |  324                                |  324                                |\n",
       "| (7.3,19.3]; (2) of Qs0e1n2          | (50.2,58]; (3) of Qs0e1n3           | (2.84e+03,3.21e+03]; (2) of Qs0e1n3 | 17                                  | 10.294318                           | 51.26591                            | 3059.789                            | 1584                                | 1584                                | 1584                                |\n",
       "| (7.3,19.3]; (2) of Qs0e1n2          | (50.2,58]; (3) of Qs0e1n3           | (3.21e+03,5.49e+03]; (3) of Qs0e1n3 | 18                                  | 11.030625                           | 52.12125                            | 3622.696                            | 2880                                | 2880                                | 2880                                |\n",
       "\n"
      ],
      "text/plain": [
       "   wealthIdx_Qs0e1n2          hgt0_Qs0e1n3               \n",
       "1  [1,7.3]; (1) of Qs0e1n2    [40.6,48.5]; (1) of Qs0e1n3\n",
       "2  [1,7.3]; (1) of Qs0e1n2    [40.6,48.5]; (1) of Qs0e1n3\n",
       "3  [1,7.3]; (1) of Qs0e1n2    [40.6,48.5]; (1) of Qs0e1n3\n",
       "4  [1,7.3]; (1) of Qs0e1n2    (48.5,50.2]; (2) of Qs0e1n3\n",
       "5  [1,7.3]; (1) of Qs0e1n2    (48.5,50.2]; (2) of Qs0e1n3\n",
       "6  [1,7.3]; (1) of Qs0e1n2    (48.5,50.2]; (2) of Qs0e1n3\n",
       "7  [1,7.3]; (1) of Qs0e1n2    (50.2,58]; (3) of Qs0e1n3  \n",
       "8  [1,7.3]; (1) of Qs0e1n2    (50.2,58]; (3) of Qs0e1n3  \n",
       "9  [1,7.3]; (1) of Qs0e1n2    (50.2,58]; (3) of Qs0e1n3  \n",
       "10 (7.3,19.3]; (2) of Qs0e1n2 [40.6,48.5]; (1) of Qs0e1n3\n",
       "11 (7.3,19.3]; (2) of Qs0e1n2 [40.6,48.5]; (1) of Qs0e1n3\n",
       "12 (7.3,19.3]; (2) of Qs0e1n2 [40.6,48.5]; (1) of Qs0e1n3\n",
       "13 (7.3,19.3]; (2) of Qs0e1n2 (48.5,50.2]; (2) of Qs0e1n3\n",
       "14 (7.3,19.3]; (2) of Qs0e1n2 (48.5,50.2]; (2) of Qs0e1n3\n",
       "15 (7.3,19.3]; (2) of Qs0e1n2 (48.5,50.2]; (2) of Qs0e1n3\n",
       "16 (7.3,19.3]; (2) of Qs0e1n2 (50.2,58]; (3) of Qs0e1n3  \n",
       "17 (7.3,19.3]; (2) of Qs0e1n2 (50.2,58]; (3) of Qs0e1n3  \n",
       "18 (7.3,19.3]; (2) of Qs0e1n2 (50.2,58]; (3) of Qs0e1n3  \n",
       "   wgt0_Qs0e1n3                        group.index wealthIdx_mean hgt0_mean\n",
       "1  [1.4e+03,2.84e+03]; (1) of Qs0e1n3   1           5.306477      46.56259 \n",
       "2  (2.84e+03,3.21e+03]; (2) of Qs0e1n3  2           5.077300      47.61424 \n",
       "3  (3.21e+03,5.49e+03]; (3) of Qs0e1n3  3           3.639227      47.74586 \n",
       "4  [1.4e+03,2.84e+03]; (1) of Qs0e1n3   4           6.042504      49.24233 \n",
       "5  (2.84e+03,3.21e+03]; (2) of Qs0e1n3  5           5.355495      49.34579 \n",
       "6  (3.21e+03,5.49e+03]; (3) of Qs0e1n3  6           4.360647      49.61496 \n",
       "7  [1.4e+03,2.84e+03]; (1) of Qs0e1n3   7           6.254082      51.16327 \n",
       "8  (2.84e+03,3.21e+03]; (2) of Qs0e1n3  8           5.451432      50.96835 \n",
       "9  (3.21e+03,5.49e+03]; (3) of Qs0e1n3  9           4.055986      51.83008 \n",
       "10 [1.4e+03,2.84e+03]; (1) of Qs0e1n3  10           9.860733      46.79267 \n",
       "11 (2.84e+03,3.21e+03]; (2) of Qs0e1n3 11          10.483750      47.83000 \n",
       "12 (3.21e+03,5.49e+03]; (3) of Qs0e1n3 12          11.183333      47.97778 \n",
       "13 [1.4e+03,2.84e+03]; (1) of Qs0e1n3  13          10.161030      49.37033 \n",
       "14 (2.84e+03,3.21e+03]; (2) of Qs0e1n3 14          10.301770      49.33451 \n",
       "15 (3.21e+03,5.49e+03]; (3) of Qs0e1n3 15          10.277333      49.43333 \n",
       "16 [1.4e+03,2.84e+03]; (1) of Qs0e1n3  16          10.511111      50.85556 \n",
       "17 (2.84e+03,3.21e+03]; (2) of Qs0e1n3 17          10.294318      51.26591 \n",
       "18 (3.21e+03,5.49e+03]; (3) of Qs0e1n3 18          11.030625      52.12125 \n",
       "   wgt0_mean wealthIdx_n hgt0_n wgt0_n\n",
       "1  2497.543  3304        3304   3304  \n",
       "2  2992.620  1348        1348   1348  \n",
       "3  3428.613   362         362    362  \n",
       "4  2671.040  1134        1134   1134  \n",
       "5  3030.472  2184        2184   2184  \n",
       "6  3480.880  1484        1484   1484  \n",
       "7  2665.767   196         196    196  \n",
       "8  3047.780  1466        1466   1466  \n",
       "9  3660.124  3458        3458   3458  \n",
       "10 2539.984  3438        3438   3438  \n",
       "11 2980.079  1440        1440   1440  \n",
       "12 3402.806   324         324    324  \n",
       "13 2678.633  1709        1709   1709  \n",
       "14 3024.322  2034        2034   2034  \n",
       "15 3386.919  1350        1350   1350  \n",
       "16 2676.561   324         324    324  \n",
       "17 3059.789  1584        1584   1584  \n",
       "18 3622.696  2880        2880   2880  "
      ]
     },
     "metadata": {},
     "output_type": "display_data"
    }
   ],
   "source": [
    "df.with.cut.quant.all %>% group_by(!!!syms(vars.quantile.cut.all), !!sym(var.qjnt.grp.idx)) %>%\n",
    "        summarise_at(vars.cts2quantile, funs(mean, n()))"
   ]
  },
  {
   "cell_type": "code",
   "execution_count": 220,
   "metadata": {},
   "outputs": [
    {
     "data": {
      "text/html": [
       "<table>\n",
       "<thead><tr><th scope=col>wealthIdx_Qs0e1n2</th><th scope=col>hgt0_Qs0e1n3</th><th scope=col>wgt0_Qs0e1n3</th><th scope=col>group.index</th><th scope=col>wealthIdx_mean</th><th scope=col>hgt0_mean</th><th scope=col>wgt0_mean</th><th scope=col>wealthIdx_n</th><th scope=col>hgt0_n</th><th scope=col>wgt0_n</th></tr></thead>\n",
       "<tbody>\n",
       "\t<tr><td>[1,7.3]; (1) of Qs0e1n2            </td><td>[40.6,48.5]; (1) of Qs0e1n3        </td><td>[1.4e+03,2.84e+03]; (1) of Qs0e1n3 </td><td> 1                                 </td><td> 5.200526                          </td><td>46.55632                           </td><td>2498.762                           </td><td>190                                </td><td>190                                </td><td>190                                </td></tr>\n",
       "\t<tr><td>[1,7.3]; (1) of Qs0e1n2            </td><td>[40.6,48.5]; (1) of Qs0e1n3        </td><td>(2.84e+03,3.21e+03]; (2) of Qs0e1n3</td><td> 2                                 </td><td> 4.958974                          </td><td>47.60256                           </td><td>2992.736                           </td><td> 78                                </td><td> 78                                </td><td> 78                                </td></tr>\n",
       "\t<tr><td>[1,7.3]; (1) of Qs0e1n2            </td><td>[40.6,48.5]; (1) of Qs0e1n3        </td><td>(3.21e+03,5.49e+03]; (3) of Qs0e1n3</td><td> 3                                 </td><td> 3.563636                          </td><td>47.73182                           </td><td>3430.941                           </td><td> 22                                </td><td> 22                                </td><td> 22                                </td></tr>\n",
       "\t<tr><td>[1,7.3]; (1) of Qs0e1n2            </td><td>(48.5,50.2]; (2) of Qs0e1n3        </td><td>[1.4e+03,2.84e+03]; (1) of Qs0e1n3 </td><td> 4                                 </td><td> 5.989063                          </td><td>49.24375                           </td><td>2671.014                           </td><td> 64                                </td><td> 64                                </td><td> 64                                </td></tr>\n",
       "\t<tr><td>[1,7.3]; (1) of Qs0e1n2            </td><td>(48.5,50.2]; (2) of Qs0e1n3        </td><td>(2.84e+03,3.21e+03]; (2) of Qs0e1n3</td><td> 5                                 </td><td> 5.246032                          </td><td>49.34603                           </td><td>3031.429                           </td><td>126                                </td><td>126                                </td><td>126                                </td></tr>\n",
       "\t<tr><td>[1,7.3]; (1) of Qs0e1n2            </td><td>(48.5,50.2]; (2) of Qs0e1n3        </td><td>(3.21e+03,5.49e+03]; (3) of Qs0e1n3</td><td> 6                                 </td><td> 4.235227                          </td><td>49.61136                           </td><td>3484.544                           </td><td> 88                                </td><td> 88                                </td><td> 88                                </td></tr>\n",
       "\t<tr><td>[1,7.3]; (1) of Qs0e1n2            </td><td>(50.2,58]; (3) of Qs0e1n3          </td><td>[1.4e+03,2.84e+03]; (1) of Qs0e1n3 </td><td> 7                                 </td><td> 6.218182                          </td><td>51.15455                           </td><td>2665.818                           </td><td> 11                                </td><td> 11                                </td><td> 11                                </td></tr>\n",
       "\t<tr><td>[1,7.3]; (1) of Qs0e1n2            </td><td>(50.2,58]; (3) of Qs0e1n3          </td><td>(2.84e+03,3.21e+03]; (2) of Qs0e1n3</td><td> 8                                 </td><td> 5.360714                          </td><td>50.96905                           </td><td>3048.073                           </td><td> 84                                </td><td> 84                                </td><td> 84                                </td></tr>\n",
       "\t<tr><td>[1,7.3]; (1) of Qs0e1n2            </td><td>(50.2,58]; (3) of Qs0e1n3          </td><td>(3.21e+03,5.49e+03]; (3) of Qs0e1n3</td><td> 9                                 </td><td> 3.944928                          </td><td>51.83623                           </td><td>3667.147                           </td><td>207                                </td><td>207                                </td><td>207                                </td></tr>\n",
       "\t<tr><td>(7.3,19.3]; (2) of Qs0e1n2         </td><td>[40.6,48.5]; (1) of Qs0e1n3        </td><td>[1.4e+03,2.84e+03]; (1) of Qs0e1n3 </td><td>10                                 </td><td> 9.860733                          </td><td>46.79267                           </td><td>2539.984                           </td><td>191                                </td><td>191                                </td><td>191                                </td></tr>\n",
       "\t<tr><td>(7.3,19.3]; (2) of Qs0e1n2         </td><td>[40.6,48.5]; (1) of Qs0e1n3        </td><td>(2.84e+03,3.21e+03]; (2) of Qs0e1n3</td><td>11                                 </td><td>10.483750                          </td><td>47.83000                           </td><td>2980.079                           </td><td> 80                                </td><td> 80                                </td><td> 80                                </td></tr>\n",
       "\t<tr><td>(7.3,19.3]; (2) of Qs0e1n2         </td><td>[40.6,48.5]; (1) of Qs0e1n3        </td><td>(3.21e+03,5.49e+03]; (3) of Qs0e1n3</td><td>12                                 </td><td>11.183333                          </td><td>47.97778                           </td><td>3402.806                           </td><td> 18                                </td><td> 18                                </td><td> 18                                </td></tr>\n",
       "\t<tr><td>(7.3,19.3]; (2) of Qs0e1n2         </td><td>(48.5,50.2]; (2) of Qs0e1n3        </td><td>[1.4e+03,2.84e+03]; (1) of Qs0e1n3 </td><td>13                                 </td><td>10.161053                          </td><td>49.37053                           </td><td>2678.480                           </td><td> 95                                </td><td> 95                                </td><td> 95                                </td></tr>\n",
       "\t<tr><td>(7.3,19.3]; (2) of Qs0e1n2         </td><td>(48.5,50.2]; (2) of Qs0e1n3        </td><td>(2.84e+03,3.21e+03]; (2) of Qs0e1n3</td><td>14                                 </td><td>10.301770                          </td><td>49.33451                           </td><td>3024.322                           </td><td>113                                </td><td>113                                </td><td>113                                </td></tr>\n",
       "\t<tr><td>(7.3,19.3]; (2) of Qs0e1n2         </td><td>(48.5,50.2]; (2) of Qs0e1n3        </td><td>(3.21e+03,5.49e+03]; (3) of Qs0e1n3</td><td>15                                 </td><td>10.277333                          </td><td>49.43333                           </td><td>3386.919                           </td><td> 75                                </td><td> 75                                </td><td> 75                                </td></tr>\n",
       "\t<tr><td>(7.3,19.3]; (2) of Qs0e1n2         </td><td>(50.2,58]; (3) of Qs0e1n3          </td><td>[1.4e+03,2.84e+03]; (1) of Qs0e1n3 </td><td>16                                 </td><td>10.511111                          </td><td>50.85556                           </td><td>2676.561                           </td><td> 18                                </td><td> 18                                </td><td> 18                                </td></tr>\n",
       "\t<tr><td>(7.3,19.3]; (2) of Qs0e1n2         </td><td>(50.2,58]; (3) of Qs0e1n3          </td><td>(2.84e+03,3.21e+03]; (2) of Qs0e1n3</td><td>17                                 </td><td>10.294318                          </td><td>51.26591                           </td><td>3059.789                           </td><td> 88                                </td><td> 88                                </td><td> 88                                </td></tr>\n",
       "\t<tr><td>(7.3,19.3]; (2) of Qs0e1n2         </td><td>(50.2,58]; (3) of Qs0e1n3          </td><td>(3.21e+03,5.49e+03]; (3) of Qs0e1n3</td><td>18                                 </td><td>11.030625                          </td><td>52.12125                           </td><td>3622.696                           </td><td>160                                </td><td>160                                </td><td>160                                </td></tr>\n",
       "</tbody>\n",
       "</table>\n"
      ],
      "text/latex": [
       "\\begin{tabular}{r|llllllllll}\n",
       " wealthIdx\\_Qs0e1n2 & hgt0\\_Qs0e1n3 & wgt0\\_Qs0e1n3 & group.index & wealthIdx\\_mean & hgt0\\_mean & wgt0\\_mean & wealthIdx\\_n & hgt0\\_n & wgt0\\_n\\\\\n",
       "\\hline\n",
       "\t {[}1,7.3{]}; (1) of Qs0e1n2             & {[}40.6,48.5{]}; (1) of Qs0e1n3         & {[}1.4e+03,2.84e+03{]}; (1) of Qs0e1n3  &  1                                      &  5.200526                               & 46.55632                                & 2498.762                                & 190                                     & 190                                     & 190                                    \\\\\n",
       "\t {[}1,7.3{]}; (1) of Qs0e1n2           & {[}40.6,48.5{]}; (1) of Qs0e1n3       & (2.84e+03,3.21e+03{]}; (2) of Qs0e1n3 &  2                                    &  4.958974                             & 47.60256                              & 2992.736                              &  78                                   &  78                                   &  78                                  \\\\\n",
       "\t {[}1,7.3{]}; (1) of Qs0e1n2           & {[}40.6,48.5{]}; (1) of Qs0e1n3       & (3.21e+03,5.49e+03{]}; (3) of Qs0e1n3 &  3                                    &  3.563636                             & 47.73182                              & 3430.941                              &  22                                   &  22                                   &  22                                  \\\\\n",
       "\t {[}1,7.3{]}; (1) of Qs0e1n2             & (48.5,50.2{]}; (2) of Qs0e1n3           & {[}1.4e+03,2.84e+03{]}; (1) of Qs0e1n3  &  4                                      &  5.989063                               & 49.24375                                & 2671.014                                &  64                                     &  64                                     &  64                                    \\\\\n",
       "\t {[}1,7.3{]}; (1) of Qs0e1n2           & (48.5,50.2{]}; (2) of Qs0e1n3         & (2.84e+03,3.21e+03{]}; (2) of Qs0e1n3 &  5                                    &  5.246032                             & 49.34603                              & 3031.429                              & 126                                   & 126                                   & 126                                  \\\\\n",
       "\t {[}1,7.3{]}; (1) of Qs0e1n2           & (48.5,50.2{]}; (2) of Qs0e1n3         & (3.21e+03,5.49e+03{]}; (3) of Qs0e1n3 &  6                                    &  4.235227                             & 49.61136                              & 3484.544                              &  88                                   &  88                                   &  88                                  \\\\\n",
       "\t {[}1,7.3{]}; (1) of Qs0e1n2             & (50.2,58{]}; (3) of Qs0e1n3             & {[}1.4e+03,2.84e+03{]}; (1) of Qs0e1n3  &  7                                      &  6.218182                               & 51.15455                                & 2665.818                                &  11                                     &  11                                     &  11                                    \\\\\n",
       "\t {[}1,7.3{]}; (1) of Qs0e1n2           & (50.2,58{]}; (3) of Qs0e1n3           & (2.84e+03,3.21e+03{]}; (2) of Qs0e1n3 &  8                                    &  5.360714                             & 50.96905                              & 3048.073                              &  84                                   &  84                                   &  84                                  \\\\\n",
       "\t {[}1,7.3{]}; (1) of Qs0e1n2           & (50.2,58{]}; (3) of Qs0e1n3           & (3.21e+03,5.49e+03{]}; (3) of Qs0e1n3 &  9                                    &  3.944928                             & 51.83623                              & 3667.147                              & 207                                   & 207                                   & 207                                  \\\\\n",
       "\t (7.3,19.3{]}; (2) of Qs0e1n2            & {[}40.6,48.5{]}; (1) of Qs0e1n3         & {[}1.4e+03,2.84e+03{]}; (1) of Qs0e1n3  & 10                                      &  9.860733                               & 46.79267                                & 2539.984                                & 191                                     & 191                                     & 191                                    \\\\\n",
       "\t (7.3,19.3{]}; (2) of Qs0e1n2          & {[}40.6,48.5{]}; (1) of Qs0e1n3       & (2.84e+03,3.21e+03{]}; (2) of Qs0e1n3 & 11                                    & 10.483750                             & 47.83000                              & 2980.079                              &  80                                   &  80                                   &  80                                  \\\\\n",
       "\t (7.3,19.3{]}; (2) of Qs0e1n2          & {[}40.6,48.5{]}; (1) of Qs0e1n3       & (3.21e+03,5.49e+03{]}; (3) of Qs0e1n3 & 12                                    & 11.183333                             & 47.97778                              & 3402.806                              &  18                                   &  18                                   &  18                                  \\\\\n",
       "\t (7.3,19.3{]}; (2) of Qs0e1n2            & (48.5,50.2{]}; (2) of Qs0e1n3           & {[}1.4e+03,2.84e+03{]}; (1) of Qs0e1n3  & 13                                      & 10.161053                               & 49.37053                                & 2678.480                                &  95                                     &  95                                     &  95                                    \\\\\n",
       "\t (7.3,19.3{]}; (2) of Qs0e1n2          & (48.5,50.2{]}; (2) of Qs0e1n3         & (2.84e+03,3.21e+03{]}; (2) of Qs0e1n3 & 14                                    & 10.301770                             & 49.33451                              & 3024.322                              & 113                                   & 113                                   & 113                                  \\\\\n",
       "\t (7.3,19.3{]}; (2) of Qs0e1n2          & (48.5,50.2{]}; (2) of Qs0e1n3         & (3.21e+03,5.49e+03{]}; (3) of Qs0e1n3 & 15                                    & 10.277333                             & 49.43333                              & 3386.919                              &  75                                   &  75                                   &  75                                  \\\\\n",
       "\t (7.3,19.3{]}; (2) of Qs0e1n2            & (50.2,58{]}; (3) of Qs0e1n3             & {[}1.4e+03,2.84e+03{]}; (1) of Qs0e1n3  & 16                                      & 10.511111                               & 50.85556                                & 2676.561                                &  18                                     &  18                                     &  18                                    \\\\\n",
       "\t (7.3,19.3{]}; (2) of Qs0e1n2          & (50.2,58{]}; (3) of Qs0e1n3           & (2.84e+03,3.21e+03{]}; (2) of Qs0e1n3 & 17                                    & 10.294318                             & 51.26591                              & 3059.789                              &  88                                   &  88                                   &  88                                  \\\\\n",
       "\t (7.3,19.3{]}; (2) of Qs0e1n2          & (50.2,58{]}; (3) of Qs0e1n3           & (3.21e+03,5.49e+03{]}; (3) of Qs0e1n3 & 18                                    & 11.030625                             & 52.12125                              & 3622.696                              & 160                                   & 160                                   & 160                                  \\\\\n",
       "\\end{tabular}\n"
      ],
      "text/markdown": [
       "\n",
       "| wealthIdx_Qs0e1n2 | hgt0_Qs0e1n3 | wgt0_Qs0e1n3 | group.index | wealthIdx_mean | hgt0_mean | wgt0_mean | wealthIdx_n | hgt0_n | wgt0_n |\n",
       "|---|---|---|---|---|---|---|---|---|---|\n",
       "| [1,7.3]; (1) of Qs0e1n2             | [40.6,48.5]; (1) of Qs0e1n3         | [1.4e+03,2.84e+03]; (1) of Qs0e1n3  |  1                                  |  5.200526                           | 46.55632                            | 2498.762                            | 190                                 | 190                                 | 190                                 |\n",
       "| [1,7.3]; (1) of Qs0e1n2             | [40.6,48.5]; (1) of Qs0e1n3         | (2.84e+03,3.21e+03]; (2) of Qs0e1n3 |  2                                  |  4.958974                           | 47.60256                            | 2992.736                            |  78                                 |  78                                 |  78                                 |\n",
       "| [1,7.3]; (1) of Qs0e1n2             | [40.6,48.5]; (1) of Qs0e1n3         | (3.21e+03,5.49e+03]; (3) of Qs0e1n3 |  3                                  |  3.563636                           | 47.73182                            | 3430.941                            |  22                                 |  22                                 |  22                                 |\n",
       "| [1,7.3]; (1) of Qs0e1n2             | (48.5,50.2]; (2) of Qs0e1n3         | [1.4e+03,2.84e+03]; (1) of Qs0e1n3  |  4                                  |  5.989063                           | 49.24375                            | 2671.014                            |  64                                 |  64                                 |  64                                 |\n",
       "| [1,7.3]; (1) of Qs0e1n2             | (48.5,50.2]; (2) of Qs0e1n3         | (2.84e+03,3.21e+03]; (2) of Qs0e1n3 |  5                                  |  5.246032                           | 49.34603                            | 3031.429                            | 126                                 | 126                                 | 126                                 |\n",
       "| [1,7.3]; (1) of Qs0e1n2             | (48.5,50.2]; (2) of Qs0e1n3         | (3.21e+03,5.49e+03]; (3) of Qs0e1n3 |  6                                  |  4.235227                           | 49.61136                            | 3484.544                            |  88                                 |  88                                 |  88                                 |\n",
       "| [1,7.3]; (1) of Qs0e1n2             | (50.2,58]; (3) of Qs0e1n3           | [1.4e+03,2.84e+03]; (1) of Qs0e1n3  |  7                                  |  6.218182                           | 51.15455                            | 2665.818                            |  11                                 |  11                                 |  11                                 |\n",
       "| [1,7.3]; (1) of Qs0e1n2             | (50.2,58]; (3) of Qs0e1n3           | (2.84e+03,3.21e+03]; (2) of Qs0e1n3 |  8                                  |  5.360714                           | 50.96905                            | 3048.073                            |  84                                 |  84                                 |  84                                 |\n",
       "| [1,7.3]; (1) of Qs0e1n2             | (50.2,58]; (3) of Qs0e1n3           | (3.21e+03,5.49e+03]; (3) of Qs0e1n3 |  9                                  |  3.944928                           | 51.83623                            | 3667.147                            | 207                                 | 207                                 | 207                                 |\n",
       "| (7.3,19.3]; (2) of Qs0e1n2          | [40.6,48.5]; (1) of Qs0e1n3         | [1.4e+03,2.84e+03]; (1) of Qs0e1n3  | 10                                  |  9.860733                           | 46.79267                            | 2539.984                            | 191                                 | 191                                 | 191                                 |\n",
       "| (7.3,19.3]; (2) of Qs0e1n2          | [40.6,48.5]; (1) of Qs0e1n3         | (2.84e+03,3.21e+03]; (2) of Qs0e1n3 | 11                                  | 10.483750                           | 47.83000                            | 2980.079                            |  80                                 |  80                                 |  80                                 |\n",
       "| (7.3,19.3]; (2) of Qs0e1n2          | [40.6,48.5]; (1) of Qs0e1n3         | (3.21e+03,5.49e+03]; (3) of Qs0e1n3 | 12                                  | 11.183333                           | 47.97778                            | 3402.806                            |  18                                 |  18                                 |  18                                 |\n",
       "| (7.3,19.3]; (2) of Qs0e1n2          | (48.5,50.2]; (2) of Qs0e1n3         | [1.4e+03,2.84e+03]; (1) of Qs0e1n3  | 13                                  | 10.161053                           | 49.37053                            | 2678.480                            |  95                                 |  95                                 |  95                                 |\n",
       "| (7.3,19.3]; (2) of Qs0e1n2          | (48.5,50.2]; (2) of Qs0e1n3         | (2.84e+03,3.21e+03]; (2) of Qs0e1n3 | 14                                  | 10.301770                           | 49.33451                            | 3024.322                            | 113                                 | 113                                 | 113                                 |\n",
       "| (7.3,19.3]; (2) of Qs0e1n2          | (48.5,50.2]; (2) of Qs0e1n3         | (3.21e+03,5.49e+03]; (3) of Qs0e1n3 | 15                                  | 10.277333                           | 49.43333                            | 3386.919                            |  75                                 |  75                                 |  75                                 |\n",
       "| (7.3,19.3]; (2) of Qs0e1n2          | (50.2,58]; (3) of Qs0e1n3           | [1.4e+03,2.84e+03]; (1) of Qs0e1n3  | 16                                  | 10.511111                           | 50.85556                            | 2676.561                            |  18                                 |  18                                 |  18                                 |\n",
       "| (7.3,19.3]; (2) of Qs0e1n2          | (50.2,58]; (3) of Qs0e1n3           | (2.84e+03,3.21e+03]; (2) of Qs0e1n3 | 17                                  | 10.294318                           | 51.26591                            | 3059.789                            |  88                                 |  88                                 |  88                                 |\n",
       "| (7.3,19.3]; (2) of Qs0e1n2          | (50.2,58]; (3) of Qs0e1n3           | (3.21e+03,5.49e+03]; (3) of Qs0e1n3 | 18                                  | 11.030625                           | 52.12125                            | 3622.696                            | 160                                 | 160                                 | 160                                 |\n",
       "\n"
      ],
      "text/plain": [
       "   wealthIdx_Qs0e1n2          hgt0_Qs0e1n3               \n",
       "1  [1,7.3]; (1) of Qs0e1n2    [40.6,48.5]; (1) of Qs0e1n3\n",
       "2  [1,7.3]; (1) of Qs0e1n2    [40.6,48.5]; (1) of Qs0e1n3\n",
       "3  [1,7.3]; (1) of Qs0e1n2    [40.6,48.5]; (1) of Qs0e1n3\n",
       "4  [1,7.3]; (1) of Qs0e1n2    (48.5,50.2]; (2) of Qs0e1n3\n",
       "5  [1,7.3]; (1) of Qs0e1n2    (48.5,50.2]; (2) of Qs0e1n3\n",
       "6  [1,7.3]; (1) of Qs0e1n2    (48.5,50.2]; (2) of Qs0e1n3\n",
       "7  [1,7.3]; (1) of Qs0e1n2    (50.2,58]; (3) of Qs0e1n3  \n",
       "8  [1,7.3]; (1) of Qs0e1n2    (50.2,58]; (3) of Qs0e1n3  \n",
       "9  [1,7.3]; (1) of Qs0e1n2    (50.2,58]; (3) of Qs0e1n3  \n",
       "10 (7.3,19.3]; (2) of Qs0e1n2 [40.6,48.5]; (1) of Qs0e1n3\n",
       "11 (7.3,19.3]; (2) of Qs0e1n2 [40.6,48.5]; (1) of Qs0e1n3\n",
       "12 (7.3,19.3]; (2) of Qs0e1n2 [40.6,48.5]; (1) of Qs0e1n3\n",
       "13 (7.3,19.3]; (2) of Qs0e1n2 (48.5,50.2]; (2) of Qs0e1n3\n",
       "14 (7.3,19.3]; (2) of Qs0e1n2 (48.5,50.2]; (2) of Qs0e1n3\n",
       "15 (7.3,19.3]; (2) of Qs0e1n2 (48.5,50.2]; (2) of Qs0e1n3\n",
       "16 (7.3,19.3]; (2) of Qs0e1n2 (50.2,58]; (3) of Qs0e1n3  \n",
       "17 (7.3,19.3]; (2) of Qs0e1n2 (50.2,58]; (3) of Qs0e1n3  \n",
       "18 (7.3,19.3]; (2) of Qs0e1n2 (50.2,58]; (3) of Qs0e1n3  \n",
       "   wgt0_Qs0e1n3                        group.index wealthIdx_mean hgt0_mean\n",
       "1  [1.4e+03,2.84e+03]; (1) of Qs0e1n3   1           5.200526      46.55632 \n",
       "2  (2.84e+03,3.21e+03]; (2) of Qs0e1n3  2           4.958974      47.60256 \n",
       "3  (3.21e+03,5.49e+03]; (3) of Qs0e1n3  3           3.563636      47.73182 \n",
       "4  [1.4e+03,2.84e+03]; (1) of Qs0e1n3   4           5.989063      49.24375 \n",
       "5  (2.84e+03,3.21e+03]; (2) of Qs0e1n3  5           5.246032      49.34603 \n",
       "6  (3.21e+03,5.49e+03]; (3) of Qs0e1n3  6           4.235227      49.61136 \n",
       "7  [1.4e+03,2.84e+03]; (1) of Qs0e1n3   7           6.218182      51.15455 \n",
       "8  (2.84e+03,3.21e+03]; (2) of Qs0e1n3  8           5.360714      50.96905 \n",
       "9  (3.21e+03,5.49e+03]; (3) of Qs0e1n3  9           3.944928      51.83623 \n",
       "10 [1.4e+03,2.84e+03]; (1) of Qs0e1n3  10           9.860733      46.79267 \n",
       "11 (2.84e+03,3.21e+03]; (2) of Qs0e1n3 11          10.483750      47.83000 \n",
       "12 (3.21e+03,5.49e+03]; (3) of Qs0e1n3 12          11.183333      47.97778 \n",
       "13 [1.4e+03,2.84e+03]; (1) of Qs0e1n3  13          10.161053      49.37053 \n",
       "14 (2.84e+03,3.21e+03]; (2) of Qs0e1n3 14          10.301770      49.33451 \n",
       "15 (3.21e+03,5.49e+03]; (3) of Qs0e1n3 15          10.277333      49.43333 \n",
       "16 [1.4e+03,2.84e+03]; (1) of Qs0e1n3  16          10.511111      50.85556 \n",
       "17 (2.84e+03,3.21e+03]; (2) of Qs0e1n3 17          10.294318      51.26591 \n",
       "18 (3.21e+03,5.49e+03]; (3) of Qs0e1n3 18          11.030625      52.12125 \n",
       "   wgt0_mean wealthIdx_n hgt0_n wgt0_n\n",
       "1  2498.762  190         190    190   \n",
       "2  2992.736   78          78     78   \n",
       "3  3430.941   22          22     22   \n",
       "4  2671.014   64          64     64   \n",
       "5  3031.429  126         126    126   \n",
       "6  3484.544   88          88     88   \n",
       "7  2665.818   11          11     11   \n",
       "8  3048.073   84          84     84   \n",
       "9  3667.147  207         207    207   \n",
       "10 2539.984  191         191    191   \n",
       "11 2980.079   80          80     80   \n",
       "12 3402.806   18          18     18   \n",
       "13 2678.480   95          95     95   \n",
       "14 3024.322  113         113    113   \n",
       "15 3386.919   75          75     75   \n",
       "16 2676.561   18          18     18   \n",
       "17 3059.789   88          88     88   \n",
       "18 3622.696  160         160    160   "
      ]
     },
     "metadata": {},
     "output_type": "display_data"
    }
   ],
   "source": [
    "df.with.cut.quant.all  %>% group_by(!!!syms(vars.group_by)) %>% arrange(!!!syms(vars.arrange)) %>% slice(1L) %>%\n",
    "        group_by(!!!syms(vars.quantile.cut.all), !!sym(var.qjnt.grp.idx)) %>%\n",
    "        summarise_at(vars.cts2quantile, funs(mean, n()))"
   ]
  },
  {
   "cell_type": "markdown",
   "metadata": {},
   "source": [
    "### Change values Based on Index\n",
    "\n",
    "Index from 1 to 18, change input values based on index"
   ]
  },
  {
   "cell_type": "code",
   "execution_count": 221,
   "metadata": {},
   "outputs": [
    {
     "data": {
      "text/html": [
       "<table>\n",
       "<thead><tr><th scope=col>wealthIdx_Qs0e1n2</th><th scope=col>hgt0_Qs0e1n3</th><th scope=col>wgt0_Qs0e1n3</th><th scope=col>group.index</th><th scope=col>more_prot</th><th scope=col>prot</th></tr></thead>\n",
       "<tbody>\n",
       "\t<tr><td>[1,7.3]; (1) of Qs0e1n2            </td><td>[40.6,48.5]; (1) of Qs0e1n3        </td><td>[1.4e+03,2.84e+03]; (1) of Qs0e1n3 </td><td> 1                                 </td><td>14.08242                           </td><td>12.08242                           </td></tr>\n",
       "\t<tr><td>[1,7.3]; (1) of Qs0e1n2            </td><td>[40.6,48.5]; (1) of Qs0e1n3        </td><td>(2.84e+03,3.21e+03]; (2) of Qs0e1n3</td><td> 2                                 </td><td>15.89847                           </td><td>11.89847                           </td></tr>\n",
       "\t<tr><td>[1,7.3]; (1) of Qs0e1n2            </td><td>[40.6,48.5]; (1) of Qs0e1n3        </td><td>(3.21e+03,5.49e+03]; (3) of Qs0e1n3</td><td> 3                                 </td><td>27.15484                           </td><td>21.15484                           </td></tr>\n",
       "\t<tr><td>[1,7.3]; (1) of Qs0e1n2            </td><td>(48.5,50.2]; (2) of Qs0e1n3        </td><td>[1.4e+03,2.84e+03]; (1) of Qs0e1n3 </td><td> 4                                 </td><td>18.90528                           </td><td>10.90528                           </td></tr>\n",
       "\t<tr><td>[1,7.3]; (1) of Qs0e1n2            </td><td>(48.5,50.2]; (2) of Qs0e1n3        </td><td>(2.84e+03,3.21e+03]; (2) of Qs0e1n3</td><td> 5                                 </td><td>22.32498                           </td><td>12.32498                           </td></tr>\n",
       "\t<tr><td>[1,7.3]; (1) of Qs0e1n2            </td><td>(48.5,50.2]; (2) of Qs0e1n3        </td><td>(3.21e+03,5.49e+03]; (3) of Qs0e1n3</td><td> 6                                 </td><td>28.63120                           </td><td>16.63120                           </td></tr>\n",
       "\t<tr><td>[1,7.3]; (1) of Qs0e1n2            </td><td>(50.2,58]; (3) of Qs0e1n3          </td><td>[1.4e+03,2.84e+03]; (1) of Qs0e1n3 </td><td> 7                                 </td><td>25.47638                           </td><td>11.47638                           </td></tr>\n",
       "\t<tr><td>[1,7.3]; (1) of Qs0e1n2            </td><td>(50.2,58]; (3) of Qs0e1n3          </td><td>(2.84e+03,3.21e+03]; (2) of Qs0e1n3</td><td> 8                                 </td><td>28.02607                           </td><td>12.02607                           </td></tr>\n",
       "\t<tr><td>[1,7.3]; (1) of Qs0e1n2            </td><td>(50.2,58]; (3) of Qs0e1n3          </td><td>(3.21e+03,5.49e+03]; (3) of Qs0e1n3</td><td> 9                                 </td><td>34.69356                           </td><td>16.69356                           </td></tr>\n",
       "\t<tr><td>(7.3,19.3]; (2) of Qs0e1n2         </td><td>[40.6,48.5]; (1) of Qs0e1n3        </td><td>[1.4e+03,2.84e+03]; (1) of Qs0e1n3 </td><td>10                                 </td><td>30.73473                           </td><td>10.73473                           </td></tr>\n",
       "\t<tr><td>(7.3,19.3]; (2) of Qs0e1n2         </td><td>[40.6,48.5]; (1) of Qs0e1n3        </td><td>(2.84e+03,3.21e+03]; (2) of Qs0e1n3</td><td>11                                 </td><td>34.77107                           </td><td>12.77107                           </td></tr>\n",
       "\t<tr><td>(7.3,19.3]; (2) of Qs0e1n2         </td><td>[40.6,48.5]; (1) of Qs0e1n3        </td><td>(3.21e+03,5.49e+03]; (3) of Qs0e1n3</td><td>12                                 </td><td>37.35294                           </td><td>13.35294                           </td></tr>\n",
       "\t<tr><td>(7.3,19.3]; (2) of Qs0e1n2         </td><td>(48.5,50.2]; (2) of Qs0e1n3        </td><td>[1.4e+03,2.84e+03]; (1) of Qs0e1n3 </td><td>13                                 </td><td>37.44710                           </td><td>11.44710                           </td></tr>\n",
       "\t<tr><td>(7.3,19.3]; (2) of Qs0e1n2         </td><td>(48.5,50.2]; (2) of Qs0e1n3        </td><td>(2.84e+03,3.21e+03]; (2) of Qs0e1n3</td><td>14                                 </td><td>41.51814                           </td><td>13.51814                           </td></tr>\n",
       "\t<tr><td>(7.3,19.3]; (2) of Qs0e1n2         </td><td>(48.5,50.2]; (2) of Qs0e1n3        </td><td>(3.21e+03,5.49e+03]; (3) of Qs0e1n3</td><td>15                                 </td><td>43.87155                           </td><td>13.87155                           </td></tr>\n",
       "\t<tr><td>(7.3,19.3]; (2) of Qs0e1n2         </td><td>(50.2,58]; (3) of Qs0e1n3          </td><td>[1.4e+03,2.84e+03]; (1) of Qs0e1n3 </td><td>16                                 </td><td>43.75862                           </td><td>11.75862                           </td></tr>\n",
       "\t<tr><td>(7.3,19.3]; (2) of Qs0e1n2         </td><td>(50.2,58]; (3) of Qs0e1n3          </td><td>(2.84e+03,3.21e+03]; (2) of Qs0e1n3</td><td>17                                 </td><td>47.88902                           </td><td>13.88902                           </td></tr>\n",
       "\t<tr><td>(7.3,19.3]; (2) of Qs0e1n2         </td><td>(50.2,58]; (3) of Qs0e1n3          </td><td>(3.21e+03,5.49e+03]; (3) of Qs0e1n3</td><td>18                                 </td><td>50.31122                           </td><td>14.31122                           </td></tr>\n",
       "</tbody>\n",
       "</table>\n"
      ],
      "text/latex": [
       "\\begin{tabular}{r|llllll}\n",
       " wealthIdx\\_Qs0e1n2 & hgt0\\_Qs0e1n3 & wgt0\\_Qs0e1n3 & group.index & more\\_prot & prot\\\\\n",
       "\\hline\n",
       "\t {[}1,7.3{]}; (1) of Qs0e1n2             & {[}40.6,48.5{]}; (1) of Qs0e1n3         & {[}1.4e+03,2.84e+03{]}; (1) of Qs0e1n3  &  1                                      & 14.08242                                & 12.08242                               \\\\\n",
       "\t {[}1,7.3{]}; (1) of Qs0e1n2           & {[}40.6,48.5{]}; (1) of Qs0e1n3       & (2.84e+03,3.21e+03{]}; (2) of Qs0e1n3 &  2                                    & 15.89847                              & 11.89847                             \\\\\n",
       "\t {[}1,7.3{]}; (1) of Qs0e1n2           & {[}40.6,48.5{]}; (1) of Qs0e1n3       & (3.21e+03,5.49e+03{]}; (3) of Qs0e1n3 &  3                                    & 27.15484                              & 21.15484                             \\\\\n",
       "\t {[}1,7.3{]}; (1) of Qs0e1n2             & (48.5,50.2{]}; (2) of Qs0e1n3           & {[}1.4e+03,2.84e+03{]}; (1) of Qs0e1n3  &  4                                      & 18.90528                                & 10.90528                               \\\\\n",
       "\t {[}1,7.3{]}; (1) of Qs0e1n2           & (48.5,50.2{]}; (2) of Qs0e1n3         & (2.84e+03,3.21e+03{]}; (2) of Qs0e1n3 &  5                                    & 22.32498                              & 12.32498                             \\\\\n",
       "\t {[}1,7.3{]}; (1) of Qs0e1n2           & (48.5,50.2{]}; (2) of Qs0e1n3         & (3.21e+03,5.49e+03{]}; (3) of Qs0e1n3 &  6                                    & 28.63120                              & 16.63120                             \\\\\n",
       "\t {[}1,7.3{]}; (1) of Qs0e1n2             & (50.2,58{]}; (3) of Qs0e1n3             & {[}1.4e+03,2.84e+03{]}; (1) of Qs0e1n3  &  7                                      & 25.47638                                & 11.47638                               \\\\\n",
       "\t {[}1,7.3{]}; (1) of Qs0e1n2           & (50.2,58{]}; (3) of Qs0e1n3           & (2.84e+03,3.21e+03{]}; (2) of Qs0e1n3 &  8                                    & 28.02607                              & 12.02607                             \\\\\n",
       "\t {[}1,7.3{]}; (1) of Qs0e1n2           & (50.2,58{]}; (3) of Qs0e1n3           & (3.21e+03,5.49e+03{]}; (3) of Qs0e1n3 &  9                                    & 34.69356                              & 16.69356                             \\\\\n",
       "\t (7.3,19.3{]}; (2) of Qs0e1n2            & {[}40.6,48.5{]}; (1) of Qs0e1n3         & {[}1.4e+03,2.84e+03{]}; (1) of Qs0e1n3  & 10                                      & 30.73473                                & 10.73473                               \\\\\n",
       "\t (7.3,19.3{]}; (2) of Qs0e1n2          & {[}40.6,48.5{]}; (1) of Qs0e1n3       & (2.84e+03,3.21e+03{]}; (2) of Qs0e1n3 & 11                                    & 34.77107                              & 12.77107                             \\\\\n",
       "\t (7.3,19.3{]}; (2) of Qs0e1n2          & {[}40.6,48.5{]}; (1) of Qs0e1n3       & (3.21e+03,5.49e+03{]}; (3) of Qs0e1n3 & 12                                    & 37.35294                              & 13.35294                             \\\\\n",
       "\t (7.3,19.3{]}; (2) of Qs0e1n2            & (48.5,50.2{]}; (2) of Qs0e1n3           & {[}1.4e+03,2.84e+03{]}; (1) of Qs0e1n3  & 13                                      & 37.44710                                & 11.44710                               \\\\\n",
       "\t (7.3,19.3{]}; (2) of Qs0e1n2          & (48.5,50.2{]}; (2) of Qs0e1n3         & (2.84e+03,3.21e+03{]}; (2) of Qs0e1n3 & 14                                    & 41.51814                              & 13.51814                             \\\\\n",
       "\t (7.3,19.3{]}; (2) of Qs0e1n2          & (48.5,50.2{]}; (2) of Qs0e1n3         & (3.21e+03,5.49e+03{]}; (3) of Qs0e1n3 & 15                                    & 43.87155                              & 13.87155                             \\\\\n",
       "\t (7.3,19.3{]}; (2) of Qs0e1n2            & (50.2,58{]}; (3) of Qs0e1n3             & {[}1.4e+03,2.84e+03{]}; (1) of Qs0e1n3  & 16                                      & 43.75862                                & 11.75862                               \\\\\n",
       "\t (7.3,19.3{]}; (2) of Qs0e1n2          & (50.2,58{]}; (3) of Qs0e1n3           & (2.84e+03,3.21e+03{]}; (2) of Qs0e1n3 & 17                                    & 47.88902                              & 13.88902                             \\\\\n",
       "\t (7.3,19.3{]}; (2) of Qs0e1n2          & (50.2,58{]}; (3) of Qs0e1n3           & (3.21e+03,5.49e+03{]}; (3) of Qs0e1n3 & 18                                    & 50.31122                              & 14.31122                             \\\\\n",
       "\\end{tabular}\n"
      ],
      "text/markdown": [
       "\n",
       "| wealthIdx_Qs0e1n2 | hgt0_Qs0e1n3 | wgt0_Qs0e1n3 | group.index | more_prot | prot |\n",
       "|---|---|---|---|---|---|\n",
       "| [1,7.3]; (1) of Qs0e1n2             | [40.6,48.5]; (1) of Qs0e1n3         | [1.4e+03,2.84e+03]; (1) of Qs0e1n3  |  1                                  | 14.08242                            | 12.08242                            |\n",
       "| [1,7.3]; (1) of Qs0e1n2             | [40.6,48.5]; (1) of Qs0e1n3         | (2.84e+03,3.21e+03]; (2) of Qs0e1n3 |  2                                  | 15.89847                            | 11.89847                            |\n",
       "| [1,7.3]; (1) of Qs0e1n2             | [40.6,48.5]; (1) of Qs0e1n3         | (3.21e+03,5.49e+03]; (3) of Qs0e1n3 |  3                                  | 27.15484                            | 21.15484                            |\n",
       "| [1,7.3]; (1) of Qs0e1n2             | (48.5,50.2]; (2) of Qs0e1n3         | [1.4e+03,2.84e+03]; (1) of Qs0e1n3  |  4                                  | 18.90528                            | 10.90528                            |\n",
       "| [1,7.3]; (1) of Qs0e1n2             | (48.5,50.2]; (2) of Qs0e1n3         | (2.84e+03,3.21e+03]; (2) of Qs0e1n3 |  5                                  | 22.32498                            | 12.32498                            |\n",
       "| [1,7.3]; (1) of Qs0e1n2             | (48.5,50.2]; (2) of Qs0e1n3         | (3.21e+03,5.49e+03]; (3) of Qs0e1n3 |  6                                  | 28.63120                            | 16.63120                            |\n",
       "| [1,7.3]; (1) of Qs0e1n2             | (50.2,58]; (3) of Qs0e1n3           | [1.4e+03,2.84e+03]; (1) of Qs0e1n3  |  7                                  | 25.47638                            | 11.47638                            |\n",
       "| [1,7.3]; (1) of Qs0e1n2             | (50.2,58]; (3) of Qs0e1n3           | (2.84e+03,3.21e+03]; (2) of Qs0e1n3 |  8                                  | 28.02607                            | 12.02607                            |\n",
       "| [1,7.3]; (1) of Qs0e1n2             | (50.2,58]; (3) of Qs0e1n3           | (3.21e+03,5.49e+03]; (3) of Qs0e1n3 |  9                                  | 34.69356                            | 16.69356                            |\n",
       "| (7.3,19.3]; (2) of Qs0e1n2          | [40.6,48.5]; (1) of Qs0e1n3         | [1.4e+03,2.84e+03]; (1) of Qs0e1n3  | 10                                  | 30.73473                            | 10.73473                            |\n",
       "| (7.3,19.3]; (2) of Qs0e1n2          | [40.6,48.5]; (1) of Qs0e1n3         | (2.84e+03,3.21e+03]; (2) of Qs0e1n3 | 11                                  | 34.77107                            | 12.77107                            |\n",
       "| (7.3,19.3]; (2) of Qs0e1n2          | [40.6,48.5]; (1) of Qs0e1n3         | (3.21e+03,5.49e+03]; (3) of Qs0e1n3 | 12                                  | 37.35294                            | 13.35294                            |\n",
       "| (7.3,19.3]; (2) of Qs0e1n2          | (48.5,50.2]; (2) of Qs0e1n3         | [1.4e+03,2.84e+03]; (1) of Qs0e1n3  | 13                                  | 37.44710                            | 11.44710                            |\n",
       "| (7.3,19.3]; (2) of Qs0e1n2          | (48.5,50.2]; (2) of Qs0e1n3         | (2.84e+03,3.21e+03]; (2) of Qs0e1n3 | 14                                  | 41.51814                            | 13.51814                            |\n",
       "| (7.3,19.3]; (2) of Qs0e1n2          | (48.5,50.2]; (2) of Qs0e1n3         | (3.21e+03,5.49e+03]; (3) of Qs0e1n3 | 15                                  | 43.87155                            | 13.87155                            |\n",
       "| (7.3,19.3]; (2) of Qs0e1n2          | (50.2,58]; (3) of Qs0e1n3           | [1.4e+03,2.84e+03]; (1) of Qs0e1n3  | 16                                  | 43.75862                            | 11.75862                            |\n",
       "| (7.3,19.3]; (2) of Qs0e1n2          | (50.2,58]; (3) of Qs0e1n3           | (2.84e+03,3.21e+03]; (2) of Qs0e1n3 | 17                                  | 47.88902                            | 13.88902                            |\n",
       "| (7.3,19.3]; (2) of Qs0e1n2          | (50.2,58]; (3) of Qs0e1n3           | (3.21e+03,5.49e+03]; (3) of Qs0e1n3 | 18                                  | 50.31122                            | 14.31122                            |\n",
       "\n"
      ],
      "text/plain": [
       "   wealthIdx_Qs0e1n2          hgt0_Qs0e1n3               \n",
       "1  [1,7.3]; (1) of Qs0e1n2    [40.6,48.5]; (1) of Qs0e1n3\n",
       "2  [1,7.3]; (1) of Qs0e1n2    [40.6,48.5]; (1) of Qs0e1n3\n",
       "3  [1,7.3]; (1) of Qs0e1n2    [40.6,48.5]; (1) of Qs0e1n3\n",
       "4  [1,7.3]; (1) of Qs0e1n2    (48.5,50.2]; (2) of Qs0e1n3\n",
       "5  [1,7.3]; (1) of Qs0e1n2    (48.5,50.2]; (2) of Qs0e1n3\n",
       "6  [1,7.3]; (1) of Qs0e1n2    (48.5,50.2]; (2) of Qs0e1n3\n",
       "7  [1,7.3]; (1) of Qs0e1n2    (50.2,58]; (3) of Qs0e1n3  \n",
       "8  [1,7.3]; (1) of Qs0e1n2    (50.2,58]; (3) of Qs0e1n3  \n",
       "9  [1,7.3]; (1) of Qs0e1n2    (50.2,58]; (3) of Qs0e1n3  \n",
       "10 (7.3,19.3]; (2) of Qs0e1n2 [40.6,48.5]; (1) of Qs0e1n3\n",
       "11 (7.3,19.3]; (2) of Qs0e1n2 [40.6,48.5]; (1) of Qs0e1n3\n",
       "12 (7.3,19.3]; (2) of Qs0e1n2 [40.6,48.5]; (1) of Qs0e1n3\n",
       "13 (7.3,19.3]; (2) of Qs0e1n2 (48.5,50.2]; (2) of Qs0e1n3\n",
       "14 (7.3,19.3]; (2) of Qs0e1n2 (48.5,50.2]; (2) of Qs0e1n3\n",
       "15 (7.3,19.3]; (2) of Qs0e1n2 (48.5,50.2]; (2) of Qs0e1n3\n",
       "16 (7.3,19.3]; (2) of Qs0e1n2 (50.2,58]; (3) of Qs0e1n3  \n",
       "17 (7.3,19.3]; (2) of Qs0e1n2 (50.2,58]; (3) of Qs0e1n3  \n",
       "18 (7.3,19.3]; (2) of Qs0e1n2 (50.2,58]; (3) of Qs0e1n3  \n",
       "   wgt0_Qs0e1n3                        group.index more_prot prot    \n",
       "1  [1.4e+03,2.84e+03]; (1) of Qs0e1n3   1          14.08242  12.08242\n",
       "2  (2.84e+03,3.21e+03]; (2) of Qs0e1n3  2          15.89847  11.89847\n",
       "3  (3.21e+03,5.49e+03]; (3) of Qs0e1n3  3          27.15484  21.15484\n",
       "4  [1.4e+03,2.84e+03]; (1) of Qs0e1n3   4          18.90528  10.90528\n",
       "5  (2.84e+03,3.21e+03]; (2) of Qs0e1n3  5          22.32498  12.32498\n",
       "6  (3.21e+03,5.49e+03]; (3) of Qs0e1n3  6          28.63120  16.63120\n",
       "7  [1.4e+03,2.84e+03]; (1) of Qs0e1n3   7          25.47638  11.47638\n",
       "8  (2.84e+03,3.21e+03]; (2) of Qs0e1n3  8          28.02607  12.02607\n",
       "9  (3.21e+03,5.49e+03]; (3) of Qs0e1n3  9          34.69356  16.69356\n",
       "10 [1.4e+03,2.84e+03]; (1) of Qs0e1n3  10          30.73473  10.73473\n",
       "11 (2.84e+03,3.21e+03]; (2) of Qs0e1n3 11          34.77107  12.77107\n",
       "12 (3.21e+03,5.49e+03]; (3) of Qs0e1n3 12          37.35294  13.35294\n",
       "13 [1.4e+03,2.84e+03]; (1) of Qs0e1n3  13          37.44710  11.44710\n",
       "14 (2.84e+03,3.21e+03]; (2) of Qs0e1n3 14          41.51814  13.51814\n",
       "15 (3.21e+03,5.49e+03]; (3) of Qs0e1n3 15          43.87155  13.87155\n",
       "16 [1.4e+03,2.84e+03]; (1) of Qs0e1n3  16          43.75862  11.75862\n",
       "17 (2.84e+03,3.21e+03]; (2) of Qs0e1n3 17          47.88902  13.88902\n",
       "18 (3.21e+03,5.49e+03]; (3) of Qs0e1n3 18          50.31122  14.31122"
      ]
     },
     "metadata": {},
     "output_type": "display_data"
    }
   ],
   "source": [
    "# arr.group.idx.subsidy <- arr.group.idx*2 - ((arr.group.idx)^2)*0.01\n",
    "arr.group.idx.subsidy <- arr.group.idx*2 \n",
    "df.with.cut.quant.all %>% \n",
    "        mutate(more_prot = prot + arr.group.idx.subsidy[!!sym(var.qjnt.grp.idx)]) %>% \n",
    "        group_by(!!!syms(vars.quantile.cut.all), !!sym(var.qjnt.grp.idx))  %>% \n",
    "        summarise_at(c('more_prot', 'prot'), funs(mean(., na.rm=TRUE)))"
   ]
  }
 ],
 "metadata": {
  "kernelspec": {
   "display_name": "R",
   "language": "R",
   "name": "ir"
  },
  "language_info": {
   "codemirror_mode": "r",
   "file_extension": ".r",
   "mimetype": "text/x-r-source",
   "name": "R",
   "pygments_lexer": "r",
   "version": "3.5.1"
  }
 },
 "nbformat": 4,
 "nbformat_minor": 2
}
