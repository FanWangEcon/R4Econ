{
 "cells": [
  {
   "cell_type": "markdown",
   "metadata": {},
   "source": [
    "Back to **[Fan](https://fanwangecon.github.io/)**'s R4Econ Homepage **[Table of Content](https://fanwangecon.github.io/R4Econ/)**\n",
    "\n",
    "# Generate Joint Quantiles from Multiple Continuous Variables as a Categorical Variable with Linear Index\n",
    "\n",
    "There are multiple or a single continuous variables. Find which quantile each observation belongs to for each of the variables. Then also generate a joint/interaction variable of all combinations of quantiles from different variables.\n",
    "\n",
    "The program has these features:\n",
    "\n",
    "1. Quantiles breaks are generated based on group_by characteristics, meaning quantiles for individual level characteristics when data is panel\n",
    "2. Quantiles variables apply to full panel at within-group observation levels.\n",
    "3. Robust to non-unique breaks for quantiles (non-unique grouped together)\n",
    "4. Quantile categories have detailed labeling (specifying which non-unique groupings belong to quantile)"
   ]
  },
  {
   "cell_type": "markdown",
   "metadata": {},
   "source": [
    "## Program"
   ]
  },
  {
   "cell_type": "markdown",
   "metadata": {},
   "source": [
    "### Support Functions"
   ]
  },
  {
   "cell_type": "code",
   "execution_count": 15,
   "metadata": {},
   "outputs": [],
   "source": [
    "# Quantiles for any variable\n",
    "gen_quantiles <- function(var, df, prob=c(0.25, 0.50, 0.75)) {\n",
    "    enframe(quantile(as.numeric(df[[var]]), prob, na.rm=TRUE), 'quant.perc', var) \n",
    "}\n",
    "# Support Functions for Variable Suffix \n",
    "f_Q_suffix <- function(seq.quantiles) {\n",
    "    quantile.suffix <- paste0('Qs', min(seq.quantiles),\n",
    "                              'e', max(seq.quantiles),\n",
    "                              'n', (length(seq.quantiles)-1))\n",
    "}\n",
    "# Support Functions for Quantile Labeling\n",
    "f_Q_label <- function(arr.quantiles, \n",
    "                      arr.sort.unique.quantile,\n",
    "                      seq.quantiles) {\n",
    "    paste0('(', \n",
    "           paste0(which(arr.quantiles %in% arr.sort.unique.quantile), collapse=','), \n",
    "           ') of ', f_Q_suffix(seq.quantiles)) \n",
    "}\n",
    "# Generate New Variable Names with Quantile Suffix\n",
    "f_var_rename <- function(name, seq.quantiles) {\n",
    "    quantile.suffix <- paste0('_', f_Q_suffix(seq.quantiles))\n",
    "    return(sub('_q', quantile.suffix, name))\n",
    "}"
   ]
  },
  {
   "cell_type": "markdown",
   "metadata": {},
   "source": [
    "### Data Slicing and Quantile Generation\n",
    "\n",
    "- Function 1: generate quantiles based on group-specific characteristics. the groups could be at the panel observation level as well. "
   ]
  },
  {
   "cell_type": "code",
   "execution_count": 16,
   "metadata": {},
   "outputs": [],
   "source": [
    "# First Step, given groups, generate quantiles based on group characteristics\n",
    "# vars.cts2quantile <- c('wealthIdx', 'hgt0', 'wgt0')\n",
    "# seq.quantiles <- c(0, 0.3333, 0.6666, 1.0)\n",
    "# vars.group_by <- c('indi.id')\n",
    "# vars.arrange <- c('indi.id', 'svymthRound')\n",
    "# vars.continuous <- c('wealthIdx', 'hgt0', 'wgt0')\n",
    "df_sliced_quantiles <- function(df, vars.cts2quantile, seq.quantiles, \n",
    "                                vars.group_by, vars.arrange) {\n",
    "    \n",
    "    # Slicing data\n",
    "    df.grp.L1 <- df %>% group_by(!!!syms(vars.group_by)) %>% arrange(!!!syms(vars.arrange)) %>% slice(1L) %>% ungroup()\n",
    "    \n",
    "    # Quantiles based on sliced data\n",
    "    df.sliced.quantiles <- lapply(vars.cts2quantile, gen_quantiles, df=df.grp.L1, prob=seq.quantiles) %>% reduce(full_join)\n",
    "    \n",
    "    return(list(df.sliced.quantiles=df.sliced.quantiles, \n",
    "                df.grp.L1=df.grp.L1))\n",
    "}"
   ]
  },
  {
   "cell_type": "markdown",
   "metadata": {},
   "source": [
    "## Data Cutting\n",
    "\n",
    "- Function 2: cut groups for full panel dataframe based on group-specific characteristics quantiles."
   ]
  },
  {
   "cell_type": "code",
   "execution_count": 17,
   "metadata": {},
   "outputs": [],
   "source": [
    "# Cutting Function, Cut Continuous Variables into Quantiles with labeing\n",
    "f_cut <- function(var, df.sliced.quantiles, include.lowest=TRUE, fan.labels=TRUE, print=FALSE) {\n",
    "    \n",
    "    # unparsed string variable name\n",
    "    var.str <- substitute(var)\n",
    "    \n",
    "    # Breaks\n",
    "    arr.quantiles <- df.sliced.quantiles[[var.str]]\n",
    "    arr.sort.unique.quantiles <- sort(unique(arr.quantiles))\n",
    "    if (print) {\n",
    "        print(arr.sort.unique.quantiles)\n",
    "    }\n",
    "    \n",
    "    # Regular cutting With Standard Labels\n",
    "    # TRUE, means the lowest group has closed bracket left and right \n",
    "    var.quantile <- cut(var, breaks=arr.sort.unique.quantiles, include.lowest=include.lowest)\n",
    "    \n",
    "    # Use my custom labels\n",
    "    if (fan.labels) {\n",
    "        levels.suffix <- lapply(arr.sort.unique.quantiles[1:(length(arr.sort.unique.quantiles)-1)],\n",
    "                                f_Q_label,\n",
    "                                arr.quantiles=arr.quantiles,\n",
    "                                seq.quantiles=seq.quantiles)\n",
    "        if (print) {\n",
    "            print(levels.suffix)\n",
    "        }\n",
    "        levels(var.quantile) <- paste0(levels(var.quantile), '; ', levels.suffix)\n",
    "    }\n",
    "    \n",
    "    # Return\n",
    "    return(var.quantile)\n",
    "}"
   ]
  },
  {
   "cell_type": "code",
   "execution_count": 18,
   "metadata": {},
   "outputs": [],
   "source": [
    "# Combo Quantile Function\n",
    "# vars.cts2quantile <- c('wealthIdx', 'hgt0', 'wgt0')\n",
    "# seq.quantiles <- c(0, 0.3333, 0.6666, 1.0)\n",
    "# vars.group_by <- c('indi.id')\n",
    "# vars.arrange <- c('indi.id', 'svymthRound')\n",
    "# vars.continuous <- c('wealthIdx', 'hgt0', 'wgt0')\n",
    "df_cut_by_sliced_quantiles <- function(df, vars.cts2quantile, seq.quantiles, \n",
    "                                       vars.group_by, vars.arrange) {\n",
    "    \n",
    "    # First Step Slicing\n",
    "    df.sliced <- df_sliced_quantiles(df, vars.cts2quantile, seq.quantiles, vars.group_by, vars.arrange)\n",
    "\n",
    "    # Second Step Generate Categorical Variables of Quantiles\n",
    "    df.with.cut.quant <- df %>% mutate_at(vars.cts2quantile,\n",
    "                               funs(q=f_cut(., df.sliced$df.sliced.quantiles, \n",
    "                                           include.lowest=TRUE, fan.labels=TRUE))) %>% \n",
    "                rename_at(vars(contains('_q')), \n",
    "                          funs(f_var_rename(., seq.quantiles=seq.quantiles)))\n",
    "    # Return\n",
    "    return(list(df.with.cut.quant = df.with.cut.quant, \n",
    "                df.sliced.quantiles=df.sliced$df.sliced.quantiles, \n",
    "                df.grp.L1=df.sliced$df.grp.L1))    \n",
    "    \n",
    "}"
   ]
  },
  {
   "cell_type": "markdown",
   "metadata": {},
   "source": [
    "## Use Program"
   ]
  },
  {
   "cell_type": "markdown",
   "metadata": {},
   "source": [
    "### Load Data"
   ]
  },
  {
   "cell_type": "code",
   "execution_count": 19,
   "metadata": {},
   "outputs": [
    {
     "name": "stderr",
     "output_type": "stream",
     "text": [
      "Parsed with column specification:\n",
      "cols(\n",
      "  S.country = col_character(),\n",
      "  vil.id = col_double(),\n",
      "  indi.id = col_double(),\n",
      "  sex = col_character(),\n",
      "  svymthRound = col_double(),\n",
      "  momEdu = col_double(),\n",
      "  wealthIdx = col_double(),\n",
      "  hgt = col_double(),\n",
      "  wgt = col_double(),\n",
      "  hgt0 = col_double(),\n",
      "  wgt0 = col_double(),\n",
      "  prot = col_double(),\n",
      "  cal = col_double(),\n",
      "  p.A.prot = col_double(),\n",
      "  p.A.nProt = col_double()\n",
      ")\n"
     ]
    }
   ],
   "source": [
    "# Library\n",
    "library(tidyverse)\n",
    "\n",
    "# Load Sample Data\n",
    "setwd('C:/Users/fan/R4Econ/_data/')\n",
    "df <- read_csv('height_weight.csv')"
   ]
  },
  {
   "cell_type": "markdown",
   "metadata": {},
   "source": [
    "## Line by Line\n",
    "\n",
    "The idea of the function is to generate quantiles levels first, and then use those to generate the categories based on quantiles. Rather than doing this in one step. These are done in two steps, to increase clarity in the quantiles used for quantile category generation. And a dataframe with these quantiles are saved as a separate output of the function."
   ]
  },
  {
   "cell_type": "markdown",
   "metadata": {},
   "source": [
    "### Dataframe of Variables' Group-by Level Quantiles\n",
    "\n",
    "Quantiles from Different Variables. Note that these variables are specific to the individual, not individual/month. So we need to first slick the data, so that we only get the first rows. \n",
    "\n",
    "Do this in several steps to clarify group_by level. No speed loss. "
   ]
  },
  {
   "cell_type": "code",
   "execution_count": 20,
   "metadata": {},
   "outputs": [
    {
     "name": "stderr",
     "output_type": "stream",
     "text": [
      "Joining, by = \"quant.perc\"\n",
      "Joining, by = \"quant.perc\"\n"
     ]
    }
   ],
   "source": [
    "# Selected Variables, many Percentiles\n",
    "vars.group_by <- c('indi.id')\n",
    "vars.arrange <- c('indi.id', 'svymthRound')\n",
    "vars.cts2quantile <- c('wealthIdx', 'hgt0', 'wgt0')\n",
    "seq.quantiles <- c(0, 0.3333, 0.6666, 1.0)\n",
    "df.sliced <- df_sliced_quantiles(df, vars.cts2quantile, seq.quantiles, vars.group_by, vars.arrange)\n",
    "df.sliced.quantiles <- df.sliced$df.sliced.quantiles\n",
    "df.grp.L1 <- df.sliced$df.grp.L1"
   ]
  },
  {
   "cell_type": "code",
   "execution_count": 21,
   "metadata": {},
   "outputs": [
    {
     "data": {
      "text/html": [
       "<table>\n",
       "<thead><tr><th scope=col>quant.perc</th><th scope=col>wealthIdx</th><th scope=col>hgt0</th><th scope=col>wgt0</th></tr></thead>\n",
       "<tbody>\n",
       "\t<tr><td>0%      </td><td> 0.5    </td><td>40.9    </td><td>1410.200</td></tr>\n",
       "\t<tr><td>33.33%  </td><td> 0.5    </td><td>48.6    </td><td>2885.528</td></tr>\n",
       "\t<tr><td>66.66%  </td><td> 3.0    </td><td>50.3    </td><td>3221.898</td></tr>\n",
       "\t<tr><td>100%    </td><td>14.0    </td><td>59.0    </td><td>5180.900</td></tr>\n",
       "</tbody>\n",
       "</table>\n"
      ],
      "text/latex": [
       "\\begin{tabular}{r|llll}\n",
       " quant.perc & wealthIdx & hgt0 & wgt0\\\\\n",
       "\\hline\n",
       "\t 0\\%     &  0.5     & 40.9     & 1410.200\\\\\n",
       "\t 33.33\\% &  0.5     & 48.6     & 2885.528\\\\\n",
       "\t 66.66\\% &  3.0     & 50.3     & 3221.898\\\\\n",
       "\t 100\\%   & 14.0     & 59.0     & 5180.900\\\\\n",
       "\\end{tabular}\n"
      ],
      "text/markdown": [
       "\n",
       "| quant.perc | wealthIdx | hgt0 | wgt0 |\n",
       "|---|---|---|---|\n",
       "| 0%       |  0.5     | 40.9     | 1410.200 |\n",
       "| 33.33%   |  0.5     | 48.6     | 2885.528 |\n",
       "| 66.66%   |  3.0     | 50.3     | 3221.898 |\n",
       "| 100%     | 14.0     | 59.0     | 5180.900 |\n",
       "\n"
      ],
      "text/plain": [
       "  quant.perc wealthIdx hgt0 wgt0    \n",
       "1 0%          0.5      40.9 1410.200\n",
       "2 33.33%      0.5      48.6 2885.528\n",
       "3 66.66%      3.0      50.3 3221.898\n",
       "4 100%       14.0      59.0 5180.900"
      ]
     },
     "metadata": {},
     "output_type": "display_data"
    }
   ],
   "source": [
    "df.sliced.quantiles"
   ]
  },
  {
   "cell_type": "code",
   "execution_count": 22,
   "metadata": {},
   "outputs": [
    {
     "name": "stderr",
     "output_type": "stream",
     "text": [
      "Warning message in quantile(as.numeric(df[[var]]), prob, na.rm = TRUE):\n",
      "\"NAs introduced by coercion\"Warning message in quantile(as.numeric(df[[var]]), prob, na.rm = TRUE):\n",
      "\"NAs introduced by coercion\""
     ]
    },
    {
     "data": {
      "text/html": [
       "<table>\n",
       "<thead><tr><th scope=col>quant.perc</th><th scope=col>S.country</th><th scope=col>vil.id</th><th scope=col>indi.id</th><th scope=col>sex</th><th scope=col>svymthRound</th><th scope=col>momEdu</th><th scope=col>wealthIdx</th><th scope=col>hgt</th><th scope=col>wgt</th><th scope=col>hgt0</th><th scope=col>wgt0</th><th scope=col>prot</th><th scope=col>cal</th><th scope=col>p.A.prot</th><th scope=col>p.A.nProt</th></tr></thead>\n",
       "<tbody>\n",
       "\t<tr><td>10%    </td><td>NA     </td><td> 3     </td><td> 203.2 </td><td>NA     </td><td>0      </td><td> 0.50  </td><td>0.5    </td><td>46.3   </td><td>1463.92</td><td>46.6   </td><td>2508.83</td><td>0.5    </td><td> 0.50  </td><td>  29.30</td><td>  0.50 </td></tr>\n",
       "\t<tr><td>20%    </td><td>NA     </td><td> 4     </td><td> 405.4 </td><td>NA     </td><td>0      </td><td> 0.50  </td><td>0.5    </td><td>47.6   </td><td>1959.00</td><td>47.7   </td><td>2700.78</td><td>0.5    </td><td> 0.50  </td><td> 201.22</td><td>  0.50 </td></tr>\n",
       "\t<tr><td>30%    </td><td>NA     </td><td> 6     </td><td> 607.6 </td><td>NA     </td><td>0      </td><td> 0.50  </td><td>0.5    </td><td>48.3   </td><td>2336.59</td><td>48.4   </td><td>2830.69</td><td>0.5    </td><td> 0.50  </td><td> 727.55</td><td>  5.39 </td></tr>\n",
       "\t<tr><td>40%    </td><td>NA     </td><td> 8     </td><td> 809.8 </td><td>NA     </td><td>0      </td><td> 4.10  </td><td>0.9    </td><td>48.9   </td><td>2751.72</td><td>48.9   </td><td>2954.12</td><td>0.5    </td><td> 0.50  </td><td>1021.64</td><td> 45.46 </td></tr>\n",
       "\t<tr><td>50%    </td><td>NA     </td><td> 9     </td><td>1012.0 </td><td>NA     </td><td>0      </td><td> 7.60  </td><td>1.9    </td><td>49.4   </td><td>3146.40</td><td>49.4   </td><td>3052.00</td><td>0.5    </td><td> 0.50  </td><td>1261.30</td><td>121.85 </td></tr>\n",
       "\t<tr><td>60%    </td><td>NA     </td><td>12     </td><td>1214.2 </td><td>NA     </td><td>0      </td><td>11.92  </td><td>2.8    </td><td>50.0   </td><td>3496.64</td><td>50.0   </td><td>3157.76</td><td>0.5    </td><td> 4.12  </td><td>1577.08</td><td>228.06 </td></tr>\n",
       "\t<tr><td>70%    </td><td>NA     </td><td>14     </td><td>1416.4 </td><td>NA     </td><td>0      </td><td>16.00  </td><td>3.1    </td><td>50.7   </td><td>3846.83</td><td>50.5   </td><td>3282.13</td><td>0.7    </td><td> 8.30  </td><td>2395.17</td><td>260.70 </td></tr>\n",
       "\t<tr><td>80%    </td><td>NA     </td><td>17     </td><td>1618.6 </td><td>NA     </td><td>0      </td><td>20.00  </td><td>4.1    </td><td>51.4   </td><td>4313.78</td><td>51.1   </td><td>3446.40</td><td>1.1    </td><td>12.10  </td><td>4285.28</td><td>293.06 </td></tr>\n",
       "\t<tr><td>90%    </td><td>NA     </td><td>26     </td><td>1820.8 </td><td>NA     </td><td>0      </td><td>23.78  </td><td>6.0    </td><td>52.4   </td><td>4719.33</td><td>52.0   </td><td>3698.51</td><td>1.5    </td><td>16.20  </td><td>9019.84</td><td>368.14 </td></tr>\n",
       "</tbody>\n",
       "</table>\n"
      ],
      "text/latex": [
       "\\begin{tabular}{r|llllllllllllllll}\n",
       " quant.perc & S.country & vil.id & indi.id & sex & svymthRound & momEdu & wealthIdx & hgt & wgt & hgt0 & wgt0 & prot & cal & p.A.prot & p.A.nProt\\\\\n",
       "\\hline\n",
       "\t 10\\%   & NA      &  3      &  203.2  & NA      & 0       &  0.50   & 0.5     & 46.3    & 1463.92 & 46.6    & 2508.83 & 0.5     &  0.50   &   29.30 &   0.50 \\\\\n",
       "\t 20\\%   & NA      &  4      &  405.4  & NA      & 0       &  0.50   & 0.5     & 47.6    & 1959.00 & 47.7    & 2700.78 & 0.5     &  0.50   &  201.22 &   0.50 \\\\\n",
       "\t 30\\%   & NA      &  6      &  607.6  & NA      & 0       &  0.50   & 0.5     & 48.3    & 2336.59 & 48.4    & 2830.69 & 0.5     &  0.50   &  727.55 &   5.39 \\\\\n",
       "\t 40\\%   & NA      &  8      &  809.8  & NA      & 0       &  4.10   & 0.9     & 48.9    & 2751.72 & 48.9    & 2954.12 & 0.5     &  0.50   & 1021.64 &  45.46 \\\\\n",
       "\t 50\\%   & NA      &  9      & 1012.0  & NA      & 0       &  7.60   & 1.9     & 49.4    & 3146.40 & 49.4    & 3052.00 & 0.5     &  0.50   & 1261.30 & 121.85 \\\\\n",
       "\t 60\\%   & NA      & 12      & 1214.2  & NA      & 0       & 11.92   & 2.8     & 50.0    & 3496.64 & 50.0    & 3157.76 & 0.5     &  4.12   & 1577.08 & 228.06 \\\\\n",
       "\t 70\\%   & NA      & 14      & 1416.4  & NA      & 0       & 16.00   & 3.1     & 50.7    & 3846.83 & 50.5    & 3282.13 & 0.7     &  8.30   & 2395.17 & 260.70 \\\\\n",
       "\t 80\\%   & NA      & 17      & 1618.6  & NA      & 0       & 20.00   & 4.1     & 51.4    & 4313.78 & 51.1    & 3446.40 & 1.1     & 12.10   & 4285.28 & 293.06 \\\\\n",
       "\t 90\\%   & NA      & 26      & 1820.8  & NA      & 0       & 23.78   & 6.0     & 52.4    & 4719.33 & 52.0    & 3698.51 & 1.5     & 16.20   & 9019.84 & 368.14 \\\\\n",
       "\\end{tabular}\n"
      ],
      "text/markdown": [
       "\n",
       "| quant.perc | S.country | vil.id | indi.id | sex | svymthRound | momEdu | wealthIdx | hgt | wgt | hgt0 | wgt0 | prot | cal | p.A.prot | p.A.nProt |\n",
       "|---|---|---|---|---|---|---|---|---|---|---|---|---|---|---|---|\n",
       "| 10%     | NA      |  3      |  203.2  | NA      | 0       |  0.50   | 0.5     | 46.3    | 1463.92 | 46.6    | 2508.83 | 0.5     |  0.50   |   29.30 |   0.50  |\n",
       "| 20%     | NA      |  4      |  405.4  | NA      | 0       |  0.50   | 0.5     | 47.6    | 1959.00 | 47.7    | 2700.78 | 0.5     |  0.50   |  201.22 |   0.50  |\n",
       "| 30%     | NA      |  6      |  607.6  | NA      | 0       |  0.50   | 0.5     | 48.3    | 2336.59 | 48.4    | 2830.69 | 0.5     |  0.50   |  727.55 |   5.39  |\n",
       "| 40%     | NA      |  8      |  809.8  | NA      | 0       |  4.10   | 0.9     | 48.9    | 2751.72 | 48.9    | 2954.12 | 0.5     |  0.50   | 1021.64 |  45.46  |\n",
       "| 50%     | NA      |  9      | 1012.0  | NA      | 0       |  7.60   | 1.9     | 49.4    | 3146.40 | 49.4    | 3052.00 | 0.5     |  0.50   | 1261.30 | 121.85  |\n",
       "| 60%     | NA      | 12      | 1214.2  | NA      | 0       | 11.92   | 2.8     | 50.0    | 3496.64 | 50.0    | 3157.76 | 0.5     |  4.12   | 1577.08 | 228.06  |\n",
       "| 70%     | NA      | 14      | 1416.4  | NA      | 0       | 16.00   | 3.1     | 50.7    | 3846.83 | 50.5    | 3282.13 | 0.7     |  8.30   | 2395.17 | 260.70  |\n",
       "| 80%     | NA      | 17      | 1618.6  | NA      | 0       | 20.00   | 4.1     | 51.4    | 4313.78 | 51.1    | 3446.40 | 1.1     | 12.10   | 4285.28 | 293.06  |\n",
       "| 90%     | NA      | 26      | 1820.8  | NA      | 0       | 23.78   | 6.0     | 52.4    | 4719.33 | 52.0    | 3698.51 | 1.5     | 16.20   | 9019.84 | 368.14  |\n",
       "\n"
      ],
      "text/plain": [
       "  quant.perc S.country vil.id indi.id sex svymthRound momEdu wealthIdx hgt \n",
       "1 10%        NA         3      203.2  NA  0            0.50  0.5       46.3\n",
       "2 20%        NA         4      405.4  NA  0            0.50  0.5       47.6\n",
       "3 30%        NA         6      607.6  NA  0            0.50  0.5       48.3\n",
       "4 40%        NA         8      809.8  NA  0            4.10  0.9       48.9\n",
       "5 50%        NA         9     1012.0  NA  0            7.60  1.9       49.4\n",
       "6 60%        NA        12     1214.2  NA  0           11.92  2.8       50.0\n",
       "7 70%        NA        14     1416.4  NA  0           16.00  3.1       50.7\n",
       "8 80%        NA        17     1618.6  NA  0           20.00  4.1       51.4\n",
       "9 90%        NA        26     1820.8  NA  0           23.78  6.0       52.4\n",
       "  wgt     hgt0 wgt0    prot cal   p.A.prot p.A.nProt\n",
       "1 1463.92 46.6 2508.83 0.5   0.50   29.30    0.50   \n",
       "2 1959.00 47.7 2700.78 0.5   0.50  201.22    0.50   \n",
       "3 2336.59 48.4 2830.69 0.5   0.50  727.55    5.39   \n",
       "4 2751.72 48.9 2954.12 0.5   0.50 1021.64   45.46   \n",
       "5 3146.40 49.4 3052.00 0.5   0.50 1261.30  121.85   \n",
       "6 3496.64 50.0 3157.76 0.5   4.12 1577.08  228.06   \n",
       "7 3846.83 50.5 3282.13 0.7   8.30 2395.17  260.70   \n",
       "8 4313.78 51.1 3446.40 1.1  12.10 4285.28  293.06   \n",
       "9 4719.33 52.0 3698.51 1.5  16.20 9019.84  368.14   "
      ]
     },
     "metadata": {},
     "output_type": "display_data"
    }
   ],
   "source": [
    "# Quantiles all Variables\n",
    "suppressMessages(lapply(names(df), gen_quantiles, df=df.grp.L1, prob=seq(0.1,0.9,0.10)) %>% reduce(full_join))"
   ]
  },
  {
   "cell_type": "markdown",
   "metadata": {},
   "source": [
    "### Cut Quantile Categorical Variables\n",
    "\n",
    "Using the Quantiles we have generate, cut the continuous variables to generate categorical quantile variables in the full dataframe.\n",
    "\n",
    "Note that we can only cut based on unique breaks, but sometimes quantile break-points are the same if some values are often observed, and also if there are too few observations with respect to quantile groups. \n",
    "\n",
    "To resolve this issue, we only look at unique quantiles. \n",
    "\n",
    "We need several support Functions:\n",
    "1. support functions to generate suffix for quantile variables based on quantile cuts\n",
    "2. support for labeling variables of resulting quantiles beyond bracketing"
   ]
  },
  {
   "cell_type": "code",
   "execution_count": 23,
   "metadata": {},
   "outputs": [
    {
     "data": {
      "text/html": [
       "<ol class=list-inline>\n",
       "\t<li>0.5</li>\n",
       "\t<li>0.5</li>\n",
       "\t<li>3</li>\n",
       "\t<li>14</li>\n",
       "</ol>\n"
      ],
      "text/latex": [
       "\\begin{enumerate*}\n",
       "\\item 0.5\n",
       "\\item 0.5\n",
       "\\item 3\n",
       "\\item 14\n",
       "\\end{enumerate*}\n"
      ],
      "text/markdown": [
       "1. 0.5\n",
       "2. 0.5\n",
       "3. 3\n",
       "4. 14\n",
       "\n",
       "\n"
      ],
      "text/plain": [
       "[1]  0.5  0.5  3.0 14.0"
      ]
     },
     "metadata": {},
     "output_type": "display_data"
    },
    {
     "data": {
      "text/html": [
       "<ol class=list-inline>\n",
       "\t<li>0.5</li>\n",
       "\t<li>3</li>\n",
       "\t<li>14</li>\n",
       "</ol>\n"
      ],
      "text/latex": [
       "\\begin{enumerate*}\n",
       "\\item 0.5\n",
       "\\item 3\n",
       "\\item 14\n",
       "\\end{enumerate*}\n"
      ],
      "text/markdown": [
       "1. 0.5\n",
       "2. 3\n",
       "3. 14\n",
       "\n",
       "\n"
      ],
      "text/plain": [
       "[1]  0.5  3.0 14.0"
      ]
     },
     "metadata": {},
     "output_type": "display_data"
    },
    {
     "data": {
      "text/html": [
       "'(1,2) of Qs0e1n3'"
      ],
      "text/latex": [
       "'(1,2) of Qs0e1n3'"
      ],
      "text/markdown": [
       "'(1,2) of Qs0e1n3'"
      ],
      "text/plain": [
       "[1] \"(1,2) of Qs0e1n3\""
      ]
     },
     "metadata": {},
     "output_type": "display_data"
    },
    {
     "data": {
      "text/html": [
       "'(3) of Qs0e1n3'"
      ],
      "text/latex": [
       "'(3) of Qs0e1n3'"
      ],
      "text/markdown": [
       "'(3) of Qs0e1n3'"
      ],
      "text/plain": [
       "[1] \"(3) of Qs0e1n3\""
      ]
     },
     "metadata": {},
     "output_type": "display_data"
    },
    {
     "data": {
      "text/html": [
       "<ol>\n",
       "\t<li>'(1,2) of Qs0e1n3'</li>\n",
       "\t<li>'(3) of Qs0e1n3'</li>\n",
       "</ol>\n"
      ],
      "text/latex": [
       "\\begin{enumerate}\n",
       "\\item '(1,2) of Qs0e1n3'\n",
       "\\item '(3) of Qs0e1n3'\n",
       "\\end{enumerate}\n"
      ],
      "text/markdown": [
       "1. '(1,2) of Qs0e1n3'\n",
       "2. '(3) of Qs0e1n3'\n",
       "\n",
       "\n"
      ],
      "text/plain": [
       "[[1]]\n",
       "[1] \"(1,2) of Qs0e1n3\"\n",
       "\n",
       "[[2]]\n",
       "[1] \"(3) of Qs0e1n3\"\n"
      ]
     },
     "metadata": {},
     "output_type": "display_data"
    }
   ],
   "source": [
    "# Function Testing\n",
    "arr.quantiles <- df.sliced.quantiles[[substitute('wealthIdx')]]\n",
    "arr.quantiles\n",
    "arr.sort.unique.quantiles <- sort(unique(df.sliced.quantiles[[substitute('wealthIdx')]]))\n",
    "arr.sort.unique.quantiles\n",
    "f_Q_label(arr.quantiles, arr.sort.unique.quantiles[1], seq.quantiles)\n",
    "f_Q_label(arr.quantiles, arr.sort.unique.quantiles[2], seq.quantiles)\n",
    "lapply(arr.sort.unique.quantiles[1:(length(arr.sort.unique.quantiles)-1)],\n",
    "       f_Q_label,\n",
    "       arr.quantiles=arr.quantiles,\n",
    "       seq.quantiles=seq.quantiles)"
   ]
  },
  {
   "cell_type": "code",
   "execution_count": 24,
   "metadata": {},
   "outputs": [
    {
     "name": "stderr",
     "output_type": "stream",
     "text": [
      "Joining, by = \"quant.perc\"\n",
      "Joining, by = \"quant.perc\"\n"
     ]
    }
   ],
   "source": [
    "# Generate Categorical Variables of Quantiles\n",
    "vars.group_by <- c('indi.id')\n",
    "vars.arrange <- c('indi.id', 'svymthRound')\n",
    "vars.cts2quantile <- c('wealthIdx', 'hgt0', 'wgt0')\n",
    "seq.quantiles <- c(0, 0.3333, 0.6666, 1.0)\n",
    "df.cut <- df_cut_by_sliced_quantiles(df, vars.cts2quantile, seq.quantiles, vars.group_by, vars.arrange)\n",
    "df.with.cut.quant <- df.cut$df.with.cut.quant\n",
    "df.grp.L1 <- df.cut$df.grp.L1"
   ]
  },
  {
   "cell_type": "code",
   "execution_count": 25,
   "metadata": {},
   "outputs": [
    {
     "data": {
      "text/html": [
       "<table>\n",
       "<thead><tr><th scope=col>S.country</th><th scope=col>vil.id</th><th scope=col>indi.id</th><th scope=col>sex</th><th scope=col>svymthRound</th><th scope=col>momEdu</th><th scope=col>wealthIdx</th><th scope=col>hgt</th><th scope=col>wgt</th><th scope=col>hgt0</th><th scope=col>wgt0</th><th scope=col>prot</th><th scope=col>cal</th><th scope=col>p.A.prot</th><th scope=col>p.A.nProt</th><th scope=col>wealthIdx_Qs0e1n3</th><th scope=col>hgt0_Qs0e1n3</th><th scope=col>wgt0_Qs0e1n3</th></tr></thead>\n",
       "<tbody>\n",
       "\t<tr><td>Cebu                               </td><td>1                                  </td><td>1                                  </td><td>Male                               </td><td>  0                                </td><td>10.3                               </td><td>1.0                                </td><td>44.7                               </td><td> 912.1                             </td><td>44.7                               </td><td>2038.4                             </td><td> 0.7                               </td><td>  0.5                              </td><td>3964.6                             </td><td> 70.0                              </td><td>[0.5,3]; (1,2) of Qs0e1n3          </td><td>[40.9,48.6]; (1) of Qs0e1n3        </td><td>[1.41e+03,2.89e+03]; (1) of Qs0e1n3</td></tr>\n",
       "\t<tr><td>Cebu                               </td><td>1                                  </td><td>1                                  </td><td>Male                               </td><td>  2                                </td><td>10.8                               </td><td>1.0                                </td><td>54.4                               </td><td>5892.8                             </td><td>44.7                               </td><td>2038.4                             </td><td> 0.5                               </td><td>  0.5                              </td><td>1974.1                             </td><td>213.4                              </td><td>[0.5,3]; (1,2) of Qs0e1n3          </td><td>[40.9,48.6]; (1) of Qs0e1n3        </td><td>[1.41e+03,2.89e+03]; (1) of Qs0e1n3</td></tr>\n",
       "\t<tr><td>Cebu                               </td><td>1                                  </td><td>1                                  </td><td>Male                               </td><td>  4                                </td><td> 8.2                               </td><td>1.0                                </td><td>60.4                               </td><td>5972.1                             </td><td>44.7                               </td><td>2038.4                             </td><td> 0.5                               </td><td> 12.5                              </td><td>1519.4                             </td><td>237.7                              </td><td>[0.5,3]; (1,2) of Qs0e1n3          </td><td>[40.9,48.6]; (1) of Qs0e1n3        </td><td>[1.41e+03,2.89e+03]; (1) of Qs0e1n3</td></tr>\n",
       "\t<tr><td>Cebu                               </td><td>1                                  </td><td>1                                  </td><td>Male                               </td><td>  6                                </td><td> 1.7                               </td><td>0.9                                </td><td>63.5                               </td><td>5667.2                             </td><td>44.7                               </td><td>2038.4                             </td><td> 5.7                               </td><td>154.0                              </td><td>2088.7                             </td><td>221.2                              </td><td>[0.5,3]; (1,2) of Qs0e1n3          </td><td>[40.9,48.6]; (1) of Qs0e1n3        </td><td>[1.41e+03,2.89e+03]; (1) of Qs0e1n3</td></tr>\n",
       "\t<tr><td>Cebu                               </td><td>1                                  </td><td>1                                  </td><td>Male                               </td><td>  8                                </td><td> 9.3                               </td><td>0.9                                </td><td>65.9                               </td><td>7281.4                             </td><td>44.7                               </td><td>2038.4                             </td><td> 2.1                               </td><td> 70.8                              </td><td>2975.7                             </td><td>165.0                              </td><td>[0.5,3]; (1,2) of Qs0e1n3          </td><td>[40.9,48.6]; (1) of Qs0e1n3        </td><td>[1.41e+03,2.89e+03]; (1) of Qs0e1n3</td></tr>\n",
       "\t<tr><td>Cebu                               </td><td>1                                  </td><td>1                                  </td><td>Male                               </td><td> 10                                </td><td> 0.5                               </td><td>0.9                                </td><td>69.3                               </td><td>9756.9                             </td><td>44.7                               </td><td>2038.4                             </td><td>15.0                               </td><td>292.7                              </td><td>2647.4                             </td><td>145.9                              </td><td>[0.5,3]; (1,2) of Qs0e1n3          </td><td>[40.9,48.6]; (1) of Qs0e1n3        </td><td>[1.41e+03,2.89e+03]; (1) of Qs0e1n3</td></tr>\n",
       "\t<tr><td>Cebu                               </td><td>1                                  </td><td>1                                  </td><td>Male                               </td><td> 12                                </td><td> 0.5                               </td><td>1.0                                </td><td>69.0                               </td><td>7552.1                             </td><td>44.7                               </td><td>2038.4                             </td><td>12.9                               </td><td>342.6                              </td><td>1834.0                             </td><td>164.8                              </td><td>[0.5,3]; (1,2) of Qs0e1n3          </td><td>[40.9,48.6]; (1) of Qs0e1n3        </td><td>[1.41e+03,2.89e+03]; (1) of Qs0e1n3</td></tr>\n",
       "\t<tr><td>Cebu                               </td><td>1                                  </td><td>1                                  </td><td>Male                               </td><td> 14                                </td><td>20.2                               </td><td>0.8                                </td><td>  NA                               </td><td>    NA                             </td><td>44.7                               </td><td>2038.4                             </td><td>  NA                               </td><td>   NA                              </td><td>    NA                             </td><td>   NA                              </td><td>[0.5,3]; (1,2) of Qs0e1n3          </td><td>[40.9,48.6]; (1) of Qs0e1n3        </td><td>[1.41e+03,2.89e+03]; (1) of Qs0e1n3</td></tr>\n",
       "\t<tr><td>Cebu                               </td><td>1                                  </td><td>1                                  </td><td>Male                               </td><td> 16                                </td><td> 2.4                               </td><td>1.0                                </td><td>  NA                               </td><td>    NA                             </td><td>44.7                               </td><td>2038.4                             </td><td>  NA                               </td><td>   NA                              </td><td>    NA                             </td><td>   NA                              </td><td>[0.5,3]; (1,2) of Qs0e1n3          </td><td>[40.9,48.6]; (1) of Qs0e1n3        </td><td>[1.41e+03,2.89e+03]; (1) of Qs0e1n3</td></tr>\n",
       "\t<tr><td>Cebu                               </td><td>1                                  </td><td>1                                  </td><td>Male                               </td><td> 18                                </td><td>12.0                               </td><td>1.2                                </td><td>  NA                               </td><td>    NA                             </td><td>44.7                               </td><td>2038.4                             </td><td>  NA                               </td><td>   NA                              </td><td>    NA                             </td><td>   NA                              </td><td>[0.5,3]; (1,2) of Qs0e1n3          </td><td>[40.9,48.6]; (1) of Qs0e1n3        </td><td>[1.41e+03,2.89e+03]; (1) of Qs0e1n3</td></tr>\n",
       "\t<tr><td>Cebu                               </td><td>1                                  </td><td>1                                  </td><td>Male                               </td><td> 20                                </td><td>23.2                               </td><td>0.8                                </td><td>  NA                               </td><td>    NA                             </td><td>44.7                               </td><td>2038.4                             </td><td>  NA                               </td><td>   NA                              </td><td>    NA                             </td><td>   NA                              </td><td>[0.5,3]; (1,2) of Qs0e1n3          </td><td>[40.9,48.6]; (1) of Qs0e1n3        </td><td>[1.41e+03,2.89e+03]; (1) of Qs0e1n3</td></tr>\n",
       "\t<tr><td>Cebu                               </td><td>1                                  </td><td>1                                  </td><td>Male                               </td><td> 22                                </td><td> 0.5                               </td><td>0.9                                </td><td>  NA                               </td><td>    NA                             </td><td>44.7                               </td><td>2038.4                             </td><td>  NA                               </td><td>   NA                              </td><td>    NA                             </td><td>   NA                              </td><td>[0.5,3]; (1,2) of Qs0e1n3          </td><td>[40.9,48.6]; (1) of Qs0e1n3        </td><td>[1.41e+03,2.89e+03]; (1) of Qs0e1n3</td></tr>\n",
       "\t<tr><td>Cebu                               </td><td>1                                  </td><td>1                                  </td><td>Male                               </td><td> 24                                </td><td> 0.5                               </td><td>1.1                                </td><td>  NA                               </td><td>    NA                             </td><td>44.7                               </td><td>2038.4                             </td><td>  NA                               </td><td>   NA                              </td><td>    NA                             </td><td>   NA                              </td><td>[0.5,3]; (1,2) of Qs0e1n3          </td><td>[40.9,48.6]; (1) of Qs0e1n3        </td><td>[1.41e+03,2.89e+03]; (1) of Qs0e1n3</td></tr>\n",
       "\t<tr><td>Cebu                               </td><td>1                                  </td><td>1                                  </td><td>Male                               </td><td>102                                </td><td> 0.5                               </td><td>1.0                                </td><td>  NA                               </td><td>    NA                             </td><td>44.7                               </td><td>2038.4                             </td><td>  NA                               </td><td>   NA                              </td><td>    NA                             </td><td>   NA                              </td><td>[0.5,3]; (1,2) of Qs0e1n3          </td><td>[40.9,48.6]; (1) of Qs0e1n3        </td><td>[1.41e+03,2.89e+03]; (1) of Qs0e1n3</td></tr>\n",
       "\t<tr><td>Cebu                               </td><td>1                                  </td><td>1                                  </td><td>Male                               </td><td>138                                </td><td> 4.6                               </td><td>0.9                                </td><td>  NA                               </td><td>    NA                             </td><td>44.7                               </td><td>2038.4                             </td><td>  NA                               </td><td>   NA                              </td><td>    NA                             </td><td>   NA                              </td><td>[0.5,3]; (1,2) of Qs0e1n3          </td><td>[40.9,48.6]; (1) of Qs0e1n3        </td><td>[1.41e+03,2.89e+03]; (1) of Qs0e1n3</td></tr>\n",
       "\t<tr><td>Cebu                               </td><td>1                                  </td><td>1                                  </td><td>Male                               </td><td>187                                </td><td> 5.0                               </td><td>1.1                                </td><td>  NA                               </td><td>    NA                             </td><td>44.7                               </td><td>2038.4                             </td><td>  NA                               </td><td>   NA                              </td><td>    NA                             </td><td>   NA                              </td><td>[0.5,3]; (1,2) of Qs0e1n3          </td><td>[40.9,48.6]; (1) of Qs0e1n3        </td><td>[1.41e+03,2.89e+03]; (1) of Qs0e1n3</td></tr>\n",
       "\t<tr><td>Cebu                               </td><td>1                                  </td><td>1                                  </td><td>Male                               </td><td>224                                </td><td>21.8                               </td><td>1.2                                </td><td>  NA                               </td><td>    NA                             </td><td>44.7                               </td><td>2038.4                             </td><td>  NA                               </td><td>   NA                              </td><td>    NA                             </td><td>   NA                              </td><td>[0.5,3]; (1,2) of Qs0e1n3          </td><td>[40.9,48.6]; (1) of Qs0e1n3        </td><td>[1.41e+03,2.89e+03]; (1) of Qs0e1n3</td></tr>\n",
       "\t<tr><td>Cebu                               </td><td>1                                  </td><td>1                                  </td><td>Male                               </td><td>258                                </td><td>27.4                               </td><td>1.1                                </td><td>  NA                               </td><td>    NA                             </td><td>44.7                               </td><td>2038.4                             </td><td>  NA                               </td><td>   NA                              </td><td>    NA                             </td><td>   NA                              </td><td>[0.5,3]; (1,2) of Qs0e1n3          </td><td>[40.9,48.6]; (1) of Qs0e1n3        </td><td>[1.41e+03,2.89e+03]; (1) of Qs0e1n3</td></tr>\n",
       "\t<tr><td>Cebu                               </td><td>1                                  </td><td>2                                  </td><td>Female                             </td><td>  0                                </td><td> 5.2                               </td><td>1.0                                </td><td>49.3                               </td><td>1878.7                             </td><td>48.8                               </td><td>3000.3                             </td><td> 0.5                               </td><td>  0.5                              </td><td>5223.0                             </td><td>  0.5                              </td><td>[0.5,3]; (1,2) of Qs0e1n3          </td><td>(48.6,50.3]; (2) of Qs0e1n3        </td><td>(2.89e+03,3.22e+03]; (2) of Qs0e1n3</td></tr>\n",
       "\t<tr><td>Cebu                               </td><td>1                                  </td><td>2                                  </td><td>Female                             </td><td>  2                                </td><td>24.8                               </td><td>1.1                                </td><td>54.8                               </td><td>5560.6                             </td><td>48.8                               </td><td>3000.3                             </td><td> 0.5                               </td><td>125.5                              </td><td>2874.0                             </td><td>204.9                              </td><td>[0.5,3]; (1,2) of Qs0e1n3          </td><td>(48.6,50.3]; (2) of Qs0e1n3        </td><td>(2.89e+03,3.22e+03]; (2) of Qs0e1n3</td></tr>\n",
       "\t<tr><td>Cebu                               </td><td>1                                  </td><td>2                                  </td><td>Female                             </td><td>  4                                </td><td>15.4                               </td><td>1.0                                </td><td>59.5                               </td><td>6741.0                             </td><td>48.8                               </td><td>3000.3                             </td><td> 3.9                               </td><td>128.8                              </td><td>1471.2                             </td><td>230.3                              </td><td>[0.5,3]; (1,2) of Qs0e1n3          </td><td>(48.6,50.3]; (2) of Qs0e1n3        </td><td>(2.89e+03,3.22e+03]; (2) of Qs0e1n3</td></tr>\n",
       "\t<tr><td>Cebu                               </td><td>1                                  </td><td>2                                  </td><td>Female                             </td><td>  6                                </td><td>13.8                               </td><td>0.9                                </td><td>64.6                               </td><td>6158.1                             </td><td>48.8                               </td><td>3000.3                             </td><td> 1.3                               </td><td> 48.5                              </td><td>1328.5                             </td><td>228.8                              </td><td>[0.5,3]; (1,2) of Qs0e1n3          </td><td>(48.6,50.3]; (2) of Qs0e1n3        </td><td>(2.89e+03,3.22e+03]; (2) of Qs0e1n3</td></tr>\n",
       "\t<tr><td>Cebu                               </td><td>1                                  </td><td>2                                  </td><td>Female                             </td><td>  8                                </td><td> 3.3                               </td><td>0.9                                </td><td>69.0                               </td><td>8516.4                             </td><td>48.8                               </td><td>3000.3                             </td><td>14.6                               </td><td>121.8                              </td><td>2870.7                             </td><td>221.5                              </td><td>[0.5,3]; (1,2) of Qs0e1n3          </td><td>(48.6,50.3]; (2) of Qs0e1n3        </td><td>(2.89e+03,3.22e+03]; (2) of Qs0e1n3</td></tr>\n",
       "\t<tr><td>Cebu                               </td><td>1                                  </td><td>2                                  </td><td>Female                             </td><td> 10                                </td><td> 7.9                               </td><td>1.1                                </td><td>71.7                               </td><td>6373.0                             </td><td>48.8                               </td><td>3000.3                             </td><td> 0.6                               </td><td>138.2                              </td><td>3176.7                             </td><td>104.2                              </td><td>[0.5,3]; (1,2) of Qs0e1n3          </td><td>(48.6,50.3]; (2) of Qs0e1n3        </td><td>(2.89e+03,3.22e+03]; (2) of Qs0e1n3</td></tr>\n",
       "\t<tr><td>Cebu                               </td><td>1                                  </td><td>2                                  </td><td>Female                             </td><td> 12                                </td><td> 9.0                               </td><td>1.0                                </td><td>70.8                               </td><td>7476.1                             </td><td>48.8                               </td><td>3000.3                             </td><td>18.5                               </td><td>330.3                              </td><td>2014.7                             </td><td>170.6                              </td><td>[0.5,3]; (1,2) of Qs0e1n3          </td><td>(48.6,50.3]; (2) of Qs0e1n3        </td><td>(2.89e+03,3.22e+03]; (2) of Qs0e1n3</td></tr>\n",
       "\t<tr><td>...</td><td>...</td><td>...</td><td>...</td><td>...</td><td>...</td><td>...</td><td>...</td><td>...</td><td>...</td><td>...</td><td>...</td><td>...</td><td>...</td><td>...</td><td>...</td><td>...</td><td>...</td></tr>\n",
       "\t<tr><td>Guatemala                          </td><td>14                                 </td><td>2022                               </td><td>Male                               </td><td>21                                 </td><td>NA                                 </td><td>0.5                                </td><td>  NA                               </td><td>     NA                            </td><td>44.4                               </td><td>2695.2                             </td><td>  NA                               </td><td>    NA                             </td><td>   NA                              </td><td>  NA                               </td><td>[0.5,3]; (1,2) of Qs0e1n3          </td><td>[40.9,48.6]; (1) of Qs0e1n3        </td><td>[1.41e+03,2.89e+03]; (1) of Qs0e1n3</td></tr>\n",
       "\t<tr><td>Guatemala                          </td><td>14                                 </td><td>2022                               </td><td>Male                               </td><td>24                                 </td><td>NA                                 </td><td>0.5                                </td><td>  NA                               </td><td>     NA                            </td><td>44.4                               </td><td>2695.2                             </td><td>  NA                               </td><td>    NA                             </td><td>   NA                              </td><td>  NA                               </td><td>[0.5,3]; (1,2) of Qs0e1n3          </td><td>[40.9,48.6]; (1) of Qs0e1n3        </td><td>[1.41e+03,2.89e+03]; (1) of Qs0e1n3</td></tr>\n",
       "\t<tr><td>Guatemala                          </td><td>14                                 </td><td>2022                               </td><td>Male                               </td><td>30                                 </td><td>NA                                 </td><td>0.5                                </td><td>  NA                               </td><td>     NA                            </td><td>44.4                               </td><td>2695.2                             </td><td>  NA                               </td><td>    NA                             </td><td>   NA                              </td><td>  NA                               </td><td>[0.5,3]; (1,2) of Qs0e1n3          </td><td>[40.9,48.6]; (1) of Qs0e1n3        </td><td>[1.41e+03,2.89e+03]; (1) of Qs0e1n3</td></tr>\n",
       "\t<tr><td>Guatemala                          </td><td>14                                 </td><td>2022                               </td><td>Male                               </td><td>36                                 </td><td>NA                                 </td><td>0.5                                </td><td>72.5                               </td><td> 8279.2                            </td><td>44.4                               </td><td>2695.2                             </td><td>  NA                               </td><td>    NA                             </td><td>  0.5                              </td><td>17.8                               </td><td>[0.5,3]; (1,2) of Qs0e1n3          </td><td>[40.9,48.6]; (1) of Qs0e1n3        </td><td>[1.41e+03,2.89e+03]; (1) of Qs0e1n3</td></tr>\n",
       "\t<tr><td>Guatemala                          </td><td>14                                 </td><td>2022                               </td><td>Male                               </td><td>42                                 </td><td>NA                                 </td><td>0.5                                </td><td>81.4                               </td><td>10677.7                            </td><td>44.4                               </td><td>2695.2                             </td><td>45.9                               </td><td>1943.2                             </td><td> 12.0                              </td><td> 7.0                               </td><td>[0.5,3]; (1,2) of Qs0e1n3          </td><td>[40.9,48.6]; (1) of Qs0e1n3        </td><td>[1.41e+03,2.89e+03]; (1) of Qs0e1n3</td></tr>\n",
       "\t<tr><td>Guatemala                          </td><td>14                                 </td><td>2022                               </td><td>Male                               </td><td>48                                 </td><td>NA                                 </td><td>0.5                                </td><td>84.6                               </td><td>12160.0                            </td><td>44.4                               </td><td>2695.2                             </td><td>37.9                               </td><td>1035.3                             </td><td>232.9                              </td><td> 0.5                               </td><td>[0.5,3]; (1,2) of Qs0e1n3          </td><td>[40.9,48.6]; (1) of Qs0e1n3        </td><td>[1.41e+03,2.89e+03]; (1) of Qs0e1n3</td></tr>\n",
       "\t<tr><td>Guatemala                          </td><td>14                                 </td><td>2022                               </td><td>Male                               </td><td>60                                 </td><td>NA                                 </td><td>0.5                                </td><td>  NA                               </td><td>     NA                            </td><td>44.4                               </td><td>2695.2                             </td><td>  NA                               </td><td>    NA                             </td><td>   NA                              </td><td>  NA                               </td><td>[0.5,3]; (1,2) of Qs0e1n3          </td><td>[40.9,48.6]; (1) of Qs0e1n3        </td><td>[1.41e+03,2.89e+03]; (1) of Qs0e1n3</td></tr>\n",
       "\t<tr><td>Guatemala                          </td><td>14                                 </td><td>2022                               </td><td>Male                               </td><td>72                                 </td><td>NA                                 </td><td>0.5                                </td><td>  NA                               </td><td>     NA                            </td><td>44.4                               </td><td>2695.2                             </td><td>  NA                               </td><td>    NA                             </td><td>   NA                              </td><td>  NA                               </td><td>[0.5,3]; (1,2) of Qs0e1n3          </td><td>[40.9,48.6]; (1) of Qs0e1n3        </td><td>[1.41e+03,2.89e+03]; (1) of Qs0e1n3</td></tr>\n",
       "\t<tr><td>Guatemala                          </td><td>14                                 </td><td>2022                               </td><td>Male                               </td><td>84                                 </td><td>NA                                 </td><td>0.5                                </td><td>  NA                               </td><td>     NA                            </td><td>44.4                               </td><td>2695.2                             </td><td>  NA                               </td><td>    NA                             </td><td>   NA                              </td><td>  NA                               </td><td>[0.5,3]; (1,2) of Qs0e1n3          </td><td>[40.9,48.6]; (1) of Qs0e1n3        </td><td>[1.41e+03,2.89e+03]; (1) of Qs0e1n3</td></tr>\n",
       "\t<tr><td>Guatemala                          </td><td>14                                 </td><td>2023                               </td><td>Male                               </td><td> 0                                 </td><td>NA                                 </td><td>0.5                                </td><td>50.3                               </td><td> 3385.9                            </td><td>50.9                               </td><td>3662.2                             </td><td>  NA                               </td><td>    NA                             </td><td>249.7                              </td><td>19.1                               </td><td>[0.5,3]; (1,2) of Qs0e1n3          </td><td>(50.3,59]; (3) of Qs0e1n3          </td><td>(3.22e+03,5.18e+03]; (3) of Qs0e1n3</td></tr>\n",
       "\t<tr><td>Guatemala                          </td><td>14                                 </td><td>2023                               </td><td>Male                               </td><td> 3                                 </td><td>NA                                 </td><td>0.5                                </td><td>56.8                               </td><td> 5115.8                            </td><td>50.9                               </td><td>3662.2                             </td><td> 4.8                               </td><td>  65.8                             </td><td>146.7                              </td><td> 0.5                               </td><td>[0.5,3]; (1,2) of Qs0e1n3          </td><td>(50.3,59]; (3) of Qs0e1n3          </td><td>(3.22e+03,5.18e+03]; (3) of Qs0e1n3</td></tr>\n",
       "\t<tr><td>Guatemala                          </td><td>14                                 </td><td>2023                               </td><td>Male                               </td><td> 6                                 </td><td>NA                                 </td><td>0.5                                </td><td>63.7                               </td><td> 5855.9                            </td><td>50.9                               </td><td>3662.2                             </td><td>14.5                               </td><td> 340.6                             </td><td> 71.6                              </td><td> 6.3                               </td><td>[0.5,3]; (1,2) of Qs0e1n3          </td><td>(50.3,59]; (3) of Qs0e1n3          </td><td>(3.22e+03,5.18e+03]; (3) of Qs0e1n3</td></tr>\n",
       "\t<tr><td>Guatemala                          </td><td>14                                 </td><td>2023                               </td><td>Male                               </td><td> 9                                 </td><td>NA                                 </td><td>0.5                                </td><td>67.2                               </td><td> 5813.8                            </td><td>50.9                               </td><td>3662.2                             </td><td> 9.7                               </td><td> 236.5                             </td><td>  0.5                              </td><td>12.4                               </td><td>[0.5,3]; (1,2) of Qs0e1n3          </td><td>(50.3,59]; (3) of Qs0e1n3          </td><td>(3.22e+03,5.18e+03]; (3) of Qs0e1n3</td></tr>\n",
       "\t<tr><td>Guatemala                          </td><td>14                                 </td><td>2023                               </td><td>Male                               </td><td>12                                 </td><td>NA                                 </td><td>0.5                                </td><td>68.6                               </td><td> 8743.1                            </td><td>50.9                               </td><td>3662.2                             </td><td>15.9                               </td><td> 431.8                             </td><td>  0.5                              </td><td>13.9                               </td><td>[0.5,3]; (1,2) of Qs0e1n3          </td><td>(50.3,59]; (3) of Qs0e1n3          </td><td>(3.22e+03,5.18e+03]; (3) of Qs0e1n3</td></tr>\n",
       "\t<tr><td>Guatemala                          </td><td>14                                 </td><td>2023                               </td><td>Male                               </td><td>15                                 </td><td>NA                                 </td><td>0.5                                </td><td>71.5                               </td><td>10430.2                            </td><td>50.9                               </td><td>3662.2                             </td><td>18.2                               </td><td> 517.2                             </td><td>134.5                              </td><td> 0.5                               </td><td>[0.5,3]; (1,2) of Qs0e1n3          </td><td>(50.3,59]; (3) of Qs0e1n3          </td><td>(3.22e+03,5.18e+03]; (3) of Qs0e1n3</td></tr>\n",
       "\t<tr><td>Guatemala                          </td><td>14                                 </td><td>2023                               </td><td>Male                               </td><td>18                                 </td><td>NA                                 </td><td>0.5                                </td><td>74.6                               </td><td> 9610.9                            </td><td>50.9                               </td><td>3662.2                             </td><td>19.6                               </td><td> 442.3                             </td><td>  0.5                              </td><td> 5.1                               </td><td>[0.5,3]; (1,2) of Qs0e1n3          </td><td>(50.3,59]; (3) of Qs0e1n3          </td><td>(3.22e+03,5.18e+03]; (3) of Qs0e1n3</td></tr>\n",
       "\t<tr><td>Guatemala                          </td><td>14                                 </td><td>2023                               </td><td>Male                               </td><td>21                                 </td><td>NA                                 </td><td>0.5                                </td><td>72.8                               </td><td> 7921.7                            </td><td>50.9                               </td><td>3662.2                             </td><td>19.3                               </td><td> 398.8                             </td><td> 28.0                              </td><td> 0.5                               </td><td>[0.5,3]; (1,2) of Qs0e1n3          </td><td>(50.3,59]; (3) of Qs0e1n3          </td><td>(3.22e+03,5.18e+03]; (3) of Qs0e1n3</td></tr>\n",
       "\t<tr><td>Guatemala                          </td><td>14                                 </td><td>2023                               </td><td>Male                               </td><td>24                                 </td><td>NA                                 </td><td>0.5                                </td><td>  NA                               </td><td>     NA                            </td><td>50.9                               </td><td>3662.2                             </td><td>  NA                               </td><td>    NA                             </td><td>   NA                              </td><td>  NA                               </td><td>[0.5,3]; (1,2) of Qs0e1n3          </td><td>(50.3,59]; (3) of Qs0e1n3          </td><td>(3.22e+03,5.18e+03]; (3) of Qs0e1n3</td></tr>\n",
       "\t<tr><td>Guatemala                          </td><td>14                                 </td><td>2023                               </td><td>Male                               </td><td>30                                 </td><td>NA                                 </td><td>0.5                                </td><td>  NA                               </td><td>     NA                            </td><td>50.9                               </td><td>3662.2                             </td><td>  NA                               </td><td>    NA                             </td><td>   NA                              </td><td>  NA                               </td><td>[0.5,3]; (1,2) of Qs0e1n3          </td><td>(50.3,59]; (3) of Qs0e1n3          </td><td>(3.22e+03,5.18e+03]; (3) of Qs0e1n3</td></tr>\n",
       "\t<tr><td>Guatemala                          </td><td>14                                 </td><td>2023                               </td><td>Male                               </td><td>36                                 </td><td>NA                                 </td><td>0.5                                </td><td>  NA                               </td><td>     NA                            </td><td>50.9                               </td><td>3662.2                             </td><td>  NA                               </td><td>    NA                             </td><td>   NA                              </td><td>  NA                               </td><td>[0.5,3]; (1,2) of Qs0e1n3          </td><td>(50.3,59]; (3) of Qs0e1n3          </td><td>(3.22e+03,5.18e+03]; (3) of Qs0e1n3</td></tr>\n",
       "\t<tr><td>Guatemala                          </td><td>14                                 </td><td>2023                               </td><td>Male                               </td><td>42                                 </td><td>NA                                 </td><td>0.5                                </td><td>  NA                               </td><td>     NA                            </td><td>50.9                               </td><td>3662.2                             </td><td>  NA                               </td><td>    NA                             </td><td>   NA                              </td><td>  NA                               </td><td>[0.5,3]; (1,2) of Qs0e1n3          </td><td>(50.3,59]; (3) of Qs0e1n3          </td><td>(3.22e+03,5.18e+03]; (3) of Qs0e1n3</td></tr>\n",
       "\t<tr><td>Guatemala                          </td><td>14                                 </td><td>2023                               </td><td>Male                               </td><td>48                                 </td><td>NA                                 </td><td>0.5                                </td><td>  NA                               </td><td>     NA                            </td><td>50.9                               </td><td>3662.2                             </td><td>  NA                               </td><td>    NA                             </td><td>   NA                              </td><td>  NA                               </td><td>[0.5,3]; (1,2) of Qs0e1n3          </td><td>(50.3,59]; (3) of Qs0e1n3          </td><td>(3.22e+03,5.18e+03]; (3) of Qs0e1n3</td></tr>\n",
       "\t<tr><td>Guatemala                          </td><td>14                                 </td><td>2023                               </td><td>Male                               </td><td>60                                 </td><td>NA                                 </td><td>0.5                                </td><td>  NA                               </td><td>     NA                            </td><td>50.9                               </td><td>3662.2                             </td><td>  NA                               </td><td>    NA                             </td><td>   NA                              </td><td>  NA                               </td><td>[0.5,3]; (1,2) of Qs0e1n3          </td><td>(50.3,59]; (3) of Qs0e1n3          </td><td>(3.22e+03,5.18e+03]; (3) of Qs0e1n3</td></tr>\n",
       "\t<tr><td>Guatemala                          </td><td>14                                 </td><td>2023                               </td><td>Male                               </td><td>72                                 </td><td>NA                                 </td><td>0.5                                </td><td>  NA                               </td><td>     NA                            </td><td>50.9                               </td><td>3662.2                             </td><td>  NA                               </td><td>    NA                             </td><td>   NA                              </td><td>  NA                               </td><td>[0.5,3]; (1,2) of Qs0e1n3          </td><td>(50.3,59]; (3) of Qs0e1n3          </td><td>(3.22e+03,5.18e+03]; (3) of Qs0e1n3</td></tr>\n",
       "\t<tr><td>Guatemala                          </td><td>14                                 </td><td>2023                               </td><td>Male                               </td><td>84                                 </td><td>NA                                 </td><td>0.5                                </td><td>  NA                               </td><td>     NA                            </td><td>50.9                               </td><td>3662.2                             </td><td>  NA                               </td><td>    NA                             </td><td>   NA                              </td><td>  NA                               </td><td>[0.5,3]; (1,2) of Qs0e1n3          </td><td>(50.3,59]; (3) of Qs0e1n3          </td><td>(3.22e+03,5.18e+03]; (3) of Qs0e1n3</td></tr>\n",
       "</tbody>\n",
       "</table>\n"
      ],
      "text/latex": [
       "\\begin{tabular}{r|llllllllllllllllll}\n",
       " S.country & vil.id & indi.id & sex & svymthRound & momEdu & wealthIdx & hgt & wgt & hgt0 & wgt0 & prot & cal & p.A.prot & p.A.nProt & wealthIdx\\_Qs0e1n3 & hgt0\\_Qs0e1n3 & wgt0\\_Qs0e1n3\\\\\n",
       "\\hline\n",
       "\t Cebu                                    & 1                                       & 1                                       & Male                                    &   0                                     & 10.3                                    & 1.0                                     & 44.7                                    &  912.1                                  & 44.7                                    & 2038.4                                  &  0.7                                    &   0.5                                   & 3964.6                                  &  70.0                                   & {[}0.5,3{]}; (1,2) of Qs0e1n3           & {[}40.9,48.6{]}; (1) of Qs0e1n3         & {[}1.41e+03,2.89e+03{]}; (1) of Qs0e1n3\\\\\n",
       "\t Cebu                                    & 1                                       & 1                                       & Male                                    &   2                                     & 10.8                                    & 1.0                                     & 54.4                                    & 5892.8                                  & 44.7                                    & 2038.4                                  &  0.5                                    &   0.5                                   & 1974.1                                  & 213.4                                   & {[}0.5,3{]}; (1,2) of Qs0e1n3           & {[}40.9,48.6{]}; (1) of Qs0e1n3         & {[}1.41e+03,2.89e+03{]}; (1) of Qs0e1n3\\\\\n",
       "\t Cebu                                    & 1                                       & 1                                       & Male                                    &   4                                     &  8.2                                    & 1.0                                     & 60.4                                    & 5972.1                                  & 44.7                                    & 2038.4                                  &  0.5                                    &  12.5                                   & 1519.4                                  & 237.7                                   & {[}0.5,3{]}; (1,2) of Qs0e1n3           & {[}40.9,48.6{]}; (1) of Qs0e1n3         & {[}1.41e+03,2.89e+03{]}; (1) of Qs0e1n3\\\\\n",
       "\t Cebu                                    & 1                                       & 1                                       & Male                                    &   6                                     &  1.7                                    & 0.9                                     & 63.5                                    & 5667.2                                  & 44.7                                    & 2038.4                                  &  5.7                                    & 154.0                                   & 2088.7                                  & 221.2                                   & {[}0.5,3{]}; (1,2) of Qs0e1n3           & {[}40.9,48.6{]}; (1) of Qs0e1n3         & {[}1.41e+03,2.89e+03{]}; (1) of Qs0e1n3\\\\\n",
       "\t Cebu                                    & 1                                       & 1                                       & Male                                    &   8                                     &  9.3                                    & 0.9                                     & 65.9                                    & 7281.4                                  & 44.7                                    & 2038.4                                  &  2.1                                    &  70.8                                   & 2975.7                                  & 165.0                                   & {[}0.5,3{]}; (1,2) of Qs0e1n3           & {[}40.9,48.6{]}; (1) of Qs0e1n3         & {[}1.41e+03,2.89e+03{]}; (1) of Qs0e1n3\\\\\n",
       "\t Cebu                                    & 1                                       & 1                                       & Male                                    &  10                                     &  0.5                                    & 0.9                                     & 69.3                                    & 9756.9                                  & 44.7                                    & 2038.4                                  & 15.0                                    & 292.7                                   & 2647.4                                  & 145.9                                   & {[}0.5,3{]}; (1,2) of Qs0e1n3           & {[}40.9,48.6{]}; (1) of Qs0e1n3         & {[}1.41e+03,2.89e+03{]}; (1) of Qs0e1n3\\\\\n",
       "\t Cebu                                    & 1                                       & 1                                       & Male                                    &  12                                     &  0.5                                    & 1.0                                     & 69.0                                    & 7552.1                                  & 44.7                                    & 2038.4                                  & 12.9                                    & 342.6                                   & 1834.0                                  & 164.8                                   & {[}0.5,3{]}; (1,2) of Qs0e1n3           & {[}40.9,48.6{]}; (1) of Qs0e1n3         & {[}1.41e+03,2.89e+03{]}; (1) of Qs0e1n3\\\\\n",
       "\t Cebu                                    & 1                                       & 1                                       & Male                                    &  14                                     & 20.2                                    & 0.8                                     &   NA                                    &     NA                                  & 44.7                                    & 2038.4                                  &   NA                                    &    NA                                   &     NA                                  &    NA                                   & {[}0.5,3{]}; (1,2) of Qs0e1n3           & {[}40.9,48.6{]}; (1) of Qs0e1n3         & {[}1.41e+03,2.89e+03{]}; (1) of Qs0e1n3\\\\\n",
       "\t Cebu                                    & 1                                       & 1                                       & Male                                    &  16                                     &  2.4                                    & 1.0                                     &   NA                                    &     NA                                  & 44.7                                    & 2038.4                                  &   NA                                    &    NA                                   &     NA                                  &    NA                                   & {[}0.5,3{]}; (1,2) of Qs0e1n3           & {[}40.9,48.6{]}; (1) of Qs0e1n3         & {[}1.41e+03,2.89e+03{]}; (1) of Qs0e1n3\\\\\n",
       "\t Cebu                                    & 1                                       & 1                                       & Male                                    &  18                                     & 12.0                                    & 1.2                                     &   NA                                    &     NA                                  & 44.7                                    & 2038.4                                  &   NA                                    &    NA                                   &     NA                                  &    NA                                   & {[}0.5,3{]}; (1,2) of Qs0e1n3           & {[}40.9,48.6{]}; (1) of Qs0e1n3         & {[}1.41e+03,2.89e+03{]}; (1) of Qs0e1n3\\\\\n",
       "\t Cebu                                    & 1                                       & 1                                       & Male                                    &  20                                     & 23.2                                    & 0.8                                     &   NA                                    &     NA                                  & 44.7                                    & 2038.4                                  &   NA                                    &    NA                                   &     NA                                  &    NA                                   & {[}0.5,3{]}; (1,2) of Qs0e1n3           & {[}40.9,48.6{]}; (1) of Qs0e1n3         & {[}1.41e+03,2.89e+03{]}; (1) of Qs0e1n3\\\\\n",
       "\t Cebu                                    & 1                                       & 1                                       & Male                                    &  22                                     &  0.5                                    & 0.9                                     &   NA                                    &     NA                                  & 44.7                                    & 2038.4                                  &   NA                                    &    NA                                   &     NA                                  &    NA                                   & {[}0.5,3{]}; (1,2) of Qs0e1n3           & {[}40.9,48.6{]}; (1) of Qs0e1n3         & {[}1.41e+03,2.89e+03{]}; (1) of Qs0e1n3\\\\\n",
       "\t Cebu                                    & 1                                       & 1                                       & Male                                    &  24                                     &  0.5                                    & 1.1                                     &   NA                                    &     NA                                  & 44.7                                    & 2038.4                                  &   NA                                    &    NA                                   &     NA                                  &    NA                                   & {[}0.5,3{]}; (1,2) of Qs0e1n3           & {[}40.9,48.6{]}; (1) of Qs0e1n3         & {[}1.41e+03,2.89e+03{]}; (1) of Qs0e1n3\\\\\n",
       "\t Cebu                                    & 1                                       & 1                                       & Male                                    & 102                                     &  0.5                                    & 1.0                                     &   NA                                    &     NA                                  & 44.7                                    & 2038.4                                  &   NA                                    &    NA                                   &     NA                                  &    NA                                   & {[}0.5,3{]}; (1,2) of Qs0e1n3           & {[}40.9,48.6{]}; (1) of Qs0e1n3         & {[}1.41e+03,2.89e+03{]}; (1) of Qs0e1n3\\\\\n",
       "\t Cebu                                    & 1                                       & 1                                       & Male                                    & 138                                     &  4.6                                    & 0.9                                     &   NA                                    &     NA                                  & 44.7                                    & 2038.4                                  &   NA                                    &    NA                                   &     NA                                  &    NA                                   & {[}0.5,3{]}; (1,2) of Qs0e1n3           & {[}40.9,48.6{]}; (1) of Qs0e1n3         & {[}1.41e+03,2.89e+03{]}; (1) of Qs0e1n3\\\\\n",
       "\t Cebu                                    & 1                                       & 1                                       & Male                                    & 187                                     &  5.0                                    & 1.1                                     &   NA                                    &     NA                                  & 44.7                                    & 2038.4                                  &   NA                                    &    NA                                   &     NA                                  &    NA                                   & {[}0.5,3{]}; (1,2) of Qs0e1n3           & {[}40.9,48.6{]}; (1) of Qs0e1n3         & {[}1.41e+03,2.89e+03{]}; (1) of Qs0e1n3\\\\\n",
       "\t Cebu                                    & 1                                       & 1                                       & Male                                    & 224                                     & 21.8                                    & 1.2                                     &   NA                                    &     NA                                  & 44.7                                    & 2038.4                                  &   NA                                    &    NA                                   &     NA                                  &    NA                                   & {[}0.5,3{]}; (1,2) of Qs0e1n3           & {[}40.9,48.6{]}; (1) of Qs0e1n3         & {[}1.41e+03,2.89e+03{]}; (1) of Qs0e1n3\\\\\n",
       "\t Cebu                                    & 1                                       & 1                                       & Male                                    & 258                                     & 27.4                                    & 1.1                                     &   NA                                    &     NA                                  & 44.7                                    & 2038.4                                  &   NA                                    &    NA                                   &     NA                                  &    NA                                   & {[}0.5,3{]}; (1,2) of Qs0e1n3           & {[}40.9,48.6{]}; (1) of Qs0e1n3         & {[}1.41e+03,2.89e+03{]}; (1) of Qs0e1n3\\\\\n",
       "\t Cebu                                  & 1                                     & 2                                     & Female                                &   0                                   &  5.2                                  & 1.0                                   & 49.3                                  & 1878.7                                & 48.8                                  & 3000.3                                &  0.5                                  &   0.5                                 & 5223.0                                &   0.5                                 & {[}0.5,3{]}; (1,2) of Qs0e1n3         & (48.6,50.3{]}; (2) of Qs0e1n3         & (2.89e+03,3.22e+03{]}; (2) of Qs0e1n3\\\\\n",
       "\t Cebu                                  & 1                                     & 2                                     & Female                                &   2                                   & 24.8                                  & 1.1                                   & 54.8                                  & 5560.6                                & 48.8                                  & 3000.3                                &  0.5                                  & 125.5                                 & 2874.0                                & 204.9                                 & {[}0.5,3{]}; (1,2) of Qs0e1n3         & (48.6,50.3{]}; (2) of Qs0e1n3         & (2.89e+03,3.22e+03{]}; (2) of Qs0e1n3\\\\\n",
       "\t Cebu                                  & 1                                     & 2                                     & Female                                &   4                                   & 15.4                                  & 1.0                                   & 59.5                                  & 6741.0                                & 48.8                                  & 3000.3                                &  3.9                                  & 128.8                                 & 1471.2                                & 230.3                                 & {[}0.5,3{]}; (1,2) of Qs0e1n3         & (48.6,50.3{]}; (2) of Qs0e1n3         & (2.89e+03,3.22e+03{]}; (2) of Qs0e1n3\\\\\n",
       "\t Cebu                                  & 1                                     & 2                                     & Female                                &   6                                   & 13.8                                  & 0.9                                   & 64.6                                  & 6158.1                                & 48.8                                  & 3000.3                                &  1.3                                  &  48.5                                 & 1328.5                                & 228.8                                 & {[}0.5,3{]}; (1,2) of Qs0e1n3         & (48.6,50.3{]}; (2) of Qs0e1n3         & (2.89e+03,3.22e+03{]}; (2) of Qs0e1n3\\\\\n",
       "\t Cebu                                  & 1                                     & 2                                     & Female                                &   8                                   &  3.3                                  & 0.9                                   & 69.0                                  & 8516.4                                & 48.8                                  & 3000.3                                & 14.6                                  & 121.8                                 & 2870.7                                & 221.5                                 & {[}0.5,3{]}; (1,2) of Qs0e1n3         & (48.6,50.3{]}; (2) of Qs0e1n3         & (2.89e+03,3.22e+03{]}; (2) of Qs0e1n3\\\\\n",
       "\t Cebu                                  & 1                                     & 2                                     & Female                                &  10                                   &  7.9                                  & 1.1                                   & 71.7                                  & 6373.0                                & 48.8                                  & 3000.3                                &  0.6                                  & 138.2                                 & 3176.7                                & 104.2                                 & {[}0.5,3{]}; (1,2) of Qs0e1n3         & (48.6,50.3{]}; (2) of Qs0e1n3         & (2.89e+03,3.22e+03{]}; (2) of Qs0e1n3\\\\\n",
       "\t Cebu                                  & 1                                     & 2                                     & Female                                &  12                                   &  9.0                                  & 1.0                                   & 70.8                                  & 7476.1                                & 48.8                                  & 3000.3                                & 18.5                                  & 330.3                                 & 2014.7                                & 170.6                                 & {[}0.5,3{]}; (1,2) of Qs0e1n3         & (48.6,50.3{]}; (2) of Qs0e1n3         & (2.89e+03,3.22e+03{]}; (2) of Qs0e1n3\\\\\n",
       "\t ... & ... & ... & ... & ... & ... & ... & ... & ... & ... & ... & ... & ... & ... & ... & ... & ... & ...\\\\\n",
       "\t Guatemala                               & 14                                      & 2022                                    & Male                                    & 21                                      & NA                                      & 0.5                                     &   NA                                    &      NA                                 & 44.4                                    & 2695.2                                  &   NA                                    &     NA                                  &    NA                                   &   NA                                    & {[}0.5,3{]}; (1,2) of Qs0e1n3           & {[}40.9,48.6{]}; (1) of Qs0e1n3         & {[}1.41e+03,2.89e+03{]}; (1) of Qs0e1n3\\\\\n",
       "\t Guatemala                               & 14                                      & 2022                                    & Male                                    & 24                                      & NA                                      & 0.5                                     &   NA                                    &      NA                                 & 44.4                                    & 2695.2                                  &   NA                                    &     NA                                  &    NA                                   &   NA                                    & {[}0.5,3{]}; (1,2) of Qs0e1n3           & {[}40.9,48.6{]}; (1) of Qs0e1n3         & {[}1.41e+03,2.89e+03{]}; (1) of Qs0e1n3\\\\\n",
       "\t Guatemala                               & 14                                      & 2022                                    & Male                                    & 30                                      & NA                                      & 0.5                                     &   NA                                    &      NA                                 & 44.4                                    & 2695.2                                  &   NA                                    &     NA                                  &    NA                                   &   NA                                    & {[}0.5,3{]}; (1,2) of Qs0e1n3           & {[}40.9,48.6{]}; (1) of Qs0e1n3         & {[}1.41e+03,2.89e+03{]}; (1) of Qs0e1n3\\\\\n",
       "\t Guatemala                               & 14                                      & 2022                                    & Male                                    & 36                                      & NA                                      & 0.5                                     & 72.5                                    &  8279.2                                 & 44.4                                    & 2695.2                                  &   NA                                    &     NA                                  &   0.5                                   & 17.8                                    & {[}0.5,3{]}; (1,2) of Qs0e1n3           & {[}40.9,48.6{]}; (1) of Qs0e1n3         & {[}1.41e+03,2.89e+03{]}; (1) of Qs0e1n3\\\\\n",
       "\t Guatemala                               & 14                                      & 2022                                    & Male                                    & 42                                      & NA                                      & 0.5                                     & 81.4                                    & 10677.7                                 & 44.4                                    & 2695.2                                  & 45.9                                    & 1943.2                                  &  12.0                                   &  7.0                                    & {[}0.5,3{]}; (1,2) of Qs0e1n3           & {[}40.9,48.6{]}; (1) of Qs0e1n3         & {[}1.41e+03,2.89e+03{]}; (1) of Qs0e1n3\\\\\n",
       "\t Guatemala                               & 14                                      & 2022                                    & Male                                    & 48                                      & NA                                      & 0.5                                     & 84.6                                    & 12160.0                                 & 44.4                                    & 2695.2                                  & 37.9                                    & 1035.3                                  & 232.9                                   &  0.5                                    & {[}0.5,3{]}; (1,2) of Qs0e1n3           & {[}40.9,48.6{]}; (1) of Qs0e1n3         & {[}1.41e+03,2.89e+03{]}; (1) of Qs0e1n3\\\\\n",
       "\t Guatemala                               & 14                                      & 2022                                    & Male                                    & 60                                      & NA                                      & 0.5                                     &   NA                                    &      NA                                 & 44.4                                    & 2695.2                                  &   NA                                    &     NA                                  &    NA                                   &   NA                                    & {[}0.5,3{]}; (1,2) of Qs0e1n3           & {[}40.9,48.6{]}; (1) of Qs0e1n3         & {[}1.41e+03,2.89e+03{]}; (1) of Qs0e1n3\\\\\n",
       "\t Guatemala                               & 14                                      & 2022                                    & Male                                    & 72                                      & NA                                      & 0.5                                     &   NA                                    &      NA                                 & 44.4                                    & 2695.2                                  &   NA                                    &     NA                                  &    NA                                   &   NA                                    & {[}0.5,3{]}; (1,2) of Qs0e1n3           & {[}40.9,48.6{]}; (1) of Qs0e1n3         & {[}1.41e+03,2.89e+03{]}; (1) of Qs0e1n3\\\\\n",
       "\t Guatemala                               & 14                                      & 2022                                    & Male                                    & 84                                      & NA                                      & 0.5                                     &   NA                                    &      NA                                 & 44.4                                    & 2695.2                                  &   NA                                    &     NA                                  &    NA                                   &   NA                                    & {[}0.5,3{]}; (1,2) of Qs0e1n3           & {[}40.9,48.6{]}; (1) of Qs0e1n3         & {[}1.41e+03,2.89e+03{]}; (1) of Qs0e1n3\\\\\n",
       "\t Guatemala                             & 14                                    & 2023                                  & Male                                  &  0                                    & NA                                    & 0.5                                   & 50.3                                  &  3385.9                               & 50.9                                  & 3662.2                                &   NA                                  &     NA                                & 249.7                                 & 19.1                                  & {[}0.5,3{]}; (1,2) of Qs0e1n3         & (50.3,59{]}; (3) of Qs0e1n3           & (3.22e+03,5.18e+03{]}; (3) of Qs0e1n3\\\\\n",
       "\t Guatemala                             & 14                                    & 2023                                  & Male                                  &  3                                    & NA                                    & 0.5                                   & 56.8                                  &  5115.8                               & 50.9                                  & 3662.2                                &  4.8                                  &   65.8                                & 146.7                                 &  0.5                                  & {[}0.5,3{]}; (1,2) of Qs0e1n3         & (50.3,59{]}; (3) of Qs0e1n3           & (3.22e+03,5.18e+03{]}; (3) of Qs0e1n3\\\\\n",
       "\t Guatemala                             & 14                                    & 2023                                  & Male                                  &  6                                    & NA                                    & 0.5                                   & 63.7                                  &  5855.9                               & 50.9                                  & 3662.2                                & 14.5                                  &  340.6                                &  71.6                                 &  6.3                                  & {[}0.5,3{]}; (1,2) of Qs0e1n3         & (50.3,59{]}; (3) of Qs0e1n3           & (3.22e+03,5.18e+03{]}; (3) of Qs0e1n3\\\\\n",
       "\t Guatemala                             & 14                                    & 2023                                  & Male                                  &  9                                    & NA                                    & 0.5                                   & 67.2                                  &  5813.8                               & 50.9                                  & 3662.2                                &  9.7                                  &  236.5                                &   0.5                                 & 12.4                                  & {[}0.5,3{]}; (1,2) of Qs0e1n3         & (50.3,59{]}; (3) of Qs0e1n3           & (3.22e+03,5.18e+03{]}; (3) of Qs0e1n3\\\\\n",
       "\t Guatemala                             & 14                                    & 2023                                  & Male                                  & 12                                    & NA                                    & 0.5                                   & 68.6                                  &  8743.1                               & 50.9                                  & 3662.2                                & 15.9                                  &  431.8                                &   0.5                                 & 13.9                                  & {[}0.5,3{]}; (1,2) of Qs0e1n3         & (50.3,59{]}; (3) of Qs0e1n3           & (3.22e+03,5.18e+03{]}; (3) of Qs0e1n3\\\\\n",
       "\t Guatemala                             & 14                                    & 2023                                  & Male                                  & 15                                    & NA                                    & 0.5                                   & 71.5                                  & 10430.2                               & 50.9                                  & 3662.2                                & 18.2                                  &  517.2                                & 134.5                                 &  0.5                                  & {[}0.5,3{]}; (1,2) of Qs0e1n3         & (50.3,59{]}; (3) of Qs0e1n3           & (3.22e+03,5.18e+03{]}; (3) of Qs0e1n3\\\\\n",
       "\t Guatemala                             & 14                                    & 2023                                  & Male                                  & 18                                    & NA                                    & 0.5                                   & 74.6                                  &  9610.9                               & 50.9                                  & 3662.2                                & 19.6                                  &  442.3                                &   0.5                                 &  5.1                                  & {[}0.5,3{]}; (1,2) of Qs0e1n3         & (50.3,59{]}; (3) of Qs0e1n3           & (3.22e+03,5.18e+03{]}; (3) of Qs0e1n3\\\\\n",
       "\t Guatemala                             & 14                                    & 2023                                  & Male                                  & 21                                    & NA                                    & 0.5                                   & 72.8                                  &  7921.7                               & 50.9                                  & 3662.2                                & 19.3                                  &  398.8                                &  28.0                                 &  0.5                                  & {[}0.5,3{]}; (1,2) of Qs0e1n3         & (50.3,59{]}; (3) of Qs0e1n3           & (3.22e+03,5.18e+03{]}; (3) of Qs0e1n3\\\\\n",
       "\t Guatemala                             & 14                                    & 2023                                  & Male                                  & 24                                    & NA                                    & 0.5                                   &   NA                                  &      NA                               & 50.9                                  & 3662.2                                &   NA                                  &     NA                                &    NA                                 &   NA                                  & {[}0.5,3{]}; (1,2) of Qs0e1n3         & (50.3,59{]}; (3) of Qs0e1n3           & (3.22e+03,5.18e+03{]}; (3) of Qs0e1n3\\\\\n",
       "\t Guatemala                             & 14                                    & 2023                                  & Male                                  & 30                                    & NA                                    & 0.5                                   &   NA                                  &      NA                               & 50.9                                  & 3662.2                                &   NA                                  &     NA                                &    NA                                 &   NA                                  & {[}0.5,3{]}; (1,2) of Qs0e1n3         & (50.3,59{]}; (3) of Qs0e1n3           & (3.22e+03,5.18e+03{]}; (3) of Qs0e1n3\\\\\n",
       "\t Guatemala                             & 14                                    & 2023                                  & Male                                  & 36                                    & NA                                    & 0.5                                   &   NA                                  &      NA                               & 50.9                                  & 3662.2                                &   NA                                  &     NA                                &    NA                                 &   NA                                  & {[}0.5,3{]}; (1,2) of Qs0e1n3         & (50.3,59{]}; (3) of Qs0e1n3           & (3.22e+03,5.18e+03{]}; (3) of Qs0e1n3\\\\\n",
       "\t Guatemala                             & 14                                    & 2023                                  & Male                                  & 42                                    & NA                                    & 0.5                                   &   NA                                  &      NA                               & 50.9                                  & 3662.2                                &   NA                                  &     NA                                &    NA                                 &   NA                                  & {[}0.5,3{]}; (1,2) of Qs0e1n3         & (50.3,59{]}; (3) of Qs0e1n3           & (3.22e+03,5.18e+03{]}; (3) of Qs0e1n3\\\\\n",
       "\t Guatemala                             & 14                                    & 2023                                  & Male                                  & 48                                    & NA                                    & 0.5                                   &   NA                                  &      NA                               & 50.9                                  & 3662.2                                &   NA                                  &     NA                                &    NA                                 &   NA                                  & {[}0.5,3{]}; (1,2) of Qs0e1n3         & (50.3,59{]}; (3) of Qs0e1n3           & (3.22e+03,5.18e+03{]}; (3) of Qs0e1n3\\\\\n",
       "\t Guatemala                             & 14                                    & 2023                                  & Male                                  & 60                                    & NA                                    & 0.5                                   &   NA                                  &      NA                               & 50.9                                  & 3662.2                                &   NA                                  &     NA                                &    NA                                 &   NA                                  & {[}0.5,3{]}; (1,2) of Qs0e1n3         & (50.3,59{]}; (3) of Qs0e1n3           & (3.22e+03,5.18e+03{]}; (3) of Qs0e1n3\\\\\n",
       "\t Guatemala                             & 14                                    & 2023                                  & Male                                  & 72                                    & NA                                    & 0.5                                   &   NA                                  &      NA                               & 50.9                                  & 3662.2                                &   NA                                  &     NA                                &    NA                                 &   NA                                  & {[}0.5,3{]}; (1,2) of Qs0e1n3         & (50.3,59{]}; (3) of Qs0e1n3           & (3.22e+03,5.18e+03{]}; (3) of Qs0e1n3\\\\\n",
       "\t Guatemala                             & 14                                    & 2023                                  & Male                                  & 84                                    & NA                                    & 0.5                                   &   NA                                  &      NA                               & 50.9                                  & 3662.2                                &   NA                                  &     NA                                &    NA                                 &   NA                                  & {[}0.5,3{]}; (1,2) of Qs0e1n3         & (50.3,59{]}; (3) of Qs0e1n3           & (3.22e+03,5.18e+03{]}; (3) of Qs0e1n3\\\\\n",
       "\\end{tabular}\n"
      ],
      "text/markdown": [
       "\n",
       "| S.country | vil.id | indi.id | sex | svymthRound | momEdu | wealthIdx | hgt | wgt | hgt0 | wgt0 | prot | cal | p.A.prot | p.A.nProt | wealthIdx_Qs0e1n3 | hgt0_Qs0e1n3 | wgt0_Qs0e1n3 |\n",
       "|---|---|---|---|---|---|---|---|---|---|---|---|---|---|---|---|---|---|\n",
       "| Cebu                                | 1                                   | 1                                   | Male                                |   0                                 | 10.3                                | 1.0                                 | 44.7                                |  912.1                              | 44.7                                | 2038.4                              |  0.7                                |   0.5                               | 3964.6                              |  70.0                               | [0.5,3]; (1,2) of Qs0e1n3           | [40.9,48.6]; (1) of Qs0e1n3         | [1.41e+03,2.89e+03]; (1) of Qs0e1n3 |\n",
       "| Cebu                                | 1                                   | 1                                   | Male                                |   2                                 | 10.8                                | 1.0                                 | 54.4                                | 5892.8                              | 44.7                                | 2038.4                              |  0.5                                |   0.5                               | 1974.1                              | 213.4                               | [0.5,3]; (1,2) of Qs0e1n3           | [40.9,48.6]; (1) of Qs0e1n3         | [1.41e+03,2.89e+03]; (1) of Qs0e1n3 |\n",
       "| Cebu                                | 1                                   | 1                                   | Male                                |   4                                 |  8.2                                | 1.0                                 | 60.4                                | 5972.1                              | 44.7                                | 2038.4                              |  0.5                                |  12.5                               | 1519.4                              | 237.7                               | [0.5,3]; (1,2) of Qs0e1n3           | [40.9,48.6]; (1) of Qs0e1n3         | [1.41e+03,2.89e+03]; (1) of Qs0e1n3 |\n",
       "| Cebu                                | 1                                   | 1                                   | Male                                |   6                                 |  1.7                                | 0.9                                 | 63.5                                | 5667.2                              | 44.7                                | 2038.4                              |  5.7                                | 154.0                               | 2088.7                              | 221.2                               | [0.5,3]; (1,2) of Qs0e1n3           | [40.9,48.6]; (1) of Qs0e1n3         | [1.41e+03,2.89e+03]; (1) of Qs0e1n3 |\n",
       "| Cebu                                | 1                                   | 1                                   | Male                                |   8                                 |  9.3                                | 0.9                                 | 65.9                                | 7281.4                              | 44.7                                | 2038.4                              |  2.1                                |  70.8                               | 2975.7                              | 165.0                               | [0.5,3]; (1,2) of Qs0e1n3           | [40.9,48.6]; (1) of Qs0e1n3         | [1.41e+03,2.89e+03]; (1) of Qs0e1n3 |\n",
       "| Cebu                                | 1                                   | 1                                   | Male                                |  10                                 |  0.5                                | 0.9                                 | 69.3                                | 9756.9                              | 44.7                                | 2038.4                              | 15.0                                | 292.7                               | 2647.4                              | 145.9                               | [0.5,3]; (1,2) of Qs0e1n3           | [40.9,48.6]; (1) of Qs0e1n3         | [1.41e+03,2.89e+03]; (1) of Qs0e1n3 |\n",
       "| Cebu                                | 1                                   | 1                                   | Male                                |  12                                 |  0.5                                | 1.0                                 | 69.0                                | 7552.1                              | 44.7                                | 2038.4                              | 12.9                                | 342.6                               | 1834.0                              | 164.8                               | [0.5,3]; (1,2) of Qs0e1n3           | [40.9,48.6]; (1) of Qs0e1n3         | [1.41e+03,2.89e+03]; (1) of Qs0e1n3 |\n",
       "| Cebu                                | 1                                   | 1                                   | Male                                |  14                                 | 20.2                                | 0.8                                 |   NA                                |     NA                              | 44.7                                | 2038.4                              |   NA                                |    NA                               |     NA                              |    NA                               | [0.5,3]; (1,2) of Qs0e1n3           | [40.9,48.6]; (1) of Qs0e1n3         | [1.41e+03,2.89e+03]; (1) of Qs0e1n3 |\n",
       "| Cebu                                | 1                                   | 1                                   | Male                                |  16                                 |  2.4                                | 1.0                                 |   NA                                |     NA                              | 44.7                                | 2038.4                              |   NA                                |    NA                               |     NA                              |    NA                               | [0.5,3]; (1,2) of Qs0e1n3           | [40.9,48.6]; (1) of Qs0e1n3         | [1.41e+03,2.89e+03]; (1) of Qs0e1n3 |\n",
       "| Cebu                                | 1                                   | 1                                   | Male                                |  18                                 | 12.0                                | 1.2                                 |   NA                                |     NA                              | 44.7                                | 2038.4                              |   NA                                |    NA                               |     NA                              |    NA                               | [0.5,3]; (1,2) of Qs0e1n3           | [40.9,48.6]; (1) of Qs0e1n3         | [1.41e+03,2.89e+03]; (1) of Qs0e1n3 |\n",
       "| Cebu                                | 1                                   | 1                                   | Male                                |  20                                 | 23.2                                | 0.8                                 |   NA                                |     NA                              | 44.7                                | 2038.4                              |   NA                                |    NA                               |     NA                              |    NA                               | [0.5,3]; (1,2) of Qs0e1n3           | [40.9,48.6]; (1) of Qs0e1n3         | [1.41e+03,2.89e+03]; (1) of Qs0e1n3 |\n",
       "| Cebu                                | 1                                   | 1                                   | Male                                |  22                                 |  0.5                                | 0.9                                 |   NA                                |     NA                              | 44.7                                | 2038.4                              |   NA                                |    NA                               |     NA                              |    NA                               | [0.5,3]; (1,2) of Qs0e1n3           | [40.9,48.6]; (1) of Qs0e1n3         | [1.41e+03,2.89e+03]; (1) of Qs0e1n3 |\n",
       "| Cebu                                | 1                                   | 1                                   | Male                                |  24                                 |  0.5                                | 1.1                                 |   NA                                |     NA                              | 44.7                                | 2038.4                              |   NA                                |    NA                               |     NA                              |    NA                               | [0.5,3]; (1,2) of Qs0e1n3           | [40.9,48.6]; (1) of Qs0e1n3         | [1.41e+03,2.89e+03]; (1) of Qs0e1n3 |\n",
       "| Cebu                                | 1                                   | 1                                   | Male                                | 102                                 |  0.5                                | 1.0                                 |   NA                                |     NA                              | 44.7                                | 2038.4                              |   NA                                |    NA                               |     NA                              |    NA                               | [0.5,3]; (1,2) of Qs0e1n3           | [40.9,48.6]; (1) of Qs0e1n3         | [1.41e+03,2.89e+03]; (1) of Qs0e1n3 |\n",
       "| Cebu                                | 1                                   | 1                                   | Male                                | 138                                 |  4.6                                | 0.9                                 |   NA                                |     NA                              | 44.7                                | 2038.4                              |   NA                                |    NA                               |     NA                              |    NA                               | [0.5,3]; (1,2) of Qs0e1n3           | [40.9,48.6]; (1) of Qs0e1n3         | [1.41e+03,2.89e+03]; (1) of Qs0e1n3 |\n",
       "| Cebu                                | 1                                   | 1                                   | Male                                | 187                                 |  5.0                                | 1.1                                 |   NA                                |     NA                              | 44.7                                | 2038.4                              |   NA                                |    NA                               |     NA                              |    NA                               | [0.5,3]; (1,2) of Qs0e1n3           | [40.9,48.6]; (1) of Qs0e1n3         | [1.41e+03,2.89e+03]; (1) of Qs0e1n3 |\n",
       "| Cebu                                | 1                                   | 1                                   | Male                                | 224                                 | 21.8                                | 1.2                                 |   NA                                |     NA                              | 44.7                                | 2038.4                              |   NA                                |    NA                               |     NA                              |    NA                               | [0.5,3]; (1,2) of Qs0e1n3           | [40.9,48.6]; (1) of Qs0e1n3         | [1.41e+03,2.89e+03]; (1) of Qs0e1n3 |\n",
       "| Cebu                                | 1                                   | 1                                   | Male                                | 258                                 | 27.4                                | 1.1                                 |   NA                                |     NA                              | 44.7                                | 2038.4                              |   NA                                |    NA                               |     NA                              |    NA                               | [0.5,3]; (1,2) of Qs0e1n3           | [40.9,48.6]; (1) of Qs0e1n3         | [1.41e+03,2.89e+03]; (1) of Qs0e1n3 |\n",
       "| Cebu                                | 1                                   | 2                                   | Female                              |   0                                 |  5.2                                | 1.0                                 | 49.3                                | 1878.7                              | 48.8                                | 3000.3                              |  0.5                                |   0.5                               | 5223.0                              |   0.5                               | [0.5,3]; (1,2) of Qs0e1n3           | (48.6,50.3]; (2) of Qs0e1n3         | (2.89e+03,3.22e+03]; (2) of Qs0e1n3 |\n",
       "| Cebu                                | 1                                   | 2                                   | Female                              |   2                                 | 24.8                                | 1.1                                 | 54.8                                | 5560.6                              | 48.8                                | 3000.3                              |  0.5                                | 125.5                               | 2874.0                              | 204.9                               | [0.5,3]; (1,2) of Qs0e1n3           | (48.6,50.3]; (2) of Qs0e1n3         | (2.89e+03,3.22e+03]; (2) of Qs0e1n3 |\n",
       "| Cebu                                | 1                                   | 2                                   | Female                              |   4                                 | 15.4                                | 1.0                                 | 59.5                                | 6741.0                              | 48.8                                | 3000.3                              |  3.9                                | 128.8                               | 1471.2                              | 230.3                               | [0.5,3]; (1,2) of Qs0e1n3           | (48.6,50.3]; (2) of Qs0e1n3         | (2.89e+03,3.22e+03]; (2) of Qs0e1n3 |\n",
       "| Cebu                                | 1                                   | 2                                   | Female                              |   6                                 | 13.8                                | 0.9                                 | 64.6                                | 6158.1                              | 48.8                                | 3000.3                              |  1.3                                |  48.5                               | 1328.5                              | 228.8                               | [0.5,3]; (1,2) of Qs0e1n3           | (48.6,50.3]; (2) of Qs0e1n3         | (2.89e+03,3.22e+03]; (2) of Qs0e1n3 |\n",
       "| Cebu                                | 1                                   | 2                                   | Female                              |   8                                 |  3.3                                | 0.9                                 | 69.0                                | 8516.4                              | 48.8                                | 3000.3                              | 14.6                                | 121.8                               | 2870.7                              | 221.5                               | [0.5,3]; (1,2) of Qs0e1n3           | (48.6,50.3]; (2) of Qs0e1n3         | (2.89e+03,3.22e+03]; (2) of Qs0e1n3 |\n",
       "| Cebu                                | 1                                   | 2                                   | Female                              |  10                                 |  7.9                                | 1.1                                 | 71.7                                | 6373.0                              | 48.8                                | 3000.3                              |  0.6                                | 138.2                               | 3176.7                              | 104.2                               | [0.5,3]; (1,2) of Qs0e1n3           | (48.6,50.3]; (2) of Qs0e1n3         | (2.89e+03,3.22e+03]; (2) of Qs0e1n3 |\n",
       "| Cebu                                | 1                                   | 2                                   | Female                              |  12                                 |  9.0                                | 1.0                                 | 70.8                                | 7476.1                              | 48.8                                | 3000.3                              | 18.5                                | 330.3                               | 2014.7                              | 170.6                               | [0.5,3]; (1,2) of Qs0e1n3           | (48.6,50.3]; (2) of Qs0e1n3         | (2.89e+03,3.22e+03]; (2) of Qs0e1n3 |\n",
       "| ... | ... | ... | ... | ... | ... | ... | ... | ... | ... | ... | ... | ... | ... | ... | ... | ... | ... |\n",
       "| Guatemala                           | 14                                  | 2022                                | Male                                | 21                                  | NA                                  | 0.5                                 |   NA                                |      NA                             | 44.4                                | 2695.2                              |   NA                                |     NA                              |    NA                               |   NA                                | [0.5,3]; (1,2) of Qs0e1n3           | [40.9,48.6]; (1) of Qs0e1n3         | [1.41e+03,2.89e+03]; (1) of Qs0e1n3 |\n",
       "| Guatemala                           | 14                                  | 2022                                | Male                                | 24                                  | NA                                  | 0.5                                 |   NA                                |      NA                             | 44.4                                | 2695.2                              |   NA                                |     NA                              |    NA                               |   NA                                | [0.5,3]; (1,2) of Qs0e1n3           | [40.9,48.6]; (1) of Qs0e1n3         | [1.41e+03,2.89e+03]; (1) of Qs0e1n3 |\n",
       "| Guatemala                           | 14                                  | 2022                                | Male                                | 30                                  | NA                                  | 0.5                                 |   NA                                |      NA                             | 44.4                                | 2695.2                              |   NA                                |     NA                              |    NA                               |   NA                                | [0.5,3]; (1,2) of Qs0e1n3           | [40.9,48.6]; (1) of Qs0e1n3         | [1.41e+03,2.89e+03]; (1) of Qs0e1n3 |\n",
       "| Guatemala                           | 14                                  | 2022                                | Male                                | 36                                  | NA                                  | 0.5                                 | 72.5                                |  8279.2                             | 44.4                                | 2695.2                              |   NA                                |     NA                              |   0.5                               | 17.8                                | [0.5,3]; (1,2) of Qs0e1n3           | [40.9,48.6]; (1) of Qs0e1n3         | [1.41e+03,2.89e+03]; (1) of Qs0e1n3 |\n",
       "| Guatemala                           | 14                                  | 2022                                | Male                                | 42                                  | NA                                  | 0.5                                 | 81.4                                | 10677.7                             | 44.4                                | 2695.2                              | 45.9                                | 1943.2                              |  12.0                               |  7.0                                | [0.5,3]; (1,2) of Qs0e1n3           | [40.9,48.6]; (1) of Qs0e1n3         | [1.41e+03,2.89e+03]; (1) of Qs0e1n3 |\n",
       "| Guatemala                           | 14                                  | 2022                                | Male                                | 48                                  | NA                                  | 0.5                                 | 84.6                                | 12160.0                             | 44.4                                | 2695.2                              | 37.9                                | 1035.3                              | 232.9                               |  0.5                                | [0.5,3]; (1,2) of Qs0e1n3           | [40.9,48.6]; (1) of Qs0e1n3         | [1.41e+03,2.89e+03]; (1) of Qs0e1n3 |\n",
       "| Guatemala                           | 14                                  | 2022                                | Male                                | 60                                  | NA                                  | 0.5                                 |   NA                                |      NA                             | 44.4                                | 2695.2                              |   NA                                |     NA                              |    NA                               |   NA                                | [0.5,3]; (1,2) of Qs0e1n3           | [40.9,48.6]; (1) of Qs0e1n3         | [1.41e+03,2.89e+03]; (1) of Qs0e1n3 |\n",
       "| Guatemala                           | 14                                  | 2022                                | Male                                | 72                                  | NA                                  | 0.5                                 |   NA                                |      NA                             | 44.4                                | 2695.2                              |   NA                                |     NA                              |    NA                               |   NA                                | [0.5,3]; (1,2) of Qs0e1n3           | [40.9,48.6]; (1) of Qs0e1n3         | [1.41e+03,2.89e+03]; (1) of Qs0e1n3 |\n",
       "| Guatemala                           | 14                                  | 2022                                | Male                                | 84                                  | NA                                  | 0.5                                 |   NA                                |      NA                             | 44.4                                | 2695.2                              |   NA                                |     NA                              |    NA                               |   NA                                | [0.5,3]; (1,2) of Qs0e1n3           | [40.9,48.6]; (1) of Qs0e1n3         | [1.41e+03,2.89e+03]; (1) of Qs0e1n3 |\n",
       "| Guatemala                           | 14                                  | 2023                                | Male                                |  0                                  | NA                                  | 0.5                                 | 50.3                                |  3385.9                             | 50.9                                | 3662.2                              |   NA                                |     NA                              | 249.7                               | 19.1                                | [0.5,3]; (1,2) of Qs0e1n3           | (50.3,59]; (3) of Qs0e1n3           | (3.22e+03,5.18e+03]; (3) of Qs0e1n3 |\n",
       "| Guatemala                           | 14                                  | 2023                                | Male                                |  3                                  | NA                                  | 0.5                                 | 56.8                                |  5115.8                             | 50.9                                | 3662.2                              |  4.8                                |   65.8                              | 146.7                               |  0.5                                | [0.5,3]; (1,2) of Qs0e1n3           | (50.3,59]; (3) of Qs0e1n3           | (3.22e+03,5.18e+03]; (3) of Qs0e1n3 |\n",
       "| Guatemala                           | 14                                  | 2023                                | Male                                |  6                                  | NA                                  | 0.5                                 | 63.7                                |  5855.9                             | 50.9                                | 3662.2                              | 14.5                                |  340.6                              |  71.6                               |  6.3                                | [0.5,3]; (1,2) of Qs0e1n3           | (50.3,59]; (3) of Qs0e1n3           | (3.22e+03,5.18e+03]; (3) of Qs0e1n3 |\n",
       "| Guatemala                           | 14                                  | 2023                                | Male                                |  9                                  | NA                                  | 0.5                                 | 67.2                                |  5813.8                             | 50.9                                | 3662.2                              |  9.7                                |  236.5                              |   0.5                               | 12.4                                | [0.5,3]; (1,2) of Qs0e1n3           | (50.3,59]; (3) of Qs0e1n3           | (3.22e+03,5.18e+03]; (3) of Qs0e1n3 |\n",
       "| Guatemala                           | 14                                  | 2023                                | Male                                | 12                                  | NA                                  | 0.5                                 | 68.6                                |  8743.1                             | 50.9                                | 3662.2                              | 15.9                                |  431.8                              |   0.5                               | 13.9                                | [0.5,3]; (1,2) of Qs0e1n3           | (50.3,59]; (3) of Qs0e1n3           | (3.22e+03,5.18e+03]; (3) of Qs0e1n3 |\n",
       "| Guatemala                           | 14                                  | 2023                                | Male                                | 15                                  | NA                                  | 0.5                                 | 71.5                                | 10430.2                             | 50.9                                | 3662.2                              | 18.2                                |  517.2                              | 134.5                               |  0.5                                | [0.5,3]; (1,2) of Qs0e1n3           | (50.3,59]; (3) of Qs0e1n3           | (3.22e+03,5.18e+03]; (3) of Qs0e1n3 |\n",
       "| Guatemala                           | 14                                  | 2023                                | Male                                | 18                                  | NA                                  | 0.5                                 | 74.6                                |  9610.9                             | 50.9                                | 3662.2                              | 19.6                                |  442.3                              |   0.5                               |  5.1                                | [0.5,3]; (1,2) of Qs0e1n3           | (50.3,59]; (3) of Qs0e1n3           | (3.22e+03,5.18e+03]; (3) of Qs0e1n3 |\n",
       "| Guatemala                           | 14                                  | 2023                                | Male                                | 21                                  | NA                                  | 0.5                                 | 72.8                                |  7921.7                             | 50.9                                | 3662.2                              | 19.3                                |  398.8                              |  28.0                               |  0.5                                | [0.5,3]; (1,2) of Qs0e1n3           | (50.3,59]; (3) of Qs0e1n3           | (3.22e+03,5.18e+03]; (3) of Qs0e1n3 |\n",
       "| Guatemala                           | 14                                  | 2023                                | Male                                | 24                                  | NA                                  | 0.5                                 |   NA                                |      NA                             | 50.9                                | 3662.2                              |   NA                                |     NA                              |    NA                               |   NA                                | [0.5,3]; (1,2) of Qs0e1n3           | (50.3,59]; (3) of Qs0e1n3           | (3.22e+03,5.18e+03]; (3) of Qs0e1n3 |\n",
       "| Guatemala                           | 14                                  | 2023                                | Male                                | 30                                  | NA                                  | 0.5                                 |   NA                                |      NA                             | 50.9                                | 3662.2                              |   NA                                |     NA                              |    NA                               |   NA                                | [0.5,3]; (1,2) of Qs0e1n3           | (50.3,59]; (3) of Qs0e1n3           | (3.22e+03,5.18e+03]; (3) of Qs0e1n3 |\n",
       "| Guatemala                           | 14                                  | 2023                                | Male                                | 36                                  | NA                                  | 0.5                                 |   NA                                |      NA                             | 50.9                                | 3662.2                              |   NA                                |     NA                              |    NA                               |   NA                                | [0.5,3]; (1,2) of Qs0e1n3           | (50.3,59]; (3) of Qs0e1n3           | (3.22e+03,5.18e+03]; (3) of Qs0e1n3 |\n",
       "| Guatemala                           | 14                                  | 2023                                | Male                                | 42                                  | NA                                  | 0.5                                 |   NA                                |      NA                             | 50.9                                | 3662.2                              |   NA                                |     NA                              |    NA                               |   NA                                | [0.5,3]; (1,2) of Qs0e1n3           | (50.3,59]; (3) of Qs0e1n3           | (3.22e+03,5.18e+03]; (3) of Qs0e1n3 |\n",
       "| Guatemala                           | 14                                  | 2023                                | Male                                | 48                                  | NA                                  | 0.5                                 |   NA                                |      NA                             | 50.9                                | 3662.2                              |   NA                                |     NA                              |    NA                               |   NA                                | [0.5,3]; (1,2) of Qs0e1n3           | (50.3,59]; (3) of Qs0e1n3           | (3.22e+03,5.18e+03]; (3) of Qs0e1n3 |\n",
       "| Guatemala                           | 14                                  | 2023                                | Male                                | 60                                  | NA                                  | 0.5                                 |   NA                                |      NA                             | 50.9                                | 3662.2                              |   NA                                |     NA                              |    NA                               |   NA                                | [0.5,3]; (1,2) of Qs0e1n3           | (50.3,59]; (3) of Qs0e1n3           | (3.22e+03,5.18e+03]; (3) of Qs0e1n3 |\n",
       "| Guatemala                           | 14                                  | 2023                                | Male                                | 72                                  | NA                                  | 0.5                                 |   NA                                |      NA                             | 50.9                                | 3662.2                              |   NA                                |     NA                              |    NA                               |   NA                                | [0.5,3]; (1,2) of Qs0e1n3           | (50.3,59]; (3) of Qs0e1n3           | (3.22e+03,5.18e+03]; (3) of Qs0e1n3 |\n",
       "| Guatemala                           | 14                                  | 2023                                | Male                                | 84                                  | NA                                  | 0.5                                 |   NA                                |      NA                             | 50.9                                | 3662.2                              |   NA                                |     NA                              |    NA                               |   NA                                | [0.5,3]; (1,2) of Qs0e1n3           | (50.3,59]; (3) of Qs0e1n3           | (3.22e+03,5.18e+03]; (3) of Qs0e1n3 |\n",
       "\n"
      ],
      "text/plain": [
       "      S.country vil.id indi.id sex    svymthRound momEdu wealthIdx hgt  wgt    \n",
       "1     Cebu      1      1       Male     0         10.3   1.0       44.7  912.1 \n",
       "2     Cebu      1      1       Male     2         10.8   1.0       54.4 5892.8 \n",
       "3     Cebu      1      1       Male     4          8.2   1.0       60.4 5972.1 \n",
       "4     Cebu      1      1       Male     6          1.7   0.9       63.5 5667.2 \n",
       "5     Cebu      1      1       Male     8          9.3   0.9       65.9 7281.4 \n",
       "6     Cebu      1      1       Male    10          0.5   0.9       69.3 9756.9 \n",
       "7     Cebu      1      1       Male    12          0.5   1.0       69.0 7552.1 \n",
       "8     Cebu      1      1       Male    14         20.2   0.8         NA     NA \n",
       "9     Cebu      1      1       Male    16          2.4   1.0         NA     NA \n",
       "10    Cebu      1      1       Male    18         12.0   1.2         NA     NA \n",
       "11    Cebu      1      1       Male    20         23.2   0.8         NA     NA \n",
       "12    Cebu      1      1       Male    22          0.5   0.9         NA     NA \n",
       "13    Cebu      1      1       Male    24          0.5   1.1         NA     NA \n",
       "14    Cebu      1      1       Male   102          0.5   1.0         NA     NA \n",
       "15    Cebu      1      1       Male   138          4.6   0.9         NA     NA \n",
       "16    Cebu      1      1       Male   187          5.0   1.1         NA     NA \n",
       "17    Cebu      1      1       Male   224         21.8   1.2         NA     NA \n",
       "18    Cebu      1      1       Male   258         27.4   1.1         NA     NA \n",
       "19    Cebu      1      2       Female   0          5.2   1.0       49.3 1878.7 \n",
       "20    Cebu      1      2       Female   2         24.8   1.1       54.8 5560.6 \n",
       "21    Cebu      1      2       Female   4         15.4   1.0       59.5 6741.0 \n",
       "22    Cebu      1      2       Female   6         13.8   0.9       64.6 6158.1 \n",
       "23    Cebu      1      2       Female   8          3.3   0.9       69.0 8516.4 \n",
       "24    Cebu      1      2       Female  10          7.9   1.1       71.7 6373.0 \n",
       "25    Cebu      1      2       Female  12          9.0   1.0       70.8 7476.1 \n",
       "...   ...       ...    ...     ...    ...         ...    ...       ...  ...    \n",
       "35025 Guatemala 14     2022    Male   21          NA     0.5         NA      NA\n",
       "35026 Guatemala 14     2022    Male   24          NA     0.5         NA      NA\n",
       "35027 Guatemala 14     2022    Male   30          NA     0.5         NA      NA\n",
       "35028 Guatemala 14     2022    Male   36          NA     0.5       72.5  8279.2\n",
       "35029 Guatemala 14     2022    Male   42          NA     0.5       81.4 10677.7\n",
       "35030 Guatemala 14     2022    Male   48          NA     0.5       84.6 12160.0\n",
       "35031 Guatemala 14     2022    Male   60          NA     0.5         NA      NA\n",
       "35032 Guatemala 14     2022    Male   72          NA     0.5         NA      NA\n",
       "35033 Guatemala 14     2022    Male   84          NA     0.5         NA      NA\n",
       "35034 Guatemala 14     2023    Male    0          NA     0.5       50.3  3385.9\n",
       "35035 Guatemala 14     2023    Male    3          NA     0.5       56.8  5115.8\n",
       "35036 Guatemala 14     2023    Male    6          NA     0.5       63.7  5855.9\n",
       "35037 Guatemala 14     2023    Male    9          NA     0.5       67.2  5813.8\n",
       "35038 Guatemala 14     2023    Male   12          NA     0.5       68.6  8743.1\n",
       "35039 Guatemala 14     2023    Male   15          NA     0.5       71.5 10430.2\n",
       "35040 Guatemala 14     2023    Male   18          NA     0.5       74.6  9610.9\n",
       "35041 Guatemala 14     2023    Male   21          NA     0.5       72.8  7921.7\n",
       "35042 Guatemala 14     2023    Male   24          NA     0.5         NA      NA\n",
       "35043 Guatemala 14     2023    Male   30          NA     0.5         NA      NA\n",
       "35044 Guatemala 14     2023    Male   36          NA     0.5         NA      NA\n",
       "35045 Guatemala 14     2023    Male   42          NA     0.5         NA      NA\n",
       "35046 Guatemala 14     2023    Male   48          NA     0.5         NA      NA\n",
       "35047 Guatemala 14     2023    Male   60          NA     0.5         NA      NA\n",
       "35048 Guatemala 14     2023    Male   72          NA     0.5         NA      NA\n",
       "35049 Guatemala 14     2023    Male   84          NA     0.5         NA      NA\n",
       "      hgt0 wgt0   prot cal    p.A.prot p.A.nProt wealthIdx_Qs0e1n3        \n",
       "1     44.7 2038.4  0.7   0.5  3964.6    70.0     [0.5,3]; (1,2) of Qs0e1n3\n",
       "2     44.7 2038.4  0.5   0.5  1974.1   213.4     [0.5,3]; (1,2) of Qs0e1n3\n",
       "3     44.7 2038.4  0.5  12.5  1519.4   237.7     [0.5,3]; (1,2) of Qs0e1n3\n",
       "4     44.7 2038.4  5.7 154.0  2088.7   221.2     [0.5,3]; (1,2) of Qs0e1n3\n",
       "5     44.7 2038.4  2.1  70.8  2975.7   165.0     [0.5,3]; (1,2) of Qs0e1n3\n",
       "6     44.7 2038.4 15.0 292.7  2647.4   145.9     [0.5,3]; (1,2) of Qs0e1n3\n",
       "7     44.7 2038.4 12.9 342.6  1834.0   164.8     [0.5,3]; (1,2) of Qs0e1n3\n",
       "8     44.7 2038.4   NA    NA      NA      NA     [0.5,3]; (1,2) of Qs0e1n3\n",
       "9     44.7 2038.4   NA    NA      NA      NA     [0.5,3]; (1,2) of Qs0e1n3\n",
       "10    44.7 2038.4   NA    NA      NA      NA     [0.5,3]; (1,2) of Qs0e1n3\n",
       "11    44.7 2038.4   NA    NA      NA      NA     [0.5,3]; (1,2) of Qs0e1n3\n",
       "12    44.7 2038.4   NA    NA      NA      NA     [0.5,3]; (1,2) of Qs0e1n3\n",
       "13    44.7 2038.4   NA    NA      NA      NA     [0.5,3]; (1,2) of Qs0e1n3\n",
       "14    44.7 2038.4   NA    NA      NA      NA     [0.5,3]; (1,2) of Qs0e1n3\n",
       "15    44.7 2038.4   NA    NA      NA      NA     [0.5,3]; (1,2) of Qs0e1n3\n",
       "16    44.7 2038.4   NA    NA      NA      NA     [0.5,3]; (1,2) of Qs0e1n3\n",
       "17    44.7 2038.4   NA    NA      NA      NA     [0.5,3]; (1,2) of Qs0e1n3\n",
       "18    44.7 2038.4   NA    NA      NA      NA     [0.5,3]; (1,2) of Qs0e1n3\n",
       "19    48.8 3000.3  0.5   0.5  5223.0     0.5     [0.5,3]; (1,2) of Qs0e1n3\n",
       "20    48.8 3000.3  0.5 125.5  2874.0   204.9     [0.5,3]; (1,2) of Qs0e1n3\n",
       "21    48.8 3000.3  3.9 128.8  1471.2   230.3     [0.5,3]; (1,2) of Qs0e1n3\n",
       "22    48.8 3000.3  1.3  48.5  1328.5   228.8     [0.5,3]; (1,2) of Qs0e1n3\n",
       "23    48.8 3000.3 14.6 121.8  2870.7   221.5     [0.5,3]; (1,2) of Qs0e1n3\n",
       "24    48.8 3000.3  0.6 138.2  3176.7   104.2     [0.5,3]; (1,2) of Qs0e1n3\n",
       "25    48.8 3000.3 18.5 330.3  2014.7   170.6     [0.5,3]; (1,2) of Qs0e1n3\n",
       "...   ...  ...    ...  ...    ...      ...       ...                      \n",
       "35025 44.4 2695.2   NA     NA    NA      NA      [0.5,3]; (1,2) of Qs0e1n3\n",
       "35026 44.4 2695.2   NA     NA    NA      NA      [0.5,3]; (1,2) of Qs0e1n3\n",
       "35027 44.4 2695.2   NA     NA    NA      NA      [0.5,3]; (1,2) of Qs0e1n3\n",
       "35028 44.4 2695.2   NA     NA   0.5    17.8      [0.5,3]; (1,2) of Qs0e1n3\n",
       "35029 44.4 2695.2 45.9 1943.2  12.0     7.0      [0.5,3]; (1,2) of Qs0e1n3\n",
       "35030 44.4 2695.2 37.9 1035.3 232.9     0.5      [0.5,3]; (1,2) of Qs0e1n3\n",
       "35031 44.4 2695.2   NA     NA    NA      NA      [0.5,3]; (1,2) of Qs0e1n3\n",
       "35032 44.4 2695.2   NA     NA    NA      NA      [0.5,3]; (1,2) of Qs0e1n3\n",
       "35033 44.4 2695.2   NA     NA    NA      NA      [0.5,3]; (1,2) of Qs0e1n3\n",
       "35034 50.9 3662.2   NA     NA 249.7    19.1      [0.5,3]; (1,2) of Qs0e1n3\n",
       "35035 50.9 3662.2  4.8   65.8 146.7     0.5      [0.5,3]; (1,2) of Qs0e1n3\n",
       "35036 50.9 3662.2 14.5  340.6  71.6     6.3      [0.5,3]; (1,2) of Qs0e1n3\n",
       "35037 50.9 3662.2  9.7  236.5   0.5    12.4      [0.5,3]; (1,2) of Qs0e1n3\n",
       "35038 50.9 3662.2 15.9  431.8   0.5    13.9      [0.5,3]; (1,2) of Qs0e1n3\n",
       "35039 50.9 3662.2 18.2  517.2 134.5     0.5      [0.5,3]; (1,2) of Qs0e1n3\n",
       "35040 50.9 3662.2 19.6  442.3   0.5     5.1      [0.5,3]; (1,2) of Qs0e1n3\n",
       "35041 50.9 3662.2 19.3  398.8  28.0     0.5      [0.5,3]; (1,2) of Qs0e1n3\n",
       "35042 50.9 3662.2   NA     NA    NA      NA      [0.5,3]; (1,2) of Qs0e1n3\n",
       "35043 50.9 3662.2   NA     NA    NA      NA      [0.5,3]; (1,2) of Qs0e1n3\n",
       "35044 50.9 3662.2   NA     NA    NA      NA      [0.5,3]; (1,2) of Qs0e1n3\n",
       "35045 50.9 3662.2   NA     NA    NA      NA      [0.5,3]; (1,2) of Qs0e1n3\n",
       "35046 50.9 3662.2   NA     NA    NA      NA      [0.5,3]; (1,2) of Qs0e1n3\n",
       "35047 50.9 3662.2   NA     NA    NA      NA      [0.5,3]; (1,2) of Qs0e1n3\n",
       "35048 50.9 3662.2   NA     NA    NA      NA      [0.5,3]; (1,2) of Qs0e1n3\n",
       "35049 50.9 3662.2   NA     NA    NA      NA      [0.5,3]; (1,2) of Qs0e1n3\n",
       "      hgt0_Qs0e1n3                wgt0_Qs0e1n3                       \n",
       "1     [40.9,48.6]; (1) of Qs0e1n3 [1.41e+03,2.89e+03]; (1) of Qs0e1n3\n",
       "2     [40.9,48.6]; (1) of Qs0e1n3 [1.41e+03,2.89e+03]; (1) of Qs0e1n3\n",
       "3     [40.9,48.6]; (1) of Qs0e1n3 [1.41e+03,2.89e+03]; (1) of Qs0e1n3\n",
       "4     [40.9,48.6]; (1) of Qs0e1n3 [1.41e+03,2.89e+03]; (1) of Qs0e1n3\n",
       "5     [40.9,48.6]; (1) of Qs0e1n3 [1.41e+03,2.89e+03]; (1) of Qs0e1n3\n",
       "6     [40.9,48.6]; (1) of Qs0e1n3 [1.41e+03,2.89e+03]; (1) of Qs0e1n3\n",
       "7     [40.9,48.6]; (1) of Qs0e1n3 [1.41e+03,2.89e+03]; (1) of Qs0e1n3\n",
       "8     [40.9,48.6]; (1) of Qs0e1n3 [1.41e+03,2.89e+03]; (1) of Qs0e1n3\n",
       "9     [40.9,48.6]; (1) of Qs0e1n3 [1.41e+03,2.89e+03]; (1) of Qs0e1n3\n",
       "10    [40.9,48.6]; (1) of Qs0e1n3 [1.41e+03,2.89e+03]; (1) of Qs0e1n3\n",
       "11    [40.9,48.6]; (1) of Qs0e1n3 [1.41e+03,2.89e+03]; (1) of Qs0e1n3\n",
       "12    [40.9,48.6]; (1) of Qs0e1n3 [1.41e+03,2.89e+03]; (1) of Qs0e1n3\n",
       "13    [40.9,48.6]; (1) of Qs0e1n3 [1.41e+03,2.89e+03]; (1) of Qs0e1n3\n",
       "14    [40.9,48.6]; (1) of Qs0e1n3 [1.41e+03,2.89e+03]; (1) of Qs0e1n3\n",
       "15    [40.9,48.6]; (1) of Qs0e1n3 [1.41e+03,2.89e+03]; (1) of Qs0e1n3\n",
       "16    [40.9,48.6]; (1) of Qs0e1n3 [1.41e+03,2.89e+03]; (1) of Qs0e1n3\n",
       "17    [40.9,48.6]; (1) of Qs0e1n3 [1.41e+03,2.89e+03]; (1) of Qs0e1n3\n",
       "18    [40.9,48.6]; (1) of Qs0e1n3 [1.41e+03,2.89e+03]; (1) of Qs0e1n3\n",
       "19    (48.6,50.3]; (2) of Qs0e1n3 (2.89e+03,3.22e+03]; (2) of Qs0e1n3\n",
       "20    (48.6,50.3]; (2) of Qs0e1n3 (2.89e+03,3.22e+03]; (2) of Qs0e1n3\n",
       "21    (48.6,50.3]; (2) of Qs0e1n3 (2.89e+03,3.22e+03]; (2) of Qs0e1n3\n",
       "22    (48.6,50.3]; (2) of Qs0e1n3 (2.89e+03,3.22e+03]; (2) of Qs0e1n3\n",
       "23    (48.6,50.3]; (2) of Qs0e1n3 (2.89e+03,3.22e+03]; (2) of Qs0e1n3\n",
       "24    (48.6,50.3]; (2) of Qs0e1n3 (2.89e+03,3.22e+03]; (2) of Qs0e1n3\n",
       "25    (48.6,50.3]; (2) of Qs0e1n3 (2.89e+03,3.22e+03]; (2) of Qs0e1n3\n",
       "...   ...                         ...                                \n",
       "35025 [40.9,48.6]; (1) of Qs0e1n3 [1.41e+03,2.89e+03]; (1) of Qs0e1n3\n",
       "35026 [40.9,48.6]; (1) of Qs0e1n3 [1.41e+03,2.89e+03]; (1) of Qs0e1n3\n",
       "35027 [40.9,48.6]; (1) of Qs0e1n3 [1.41e+03,2.89e+03]; (1) of Qs0e1n3\n",
       "35028 [40.9,48.6]; (1) of Qs0e1n3 [1.41e+03,2.89e+03]; (1) of Qs0e1n3\n",
       "35029 [40.9,48.6]; (1) of Qs0e1n3 [1.41e+03,2.89e+03]; (1) of Qs0e1n3\n",
       "35030 [40.9,48.6]; (1) of Qs0e1n3 [1.41e+03,2.89e+03]; (1) of Qs0e1n3\n",
       "35031 [40.9,48.6]; (1) of Qs0e1n3 [1.41e+03,2.89e+03]; (1) of Qs0e1n3\n",
       "35032 [40.9,48.6]; (1) of Qs0e1n3 [1.41e+03,2.89e+03]; (1) of Qs0e1n3\n",
       "35033 [40.9,48.6]; (1) of Qs0e1n3 [1.41e+03,2.89e+03]; (1) of Qs0e1n3\n",
       "35034 (50.3,59]; (3) of Qs0e1n3   (3.22e+03,5.18e+03]; (3) of Qs0e1n3\n",
       "35035 (50.3,59]; (3) of Qs0e1n3   (3.22e+03,5.18e+03]; (3) of Qs0e1n3\n",
       "35036 (50.3,59]; (3) of Qs0e1n3   (3.22e+03,5.18e+03]; (3) of Qs0e1n3\n",
       "35037 (50.3,59]; (3) of Qs0e1n3   (3.22e+03,5.18e+03]; (3) of Qs0e1n3\n",
       "35038 (50.3,59]; (3) of Qs0e1n3   (3.22e+03,5.18e+03]; (3) of Qs0e1n3\n",
       "35039 (50.3,59]; (3) of Qs0e1n3   (3.22e+03,5.18e+03]; (3) of Qs0e1n3\n",
       "35040 (50.3,59]; (3) of Qs0e1n3   (3.22e+03,5.18e+03]; (3) of Qs0e1n3\n",
       "35041 (50.3,59]; (3) of Qs0e1n3   (3.22e+03,5.18e+03]; (3) of Qs0e1n3\n",
       "35042 (50.3,59]; (3) of Qs0e1n3   (3.22e+03,5.18e+03]; (3) of Qs0e1n3\n",
       "35043 (50.3,59]; (3) of Qs0e1n3   (3.22e+03,5.18e+03]; (3) of Qs0e1n3\n",
       "35044 (50.3,59]; (3) of Qs0e1n3   (3.22e+03,5.18e+03]; (3) of Qs0e1n3\n",
       "35045 (50.3,59]; (3) of Qs0e1n3   (3.22e+03,5.18e+03]; (3) of Qs0e1n3\n",
       "35046 (50.3,59]; (3) of Qs0e1n3   (3.22e+03,5.18e+03]; (3) of Qs0e1n3\n",
       "35047 (50.3,59]; (3) of Qs0e1n3   (3.22e+03,5.18e+03]; (3) of Qs0e1n3\n",
       "35048 (50.3,59]; (3) of Qs0e1n3   (3.22e+03,5.18e+03]; (3) of Qs0e1n3\n",
       "35049 (50.3,59]; (3) of Qs0e1n3   (3.22e+03,5.18e+03]; (3) of Qs0e1n3"
      ]
     },
     "metadata": {},
     "output_type": "display_data"
    }
   ],
   "source": [
    "options(repr.matrix.max.rows=50, repr.matrix.max.cols=20)\n",
    "df.with.cut.quant"
   ]
  },
  {
   "cell_type": "markdown",
   "metadata": {},
   "source": [
    "### Individual Variables' Quantile Cuts Review Results"
   ]
  },
  {
   "cell_type": "code",
   "execution_count": 26,
   "metadata": {},
   "outputs": [],
   "source": [
    "# Group By Results\n",
    "f.count <- function(df, var.cts) {\n",
    "    df %>% select(S.country, indi.id, svymthRound, matches(paste0(var.cts, collapse='|'))) %>%\n",
    "        group_by(!!sym(f_var_rename(paste0(var.cts,'_q'), seq.quantiles))) %>%\n",
    "        summarise_all(funs(n=n()))\n",
    "}"
   ]
  },
  {
   "cell_type": "code",
   "execution_count": 27,
   "metadata": {},
   "outputs": [
    {
     "data": {
      "text/html": [
       "<ol>\n",
       "\t<li><table>\n",
       "<thead><tr><th scope=col>wealthIdx_Qs0e1n3</th><th scope=col>S.country_n</th><th scope=col>indi.id_n</th><th scope=col>svymthRound_n</th><th scope=col>wealthIdx_n</th></tr></thead>\n",
       "<tbody>\n",
       "\t<tr><td>[0.5,3]; (1,2) of Qs0e1n3</td><td>23258                    </td><td>23258                    </td><td>23258                    </td><td>23258                    </td></tr>\n",
       "\t<tr><td>(3,14]; (3) of Qs0e1n3   </td><td>11784                    </td><td>11784                    </td><td>11784                    </td><td>11784                    </td></tr>\n",
       "\t<tr><td>NA                       </td><td>    7                    </td><td>    7                    </td><td>    7                    </td><td>    7                    </td></tr>\n",
       "</tbody>\n",
       "</table>\n",
       "</li>\n",
       "\t<li><table>\n",
       "<thead><tr><th scope=col>hgt0_Qs0e1n3</th><th scope=col>S.country_n</th><th scope=col>indi.id_n</th><th scope=col>svymthRound_n</th><th scope=col>hgt0_n</th></tr></thead>\n",
       "<tbody>\n",
       "\t<tr><td>[40.9,48.6]; (1) of Qs0e1n3</td><td>10476                      </td><td>10476                      </td><td>10476                      </td><td>10476                      </td></tr>\n",
       "\t<tr><td>(48.6,50.3]; (2) of Qs0e1n3</td><td> 9724                      </td><td> 9724                      </td><td> 9724                      </td><td> 9724                      </td></tr>\n",
       "\t<tr><td>(50.3,59]; (3) of Qs0e1n3  </td><td> 9597                      </td><td> 9597                      </td><td> 9597                      </td><td> 9597                      </td></tr>\n",
       "\t<tr><td>NA                         </td><td> 5252                      </td><td> 5252                      </td><td> 5252                      </td><td> 5252                      </td></tr>\n",
       "</tbody>\n",
       "</table>\n",
       "</li>\n",
       "\t<li><table>\n",
       "<thead><tr><th scope=col>wgt0_Qs0e1n3</th><th scope=col>S.country_n</th><th scope=col>indi.id_n</th><th scope=col>svymthRound_n</th><th scope=col>wgt0_n</th></tr></thead>\n",
       "<tbody>\n",
       "\t<tr><td>[1.41e+03,2.89e+03]; (1) of Qs0e1n3</td><td>10032                              </td><td>10032                              </td><td>10032                              </td><td>10032                              </td></tr>\n",
       "\t<tr><td>(2.89e+03,3.22e+03]; (2) of Qs0e1n3</td><td> 9990                              </td><td> 9990                              </td><td> 9990                              </td><td> 9990                              </td></tr>\n",
       "\t<tr><td>(3.22e+03,5.18e+03]; (3) of Qs0e1n3</td><td> 9759                              </td><td> 9759                              </td><td> 9759                              </td><td> 9759                              </td></tr>\n",
       "\t<tr><td>NA                                 </td><td> 5268                              </td><td> 5268                              </td><td> 5268                              </td><td> 5268                              </td></tr>\n",
       "</tbody>\n",
       "</table>\n",
       "</li>\n",
       "</ol>\n"
      ],
      "text/latex": [
       "\\begin{enumerate}\n",
       "\\item \\begin{tabular}{r|lllll}\n",
       " wealthIdx\\_Qs0e1n3 & S.country\\_n & indi.id\\_n & svymthRound\\_n & wealthIdx\\_n\\\\\n",
       "\\hline\n",
       "\t {[}0.5,3{]}; (1,2) of Qs0e1n3 & 23258                         & 23258                         & 23258                         & 23258                        \\\\\n",
       "\t (3,14{]}; (3) of Qs0e1n3    & 11784                       & 11784                       & 11784                       & 11784                      \\\\\n",
       "\t NA                        &     7                     &     7                     &     7                     &     7                    \\\\\n",
       "\\end{tabular}\n",
       "\n",
       "\\item \\begin{tabular}{r|lllll}\n",
       " hgt0\\_Qs0e1n3 & S.country\\_n & indi.id\\_n & svymthRound\\_n & hgt0\\_n\\\\\n",
       "\\hline\n",
       "\t {[}40.9,48.6{]}; (1) of Qs0e1n3 & 10476                           & 10476                           & 10476                           & 10476                          \\\\\n",
       "\t (48.6,50.3{]}; (2) of Qs0e1n3 &  9724                         &  9724                         &  9724                         &  9724                        \\\\\n",
       "\t (50.3,59{]}; (3) of Qs0e1n3   &  9597                         &  9597                         &  9597                         &  9597                        \\\\\n",
       "\t NA                          &  5252                       &  5252                       &  5252                       &  5252                      \\\\\n",
       "\\end{tabular}\n",
       "\n",
       "\\item \\begin{tabular}{r|lllll}\n",
       " wgt0\\_Qs0e1n3 & S.country\\_n & indi.id\\_n & svymthRound\\_n & wgt0\\_n\\\\\n",
       "\\hline\n",
       "\t {[}1.41e+03,2.89e+03{]}; (1) of Qs0e1n3 & 10032                                   & 10032                                   & 10032                                   & 10032                                  \\\\\n",
       "\t (2.89e+03,3.22e+03{]}; (2) of Qs0e1n3 &  9990                                 &  9990                                 &  9990                                 &  9990                                \\\\\n",
       "\t (3.22e+03,5.18e+03{]}; (3) of Qs0e1n3 &  9759                                 &  9759                                 &  9759                                 &  9759                                \\\\\n",
       "\t NA                                  &  5268                               &  5268                               &  5268                               &  5268                              \\\\\n",
       "\\end{tabular}\n",
       "\n",
       "\\end{enumerate}\n"
      ],
      "text/markdown": [
       "1. \n",
       "| wealthIdx_Qs0e1n3 | S.country_n | indi.id_n | svymthRound_n | wealthIdx_n |\n",
       "|---|---|---|---|---|\n",
       "| [0.5,3]; (1,2) of Qs0e1n3 | 23258                     | 23258                     | 23258                     | 23258                     |\n",
       "| (3,14]; (3) of Qs0e1n3    | 11784                     | 11784                     | 11784                     | 11784                     |\n",
       "| NA                        |     7                     |     7                     |     7                     |     7                     |\n",
       "\n",
       "\n",
       "2. \n",
       "| hgt0_Qs0e1n3 | S.country_n | indi.id_n | svymthRound_n | hgt0_n |\n",
       "|---|---|---|---|---|\n",
       "| [40.9,48.6]; (1) of Qs0e1n3 | 10476                       | 10476                       | 10476                       | 10476                       |\n",
       "| (48.6,50.3]; (2) of Qs0e1n3 |  9724                       |  9724                       |  9724                       |  9724                       |\n",
       "| (50.3,59]; (3) of Qs0e1n3   |  9597                       |  9597                       |  9597                       |  9597                       |\n",
       "| NA                          |  5252                       |  5252                       |  5252                       |  5252                       |\n",
       "\n",
       "\n",
       "3. \n",
       "| wgt0_Qs0e1n3 | S.country_n | indi.id_n | svymthRound_n | wgt0_n |\n",
       "|---|---|---|---|---|\n",
       "| [1.41e+03,2.89e+03]; (1) of Qs0e1n3 | 10032                               | 10032                               | 10032                               | 10032                               |\n",
       "| (2.89e+03,3.22e+03]; (2) of Qs0e1n3 |  9990                               |  9990                               |  9990                               |  9990                               |\n",
       "| (3.22e+03,5.18e+03]; (3) of Qs0e1n3 |  9759                               |  9759                               |  9759                               |  9759                               |\n",
       "| NA                                  |  5268                               |  5268                               |  5268                               |  5268                               |\n",
       "\n",
       "\n",
       "\n",
       "\n"
      ],
      "text/plain": [
       "[[1]]\n",
       "# A tibble: 3 x 5\n",
       "  wealthIdx_Qs0e1n3         S.country_n indi.id_n svymthRound_n wealthIdx_n\n",
       "  <fct>                           <int>     <int>         <int>       <int>\n",
       "1 [0.5,3]; (1,2) of Qs0e1n3       23258     23258         23258       23258\n",
       "2 (3,14]; (3) of Qs0e1n3          11784     11784         11784       11784\n",
       "3 <NA>                                7         7             7           7\n",
       "\n",
       "[[2]]\n",
       "# A tibble: 4 x 5\n",
       "  hgt0_Qs0e1n3                S.country_n indi.id_n svymthRound_n hgt0_n\n",
       "  <fct>                             <int>     <int>         <int>  <int>\n",
       "1 [40.9,48.6]; (1) of Qs0e1n3       10476     10476         10476  10476\n",
       "2 (48.6,50.3]; (2) of Qs0e1n3        9724      9724          9724   9724\n",
       "3 (50.3,59]; (3) of Qs0e1n3          9597      9597          9597   9597\n",
       "4 <NA>                               5252      5252          5252   5252\n",
       "\n",
       "[[3]]\n",
       "# A tibble: 4 x 5\n",
       "  wgt0_Qs0e1n3                        S.country_n indi.id_n svymthRound_n wgt0_n\n",
       "  <fct>                                     <int>     <int>         <int>  <int>\n",
       "1 [1.41e+03,2.89e+03]; (1) of Qs0e1n3       10032     10032         10032  10032\n",
       "2 (2.89e+03,3.22e+03]; (2) of Qs0e1n3        9990      9990          9990   9990\n",
       "3 (3.22e+03,5.18e+03]; (3) of Qs0e1n3        9759      9759          9759   9759\n",
       "4 <NA>                                       5268      5268          5268   5268\n"
      ]
     },
     "metadata": {},
     "output_type": "display_data"
    }
   ],
   "source": [
    "# Full Panel Results\n",
    "lapply(vars.cts2quantile, f.count, df=df.with.cut.quant)"
   ]
  },
  {
   "cell_type": "code",
   "execution_count": 28,
   "metadata": {},
   "outputs": [
    {
     "data": {
      "text/html": [
       "<ol>\n",
       "\t<li><table>\n",
       "<thead><tr><th scope=col>wealthIdx_Qs0e1n3</th><th scope=col>S.country_n</th><th scope=col>indi.id_n</th><th scope=col>svymthRound_n</th><th scope=col>wealthIdx_n</th></tr></thead>\n",
       "<tbody>\n",
       "\t<tr><td>[0.5,3]; (1,2) of Qs0e1n3</td><td>1366                     </td><td>1366                     </td><td>1366                     </td><td>1366                     </td></tr>\n",
       "\t<tr><td>(3,14]; (3) of Qs0e1n3   </td><td> 657                     </td><td> 657                     </td><td> 657                     </td><td> 657                     </td></tr>\n",
       "</tbody>\n",
       "</table>\n",
       "</li>\n",
       "\t<li><table>\n",
       "<thead><tr><th scope=col>hgt0_Qs0e1n3</th><th scope=col>S.country_n</th><th scope=col>indi.id_n</th><th scope=col>svymthRound_n</th><th scope=col>hgt0_n</th></tr></thead>\n",
       "<tbody>\n",
       "\t<tr><td>[40.9,48.6]; (1) of Qs0e1n3</td><td>594                        </td><td>594                        </td><td>594                        </td><td>594                        </td></tr>\n",
       "\t<tr><td>(48.6,50.3]; (2) of Qs0e1n3</td><td>552                        </td><td>552                        </td><td>552                        </td><td>552                        </td></tr>\n",
       "\t<tr><td>(50.3,59]; (3) of Qs0e1n3  </td><td>549                        </td><td>549                        </td><td>549                        </td><td>549                        </td></tr>\n",
       "\t<tr><td>NA                         </td><td>328                        </td><td>328                        </td><td>328                        </td><td>328                        </td></tr>\n",
       "</tbody>\n",
       "</table>\n",
       "</li>\n",
       "\t<li><table>\n",
       "<thead><tr><th scope=col>wgt0_Qs0e1n3</th><th scope=col>S.country_n</th><th scope=col>indi.id_n</th><th scope=col>svymthRound_n</th><th scope=col>wgt0_n</th></tr></thead>\n",
       "<tbody>\n",
       "\t<tr><td>[1.41e+03,2.89e+03]; (1) of Qs0e1n3</td><td>565                                </td><td>565                                </td><td>565                                </td><td>565                                </td></tr>\n",
       "\t<tr><td>(2.89e+03,3.22e+03]; (2) of Qs0e1n3</td><td>564                                </td><td>564                                </td><td>564                                </td><td>564                                </td></tr>\n",
       "\t<tr><td>(3.22e+03,5.18e+03]; (3) of Qs0e1n3</td><td>565                                </td><td>565                                </td><td>565                                </td><td>565                                </td></tr>\n",
       "\t<tr><td>NA                                 </td><td>329                                </td><td>329                                </td><td>329                                </td><td>329                                </td></tr>\n",
       "</tbody>\n",
       "</table>\n",
       "</li>\n",
       "</ol>\n"
      ],
      "text/latex": [
       "\\begin{enumerate}\n",
       "\\item \\begin{tabular}{r|lllll}\n",
       " wealthIdx\\_Qs0e1n3 & S.country\\_n & indi.id\\_n & svymthRound\\_n & wealthIdx\\_n\\\\\n",
       "\\hline\n",
       "\t {[}0.5,3{]}; (1,2) of Qs0e1n3 & 1366                          & 1366                          & 1366                          & 1366                         \\\\\n",
       "\t (3,14{]}; (3) of Qs0e1n3    &  657                        &  657                        &  657                        &  657                       \\\\\n",
       "\\end{tabular}\n",
       "\n",
       "\\item \\begin{tabular}{r|lllll}\n",
       " hgt0\\_Qs0e1n3 & S.country\\_n & indi.id\\_n & svymthRound\\_n & hgt0\\_n\\\\\n",
       "\\hline\n",
       "\t {[}40.9,48.6{]}; (1) of Qs0e1n3 & 594                             & 594                             & 594                             & 594                            \\\\\n",
       "\t (48.6,50.3{]}; (2) of Qs0e1n3 & 552                           & 552                           & 552                           & 552                          \\\\\n",
       "\t (50.3,59{]}; (3) of Qs0e1n3   & 549                           & 549                           & 549                           & 549                          \\\\\n",
       "\t NA                          & 328                         & 328                         & 328                         & 328                        \\\\\n",
       "\\end{tabular}\n",
       "\n",
       "\\item \\begin{tabular}{r|lllll}\n",
       " wgt0\\_Qs0e1n3 & S.country\\_n & indi.id\\_n & svymthRound\\_n & wgt0\\_n\\\\\n",
       "\\hline\n",
       "\t {[}1.41e+03,2.89e+03{]}; (1) of Qs0e1n3 & 565                                     & 565                                     & 565                                     & 565                                    \\\\\n",
       "\t (2.89e+03,3.22e+03{]}; (2) of Qs0e1n3 & 564                                   & 564                                   & 564                                   & 564                                  \\\\\n",
       "\t (3.22e+03,5.18e+03{]}; (3) of Qs0e1n3 & 565                                   & 565                                   & 565                                   & 565                                  \\\\\n",
       "\t NA                                  & 329                                 & 329                                 & 329                                 & 329                                \\\\\n",
       "\\end{tabular}\n",
       "\n",
       "\\end{enumerate}\n"
      ],
      "text/markdown": [
       "1. \n",
       "| wealthIdx_Qs0e1n3 | S.country_n | indi.id_n | svymthRound_n | wealthIdx_n |\n",
       "|---|---|---|---|---|\n",
       "| [0.5,3]; (1,2) of Qs0e1n3 | 1366                      | 1366                      | 1366                      | 1366                      |\n",
       "| (3,14]; (3) of Qs0e1n3    |  657                      |  657                      |  657                      |  657                      |\n",
       "\n",
       "\n",
       "2. \n",
       "| hgt0_Qs0e1n3 | S.country_n | indi.id_n | svymthRound_n | hgt0_n |\n",
       "|---|---|---|---|---|\n",
       "| [40.9,48.6]; (1) of Qs0e1n3 | 594                         | 594                         | 594                         | 594                         |\n",
       "| (48.6,50.3]; (2) of Qs0e1n3 | 552                         | 552                         | 552                         | 552                         |\n",
       "| (50.3,59]; (3) of Qs0e1n3   | 549                         | 549                         | 549                         | 549                         |\n",
       "| NA                          | 328                         | 328                         | 328                         | 328                         |\n",
       "\n",
       "\n",
       "3. \n",
       "| wgt0_Qs0e1n3 | S.country_n | indi.id_n | svymthRound_n | wgt0_n |\n",
       "|---|---|---|---|---|\n",
       "| [1.41e+03,2.89e+03]; (1) of Qs0e1n3 | 565                                 | 565                                 | 565                                 | 565                                 |\n",
       "| (2.89e+03,3.22e+03]; (2) of Qs0e1n3 | 564                                 | 564                                 | 564                                 | 564                                 |\n",
       "| (3.22e+03,5.18e+03]; (3) of Qs0e1n3 | 565                                 | 565                                 | 565                                 | 565                                 |\n",
       "| NA                                  | 329                                 | 329                                 | 329                                 | 329                                 |\n",
       "\n",
       "\n",
       "\n",
       "\n"
      ],
      "text/plain": [
       "[[1]]\n",
       "# A tibble: 2 x 5\n",
       "  wealthIdx_Qs0e1n3         S.country_n indi.id_n svymthRound_n wealthIdx_n\n",
       "  <fct>                           <int>     <int>         <int>       <int>\n",
       "1 [0.5,3]; (1,2) of Qs0e1n3        1366      1366          1366        1366\n",
       "2 (3,14]; (3) of Qs0e1n3            657       657           657         657\n",
       "\n",
       "[[2]]\n",
       "# A tibble: 4 x 5\n",
       "  hgt0_Qs0e1n3                S.country_n indi.id_n svymthRound_n hgt0_n\n",
       "  <fct>                             <int>     <int>         <int>  <int>\n",
       "1 [40.9,48.6]; (1) of Qs0e1n3         594       594           594    594\n",
       "2 (48.6,50.3]; (2) of Qs0e1n3         552       552           552    552\n",
       "3 (50.3,59]; (3) of Qs0e1n3           549       549           549    549\n",
       "4 <NA>                                328       328           328    328\n",
       "\n",
       "[[3]]\n",
       "# A tibble: 4 x 5\n",
       "  wgt0_Qs0e1n3                        S.country_n indi.id_n svymthRound_n wgt0_n\n",
       "  <fct>                                     <int>     <int>         <int>  <int>\n",
       "1 [1.41e+03,2.89e+03]; (1) of Qs0e1n3         565       565           565    565\n",
       "2 (2.89e+03,3.22e+03]; (2) of Qs0e1n3         564       564           564    564\n",
       "3 (3.22e+03,5.18e+03]; (3) of Qs0e1n3         565       565           565    565\n",
       "4 <NA>                                        329       329           329    329\n"
      ]
     },
     "metadata": {},
     "output_type": "display_data"
    }
   ],
   "source": [
    "# Results Individual Slice\n",
    "lapply(vars.cts2quantile, f.count, \n",
    "       df=(df.with.cut.quant %>% group_by(!!!syms(vars.group_by)) %>% arrange(!!!syms(vars.arrange)) %>% slice(1L)))"
   ]
  },
  {
   "cell_type": "markdown",
   "metadata": {},
   "source": [
    "### Combine Groups"
   ]
  }
 ],
 "metadata": {
  "kernelspec": {
   "display_name": "R",
   "language": "R",
   "name": "ir"
  },
  "language_info": {
   "codemirror_mode": "r",
   "file_extension": ".r",
   "mimetype": "text/x-r-source",
   "name": "R",
   "pygments_lexer": "r",
   "version": "3.5.1"
  }
 },
 "nbformat": 4,
 "nbformat_minor": 2
}
