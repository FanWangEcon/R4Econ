{
 "cells": [
  {
   "cell_type": "markdown",
   "metadata": {},
   "source": [
    "Back to **[Fan](https://fanwangecon.github.io/)**'s R4Econ Homepage **[Table of Content](https://fanwangecon.github.io/R4Econ/)**\n",
    "\n",
    "# Generate Joint Quantiles from Multiple Continuous Variables as a Categorical Variable with Linear Index\n",
    "\n",
    "There are multiple or a single continuous variables. Find which quantile each observation belongs to for each of the variables. Then also generate a joint/interaction variable of all combinations of quantiles from different variables.\n",
    "\n",
    "The program has these features:\n",
    "\n",
    "1. Quantiles breaks are generated based on group_by characteristics, meaning quantiles for individual level characteristics when data is panel\n",
    "2. Quantiles variables apply to full panel at within-group observation levels.\n",
    "3. Robust to non-unique breaks for quantiles (non-unique grouped together)\n",
    "4. Quantile categories have detailed labeling (specifying which non-unique groupings belong to quantile)\n",
    "\n",
    "\n",
    "When joining multiple quantile variables together:\n",
    "\n",
    "1. First check if only calculate quantiles at observations where all quantile base variables are not null\n",
    "2. Calculate Quantiles for each variable, with different quantile levels for sub-groups of variables\n",
    "3. Summary statistics by mulltiple quantile-categorical variables, summary "
   ]
  },
  {
   "cell_type": "markdown",
   "metadata": {},
   "source": [
    "## Program"
   ]
  },
  {
   "cell_type": "markdown",
   "metadata": {},
   "source": [
    "### Support Functions"
   ]
  },
  {
   "cell_type": "code",
   "execution_count": 480,
   "metadata": {},
   "outputs": [],
   "source": [
    "# Quantiles for any variable\n",
    "gen_quantiles <- function(var, df, prob=c(0.25, 0.50, 0.75)) {\n",
    "    enframe(quantile(as.numeric(df[[var]]), prob, na.rm=TRUE), 'quant.perc', var) \n",
    "}\n",
    "# Support Functions for Variable Suffix \n",
    "f_Q_suffix <- function(seq.quantiles) {\n",
    "    quantile.suffix <- paste0('Qs', min(seq.quantiles),\n",
    "                              'e', max(seq.quantiles),\n",
    "                              'n', (length(seq.quantiles)-1))\n",
    "}\n",
    "# Support Functions for Quantile Labeling\n",
    "f_Q_label <- function(arr.quantiles, \n",
    "                      arr.sort.unique.quantile,\n",
    "                      seq.quantiles) {\n",
    "    paste0('(', \n",
    "           paste0(which(arr.quantiles %in% arr.sort.unique.quantile), collapse=','), \n",
    "           ') of ', f_Q_suffix(seq.quantiles)) \n",
    "}\n",
    "# Generate New Variable Names with Quantile Suffix\n",
    "f_var_rename <- function(name, seq.quantiles) {\n",
    "    quantile.suffix <- paste0('_', f_Q_suffix(seq.quantiles))\n",
    "    return(sub('_q', quantile.suffix, name))\n",
    "}"
   ]
  },
  {
   "cell_type": "markdown",
   "metadata": {},
   "source": [
    "### Data Slicing and Quantile Generation\n",
    "\n",
    "- Function 1: generate quantiles based on group-specific characteristics. the groups could be at the panel observation level as well. "
   ]
  },
  {
   "cell_type": "code",
   "execution_count": 481,
   "metadata": {},
   "outputs": [],
   "source": [
    "# First Step, given groups, generate quantiles based on group characteristics\n",
    "# vars.cts2quantile <- c('wealthIdx', 'hgt0', 'wgt0')\n",
    "# seq.quantiles <- c(0, 0.3333, 0.6666, 1.0)\n",
    "# vars.group_by <- c('indi.id')\n",
    "# vars.arrange <- c('indi.id', 'svymthRound')\n",
    "# vars.continuous <- c('wealthIdx', 'hgt0', 'wgt0')\n",
    "df_sliced_quantiles <- function(df, vars.cts2quantile, seq.quantiles, \n",
    "                                vars.group_by, vars.arrange) {\n",
    "    \n",
    "    # Slicing data\n",
    "    df.grp.L1 <- df %>% group_by(!!!syms(vars.group_by)) %>% arrange(!!!syms(vars.arrange)) %>% slice(1L) %>% ungroup()\n",
    "    \n",
    "    # Quantiles based on sliced data\n",
    "    df.sliced.quantiles <- lapply(vars.cts2quantile, gen_quantiles, df=df.grp.L1, prob=seq.quantiles) %>% reduce(full_join)\n",
    "    \n",
    "    return(list(df.sliced.quantiles=df.sliced.quantiles, \n",
    "                df.grp.L1=df.grp.L1))\n",
    "}"
   ]
  },
  {
   "cell_type": "markdown",
   "metadata": {},
   "source": [
    "## Data Cutting\n",
    "\n",
    "- Function 2: cut groups for full panel dataframe based on group-specific characteristics quantiles."
   ]
  },
  {
   "cell_type": "code",
   "execution_count": 482,
   "metadata": {},
   "outputs": [],
   "source": [
    "# Cutting Function, Cut Continuous Variables into Quantiles with labeing\n",
    "f_cut <- function(var, df.sliced.quantiles, include.lowest=TRUE, fan.labels=TRUE, print=FALSE) {\n",
    "    \n",
    "    # unparsed string variable name\n",
    "    var.str <- substitute(var)\n",
    "    \n",
    "    # Breaks\n",
    "    arr.quantiles <- df.sliced.quantiles[[var.str]]\n",
    "    arr.sort.unique.quantiles <- sort(unique(arr.quantiles))\n",
    "    if (print) {\n",
    "        print(arr.sort.unique.quantiles)\n",
    "    }\n",
    "    \n",
    "    # Regular cutting With Standard Labels\n",
    "    # TRUE, means the lowest group has closed bracket left and right \n",
    "    var.quantile <- cut(var, breaks=arr.sort.unique.quantiles, include.lowest=include.lowest)\n",
    "    \n",
    "    # Use my custom labels\n",
    "    if (fan.labels) {\n",
    "        levels.suffix <- lapply(arr.sort.unique.quantiles[1:(length(arr.sort.unique.quantiles)-1)],\n",
    "                                f_Q_label,\n",
    "                                arr.quantiles=arr.quantiles,\n",
    "                                seq.quantiles=seq.quantiles)\n",
    "        if (print) {\n",
    "            print(levels.suffix)\n",
    "        }\n",
    "        levels(var.quantile) <- paste0(levels(var.quantile), '; ', levels.suffix)\n",
    "    }\n",
    "    \n",
    "    # Return\n",
    "    return(var.quantile)\n",
    "}"
   ]
  },
  {
   "cell_type": "code",
   "execution_count": 483,
   "metadata": {},
   "outputs": [],
   "source": [
    "# Combo Quantile Function\n",
    "# vars.cts2quantile <- c('wealthIdx', 'hgt0', 'wgt0')\n",
    "# seq.quantiles <- c(0, 0.3333, 0.6666, 1.0)\n",
    "# vars.group_by <- c('indi.id')\n",
    "# vars.arrange <- c('indi.id', 'svymthRound')\n",
    "# vars.continuous <- c('wealthIdx', 'hgt0', 'wgt0')\n",
    "df_cut_by_sliced_quantiles <- function(df, vars.cts2quantile, seq.quantiles, \n",
    "                                       vars.group_by, vars.arrange) {\n",
    "    \n",
    "    # First Step Slicing\n",
    "    df.sliced <- df_sliced_quantiles(df, vars.cts2quantile, seq.quantiles, vars.group_by, vars.arrange)\n",
    "\n",
    "    # Second Step Generate Categorical Variables of Quantiles\n",
    "    df.with.cut.quant <- df %>% mutate_at(vars.cts2quantile,\n",
    "                               funs(q=f_cut(., df.sliced$df.sliced.quantiles, \n",
    "                                           include.lowest=TRUE, fan.labels=TRUE)))\n",
    "    \n",
    "    if (length(vars.cts2quantile) > 1) {\n",
    "        df.with.cut.quant <- df.with.cut.quant %>% \n",
    "                              rename_at(vars(contains('_q')), \n",
    "                                        funs(f_var_rename(., seq.quantiles=seq.quantiles)))\n",
    "    } else {\n",
    "        new.var.name <- paste0(vars.cts2quantile[1], '_', f_Q_suffix(seq.quantiles))\n",
    "        df.with.cut.quant <- df.with.cut.quant %>% rename(!!new.var.name := q)\n",
    "    }\n",
    "    \n",
    "    # Newly Generated Quantile-Cut Variables\n",
    "    vars.quantile.cut <- df.with.cut.quant %>% \n",
    "                select(matches(paste0(vars.cts2quantile, collapse='|'))) %>% \n",
    "                select(matches(f_Q_suffix(seq.quantiles)))\n",
    "    \n",
    "    # Return\n",
    "    return(list(df.with.cut.quant = df.with.cut.quant, \n",
    "                df.sliced.quantiles=df.sliced$df.sliced.quantiles, \n",
    "                df.grp.L1=df.sliced$df.grp.L1,\n",
    "                vars.quantile.cut=vars.quantile.cut))\n",
    "    \n",
    "}"
   ]
  },
  {
   "cell_type": "markdown",
   "metadata": {},
   "source": [
    "## Use Program"
   ]
  },
  {
   "cell_type": "markdown",
   "metadata": {},
   "source": [
    "### Load Data"
   ]
  },
  {
   "cell_type": "code",
   "execution_count": 484,
   "metadata": {},
   "outputs": [
    {
     "name": "stderr",
     "output_type": "stream",
     "text": [
      "Parsed with column specification:\n",
      "cols(\n",
      "  S.country = col_character(),\n",
      "  vil.id = col_double(),\n",
      "  indi.id = col_double(),\n",
      "  sex = col_character(),\n",
      "  svymthRound = col_double(),\n",
      "  momEdu = col_double(),\n",
      "  wealthIdx = col_double(),\n",
      "  hgt = col_double(),\n",
      "  wgt = col_double(),\n",
      "  hgt0 = col_double(),\n",
      "  wgt0 = col_double(),\n",
      "  prot = col_double(),\n",
      "  cal = col_double(),\n",
      "  p.A.prot = col_double(),\n",
      "  p.A.nProt = col_double()\n",
      ")\n"
     ]
    }
   ],
   "source": [
    "# Library\n",
    "library(tidyverse)\n",
    "\n",
    "# Load Sample Data\n",
    "setwd('C:/Users/fan/R4Econ/_data/')\n",
    "df <- read_csv('height_weight.csv')"
   ]
  },
  {
   "cell_type": "markdown",
   "metadata": {},
   "source": [
    "## Line by Line--Quantiles Var by Var\n",
    "\n",
    "The idea of the function is to generate quantiles levels first, and then use those to generate the categories based on quantiles. Rather than doing this in one step. These are done in two steps, to increase clarity in the quantiles used for quantile category generation. And a dataframe with these quantiles are saved as a separate output of the function."
   ]
  },
  {
   "cell_type": "markdown",
   "metadata": {},
   "source": [
    "### Dataframe of Variables' Group-by Level Quantiles\n",
    "\n",
    "Quantiles from Different Variables. Note that these variables are specific to the individual, not individual/month. So we need to first slick the data, so that we only get the first rows. \n",
    "\n",
    "Do this in several steps to clarify group_by level. No speed loss. "
   ]
  },
  {
   "cell_type": "code",
   "execution_count": 485,
   "metadata": {},
   "outputs": [
    {
     "name": "stderr",
     "output_type": "stream",
     "text": [
      "Joining, by = \"quant.perc\"\n",
      "Joining, by = \"quant.perc\"\n"
     ]
    }
   ],
   "source": [
    "# Selected Variables, many Percentiles\n",
    "vars.group_by <- c('indi.id')\n",
    "vars.arrange <- c('indi.id', 'svymthRound')\n",
    "vars.cts2quantile <- c('wealthIdx', 'hgt0', 'wgt0')\n",
    "seq.quantiles <- c(0, 0.3333, 0.6666, 1.0)\n",
    "df.sliced <- df_sliced_quantiles(df, vars.cts2quantile, seq.quantiles, vars.group_by, vars.arrange)\n",
    "df.sliced.quantiles <- df.sliced$df.sliced.quantiles\n",
    "df.grp.L1 <- df.sliced$df.grp.L1"
   ]
  },
  {
   "cell_type": "code",
   "execution_count": 486,
   "metadata": {},
   "outputs": [
    {
     "data": {
      "text/html": [
       "<table>\n",
       "<thead><tr><th scope=col>quant.perc</th><th scope=col>wealthIdx</th><th scope=col>hgt0</th><th scope=col>wgt0</th></tr></thead>\n",
       "<tbody>\n",
       "\t<tr><td>0%      </td><td> 0.5    </td><td>40.8    </td><td>1403.800</td></tr>\n",
       "\t<tr><td>33.33%  </td><td> 0.5    </td><td>48.6    </td><td>2855.400</td></tr>\n",
       "\t<tr><td>66.66%  </td><td> 3.0    </td><td>50.3    </td><td>3224.743</td></tr>\n",
       "\t<tr><td>100%    </td><td>14.1    </td><td>58.7    </td><td>4970.400</td></tr>\n",
       "</tbody>\n",
       "</table>\n"
      ],
      "text/latex": [
       "\\begin{tabular}{r|llll}\n",
       " quant.perc & wealthIdx & hgt0 & wgt0\\\\\n",
       "\\hline\n",
       "\t 0\\%     &  0.5     & 40.8     & 1403.800\\\\\n",
       "\t 33.33\\% &  0.5     & 48.6     & 2855.400\\\\\n",
       "\t 66.66\\% &  3.0     & 50.3     & 3224.743\\\\\n",
       "\t 100\\%   & 14.1     & 58.7     & 4970.400\\\\\n",
       "\\end{tabular}\n"
      ],
      "text/markdown": [
       "\n",
       "| quant.perc | wealthIdx | hgt0 | wgt0 |\n",
       "|---|---|---|---|\n",
       "| 0%       |  0.5     | 40.8     | 1403.800 |\n",
       "| 33.33%   |  0.5     | 48.6     | 2855.400 |\n",
       "| 66.66%   |  3.0     | 50.3     | 3224.743 |\n",
       "| 100%     | 14.1     | 58.7     | 4970.400 |\n",
       "\n"
      ],
      "text/plain": [
       "  quant.perc wealthIdx hgt0 wgt0    \n",
       "1 0%          0.5      40.8 1403.800\n",
       "2 33.33%      0.5      48.6 2855.400\n",
       "3 66.66%      3.0      50.3 3224.743\n",
       "4 100%       14.1      58.7 4970.400"
      ]
     },
     "metadata": {},
     "output_type": "display_data"
    }
   ],
   "source": [
    "df.sliced.quantiles"
   ]
  },
  {
   "cell_type": "code",
   "execution_count": 487,
   "metadata": {},
   "outputs": [
    {
     "name": "stderr",
     "output_type": "stream",
     "text": [
      "Warning message in quantile(as.numeric(df[[var]]), prob, na.rm = TRUE):\n",
      "\"NAs introduced by coercion\"Warning message in quantile(as.numeric(df[[var]]), prob, na.rm = TRUE):\n",
      "\"NAs introduced by coercion\""
     ]
    },
    {
     "data": {
      "text/html": [
       "<table>\n",
       "<thead><tr><th scope=col>quant.perc</th><th scope=col>S.country</th><th scope=col>vil.id</th><th scope=col>indi.id</th><th scope=col>sex</th><th scope=col>svymthRound</th><th scope=col>momEdu</th><th scope=col>wealthIdx</th><th scope=col>hgt</th><th scope=col>wgt</th><th scope=col>hgt0</th><th scope=col>wgt0</th><th scope=col>prot</th><th scope=col>cal</th><th scope=col>p.A.prot</th><th scope=col>p.A.nProt</th></tr></thead>\n",
       "<tbody>\n",
       "\t<tr><td>10%     </td><td>NA      </td><td> 3.0    </td><td> 203.2  </td><td>NA      </td><td>0       </td><td> 5.80   </td><td>0.5     </td><td>46.5    </td><td>1352.76 </td><td>46.7    </td><td>2534.36 </td><td>0.5     </td><td> 0.50   </td><td>   29.49</td><td>  0.50  </td></tr>\n",
       "\t<tr><td>20%     </td><td>NA      </td><td> 4.0    </td><td> 405.4  </td><td>NA      </td><td>0       </td><td> 6.80   </td><td>0.5     </td><td>47.6    </td><td>1806.74 </td><td>47.8    </td><td>2695.90 </td><td>0.5     </td><td> 0.50   </td><td>  198.86</td><td>  0.50  </td></tr>\n",
       "\t<tr><td>30%     </td><td>NA      </td><td> 6.0    </td><td> 607.6  </td><td>NA      </td><td>0       </td><td> 7.60   </td><td>0.5     </td><td>48.4    </td><td>2214.40 </td><td>48.4    </td><td>2814.72 </td><td>0.5     </td><td> 0.50   </td><td>  743.63</td><td>  5.00  </td></tr>\n",
       "\t<tr><td>40%     </td><td>NA      </td><td> 8.0    </td><td> 809.8  </td><td>NA      </td><td>0       </td><td> 8.50   </td><td>1.0     </td><td>49.0    </td><td>2647.36 </td><td>48.9    </td><td>2938.16 </td><td>0.5     </td><td> 0.50   </td><td> 1012.14</td><td> 35.90  </td></tr>\n",
       "\t<tr><td>50%     </td><td>NA      </td><td> 9.0    </td><td>1012.0  </td><td>NA      </td><td>0       </td><td> 9.30   </td><td>2.0     </td><td>49.5    </td><td>3048.10 </td><td>49.4    </td><td>3049.00 </td><td>0.5     </td><td> 0.50   </td><td> 1243.85</td><td>120.70  </td></tr>\n",
       "\t<tr><td>60%     </td><td>NA      </td><td>13.0    </td><td>1214.2  </td><td>NA      </td><td>0       </td><td>10.10   </td><td>2.9     </td><td>50.1    </td><td>3449.88 </td><td>50.0    </td><td>3153.24 </td><td>0.5     </td><td> 3.70   </td><td> 1541.16</td><td>228.44  </td></tr>\n",
       "\t<tr><td>70%     </td><td>NA      </td><td>14.0    </td><td>1416.4  </td><td>NA      </td><td>0       </td><td>11.25   </td><td>3.0     </td><td>50.7    </td><td>3831.00 </td><td>50.4    </td><td>3289.64 </td><td>0.8     </td><td> 7.40   </td><td> 2345.28</td><td>262.18  </td></tr>\n",
       "\t<tr><td>80%     </td><td>NA      </td><td>17.0    </td><td>1618.6  </td><td>NA      </td><td>0       </td><td>12.60   </td><td>4.0     </td><td>51.4    </td><td>4231.14 </td><td>51.1    </td><td>3435.58 </td><td>1.3     </td><td>11.30   </td><td> 4359.00</td><td>296.30  </td></tr>\n",
       "\t<tr><td>90%     </td><td>NA      </td><td>26.8    </td><td>1820.8  </td><td>NA      </td><td>0       </td><td>14.40   </td><td>6.0     </td><td>52.5    </td><td>4638.08 </td><td>52.1    </td><td>3695.08 </td><td>1.6     </td><td>15.55   </td><td>10748.95</td><td>365.36  </td></tr>\n",
       "</tbody>\n",
       "</table>\n"
      ],
      "text/latex": [
       "\\begin{tabular}{r|llllllllllllllll}\n",
       " quant.perc & S.country & vil.id & indi.id & sex & svymthRound & momEdu & wealthIdx & hgt & wgt & hgt0 & wgt0 & prot & cal & p.A.prot & p.A.nProt\\\\\n",
       "\\hline\n",
       "\t 10\\%    & NA       &  3.0     &  203.2   & NA       & 0        &  5.80    & 0.5      & 46.5     & 1352.76  & 46.7     & 2534.36  & 0.5      &  0.50    &    29.49 &   0.50  \\\\\n",
       "\t 20\\%    & NA       &  4.0     &  405.4   & NA       & 0        &  6.80    & 0.5      & 47.6     & 1806.74  & 47.8     & 2695.90  & 0.5      &  0.50    &   198.86 &   0.50  \\\\\n",
       "\t 30\\%    & NA       &  6.0     &  607.6   & NA       & 0        &  7.60    & 0.5      & 48.4     & 2214.40  & 48.4     & 2814.72  & 0.5      &  0.50    &   743.63 &   5.00  \\\\\n",
       "\t 40\\%    & NA       &  8.0     &  809.8   & NA       & 0        &  8.50    & 1.0      & 49.0     & 2647.36  & 48.9     & 2938.16  & 0.5      &  0.50    &  1012.14 &  35.90  \\\\\n",
       "\t 50\\%    & NA       &  9.0     & 1012.0   & NA       & 0        &  9.30    & 2.0      & 49.5     & 3048.10  & 49.4     & 3049.00  & 0.5      &  0.50    &  1243.85 & 120.70  \\\\\n",
       "\t 60\\%    & NA       & 13.0     & 1214.2   & NA       & 0        & 10.10    & 2.9      & 50.1     & 3449.88  & 50.0     & 3153.24  & 0.5      &  3.70    &  1541.16 & 228.44  \\\\\n",
       "\t 70\\%    & NA       & 14.0     & 1416.4   & NA       & 0        & 11.25    & 3.0      & 50.7     & 3831.00  & 50.4     & 3289.64  & 0.8      &  7.40    &  2345.28 & 262.18  \\\\\n",
       "\t 80\\%    & NA       & 17.0     & 1618.6   & NA       & 0        & 12.60    & 4.0      & 51.4     & 4231.14  & 51.1     & 3435.58  & 1.3      & 11.30    &  4359.00 & 296.30  \\\\\n",
       "\t 90\\%    & NA       & 26.8     & 1820.8   & NA       & 0        & 14.40    & 6.0      & 52.5     & 4638.08  & 52.1     & 3695.08  & 1.6      & 15.55    & 10748.95 & 365.36  \\\\\n",
       "\\end{tabular}\n"
      ],
      "text/markdown": [
       "\n",
       "| quant.perc | S.country | vil.id | indi.id | sex | svymthRound | momEdu | wealthIdx | hgt | wgt | hgt0 | wgt0 | prot | cal | p.A.prot | p.A.nProt |\n",
       "|---|---|---|---|---|---|---|---|---|---|---|---|---|---|---|---|\n",
       "| 10%      | NA       |  3.0     |  203.2   | NA       | 0        |  5.80    | 0.5      | 46.5     | 1352.76  | 46.7     | 2534.36  | 0.5      |  0.50    |    29.49 |   0.50   |\n",
       "| 20%      | NA       |  4.0     |  405.4   | NA       | 0        |  6.80    | 0.5      | 47.6     | 1806.74  | 47.8     | 2695.90  | 0.5      |  0.50    |   198.86 |   0.50   |\n",
       "| 30%      | NA       |  6.0     |  607.6   | NA       | 0        |  7.60    | 0.5      | 48.4     | 2214.40  | 48.4     | 2814.72  | 0.5      |  0.50    |   743.63 |   5.00   |\n",
       "| 40%      | NA       |  8.0     |  809.8   | NA       | 0        |  8.50    | 1.0      | 49.0     | 2647.36  | 48.9     | 2938.16  | 0.5      |  0.50    |  1012.14 |  35.90   |\n",
       "| 50%      | NA       |  9.0     | 1012.0   | NA       | 0        |  9.30    | 2.0      | 49.5     | 3048.10  | 49.4     | 3049.00  | 0.5      |  0.50    |  1243.85 | 120.70   |\n",
       "| 60%      | NA       | 13.0     | 1214.2   | NA       | 0        | 10.10    | 2.9      | 50.1     | 3449.88  | 50.0     | 3153.24  | 0.5      |  3.70    |  1541.16 | 228.44   |\n",
       "| 70%      | NA       | 14.0     | 1416.4   | NA       | 0        | 11.25    | 3.0      | 50.7     | 3831.00  | 50.4     | 3289.64  | 0.8      |  7.40    |  2345.28 | 262.18   |\n",
       "| 80%      | NA       | 17.0     | 1618.6   | NA       | 0        | 12.60    | 4.0      | 51.4     | 4231.14  | 51.1     | 3435.58  | 1.3      | 11.30    |  4359.00 | 296.30   |\n",
       "| 90%      | NA       | 26.8     | 1820.8   | NA       | 0        | 14.40    | 6.0      | 52.5     | 4638.08  | 52.1     | 3695.08  | 1.6      | 15.55    | 10748.95 | 365.36   |\n",
       "\n"
      ],
      "text/plain": [
       "  quant.perc S.country vil.id indi.id sex svymthRound momEdu wealthIdx hgt \n",
       "1 10%        NA         3.0    203.2  NA  0            5.80  0.5       46.5\n",
       "2 20%        NA         4.0    405.4  NA  0            6.80  0.5       47.6\n",
       "3 30%        NA         6.0    607.6  NA  0            7.60  0.5       48.4\n",
       "4 40%        NA         8.0    809.8  NA  0            8.50  1.0       49.0\n",
       "5 50%        NA         9.0   1012.0  NA  0            9.30  2.0       49.5\n",
       "6 60%        NA        13.0   1214.2  NA  0           10.10  2.9       50.1\n",
       "7 70%        NA        14.0   1416.4  NA  0           11.25  3.0       50.7\n",
       "8 80%        NA        17.0   1618.6  NA  0           12.60  4.0       51.4\n",
       "9 90%        NA        26.8   1820.8  NA  0           14.40  6.0       52.5\n",
       "  wgt     hgt0 wgt0    prot cal   p.A.prot p.A.nProt\n",
       "1 1352.76 46.7 2534.36 0.5   0.50    29.49   0.50   \n",
       "2 1806.74 47.8 2695.90 0.5   0.50   198.86   0.50   \n",
       "3 2214.40 48.4 2814.72 0.5   0.50   743.63   5.00   \n",
       "4 2647.36 48.9 2938.16 0.5   0.50  1012.14  35.90   \n",
       "5 3048.10 49.4 3049.00 0.5   0.50  1243.85 120.70   \n",
       "6 3449.88 50.0 3153.24 0.5   3.70  1541.16 228.44   \n",
       "7 3831.00 50.4 3289.64 0.8   7.40  2345.28 262.18   \n",
       "8 4231.14 51.1 3435.58 1.3  11.30  4359.00 296.30   \n",
       "9 4638.08 52.1 3695.08 1.6  15.55 10748.95 365.36   "
      ]
     },
     "metadata": {},
     "output_type": "display_data"
    }
   ],
   "source": [
    "# Quantiles all Variables\n",
    "suppressMessages(lapply(names(df), gen_quantiles, df=df.grp.L1, prob=seq(0.1,0.9,0.10)) %>% reduce(full_join))"
   ]
  },
  {
   "cell_type": "markdown",
   "metadata": {},
   "source": [
    "### Cut Quantile Categorical Variables\n",
    "\n",
    "Using the Quantiles we have generate, cut the continuous variables to generate categorical quantile variables in the full dataframe.\n",
    "\n",
    "Note that we can only cut based on unique breaks, but sometimes quantile break-points are the same if some values are often observed, and also if there are too few observations with respect to quantile groups. \n",
    "\n",
    "To resolve this issue, we only look at unique quantiles. \n",
    "\n",
    "We need several support Functions:\n",
    "1. support functions to generate suffix for quantile variables based on quantile cuts\n",
    "2. support for labeling variables of resulting quantiles beyond bracketing"
   ]
  },
  {
   "cell_type": "code",
   "execution_count": 488,
   "metadata": {},
   "outputs": [
    {
     "data": {
      "text/html": [
       "<ol class=list-inline>\n",
       "\t<li>0.5</li>\n",
       "\t<li>0.5</li>\n",
       "\t<li>3</li>\n",
       "\t<li>14.1</li>\n",
       "</ol>\n"
      ],
      "text/latex": [
       "\\begin{enumerate*}\n",
       "\\item 0.5\n",
       "\\item 0.5\n",
       "\\item 3\n",
       "\\item 14.1\n",
       "\\end{enumerate*}\n"
      ],
      "text/markdown": [
       "1. 0.5\n",
       "2. 0.5\n",
       "3. 3\n",
       "4. 14.1\n",
       "\n",
       "\n"
      ],
      "text/plain": [
       "[1]  0.5  0.5  3.0 14.1"
      ]
     },
     "metadata": {},
     "output_type": "display_data"
    },
    {
     "data": {
      "text/html": [
       "<ol class=list-inline>\n",
       "\t<li>0.5</li>\n",
       "\t<li>3</li>\n",
       "\t<li>14.1</li>\n",
       "</ol>\n"
      ],
      "text/latex": [
       "\\begin{enumerate*}\n",
       "\\item 0.5\n",
       "\\item 3\n",
       "\\item 14.1\n",
       "\\end{enumerate*}\n"
      ],
      "text/markdown": [
       "1. 0.5\n",
       "2. 3\n",
       "3. 14.1\n",
       "\n",
       "\n"
      ],
      "text/plain": [
       "[1]  0.5  3.0 14.1"
      ]
     },
     "metadata": {},
     "output_type": "display_data"
    },
    {
     "data": {
      "text/html": [
       "'(1,2) of Qs0e1n3'"
      ],
      "text/latex": [
       "'(1,2) of Qs0e1n3'"
      ],
      "text/markdown": [
       "'(1,2) of Qs0e1n3'"
      ],
      "text/plain": [
       "[1] \"(1,2) of Qs0e1n3\""
      ]
     },
     "metadata": {},
     "output_type": "display_data"
    },
    {
     "data": {
      "text/html": [
       "'(3) of Qs0e1n3'"
      ],
      "text/latex": [
       "'(3) of Qs0e1n3'"
      ],
      "text/markdown": [
       "'(3) of Qs0e1n3'"
      ],
      "text/plain": [
       "[1] \"(3) of Qs0e1n3\""
      ]
     },
     "metadata": {},
     "output_type": "display_data"
    },
    {
     "data": {
      "text/html": [
       "<ol>\n",
       "\t<li>'(1,2) of Qs0e1n3'</li>\n",
       "\t<li>'(3) of Qs0e1n3'</li>\n",
       "</ol>\n"
      ],
      "text/latex": [
       "\\begin{enumerate}\n",
       "\\item '(1,2) of Qs0e1n3'\n",
       "\\item '(3) of Qs0e1n3'\n",
       "\\end{enumerate}\n"
      ],
      "text/markdown": [
       "1. '(1,2) of Qs0e1n3'\n",
       "2. '(3) of Qs0e1n3'\n",
       "\n",
       "\n"
      ],
      "text/plain": [
       "[[1]]\n",
       "[1] \"(1,2) of Qs0e1n3\"\n",
       "\n",
       "[[2]]\n",
       "[1] \"(3) of Qs0e1n3\"\n"
      ]
     },
     "metadata": {},
     "output_type": "display_data"
    }
   ],
   "source": [
    "# Function Testing\n",
    "arr.quantiles <- df.sliced.quantiles[[substitute('wealthIdx')]]\n",
    "arr.quantiles\n",
    "arr.sort.unique.quantiles <- sort(unique(df.sliced.quantiles[[substitute('wealthIdx')]]))\n",
    "arr.sort.unique.quantiles\n",
    "f_Q_label(arr.quantiles, arr.sort.unique.quantiles[1], seq.quantiles)\n",
    "f_Q_label(arr.quantiles, arr.sort.unique.quantiles[2], seq.quantiles)\n",
    "lapply(arr.sort.unique.quantiles[1:(length(arr.sort.unique.quantiles)-1)],\n",
    "       f_Q_label,\n",
    "       arr.quantiles=arr.quantiles,\n",
    "       seq.quantiles=seq.quantiles)"
   ]
  },
  {
   "cell_type": "code",
   "execution_count": 489,
   "metadata": {},
   "outputs": [
    {
     "name": "stderr",
     "output_type": "stream",
     "text": [
      "Joining, by = \"quant.perc\"\n",
      "Joining, by = \"quant.perc\"\n"
     ]
    }
   ],
   "source": [
    "# Generate Categorical Variables of Quantiles\n",
    "vars.group_by <- c('indi.id')\n",
    "vars.arrange <- c('indi.id', 'svymthRound')\n",
    "vars.cts2quantile <- c('wealthIdx', 'hgt0', 'wgt0')\n",
    "seq.quantiles <- c(0, 0.3333, 0.6666, 1.0)\n",
    "df.cut <- df_cut_by_sliced_quantiles(df, vars.cts2quantile, seq.quantiles, vars.group_by, vars.arrange)\n",
    "vars.quantile.cut <- df.cut$vars.quantile.cut\n",
    "df.with.cut.quant <- df.cut$df.with.cut.quant\n",
    "df.grp.L1 <- df.cut$df.grp.L1"
   ]
  },
  {
   "cell_type": "code",
   "execution_count": 490,
   "metadata": {},
   "outputs": [
    {
     "data": {
      "text/html": [
       "<ol class=list-inline>\n",
       "\t<li>'wealthIdx_Qs0e1n3'</li>\n",
       "\t<li>'hgt0_Qs0e1n3'</li>\n",
       "\t<li>'wgt0_Qs0e1n3'</li>\n",
       "</ol>\n"
      ],
      "text/latex": [
       "\\begin{enumerate*}\n",
       "\\item 'wealthIdx\\_Qs0e1n3'\n",
       "\\item 'hgt0\\_Qs0e1n3'\n",
       "\\item 'wgt0\\_Qs0e1n3'\n",
       "\\end{enumerate*}\n"
      ],
      "text/markdown": [
       "1. 'wealthIdx_Qs0e1n3'\n",
       "2. 'hgt0_Qs0e1n3'\n",
       "3. 'wgt0_Qs0e1n3'\n",
       "\n",
       "\n"
      ],
      "text/plain": [
       "[1] \"wealthIdx_Qs0e1n3\" \"hgt0_Qs0e1n3\"      \"wgt0_Qs0e1n3\"     "
      ]
     },
     "metadata": {},
     "output_type": "display_data"
    },
    {
     "data": {
      "text/plain": [
       "                 wealthIdx_Qs0e1n3                      hgt0_Qs0e1n3  \n",
       " [0.5,3]; (1,2) of Qs0e1n3:24964   [40.8,48.6]; (1) of Qs0e1n3:10476  \n",
       " (3,14.1]; (3) of Qs0e1n3 :10116   (48.6,50.3]; (2) of Qs0e1n3:10080  \n",
       "                                   (50.3,58.7]; (3) of Qs0e1n3: 9448  \n",
       "                                   NA's                       : 5076  \n",
       "                              wgt0_Qs0e1n3  \n",
       " [1.4e+03,2.86e+03]; (1) of Qs0e1n3 :10106  \n",
       " (2.86e+03,3.22e+03]; (2) of Qs0e1n3:10052  \n",
       " (3.22e+03,4.97e+03]; (3) of Qs0e1n3: 9832  \n",
       " NA's                               : 5090  "
      ]
     },
     "metadata": {},
     "output_type": "display_data"
    }
   ],
   "source": [
    "# Cut Variables Generated\n",
    "names(vars.quantile.cut)\n",
    "summary(vars.quantile.cut)"
   ]
  },
  {
   "cell_type": "code",
   "execution_count": 491,
   "metadata": {},
   "outputs": [],
   "source": [
    "# options(repr.matrix.max.rows=50, repr.matrix.max.cols=20)\n",
    "# df.with.cut.quant"
   ]
  },
  {
   "cell_type": "markdown",
   "metadata": {},
   "source": [
    "### Individual Variables' Quantile Cuts Review Results"
   ]
  },
  {
   "cell_type": "code",
   "execution_count": 492,
   "metadata": {},
   "outputs": [],
   "source": [
    "# Group By Results\n",
    "f.count <- function(df, var.cts, seq.quantiles) {\n",
    "    df %>% select(S.country, indi.id, svymthRound, matches(paste0(var.cts, collapse='|'))) %>%\n",
    "        group_by(!!sym(f_var_rename(paste0(var.cts,'_q'), seq.quantiles))) %>%\n",
    "        summarise_all(funs(n=n()))\n",
    "}"
   ]
  },
  {
   "cell_type": "code",
   "execution_count": 493,
   "metadata": {},
   "outputs": [
    {
     "data": {
      "text/html": [
       "<ol>\n",
       "\t<li><table>\n",
       "<thead><tr><th scope=col>wealthIdx_Qs0e1n3</th><th scope=col>S.country_n</th><th scope=col>indi.id_n</th><th scope=col>svymthRound_n</th><th scope=col>wealthIdx_n</th></tr></thead>\n",
       "<tbody>\n",
       "\t<tr><td>[0.5,3]; (1,2) of Qs0e1n3</td><td>24964                    </td><td>24964                    </td><td>24964                    </td><td>24964                    </td></tr>\n",
       "\t<tr><td>(3,14.1]; (3) of Qs0e1n3 </td><td>10116                    </td><td>10116                    </td><td>10116                    </td><td>10116                    </td></tr>\n",
       "</tbody>\n",
       "</table>\n",
       "</li>\n",
       "\t<li><table>\n",
       "<thead><tr><th scope=col>hgt0_Qs0e1n3</th><th scope=col>S.country_n</th><th scope=col>indi.id_n</th><th scope=col>svymthRound_n</th><th scope=col>hgt0_n</th></tr></thead>\n",
       "<tbody>\n",
       "\t<tr><td>[40.8,48.6]; (1) of Qs0e1n3</td><td>10476                      </td><td>10476                      </td><td>10476                      </td><td>10476                      </td></tr>\n",
       "\t<tr><td>(48.6,50.3]; (2) of Qs0e1n3</td><td>10080                      </td><td>10080                      </td><td>10080                      </td><td>10080                      </td></tr>\n",
       "\t<tr><td>(50.3,58.7]; (3) of Qs0e1n3</td><td> 9448                      </td><td> 9448                      </td><td> 9448                      </td><td> 9448                      </td></tr>\n",
       "\t<tr><td>NA                         </td><td> 5076                      </td><td> 5076                      </td><td> 5076                      </td><td> 5076                      </td></tr>\n",
       "</tbody>\n",
       "</table>\n",
       "</li>\n",
       "\t<li><table>\n",
       "<thead><tr><th scope=col>wgt0_Qs0e1n3</th><th scope=col>S.country_n</th><th scope=col>indi.id_n</th><th scope=col>svymthRound_n</th><th scope=col>wgt0_n</th></tr></thead>\n",
       "<tbody>\n",
       "\t<tr><td>[1.4e+03,2.86e+03]; (1) of Qs0e1n3 </td><td>10106                              </td><td>10106                              </td><td>10106                              </td><td>10106                              </td></tr>\n",
       "\t<tr><td>(2.86e+03,3.22e+03]; (2) of Qs0e1n3</td><td>10052                              </td><td>10052                              </td><td>10052                              </td><td>10052                              </td></tr>\n",
       "\t<tr><td>(3.22e+03,4.97e+03]; (3) of Qs0e1n3</td><td> 9832                              </td><td> 9832                              </td><td> 9832                              </td><td> 9832                              </td></tr>\n",
       "\t<tr><td>NA                                 </td><td> 5090                              </td><td> 5090                              </td><td> 5090                              </td><td> 5090                              </td></tr>\n",
       "</tbody>\n",
       "</table>\n",
       "</li>\n",
       "</ol>\n"
      ],
      "text/latex": [
       "\\begin{enumerate}\n",
       "\\item \\begin{tabular}{r|lllll}\n",
       " wealthIdx\\_Qs0e1n3 & S.country\\_n & indi.id\\_n & svymthRound\\_n & wealthIdx\\_n\\\\\n",
       "\\hline\n",
       "\t {[}0.5,3{]}; (1,2) of Qs0e1n3 & 24964                         & 24964                         & 24964                         & 24964                        \\\\\n",
       "\t (3,14.1{]}; (3) of Qs0e1n3  & 10116                       & 10116                       & 10116                       & 10116                      \\\\\n",
       "\\end{tabular}\n",
       "\n",
       "\\item \\begin{tabular}{r|lllll}\n",
       " hgt0\\_Qs0e1n3 & S.country\\_n & indi.id\\_n & svymthRound\\_n & hgt0\\_n\\\\\n",
       "\\hline\n",
       "\t {[}40.8,48.6{]}; (1) of Qs0e1n3 & 10476                           & 10476                           & 10476                           & 10476                          \\\\\n",
       "\t (48.6,50.3{]}; (2) of Qs0e1n3 & 10080                         & 10080                         & 10080                         & 10080                        \\\\\n",
       "\t (50.3,58.7{]}; (3) of Qs0e1n3 &  9448                         &  9448                         &  9448                         &  9448                        \\\\\n",
       "\t NA                          &  5076                       &  5076                       &  5076                       &  5076                      \\\\\n",
       "\\end{tabular}\n",
       "\n",
       "\\item \\begin{tabular}{r|lllll}\n",
       " wgt0\\_Qs0e1n3 & S.country\\_n & indi.id\\_n & svymthRound\\_n & wgt0\\_n\\\\\n",
       "\\hline\n",
       "\t {[}1.4e+03,2.86e+03{]}; (1) of Qs0e1n3  & 10106                                   & 10106                                   & 10106                                   & 10106                                  \\\\\n",
       "\t (2.86e+03,3.22e+03{]}; (2) of Qs0e1n3 & 10052                                 & 10052                                 & 10052                                 & 10052                                \\\\\n",
       "\t (3.22e+03,4.97e+03{]}; (3) of Qs0e1n3 &  9832                                 &  9832                                 &  9832                                 &  9832                                \\\\\n",
       "\t NA                                  &  5090                               &  5090                               &  5090                               &  5090                              \\\\\n",
       "\\end{tabular}\n",
       "\n",
       "\\end{enumerate}\n"
      ],
      "text/markdown": [
       "1. \n",
       "| wealthIdx_Qs0e1n3 | S.country_n | indi.id_n | svymthRound_n | wealthIdx_n |\n",
       "|---|---|---|---|---|\n",
       "| [0.5,3]; (1,2) of Qs0e1n3 | 24964                     | 24964                     | 24964                     | 24964                     |\n",
       "| (3,14.1]; (3) of Qs0e1n3  | 10116                     | 10116                     | 10116                     | 10116                     |\n",
       "\n",
       "\n",
       "2. \n",
       "| hgt0_Qs0e1n3 | S.country_n | indi.id_n | svymthRound_n | hgt0_n |\n",
       "|---|---|---|---|---|\n",
       "| [40.8,48.6]; (1) of Qs0e1n3 | 10476                       | 10476                       | 10476                       | 10476                       |\n",
       "| (48.6,50.3]; (2) of Qs0e1n3 | 10080                       | 10080                       | 10080                       | 10080                       |\n",
       "| (50.3,58.7]; (3) of Qs0e1n3 |  9448                       |  9448                       |  9448                       |  9448                       |\n",
       "| NA                          |  5076                       |  5076                       |  5076                       |  5076                       |\n",
       "\n",
       "\n",
       "3. \n",
       "| wgt0_Qs0e1n3 | S.country_n | indi.id_n | svymthRound_n | wgt0_n |\n",
       "|---|---|---|---|---|\n",
       "| [1.4e+03,2.86e+03]; (1) of Qs0e1n3  | 10106                               | 10106                               | 10106                               | 10106                               |\n",
       "| (2.86e+03,3.22e+03]; (2) of Qs0e1n3 | 10052                               | 10052                               | 10052                               | 10052                               |\n",
       "| (3.22e+03,4.97e+03]; (3) of Qs0e1n3 |  9832                               |  9832                               |  9832                               |  9832                               |\n",
       "| NA                                  |  5090                               |  5090                               |  5090                               |  5090                               |\n",
       "\n",
       "\n",
       "\n",
       "\n"
      ],
      "text/plain": [
       "[[1]]\n",
       "# A tibble: 2 x 5\n",
       "  wealthIdx_Qs0e1n3         S.country_n indi.id_n svymthRound_n wealthIdx_n\n",
       "  <fct>                           <int>     <int>         <int>       <int>\n",
       "1 [0.5,3]; (1,2) of Qs0e1n3       24964     24964         24964       24964\n",
       "2 (3,14.1]; (3) of Qs0e1n3        10116     10116         10116       10116\n",
       "\n",
       "[[2]]\n",
       "# A tibble: 4 x 5\n",
       "  hgt0_Qs0e1n3                S.country_n indi.id_n svymthRound_n hgt0_n\n",
       "  <fct>                             <int>     <int>         <int>  <int>\n",
       "1 [40.8,48.6]; (1) of Qs0e1n3       10476     10476         10476  10476\n",
       "2 (48.6,50.3]; (2) of Qs0e1n3       10080     10080         10080  10080\n",
       "3 (50.3,58.7]; (3) of Qs0e1n3        9448      9448          9448   9448\n",
       "4 <NA>                               5076      5076          5076   5076\n",
       "\n",
       "[[3]]\n",
       "# A tibble: 4 x 5\n",
       "  wgt0_Qs0e1n3                        S.country_n indi.id_n svymthRound_n wgt0_n\n",
       "  <fct>                                     <int>     <int>         <int>  <int>\n",
       "1 [1.4e+03,2.86e+03]; (1) of Qs0e1n3        10106     10106         10106  10106\n",
       "2 (2.86e+03,3.22e+03]; (2) of Qs0e1n3       10052     10052         10052  10052\n",
       "3 (3.22e+03,4.97e+03]; (3) of Qs0e1n3        9832      9832          9832   9832\n",
       "4 <NA>                                       5090      5090          5090   5090\n"
      ]
     },
     "metadata": {},
     "output_type": "display_data"
    }
   ],
   "source": [
    "# Full Panel Results\n",
    "lapply(vars.cts2quantile, f.count, df=df.with.cut.quant, seq.quantiles=seq.quantiles)"
   ]
  },
  {
   "cell_type": "code",
   "execution_count": 494,
   "metadata": {},
   "outputs": [
    {
     "data": {
      "text/html": [
       "<ol>\n",
       "\t<li><table>\n",
       "<thead><tr><th scope=col>wealthIdx_Qs0e1n3</th><th scope=col>S.country_n</th><th scope=col>indi.id_n</th><th scope=col>svymthRound_n</th><th scope=col>wealthIdx_n</th></tr></thead>\n",
       "<tbody>\n",
       "\t<tr><td>[0.5,3]; (1,2) of Qs0e1n3</td><td>1461                     </td><td>1461                     </td><td>1461                     </td><td>1461                     </td></tr>\n",
       "\t<tr><td>(3,14.1]; (3) of Qs0e1n3 </td><td> 562                     </td><td> 562                     </td><td> 562                     </td><td> 562                     </td></tr>\n",
       "</tbody>\n",
       "</table>\n",
       "</li>\n",
       "\t<li><table>\n",
       "<thead><tr><th scope=col>hgt0_Qs0e1n3</th><th scope=col>S.country_n</th><th scope=col>indi.id_n</th><th scope=col>svymthRound_n</th><th scope=col>hgt0_n</th></tr></thead>\n",
       "<tbody>\n",
       "\t<tr><td>[40.8,48.6]; (1) of Qs0e1n3</td><td>593                        </td><td>593                        </td><td>593                        </td><td>593                        </td></tr>\n",
       "\t<tr><td>(48.6,50.3]; (2) of Qs0e1n3</td><td>571                        </td><td>571                        </td><td>571                        </td><td>571                        </td></tr>\n",
       "\t<tr><td>(50.3,58.7]; (3) of Qs0e1n3</td><td>542                        </td><td>542                        </td><td>542                        </td><td>542                        </td></tr>\n",
       "\t<tr><td>NA                         </td><td>317                        </td><td>317                        </td><td>317                        </td><td>317                        </td></tr>\n",
       "</tbody>\n",
       "</table>\n",
       "</li>\n",
       "\t<li><table>\n",
       "<thead><tr><th scope=col>wgt0_Qs0e1n3</th><th scope=col>S.country_n</th><th scope=col>indi.id_n</th><th scope=col>svymthRound_n</th><th scope=col>wgt0_n</th></tr></thead>\n",
       "<tbody>\n",
       "\t<tr><td>[1.4e+03,2.86e+03]; (1) of Qs0e1n3 </td><td>569                                </td><td>569                                </td><td>569                                </td><td>569                                </td></tr>\n",
       "\t<tr><td>(2.86e+03,3.22e+03]; (2) of Qs0e1n3</td><td>567                                </td><td>567                                </td><td>567                                </td><td>567                                </td></tr>\n",
       "\t<tr><td>(3.22e+03,4.97e+03]; (3) of Qs0e1n3</td><td>569                                </td><td>569                                </td><td>569                                </td><td>569                                </td></tr>\n",
       "\t<tr><td>NA                                 </td><td>318                                </td><td>318                                </td><td>318                                </td><td>318                                </td></tr>\n",
       "</tbody>\n",
       "</table>\n",
       "</li>\n",
       "</ol>\n"
      ],
      "text/latex": [
       "\\begin{enumerate}\n",
       "\\item \\begin{tabular}{r|lllll}\n",
       " wealthIdx\\_Qs0e1n3 & S.country\\_n & indi.id\\_n & svymthRound\\_n & wealthIdx\\_n\\\\\n",
       "\\hline\n",
       "\t {[}0.5,3{]}; (1,2) of Qs0e1n3 & 1461                          & 1461                          & 1461                          & 1461                         \\\\\n",
       "\t (3,14.1{]}; (3) of Qs0e1n3  &  562                        &  562                        &  562                        &  562                       \\\\\n",
       "\\end{tabular}\n",
       "\n",
       "\\item \\begin{tabular}{r|lllll}\n",
       " hgt0\\_Qs0e1n3 & S.country\\_n & indi.id\\_n & svymthRound\\_n & hgt0\\_n\\\\\n",
       "\\hline\n",
       "\t {[}40.8,48.6{]}; (1) of Qs0e1n3 & 593                             & 593                             & 593                             & 593                            \\\\\n",
       "\t (48.6,50.3{]}; (2) of Qs0e1n3 & 571                           & 571                           & 571                           & 571                          \\\\\n",
       "\t (50.3,58.7{]}; (3) of Qs0e1n3 & 542                           & 542                           & 542                           & 542                          \\\\\n",
       "\t NA                          & 317                         & 317                         & 317                         & 317                        \\\\\n",
       "\\end{tabular}\n",
       "\n",
       "\\item \\begin{tabular}{r|lllll}\n",
       " wgt0\\_Qs0e1n3 & S.country\\_n & indi.id\\_n & svymthRound\\_n & wgt0\\_n\\\\\n",
       "\\hline\n",
       "\t {[}1.4e+03,2.86e+03{]}; (1) of Qs0e1n3  & 569                                     & 569                                     & 569                                     & 569                                    \\\\\n",
       "\t (2.86e+03,3.22e+03{]}; (2) of Qs0e1n3 & 567                                   & 567                                   & 567                                   & 567                                  \\\\\n",
       "\t (3.22e+03,4.97e+03{]}; (3) of Qs0e1n3 & 569                                   & 569                                   & 569                                   & 569                                  \\\\\n",
       "\t NA                                  & 318                                 & 318                                 & 318                                 & 318                                \\\\\n",
       "\\end{tabular}\n",
       "\n",
       "\\end{enumerate}\n"
      ],
      "text/markdown": [
       "1. \n",
       "| wealthIdx_Qs0e1n3 | S.country_n | indi.id_n | svymthRound_n | wealthIdx_n |\n",
       "|---|---|---|---|---|\n",
       "| [0.5,3]; (1,2) of Qs0e1n3 | 1461                      | 1461                      | 1461                      | 1461                      |\n",
       "| (3,14.1]; (3) of Qs0e1n3  |  562                      |  562                      |  562                      |  562                      |\n",
       "\n",
       "\n",
       "2. \n",
       "| hgt0_Qs0e1n3 | S.country_n | indi.id_n | svymthRound_n | hgt0_n |\n",
       "|---|---|---|---|---|\n",
       "| [40.8,48.6]; (1) of Qs0e1n3 | 593                         | 593                         | 593                         | 593                         |\n",
       "| (48.6,50.3]; (2) of Qs0e1n3 | 571                         | 571                         | 571                         | 571                         |\n",
       "| (50.3,58.7]; (3) of Qs0e1n3 | 542                         | 542                         | 542                         | 542                         |\n",
       "| NA                          | 317                         | 317                         | 317                         | 317                         |\n",
       "\n",
       "\n",
       "3. \n",
       "| wgt0_Qs0e1n3 | S.country_n | indi.id_n | svymthRound_n | wgt0_n |\n",
       "|---|---|---|---|---|\n",
       "| [1.4e+03,2.86e+03]; (1) of Qs0e1n3  | 569                                 | 569                                 | 569                                 | 569                                 |\n",
       "| (2.86e+03,3.22e+03]; (2) of Qs0e1n3 | 567                                 | 567                                 | 567                                 | 567                                 |\n",
       "| (3.22e+03,4.97e+03]; (3) of Qs0e1n3 | 569                                 | 569                                 | 569                                 | 569                                 |\n",
       "| NA                                  | 318                                 | 318                                 | 318                                 | 318                                 |\n",
       "\n",
       "\n",
       "\n",
       "\n"
      ],
      "text/plain": [
       "[[1]]\n",
       "# A tibble: 2 x 5\n",
       "  wealthIdx_Qs0e1n3         S.country_n indi.id_n svymthRound_n wealthIdx_n\n",
       "  <fct>                           <int>     <int>         <int>       <int>\n",
       "1 [0.5,3]; (1,2) of Qs0e1n3        1461      1461          1461        1461\n",
       "2 (3,14.1]; (3) of Qs0e1n3          562       562           562         562\n",
       "\n",
       "[[2]]\n",
       "# A tibble: 4 x 5\n",
       "  hgt0_Qs0e1n3                S.country_n indi.id_n svymthRound_n hgt0_n\n",
       "  <fct>                             <int>     <int>         <int>  <int>\n",
       "1 [40.8,48.6]; (1) of Qs0e1n3         593       593           593    593\n",
       "2 (48.6,50.3]; (2) of Qs0e1n3         571       571           571    571\n",
       "3 (50.3,58.7]; (3) of Qs0e1n3         542       542           542    542\n",
       "4 <NA>                                317       317           317    317\n",
       "\n",
       "[[3]]\n",
       "# A tibble: 4 x 5\n",
       "  wgt0_Qs0e1n3                        S.country_n indi.id_n svymthRound_n wgt0_n\n",
       "  <fct>                                     <int>     <int>         <int>  <int>\n",
       "1 [1.4e+03,2.86e+03]; (1) of Qs0e1n3          569       569           569    569\n",
       "2 (2.86e+03,3.22e+03]; (2) of Qs0e1n3         567       567           567    567\n",
       "3 (3.22e+03,4.97e+03]; (3) of Qs0e1n3         569       569           569    569\n",
       "4 <NA>                                        318       318           318    318\n"
      ]
     },
     "metadata": {},
     "output_type": "display_data"
    }
   ],
   "source": [
    "# Results Individual Slice\n",
    "lapply(vars.cts2quantile, f.count, \n",
    "       df=(df.with.cut.quant %>% group_by(!!!syms(vars.group_by)) %>% arrange(!!!syms(vars.arrange)) %>% slice(1L)), \n",
    "       seq.quantiles = seq.quantiles)"
   ]
  },
  {
   "cell_type": "markdown",
   "metadata": {},
   "source": [
    "## Differential Quantiles for Different Variables Then Combine to Form New Groups\n",
    "Collect together different quantile base variables and their percentile cuttings quantile rules. "
   ]
  },
  {
   "cell_type": "markdown",
   "metadata": {},
   "source": [
    "### Input Parameters"
   ]
  },
  {
   "cell_type": "code",
   "execution_count": 538,
   "metadata": {},
   "outputs": [],
   "source": [
    "# Generate Categorical Variables of Quantiles\n",
    "vars.group_by <- c('indi.id')\n",
    "vars.arrange <- c('indi.id', 'svymthRound')"
   ]
  },
  {
   "cell_type": "code",
   "execution_count": 539,
   "metadata": {},
   "outputs": [],
   "source": [
    "# Quantile Variables and Quantiles\n",
    "vars.cts2quantile.wealth <- c('wealthIdx')\n",
    "seq.quantiles.wealth <- c(0, .5, 1.0)\n",
    "vars.cts2quantile.wgthgt <- c('hgt0', 'wgt0')\n",
    "seq.quantiles.wgthgt <- c(0, .3333, 0.6666, 1.0)\n",
    "drop.any.quantile.na <- TRUE\n",
    "# collect to list\n",
    "list.cts2quantile <- list(list(vars=vars.cts2quantile.wealth,\n",
    "                               prob=seq.quantiles.wealth),\n",
    "                          list(vars=vars.cts2quantile.wgthgt,\n",
    "                               prob=seq.quantiles.wgthgt))"
   ]
  },
  {
   "cell_type": "markdown",
   "metadata": {},
   "source": [
    "## Check if Within Group Variables Are The Same\n",
    "\n",
    "Need to make sure quantile variables are unique within groups"
   ]
  },
  {
   "cell_type": "code",
   "execution_count": 540,
   "metadata": {},
   "outputs": [
    {
     "data": {
      "text/html": [
       "<table>\n",
       "<thead><tr><th scope=col>unique_wealth_in_group</th><th scope=col>n</th></tr></thead>\n",
       "<tbody>\n",
       "\t<tr><td>1   </td><td>2023</td></tr>\n",
       "</tbody>\n",
       "</table>\n"
      ],
      "text/latex": [
       "\\begin{tabular}{r|ll}\n",
       " unique\\_wealth\\_in\\_group & n\\\\\n",
       "\\hline\n",
       "\t 1    & 2023\\\\\n",
       "\\end{tabular}\n"
      ],
      "text/markdown": [
       "\n",
       "| unique_wealth_in_group | n |\n",
       "|---|---|\n",
       "| 1    | 2023 |\n",
       "\n"
      ],
      "text/plain": [
       "  unique_wealth_in_group n   \n",
       "1 1                      2023"
      ]
     },
     "metadata": {},
     "output_type": "display_data"
    }
   ],
   "source": [
    "vars.cts2quantile <- unlist(lapply(list.cts2quantile, function(elist) elist$vars))\n",
    "df %>% group_by(!!!syms(vars.group_by)) %>% \n",
    "        mutate(quant_vars_paste = paste0(vars.cts2quantile, collapse=',')) %>%\n",
    "        mutate(unique_wealth_in_group = n_distinct(quant_vars_paste)) %>%\n",
    "        slice(1L) %>%\n",
    "        ungroup() %>% \n",
    "        group_by(unique_wealth_in_group) %>%\n",
    "        summarise(n=n())"
   ]
  },
  {
   "cell_type": "markdown",
   "metadata": {},
   "source": [
    "### Keep only non-NA for all Quantile Variables"
   ]
  },
  {
   "cell_type": "code",
   "execution_count": 541,
   "metadata": {},
   "outputs": [
    {
     "data": {
      "text/html": [
       "<ol class=list-inline>\n",
       "\t<li>35080</li>\n",
       "\t<li>15</li>\n",
       "</ol>\n"
      ],
      "text/latex": [
       "\\begin{enumerate*}\n",
       "\\item 35080\n",
       "\\item 15\n",
       "\\end{enumerate*}\n"
      ],
      "text/markdown": [
       "1. 35080\n",
       "2. 15\n",
       "\n",
       "\n"
      ],
      "text/plain": [
       "[1] 35080    15"
      ]
     },
     "metadata": {},
     "output_type": "display_data"
    },
    {
     "data": {
      "text/html": [
       "<ol class=list-inline>\n",
       "\t<li>'wealthIdx'</li>\n",
       "\t<li>'hgt0'</li>\n",
       "\t<li>'wgt0'</li>\n",
       "</ol>\n"
      ],
      "text/latex": [
       "\\begin{enumerate*}\n",
       "\\item 'wealthIdx'\n",
       "\\item 'hgt0'\n",
       "\\item 'wgt0'\n",
       "\\end{enumerate*}\n"
      ],
      "text/markdown": [
       "1. 'wealthIdx'\n",
       "2. 'hgt0'\n",
       "3. 'wgt0'\n",
       "\n",
       "\n"
      ],
      "text/plain": [
       "[1] \"wealthIdx\" \"hgt0\"      \"wgt0\"     "
      ]
     },
     "metadata": {},
     "output_type": "display_data"
    },
    {
     "data": {
      "text/html": [
       "<ol class=list-inline>\n",
       "\t<li>29956</li>\n",
       "\t<li>15</li>\n",
       "</ol>\n"
      ],
      "text/latex": [
       "\\begin{enumerate*}\n",
       "\\item 29956\n",
       "\\item 15\n",
       "\\end{enumerate*}\n"
      ],
      "text/markdown": [
       "1. 29956\n",
       "2. 15\n",
       "\n",
       "\n"
      ],
      "text/plain": [
       "[1] 29956    15"
      ]
     },
     "metadata": {},
     "output_type": "display_data"
    }
   ],
   "source": [
    "# Original dimensions\n",
    "dim(df)\n",
    "# All Continuous Variables from lists\n",
    "vars.cts2quantile <- unlist(lapply(list.cts2quantile, function(elist) elist$vars))\n",
    "vars.cts2quantile\n",
    "# Keep only if not NA for all Quantile variables       \n",
    "if (drop.any.quantile.na) {\n",
    "    df.select <- df %>% drop_na(c(vars.group_by, vars.arrange, vars.cts2quantile))\n",
    "}\n",
    "dim(df.select)"
   ]
  },
  {
   "cell_type": "markdown",
   "metadata": {},
   "source": [
    "### Apply Quantiles for Each Quantile Variable"
   ]
  },
  {
   "cell_type": "code",
   "execution_count": 542,
   "metadata": {},
   "outputs": [
    {
     "data": {
      "text/plain": [
       "                wealthIdx_Qs0e1n2\n",
       " [0.5,2]; (1) of Qs0e1n3 :15160  \n",
       " (2,14.1]; (2) of Qs0e1n3:14796  "
      ]
     },
     "metadata": {},
     "output_type": "display_data"
    }
   ],
   "source": [
    "# Dealing with a list of quantile variables\n",
    "df.cut.wealth <- df_cut_by_sliced_quantiles(df.select, vars.cts2quantile.wealth, seq.quantiles.wealth, vars.group_by, vars.arrange)\n",
    "summary(df.cut.wealth$vars.quantile.cut)\n",
    "# summary((df.cut.wealth$df.with.cut.quant)[['wealthIdx_Qs0e1n2']])\n",
    "# df.cut.wealth$df.with.cut.quant %>% filter(is.na(wealthIdx_Qs0e1n2))\n",
    "# df.cut.wealth$df.with.cut.quant %>% filter(indi.id == 500)"
   ]
  },
  {
   "cell_type": "code",
   "execution_count": 543,
   "metadata": {},
   "outputs": [
    {
     "name": "stderr",
     "output_type": "stream",
     "text": [
      "Joining, by = \"quant.perc\"\n"
     ]
    },
    {
     "data": {
      "text/plain": [
       "                      hgt0_Qs0e1n3  \n",
       " [40.8,48.6]; (1) of Qs0e1n3:10444  \n",
       " (48.6,50.3]; (2) of Qs0e1n3:10080  \n",
       " (50.3,58.7]; (3) of Qs0e1n3: 9432  \n",
       "                              wgt0_Qs0e1n3  \n",
       " [1.4e+03,2.86e+03]; (1) of Qs0e1n3 :10106  \n",
       " (2.86e+03,3.22e+03]; (2) of Qs0e1n3:10034  \n",
       " (3.22e+03,4.97e+03]; (3) of Qs0e1n3: 9816  "
      ]
     },
     "metadata": {},
     "output_type": "display_data"
    }
   ],
   "source": [
    "df.cut.wgthgt <- df_cut_by_sliced_quantiles(df.select, vars.cts2quantile.wgthgt, seq.quantiles.wgthgt, vars.group_by, vars.arrange)\n",
    "summary(df.cut.wgthgt$vars.quantile.cut)"
   ]
  },
  {
   "cell_type": "markdown",
   "metadata": {},
   "source": [
    "### Apply Quantiles Functionally"
   ]
  },
  {
   "cell_type": "code",
   "execution_count": 544,
   "metadata": {},
   "outputs": [],
   "source": [
    "df_cut_by_sliced_quantiles_grps <- function(quantile.grp.list, df, vars.group_by, vars.arrange) {\n",
    "    vars.cts2quantile <- quantile.grp.list$vars\n",
    "    seq.quantiles <- quantile.grp.list$prob\n",
    "    return(df_cut_by_sliced_quantiles(df, vars.cts2quantile, seq.quantiles, vars.group_by, vars.arrange))\n",
    "}"
   ]
  },
  {
   "cell_type": "code",
   "execution_count": 545,
   "metadata": {},
   "outputs": [
    {
     "name": "stderr",
     "output_type": "stream",
     "text": [
      "Joining, by = \"quant.perc\"\n"
     ]
    }
   ],
   "source": [
    "# Apply function\n",
    "df.cut.list <- lapply(list.cts2quantile, df_cut_by_sliced_quantiles_grps, \n",
    "                      df=df.select, vars.group_by=vars.group_by, vars.arrange=vars.arrange)"
   ]
  },
  {
   "cell_type": "code",
   "execution_count": 546,
   "metadata": {},
   "outputs": [
    {
     "name": "stderr",
     "output_type": "stream",
     "text": [
      "Joining, by = c(\"S.country\", \"vil.id\", \"indi.id\", \"sex\", \"svymthRound\", \"momEdu\", \"wealthIdx\", \"hgt\", \"wgt\", \"hgt0\", \"wgt0\", \"prot\", \"cal\", \"p.A.prot\", \"p.A.nProt\")\n"
     ]
    },
    {
     "data": {
      "text/html": [
       "<ol class=list-inline>\n",
       "\t<li>29956</li>\n",
       "\t<li>18</li>\n",
       "</ol>\n"
      ],
      "text/latex": [
       "\\begin{enumerate*}\n",
       "\\item 29956\n",
       "\\item 18\n",
       "\\end{enumerate*}\n"
      ],
      "text/markdown": [
       "1. 29956\n",
       "2. 18\n",
       "\n",
       "\n"
      ],
      "text/plain": [
       "[1] 29956    18"
      ]
     },
     "metadata": {},
     "output_type": "display_data"
    }
   ],
   "source": [
    "# Reduce Resulting Matrixes Together\n",
    "df.with.cut.quant.all <- lapply(df.cut.list, function(elist) elist$df.with.cut.quant) %>% reduce(left_join)\n",
    "dim(df.with.cut.quant.all)"
   ]
  },
  {
   "cell_type": "code",
   "execution_count": 567,
   "metadata": {},
   "outputs": [
    {
     "data": {
      "text/html": [
       "<ol class=list-inline>\n",
       "\t<li>'wealthIdx_Qs0e1n2'</li>\n",
       "\t<li>'hgt0_Qs0e1n3'</li>\n",
       "\t<li>'wgt0_Qs0e1n3'</li>\n",
       "</ol>\n"
      ],
      "text/latex": [
       "\\begin{enumerate*}\n",
       "\\item 'wealthIdx\\_Qs0e1n2'\n",
       "\\item 'hgt0\\_Qs0e1n3'\n",
       "\\item 'wgt0\\_Qs0e1n3'\n",
       "\\end{enumerate*}\n"
      ],
      "text/markdown": [
       "1. 'wealthIdx_Qs0e1n2'\n",
       "2. 'hgt0_Qs0e1n3'\n",
       "3. 'wgt0_Qs0e1n3'\n",
       "\n",
       "\n"
      ],
      "text/plain": [
       "[1] \"wealthIdx_Qs0e1n2\" \"hgt0_Qs0e1n3\"      \"wgt0_Qs0e1n3\"     "
      ]
     },
     "metadata": {},
     "output_type": "display_data"
    }
   ],
   "source": [
    "# Obrain Newly Created Quantile Group Variables\n",
    "vars.quantile.cut.all <- unlist(lapply(df.cut.list, function(elist) names(elist$vars.quantile.cut)))\n",
    "vars.quantile.cut.all"
   ]
  },
  {
   "cell_type": "markdown",
   "metadata": {},
   "source": [
    "### Summarize by Groups\n",
    "\n",
    "Summarize by all groups."
   ]
  },
  {
   "cell_type": "code",
   "execution_count": 568,
   "metadata": {},
   "outputs": [
    {
     "data": {
      "text/plain": [
       "                wealthIdx_Qs0e1n2                      hgt0_Qs0e1n3  \n",
       " [0.5,2]; (1) of Qs0e1n3 :15160   [40.8,48.6]; (1) of Qs0e1n3:10444  \n",
       " (2,14.1]; (2) of Qs0e1n3:14796   (48.6,50.3]; (2) of Qs0e1n3:10080  \n",
       "                                  (50.3,58.7]; (3) of Qs0e1n3: 9432  \n",
       "                              wgt0_Qs0e1n3  \n",
       " [1.4e+03,2.86e+03]; (1) of Qs0e1n3 :10106  \n",
       " (2.86e+03,3.22e+03]; (2) of Qs0e1n3:10034  \n",
       " (3.22e+03,4.97e+03]; (3) of Qs0e1n3: 9816  "
      ]
     },
     "metadata": {},
     "output_type": "display_data"
    }
   ],
   "source": [
    "summary(df.with.cut.quant.all %>% select(one_of(vars.quantile.cut.all)))"
   ]
  },
  {
   "cell_type": "code",
   "execution_count": 569,
   "metadata": {},
   "outputs": [],
   "source": [
    "# df.with.cut.quant.all %>%\n",
    "#     group_by(!!!syms(vars.quantile.cut.all)) %>%\n",
    "#     summarise_at(vars.cts2quantile, funs(mean, n()))"
   ]
  },
  {
   "cell_type": "markdown",
   "metadata": {},
   "source": [
    "### Generate Joint Quantile Vars Unique Groups"
   ]
  },
  {
   "cell_type": "code",
   "execution_count": 570,
   "metadata": {},
   "outputs": [],
   "source": [
    "var.qjnt.grp.idx <- 'group.index'\n",
    "df.with.cut.quant.all <- df.with.cut.quant.all %>% mutate(!!var.qjnt.grp.idx := group_indices(., !!!syms(vars.quantile.cut.all)))"
   ]
  },
  {
   "cell_type": "code",
   "execution_count": 583,
   "metadata": {},
   "outputs": [
    {
     "data": {
      "text/html": [
       "<table>\n",
       "<tbody>\n",
       "\t<tr><td>1 </td><td>2 </td><td>3 </td><td>4 </td><td>5 </td><td>6 </td><td>7 </td><td>8 </td><td>9 </td><td>10</td><td>11</td><td>12</td><td>13</td><td>14</td><td>15</td><td>16</td><td>17</td><td>18</td></tr>\n",
       "</tbody>\n",
       "</table>\n"
      ],
      "text/latex": [
       "\\begin{tabular}{llllllllllllllllll}\n",
       "\t 1  & 2  & 3  & 4  & 5  & 6  & 7  & 8  & 9  & 10 & 11 & 12 & 13 & 14 & 15 & 16 & 17 & 18\\\\\n",
       "\\end{tabular}\n"
      ],
      "text/markdown": [
       "\n",
       "| 1  | 2  | 3  | 4  | 5  | 6  | 7  | 8  | 9  | 10 | 11 | 12 | 13 | 14 | 15 | 16 | 17 | 18 |\n",
       "\n"
      ],
      "text/plain": [
       "     [,1] [,2] [,3] [,4] [,5] [,6] [,7] [,8] [,9] [,10] [,11] [,12] [,13] [,14]\n",
       "[1,] 1    2    3    4    5    6    7    8    9    10    11    12    13    14   \n",
       "     [,15] [,16] [,17] [,18]\n",
       "[1,] 15    16    17    18   "
      ]
     },
     "metadata": {},
     "output_type": "display_data"
    }
   ],
   "source": [
    "arr.group.idx <- t(sort(unique(df.with.cut.quant.all[[var.qjnt.grp.idx]])))\n",
    "arr.group.idx"
   ]
  },
  {
   "cell_type": "code",
   "execution_count": 575,
   "metadata": {},
   "outputs": [
    {
     "data": {
      "text/html": [
       "<table>\n",
       "<thead><tr><th scope=col>wealthIdx_Qs0e1n2</th><th scope=col>hgt0_Qs0e1n3</th><th scope=col>wgt0_Qs0e1n3</th><th scope=col>group.index</th><th scope=col>wealthIdx_mean</th><th scope=col>hgt0_mean</th><th scope=col>wgt0_mean</th><th scope=col>wealthIdx_n</th><th scope=col>hgt0_n</th><th scope=col>wgt0_n</th></tr></thead>\n",
       "<tbody>\n",
       "\t<tr><td>[0.5,2]; (1) of Qs0e1n3            </td><td>[40.8,48.6]; (1) of Qs0e1n3        </td><td>[1.4e+03,2.86e+03]; (1) of Qs0e1n3 </td><td> 1                                 </td><td>1.1078134                          </td><td>46.71157                           </td><td>2521.033                           </td><td>3302                               </td><td>3302                               </td><td>3302                               </td></tr>\n",
       "\t<tr><td>[0.5,2]; (1) of Qs0e1n3            </td><td>[40.8,48.6]; (1) of Qs0e1n3        </td><td>(2.86e+03,3.22e+03]; (2) of Qs0e1n3</td><td> 2                                 </td><td>1.0743658                          </td><td>47.71108                           </td><td>3031.262                           </td><td>1498                               </td><td>1498                               </td><td>1498                               </td></tr>\n",
       "\t<tr><td>[0.5,2]; (1) of Qs0e1n3            </td><td>[40.8,48.6]; (1) of Qs0e1n3        </td><td>(3.22e+03,4.97e+03]; (3) of Qs0e1n3</td><td> 3                                 </td><td>0.8926174                          </td><td>47.61074                           </td><td>3433.848                           </td><td> 298                               </td><td> 298                               </td><td> 298                               </td></tr>\n",
       "\t<tr><td>[0.5,2]; (1) of Qs0e1n3            </td><td>(48.6,50.3]; (2) of Qs0e1n3        </td><td>[1.4e+03,2.86e+03]; (1) of Qs0e1n3 </td><td> 4                                 </td><td>1.2016949                          </td><td>49.36254                           </td><td>2713.513                           </td><td>1180                               </td><td>1180                               </td><td>1180                               </td></tr>\n",
       "\t<tr><td>[0.5,2]; (1) of Qs0e1n3            </td><td>(48.6,50.3]; (2) of Qs0e1n3        </td><td>(2.86e+03,3.22e+03]; (2) of Qs0e1n3</td><td> 5                                 </td><td>1.1319149                          </td><td>49.43100                           </td><td>3037.172                           </td><td>1974                               </td><td>1974                               </td><td>1974                               </td></tr>\n",
       "\t<tr><td>[0.5,2]; (1) of Qs0e1n3            </td><td>(48.6,50.3]; (2) of Qs0e1n3        </td><td>(3.22e+03,4.97e+03]; (3) of Qs0e1n3</td><td> 6                                 </td><td>0.9644783                          </td><td>49.59836                           </td><td>3466.470                           </td><td>1706                               </td><td>1706                               </td><td>1706                               </td></tr>\n",
       "\t<tr><td>[0.5,2]; (1) of Qs0e1n3            </td><td>(50.3,58.7]; (3) of Qs0e1n3        </td><td>[1.4e+03,2.86e+03]; (1) of Qs0e1n3 </td><td> 7                                 </td><td>0.7647059                          </td><td>51.07412                           </td><td>2677.209                           </td><td> 170                               </td><td> 170                               </td><td> 170                               </td></tr>\n",
       "\t<tr><td>[0.5,2]; (1) of Qs0e1n3            </td><td>(50.3,58.7]; (3) of Qs0e1n3        </td><td>(2.86e+03,3.22e+03]; (2) of Qs0e1n3</td><td> 8                                 </td><td>1.3049005                          </td><td>51.22358                           </td><td>3085.581                           </td><td>1306                               </td><td>1306                               </td><td>1306                               </td></tr>\n",
       "\t<tr><td>[0.5,2]; (1) of Qs0e1n3            </td><td>(50.3,58.7]; (3) of Qs0e1n3        </td><td>(3.22e+03,4.97e+03]; (3) of Qs0e1n3</td><td> 9                                 </td><td>0.8845411                          </td><td>52.04326                           </td><td>3699.735                           </td><td>3726                               </td><td>3726                               </td><td>3726                               </td></tr>\n",
       "\t<tr><td>(2,14.1]; (2) of Qs0e1n3           </td><td>[40.8,48.6]; (1) of Qs0e1n3        </td><td>[1.4e+03,2.86e+03]; (1) of Qs0e1n3 </td><td>10                                 </td><td>4.2859296                          </td><td>46.92462                           </td><td>2555.903                           </td><td>3582                               </td><td>3582                               </td><td>3582                               </td></tr>\n",
       "\t<tr><td>(2,14.1]; (2) of Qs0e1n3           </td><td>[40.8,48.6]; (1) of Qs0e1n3        </td><td>(2.86e+03,3.22e+03]; (2) of Qs0e1n3</td><td>11                                 </td><td>4.7650000                          </td><td>47.99500                           </td><td>3016.827                           </td><td>1440                               </td><td>1440                               </td><td>1440                               </td></tr>\n",
       "\t<tr><td>(2,14.1]; (2) of Qs0e1n3           </td><td>[40.8,48.6]; (1) of Qs0e1n3        </td><td>(3.22e+03,4.97e+03]; (3) of Qs0e1n3</td><td>12                                 </td><td>4.8888889                          </td><td>48.20556                           </td><td>3383.061                           </td><td> 324                               </td><td> 324                               </td><td> 324                               </td></tr>\n",
       "\t<tr><td>(2,14.1]; (2) of Qs0e1n3           </td><td>(48.6,50.3]; (2) of Qs0e1n3        </td><td>[1.4e+03,2.86e+03]; (1) of Qs0e1n3 </td><td>13                                 </td><td>4.9290323                          </td><td>49.45484                           </td><td>2690.666                           </td><td>1674                               </td><td>1674                               </td><td>1674                               </td></tr>\n",
       "\t<tr><td>(2,14.1]; (2) of Qs0e1n3           </td><td>(48.6,50.3]; (2) of Qs0e1n3        </td><td>(2.86e+03,3.22e+03]; (2) of Qs0e1n3</td><td>14                                 </td><td>5.2138211                          </td><td>49.59919                           </td><td>3040.496                           </td><td>2214                               </td><td>2214                               </td><td>2214                               </td></tr>\n",
       "\t<tr><td>(2,14.1]; (2) of Qs0e1n3           </td><td>(48.6,50.3]; (2) of Qs0e1n3        </td><td>(3.22e+03,4.97e+03]; (3) of Qs0e1n3</td><td>15                                 </td><td>5.4351351                          </td><td>49.62162                           </td><td>3435.182                           </td><td>1332                               </td><td>1332                               </td><td>1332                               </td></tr>\n",
       "\t<tr><td>(2,14.1]; (2) of Qs0e1n3           </td><td>(50.3,58.7]; (3) of Qs0e1n3        </td><td>[1.4e+03,2.86e+03]; (1) of Qs0e1n3 </td><td>16                                 </td><td>4.1818182                          </td><td>50.74545                           </td><td>2737.509                           </td><td> 198                               </td><td> 198                               </td><td> 198                               </td></tr>\n",
       "\t<tr><td>(2,14.1]; (2) of Qs0e1n3           </td><td>(50.3,58.7]; (3) of Qs0e1n3        </td><td>(2.86e+03,3.22e+03]; (2) of Qs0e1n3</td><td>17                                 </td><td>5.1460674                          </td><td>51.19663                           </td><td>3084.083                           </td><td>1602                               </td><td>1602                               </td><td>1602                               </td></tr>\n",
       "\t<tr><td>(2,14.1]; (2) of Qs0e1n3           </td><td>(50.3,58.7]; (3) of Qs0e1n3        </td><td>(3.22e+03,4.97e+03]; (3) of Qs0e1n3</td><td>18                                 </td><td>5.5629630                          </td><td>52.17852                           </td><td>3593.454                           </td><td>2430                               </td><td>2430                               </td><td>2430                               </td></tr>\n",
       "</tbody>\n",
       "</table>\n"
      ],
      "text/latex": [
       "\\begin{tabular}{r|llllllllll}\n",
       " wealthIdx\\_Qs0e1n2 & hgt0\\_Qs0e1n3 & wgt0\\_Qs0e1n3 & group.index & wealthIdx\\_mean & hgt0\\_mean & wgt0\\_mean & wealthIdx\\_n & hgt0\\_n & wgt0\\_n\\\\\n",
       "\\hline\n",
       "\t {[}0.5,2{]}; (1) of Qs0e1n3             & {[}40.8,48.6{]}; (1) of Qs0e1n3         & {[}1.4e+03,2.86e+03{]}; (1) of Qs0e1n3  &  1                                      & 1.1078134                               & 46.71157                                & 2521.033                                & 3302                                    & 3302                                    & 3302                                   \\\\\n",
       "\t {[}0.5,2{]}; (1) of Qs0e1n3           & {[}40.8,48.6{]}; (1) of Qs0e1n3       & (2.86e+03,3.22e+03{]}; (2) of Qs0e1n3 &  2                                    & 1.0743658                             & 47.71108                              & 3031.262                              & 1498                                  & 1498                                  & 1498                                 \\\\\n",
       "\t {[}0.5,2{]}; (1) of Qs0e1n3           & {[}40.8,48.6{]}; (1) of Qs0e1n3       & (3.22e+03,4.97e+03{]}; (3) of Qs0e1n3 &  3                                    & 0.8926174                             & 47.61074                              & 3433.848                              &  298                                  &  298                                  &  298                                 \\\\\n",
       "\t {[}0.5,2{]}; (1) of Qs0e1n3             & (48.6,50.3{]}; (2) of Qs0e1n3           & {[}1.4e+03,2.86e+03{]}; (1) of Qs0e1n3  &  4                                      & 1.2016949                               & 49.36254                                & 2713.513                                & 1180                                    & 1180                                    & 1180                                   \\\\\n",
       "\t {[}0.5,2{]}; (1) of Qs0e1n3           & (48.6,50.3{]}; (2) of Qs0e1n3         & (2.86e+03,3.22e+03{]}; (2) of Qs0e1n3 &  5                                    & 1.1319149                             & 49.43100                              & 3037.172                              & 1974                                  & 1974                                  & 1974                                 \\\\\n",
       "\t {[}0.5,2{]}; (1) of Qs0e1n3           & (48.6,50.3{]}; (2) of Qs0e1n3         & (3.22e+03,4.97e+03{]}; (3) of Qs0e1n3 &  6                                    & 0.9644783                             & 49.59836                              & 3466.470                              & 1706                                  & 1706                                  & 1706                                 \\\\\n",
       "\t {[}0.5,2{]}; (1) of Qs0e1n3             & (50.3,58.7{]}; (3) of Qs0e1n3           & {[}1.4e+03,2.86e+03{]}; (1) of Qs0e1n3  &  7                                      & 0.7647059                               & 51.07412                                & 2677.209                                &  170                                    &  170                                    &  170                                   \\\\\n",
       "\t {[}0.5,2{]}; (1) of Qs0e1n3           & (50.3,58.7{]}; (3) of Qs0e1n3         & (2.86e+03,3.22e+03{]}; (2) of Qs0e1n3 &  8                                    & 1.3049005                             & 51.22358                              & 3085.581                              & 1306                                  & 1306                                  & 1306                                 \\\\\n",
       "\t {[}0.5,2{]}; (1) of Qs0e1n3           & (50.3,58.7{]}; (3) of Qs0e1n3         & (3.22e+03,4.97e+03{]}; (3) of Qs0e1n3 &  9                                    & 0.8845411                             & 52.04326                              & 3699.735                              & 3726                                  & 3726                                  & 3726                                 \\\\\n",
       "\t (2,14.1{]}; (2) of Qs0e1n3              & {[}40.8,48.6{]}; (1) of Qs0e1n3         & {[}1.4e+03,2.86e+03{]}; (1) of Qs0e1n3  & 10                                      & 4.2859296                               & 46.92462                                & 2555.903                                & 3582                                    & 3582                                    & 3582                                   \\\\\n",
       "\t (2,14.1{]}; (2) of Qs0e1n3            & {[}40.8,48.6{]}; (1) of Qs0e1n3       & (2.86e+03,3.22e+03{]}; (2) of Qs0e1n3 & 11                                    & 4.7650000                             & 47.99500                              & 3016.827                              & 1440                                  & 1440                                  & 1440                                 \\\\\n",
       "\t (2,14.1{]}; (2) of Qs0e1n3            & {[}40.8,48.6{]}; (1) of Qs0e1n3       & (3.22e+03,4.97e+03{]}; (3) of Qs0e1n3 & 12                                    & 4.8888889                             & 48.20556                              & 3383.061                              &  324                                  &  324                                  &  324                                 \\\\\n",
       "\t (2,14.1{]}; (2) of Qs0e1n3              & (48.6,50.3{]}; (2) of Qs0e1n3           & {[}1.4e+03,2.86e+03{]}; (1) of Qs0e1n3  & 13                                      & 4.9290323                               & 49.45484                                & 2690.666                                & 1674                                    & 1674                                    & 1674                                   \\\\\n",
       "\t (2,14.1{]}; (2) of Qs0e1n3            & (48.6,50.3{]}; (2) of Qs0e1n3         & (2.86e+03,3.22e+03{]}; (2) of Qs0e1n3 & 14                                    & 5.2138211                             & 49.59919                              & 3040.496                              & 2214                                  & 2214                                  & 2214                                 \\\\\n",
       "\t (2,14.1{]}; (2) of Qs0e1n3            & (48.6,50.3{]}; (2) of Qs0e1n3         & (3.22e+03,4.97e+03{]}; (3) of Qs0e1n3 & 15                                    & 5.4351351                             & 49.62162                              & 3435.182                              & 1332                                  & 1332                                  & 1332                                 \\\\\n",
       "\t (2,14.1{]}; (2) of Qs0e1n3              & (50.3,58.7{]}; (3) of Qs0e1n3           & {[}1.4e+03,2.86e+03{]}; (1) of Qs0e1n3  & 16                                      & 4.1818182                               & 50.74545                                & 2737.509                                &  198                                    &  198                                    &  198                                   \\\\\n",
       "\t (2,14.1{]}; (2) of Qs0e1n3            & (50.3,58.7{]}; (3) of Qs0e1n3         & (2.86e+03,3.22e+03{]}; (2) of Qs0e1n3 & 17                                    & 5.1460674                             & 51.19663                              & 3084.083                              & 1602                                  & 1602                                  & 1602                                 \\\\\n",
       "\t (2,14.1{]}; (2) of Qs0e1n3            & (50.3,58.7{]}; (3) of Qs0e1n3         & (3.22e+03,4.97e+03{]}; (3) of Qs0e1n3 & 18                                    & 5.5629630                             & 52.17852                              & 3593.454                              & 2430                                  & 2430                                  & 2430                                 \\\\\n",
       "\\end{tabular}\n"
      ],
      "text/markdown": [
       "\n",
       "| wealthIdx_Qs0e1n2 | hgt0_Qs0e1n3 | wgt0_Qs0e1n3 | group.index | wealthIdx_mean | hgt0_mean | wgt0_mean | wealthIdx_n | hgt0_n | wgt0_n |\n",
       "|---|---|---|---|---|---|---|---|---|---|\n",
       "| [0.5,2]; (1) of Qs0e1n3             | [40.8,48.6]; (1) of Qs0e1n3         | [1.4e+03,2.86e+03]; (1) of Qs0e1n3  |  1                                  | 1.1078134                           | 46.71157                            | 2521.033                            | 3302                                | 3302                                | 3302                                |\n",
       "| [0.5,2]; (1) of Qs0e1n3             | [40.8,48.6]; (1) of Qs0e1n3         | (2.86e+03,3.22e+03]; (2) of Qs0e1n3 |  2                                  | 1.0743658                           | 47.71108                            | 3031.262                            | 1498                                | 1498                                | 1498                                |\n",
       "| [0.5,2]; (1) of Qs0e1n3             | [40.8,48.6]; (1) of Qs0e1n3         | (3.22e+03,4.97e+03]; (3) of Qs0e1n3 |  3                                  | 0.8926174                           | 47.61074                            | 3433.848                            |  298                                |  298                                |  298                                |\n",
       "| [0.5,2]; (1) of Qs0e1n3             | (48.6,50.3]; (2) of Qs0e1n3         | [1.4e+03,2.86e+03]; (1) of Qs0e1n3  |  4                                  | 1.2016949                           | 49.36254                            | 2713.513                            | 1180                                | 1180                                | 1180                                |\n",
       "| [0.5,2]; (1) of Qs0e1n3             | (48.6,50.3]; (2) of Qs0e1n3         | (2.86e+03,3.22e+03]; (2) of Qs0e1n3 |  5                                  | 1.1319149                           | 49.43100                            | 3037.172                            | 1974                                | 1974                                | 1974                                |\n",
       "| [0.5,2]; (1) of Qs0e1n3             | (48.6,50.3]; (2) of Qs0e1n3         | (3.22e+03,4.97e+03]; (3) of Qs0e1n3 |  6                                  | 0.9644783                           | 49.59836                            | 3466.470                            | 1706                                | 1706                                | 1706                                |\n",
       "| [0.5,2]; (1) of Qs0e1n3             | (50.3,58.7]; (3) of Qs0e1n3         | [1.4e+03,2.86e+03]; (1) of Qs0e1n3  |  7                                  | 0.7647059                           | 51.07412                            | 2677.209                            |  170                                |  170                                |  170                                |\n",
       "| [0.5,2]; (1) of Qs0e1n3             | (50.3,58.7]; (3) of Qs0e1n3         | (2.86e+03,3.22e+03]; (2) of Qs0e1n3 |  8                                  | 1.3049005                           | 51.22358                            | 3085.581                            | 1306                                | 1306                                | 1306                                |\n",
       "| [0.5,2]; (1) of Qs0e1n3             | (50.3,58.7]; (3) of Qs0e1n3         | (3.22e+03,4.97e+03]; (3) of Qs0e1n3 |  9                                  | 0.8845411                           | 52.04326                            | 3699.735                            | 3726                                | 3726                                | 3726                                |\n",
       "| (2,14.1]; (2) of Qs0e1n3            | [40.8,48.6]; (1) of Qs0e1n3         | [1.4e+03,2.86e+03]; (1) of Qs0e1n3  | 10                                  | 4.2859296                           | 46.92462                            | 2555.903                            | 3582                                | 3582                                | 3582                                |\n",
       "| (2,14.1]; (2) of Qs0e1n3            | [40.8,48.6]; (1) of Qs0e1n3         | (2.86e+03,3.22e+03]; (2) of Qs0e1n3 | 11                                  | 4.7650000                           | 47.99500                            | 3016.827                            | 1440                                | 1440                                | 1440                                |\n",
       "| (2,14.1]; (2) of Qs0e1n3            | [40.8,48.6]; (1) of Qs0e1n3         | (3.22e+03,4.97e+03]; (3) of Qs0e1n3 | 12                                  | 4.8888889                           | 48.20556                            | 3383.061                            |  324                                |  324                                |  324                                |\n",
       "| (2,14.1]; (2) of Qs0e1n3            | (48.6,50.3]; (2) of Qs0e1n3         | [1.4e+03,2.86e+03]; (1) of Qs0e1n3  | 13                                  | 4.9290323                           | 49.45484                            | 2690.666                            | 1674                                | 1674                                | 1674                                |\n",
       "| (2,14.1]; (2) of Qs0e1n3            | (48.6,50.3]; (2) of Qs0e1n3         | (2.86e+03,3.22e+03]; (2) of Qs0e1n3 | 14                                  | 5.2138211                           | 49.59919                            | 3040.496                            | 2214                                | 2214                                | 2214                                |\n",
       "| (2,14.1]; (2) of Qs0e1n3            | (48.6,50.3]; (2) of Qs0e1n3         | (3.22e+03,4.97e+03]; (3) of Qs0e1n3 | 15                                  | 5.4351351                           | 49.62162                            | 3435.182                            | 1332                                | 1332                                | 1332                                |\n",
       "| (2,14.1]; (2) of Qs0e1n3            | (50.3,58.7]; (3) of Qs0e1n3         | [1.4e+03,2.86e+03]; (1) of Qs0e1n3  | 16                                  | 4.1818182                           | 50.74545                            | 2737.509                            |  198                                |  198                                |  198                                |\n",
       "| (2,14.1]; (2) of Qs0e1n3            | (50.3,58.7]; (3) of Qs0e1n3         | (2.86e+03,3.22e+03]; (2) of Qs0e1n3 | 17                                  | 5.1460674                           | 51.19663                            | 3084.083                            | 1602                                | 1602                                | 1602                                |\n",
       "| (2,14.1]; (2) of Qs0e1n3            | (50.3,58.7]; (3) of Qs0e1n3         | (3.22e+03,4.97e+03]; (3) of Qs0e1n3 | 18                                  | 5.5629630                           | 52.17852                            | 3593.454                            | 2430                                | 2430                                | 2430                                |\n",
       "\n"
      ],
      "text/plain": [
       "   wealthIdx_Qs0e1n2        hgt0_Qs0e1n3               \n",
       "1  [0.5,2]; (1) of Qs0e1n3  [40.8,48.6]; (1) of Qs0e1n3\n",
       "2  [0.5,2]; (1) of Qs0e1n3  [40.8,48.6]; (1) of Qs0e1n3\n",
       "3  [0.5,2]; (1) of Qs0e1n3  [40.8,48.6]; (1) of Qs0e1n3\n",
       "4  [0.5,2]; (1) of Qs0e1n3  (48.6,50.3]; (2) of Qs0e1n3\n",
       "5  [0.5,2]; (1) of Qs0e1n3  (48.6,50.3]; (2) of Qs0e1n3\n",
       "6  [0.5,2]; (1) of Qs0e1n3  (48.6,50.3]; (2) of Qs0e1n3\n",
       "7  [0.5,2]; (1) of Qs0e1n3  (50.3,58.7]; (3) of Qs0e1n3\n",
       "8  [0.5,2]; (1) of Qs0e1n3  (50.3,58.7]; (3) of Qs0e1n3\n",
       "9  [0.5,2]; (1) of Qs0e1n3  (50.3,58.7]; (3) of Qs0e1n3\n",
       "10 (2,14.1]; (2) of Qs0e1n3 [40.8,48.6]; (1) of Qs0e1n3\n",
       "11 (2,14.1]; (2) of Qs0e1n3 [40.8,48.6]; (1) of Qs0e1n3\n",
       "12 (2,14.1]; (2) of Qs0e1n3 [40.8,48.6]; (1) of Qs0e1n3\n",
       "13 (2,14.1]; (2) of Qs0e1n3 (48.6,50.3]; (2) of Qs0e1n3\n",
       "14 (2,14.1]; (2) of Qs0e1n3 (48.6,50.3]; (2) of Qs0e1n3\n",
       "15 (2,14.1]; (2) of Qs0e1n3 (48.6,50.3]; (2) of Qs0e1n3\n",
       "16 (2,14.1]; (2) of Qs0e1n3 (50.3,58.7]; (3) of Qs0e1n3\n",
       "17 (2,14.1]; (2) of Qs0e1n3 (50.3,58.7]; (3) of Qs0e1n3\n",
       "18 (2,14.1]; (2) of Qs0e1n3 (50.3,58.7]; (3) of Qs0e1n3\n",
       "   wgt0_Qs0e1n3                        group.index wealthIdx_mean hgt0_mean\n",
       "1  [1.4e+03,2.86e+03]; (1) of Qs0e1n3   1          1.1078134      46.71157 \n",
       "2  (2.86e+03,3.22e+03]; (2) of Qs0e1n3  2          1.0743658      47.71108 \n",
       "3  (3.22e+03,4.97e+03]; (3) of Qs0e1n3  3          0.8926174      47.61074 \n",
       "4  [1.4e+03,2.86e+03]; (1) of Qs0e1n3   4          1.2016949      49.36254 \n",
       "5  (2.86e+03,3.22e+03]; (2) of Qs0e1n3  5          1.1319149      49.43100 \n",
       "6  (3.22e+03,4.97e+03]; (3) of Qs0e1n3  6          0.9644783      49.59836 \n",
       "7  [1.4e+03,2.86e+03]; (1) of Qs0e1n3   7          0.7647059      51.07412 \n",
       "8  (2.86e+03,3.22e+03]; (2) of Qs0e1n3  8          1.3049005      51.22358 \n",
       "9  (3.22e+03,4.97e+03]; (3) of Qs0e1n3  9          0.8845411      52.04326 \n",
       "10 [1.4e+03,2.86e+03]; (1) of Qs0e1n3  10          4.2859296      46.92462 \n",
       "11 (2.86e+03,3.22e+03]; (2) of Qs0e1n3 11          4.7650000      47.99500 \n",
       "12 (3.22e+03,4.97e+03]; (3) of Qs0e1n3 12          4.8888889      48.20556 \n",
       "13 [1.4e+03,2.86e+03]; (1) of Qs0e1n3  13          4.9290323      49.45484 \n",
       "14 (2.86e+03,3.22e+03]; (2) of Qs0e1n3 14          5.2138211      49.59919 \n",
       "15 (3.22e+03,4.97e+03]; (3) of Qs0e1n3 15          5.4351351      49.62162 \n",
       "16 [1.4e+03,2.86e+03]; (1) of Qs0e1n3  16          4.1818182      50.74545 \n",
       "17 (2.86e+03,3.22e+03]; (2) of Qs0e1n3 17          5.1460674      51.19663 \n",
       "18 (3.22e+03,4.97e+03]; (3) of Qs0e1n3 18          5.5629630      52.17852 \n",
       "   wgt0_mean wealthIdx_n hgt0_n wgt0_n\n",
       "1  2521.033  3302        3302   3302  \n",
       "2  3031.262  1498        1498   1498  \n",
       "3  3433.848   298         298    298  \n",
       "4  2713.513  1180        1180   1180  \n",
       "5  3037.172  1974        1974   1974  \n",
       "6  3466.470  1706        1706   1706  \n",
       "7  2677.209   170         170    170  \n",
       "8  3085.581  1306        1306   1306  \n",
       "9  3699.735  3726        3726   3726  \n",
       "10 2555.903  3582        3582   3582  \n",
       "11 3016.827  1440        1440   1440  \n",
       "12 3383.061   324         324    324  \n",
       "13 2690.666  1674        1674   1674  \n",
       "14 3040.496  2214        2214   2214  \n",
       "15 3435.182  1332        1332   1332  \n",
       "16 2737.509   198         198    198  \n",
       "17 3084.083  1602        1602   1602  \n",
       "18 3593.454  2430        2430   2430  "
      ]
     },
     "metadata": {},
     "output_type": "display_data"
    }
   ],
   "source": [
    "df.with.cut.quant.all %>% group_by(!!!syms(vars.quantile.cut.all), !!sym(var.qjnt.grp.idx)) %>%\n",
    "        summarise_at(vars.cts2quantile, funs(mean, n()))"
   ]
  },
  {
   "cell_type": "code",
   "execution_count": 574,
   "metadata": {},
   "outputs": [
    {
     "data": {
      "text/html": [
       "<table>\n",
       "<thead><tr><th scope=col>wealthIdx_Qs0e1n2</th><th scope=col>hgt0_Qs0e1n3</th><th scope=col>wgt0_Qs0e1n3</th><th scope=col>group.index</th><th scope=col>wealthIdx_mean</th><th scope=col>hgt0_mean</th><th scope=col>wgt0_mean</th><th scope=col>wealthIdx_n</th><th scope=col>hgt0_n</th><th scope=col>wgt0_n</th></tr></thead>\n",
       "<tbody>\n",
       "\t<tr><td>[0.5,2]; (1) of Qs0e1n3            </td><td>[40.8,48.6]; (1) of Qs0e1n3        </td><td>[1.4e+03,2.86e+03]; (1) of Qs0e1n3 </td><td> 1                                 </td><td>1.0899471                          </td><td>46.69735                           </td><td>2521.705                           </td><td>189                                </td><td>189                                </td><td>189                                </td></tr>\n",
       "\t<tr><td>[0.5,2]; (1) of Qs0e1n3            </td><td>[40.8,48.6]; (1) of Qs0e1n3        </td><td>(2.86e+03,3.22e+03]; (2) of Qs0e1n3</td><td> 2                                 </td><td>1.0494253                          </td><td>47.71954                           </td><td>3031.062                           </td><td> 87                                </td><td> 87                                </td><td> 87                                </td></tr>\n",
       "\t<tr><td>[0.5,2]; (1) of Qs0e1n3            </td><td>[40.8,48.6]; (1) of Qs0e1n3        </td><td>(3.22e+03,4.97e+03]; (3) of Qs0e1n3</td><td> 3                                 </td><td>0.8611111                          </td><td>47.61111                           </td><td>3436.694                           </td><td> 18                                </td><td> 18                                </td><td> 18                                </td></tr>\n",
       "\t<tr><td>[0.5,2]; (1) of Qs0e1n3            </td><td>(48.6,50.3]; (2) of Qs0e1n3        </td><td>[1.4e+03,2.86e+03]; (1) of Qs0e1n3 </td><td> 4                                 </td><td>1.1865672                          </td><td>49.36418                           </td><td>2714.403                           </td><td> 67                                </td><td> 67                                </td><td> 67                                </td></tr>\n",
       "\t<tr><td>[0.5,2]; (1) of Qs0e1n3            </td><td>(48.6,50.3]; (2) of Qs0e1n3        </td><td>(2.86e+03,3.22e+03]; (2) of Qs0e1n3</td><td> 5                                 </td><td>1.1132743                          </td><td>49.42920                           </td><td>3037.689                           </td><td>113                                </td><td>113                                </td><td>113                                </td></tr>\n",
       "\t<tr><td>[0.5,2]; (1) of Qs0e1n3            </td><td>(48.6,50.3]; (2) of Qs0e1n3        </td><td>(3.22e+03,4.97e+03]; (3) of Qs0e1n3</td><td> 6                                 </td><td>0.9366337                          </td><td>49.59802                           </td><td>3469.666                           </td><td>101                                </td><td>101                                </td><td>101                                </td></tr>\n",
       "\t<tr><td>[0.5,2]; (1) of Qs0e1n3            </td><td>(50.3,58.7]; (3) of Qs0e1n3        </td><td>[1.4e+03,2.86e+03]; (1) of Qs0e1n3 </td><td> 7                                 </td><td>0.7500000                          </td><td>51.06000                           </td><td>2681.610                           </td><td> 10                                </td><td> 10                                </td><td> 10                                </td></tr>\n",
       "\t<tr><td>[0.5,2]; (1) of Qs0e1n3            </td><td>(50.3,58.7]; (3) of Qs0e1n3        </td><td>(2.86e+03,3.22e+03]; (2) of Qs0e1n3</td><td> 8                                 </td><td>1.2891892                          </td><td>51.22027                           </td><td>3085.723                           </td><td> 74                                </td><td> 74                                </td><td> 74                                </td></tr>\n",
       "\t<tr><td>[0.5,2]; (1) of Qs0e1n3            </td><td>(50.3,58.7]; (3) of Qs0e1n3        </td><td>(3.22e+03,4.97e+03]; (3) of Qs0e1n3</td><td> 9                                 </td><td>0.8585586                          </td><td>52.04505                           </td><td>3705.783                           </td><td>222                                </td><td>222                                </td><td>222                                </td></tr>\n",
       "\t<tr><td>(2,14.1]; (2) of Qs0e1n3           </td><td>[40.8,48.6]; (1) of Qs0e1n3        </td><td>[1.4e+03,2.86e+03]; (1) of Qs0e1n3 </td><td>10                                 </td><td>4.2859296                          </td><td>46.92462                           </td><td>2555.903                           </td><td>199                                </td><td>199                                </td><td>199                                </td></tr>\n",
       "\t<tr><td>(2,14.1]; (2) of Qs0e1n3           </td><td>[40.8,48.6]; (1) of Qs0e1n3        </td><td>(2.86e+03,3.22e+03]; (2) of Qs0e1n3</td><td>11                                 </td><td>4.7650000                          </td><td>47.99500                           </td><td>3016.827                           </td><td> 80                                </td><td> 80                                </td><td> 80                                </td></tr>\n",
       "\t<tr><td>(2,14.1]; (2) of Qs0e1n3           </td><td>[40.8,48.6]; (1) of Qs0e1n3        </td><td>(3.22e+03,4.97e+03]; (3) of Qs0e1n3</td><td>12                                 </td><td>4.8888889                          </td><td>48.20556                           </td><td>3383.061                           </td><td> 18                                </td><td> 18                                </td><td> 18                                </td></tr>\n",
       "\t<tr><td>(2,14.1]; (2) of Qs0e1n3           </td><td>(48.6,50.3]; (2) of Qs0e1n3        </td><td>[1.4e+03,2.86e+03]; (1) of Qs0e1n3 </td><td>13                                 </td><td>4.9290323                          </td><td>49.45484                           </td><td>2690.666                           </td><td> 93                                </td><td> 93                                </td><td> 93                                </td></tr>\n",
       "\t<tr><td>(2,14.1]; (2) of Qs0e1n3           </td><td>(48.6,50.3]; (2) of Qs0e1n3        </td><td>(2.86e+03,3.22e+03]; (2) of Qs0e1n3</td><td>14                                 </td><td>5.2138211                          </td><td>49.59919                           </td><td>3040.496                           </td><td>123                                </td><td>123                                </td><td>123                                </td></tr>\n",
       "\t<tr><td>(2,14.1]; (2) of Qs0e1n3           </td><td>(48.6,50.3]; (2) of Qs0e1n3        </td><td>(3.22e+03,4.97e+03]; (3) of Qs0e1n3</td><td>15                                 </td><td>5.4351351                          </td><td>49.62162                           </td><td>3435.182                           </td><td> 74                                </td><td> 74                                </td><td> 74                                </td></tr>\n",
       "\t<tr><td>(2,14.1]; (2) of Qs0e1n3           </td><td>(50.3,58.7]; (3) of Qs0e1n3        </td><td>[1.4e+03,2.86e+03]; (1) of Qs0e1n3 </td><td>16                                 </td><td>4.1818182                          </td><td>50.74545                           </td><td>2737.509                           </td><td> 11                                </td><td> 11                                </td><td> 11                                </td></tr>\n",
       "\t<tr><td>(2,14.1]; (2) of Qs0e1n3           </td><td>(50.3,58.7]; (3) of Qs0e1n3        </td><td>(2.86e+03,3.22e+03]; (2) of Qs0e1n3</td><td>17                                 </td><td>5.1460674                          </td><td>51.19663                           </td><td>3084.083                           </td><td> 89                                </td><td> 89                                </td><td> 89                                </td></tr>\n",
       "\t<tr><td>(2,14.1]; (2) of Qs0e1n3           </td><td>(50.3,58.7]; (3) of Qs0e1n3        </td><td>(3.22e+03,4.97e+03]; (3) of Qs0e1n3</td><td>18                                 </td><td>5.5629630                          </td><td>52.17852                           </td><td>3593.454                           </td><td>135                                </td><td>135                                </td><td>135                                </td></tr>\n",
       "</tbody>\n",
       "</table>\n"
      ],
      "text/latex": [
       "\\begin{tabular}{r|llllllllll}\n",
       " wealthIdx\\_Qs0e1n2 & hgt0\\_Qs0e1n3 & wgt0\\_Qs0e1n3 & group.index & wealthIdx\\_mean & hgt0\\_mean & wgt0\\_mean & wealthIdx\\_n & hgt0\\_n & wgt0\\_n\\\\\n",
       "\\hline\n",
       "\t {[}0.5,2{]}; (1) of Qs0e1n3             & {[}40.8,48.6{]}; (1) of Qs0e1n3         & {[}1.4e+03,2.86e+03{]}; (1) of Qs0e1n3  &  1                                      & 1.0899471                               & 46.69735                                & 2521.705                                & 189                                     & 189                                     & 189                                    \\\\\n",
       "\t {[}0.5,2{]}; (1) of Qs0e1n3           & {[}40.8,48.6{]}; (1) of Qs0e1n3       & (2.86e+03,3.22e+03{]}; (2) of Qs0e1n3 &  2                                    & 1.0494253                             & 47.71954                              & 3031.062                              &  87                                   &  87                                   &  87                                  \\\\\n",
       "\t {[}0.5,2{]}; (1) of Qs0e1n3           & {[}40.8,48.6{]}; (1) of Qs0e1n3       & (3.22e+03,4.97e+03{]}; (3) of Qs0e1n3 &  3                                    & 0.8611111                             & 47.61111                              & 3436.694                              &  18                                   &  18                                   &  18                                  \\\\\n",
       "\t {[}0.5,2{]}; (1) of Qs0e1n3             & (48.6,50.3{]}; (2) of Qs0e1n3           & {[}1.4e+03,2.86e+03{]}; (1) of Qs0e1n3  &  4                                      & 1.1865672                               & 49.36418                                & 2714.403                                &  67                                     &  67                                     &  67                                    \\\\\n",
       "\t {[}0.5,2{]}; (1) of Qs0e1n3           & (48.6,50.3{]}; (2) of Qs0e1n3         & (2.86e+03,3.22e+03{]}; (2) of Qs0e1n3 &  5                                    & 1.1132743                             & 49.42920                              & 3037.689                              & 113                                   & 113                                   & 113                                  \\\\\n",
       "\t {[}0.5,2{]}; (1) of Qs0e1n3           & (48.6,50.3{]}; (2) of Qs0e1n3         & (3.22e+03,4.97e+03{]}; (3) of Qs0e1n3 &  6                                    & 0.9366337                             & 49.59802                              & 3469.666                              & 101                                   & 101                                   & 101                                  \\\\\n",
       "\t {[}0.5,2{]}; (1) of Qs0e1n3             & (50.3,58.7{]}; (3) of Qs0e1n3           & {[}1.4e+03,2.86e+03{]}; (1) of Qs0e1n3  &  7                                      & 0.7500000                               & 51.06000                                & 2681.610                                &  10                                     &  10                                     &  10                                    \\\\\n",
       "\t {[}0.5,2{]}; (1) of Qs0e1n3           & (50.3,58.7{]}; (3) of Qs0e1n3         & (2.86e+03,3.22e+03{]}; (2) of Qs0e1n3 &  8                                    & 1.2891892                             & 51.22027                              & 3085.723                              &  74                                   &  74                                   &  74                                  \\\\\n",
       "\t {[}0.5,2{]}; (1) of Qs0e1n3           & (50.3,58.7{]}; (3) of Qs0e1n3         & (3.22e+03,4.97e+03{]}; (3) of Qs0e1n3 &  9                                    & 0.8585586                             & 52.04505                              & 3705.783                              & 222                                   & 222                                   & 222                                  \\\\\n",
       "\t (2,14.1{]}; (2) of Qs0e1n3              & {[}40.8,48.6{]}; (1) of Qs0e1n3         & {[}1.4e+03,2.86e+03{]}; (1) of Qs0e1n3  & 10                                      & 4.2859296                               & 46.92462                                & 2555.903                                & 199                                     & 199                                     & 199                                    \\\\\n",
       "\t (2,14.1{]}; (2) of Qs0e1n3            & {[}40.8,48.6{]}; (1) of Qs0e1n3       & (2.86e+03,3.22e+03{]}; (2) of Qs0e1n3 & 11                                    & 4.7650000                             & 47.99500                              & 3016.827                              &  80                                   &  80                                   &  80                                  \\\\\n",
       "\t (2,14.1{]}; (2) of Qs0e1n3            & {[}40.8,48.6{]}; (1) of Qs0e1n3       & (3.22e+03,4.97e+03{]}; (3) of Qs0e1n3 & 12                                    & 4.8888889                             & 48.20556                              & 3383.061                              &  18                                   &  18                                   &  18                                  \\\\\n",
       "\t (2,14.1{]}; (2) of Qs0e1n3              & (48.6,50.3{]}; (2) of Qs0e1n3           & {[}1.4e+03,2.86e+03{]}; (1) of Qs0e1n3  & 13                                      & 4.9290323                               & 49.45484                                & 2690.666                                &  93                                     &  93                                     &  93                                    \\\\\n",
       "\t (2,14.1{]}; (2) of Qs0e1n3            & (48.6,50.3{]}; (2) of Qs0e1n3         & (2.86e+03,3.22e+03{]}; (2) of Qs0e1n3 & 14                                    & 5.2138211                             & 49.59919                              & 3040.496                              & 123                                   & 123                                   & 123                                  \\\\\n",
       "\t (2,14.1{]}; (2) of Qs0e1n3            & (48.6,50.3{]}; (2) of Qs0e1n3         & (3.22e+03,4.97e+03{]}; (3) of Qs0e1n3 & 15                                    & 5.4351351                             & 49.62162                              & 3435.182                              &  74                                   &  74                                   &  74                                  \\\\\n",
       "\t (2,14.1{]}; (2) of Qs0e1n3              & (50.3,58.7{]}; (3) of Qs0e1n3           & {[}1.4e+03,2.86e+03{]}; (1) of Qs0e1n3  & 16                                      & 4.1818182                               & 50.74545                                & 2737.509                                &  11                                     &  11                                     &  11                                    \\\\\n",
       "\t (2,14.1{]}; (2) of Qs0e1n3            & (50.3,58.7{]}; (3) of Qs0e1n3         & (2.86e+03,3.22e+03{]}; (2) of Qs0e1n3 & 17                                    & 5.1460674                             & 51.19663                              & 3084.083                              &  89                                   &  89                                   &  89                                  \\\\\n",
       "\t (2,14.1{]}; (2) of Qs0e1n3            & (50.3,58.7{]}; (3) of Qs0e1n3         & (3.22e+03,4.97e+03{]}; (3) of Qs0e1n3 & 18                                    & 5.5629630                             & 52.17852                              & 3593.454                              & 135                                   & 135                                   & 135                                  \\\\\n",
       "\\end{tabular}\n"
      ],
      "text/markdown": [
       "\n",
       "| wealthIdx_Qs0e1n2 | hgt0_Qs0e1n3 | wgt0_Qs0e1n3 | group.index | wealthIdx_mean | hgt0_mean | wgt0_mean | wealthIdx_n | hgt0_n | wgt0_n |\n",
       "|---|---|---|---|---|---|---|---|---|---|\n",
       "| [0.5,2]; (1) of Qs0e1n3             | [40.8,48.6]; (1) of Qs0e1n3         | [1.4e+03,2.86e+03]; (1) of Qs0e1n3  |  1                                  | 1.0899471                           | 46.69735                            | 2521.705                            | 189                                 | 189                                 | 189                                 |\n",
       "| [0.5,2]; (1) of Qs0e1n3             | [40.8,48.6]; (1) of Qs0e1n3         | (2.86e+03,3.22e+03]; (2) of Qs0e1n3 |  2                                  | 1.0494253                           | 47.71954                            | 3031.062                            |  87                                 |  87                                 |  87                                 |\n",
       "| [0.5,2]; (1) of Qs0e1n3             | [40.8,48.6]; (1) of Qs0e1n3         | (3.22e+03,4.97e+03]; (3) of Qs0e1n3 |  3                                  | 0.8611111                           | 47.61111                            | 3436.694                            |  18                                 |  18                                 |  18                                 |\n",
       "| [0.5,2]; (1) of Qs0e1n3             | (48.6,50.3]; (2) of Qs0e1n3         | [1.4e+03,2.86e+03]; (1) of Qs0e1n3  |  4                                  | 1.1865672                           | 49.36418                            | 2714.403                            |  67                                 |  67                                 |  67                                 |\n",
       "| [0.5,2]; (1) of Qs0e1n3             | (48.6,50.3]; (2) of Qs0e1n3         | (2.86e+03,3.22e+03]; (2) of Qs0e1n3 |  5                                  | 1.1132743                           | 49.42920                            | 3037.689                            | 113                                 | 113                                 | 113                                 |\n",
       "| [0.5,2]; (1) of Qs0e1n3             | (48.6,50.3]; (2) of Qs0e1n3         | (3.22e+03,4.97e+03]; (3) of Qs0e1n3 |  6                                  | 0.9366337                           | 49.59802                            | 3469.666                            | 101                                 | 101                                 | 101                                 |\n",
       "| [0.5,2]; (1) of Qs0e1n3             | (50.3,58.7]; (3) of Qs0e1n3         | [1.4e+03,2.86e+03]; (1) of Qs0e1n3  |  7                                  | 0.7500000                           | 51.06000                            | 2681.610                            |  10                                 |  10                                 |  10                                 |\n",
       "| [0.5,2]; (1) of Qs0e1n3             | (50.3,58.7]; (3) of Qs0e1n3         | (2.86e+03,3.22e+03]; (2) of Qs0e1n3 |  8                                  | 1.2891892                           | 51.22027                            | 3085.723                            |  74                                 |  74                                 |  74                                 |\n",
       "| [0.5,2]; (1) of Qs0e1n3             | (50.3,58.7]; (3) of Qs0e1n3         | (3.22e+03,4.97e+03]; (3) of Qs0e1n3 |  9                                  | 0.8585586                           | 52.04505                            | 3705.783                            | 222                                 | 222                                 | 222                                 |\n",
       "| (2,14.1]; (2) of Qs0e1n3            | [40.8,48.6]; (1) of Qs0e1n3         | [1.4e+03,2.86e+03]; (1) of Qs0e1n3  | 10                                  | 4.2859296                           | 46.92462                            | 2555.903                            | 199                                 | 199                                 | 199                                 |\n",
       "| (2,14.1]; (2) of Qs0e1n3            | [40.8,48.6]; (1) of Qs0e1n3         | (2.86e+03,3.22e+03]; (2) of Qs0e1n3 | 11                                  | 4.7650000                           | 47.99500                            | 3016.827                            |  80                                 |  80                                 |  80                                 |\n",
       "| (2,14.1]; (2) of Qs0e1n3            | [40.8,48.6]; (1) of Qs0e1n3         | (3.22e+03,4.97e+03]; (3) of Qs0e1n3 | 12                                  | 4.8888889                           | 48.20556                            | 3383.061                            |  18                                 |  18                                 |  18                                 |\n",
       "| (2,14.1]; (2) of Qs0e1n3            | (48.6,50.3]; (2) of Qs0e1n3         | [1.4e+03,2.86e+03]; (1) of Qs0e1n3  | 13                                  | 4.9290323                           | 49.45484                            | 2690.666                            |  93                                 |  93                                 |  93                                 |\n",
       "| (2,14.1]; (2) of Qs0e1n3            | (48.6,50.3]; (2) of Qs0e1n3         | (2.86e+03,3.22e+03]; (2) of Qs0e1n3 | 14                                  | 5.2138211                           | 49.59919                            | 3040.496                            | 123                                 | 123                                 | 123                                 |\n",
       "| (2,14.1]; (2) of Qs0e1n3            | (48.6,50.3]; (2) of Qs0e1n3         | (3.22e+03,4.97e+03]; (3) of Qs0e1n3 | 15                                  | 5.4351351                           | 49.62162                            | 3435.182                            |  74                                 |  74                                 |  74                                 |\n",
       "| (2,14.1]; (2) of Qs0e1n3            | (50.3,58.7]; (3) of Qs0e1n3         | [1.4e+03,2.86e+03]; (1) of Qs0e1n3  | 16                                  | 4.1818182                           | 50.74545                            | 2737.509                            |  11                                 |  11                                 |  11                                 |\n",
       "| (2,14.1]; (2) of Qs0e1n3            | (50.3,58.7]; (3) of Qs0e1n3         | (2.86e+03,3.22e+03]; (2) of Qs0e1n3 | 17                                  | 5.1460674                           | 51.19663                            | 3084.083                            |  89                                 |  89                                 |  89                                 |\n",
       "| (2,14.1]; (2) of Qs0e1n3            | (50.3,58.7]; (3) of Qs0e1n3         | (3.22e+03,4.97e+03]; (3) of Qs0e1n3 | 18                                  | 5.5629630                           | 52.17852                            | 3593.454                            | 135                                 | 135                                 | 135                                 |\n",
       "\n"
      ],
      "text/plain": [
       "   wealthIdx_Qs0e1n2        hgt0_Qs0e1n3               \n",
       "1  [0.5,2]; (1) of Qs0e1n3  [40.8,48.6]; (1) of Qs0e1n3\n",
       "2  [0.5,2]; (1) of Qs0e1n3  [40.8,48.6]; (1) of Qs0e1n3\n",
       "3  [0.5,2]; (1) of Qs0e1n3  [40.8,48.6]; (1) of Qs0e1n3\n",
       "4  [0.5,2]; (1) of Qs0e1n3  (48.6,50.3]; (2) of Qs0e1n3\n",
       "5  [0.5,2]; (1) of Qs0e1n3  (48.6,50.3]; (2) of Qs0e1n3\n",
       "6  [0.5,2]; (1) of Qs0e1n3  (48.6,50.3]; (2) of Qs0e1n3\n",
       "7  [0.5,2]; (1) of Qs0e1n3  (50.3,58.7]; (3) of Qs0e1n3\n",
       "8  [0.5,2]; (1) of Qs0e1n3  (50.3,58.7]; (3) of Qs0e1n3\n",
       "9  [0.5,2]; (1) of Qs0e1n3  (50.3,58.7]; (3) of Qs0e1n3\n",
       "10 (2,14.1]; (2) of Qs0e1n3 [40.8,48.6]; (1) of Qs0e1n3\n",
       "11 (2,14.1]; (2) of Qs0e1n3 [40.8,48.6]; (1) of Qs0e1n3\n",
       "12 (2,14.1]; (2) of Qs0e1n3 [40.8,48.6]; (1) of Qs0e1n3\n",
       "13 (2,14.1]; (2) of Qs0e1n3 (48.6,50.3]; (2) of Qs0e1n3\n",
       "14 (2,14.1]; (2) of Qs0e1n3 (48.6,50.3]; (2) of Qs0e1n3\n",
       "15 (2,14.1]; (2) of Qs0e1n3 (48.6,50.3]; (2) of Qs0e1n3\n",
       "16 (2,14.1]; (2) of Qs0e1n3 (50.3,58.7]; (3) of Qs0e1n3\n",
       "17 (2,14.1]; (2) of Qs0e1n3 (50.3,58.7]; (3) of Qs0e1n3\n",
       "18 (2,14.1]; (2) of Qs0e1n3 (50.3,58.7]; (3) of Qs0e1n3\n",
       "   wgt0_Qs0e1n3                        group.index wealthIdx_mean hgt0_mean\n",
       "1  [1.4e+03,2.86e+03]; (1) of Qs0e1n3   1          1.0899471      46.69735 \n",
       "2  (2.86e+03,3.22e+03]; (2) of Qs0e1n3  2          1.0494253      47.71954 \n",
       "3  (3.22e+03,4.97e+03]; (3) of Qs0e1n3  3          0.8611111      47.61111 \n",
       "4  [1.4e+03,2.86e+03]; (1) of Qs0e1n3   4          1.1865672      49.36418 \n",
       "5  (2.86e+03,3.22e+03]; (2) of Qs0e1n3  5          1.1132743      49.42920 \n",
       "6  (3.22e+03,4.97e+03]; (3) of Qs0e1n3  6          0.9366337      49.59802 \n",
       "7  [1.4e+03,2.86e+03]; (1) of Qs0e1n3   7          0.7500000      51.06000 \n",
       "8  (2.86e+03,3.22e+03]; (2) of Qs0e1n3  8          1.2891892      51.22027 \n",
       "9  (3.22e+03,4.97e+03]; (3) of Qs0e1n3  9          0.8585586      52.04505 \n",
       "10 [1.4e+03,2.86e+03]; (1) of Qs0e1n3  10          4.2859296      46.92462 \n",
       "11 (2.86e+03,3.22e+03]; (2) of Qs0e1n3 11          4.7650000      47.99500 \n",
       "12 (3.22e+03,4.97e+03]; (3) of Qs0e1n3 12          4.8888889      48.20556 \n",
       "13 [1.4e+03,2.86e+03]; (1) of Qs0e1n3  13          4.9290323      49.45484 \n",
       "14 (2.86e+03,3.22e+03]; (2) of Qs0e1n3 14          5.2138211      49.59919 \n",
       "15 (3.22e+03,4.97e+03]; (3) of Qs0e1n3 15          5.4351351      49.62162 \n",
       "16 [1.4e+03,2.86e+03]; (1) of Qs0e1n3  16          4.1818182      50.74545 \n",
       "17 (2.86e+03,3.22e+03]; (2) of Qs0e1n3 17          5.1460674      51.19663 \n",
       "18 (3.22e+03,4.97e+03]; (3) of Qs0e1n3 18          5.5629630      52.17852 \n",
       "   wgt0_mean wealthIdx_n hgt0_n wgt0_n\n",
       "1  2521.705  189         189    189   \n",
       "2  3031.062   87          87     87   \n",
       "3  3436.694   18          18     18   \n",
       "4  2714.403   67          67     67   \n",
       "5  3037.689  113         113    113   \n",
       "6  3469.666  101         101    101   \n",
       "7  2681.610   10          10     10   \n",
       "8  3085.723   74          74     74   \n",
       "9  3705.783  222         222    222   \n",
       "10 2555.903  199         199    199   \n",
       "11 3016.827   80          80     80   \n",
       "12 3383.061   18          18     18   \n",
       "13 2690.666   93          93     93   \n",
       "14 3040.496  123         123    123   \n",
       "15 3435.182   74          74     74   \n",
       "16 2737.509   11          11     11   \n",
       "17 3084.083   89          89     89   \n",
       "18 3593.454  135         135    135   "
      ]
     },
     "metadata": {},
     "output_type": "display_data"
    }
   ],
   "source": [
    "df.with.cut.quant.all  %>% group_by(!!!syms(vars.group_by)) %>% arrange(!!!syms(vars.arrange)) %>% slice(1L) %>%\n",
    "        group_by(!!!syms(vars.quantile.cut.all), !!sym(var.qjnt.grp.idx)) %>%\n",
    "        summarise_at(vars.cts2quantile, funs(mean, n()))"
   ]
  },
  {
   "cell_type": "markdown",
   "metadata": {},
   "source": [
    "### Change values Based on Index\n",
    "\n",
    "Index from 1 to 18, change input values based on index"
   ]
  },
  {
   "cell_type": "code",
   "execution_count": 586,
   "metadata": {},
   "outputs": [
    {
     "data": {
      "text/html": [
       "<table>\n",
       "<thead><tr><th scope=col>wealthIdx_Qs0e1n2</th><th scope=col>hgt0_Qs0e1n3</th><th scope=col>wgt0_Qs0e1n3</th><th scope=col>group.index</th><th scope=col>more_prot</th><th scope=col>prot</th></tr></thead>\n",
       "<tbody>\n",
       "\t<tr><td>[0.5,2]; (1) of Qs0e1n3            </td><td>[40.8,48.6]; (1) of Qs0e1n3        </td><td>[1.4e+03,2.86e+03]; (1) of Qs0e1n3 </td><td> 1                                 </td><td>13.31523                           </td><td>11.31523                           </td></tr>\n",
       "\t<tr><td>[0.5,2]; (1) of Qs0e1n3            </td><td>[40.8,48.6]; (1) of Qs0e1n3        </td><td>(2.86e+03,3.22e+03]; (2) of Qs0e1n3</td><td> 2                                 </td><td>16.29865                           </td><td>12.29865                           </td></tr>\n",
       "\t<tr><td>[0.5,2]; (1) of Qs0e1n3            </td><td>[40.8,48.6]; (1) of Qs0e1n3        </td><td>(3.22e+03,4.97e+03]; (3) of Qs0e1n3</td><td> 3                                 </td><td>23.84177                           </td><td>17.84177                           </td></tr>\n",
       "\t<tr><td>[0.5,2]; (1) of Qs0e1n3            </td><td>(48.6,50.3]; (2) of Qs0e1n3        </td><td>[1.4e+03,2.86e+03]; (1) of Qs0e1n3 </td><td> 4                                 </td><td>21.74986                           </td><td>13.74986                           </td></tr>\n",
       "\t<tr><td>[0.5,2]; (1) of Qs0e1n3            </td><td>(48.6,50.3]; (2) of Qs0e1n3        </td><td>(2.86e+03,3.22e+03]; (2) of Qs0e1n3</td><td> 5                                 </td><td>21.76030                           </td><td>11.76030                           </td></tr>\n",
       "\t<tr><td>[0.5,2]; (1) of Qs0e1n3            </td><td>(48.6,50.3]; (2) of Qs0e1n3        </td><td>(3.22e+03,4.97e+03]; (3) of Qs0e1n3</td><td> 6                                 </td><td>27.83359                           </td><td>15.83359                           </td></tr>\n",
       "\t<tr><td>[0.5,2]; (1) of Qs0e1n3            </td><td>(50.3,58.7]; (3) of Qs0e1n3        </td><td>[1.4e+03,2.86e+03]; (1) of Qs0e1n3 </td><td> 7                                 </td><td>30.92424                           </td><td>16.92424                           </td></tr>\n",
       "\t<tr><td>[0.5,2]; (1) of Qs0e1n3            </td><td>(50.3,58.7]; (3) of Qs0e1n3        </td><td>(2.86e+03,3.22e+03]; (2) of Qs0e1n3</td><td> 8                                 </td><td>26.86040                           </td><td>10.86040                           </td></tr>\n",
       "\t<tr><td>[0.5,2]; (1) of Qs0e1n3            </td><td>(50.3,58.7]; (3) of Qs0e1n3        </td><td>(3.22e+03,4.97e+03]; (3) of Qs0e1n3</td><td> 9                                 </td><td>33.57108                           </td><td>15.57108                           </td></tr>\n",
       "\t<tr><td>(2,14.1]; (2) of Qs0e1n3           </td><td>[40.8,48.6]; (1) of Qs0e1n3        </td><td>[1.4e+03,2.86e+03]; (1) of Qs0e1n3 </td><td>10                                 </td><td>30.49532                           </td><td>10.49532                           </td></tr>\n",
       "\t<tr><td>(2,14.1]; (2) of Qs0e1n3           </td><td>[40.8,48.6]; (1) of Qs0e1n3        </td><td>(2.86e+03,3.22e+03]; (2) of Qs0e1n3</td><td>11                                 </td><td>33.30139                           </td><td>11.30139                           </td></tr>\n",
       "\t<tr><td>(2,14.1]; (2) of Qs0e1n3           </td><td>[40.8,48.6]; (1) of Qs0e1n3        </td><td>(3.22e+03,4.97e+03]; (3) of Qs0e1n3</td><td>12                                 </td><td>36.70721                           </td><td>12.70721                           </td></tr>\n",
       "\t<tr><td>(2,14.1]; (2) of Qs0e1n3           </td><td>(48.6,50.3]; (2) of Qs0e1n3        </td><td>[1.4e+03,2.86e+03]; (1) of Qs0e1n3 </td><td>13                                 </td><td>36.96716                           </td><td>10.96716                           </td></tr>\n",
       "\t<tr><td>(2,14.1]; (2) of Qs0e1n3           </td><td>(48.6,50.3]; (2) of Qs0e1n3        </td><td>(2.86e+03,3.22e+03]; (2) of Qs0e1n3</td><td>14                                 </td><td>41.28994                           </td><td>13.28994                           </td></tr>\n",
       "\t<tr><td>(2,14.1]; (2) of Qs0e1n3           </td><td>(48.6,50.3]; (2) of Qs0e1n3        </td><td>(3.22e+03,4.97e+03]; (3) of Qs0e1n3</td><td>15                                 </td><td>44.24578                           </td><td>14.24578                           </td></tr>\n",
       "\t<tr><td>(2,14.1]; (2) of Qs0e1n3           </td><td>(50.3,58.7]; (3) of Qs0e1n3        </td><td>[1.4e+03,2.86e+03]; (1) of Qs0e1n3 </td><td>16                                 </td><td>45.03730                           </td><td>13.03730                           </td></tr>\n",
       "\t<tr><td>(2,14.1]; (2) of Qs0e1n3           </td><td>(50.3,58.7]; (3) of Qs0e1n3        </td><td>(2.86e+03,3.22e+03]; (2) of Qs0e1n3</td><td>17                                 </td><td>49.03463                           </td><td>15.03463                           </td></tr>\n",
       "\t<tr><td>(2,14.1]; (2) of Qs0e1n3           </td><td>(50.3,58.7]; (3) of Qs0e1n3        </td><td>(3.22e+03,4.97e+03]; (3) of Qs0e1n3</td><td>18                                 </td><td>50.36173                           </td><td>14.36173                           </td></tr>\n",
       "</tbody>\n",
       "</table>\n"
      ],
      "text/latex": [
       "\\begin{tabular}{r|llllll}\n",
       " wealthIdx\\_Qs0e1n2 & hgt0\\_Qs0e1n3 & wgt0\\_Qs0e1n3 & group.index & more\\_prot & prot\\\\\n",
       "\\hline\n",
       "\t {[}0.5,2{]}; (1) of Qs0e1n3             & {[}40.8,48.6{]}; (1) of Qs0e1n3         & {[}1.4e+03,2.86e+03{]}; (1) of Qs0e1n3  &  1                                      & 13.31523                                & 11.31523                               \\\\\n",
       "\t {[}0.5,2{]}; (1) of Qs0e1n3           & {[}40.8,48.6{]}; (1) of Qs0e1n3       & (2.86e+03,3.22e+03{]}; (2) of Qs0e1n3 &  2                                    & 16.29865                              & 12.29865                             \\\\\n",
       "\t {[}0.5,2{]}; (1) of Qs0e1n3           & {[}40.8,48.6{]}; (1) of Qs0e1n3       & (3.22e+03,4.97e+03{]}; (3) of Qs0e1n3 &  3                                    & 23.84177                              & 17.84177                             \\\\\n",
       "\t {[}0.5,2{]}; (1) of Qs0e1n3             & (48.6,50.3{]}; (2) of Qs0e1n3           & {[}1.4e+03,2.86e+03{]}; (1) of Qs0e1n3  &  4                                      & 21.74986                                & 13.74986                               \\\\\n",
       "\t {[}0.5,2{]}; (1) of Qs0e1n3           & (48.6,50.3{]}; (2) of Qs0e1n3         & (2.86e+03,3.22e+03{]}; (2) of Qs0e1n3 &  5                                    & 21.76030                              & 11.76030                             \\\\\n",
       "\t {[}0.5,2{]}; (1) of Qs0e1n3           & (48.6,50.3{]}; (2) of Qs0e1n3         & (3.22e+03,4.97e+03{]}; (3) of Qs0e1n3 &  6                                    & 27.83359                              & 15.83359                             \\\\\n",
       "\t {[}0.5,2{]}; (1) of Qs0e1n3             & (50.3,58.7{]}; (3) of Qs0e1n3           & {[}1.4e+03,2.86e+03{]}; (1) of Qs0e1n3  &  7                                      & 30.92424                                & 16.92424                               \\\\\n",
       "\t {[}0.5,2{]}; (1) of Qs0e1n3           & (50.3,58.7{]}; (3) of Qs0e1n3         & (2.86e+03,3.22e+03{]}; (2) of Qs0e1n3 &  8                                    & 26.86040                              & 10.86040                             \\\\\n",
       "\t {[}0.5,2{]}; (1) of Qs0e1n3           & (50.3,58.7{]}; (3) of Qs0e1n3         & (3.22e+03,4.97e+03{]}; (3) of Qs0e1n3 &  9                                    & 33.57108                              & 15.57108                             \\\\\n",
       "\t (2,14.1{]}; (2) of Qs0e1n3              & {[}40.8,48.6{]}; (1) of Qs0e1n3         & {[}1.4e+03,2.86e+03{]}; (1) of Qs0e1n3  & 10                                      & 30.49532                                & 10.49532                               \\\\\n",
       "\t (2,14.1{]}; (2) of Qs0e1n3            & {[}40.8,48.6{]}; (1) of Qs0e1n3       & (2.86e+03,3.22e+03{]}; (2) of Qs0e1n3 & 11                                    & 33.30139                              & 11.30139                             \\\\\n",
       "\t (2,14.1{]}; (2) of Qs0e1n3            & {[}40.8,48.6{]}; (1) of Qs0e1n3       & (3.22e+03,4.97e+03{]}; (3) of Qs0e1n3 & 12                                    & 36.70721                              & 12.70721                             \\\\\n",
       "\t (2,14.1{]}; (2) of Qs0e1n3              & (48.6,50.3{]}; (2) of Qs0e1n3           & {[}1.4e+03,2.86e+03{]}; (1) of Qs0e1n3  & 13                                      & 36.96716                                & 10.96716                               \\\\\n",
       "\t (2,14.1{]}; (2) of Qs0e1n3            & (48.6,50.3{]}; (2) of Qs0e1n3         & (2.86e+03,3.22e+03{]}; (2) of Qs0e1n3 & 14                                    & 41.28994                              & 13.28994                             \\\\\n",
       "\t (2,14.1{]}; (2) of Qs0e1n3            & (48.6,50.3{]}; (2) of Qs0e1n3         & (3.22e+03,4.97e+03{]}; (3) of Qs0e1n3 & 15                                    & 44.24578                              & 14.24578                             \\\\\n",
       "\t (2,14.1{]}; (2) of Qs0e1n3              & (50.3,58.7{]}; (3) of Qs0e1n3           & {[}1.4e+03,2.86e+03{]}; (1) of Qs0e1n3  & 16                                      & 45.03730                                & 13.03730                               \\\\\n",
       "\t (2,14.1{]}; (2) of Qs0e1n3            & (50.3,58.7{]}; (3) of Qs0e1n3         & (2.86e+03,3.22e+03{]}; (2) of Qs0e1n3 & 17                                    & 49.03463                              & 15.03463                             \\\\\n",
       "\t (2,14.1{]}; (2) of Qs0e1n3            & (50.3,58.7{]}; (3) of Qs0e1n3         & (3.22e+03,4.97e+03{]}; (3) of Qs0e1n3 & 18                                    & 50.36173                              & 14.36173                             \\\\\n",
       "\\end{tabular}\n"
      ],
      "text/markdown": [
       "\n",
       "| wealthIdx_Qs0e1n2 | hgt0_Qs0e1n3 | wgt0_Qs0e1n3 | group.index | more_prot | prot |\n",
       "|---|---|---|---|---|---|\n",
       "| [0.5,2]; (1) of Qs0e1n3             | [40.8,48.6]; (1) of Qs0e1n3         | [1.4e+03,2.86e+03]; (1) of Qs0e1n3  |  1                                  | 13.31523                            | 11.31523                            |\n",
       "| [0.5,2]; (1) of Qs0e1n3             | [40.8,48.6]; (1) of Qs0e1n3         | (2.86e+03,3.22e+03]; (2) of Qs0e1n3 |  2                                  | 16.29865                            | 12.29865                            |\n",
       "| [0.5,2]; (1) of Qs0e1n3             | [40.8,48.6]; (1) of Qs0e1n3         | (3.22e+03,4.97e+03]; (3) of Qs0e1n3 |  3                                  | 23.84177                            | 17.84177                            |\n",
       "| [0.5,2]; (1) of Qs0e1n3             | (48.6,50.3]; (2) of Qs0e1n3         | [1.4e+03,2.86e+03]; (1) of Qs0e1n3  |  4                                  | 21.74986                            | 13.74986                            |\n",
       "| [0.5,2]; (1) of Qs0e1n3             | (48.6,50.3]; (2) of Qs0e1n3         | (2.86e+03,3.22e+03]; (2) of Qs0e1n3 |  5                                  | 21.76030                            | 11.76030                            |\n",
       "| [0.5,2]; (1) of Qs0e1n3             | (48.6,50.3]; (2) of Qs0e1n3         | (3.22e+03,4.97e+03]; (3) of Qs0e1n3 |  6                                  | 27.83359                            | 15.83359                            |\n",
       "| [0.5,2]; (1) of Qs0e1n3             | (50.3,58.7]; (3) of Qs0e1n3         | [1.4e+03,2.86e+03]; (1) of Qs0e1n3  |  7                                  | 30.92424                            | 16.92424                            |\n",
       "| [0.5,2]; (1) of Qs0e1n3             | (50.3,58.7]; (3) of Qs0e1n3         | (2.86e+03,3.22e+03]; (2) of Qs0e1n3 |  8                                  | 26.86040                            | 10.86040                            |\n",
       "| [0.5,2]; (1) of Qs0e1n3             | (50.3,58.7]; (3) of Qs0e1n3         | (3.22e+03,4.97e+03]; (3) of Qs0e1n3 |  9                                  | 33.57108                            | 15.57108                            |\n",
       "| (2,14.1]; (2) of Qs0e1n3            | [40.8,48.6]; (1) of Qs0e1n3         | [1.4e+03,2.86e+03]; (1) of Qs0e1n3  | 10                                  | 30.49532                            | 10.49532                            |\n",
       "| (2,14.1]; (2) of Qs0e1n3            | [40.8,48.6]; (1) of Qs0e1n3         | (2.86e+03,3.22e+03]; (2) of Qs0e1n3 | 11                                  | 33.30139                            | 11.30139                            |\n",
       "| (2,14.1]; (2) of Qs0e1n3            | [40.8,48.6]; (1) of Qs0e1n3         | (3.22e+03,4.97e+03]; (3) of Qs0e1n3 | 12                                  | 36.70721                            | 12.70721                            |\n",
       "| (2,14.1]; (2) of Qs0e1n3            | (48.6,50.3]; (2) of Qs0e1n3         | [1.4e+03,2.86e+03]; (1) of Qs0e1n3  | 13                                  | 36.96716                            | 10.96716                            |\n",
       "| (2,14.1]; (2) of Qs0e1n3            | (48.6,50.3]; (2) of Qs0e1n3         | (2.86e+03,3.22e+03]; (2) of Qs0e1n3 | 14                                  | 41.28994                            | 13.28994                            |\n",
       "| (2,14.1]; (2) of Qs0e1n3            | (48.6,50.3]; (2) of Qs0e1n3         | (3.22e+03,4.97e+03]; (3) of Qs0e1n3 | 15                                  | 44.24578                            | 14.24578                            |\n",
       "| (2,14.1]; (2) of Qs0e1n3            | (50.3,58.7]; (3) of Qs0e1n3         | [1.4e+03,2.86e+03]; (1) of Qs0e1n3  | 16                                  | 45.03730                            | 13.03730                            |\n",
       "| (2,14.1]; (2) of Qs0e1n3            | (50.3,58.7]; (3) of Qs0e1n3         | (2.86e+03,3.22e+03]; (2) of Qs0e1n3 | 17                                  | 49.03463                            | 15.03463                            |\n",
       "| (2,14.1]; (2) of Qs0e1n3            | (50.3,58.7]; (3) of Qs0e1n3         | (3.22e+03,4.97e+03]; (3) of Qs0e1n3 | 18                                  | 50.36173                            | 14.36173                            |\n",
       "\n"
      ],
      "text/plain": [
       "   wealthIdx_Qs0e1n2        hgt0_Qs0e1n3               \n",
       "1  [0.5,2]; (1) of Qs0e1n3  [40.8,48.6]; (1) of Qs0e1n3\n",
       "2  [0.5,2]; (1) of Qs0e1n3  [40.8,48.6]; (1) of Qs0e1n3\n",
       "3  [0.5,2]; (1) of Qs0e1n3  [40.8,48.6]; (1) of Qs0e1n3\n",
       "4  [0.5,2]; (1) of Qs0e1n3  (48.6,50.3]; (2) of Qs0e1n3\n",
       "5  [0.5,2]; (1) of Qs0e1n3  (48.6,50.3]; (2) of Qs0e1n3\n",
       "6  [0.5,2]; (1) of Qs0e1n3  (48.6,50.3]; (2) of Qs0e1n3\n",
       "7  [0.5,2]; (1) of Qs0e1n3  (50.3,58.7]; (3) of Qs0e1n3\n",
       "8  [0.5,2]; (1) of Qs0e1n3  (50.3,58.7]; (3) of Qs0e1n3\n",
       "9  [0.5,2]; (1) of Qs0e1n3  (50.3,58.7]; (3) of Qs0e1n3\n",
       "10 (2,14.1]; (2) of Qs0e1n3 [40.8,48.6]; (1) of Qs0e1n3\n",
       "11 (2,14.1]; (2) of Qs0e1n3 [40.8,48.6]; (1) of Qs0e1n3\n",
       "12 (2,14.1]; (2) of Qs0e1n3 [40.8,48.6]; (1) of Qs0e1n3\n",
       "13 (2,14.1]; (2) of Qs0e1n3 (48.6,50.3]; (2) of Qs0e1n3\n",
       "14 (2,14.1]; (2) of Qs0e1n3 (48.6,50.3]; (2) of Qs0e1n3\n",
       "15 (2,14.1]; (2) of Qs0e1n3 (48.6,50.3]; (2) of Qs0e1n3\n",
       "16 (2,14.1]; (2) of Qs0e1n3 (50.3,58.7]; (3) of Qs0e1n3\n",
       "17 (2,14.1]; (2) of Qs0e1n3 (50.3,58.7]; (3) of Qs0e1n3\n",
       "18 (2,14.1]; (2) of Qs0e1n3 (50.3,58.7]; (3) of Qs0e1n3\n",
       "   wgt0_Qs0e1n3                        group.index more_prot prot    \n",
       "1  [1.4e+03,2.86e+03]; (1) of Qs0e1n3   1          13.31523  11.31523\n",
       "2  (2.86e+03,3.22e+03]; (2) of Qs0e1n3  2          16.29865  12.29865\n",
       "3  (3.22e+03,4.97e+03]; (3) of Qs0e1n3  3          23.84177  17.84177\n",
       "4  [1.4e+03,2.86e+03]; (1) of Qs0e1n3   4          21.74986  13.74986\n",
       "5  (2.86e+03,3.22e+03]; (2) of Qs0e1n3  5          21.76030  11.76030\n",
       "6  (3.22e+03,4.97e+03]; (3) of Qs0e1n3  6          27.83359  15.83359\n",
       "7  [1.4e+03,2.86e+03]; (1) of Qs0e1n3   7          30.92424  16.92424\n",
       "8  (2.86e+03,3.22e+03]; (2) of Qs0e1n3  8          26.86040  10.86040\n",
       "9  (3.22e+03,4.97e+03]; (3) of Qs0e1n3  9          33.57108  15.57108\n",
       "10 [1.4e+03,2.86e+03]; (1) of Qs0e1n3  10          30.49532  10.49532\n",
       "11 (2.86e+03,3.22e+03]; (2) of Qs0e1n3 11          33.30139  11.30139\n",
       "12 (3.22e+03,4.97e+03]; (3) of Qs0e1n3 12          36.70721  12.70721\n",
       "13 [1.4e+03,2.86e+03]; (1) of Qs0e1n3  13          36.96716  10.96716\n",
       "14 (2.86e+03,3.22e+03]; (2) of Qs0e1n3 14          41.28994  13.28994\n",
       "15 (3.22e+03,4.97e+03]; (3) of Qs0e1n3 15          44.24578  14.24578\n",
       "16 [1.4e+03,2.86e+03]; (1) of Qs0e1n3  16          45.03730  13.03730\n",
       "17 (2.86e+03,3.22e+03]; (2) of Qs0e1n3 17          49.03463  15.03463\n",
       "18 (3.22e+03,4.97e+03]; (3) of Qs0e1n3 18          50.36173  14.36173"
      ]
     },
     "metadata": {},
     "output_type": "display_data"
    }
   ],
   "source": [
    "# arr.group.idx.subsidy <- arr.group.idx*2 - ((arr.group.idx)^2)*0.01\n",
    "arr.group.idx.subsidy <- arr.group.idx*2 \n",
    "df.with.cut.quant.all %>% \n",
    "        mutate(more_prot = prot + arr.group.idx.subsidy[!!sym(var.qjnt.grp.idx)]) %>% \n",
    "        group_by(!!!syms(vars.quantile.cut.all), !!sym(var.qjnt.grp.idx))  %>% \n",
    "        summarise_at(c('more_prot', 'prot'), funs(mean(., na.rm=TRUE)))"
   ]
  }
 ],
 "metadata": {
  "kernelspec": {
   "display_name": "R",
   "language": "R",
   "name": "ir"
  },
  "language_info": {
   "codemirror_mode": "r",
   "file_extension": ".r",
   "mimetype": "text/x-r-source",
   "name": "R",
   "pygments_lexer": "r",
   "version": "3.5.1"
  }
 },
 "nbformat": 4,
 "nbformat_minor": 2
}
