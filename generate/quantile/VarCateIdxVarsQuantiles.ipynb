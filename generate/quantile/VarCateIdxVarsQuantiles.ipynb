{
 "cells": [
  {
   "cell_type": "markdown",
   "metadata": {},
   "source": [
    "Back to **[Fan](https://fanwangecon.github.io/)**'s R4Econ Homepage **[Table of Content](https://fanwangecon.github.io/R4Econ/)**\n",
    "\n",
    "# Generate Joint Quantiles from Multiple Continuous Variables as a Categorical Variable with Linear Index\n",
    "\n",
    "There are multiple or a single continuous variables. Find which quantile each observation belongs to for each of the variables. Then also generate a joint/interaction variable of all combinations of quantiles from different variables.\n",
    "\n",
    "The program has these features:\n",
    "\n",
    "1. Quantiles breaks are generated based on group_by characteristics, meaning quantiles for individual level characteristics when data is panel\n",
    "2. Quantiles variables apply to full panel at within-group observation levels.\n",
    "3. Robust to non-unique breaks for quantiles (non-unique grouped together)\n",
    "4. Quantile categories have detailed labeling (specifying which non-unique groupings belong to quantile)"
   ]
  },
  {
   "cell_type": "markdown",
   "metadata": {},
   "source": [
    "## Program"
   ]
  },
  {
   "cell_type": "markdown",
   "metadata": {},
   "source": [
    "## Use Program"
   ]
  },
  {
   "cell_type": "markdown",
   "metadata": {},
   "source": [
    "### Load Data"
   ]
  },
  {
   "cell_type": "code",
   "execution_count": 13,
   "metadata": {},
   "outputs": [
    {
     "name": "stderr",
     "output_type": "stream",
     "text": [
      "Parsed with column specification:\n",
      "cols(\n",
      "  S.country = col_character(),\n",
      "  vil.id = col_double(),\n",
      "  indi.id = col_double(),\n",
      "  sex = col_character(),\n",
      "  svymthRound = col_double(),\n",
      "  momEdu = col_double(),\n",
      "  wealthIdx = col_double(),\n",
      "  hgt = col_double(),\n",
      "  wgt = col_double(),\n",
      "  hgt0 = col_double(),\n",
      "  wgt0 = col_double(),\n",
      "  prot = col_double(),\n",
      "  cal = col_double(),\n",
      "  p.A.prot = col_double(),\n",
      "  p.A.nProt = col_double()\n",
      ")\n"
     ]
    }
   ],
   "source": [
    "# Library\n",
    "library(tidyverse)\n",
    "\n",
    "# Load Sample Data\n",
    "setwd('C:/Users/fan/R4Econ/_data/')\n",
    "df <- read_csv('height_weight.csv')"
   ]
  },
  {
   "cell_type": "markdown",
   "metadata": {},
   "source": [
    "## Line by Line\n",
    "\n",
    "The idea of the function is to generate quantiles levels first, and then use those to generate the categories based on quantiles. Rather than doing this in one step. These are done in two steps, to increase clarity in the quantiles used for quantile category generation. And a dataframe with these quantiles are saved as a separate output of the function."
   ]
  },
  {
   "cell_type": "markdown",
   "metadata": {},
   "source": [
    "### Dataframe of Variables' Group-by Level Quantiles\n",
    "\n",
    "Quantiles from Different Variables. Note that these variables are specific to the individual, not individual/month. So we need to first slick the data, so that we only get the first rows. \n",
    "\n",
    "Do this in several steps to clarify group_by level. No speed loss. "
   ]
  },
  {
   "cell_type": "code",
   "execution_count": 14,
   "metadata": {},
   "outputs": [],
   "source": [
    "# These are the continuous variables over which to generate quantiles\n",
    "vars.group_by <- c('indi.id')\n",
    "vars.arrange <- c('indi.id', 'svymthRound')\n",
    "vars.continuous <- c('wealthIdx', 'hgt0', 'wgt0')\n",
    "seq.quantiles <- seq(0,1,0.10)\n",
    "seq.quantiles <- c(0, 0.25, 0.50, 0.75, 1)\n",
    "seq.quantiles <- c(0, 0.3333, 0.6666, 1.0)\n",
    "# seq.quantiles <- c(0, 0.50, 1)\n",
    "# Quantiles for any variable\n",
    "gen_quantiles <- function(var, df, prob=c(0.25, 0.50, 0.75)) {\n",
    "    enframe(quantile(as.numeric(df[[var]]), prob, na.rm=TRUE), 'quant.perc', var) \n",
    "}"
   ]
  },
  {
   "cell_type": "code",
   "execution_count": 15,
   "metadata": {},
   "outputs": [
    {
     "data": {
      "text/html": [
       "<ol class=list-inline>\n",
       "\t<li>2023</li>\n",
       "\t<li>15</li>\n",
       "</ol>\n"
      ],
      "text/latex": [
       "\\begin{enumerate*}\n",
       "\\item 2023\n",
       "\\item 15\n",
       "\\end{enumerate*}\n"
      ],
      "text/markdown": [
       "1. 2023\n",
       "2. 15\n",
       "\n",
       "\n"
      ],
      "text/plain": [
       "[1] 2023   15"
      ]
     },
     "metadata": {},
     "output_type": "display_data"
    },
    {
     "name": "stderr",
     "output_type": "stream",
     "text": [
      "Joining, by = \"quant.perc\"\n",
      "Joining, by = \"quant.perc\"\n"
     ]
    },
    {
     "data": {
      "text/html": [
       "<table>\n",
       "<tbody>\n",
       "\t<tr><th scope=row>quant.perc</th><td>0%      </td><td>33.33%  </td><td>66.66%  </td><td>100%    </td></tr>\n",
       "\t<tr><th scope=row>wealthIdx</th><td> 0.5    </td><td> 0.5    </td><td> 3.0    </td><td>14.0    </td></tr>\n",
       "\t<tr><th scope=row>hgt0</th><td>40.9    </td><td>48.6    </td><td>50.3    </td><td>59.0    </td></tr>\n",
       "\t<tr><th scope=row>wgt0</th><td>1410.200</td><td>2885.528</td><td>3221.898</td><td>5180.900</td></tr>\n",
       "</tbody>\n",
       "</table>\n"
      ],
      "text/latex": [
       "\\begin{tabular}{r|llll}\n",
       "\tquant.perc & 0\\%       & 33.33\\%   & 66.66\\%   & 100\\%    \\\\\n",
       "\twealthIdx &  0.5     &  0.5     &  3.0     & 14.0    \\\\\n",
       "\thgt0 & 40.9     & 48.6     & 50.3     & 59.0    \\\\\n",
       "\twgt0 & 1410.200 & 2885.528 & 3221.898 & 5180.900\\\\\n",
       "\\end{tabular}\n"
      ],
      "text/markdown": [
       "\n",
       "| quant.perc | 0%       | 33.33%   | 66.66%   | 100%     |\n",
       "| wealthIdx |  0.5     |  0.5     |  3.0     | 14.0     |\n",
       "| hgt0 | 40.9     | 48.6     | 50.3     | 59.0     |\n",
       "| wgt0 | 1410.200 | 2885.528 | 3221.898 | 5180.900 |\n",
       "\n"
      ],
      "text/plain": [
       "           [,1]     [,2]     [,3]     [,4]    \n",
       "quant.perc 0%       33.33%   66.66%   100%    \n",
       "wealthIdx   0.5      0.5      3.0     14.0    \n",
       "hgt0       40.9     48.6     50.3     59.0    \n",
       "wgt0       1410.200 2885.528 3221.898 5180.900"
      ]
     },
     "metadata": {},
     "output_type": "display_data"
    }
   ],
   "source": [
    "# Selected Variables, many Percentiles\n",
    "df_indiL1 <- df %>% group_by(!!!syms(vars.group_by)) %>% arrange(!!!syms(vars.arrange)) %>% slice(1L)\n",
    "dim(df_indiL1)\n",
    "df.quant.vars.cts <- lapply(vars.continuous, gen_quantiles, df=df_indiL1, prob=seq.quantiles) %>% reduce(full_join)\n",
    "t(df.quant.vars.cts)"
   ]
  },
  {
   "cell_type": "code",
   "execution_count": 16,
   "metadata": {},
   "outputs": [
    {
     "name": "stderr",
     "output_type": "stream",
     "text": [
      "Warning message in quantile(as.numeric(df[[var]]), prob, na.rm = TRUE):\n",
      "\"NAs introduced by coercion\"Warning message in quantile(as.numeric(df[[var]]), prob, na.rm = TRUE):\n",
      "\"NAs introduced by coercion\""
     ]
    },
    {
     "data": {
      "text/html": [
       "<table>\n",
       "<thead><tr><th scope=col>quant.perc</th><th scope=col>S.country</th><th scope=col>vil.id</th><th scope=col>indi.id</th><th scope=col>sex</th><th scope=col>svymthRound</th><th scope=col>momEdu</th><th scope=col>wealthIdx</th><th scope=col>hgt</th><th scope=col>wgt</th><th scope=col>hgt0</th><th scope=col>wgt0</th><th scope=col>prot</th><th scope=col>cal</th><th scope=col>p.A.prot</th><th scope=col>p.A.nProt</th></tr></thead>\n",
       "<tbody>\n",
       "\t<tr><td>10%    </td><td>NA     </td><td> 3     </td><td> 203.2 </td><td>NA     </td><td>0      </td><td> 0.50  </td><td>0.5    </td><td>46.3   </td><td>1463.92</td><td>46.6   </td><td>2508.83</td><td>0.5    </td><td> 0.50  </td><td>  29.30</td><td>  0.50 </td></tr>\n",
       "\t<tr><td>20%    </td><td>NA     </td><td> 4     </td><td> 405.4 </td><td>NA     </td><td>0      </td><td> 0.50  </td><td>0.5    </td><td>47.6   </td><td>1959.00</td><td>47.7   </td><td>2700.78</td><td>0.5    </td><td> 0.50  </td><td> 201.22</td><td>  0.50 </td></tr>\n",
       "\t<tr><td>30%    </td><td>NA     </td><td> 6     </td><td> 607.6 </td><td>NA     </td><td>0      </td><td> 0.50  </td><td>0.5    </td><td>48.3   </td><td>2336.59</td><td>48.4   </td><td>2830.69</td><td>0.5    </td><td> 0.50  </td><td> 727.55</td><td>  5.39 </td></tr>\n",
       "\t<tr><td>40%    </td><td>NA     </td><td> 8     </td><td> 809.8 </td><td>NA     </td><td>0      </td><td> 4.10  </td><td>0.9    </td><td>48.9   </td><td>2751.72</td><td>48.9   </td><td>2954.12</td><td>0.5    </td><td> 0.50  </td><td>1021.64</td><td> 45.46 </td></tr>\n",
       "\t<tr><td>50%    </td><td>NA     </td><td> 9     </td><td>1012.0 </td><td>NA     </td><td>0      </td><td> 7.60  </td><td>1.9    </td><td>49.4   </td><td>3146.40</td><td>49.4   </td><td>3052.00</td><td>0.5    </td><td> 0.50  </td><td>1261.30</td><td>121.85 </td></tr>\n",
       "\t<tr><td>60%    </td><td>NA     </td><td>12     </td><td>1214.2 </td><td>NA     </td><td>0      </td><td>11.92  </td><td>2.8    </td><td>50.0   </td><td>3496.64</td><td>50.0   </td><td>3157.76</td><td>0.5    </td><td> 4.12  </td><td>1577.08</td><td>228.06 </td></tr>\n",
       "\t<tr><td>70%    </td><td>NA     </td><td>14     </td><td>1416.4 </td><td>NA     </td><td>0      </td><td>16.00  </td><td>3.1    </td><td>50.7   </td><td>3846.83</td><td>50.5   </td><td>3282.13</td><td>0.7    </td><td> 8.30  </td><td>2395.17</td><td>260.70 </td></tr>\n",
       "\t<tr><td>80%    </td><td>NA     </td><td>17     </td><td>1618.6 </td><td>NA     </td><td>0      </td><td>20.00  </td><td>4.1    </td><td>51.4   </td><td>4313.78</td><td>51.1   </td><td>3446.40</td><td>1.1    </td><td>12.10  </td><td>4285.28</td><td>293.06 </td></tr>\n",
       "\t<tr><td>90%    </td><td>NA     </td><td>26     </td><td>1820.8 </td><td>NA     </td><td>0      </td><td>23.78  </td><td>6.0    </td><td>52.4   </td><td>4719.33</td><td>52.0   </td><td>3698.51</td><td>1.5    </td><td>16.20  </td><td>9019.84</td><td>368.14 </td></tr>\n",
       "</tbody>\n",
       "</table>\n"
      ],
      "text/latex": [
       "\\begin{tabular}{r|llllllllllllllll}\n",
       " quant.perc & S.country & vil.id & indi.id & sex & svymthRound & momEdu & wealthIdx & hgt & wgt & hgt0 & wgt0 & prot & cal & p.A.prot & p.A.nProt\\\\\n",
       "\\hline\n",
       "\t 10\\%   & NA      &  3      &  203.2  & NA      & 0       &  0.50   & 0.5     & 46.3    & 1463.92 & 46.6    & 2508.83 & 0.5     &  0.50   &   29.30 &   0.50 \\\\\n",
       "\t 20\\%   & NA      &  4      &  405.4  & NA      & 0       &  0.50   & 0.5     & 47.6    & 1959.00 & 47.7    & 2700.78 & 0.5     &  0.50   &  201.22 &   0.50 \\\\\n",
       "\t 30\\%   & NA      &  6      &  607.6  & NA      & 0       &  0.50   & 0.5     & 48.3    & 2336.59 & 48.4    & 2830.69 & 0.5     &  0.50   &  727.55 &   5.39 \\\\\n",
       "\t 40\\%   & NA      &  8      &  809.8  & NA      & 0       &  4.10   & 0.9     & 48.9    & 2751.72 & 48.9    & 2954.12 & 0.5     &  0.50   & 1021.64 &  45.46 \\\\\n",
       "\t 50\\%   & NA      &  9      & 1012.0  & NA      & 0       &  7.60   & 1.9     & 49.4    & 3146.40 & 49.4    & 3052.00 & 0.5     &  0.50   & 1261.30 & 121.85 \\\\\n",
       "\t 60\\%   & NA      & 12      & 1214.2  & NA      & 0       & 11.92   & 2.8     & 50.0    & 3496.64 & 50.0    & 3157.76 & 0.5     &  4.12   & 1577.08 & 228.06 \\\\\n",
       "\t 70\\%   & NA      & 14      & 1416.4  & NA      & 0       & 16.00   & 3.1     & 50.7    & 3846.83 & 50.5    & 3282.13 & 0.7     &  8.30   & 2395.17 & 260.70 \\\\\n",
       "\t 80\\%   & NA      & 17      & 1618.6  & NA      & 0       & 20.00   & 4.1     & 51.4    & 4313.78 & 51.1    & 3446.40 & 1.1     & 12.10   & 4285.28 & 293.06 \\\\\n",
       "\t 90\\%   & NA      & 26      & 1820.8  & NA      & 0       & 23.78   & 6.0     & 52.4    & 4719.33 & 52.0    & 3698.51 & 1.5     & 16.20   & 9019.84 & 368.14 \\\\\n",
       "\\end{tabular}\n"
      ],
      "text/markdown": [
       "\n",
       "| quant.perc | S.country | vil.id | indi.id | sex | svymthRound | momEdu | wealthIdx | hgt | wgt | hgt0 | wgt0 | prot | cal | p.A.prot | p.A.nProt |\n",
       "|---|---|---|---|---|---|---|---|---|---|---|---|---|---|---|---|\n",
       "| 10%     | NA      |  3      |  203.2  | NA      | 0       |  0.50   | 0.5     | 46.3    | 1463.92 | 46.6    | 2508.83 | 0.5     |  0.50   |   29.30 |   0.50  |\n",
       "| 20%     | NA      |  4      |  405.4  | NA      | 0       |  0.50   | 0.5     | 47.6    | 1959.00 | 47.7    | 2700.78 | 0.5     |  0.50   |  201.22 |   0.50  |\n",
       "| 30%     | NA      |  6      |  607.6  | NA      | 0       |  0.50   | 0.5     | 48.3    | 2336.59 | 48.4    | 2830.69 | 0.5     |  0.50   |  727.55 |   5.39  |\n",
       "| 40%     | NA      |  8      |  809.8  | NA      | 0       |  4.10   | 0.9     | 48.9    | 2751.72 | 48.9    | 2954.12 | 0.5     |  0.50   | 1021.64 |  45.46  |\n",
       "| 50%     | NA      |  9      | 1012.0  | NA      | 0       |  7.60   | 1.9     | 49.4    | 3146.40 | 49.4    | 3052.00 | 0.5     |  0.50   | 1261.30 | 121.85  |\n",
       "| 60%     | NA      | 12      | 1214.2  | NA      | 0       | 11.92   | 2.8     | 50.0    | 3496.64 | 50.0    | 3157.76 | 0.5     |  4.12   | 1577.08 | 228.06  |\n",
       "| 70%     | NA      | 14      | 1416.4  | NA      | 0       | 16.00   | 3.1     | 50.7    | 3846.83 | 50.5    | 3282.13 | 0.7     |  8.30   | 2395.17 | 260.70  |\n",
       "| 80%     | NA      | 17      | 1618.6  | NA      | 0       | 20.00   | 4.1     | 51.4    | 4313.78 | 51.1    | 3446.40 | 1.1     | 12.10   | 4285.28 | 293.06  |\n",
       "| 90%     | NA      | 26      | 1820.8  | NA      | 0       | 23.78   | 6.0     | 52.4    | 4719.33 | 52.0    | 3698.51 | 1.5     | 16.20   | 9019.84 | 368.14  |\n",
       "\n"
      ],
      "text/plain": [
       "  quant.perc S.country vil.id indi.id sex svymthRound momEdu wealthIdx hgt \n",
       "1 10%        NA         3      203.2  NA  0            0.50  0.5       46.3\n",
       "2 20%        NA         4      405.4  NA  0            0.50  0.5       47.6\n",
       "3 30%        NA         6      607.6  NA  0            0.50  0.5       48.3\n",
       "4 40%        NA         8      809.8  NA  0            4.10  0.9       48.9\n",
       "5 50%        NA         9     1012.0  NA  0            7.60  1.9       49.4\n",
       "6 60%        NA        12     1214.2  NA  0           11.92  2.8       50.0\n",
       "7 70%        NA        14     1416.4  NA  0           16.00  3.1       50.7\n",
       "8 80%        NA        17     1618.6  NA  0           20.00  4.1       51.4\n",
       "9 90%        NA        26     1820.8  NA  0           23.78  6.0       52.4\n",
       "  wgt     hgt0 wgt0    prot cal   p.A.prot p.A.nProt\n",
       "1 1463.92 46.6 2508.83 0.5   0.50   29.30    0.50   \n",
       "2 1959.00 47.7 2700.78 0.5   0.50  201.22    0.50   \n",
       "3 2336.59 48.4 2830.69 0.5   0.50  727.55    5.39   \n",
       "4 2751.72 48.9 2954.12 0.5   0.50 1021.64   45.46   \n",
       "5 3146.40 49.4 3052.00 0.5   0.50 1261.30  121.85   \n",
       "6 3496.64 50.0 3157.76 0.5   4.12 1577.08  228.06   \n",
       "7 3846.83 50.5 3282.13 0.7   8.30 2395.17  260.70   \n",
       "8 4313.78 51.1 3446.40 1.1  12.10 4285.28  293.06   \n",
       "9 4719.33 52.0 3698.51 1.5  16.20 9019.84  368.14   "
      ]
     },
     "metadata": {},
     "output_type": "display_data"
    }
   ],
   "source": [
    "# Quantiles all Variables\n",
    "df.quant.all <- suppressMessages(lapply(names(df), gen_quantiles, df=df_indiL1, prob=seq(0.1,0.9,0.10)) %>% reduce(full_join))\n",
    "df.quant.all"
   ]
  },
  {
   "cell_type": "markdown",
   "metadata": {},
   "source": [
    "### Cut Quantile Categorical Variables\n",
    "\n",
    "Using the Quantiles we have generate, cut the continuous variables to generate categorical quantile variables in the full dataframe.\n",
    "\n",
    "Note that we can only cut based on unique breaks, but sometimes quantile break-points are the same if some values are often observed, and also if there are too few observations with respect to quantile groups. \n",
    "\n",
    "To resolve this issue, we only look at unique quantiles. \n",
    "\n",
    "We need several support Functions:\n",
    "1. support functions to generate suffix for quantile variables based on quantile cuts\n",
    "2. support for labeling variables of resulting quantiles beyond bracketing"
   ]
  },
  {
   "cell_type": "code",
   "execution_count": 17,
   "metadata": {},
   "outputs": [
    {
     "data": {
      "text/html": [
       "<ol class=list-inline>\n",
       "\t<li>0.5</li>\n",
       "\t<li>0.5</li>\n",
       "\t<li>3</li>\n",
       "\t<li>14</li>\n",
       "</ol>\n"
      ],
      "text/latex": [
       "\\begin{enumerate*}\n",
       "\\item 0.5\n",
       "\\item 0.5\n",
       "\\item 3\n",
       "\\item 14\n",
       "\\end{enumerate*}\n"
      ],
      "text/markdown": [
       "1. 0.5\n",
       "2. 0.5\n",
       "3. 3\n",
       "4. 14\n",
       "\n",
       "\n"
      ],
      "text/plain": [
       "[1]  0.5  0.5  3.0 14.0"
      ]
     },
     "metadata": {},
     "output_type": "display_data"
    },
    {
     "data": {
      "text/html": [
       "<ol class=list-inline>\n",
       "\t<li>0.5</li>\n",
       "\t<li>3</li>\n",
       "\t<li>14</li>\n",
       "</ol>\n"
      ],
      "text/latex": [
       "\\begin{enumerate*}\n",
       "\\item 0.5\n",
       "\\item 3\n",
       "\\item 14\n",
       "\\end{enumerate*}\n"
      ],
      "text/markdown": [
       "1. 0.5\n",
       "2. 3\n",
       "3. 14\n",
       "\n",
       "\n"
      ],
      "text/plain": [
       "[1]  0.5  3.0 14.0"
      ]
     },
     "metadata": {},
     "output_type": "display_data"
    },
    {
     "data": {
      "text/html": [
       "'(1,2) of Qs0e1n3'"
      ],
      "text/latex": [
       "'(1,2) of Qs0e1n3'"
      ],
      "text/markdown": [
       "'(1,2) of Qs0e1n3'"
      ],
      "text/plain": [
       "[1] \"(1,2) of Qs0e1n3\""
      ]
     },
     "metadata": {},
     "output_type": "display_data"
    },
    {
     "data": {
      "text/html": [
       "'(3) of Qs0e1n3'"
      ],
      "text/latex": [
       "'(3) of Qs0e1n3'"
      ],
      "text/markdown": [
       "'(3) of Qs0e1n3'"
      ],
      "text/plain": [
       "[1] \"(3) of Qs0e1n3\""
      ]
     },
     "metadata": {},
     "output_type": "display_data"
    },
    {
     "data": {
      "text/html": [
       "<ol>\n",
       "\t<li>'(1,2) of Qs0e1n3'</li>\n",
       "\t<li>'(3) of Qs0e1n3'</li>\n",
       "</ol>\n"
      ],
      "text/latex": [
       "\\begin{enumerate}\n",
       "\\item '(1,2) of Qs0e1n3'\n",
       "\\item '(3) of Qs0e1n3'\n",
       "\\end{enumerate}\n"
      ],
      "text/markdown": [
       "1. '(1,2) of Qs0e1n3'\n",
       "2. '(3) of Qs0e1n3'\n",
       "\n",
       "\n"
      ],
      "text/plain": [
       "[[1]]\n",
       "[1] \"(1,2) of Qs0e1n3\"\n",
       "\n",
       "[[2]]\n",
       "[1] \"(3) of Qs0e1n3\"\n"
      ]
     },
     "metadata": {},
     "output_type": "display_data"
    }
   ],
   "source": [
    "# Support Functions for Variable Suffix \n",
    "f_Q_suffix <- function(seq.quantiles) {\n",
    "    quantile.suffix <- paste0('Qs', min(seq.quantiles),\n",
    "                              'e', max(seq.quantiles),\n",
    "                              'n', (length(seq.quantiles)-1))\n",
    "}\n",
    "# Support Functions for Quantile Labeling\n",
    "f_Q_label <- function(arr.quantiles, \n",
    "                      arr.sort.unique.quantile,\n",
    "                      seq.quantiles) {\n",
    "    paste0('(', \n",
    "           paste0(which(arr.quantiles %in% arr.sort.unique.quantile), collapse=','), \n",
    "           ') of ', f_Q_suffix(seq.quantiles)) \n",
    "}\n",
    "# Function Testing\n",
    "arr.quantiles <- df.quant.vars.cts[[substitute('wealthIdx')]]\n",
    "arr.quantiles\n",
    "arr.sort.unique.quantiles <- sort(unique(df.quant.vars.cts[[substitute('wealthIdx')]]))\n",
    "arr.sort.unique.quantiles\n",
    "f_Q_label(arr.quantiles, arr.sort.unique.quantiles[1], seq.quantiles)\n",
    "f_Q_label(arr.quantiles, arr.sort.unique.quantiles[2], seq.quantiles)\n",
    "lapply(arr.sort.unique.quantiles[1:(length(arr.sort.unique.quantiles)-1)],\n",
    "       f_Q_label,\n",
    "       arr.quantiles=arr.quantiles,\n",
    "       seq.quantiles=seq.quantiles)"
   ]
  },
  {
   "cell_type": "code",
   "execution_count": 18,
   "metadata": {},
   "outputs": [],
   "source": [
    "# Cutting Function, Cut Continuous Variables into Quantiles with labeing\n",
    "f_cut <- function(var, df.quant.vars, include.lowest=TRUE, fan.labels=TRUE) {\n",
    "    \n",
    "    # unparsed string variable name\n",
    "    var.str <- substitute(var)\n",
    "    \n",
    "    # Breaks\n",
    "    arr.quantiles <- df.quant.vars[[var.str]]\n",
    "    arr.sort.unique.quantiles <- sort(unique(arr.quantiles))\n",
    "    print(arr.sort.unique.quantiles)\n",
    "    \n",
    "    # Regular cutting With Standard Labels\n",
    "    # TRUE, means the lowest group has closed bracket left and right \n",
    "    var.quantile <- cut(var, breaks=arr.sort.unique.quantiles, include.lowest=include.lowest)\n",
    "    \n",
    "    # Use my custom labels\n",
    "    if (fan.labels) {\n",
    "        levels.suffix <- lapply(arr.sort.unique.quantiles[1:(length(arr.sort.unique.quantiles)-1)],\n",
    "                                f_Q_label,\n",
    "                                arr.quantiles=arr.quantiles,\n",
    "                                seq.quantiles=seq.quantiles)\n",
    "        print(levels.suffix)\n",
    "        levels(var.quantile) <- paste0(levels(var.quantile), '; ', levels.suffix)\n",
    "    }\n",
    "    \n",
    "    # Return\n",
    "    return(var.quantile)\n",
    "}\n",
    "# Generate New Variable Names with Quantile Suffix\n",
    "f_var_rename <- function(name, seq.quantiles) {\n",
    "    quantile.suffix <- paste0('_', f_Q_suffix(seq.quantiles))\n",
    "    return(sub('_q', quantile.suffix, name))\n",
    "}"
   ]
  },
  {
   "cell_type": "code",
   "execution_count": 19,
   "metadata": {},
   "outputs": [
    {
     "name": "stdout",
     "output_type": "stream",
     "text": [
      "[1]  0.5  3.0 14.0\n",
      "[[1]]\n",
      "[1] \"(1,2) of Qs0e1n3\"\n",
      "\n",
      "[[2]]\n",
      "[1] \"(3) of Qs0e1n3\"\n",
      "\n",
      "[1] 40.9 48.6 50.3 59.0\n",
      "[[1]]\n",
      "[1] \"(1) of Qs0e1n3\"\n",
      "\n",
      "[[2]]\n",
      "[1] \"(2) of Qs0e1n3\"\n",
      "\n",
      "[[3]]\n",
      "[1] \"(3) of Qs0e1n3\"\n",
      "\n",
      "[1] 1410.200 2885.528 3221.898 5180.900\n",
      "[[1]]\n",
      "[1] \"(1) of Qs0e1n3\"\n",
      "\n",
      "[[2]]\n",
      "[1] \"(2) of Qs0e1n3\"\n",
      "\n",
      "[[3]]\n",
      "[1] \"(3) of Qs0e1n3\"\n",
      "\n"
     ]
    }
   ],
   "source": [
    "# Generate Categorical Variables of Quantiles\n",
    "df.new <- df %>% mutate_at(vars.continuous,\n",
    "                           funs(q=f_cut(., df.quant.vars.cts, \n",
    "                                       include.lowest=TRUE, fan.labels=TRUE))) %>% \n",
    "            rename_at(vars(contains('_q')), \n",
    "                      funs(f_var_rename(., seq.quantiles=seq.quantiles)))"
   ]
  },
  {
   "cell_type": "markdown",
   "metadata": {},
   "source": [
    "### Individual Variables' Quantile Cuts Review Results"
   ]
  },
  {
   "cell_type": "code",
   "execution_count": 20,
   "metadata": {},
   "outputs": [],
   "source": [
    "# Group By Results\n",
    "f.count <- function(df, var.cts) {\n",
    "    df %>% select(S.country, indi.id, svymthRound, matches(paste0(vars.continuous, collapse='|'))) %>%\n",
    "        group_by(!!sym(f_var_rename(paste0(var.cts,'_q'), seq.quantiles))) %>%\n",
    "        summarise_all(funs(n=n()))\n",
    "}"
   ]
  },
  {
   "cell_type": "code",
   "execution_count": 21,
   "metadata": {},
   "outputs": [
    {
     "data": {
      "text/html": [
       "<ol>\n",
       "\t<li><table>\n",
       "<thead><tr><th scope=col>wealthIdx_Qs0e1n3</th><th scope=col>S.country_n</th><th scope=col>indi.id_n</th><th scope=col>svymthRound_n</th><th scope=col>wealthIdx_n</th><th scope=col>hgt0_n</th><th scope=col>wgt0_n</th><th scope=col>hgt0_Qs0e1n3_n</th><th scope=col>wgt0_Qs0e1n3_n</th></tr></thead>\n",
       "<tbody>\n",
       "\t<tr><td>[0.5,3]; (1,2) of Qs0e1n3</td><td>23258                    </td><td>23258                    </td><td>23258                    </td><td>23258                    </td><td>23258                    </td><td>23258                    </td><td>23258                    </td><td>23258                    </td></tr>\n",
       "\t<tr><td>(3,14]; (3) of Qs0e1n3   </td><td>11784                    </td><td>11784                    </td><td>11784                    </td><td>11784                    </td><td>11784                    </td><td>11784                    </td><td>11784                    </td><td>11784                    </td></tr>\n",
       "\t<tr><td>NA                       </td><td>    7                    </td><td>    7                    </td><td>    7                    </td><td>    7                    </td><td>    7                    </td><td>    7                    </td><td>    7                    </td><td>    7                    </td></tr>\n",
       "</tbody>\n",
       "</table>\n",
       "</li>\n",
       "\t<li><table>\n",
       "<thead><tr><th scope=col>hgt0_Qs0e1n3</th><th scope=col>S.country_n</th><th scope=col>indi.id_n</th><th scope=col>svymthRound_n</th><th scope=col>wealthIdx_n</th><th scope=col>hgt0_n</th><th scope=col>wgt0_n</th><th scope=col>wealthIdx_Qs0e1n3_n</th><th scope=col>wgt0_Qs0e1n3_n</th></tr></thead>\n",
       "<tbody>\n",
       "\t<tr><td>[40.9,48.6]; (1) of Qs0e1n3</td><td>10476                      </td><td>10476                      </td><td>10476                      </td><td>10476                      </td><td>10476                      </td><td>10476                      </td><td>10476                      </td><td>10476                      </td></tr>\n",
       "\t<tr><td>(48.6,50.3]; (2) of Qs0e1n3</td><td> 9724                      </td><td> 9724                      </td><td> 9724                      </td><td> 9724                      </td><td> 9724                      </td><td> 9724                      </td><td> 9724                      </td><td> 9724                      </td></tr>\n",
       "\t<tr><td>(50.3,59]; (3) of Qs0e1n3  </td><td> 9597                      </td><td> 9597                      </td><td> 9597                      </td><td> 9597                      </td><td> 9597                      </td><td> 9597                      </td><td> 9597                      </td><td> 9597                      </td></tr>\n",
       "\t<tr><td>NA                         </td><td> 5252                      </td><td> 5252                      </td><td> 5252                      </td><td> 5252                      </td><td> 5252                      </td><td> 5252                      </td><td> 5252                      </td><td> 5252                      </td></tr>\n",
       "</tbody>\n",
       "</table>\n",
       "</li>\n",
       "\t<li><table>\n",
       "<thead><tr><th scope=col>wgt0_Qs0e1n3</th><th scope=col>S.country_n</th><th scope=col>indi.id_n</th><th scope=col>svymthRound_n</th><th scope=col>wealthIdx_n</th><th scope=col>hgt0_n</th><th scope=col>wgt0_n</th><th scope=col>wealthIdx_Qs0e1n3_n</th><th scope=col>hgt0_Qs0e1n3_n</th></tr></thead>\n",
       "<tbody>\n",
       "\t<tr><td>[1.41e+03,2.89e+03]; (1) of Qs0e1n3</td><td>10032                              </td><td>10032                              </td><td>10032                              </td><td>10032                              </td><td>10032                              </td><td>10032                              </td><td>10032                              </td><td>10032                              </td></tr>\n",
       "\t<tr><td>(2.89e+03,3.22e+03]; (2) of Qs0e1n3</td><td> 9990                              </td><td> 9990                              </td><td> 9990                              </td><td> 9990                              </td><td> 9990                              </td><td> 9990                              </td><td> 9990                              </td><td> 9990                              </td></tr>\n",
       "\t<tr><td>(3.22e+03,5.18e+03]; (3) of Qs0e1n3</td><td> 9759                              </td><td> 9759                              </td><td> 9759                              </td><td> 9759                              </td><td> 9759                              </td><td> 9759                              </td><td> 9759                              </td><td> 9759                              </td></tr>\n",
       "\t<tr><td>NA                                 </td><td> 5268                              </td><td> 5268                              </td><td> 5268                              </td><td> 5268                              </td><td> 5268                              </td><td> 5268                              </td><td> 5268                              </td><td> 5268                              </td></tr>\n",
       "</tbody>\n",
       "</table>\n",
       "</li>\n",
       "</ol>\n"
      ],
      "text/latex": [
       "\\begin{enumerate}\n",
       "\\item \\begin{tabular}{r|lllllllll}\n",
       " wealthIdx\\_Qs0e1n3 & S.country\\_n & indi.id\\_n & svymthRound\\_n & wealthIdx\\_n & hgt0\\_n & wgt0\\_n & hgt0\\_Qs0e1n3\\_n & wgt0\\_Qs0e1n3\\_n\\\\\n",
       "\\hline\n",
       "\t {[}0.5,3{]}; (1,2) of Qs0e1n3 & 23258                         & 23258                         & 23258                         & 23258                         & 23258                         & 23258                         & 23258                         & 23258                        \\\\\n",
       "\t (3,14{]}; (3) of Qs0e1n3    & 11784                       & 11784                       & 11784                       & 11784                       & 11784                       & 11784                       & 11784                       & 11784                      \\\\\n",
       "\t NA                        &     7                     &     7                     &     7                     &     7                     &     7                     &     7                     &     7                     &     7                    \\\\\n",
       "\\end{tabular}\n",
       "\n",
       "\\item \\begin{tabular}{r|lllllllll}\n",
       " hgt0\\_Qs0e1n3 & S.country\\_n & indi.id\\_n & svymthRound\\_n & wealthIdx\\_n & hgt0\\_n & wgt0\\_n & wealthIdx\\_Qs0e1n3\\_n & wgt0\\_Qs0e1n3\\_n\\\\\n",
       "\\hline\n",
       "\t {[}40.9,48.6{]}; (1) of Qs0e1n3 & 10476                           & 10476                           & 10476                           & 10476                           & 10476                           & 10476                           & 10476                           & 10476                          \\\\\n",
       "\t (48.6,50.3{]}; (2) of Qs0e1n3 &  9724                         &  9724                         &  9724                         &  9724                         &  9724                         &  9724                         &  9724                         &  9724                        \\\\\n",
       "\t (50.3,59{]}; (3) of Qs0e1n3   &  9597                         &  9597                         &  9597                         &  9597                         &  9597                         &  9597                         &  9597                         &  9597                        \\\\\n",
       "\t NA                          &  5252                       &  5252                       &  5252                       &  5252                       &  5252                       &  5252                       &  5252                       &  5252                      \\\\\n",
       "\\end{tabular}\n",
       "\n",
       "\\item \\begin{tabular}{r|lllllllll}\n",
       " wgt0\\_Qs0e1n3 & S.country\\_n & indi.id\\_n & svymthRound\\_n & wealthIdx\\_n & hgt0\\_n & wgt0\\_n & wealthIdx\\_Qs0e1n3\\_n & hgt0\\_Qs0e1n3\\_n\\\\\n",
       "\\hline\n",
       "\t {[}1.41e+03,2.89e+03{]}; (1) of Qs0e1n3 & 10032                                   & 10032                                   & 10032                                   & 10032                                   & 10032                                   & 10032                                   & 10032                                   & 10032                                  \\\\\n",
       "\t (2.89e+03,3.22e+03{]}; (2) of Qs0e1n3 &  9990                                 &  9990                                 &  9990                                 &  9990                                 &  9990                                 &  9990                                 &  9990                                 &  9990                                \\\\\n",
       "\t (3.22e+03,5.18e+03{]}; (3) of Qs0e1n3 &  9759                                 &  9759                                 &  9759                                 &  9759                                 &  9759                                 &  9759                                 &  9759                                 &  9759                                \\\\\n",
       "\t NA                                  &  5268                               &  5268                               &  5268                               &  5268                               &  5268                               &  5268                               &  5268                               &  5268                              \\\\\n",
       "\\end{tabular}\n",
       "\n",
       "\\end{enumerate}\n"
      ],
      "text/markdown": [
       "1. \n",
       "| wealthIdx_Qs0e1n3 | S.country_n | indi.id_n | svymthRound_n | wealthIdx_n | hgt0_n | wgt0_n | hgt0_Qs0e1n3_n | wgt0_Qs0e1n3_n |\n",
       "|---|---|---|---|---|---|---|---|---|\n",
       "| [0.5,3]; (1,2) of Qs0e1n3 | 23258                     | 23258                     | 23258                     | 23258                     | 23258                     | 23258                     | 23258                     | 23258                     |\n",
       "| (3,14]; (3) of Qs0e1n3    | 11784                     | 11784                     | 11784                     | 11784                     | 11784                     | 11784                     | 11784                     | 11784                     |\n",
       "| NA                        |     7                     |     7                     |     7                     |     7                     |     7                     |     7                     |     7                     |     7                     |\n",
       "\n",
       "\n",
       "2. \n",
       "| hgt0_Qs0e1n3 | S.country_n | indi.id_n | svymthRound_n | wealthIdx_n | hgt0_n | wgt0_n | wealthIdx_Qs0e1n3_n | wgt0_Qs0e1n3_n |\n",
       "|---|---|---|---|---|---|---|---|---|\n",
       "| [40.9,48.6]; (1) of Qs0e1n3 | 10476                       | 10476                       | 10476                       | 10476                       | 10476                       | 10476                       | 10476                       | 10476                       |\n",
       "| (48.6,50.3]; (2) of Qs0e1n3 |  9724                       |  9724                       |  9724                       |  9724                       |  9724                       |  9724                       |  9724                       |  9724                       |\n",
       "| (50.3,59]; (3) of Qs0e1n3   |  9597                       |  9597                       |  9597                       |  9597                       |  9597                       |  9597                       |  9597                       |  9597                       |\n",
       "| NA                          |  5252                       |  5252                       |  5252                       |  5252                       |  5252                       |  5252                       |  5252                       |  5252                       |\n",
       "\n",
       "\n",
       "3. \n",
       "| wgt0_Qs0e1n3 | S.country_n | indi.id_n | svymthRound_n | wealthIdx_n | hgt0_n | wgt0_n | wealthIdx_Qs0e1n3_n | hgt0_Qs0e1n3_n |\n",
       "|---|---|---|---|---|---|---|---|---|\n",
       "| [1.41e+03,2.89e+03]; (1) of Qs0e1n3 | 10032                               | 10032                               | 10032                               | 10032                               | 10032                               | 10032                               | 10032                               | 10032                               |\n",
       "| (2.89e+03,3.22e+03]; (2) of Qs0e1n3 |  9990                               |  9990                               |  9990                               |  9990                               |  9990                               |  9990                               |  9990                               |  9990                               |\n",
       "| (3.22e+03,5.18e+03]; (3) of Qs0e1n3 |  9759                               |  9759                               |  9759                               |  9759                               |  9759                               |  9759                               |  9759                               |  9759                               |\n",
       "| NA                                  |  5268                               |  5268                               |  5268                               |  5268                               |  5268                               |  5268                               |  5268                               |  5268                               |\n",
       "\n",
       "\n",
       "\n",
       "\n"
      ],
      "text/plain": [
       "[[1]]\n",
       "# A tibble: 3 x 9\n",
       "  wealthIdx_Qs0e1~ S.country_n indi.id_n svymthRound_n wealthIdx_n hgt0_n wgt0_n\n",
       "  <fct>                  <int>     <int>         <int>       <int>  <int>  <int>\n",
       "1 [0.5,3]; (1,2) ~       23258     23258         23258       23258  23258  23258\n",
       "2 (3,14]; (3) of ~       11784     11784         11784       11784  11784  11784\n",
       "3 <NA>                       7         7             7           7      7      7\n",
       "# ... with 2 more variables: hgt0_Qs0e1n3_n <int>, wgt0_Qs0e1n3_n <int>\n",
       "\n",
       "[[2]]\n",
       "# A tibble: 4 x 9\n",
       "  hgt0_Qs0e1n3 S.country_n indi.id_n svymthRound_n wealthIdx_n hgt0_n wgt0_n\n",
       "  <fct>              <int>     <int>         <int>       <int>  <int>  <int>\n",
       "1 [40.9,48.6]~       10476     10476         10476       10476  10476  10476\n",
       "2 (48.6,50.3]~        9724      9724          9724        9724   9724   9724\n",
       "3 (50.3,59]; ~        9597      9597          9597        9597   9597   9597\n",
       "4 <NA>                5252      5252          5252        5252   5252   5252\n",
       "# ... with 2 more variables: wealthIdx_Qs0e1n3_n <int>, wgt0_Qs0e1n3_n <int>\n",
       "\n",
       "[[3]]\n",
       "# A tibble: 4 x 9\n",
       "  wgt0_Qs0e1n3 S.country_n indi.id_n svymthRound_n wealthIdx_n hgt0_n wgt0_n\n",
       "  <fct>              <int>     <int>         <int>       <int>  <int>  <int>\n",
       "1 [1.41e+03,2~       10032     10032         10032       10032  10032  10032\n",
       "2 (2.89e+03,3~        9990      9990          9990        9990   9990   9990\n",
       "3 (3.22e+03,5~        9759      9759          9759        9759   9759   9759\n",
       "4 <NA>                5268      5268          5268        5268   5268   5268\n",
       "# ... with 2 more variables: wealthIdx_Qs0e1n3_n <int>, hgt0_Qs0e1n3_n <int>\n"
      ]
     },
     "metadata": {},
     "output_type": "display_data"
    }
   ],
   "source": [
    "# Full Panel Results\n",
    "lapply(vars.continuous, f.count, df=df.new)"
   ]
  },
  {
   "cell_type": "code",
   "execution_count": 22,
   "metadata": {},
   "outputs": [
    {
     "data": {
      "text/html": [
       "<ol>\n",
       "\t<li><table>\n",
       "<thead><tr><th scope=col>wealthIdx_Qs0e1n3</th><th scope=col>S.country_n</th><th scope=col>indi.id_n</th><th scope=col>svymthRound_n</th><th scope=col>wealthIdx_n</th><th scope=col>hgt0_n</th><th scope=col>wgt0_n</th><th scope=col>hgt0_Qs0e1n3_n</th><th scope=col>wgt0_Qs0e1n3_n</th></tr></thead>\n",
       "<tbody>\n",
       "\t<tr><td>[0.5,3]; (1,2) of Qs0e1n3</td><td>1366                     </td><td>1366                     </td><td>1366                     </td><td>1366                     </td><td>1366                     </td><td>1366                     </td><td>1366                     </td><td>1366                     </td></tr>\n",
       "\t<tr><td>(3,14]; (3) of Qs0e1n3   </td><td> 657                     </td><td> 657                     </td><td> 657                     </td><td> 657                     </td><td> 657                     </td><td> 657                     </td><td> 657                     </td><td> 657                     </td></tr>\n",
       "</tbody>\n",
       "</table>\n",
       "</li>\n",
       "\t<li><table>\n",
       "<thead><tr><th scope=col>hgt0_Qs0e1n3</th><th scope=col>S.country_n</th><th scope=col>indi.id_n</th><th scope=col>svymthRound_n</th><th scope=col>wealthIdx_n</th><th scope=col>hgt0_n</th><th scope=col>wgt0_n</th><th scope=col>wealthIdx_Qs0e1n3_n</th><th scope=col>wgt0_Qs0e1n3_n</th></tr></thead>\n",
       "<tbody>\n",
       "\t<tr><td>[40.9,48.6]; (1) of Qs0e1n3</td><td>594                        </td><td>594                        </td><td>594                        </td><td>594                        </td><td>594                        </td><td>594                        </td><td>594                        </td><td>594                        </td></tr>\n",
       "\t<tr><td>(48.6,50.3]; (2) of Qs0e1n3</td><td>552                        </td><td>552                        </td><td>552                        </td><td>552                        </td><td>552                        </td><td>552                        </td><td>552                        </td><td>552                        </td></tr>\n",
       "\t<tr><td>(50.3,59]; (3) of Qs0e1n3  </td><td>549                        </td><td>549                        </td><td>549                        </td><td>549                        </td><td>549                        </td><td>549                        </td><td>549                        </td><td>549                        </td></tr>\n",
       "\t<tr><td>NA                         </td><td>328                        </td><td>328                        </td><td>328                        </td><td>328                        </td><td>328                        </td><td>328                        </td><td>328                        </td><td>328                        </td></tr>\n",
       "</tbody>\n",
       "</table>\n",
       "</li>\n",
       "\t<li><table>\n",
       "<thead><tr><th scope=col>wgt0_Qs0e1n3</th><th scope=col>S.country_n</th><th scope=col>indi.id_n</th><th scope=col>svymthRound_n</th><th scope=col>wealthIdx_n</th><th scope=col>hgt0_n</th><th scope=col>wgt0_n</th><th scope=col>wealthIdx_Qs0e1n3_n</th><th scope=col>hgt0_Qs0e1n3_n</th></tr></thead>\n",
       "<tbody>\n",
       "\t<tr><td>[1.41e+03,2.89e+03]; (1) of Qs0e1n3</td><td>565                                </td><td>565                                </td><td>565                                </td><td>565                                </td><td>565                                </td><td>565                                </td><td>565                                </td><td>565                                </td></tr>\n",
       "\t<tr><td>(2.89e+03,3.22e+03]; (2) of Qs0e1n3</td><td>564                                </td><td>564                                </td><td>564                                </td><td>564                                </td><td>564                                </td><td>564                                </td><td>564                                </td><td>564                                </td></tr>\n",
       "\t<tr><td>(3.22e+03,5.18e+03]; (3) of Qs0e1n3</td><td>565                                </td><td>565                                </td><td>565                                </td><td>565                                </td><td>565                                </td><td>565                                </td><td>565                                </td><td>565                                </td></tr>\n",
       "\t<tr><td>NA                                 </td><td>329                                </td><td>329                                </td><td>329                                </td><td>329                                </td><td>329                                </td><td>329                                </td><td>329                                </td><td>329                                </td></tr>\n",
       "</tbody>\n",
       "</table>\n",
       "</li>\n",
       "</ol>\n"
      ],
      "text/latex": [
       "\\begin{enumerate}\n",
       "\\item \\begin{tabular}{r|lllllllll}\n",
       " wealthIdx\\_Qs0e1n3 & S.country\\_n & indi.id\\_n & svymthRound\\_n & wealthIdx\\_n & hgt0\\_n & wgt0\\_n & hgt0\\_Qs0e1n3\\_n & wgt0\\_Qs0e1n3\\_n\\\\\n",
       "\\hline\n",
       "\t {[}0.5,3{]}; (1,2) of Qs0e1n3 & 1366                          & 1366                          & 1366                          & 1366                          & 1366                          & 1366                          & 1366                          & 1366                         \\\\\n",
       "\t (3,14{]}; (3) of Qs0e1n3    &  657                        &  657                        &  657                        &  657                        &  657                        &  657                        &  657                        &  657                       \\\\\n",
       "\\end{tabular}\n",
       "\n",
       "\\item \\begin{tabular}{r|lllllllll}\n",
       " hgt0\\_Qs0e1n3 & S.country\\_n & indi.id\\_n & svymthRound\\_n & wealthIdx\\_n & hgt0\\_n & wgt0\\_n & wealthIdx\\_Qs0e1n3\\_n & wgt0\\_Qs0e1n3\\_n\\\\\n",
       "\\hline\n",
       "\t {[}40.9,48.6{]}; (1) of Qs0e1n3 & 594                             & 594                             & 594                             & 594                             & 594                             & 594                             & 594                             & 594                            \\\\\n",
       "\t (48.6,50.3{]}; (2) of Qs0e1n3 & 552                           & 552                           & 552                           & 552                           & 552                           & 552                           & 552                           & 552                          \\\\\n",
       "\t (50.3,59{]}; (3) of Qs0e1n3   & 549                           & 549                           & 549                           & 549                           & 549                           & 549                           & 549                           & 549                          \\\\\n",
       "\t NA                          & 328                         & 328                         & 328                         & 328                         & 328                         & 328                         & 328                         & 328                        \\\\\n",
       "\\end{tabular}\n",
       "\n",
       "\\item \\begin{tabular}{r|lllllllll}\n",
       " wgt0\\_Qs0e1n3 & S.country\\_n & indi.id\\_n & svymthRound\\_n & wealthIdx\\_n & hgt0\\_n & wgt0\\_n & wealthIdx\\_Qs0e1n3\\_n & hgt0\\_Qs0e1n3\\_n\\\\\n",
       "\\hline\n",
       "\t {[}1.41e+03,2.89e+03{]}; (1) of Qs0e1n3 & 565                                     & 565                                     & 565                                     & 565                                     & 565                                     & 565                                     & 565                                     & 565                                    \\\\\n",
       "\t (2.89e+03,3.22e+03{]}; (2) of Qs0e1n3 & 564                                   & 564                                   & 564                                   & 564                                   & 564                                   & 564                                   & 564                                   & 564                                  \\\\\n",
       "\t (3.22e+03,5.18e+03{]}; (3) of Qs0e1n3 & 565                                   & 565                                   & 565                                   & 565                                   & 565                                   & 565                                   & 565                                   & 565                                  \\\\\n",
       "\t NA                                  & 329                                 & 329                                 & 329                                 & 329                                 & 329                                 & 329                                 & 329                                 & 329                                \\\\\n",
       "\\end{tabular}\n",
       "\n",
       "\\end{enumerate}\n"
      ],
      "text/markdown": [
       "1. \n",
       "| wealthIdx_Qs0e1n3 | S.country_n | indi.id_n | svymthRound_n | wealthIdx_n | hgt0_n | wgt0_n | hgt0_Qs0e1n3_n | wgt0_Qs0e1n3_n |\n",
       "|---|---|---|---|---|---|---|---|---|\n",
       "| [0.5,3]; (1,2) of Qs0e1n3 | 1366                      | 1366                      | 1366                      | 1366                      | 1366                      | 1366                      | 1366                      | 1366                      |\n",
       "| (3,14]; (3) of Qs0e1n3    |  657                      |  657                      |  657                      |  657                      |  657                      |  657                      |  657                      |  657                      |\n",
       "\n",
       "\n",
       "2. \n",
       "| hgt0_Qs0e1n3 | S.country_n | indi.id_n | svymthRound_n | wealthIdx_n | hgt0_n | wgt0_n | wealthIdx_Qs0e1n3_n | wgt0_Qs0e1n3_n |\n",
       "|---|---|---|---|---|---|---|---|---|\n",
       "| [40.9,48.6]; (1) of Qs0e1n3 | 594                         | 594                         | 594                         | 594                         | 594                         | 594                         | 594                         | 594                         |\n",
       "| (48.6,50.3]; (2) of Qs0e1n3 | 552                         | 552                         | 552                         | 552                         | 552                         | 552                         | 552                         | 552                         |\n",
       "| (50.3,59]; (3) of Qs0e1n3   | 549                         | 549                         | 549                         | 549                         | 549                         | 549                         | 549                         | 549                         |\n",
       "| NA                          | 328                         | 328                         | 328                         | 328                         | 328                         | 328                         | 328                         | 328                         |\n",
       "\n",
       "\n",
       "3. \n",
       "| wgt0_Qs0e1n3 | S.country_n | indi.id_n | svymthRound_n | wealthIdx_n | hgt0_n | wgt0_n | wealthIdx_Qs0e1n3_n | hgt0_Qs0e1n3_n |\n",
       "|---|---|---|---|---|---|---|---|---|\n",
       "| [1.41e+03,2.89e+03]; (1) of Qs0e1n3 | 565                                 | 565                                 | 565                                 | 565                                 | 565                                 | 565                                 | 565                                 | 565                                 |\n",
       "| (2.89e+03,3.22e+03]; (2) of Qs0e1n3 | 564                                 | 564                                 | 564                                 | 564                                 | 564                                 | 564                                 | 564                                 | 564                                 |\n",
       "| (3.22e+03,5.18e+03]; (3) of Qs0e1n3 | 565                                 | 565                                 | 565                                 | 565                                 | 565                                 | 565                                 | 565                                 | 565                                 |\n",
       "| NA                                  | 329                                 | 329                                 | 329                                 | 329                                 | 329                                 | 329                                 | 329                                 | 329                                 |\n",
       "\n",
       "\n",
       "\n",
       "\n"
      ],
      "text/plain": [
       "[[1]]\n",
       "# A tibble: 2 x 9\n",
       "  wealthIdx_Qs0e1~ S.country_n indi.id_n svymthRound_n wealthIdx_n hgt0_n wgt0_n\n",
       "  <fct>                  <int>     <int>         <int>       <int>  <int>  <int>\n",
       "1 [0.5,3]; (1,2) ~        1366      1366          1366        1366   1366   1366\n",
       "2 (3,14]; (3) of ~         657       657           657         657    657    657\n",
       "# ... with 2 more variables: hgt0_Qs0e1n3_n <int>, wgt0_Qs0e1n3_n <int>\n",
       "\n",
       "[[2]]\n",
       "# A tibble: 4 x 9\n",
       "  hgt0_Qs0e1n3 S.country_n indi.id_n svymthRound_n wealthIdx_n hgt0_n wgt0_n\n",
       "  <fct>              <int>     <int>         <int>       <int>  <int>  <int>\n",
       "1 [40.9,48.6]~         594       594           594         594    594    594\n",
       "2 (48.6,50.3]~         552       552           552         552    552    552\n",
       "3 (50.3,59]; ~         549       549           549         549    549    549\n",
       "4 <NA>                 328       328           328         328    328    328\n",
       "# ... with 2 more variables: wealthIdx_Qs0e1n3_n <int>, wgt0_Qs0e1n3_n <int>\n",
       "\n",
       "[[3]]\n",
       "# A tibble: 4 x 9\n",
       "  wgt0_Qs0e1n3 S.country_n indi.id_n svymthRound_n wealthIdx_n hgt0_n wgt0_n\n",
       "  <fct>              <int>     <int>         <int>       <int>  <int>  <int>\n",
       "1 [1.41e+03,2~         565       565           565         565    565    565\n",
       "2 (2.89e+03,3~         564       564           564         564    564    564\n",
       "3 (3.22e+03,5~         565       565           565         565    565    565\n",
       "4 <NA>                 329       329           329         329    329    329\n",
       "# ... with 2 more variables: wealthIdx_Qs0e1n3_n <int>, hgt0_Qs0e1n3_n <int>\n"
      ]
     },
     "metadata": {},
     "output_type": "display_data"
    }
   ],
   "source": [
    "# Results Individual Slice\n",
    "lapply(vars.continuous, f.count, \n",
    "       df=(df.new %>% group_by(!!!syms(vars.group_by)) %>% arrange(!!!syms(vars.arrange)) %>% slice(1L)))"
   ]
  }
 ],
 "metadata": {
  "kernelspec": {
   "display_name": "R",
   "language": "R",
   "name": "ir"
  },
  "language_info": {
   "codemirror_mode": "r",
   "file_extension": ".r",
   "mimetype": "text/x-r-source",
   "name": "R",
   "pygments_lexer": "r",
   "version": "3.5.1"
  }
 },
 "nbformat": 4,
 "nbformat_minor": 2
}
