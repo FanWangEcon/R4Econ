{
 "cells": [
  {
   "cell_type": "markdown",
   "metadata": {},
   "source": [
    "# Constant Elasticity of Substitution Planer Welfare Subsidies Optimizer Over Quantile/Individual Groups\n",
    "\n",
    "There is some production function or other functional relationship between x and y. When x shifts, y shifts. We are interested in some function over the vector of y. We shift x to maximize some objective over the vector of y. \n",
    "\n",
    "$$\n",
    "\\max_{\\left\\{S_i\\right\\}_{i \\in \\left\\{1,...,N\\right\\}}}\n",
    "O \\left(\n",
    "    \\left\\{ \n",
    "    Y_{it}(X_{it}, S_i) \n",
    "    \\right\\}^{i \\in \\left\\{1,...,N\\right\\}}\n",
    "    _{t \\in \\left\\{1,...,T\\right\\}}\n",
    " \\right)\n",
    "$$\n",
    "\n",
    "Specifically: there is a finite amount of subsidies, there are N individuals observed between month 0 and 24. What are the optimal nutritional subsidies to provide to the N individuals given some function that relates nutritional input to outcome (height), ignoring behavior responses.\n",
    "\n",
    "The N individuals could be N groups of individuals. There could be many more than N people that are in N groups. For example, groups determined by if someone has below or above median initial height."
   ]
  },
  {
   "cell_type": "markdown",
   "metadata": {},
   "source": [
    "## Program Structure\n",
    "\n",
    "The program below has these ingredients. It is not written in the most generic way possible, but wrritten to work with a CES planer's optimization problem where the planer is optimizing over subsidies for sub-groups of individuals. \n",
    "\n",
    "1. Given a dataset, generate subsidy groups within\n",
    "    - each group could have one individual or could have multiple individuals\n",
    "    - dependency: [Generate Joint Quantiles from Multiple Continuous Variables as a Categorical Variable with Linear Index](https://fanwangecon.github.io/R4Econ/generate/quantile/VarCateIdxVarsQuantiles.html)\n",
    "        * group linear index \n",
    "        * group label\n",
    "2. Show Basic Summary Statistics for Each group\n",
    "    - dependency: [All Numeric Variables Mean + SD + N by Groups](https://github.com/FanWangEcon/R4Econ/blob/master/summarize/summ/ByGroupSumm.R)\n",
    "    - dependency: [By Groups, One Variable All Statistics](https://github.com/FanWangEcon/R4Econ/blob/master/summarize/summ/ByGroupSummOne.R)\n",
    "3. Various Prediction Function\n",
    "    - based on some estimation structure that generates overall relationship between intputs and outputs and also individual specific coefficients, some type of production function for example\n",
    "    - prediction functions that generates new outputs based on subsidies for each prediction function model\n",
    "    - re-write this every time. \n",
    "4. Estimation Function Wrapper\n",
    "    - default parameters and key shifting parameters as inputs\n",
    "    - allows for using lapply to estimate for example for multiple parameters\n",
    "    - invokes optim function, and process results with function parameters\n",
    "5. Inner Estimation Function\n",
    "    - what optim invokes\n",
    "    - estimands is first parameter\n",
    "    - additional parameters as list\n",
    "6. Estimation Depencies\n",
    "    - for constrained to unconstrained transformation\n",
    "    - for generating fractions\n",
    "    - for ces objective function"
   ]
  },
  {
   "cell_type": "markdown",
   "metadata": {},
   "source": [
    "## Program"
   ]
  },
  {
   "cell_type": "markdown",
   "metadata": {},
   "source": [
    "### Dependencies\n",
    "\n",
    "To achieve points 1 and 2 and 6 above."
   ]
  },
  {
   "cell_type": "code",
   "execution_count": 181,
   "metadata": {},
   "outputs": [],
   "source": [
    "library(tidyverse)\n",
    "# Point 1\n",
    "source('C:/Users/fan/R4Econ/summarize/summ/ByGroupSumm.R')\n",
    "# Point 2\n",
    "source('C:/Users/fan/R4Econ/summarize/summ/ByGroupSummOne.R')\n",
    "source('C:/Users/fan/R4Econ/generate/quantile/VarCateIdxVarsQuantiles.R')\n",
    "# Point 6\n",
    "# get f_frac_asymp_vec()\n",
    "source('C:/Users/fan/R4Econ/optimization/support/fraction.R')\n",
    "# get f_planer_obj()\n",
    "source('C:/Users/fan/R4Econ/optimization/planner/ces/cesplannerobj.R')"
   ]
  },
  {
   "cell_type": "markdown",
   "metadata": {},
   "source": [
    "### Estimation Objective Function\n",
    "\n",
    "In the function below:\n",
    "1. x is the unconstrained transformed fraction from (optimization/support/fraction.R)\n",
    "2. param.ces is the ces parameter, not that this parameter does not enter the f.subsidy.y.str function\n",
    "3. f.subsidy.y.str is the name of the estimation prediction function (Step 3) in string \n",
    "4. list.subsidy.y.params.other contains a list of parameters needed for f.subsidy.y.str in addition to the "
   ]
  },
  {
   "cell_type": "code",
   "execution_count": 182,
   "metadata": {},
   "outputs": [],
   "source": [
    "# Single Parameter Optimization Functions\n",
    "obj_planer <- function(x, param.ces, f.subsidy.y.str, list.subsidy.y.params.other, boo.out.y = FALSE) {\n",
    "\n",
    "    # Input list\n",
    "    # Convert from Estimation x to Actual Fraction between 0 and 1\n",
    "    list.subsidy.y.params.maximand <- list(vec.subsidy.frac = f_frac_asymp_vec(x))\n",
    "    list.subsidy.y.params <- append(list.subsidy.y.params.other, list.subsidy.y.params.maximand)\n",
    "    \n",
    "    # Call Function\n",
    "    list.df.y.subsidized <- do.call(f.subsidy.y.str, list.subsidy.y.params)\n",
    "    \n",
    "    df.y.subsidized <- list.df.y.subsidized$dfmain\n",
    "    var.y.subsidy <- list.df.y.subsidized$ysubsidy\n",
    "    \n",
    "    # C:\\Users\\fan\\R4Econ\\optimization\\planer\\ces\\cesplanerobj.R\n",
    "    if (boo.out.y) {        \n",
    "        return(list.df.y.subsidized)\n",
    "    } else {\n",
    "        obj <- (-1)*f_planer_obj(vec.y=df.y.subsidized[[var.y.subsidy]], param.ces=param.ces)\n",
    "        return(obj)\n",
    "    }\n",
    "    \n",
    "}"
   ]
  },
  {
   "cell_type": "code",
   "execution_count": 183,
   "metadata": {},
   "outputs": [],
   "source": [
    "# invoked obj_planer to generate full prediction dataframe with summary statistics\n",
    "obj_planer_predict <- function(x, param.ces, f.subsidy.y.str, list.subsidy.y.params.other) {\n",
    "    \n",
    "    # Add Statistics for Outcome Variable With Subsidies\n",
    "    # Generate Full Data Prediction frame\n",
    "    list.df.y.subsidized <- obj_planer(x, param.ces, f.subsidy.y.str, list.subsidy.y.params.other, boo.out.y = TRUE)\n",
    "    \n",
    "    # FROM: summarize\\summ\\ByGroupSummOne.R\n",
    "    # Summary statistics\n",
    "    list.group.stats <- ff_summ_by_group_summ_one(list.df.y.subsidized$dfmain,\n",
    "                                                  vars.group = list.subsidy.y.params.other$var.grp.idx,\n",
    "                                                  var.numeric = list.df.y.subsidized$ysubsidy, \n",
    "                                                  str.stats.specify = c('mean', 'sd', 'min'), \n",
    "                                                  boo.overall.stats = TRUE)\n",
    "    \n",
    "    list.optim.predict <- append(list.df.y.subsidized, list.group.stats)\n",
    "    \n",
    "    # Return\n",
    "    return(list.optim.predict)\n",
    "}"
   ]
  },
  {
   "cell_type": "code",
   "execution_count": 184,
   "metadata": {},
   "outputs": [],
   "source": [
    "# Subsidy Function\n",
    "# var.grp.idx: name of index group variable\n",
    "# subsidy.total: total subsidy\n",
    "# vec.subsidy.frac: fraction of subsidy each group\n",
    "# vec.subsidy.grpsize: number of people in each subsidy group.\n",
    "f_subsidy_vec <- function(df, var.grp.idx, subsidy.total, vec.subsidy.frac, vec.subsidy.grpsize,\n",
    "                          review=FALSE, var.i='i', var.t='t',\n",
    "                          var.new.subsidy ='subsidy',\n",
    "                          var.new.subsidy.grp ='subsidy_grp') {\n",
    "    # var.grp.idx <- 'subsidy.grp'\n",
    "    # subsidy_total <- 2\n",
    "    # df.subsidy.frac <- c(0.1, 0.9)\n",
    "    # vec.subsidy.grpsize <- c(1, 1)\n",
    "    df.with.subsidy <- df %>% mutate(!!(var.new.subsidy.grp) := paste0(vec.subsidy.frac, collapse=','),\n",
    "                                     !!(var.new.subsidy) := ((subsidy.total*\n",
    "                                                              vec.subsidy.frac[df[[var.grp.idx]]])/\n",
    "                                                             vec.subsidy.grpsize[df[[var.grp.idx]]]))\n",
    "\n",
    "    if (review) {\n",
    "      df.with.subsidy.review <- df.with.subsidy %>%\n",
    "                                    select(!!sym(var.i), !!sym(var.t), !!sym(var.grp.idx),\n",
    "                                           contains(var.new.subsidy), everything()) %>%\n",
    "                                group_by(!!sym(var.grp.idx)) %>%\n",
    "                                mutate_at(vars(c(var.new.subsidy)), funs(subsidy_mean_it = mean,\n",
    "                                                                   subsidy_sd_it = sd,\n",
    "                                                                   subsidy_n_it = n()))  %>%\n",
    "                 ungroup() %>% group_by(!!sym(var.i)) %>% slice(1L) %>% group_by(!!sym(var.grp.idx)) %>%\n",
    "                 mutate_at(vars(c(var.new.subsidy)), funs(subsidy_mean_i = mean,\n",
    "                                                    subsidy_sd_i = sd,\n",
    "                                                    subsidy_n_i = n())) %>%\n",
    "                summarize_if(is.numeric, mean) %>%\n",
    "                select(!!sym(var.grp.idx), contains(var.new.subsidy), everything()) %>%\n",
    "                mutate_if(is.numeric, round, 3)\n",
    "\n",
    "        print(t(df.with.subsidy.review))\n",
    "\n",
    "    } else {\n",
    "\n",
    "        df.with.subsidy.review <- c('')\n",
    "    }\n",
    "\n",
    "    return(list(dfmain=df.with.subsidy,\n",
    "                dfreview=df.with.subsidy.review,\n",
    "                varsubsidy=var.new.subsidy))\n",
    "}"
   ]
  },
  {
   "cell_type": "markdown",
   "metadata": {},
   "source": [
    "### Estimation Wrapper\n",
    "\n",
    "Basically same parameters as above, except that the first parameter here are the starting values for estimation. \n",
    "\n",
    "1. sca.subsidy.frac.init: unconstrained fraction subsidy transformed x initial starting estimation values\n",
    "2. param.ces:\n",
    "3. f.subsidy.y.str: name of the estimation prediction function (Step 3) in string \n",
    "4. list.subsidy.y.params.other: contains a list of parameters needed for f.subsidy.y.str."
   ]
  },
  {
   "cell_type": "code",
   "execution_count": 185,
   "metadata": {},
   "outputs": [],
   "source": [
    "# Optimization Wrapper\n",
    "# sca.subsidy.frac.init.default <- numeric((sca.subsidy.groups-1))+1\n",
    "# list.subsidy.y.params.other must have: vec.subsidy.grpsize and subsidy.total\n",
    "# Optimization Function\n",
    "optim_wrapper <- function(sca.subsidy.frac.init, param.ces, f.subsidy.y.str, list.subsidy.y.params.other) {\n",
    "\n",
    "    # Optimization\n",
    "    res.opti <- optim(sca.subsidy.frac.init, obj_planer,\n",
    "                      param.ces = param.ces,\n",
    "                      f.subsidy.y.str = f.subsidy.y.str,\n",
    "                      list.subsidy.y.params.other = list.subsidy.y.params.other)\n",
    "\n",
    "    # Generate Named LIst\n",
    "    sca.subsidy.lengthm1 = length(sca.subsidy.frac.init)\n",
    "    list.sca.subsidy.frac.init <- setNames(sca.subsidy.frac.init,\n",
    "                                           paste0('sca.subsidy.frac.init.v', 1:sca.subsidy.lengthm1))\n",
    "    list.par <- setNames(res.opti$par, paste0('par.v',\n",
    "                                              1:sca.subsidy.lengthm1))\n",
    "    list.par.frac <- setNames(f_frac_asymp_vec(res.opti$par),\n",
    "                              paste0('par.frac.v', 1:(sca.subsidy.lengthm1+1)))\n",
    "\n",
    "    # Number of Individuals Each Subsidy Group, Normalize Relative Subidy Across Groups\n",
    "    list.vec.subsidy.grpsize <- setNames(list.subsidy.y.params.other$vec.subsidy.grpsize,\n",
    "                                         paste0('par.frac.grpsize.v', 1:(sca.subsidy.lengthm1+1)))\n",
    "    list.vec.frac.sub.lvl <- ((f_frac_asymp_vec(res.opti$par))/(list.subsidy.y.params.other$vec.subsidy.grpsize))\n",
    "    list.vec.frac.norm <- list.vec.frac.sub.lvl/sum(list.vec.frac.sub.lvl)\n",
    "    list.vec.subsidy.indi.lvl <- setNames(list.vec.frac.sub.lvl*list.subsidy.y.params.other$subsidy.total,\n",
    "                                         paste0('par.frac.lvl.v', 1:(sca.subsidy.lengthm1+1)))\n",
    "    list.vec.subsidy.grpsize.norm <- setNames(list.vec.frac.norm,\n",
    "                                         paste0('par.frac.norm.v', 1:(sca.subsidy.lengthm1+1)))\n",
    "    \n",
    "    # Collect Results\n",
    "    list.esti.res <- list(param.ces = param.ces,\n",
    "                          subsidy.total = list.subsidy.y.params.other[['subsidy.total']],\n",
    "                          par.frac.sum = sum(f_frac_asymp_vec(res.opti$par)),                          \n",
    "                          value = res.opti$value,\n",
    "                          counts.function = (res.opti$counts)[['function']],\n",
    "                          counts.gradient = (res.opti$counts)[['gradient']],\n",
    "                          convergence = res.opti$convergence)\n",
    "\n",
    "    list.esti.res <- append(list.esti.res, list.sca.subsidy.frac.init)\n",
    "    list.esti.res <- append(list.esti.res, list.par)    \n",
    "    list.esti.res <- append(list.esti.res, list.par.frac)\n",
    "    list.esti.res <- append(list.esti.res, list.vec.subsidy.grpsize)\n",
    "    list.esti.res <- append(list.esti.res, list.vec.subsidy.indi.lvl)\n",
    "    list.esti.res <- append(list.esti.res, list.vec.subsidy.grpsize.norm)\n",
    "    \n",
    "    # Add Statistics for Outcome Variable With Subsidies\n",
    "    # FROM: summarize\\summ\\ByGroupSummOne.R\n",
    "    list.optim.predict <- obj_planer_predict(res.opti$par, param.ces, f.subsidy.y.str, list.subsidy.y.params.other)    \n",
    "    list.esti.res <- append(list.esti.res, list.optim.predict$df_row_stats_all)\n",
    "\n",
    "    # Return\n",
    "    return(list.esti.res)\n",
    "}"
   ]
  },
  {
   "cell_type": "markdown",
   "metadata": {},
   "source": [
    "### Final Results Graph\n",
    "Graphing given many CES parameters"
   ]
  },
  {
   "cell_type": "code",
   "execution_count": 186,
   "metadata": {},
   "outputs": [],
   "source": [
    "# Graphically\n",
    "graphf.ces.opti.subsidy <- function(df.ces.opti, sca.subsidy.groups, vec.subsidy.grpsize,\n",
    "                                    str.title, str.captions, geom_text_format='%.3f') {\n",
    "    df.ces.opti %>%\n",
    "        gather(variable, value, -param.ces)  %>%\n",
    "        ggplot(aes(x=factor(param.ces), y=value,\n",
    "                   fill=variable,\n",
    "                   label=sprintf(geom_text_format, value))) +\n",
    "        geom_bar(stat = 'identity', position='dodge2') +\n",
    "        geom_text(size=3, hjust=0.5, vjust=0, angle=0,\n",
    "                  fontface = 'bold', color='black',\n",
    "                  position = position_dodge(width = 1)) +\n",
    "        labs(title = paste0(paste0(str.title, '\\nOptimal Subsidy ',\n",
    "                                   sca.subsidy.groups,' Groups, n per group=(',\n",
    "                                   paste0(vec.subsidy.grpsize, collapse=',')\n",
    "                              ,')\\n0=Cobb-Douglas, 1=Perfect Substitutes, -Inf=Leontiff')),\n",
    "               x = 'CES Parameters',\n",
    "               y = 'Subsidies',\n",
    "               caption = str.captions) +\n",
    "        theme(axis.text.x = element_text(angle = 90, vjust=0.3, hjust = 1))\n",
    "}"
   ]
  },
  {
   "cell_type": "markdown",
   "metadata": {},
   "source": [
    "## Shared Parameters\n",
    "\n",
    "Crucial Parameters, strings etc, shared across functions"
   ]
  },
  {
   "cell_type": "code",
   "execution_count": 187,
   "metadata": {},
   "outputs": [],
   "source": [
    "# The name of the y-prediction variable that has subsidies added\n",
    "var.new.y.subsidy <- 'y_subsidy'"
   ]
  },
  {
   "cell_type": "markdown",
   "metadata": {},
   "source": [
    "## Data"
   ]
  },
  {
   "cell_type": "markdown",
   "metadata": {},
   "source": [
    "### Load Data"
   ]
  },
  {
   "cell_type": "code",
   "execution_count": 188,
   "metadata": {},
   "outputs": [
    {
     "name": "stderr",
     "output_type": "stream",
     "text": [
      "Parsed with column specification:\n",
      "cols(\n",
      "  S.country = col_character(),\n",
      "  vil.id = col_double(),\n",
      "  indi.id = col_double(),\n",
      "  sex = col_character(),\n",
      "  svymthRound = col_double(),\n",
      "  momEdu = col_double(),\n",
      "  wealthIdx = col_double(),\n",
      "  hgt = col_double(),\n",
      "  wgt = col_double(),\n",
      "  hgt0 = col_double(),\n",
      "  wgt0 = col_double(),\n",
      "  prot = col_double(),\n",
      "  cal = col_double(),\n",
      "  p.A.prot = col_double(),\n",
      "  p.A.nProt = col_double()\n",
      ")\n"
     ]
    }
   ],
   "source": [
    "# Library\n",
    "library(tidyverse)\n",
    "\n",
    "# Load Sample Data\n",
    "setwd('C:/Users/fan/R4Econ/_data/')\n",
    "df <- read_csv('height_weight.csv')"
   ]
  },
  {
   "cell_type": "markdown",
   "metadata": {},
   "source": [
    "### Data Selection\n",
    "\n",
    "We will have several data selection rules to generate grouped dataframe for subsidies:\n",
    "\n",
    "1. Dataframe with two groups: below and above median initial height, each group has multiple individuals\n",
    "    + implicitly, this means the planer is doing policy conditional on observable characteristics, integrating over empirical conditional distribution of unobservable.\n",
    "2. Dataframe with 3 individuals: subsidy specific to each individual\n",
    "    + implicitly, this would only be relevant if we know the individual type. \n",
    "3. Dataframe with 4 groups: above and below median initial height, and above below median initial weight as well.\n",
    "\n",
    "Note for the grouped policy, we need to distinguish between individual subsidy and total group subsidy. We can adjust either, will adjust group level subsidy, then need to interpret results then as fraction of subsidy per person. Graph carefully. "
   ]
  },
  {
   "cell_type": "markdown",
   "metadata": {},
   "source": [
    "#### Data 1: df.i4xy"
   ]
  },
  {
   "cell_type": "code",
   "execution_count": 189,
   "metadata": {},
   "outputs": [
    {
     "name": "stdout",
     "output_type": "stream",
     "text": [
      "[1] \"dim(df.i4xy)=39,5\"\n"
     ]
    },
    {
     "data": {
      "text/html": [
       "<table>\n",
       "<thead><tr><th scope=col>i</th><th scope=col>t</th><th scope=col>y</th><th scope=col>x</th><th scope=col>grp.idx.i4xy</th></tr></thead>\n",
       "<tbody>\n",
       "\t<tr><td>4   </td><td>0   </td><td>48.4</td><td>0.5 </td><td>1   </td></tr>\n",
       "\t<tr><td>4   </td><td>2   </td><td>53.9</td><td>1.0 </td><td>1   </td></tr>\n",
       "\t<tr><td>4   </td><td>4   </td><td>59.8</td><td>0.5 </td><td>1   </td></tr>\n",
       "\t<tr><td>...</td><td>...</td><td>...</td><td>...</td><td>...</td></tr>\n",
       "\t<tr><td>15  </td><td>22  </td><td>84  </td><td> 8.9</td><td>3   </td></tr>\n",
       "\t<tr><td>15  </td><td>24  </td><td>85  </td><td>20.3</td><td>3   </td></tr>\n",
       "</tbody>\n",
       "</table>\n"
      ],
      "text/latex": [
       "\\begin{tabular}{r|lllll}\n",
       " i & t & y & x & grp.idx.i4xy\\\\\n",
       "\\hline\n",
       "\t 4    & 0    & 48.4 & 0.5  & 1   \\\\\n",
       "\t 4    & 2    & 53.9 & 1.0  & 1   \\\\\n",
       "\t 4    & 4    & 59.8 & 0.5  & 1   \\\\\n",
       "\t ... & ... & ... & ... & ...\\\\\n",
       "\t 15   & 22   & 84   &  8.9 & 3   \\\\\n",
       "\t 15   & 24   & 85   & 20.3 & 3   \\\\\n",
       "\\end{tabular}\n"
      ],
      "text/markdown": [
       "\n",
       "i | t | y | x | grp.idx.i4xy | \n",
       "|---|---|---|---|---|---|\n",
       "| 4    | 0    | 48.4 | 0.5  | 1    | \n",
       "| 4    | 2    | 53.9 | 1.0  | 1    | \n",
       "| 4    | 4    | 59.8 | 0.5  | 1    | \n",
       "| ... | ... | ... | ... | ... | \n",
       "| 15   | 22   | 84   |  8.9 | 3    | \n",
       "| 15   | 24   | 85   | 20.3 | 3    | \n",
       "\n",
       "\n"
      ],
      "text/plain": [
       "    i   t   y    x    grp.idx.i4xy\n",
       "1   4   0   48.4 0.5  1           \n",
       "2   4   2   53.9 1.0  1           \n",
       "3   4   4   59.8 0.5  1           \n",
       "... ... ... ...  ...  ...         \n",
       "38  15  22  84    8.9 3           \n",
       "39  15  24  85   20.3 3           "
      ]
     },
     "metadata": {},
     "output_type": "display_data"
    }
   ],
   "source": [
    "# These are the same as in: https://fanwangecon.github.io/HeightProfile/r/planer/paneloptigN.html\n",
    "# Select 3 individuals, information from second year, four variables\n",
    "var.qjnt.grp.idx.i4xy <- 'grp.idx.i4xy'\n",
    "vars.subsidy.group <- 'i'\n",
    "df.i4xy <- df %>% filter(svymthRound <= 24 & svymthRound >= 0 & \n",
    "              S.country == 'Cebu' & (indi.id == 4 | indi.id == 13  | indi.id == 15)) %>% \n",
    "              select(i = indi.id, t = svymthRound, y = hgt, x =prot) %>% \n",
    "              mutate(!!var.qjnt.grp.idx.i4xy := group_indices(., !!!syms(vars.subsidy.group))) %>%\n",
    "              drop_na(i, t, y, x) \n",
    "\n",
    "# Obtain dataframe with quantile cut\n",
    "df.i4xy.grps <- tibble(id=c(4,13,15), !!var.qjnt.grp.idx.i4xy := c(1,2,3))\n",
    "sca.subsidy.groups.i4xy <- 3\n",
    "vec.subsidy.grpsize.i4xy <- c(1,1,1)\n",
    "\n",
    "# Results\n",
    "print(paste0('dim(df.i4xy)=', dim(df.i4xy)[1], ',', dim(df.i4xy)[2]))\n",
    "options(repr.matrix.max.rows=5, repr.matrix.max.cols=20)\n",
    "df.i4xy"
   ]
  },
  {
   "cell_type": "markdown",
   "metadata": {},
   "source": [
    "#### Data 2: df.h0 Cebu\n",
    "\n",
    "Generate quantile cuts. Generate two separate dataframes. \n",
    "Dataframes could bedifferent because some observations are dropped due to not having observation for the quantile by variables. "
   ]
  },
  {
   "cell_type": "code",
   "execution_count": 190,
   "metadata": {},
   "outputs": [
    {
     "name": "stdout",
     "output_type": "stream",
     "text": [
      "[1] \"dim(df.h0)=749,8\"\n"
     ]
    },
    {
     "data": {
      "text/html": [
       "<table>\n",
       "<thead><tr><th scope=col>h0_Qs0e1n2</th><th scope=col>cebu.grp.idx.h0</th><th scope=col>mean</th><th scope=col>n</th></tr></thead>\n",
       "<tbody>\n",
       "\t<tr><td>[44.2,49.4]; (1) of Qs0e1n2</td><td>1                          </td><td>47.99677                   </td><td>31                         </td></tr>\n",
       "\t<tr><td>(49.4,54]; (2) of Qs0e1n2  </td><td>2                          </td><td>50.99655                   </td><td>29                         </td></tr>\n",
       "</tbody>\n",
       "</table>\n"
      ],
      "text/latex": [
       "\\begin{tabular}{r|llll}\n",
       " h0\\_Qs0e1n2 & cebu.grp.idx.h0 & mean & n\\\\\n",
       "\\hline\n",
       "\t {[}44.2,49.4{]}; (1) of Qs0e1n2 & 1                               & 47.99677                        & 31                             \\\\\n",
       "\t (49.4,54{]}; (2) of Qs0e1n2   & 2                             & 50.99655                      & 29                           \\\\\n",
       "\\end{tabular}\n"
      ],
      "text/markdown": [
       "\n",
       "h0_Qs0e1n2 | cebu.grp.idx.h0 | mean | n | \n",
       "|---|---|\n",
       "| [44.2,49.4]; (1) of Qs0e1n2 | 1                           | 47.99677                    | 31                          | \n",
       "| (49.4,54]; (2) of Qs0e1n2   | 2                           | 50.99655                    | 29                          | \n",
       "\n",
       "\n"
      ],
      "text/plain": [
       "  h0_Qs0e1n2                  cebu.grp.idx.h0 mean     n \n",
       "1 [44.2,49.4]; (1) of Qs0e1n2 1               47.99677 31\n",
       "2 (49.4,54]; (2) of Qs0e1n2   2               50.99655 29"
      ]
     },
     "metadata": {},
     "output_type": "display_data"
    },
    {
     "name": "stdout",
     "output_type": "stream",
     "text": [
      "[1] \"vec.subsidy.grpsize.h0=31,29\"\n",
      "[1] \"sca.subsidy.groups.h0=2\"\n"
     ]
    }
   ],
   "source": [
    "# Base Data\n",
    "df.cebu.t0t24 <- df %>% filter(svymthRound <= 24 & svymthRound >= 0 & \n",
    "                               S.country == 'Cebu' & \n",
    "                               indi.id <= 60 ) %>% \n",
    "            select(i = indi.id, t = svymthRound, y = hgt, x = prot, h0 = hgt0, w = wealthIdx) %>%\n",
    "            drop_na(i, t, y, x, h0, w)\n",
    "\n",
    "# Cut Quantiles\n",
    "var.qjnt.grp.idx.h0 <- 'cebu.grp.idx.h0'\n",
    "list.cts2quantile.h0 <- list(list(vars=c('h0'), prob=c(0, 0.5, 1.0)))\n",
    "results.h0 <- df_cut_by_sliced_quantiles_joint(df.cebu.t0t24, var.qjnt.grp.idx.h0, list.cts2quantile.h0,\n",
    "                                               vars.group_by = c('i'), vars.arrange = c('i', 't'),\n",
    "                                               drop.any.quantile.na = TRUE, toprint = FALSE)\n",
    "# Obtain dataframe with quantile cut\n",
    "df.h0 <- results.h0$df.with.cut.quant\n",
    "df.h0.grps <- results.h0$df.group.slice1.cnt.mean\n",
    "sca.subsidy.groups.h0 <- dim(df.h0.grps)[1]\n",
    "vec.subsidy.grpsize.h0 <- df.h0.grps$n\n",
    "\n",
    "# Show Stats\n",
    "print(paste0('dim(df.h0)=', dim(df.h0)[1], ',', dim(df.h0)[2]))\n",
    "df.h0.grps \n",
    "print(paste0('vec.subsidy.grpsize.h0=', paste0(vec.subsidy.grpsize.h0, collapse=',')))\n",
    "print(paste0('sca.subsidy.groups.h0=', sca.subsidy.groups.h0))"
   ]
  },
  {
   "cell_type": "markdown",
   "metadata": {},
   "source": [
    "#### Data 3: df.h0wlt Guatemala\n",
    "\n",
    "Two Variables Quantile Cut Guatemala."
   ]
  },
  {
   "cell_type": "code",
   "execution_count": 191,
   "metadata": {},
   "outputs": [
    {
     "name": "stderr",
     "output_type": "stream",
     "text": [
      "Joining, by = c(\"i\", \"t\", \"y\", \"x\", \"h0\", \"w\")\n"
     ]
    },
    {
     "name": "stdout",
     "output_type": "stream",
     "text": [
      "[1] \"dim(df.h0wlt)=1808,9\"\n"
     ]
    },
    {
     "data": {
      "text/html": [
       "<table>\n",
       "<thead><tr><th scope=col>h0_Qs0e1n2</th><th scope=col>w_Qs0e1n2</th><th scope=col>guat.grp.idx.h0wlt</th><th scope=col>h0_mean</th><th scope=col>w_mean</th><th scope=col>h0_n</th><th scope=col>w_n</th></tr></thead>\n",
       "<tbody>\n",
       "\t<tr><td>[40.6,49.9]; (1) of Qs0e1n2</td><td>[1,2.2]; (1) of Qs0e1n2    </td><td>1                          </td><td>47.64340                   </td><td>1.725472                   </td><td>106                        </td><td>106                        </td></tr>\n",
       "\t<tr><td>[40.6,49.9]; (1) of Qs0e1n2</td><td>(2.2,5.7]; (2) of Qs0e1n2  </td><td>2                          </td><td>48.33924                   </td><td>3.153165                   </td><td> 79                        </td><td> 79                        </td></tr>\n",
       "\t<tr><td>(49.9,56.7]; (2) of Qs0e1n2</td><td>[1,2.2]; (1) of Qs0e1n2    </td><td>3                          </td><td>51.45867                   </td><td>1.654667                   </td><td> 75                        </td><td> 75                        </td></tr>\n",
       "\t<tr><td>(49.9,56.7]; (2) of Qs0e1n2</td><td>(2.2,5.7]; (2) of Qs0e1n2  </td><td>4                          </td><td>51.72400                   </td><td>3.090000                   </td><td>100                        </td><td>100                        </td></tr>\n",
       "</tbody>\n",
       "</table>\n"
      ],
      "text/latex": [
       "\\begin{tabular}{r|lllllll}\n",
       " h0\\_Qs0e1n2 & w\\_Qs0e1n2 & guat.grp.idx.h0wlt & h0\\_mean & w\\_mean & h0\\_n & w\\_n\\\\\n",
       "\\hline\n",
       "\t {[}40.6,49.9{]}; (1) of Qs0e1n2 & {[}1,2.2{]}; (1) of Qs0e1n2     & 1                               & 47.64340                        & 1.725472                        & 106                             & 106                            \\\\\n",
       "\t {[}40.6,49.9{]}; (1) of Qs0e1n2 & (2.2,5.7{]}; (2) of Qs0e1n2     & 2                               & 48.33924                        & 3.153165                        &  79                             &  79                            \\\\\n",
       "\t (49.9,56.7{]}; (2) of Qs0e1n2 & {[}1,2.2{]}; (1) of Qs0e1n2   & 3                             & 51.45867                      & 1.654667                      &  75                           &  75                          \\\\\n",
       "\t (49.9,56.7{]}; (2) of Qs0e1n2 & (2.2,5.7{]}; (2) of Qs0e1n2   & 4                             & 51.72400                      & 3.090000                      & 100                           & 100                          \\\\\n",
       "\\end{tabular}\n"
      ],
      "text/markdown": [
       "\n",
       "h0_Qs0e1n2 | w_Qs0e1n2 | guat.grp.idx.h0wlt | h0_mean | w_mean | h0_n | w_n | \n",
       "|---|---|---|---|\n",
       "| [40.6,49.9]; (1) of Qs0e1n2 | [1,2.2]; (1) of Qs0e1n2     | 1                           | 47.64340                    | 1.725472                    | 106                         | 106                         | \n",
       "| [40.6,49.9]; (1) of Qs0e1n2 | (2.2,5.7]; (2) of Qs0e1n2   | 2                           | 48.33924                    | 3.153165                    |  79                         |  79                         | \n",
       "| (49.9,56.7]; (2) of Qs0e1n2 | [1,2.2]; (1) of Qs0e1n2     | 3                           | 51.45867                    | 1.654667                    |  75                         |  75                         | \n",
       "| (49.9,56.7]; (2) of Qs0e1n2 | (2.2,5.7]; (2) of Qs0e1n2   | 4                           | 51.72400                    | 3.090000                    | 100                         | 100                         | \n",
       "\n",
       "\n"
      ],
      "text/plain": [
       "  h0_Qs0e1n2                  w_Qs0e1n2                 guat.grp.idx.h0wlt\n",
       "1 [40.6,49.9]; (1) of Qs0e1n2 [1,2.2]; (1) of Qs0e1n2   1                 \n",
       "2 [40.6,49.9]; (1) of Qs0e1n2 (2.2,5.7]; (2) of Qs0e1n2 2                 \n",
       "3 (49.9,56.7]; (2) of Qs0e1n2 [1,2.2]; (1) of Qs0e1n2   3                 \n",
       "4 (49.9,56.7]; (2) of Qs0e1n2 (2.2,5.7]; (2) of Qs0e1n2 4                 \n",
       "  h0_mean  w_mean   h0_n w_n\n",
       "1 47.64340 1.725472 106  106\n",
       "2 48.33924 3.153165  79   79\n",
       "3 51.45867 1.654667  75   75\n",
       "4 51.72400 3.090000 100  100"
      ]
     },
     "metadata": {},
     "output_type": "display_data"
    },
    {
     "name": "stdout",
     "output_type": "stream",
     "text": [
      "[1] \"vec.subsidy.grpsize.h0wlt=106,79,75,100\"\n",
      "[1] \"sca.subsidy.groups.h0wlt=4\"\n"
     ]
    }
   ],
   "source": [
    "# Base Data Women Guatemala\n",
    "df.guat.t0t24 <- df %>% filter(svymthRound <= 24 & svymthRound >= 0 & \n",
    "                               S.country == 'Guatemala') %>% \n",
    "            select(i = indi.id, t = svymthRound, y = hgt, x = prot, h0 = hgt0, w = wealthIdx) %>%\n",
    "            drop_na(i, t, y, x, h0, w)\n",
    "\n",
    "# Cut Quantiles\n",
    "var.qjnt.grp.idx.h0wlt <- 'guat.grp.idx.h0wlt'\n",
    "list.cts2quantile.h0wlt <- list(list(vars=c('h0'), prob=c(0, 0.5, 1.0)), \n",
    "                          list(vars=c('w'), prob=c(0, 0.5, 1.0)))\n",
    "results.h0wlt <- df_cut_by_sliced_quantiles_joint(df.guat.t0t24, var.qjnt.grp.idx.h0wlt, list.cts2quantile.h0wlt,\n",
    "                                                  vars.group_by = c('i'), vars.arrange = c('i', 't'),\n",
    "                                                  drop.any.quantile.na = TRUE, toprint = FALSE)\n",
    "# Obtain dataframe with quantile cut\n",
    "df.h0wlt <- results.h0wlt$df.with.cut.quant\n",
    "df.h0wlt.grps <- results.h0wlt$df.group.slice1.cnt.mean\n",
    "sca.subsidy.groups.h0wlt <- dim(df.h0wlt.grps)[1]\n",
    "vec.subsidy.grpsize.h0wlt <- df.h0wlt.grps$h0_n\n",
    "\n",
    "# Show Stats\n",
    "print(paste0('dim(df.h0wlt)=', dim(df.h0wlt)[1], ',', dim(df.h0wlt)[2]))\n",
    "df.h0wlt.grps\n",
    "print(paste0('vec.subsidy.grpsize.h0wlt=', paste0(vec.subsidy.grpsize.h0wlt, collapse=',')))\n",
    "print(paste0('sca.subsidy.groups.h0wlt=', sca.subsidy.groups.h0wlt))"
   ]
  },
  {
   "cell_type": "markdown",
   "metadata": {},
   "source": [
    "## Estimation and Prediction Functions\n",
    "\n",
    "Run Estimations Separately for different Data group, and generate different prediction functions based on them. \n",
    "\n",
    "Only three fixed effects for df.i4xy, about 60 for df.h0, and then about 360 for df.h0wlt. \n",
    "\n",
    "First run a timer."
   ]
  },
  {
   "cell_type": "code",
   "execution_count": 192,
   "metadata": {},
   "outputs": [],
   "source": [
    "# Regressions\n",
    "f_res_linfe <- function(df) lm(log(y) ~ log(x) + factor(i) - 1 , data=df)"
   ]
  },
  {
   "cell_type": "code",
   "execution_count": 193,
   "metadata": {},
   "outputs": [
    {
     "data": {
      "text/plain": [
       "   user  system elapsed \n",
       "      0       0       0 "
      ]
     },
     "metadata": {},
     "output_type": "display_data"
    },
    {
     "data": {
      "text/plain": [
       "   user  system elapsed \n",
       "      0       0       0 "
      ]
     },
     "metadata": {},
     "output_type": "display_data"
    },
    {
     "data": {
      "text/plain": [
       "   user  system elapsed \n",
       "   0.14    0.00    0.16 "
      ]
     },
     "metadata": {},
     "output_type": "display_data"
    }
   ],
   "source": [
    "# Timing\n",
    "system.time({f_res_linfe(df.i4xy)})\n",
    "system.time({f_res_linfe(df.h0)})\n",
    "system.time({f_res_linfe(df.h0wlt)})"
   ]
  },
  {
   "cell_type": "code",
   "execution_count": 194,
   "metadata": {},
   "outputs": [],
   "source": [
    "# StoreEstimation Results\n",
    "res.linfe.i4xy <- lm(log(y) ~ log(x) + factor(i) - 1 , data=df.i4xy)\n",
    "res.linfe.h0 <- lm(log(y) ~ log(x) + factor(i) - 1 , data=df.h0)\n",
    "res.linfe.h0wlt <- lm(log(y) ~ log(x) + factor(i) - 1 , data=df.h0wlt)"
   ]
  },
  {
   "cell_type": "code",
   "execution_count": 195,
   "metadata": {},
   "outputs": [],
   "source": [
    "# Summaries\n",
    "# str(res.linfe.h0)\n",
    "# summary(res.linfe.h0)\n",
    "# summary(res.linfe.h0wlt)\n",
    "# summary(res.linfe.i4xy)"
   ]
  },
  {
   "cell_type": "code",
   "execution_count": 196,
   "metadata": {},
   "outputs": [],
   "source": [
    "# Function 2\n",
    "f_subsidy_y_cd <- function(df, res.linfe,\n",
    "                           var.grp.idx, subsidy.total,\n",
    "                           vec.subsidy.frac, vec.subsidy.grpsize,\n",
    "                           var.new.y.subsidy,\n",
    "                           review=FALSE) {\n",
    "    \n",
    "    # Invoke Function 1\n",
    "    list.df.subsidy <- f_subsidy_vec(df, var.grp.idx, subsidy.total,\n",
    "                                         vec.subsidy.frac, vec.subsidy.grpsize, review)\n",
    "    \n",
    "    df.subsidy <- list.df.subsidy$dfmain\n",
    "    \n",
    "    # Y with subsidy for linear regresion model\n",
    "    df.hgt.adj <- df.subsidy %>% mutate(!!(var.new.y.subsidy) := \n",
    "                                        exp(predict(res.linfe, \n",
    "                                                    (df.subsidy %>% \n",
    "                                                     mutate(x = x + subsidy)))))\n",
    "    \n",
    "    return(list(dfmain=df.hgt.adj,\n",
    "                ysubsidy=var.new.y.subsidy))\n",
    "}"
   ]
  },
  {
   "cell_type": "markdown",
   "metadata": {},
   "source": [
    "## Planer Optimization Parameters Set Up"
   ]
  },
  {
   "cell_type": "markdown",
   "metadata": {},
   "source": [
    "### For 3 Individuals"
   ]
  },
  {
   "cell_type": "code",
   "execution_count": 197,
   "metadata": {},
   "outputs": [],
   "source": [
    "subsidy.total.default.person <- 30"
   ]
  },
  {
   "cell_type": "code",
   "execution_count": 198,
   "metadata": {},
   "outputs": [],
   "source": [
    "# These are the same as in: https://fanwangecon.github.io/HeightProfile/r/planer/paneloptigN.html\n",
    "# Should produce the same results\n",
    "# Default Parameters for Estimation Set up\n",
    "f.subsidy.y.str.i4xy <- 'f_subsidy_y_cd'\n",
    "# t.filter.default.i4xy <- 24\n",
    "subsidy.total.default.i4xy <- subsidy.total.default.person*sum(vec.subsidy.grpsize.i4xy)\n",
    "# lists of Inputs\n",
    "df.default.i4xy <- df.i4xy \n",
    "# NOTE DO NOT INCLUDE in other.default: vec.subsidy.frac, that is set by optim \n",
    "list.subsidy.y.params.other.default.i4xy <- list(df = df.default.i4xy, \n",
    "                                                 res.linfe = res.linfe.i4xy,\n",
    "                                                 var.grp.idx = var.qjnt.grp.idx.i4xy,\n",
    "                                                 subsidy.total = subsidy.total.default.i4xy,\n",
    "                                                 vec.subsidy.grpsize = vec.subsidy.grpsize.i4xy,\n",
    "                                                 var.new.y.subsidy = var.new.y.subsidy)\n",
    "list.subsidy.y.params.maximand.default.i4xy <- list(review = TRUE,\n",
    "                                                    vec.subsidy.frac = round(f_subsidy_frac(sca.subsidy.groups.i4xy, 'rand', seed=13), 3))\n",
    "# Overall\n",
    "list.subsidy.y.params.i4xy <- append(list.subsidy.y.params.other.default.i4xy,\n",
    "                                     list.subsidy.y.params.maximand.default.i4xy)"
   ]
  },
  {
   "cell_type": "markdown",
   "metadata": {},
   "source": [
    "### For h0 Cebu 60 people"
   ]
  },
  {
   "cell_type": "code",
   "execution_count": 199,
   "metadata": {},
   "outputs": [],
   "source": [
    "# Default Parameters for Estimation Set up\n",
    "f.subsidy.y.str.h0 <- 'f_subsidy_y_cd'\n",
    "t.filter.default.h0 <- 24\n",
    "subsidy.total.default.h0 <- subsidy.total.default.person*sum(vec.subsidy.grpsize.h0)\n",
    "\n",
    "df.default.h0 <- df.h0 %>% filter(t == t.filter.default.h0)\n",
    "\n",
    "# lists of Inputs\n",
    "# NOTE DO NOT INCLUDE in other.default: vec.subsidy.frac, that is set by optim \n",
    "list.subsidy.y.params.other.default.h0 <- list(df = df.default.h0, \n",
    "                                               res.linfe = res.linfe.h0,\n",
    "                                               var.grp.idx = var.qjnt.grp.idx.h0,\n",
    "                                               subsidy.total = subsidy.total.default.h0,\n",
    "                                               vec.subsidy.grpsize = vec.subsidy.grpsize.h0, \n",
    "                                               var.new.y.subsidy = var.new.y.subsidy)\n",
    "list.subsidy.y.params.maximand.default.h0 <- list(review = TRUE, vec.subsidy.frac =\n",
    "                                               round(f_subsidy_frac(sca.subsidy.groups.h0, 'unif', seed=13), 3))\n",
    "\n",
    "# Overall\n",
    "list.subsidy.y.params.h0 <- append(list.subsidy.y.params.other.default.h0,\n",
    "                                   list.subsidy.y.params.maximand.default.h0)"
   ]
  },
  {
   "cell_type": "markdown",
   "metadata": {},
   "source": [
    "### For h0wlt Guatemala"
   ]
  },
  {
   "cell_type": "code",
   "execution_count": 200,
   "metadata": {},
   "outputs": [],
   "source": [
    "# Default Parameters for Estimation Set up\n",
    "f.subsidy.y.str.h0wlt <- 'f_subsidy_y_cd'\n",
    "t.filter.default.h0wlt <- 24\n",
    "# 3 people 100, 300 people now\n",
    "subsidy.total.default.h0wlt <- subsidy.total.default.person*sum(vec.subsidy.grpsize.h0wlt)\n",
    "\n",
    "df.default.h0wlt <- df.h0wlt %>% filter(t == t.filter.default.h0wlt)\n",
    "# NOTE DO NOT INCLUDE in other.default: vec.subsidy.frac, that is set by optim \n",
    "list.subsidy.y.params.other.default.h0wlt <- list(df = df.default.h0wlt, \n",
    "                                                  res.linfe = res.linfe.h0wlt,\n",
    "                                                  var.grp.idx = var.qjnt.grp.idx.h0wlt,\n",
    "                                                  subsidy.total = subsidy.total.default.h0wlt, \n",
    "                                                  vec.subsidy.grpsize = vec.subsidy.grpsize.h0wlt, \n",
    "                                                  var.new.y.subsidy = var.new.y.subsidy)\n",
    "list.subsidy.y.params.maximand.default.h0wlt <- list(review = TRUE, vec.subsidy.frac = \n",
    "                                                     round(f_subsidy_frac(sca.subsidy.groups.h0wlt, 'unif', seed=13), 3))\n",
    "\n",
    "# Overall\n",
    "list.subsidy.y.params.h0wlt <- append(list.subsidy.y.params.other.default.h0wlt,\n",
    "                                      list.subsidy.y.params.maximand.default.h0wlt)"
   ]
  },
  {
   "cell_type": "markdown",
   "metadata": {},
   "source": [
    "### Testing Prediction Function"
   ]
  },
  {
   "cell_type": "code",
   "execution_count": 201,
   "metadata": {},
   "outputs": [
    {
     "name": "stdout",
     "output_type": "stream",
     "text": [
      "                 [,1]  [,2]  [,3]\n",
      "grp.idx.i4xy     1.00  2.00  3.00\n",
      "subsidy         47.52 16.47 26.01\n",
      "subsidy_mean_it 47.52 16.47 26.01\n",
      "subsidy_sd_it    0.00  0.00  0.00\n",
      "subsidy_n_it    13.00 13.00 13.00\n",
      "subsidy_mean_i  47.52 16.47 26.01\n",
      "subsidy_sd_i      NaN   NaN   NaN\n",
      "subsidy_n_i      1.00  1.00  1.00\n",
      "i                4.00 13.00 15.00\n",
      "t                0.00  0.00  0.00\n",
      "y               48.40 49.30 52.50\n",
      "x                0.50  0.50  0.50\n"
     ]
    },
    {
     "data": {
      "text/html": [
       "<dl>\n",
       "\t<dt>$dfmain</dt>\n",
       "\t\t<dd><table>\n",
       "<thead><tr><th scope=col>i</th><th scope=col>t</th><th scope=col>y</th><th scope=col>x</th><th scope=col>grp.idx.i4xy</th><th scope=col>subsidy_grp</th><th scope=col>subsidy</th><th scope=col>y_subsidy</th></tr></thead>\n",
       "<tbody>\n",
       "\t<tr><td>4                </td><td>0                </td><td>48.4             </td><td>0.5              </td><td>1                </td><td>0.528,0.183,0.289</td><td>47.52            </td><td>94.32824         </td></tr>\n",
       "\t<tr><td>4                </td><td>2                </td><td>53.9             </td><td>1.0              </td><td>1                </td><td>0.528,0.183,0.289</td><td>47.52            </td><td>94.43198         </td></tr>\n",
       "\t<tr><td>4                </td><td>4                </td><td>59.8             </td><td>0.5              </td><td>1                </td><td>0.528,0.183,0.289</td><td>47.52            </td><td>94.32824         </td></tr>\n",
       "\t<tr><td>...</td><td>...</td><td>...</td><td>...</td><td>...</td><td>...</td><td>...</td><td>...</td></tr>\n",
       "\t<tr><td>15               </td><td>22               </td><td>84               </td><td> 8.9             </td><td>3                </td><td>0.528,0.183,0.289</td><td>26.01            </td><td>90.00413         </td></tr>\n",
       "\t<tr><td>15               </td><td>24               </td><td>85               </td><td>20.3             </td><td>3                </td><td>0.528,0.183,0.289</td><td>26.01            </td><td>92.74389         </td></tr>\n",
       "</tbody>\n",
       "</table>\n",
       "</dd>\n",
       "\t<dt>$ysubsidy</dt>\n",
       "\t\t<dd>'y_subsidy'</dd>\n",
       "</dl>\n"
      ],
      "text/latex": [
       "\\begin{description}\n",
       "\\item[\\$dfmain] \\begin{tabular}{r|llllllll}\n",
       " i & t & y & x & grp.idx.i4xy & subsidy\\_grp & subsidy & y\\_subsidy\\\\\n",
       "\\hline\n",
       "\t 4                 & 0                 & 48.4              & 0.5               & 1                 & 0.528,0.183,0.289 & 47.52             & 94.32824         \\\\\n",
       "\t 4                 & 2                 & 53.9              & 1.0               & 1                 & 0.528,0.183,0.289 & 47.52             & 94.43198         \\\\\n",
       "\t 4                 & 4                 & 59.8              & 0.5               & 1                 & 0.528,0.183,0.289 & 47.52             & 94.32824         \\\\\n",
       "\t ... & ... & ... & ... & ... & ... & ... & ...\\\\\n",
       "\t 15                & 22                & 84                &  8.9              & 3                 & 0.528,0.183,0.289 & 26.01             & 90.00413         \\\\\n",
       "\t 15                & 24                & 85                & 20.3              & 3                 & 0.528,0.183,0.289 & 26.01             & 92.74389         \\\\\n",
       "\\end{tabular}\n",
       "\n",
       "\\item[\\$ysubsidy] 'y\\_subsidy'\n",
       "\\end{description}\n"
      ],
      "text/markdown": [
       "$dfmain\n",
       ":   \n",
       "i | t | y | x | grp.idx.i4xy | subsidy_grp | subsidy | y_subsidy | \n",
       "|---|---|---|---|---|---|\n",
       "| 4                 | 0                 | 48.4              | 0.5               | 1                 | 0.528,0.183,0.289 | 47.52             | 94.32824          | \n",
       "| 4                 | 2                 | 53.9              | 1.0               | 1                 | 0.528,0.183,0.289 | 47.52             | 94.43198          | \n",
       "| 4                 | 4                 | 59.8              | 0.5               | 1                 | 0.528,0.183,0.289 | 47.52             | 94.32824          | \n",
       "| ... | ... | ... | ... | ... | ... | ... | ... | \n",
       "| 15                | 22                | 84                |  8.9              | 3                 | 0.528,0.183,0.289 | 26.01             | 90.00413          | \n",
       "| 15                | 24                | 85                | 20.3              | 3                 | 0.528,0.183,0.289 | 26.01             | 92.74389          | \n",
       "\n",
       "\n",
       "\n",
       "$ysubsidy\n",
       ":   'y_subsidy'\n",
       "\n",
       "\n"
      ],
      "text/plain": [
       "$dfmain\n",
       "# A tibble: 39 x 8\n",
       "       i     t     y     x grp.idx.i4xy subsidy_grp       subsidy y_subsidy\n",
       "   <dbl> <dbl> <dbl> <dbl>        <int> <chr>               <dbl>     <dbl>\n",
       " 1     4     0  48.4   0.5            1 0.528,0.183,0.289    47.5      94.3\n",
       " 2     4     2  53.9   1              1 0.528,0.183,0.289    47.5      94.4\n",
       " 3     4     4  59.8   0.5            1 0.528,0.183,0.289    47.5      94.3\n",
       " 4     4     6  65.5   1.7            1 0.528,0.183,0.289    47.5      94.6\n",
       " 5     4     8  67.2   1.2            1 0.528,0.183,0.289    47.5      94.5\n",
       " 6     4    10  67.3   0.5            1 0.528,0.183,0.289    47.5      94.3\n",
       " 7     4    12  69.1   0.7            1 0.528,0.183,0.289    47.5      94.4\n",
       " 8     4    14  71.2   1.8            1 0.528,0.183,0.289    47.5      94.6\n",
       " 9     4    16  72.6   2.5            1 0.528,0.183,0.289    47.5      94.7\n",
       "10     4    18  74.3   7.2            1 0.528,0.183,0.289    47.5      95.6\n",
       "# ... with 29 more rows\n",
       "\n",
       "$ysubsidy\n",
       "[1] \"y_subsidy\"\n"
      ]
     },
     "metadata": {},
     "output_type": "display_data"
    }
   ],
   "source": [
    "# Overall Parameter vector\n",
    "options(repr.matrix.max.rows=5, repr.matrix.max.cols=20)\n",
    "do.call(f.subsidy.y.str.i4xy, list.subsidy.y.params.i4xy)"
   ]
  },
  {
   "cell_type": "code",
   "execution_count": 202,
   "metadata": {},
   "outputs": [
    {
     "name": "stdout",
     "output_type": "stream",
     "text": [
      "                  [,1]   [,2]\n",
      "cebu.grp.idx.h0  1.000  2.000\n",
      "subsidy         29.032 31.034\n",
      "subsidy_mean_it 29.032 31.034\n",
      "subsidy_sd_it    0.000  0.000\n",
      "subsidy_n_it    30.000 27.000\n",
      "subsidy_mean_i  29.032 31.034\n",
      "subsidy_sd_i     0.000  0.000\n",
      "subsidy_n_i     30.000 27.000\n",
      "i               34.333 26.222\n",
      "t               24.000 24.000\n",
      "y               78.557 79.500\n",
      "x               19.060 18.019\n",
      "h0              48.123 51.067\n",
      "w                9.297  8.363\n"
     ]
    },
    {
     "data": {
      "text/html": [
       "<dl>\n",
       "\t<dt>$dfmain</dt>\n",
       "\t\t<dd><table>\n",
       "<thead><tr><th scope=col>i</th><th scope=col>t</th><th scope=col>y</th><th scope=col>x</th><th scope=col>h0</th><th scope=col>w</th><th scope=col>h0_Qs0e1n2</th><th scope=col>cebu.grp.idx.h0</th><th scope=col>subsidy_grp</th><th scope=col>subsidy</th><th scope=col>y_subsidy</th></tr></thead>\n",
       "<tbody>\n",
       "\t<tr><td>2                        </td><td>24                       </td><td>79.2                     </td><td>14.1                     </td><td>49.7                     </td><td> 7.3                     </td><td>(49.4,54]; (2) of Qs0e1n2</td><td>2                        </td><td>0.5,0.5                  </td><td>31.03448                 </td><td>85.70456                 </td></tr>\n",
       "\t<tr><td>3                        </td><td>24                       </td><td>76.7                     </td><td>20.6                     </td><td>51.7                     </td><td>10.3                     </td><td>(49.4,54]; (2) of Qs0e1n2</td><td>2                        </td><td>0.5,0.5                  </td><td>31.03448                 </td><td>78.28437                 </td></tr>\n",
       "\t<tr><td>4                        </td><td>24                       </td><td>78.1                     </td><td>10.3                     </td><td>50.2                     </td><td>13.3                     </td><td>(49.4,54]; (2) of Qs0e1n2</td><td>2                        </td><td>0.5,0.5                  </td><td>31.03448                 </td><td>87.84156                 </td></tr>\n",
       "\t<tr><td>...</td><td>...</td><td>...</td><td>...</td><td>...</td><td>...</td><td>...</td><td>...</td><td>...</td><td>...</td><td>...</td></tr>\n",
       "\t<tr><td>58                         </td><td>24                         </td><td>80.3                       </td><td>8.7                        </td><td>46.7                       </td><td>10.3                       </td><td>[44.2,49.4]; (1) of Qs0e1n2</td><td>1                          </td><td>0.5,0.5                    </td><td>29.03226                   </td><td>77.16255                   </td></tr>\n",
       "\t<tr><td>60                         </td><td>24                         </td><td>79.2                       </td><td>6.9                        </td><td>49.4                       </td><td> 7.3                       </td><td>[44.2,49.4]; (1) of Qs0e1n2</td><td>1                          </td><td>0.5,0.5                    </td><td>29.03226                   </td><td>81.82674                   </td></tr>\n",
       "</tbody>\n",
       "</table>\n",
       "</dd>\n",
       "\t<dt>$ysubsidy</dt>\n",
       "\t\t<dd>'y_subsidy'</dd>\n",
       "</dl>\n"
      ],
      "text/latex": [
       "\\begin{description}\n",
       "\\item[\\$dfmain] \\begin{tabular}{r|lllllllllll}\n",
       " i & t & y & x & h0 & w & h0\\_Qs0e1n2 & cebu.grp.idx.h0 & subsidy\\_grp & subsidy & y\\_subsidy\\\\\n",
       "\\hline\n",
       "\t 2                           & 24                          & 79.2                        & 14.1                        & 49.7                        &  7.3                        & (49.4,54{]}; (2) of Qs0e1n2 & 2                           & 0.5,0.5                     & 31.03448                    & 85.70456                   \\\\\n",
       "\t 3                           & 24                          & 76.7                        & 20.6                        & 51.7                        & 10.3                        & (49.4,54{]}; (2) of Qs0e1n2 & 2                           & 0.5,0.5                     & 31.03448                    & 78.28437                   \\\\\n",
       "\t 4                           & 24                          & 78.1                        & 10.3                        & 50.2                        & 13.3                        & (49.4,54{]}; (2) of Qs0e1n2 & 2                           & 0.5,0.5                     & 31.03448                    & 87.84156                   \\\\\n",
       "\t ... & ... & ... & ... & ... & ... & ... & ... & ... & ... & ...\\\\\n",
       "\t 58                              & 24                              & 80.3                            & 8.7                             & 46.7                            & 10.3                            & {[}44.2,49.4{]}; (1) of Qs0e1n2 & 1                               & 0.5,0.5                         & 29.03226                        & 77.16255                       \\\\\n",
       "\t 60                              & 24                              & 79.2                            & 6.9                             & 49.4                            &  7.3                            & {[}44.2,49.4{]}; (1) of Qs0e1n2 & 1                               & 0.5,0.5                         & 29.03226                        & 81.82674                       \\\\\n",
       "\\end{tabular}\n",
       "\n",
       "\\item[\\$ysubsidy] 'y\\_subsidy'\n",
       "\\end{description}\n"
      ],
      "text/markdown": [
       "$dfmain\n",
       ":   \n",
       "i | t | y | x | h0 | w | h0_Qs0e1n2 | cebu.grp.idx.h0 | subsidy_grp | subsidy | y_subsidy | \n",
       "|---|---|---|---|---|---|\n",
       "| 2                         | 24                        | 79.2                      | 14.1                      | 49.7                      |  7.3                      | (49.4,54]; (2) of Qs0e1n2 | 2                         | 0.5,0.5                   | 31.03448                  | 85.70456                  | \n",
       "| 3                         | 24                        | 76.7                      | 20.6                      | 51.7                      | 10.3                      | (49.4,54]; (2) of Qs0e1n2 | 2                         | 0.5,0.5                   | 31.03448                  | 78.28437                  | \n",
       "| 4                         | 24                        | 78.1                      | 10.3                      | 50.2                      | 13.3                      | (49.4,54]; (2) of Qs0e1n2 | 2                         | 0.5,0.5                   | 31.03448                  | 87.84156                  | \n",
       "| ... | ... | ... | ... | ... | ... | ... | ... | ... | ... | ... | \n",
       "| 58                          | 24                          | 80.3                        | 8.7                         | 46.7                        | 10.3                        | [44.2,49.4]; (1) of Qs0e1n2 | 1                           | 0.5,0.5                     | 29.03226                    | 77.16255                    | \n",
       "| 60                          | 24                          | 79.2                        | 6.9                         | 49.4                        |  7.3                        | [44.2,49.4]; (1) of Qs0e1n2 | 1                           | 0.5,0.5                     | 29.03226                    | 81.82674                    | \n",
       "\n",
       "\n",
       "\n",
       "$ysubsidy\n",
       ":   'y_subsidy'\n",
       "\n",
       "\n"
      ],
      "text/plain": [
       "$dfmain\n",
       "# A tibble: 57 x 11\n",
       "       i     t     y     x    h0     w h0_Qs0e1n2 cebu.grp.idx.h0 subsidy_grp\n",
       "   <dbl> <dbl> <dbl> <dbl> <dbl> <dbl> <fct>                <int> <chr>      \n",
       " 1     2    24  79.2  14.1  49.7   7.3 (49.4,54]~               2 0.5,0.5    \n",
       " 2     3    24  76.7  20.6  51.7  10.3 (49.4,54]~               2 0.5,0.5    \n",
       " 3     4    24  78.1  10.3  50.2  13.3 (49.4,54]~               2 0.5,0.5    \n",
       " 4     5    24  84.1  18.4  53.4   9.3 (49.4,54]~               2 0.5,0.5    \n",
       " 5     6    24  76.9  16.7  48.3   7.3 [44.2,49.~               1 0.5,0.5    \n",
       " 6     7    24  79.6  15.9  50.3   8.3 (49.4,54]~               2 0.5,0.5    \n",
       " 7     8    24  81.5  30.1  47.7   9.3 [44.2,49.~               1 0.5,0.5    \n",
       " 8     9    24  74.7  14.7  48.2  17.3 [44.2,49.~               1 0.5,0.5    \n",
       " 9    10    24  77.1   9.8  50.7   6.3 (49.4,54]~               2 0.5,0.5    \n",
       "10    11    24  72.1   9.9  48.3   6.3 [44.2,49.~               1 0.5,0.5    \n",
       "# ... with 47 more rows, and 2 more variables: subsidy <dbl>, y_subsidy <dbl>\n",
       "\n",
       "$ysubsidy\n",
       "[1] \"y_subsidy\"\n"
      ]
     },
     "metadata": {},
     "output_type": "display_data"
    }
   ],
   "source": [
    "options(repr.matrix.max.rows=5, repr.matrix.max.cols=20)\n",
    "do.call(f.subsidy.y.str.h0, list.subsidy.y.params.h0)"
   ]
  },
  {
   "cell_type": "code",
   "execution_count": 203,
   "metadata": {},
   "outputs": [
    {
     "name": "stdout",
     "output_type": "stream",
     "text": [
      "                       [,1]     [,2]     [,3]     [,4]\n",
      "guat.grp.idx.h0wlt    1.000    2.000    3.000    4.000\n",
      "subsidy              25.472   34.177   36.000   27.000\n",
      "subsidy_mean_it      25.472   34.177   36.000   27.000\n",
      "subsidy_sd_it         0.000    0.000    0.000    0.000\n",
      "subsidy_n_it         74.000   53.000   48.000   63.000\n",
      "subsidy_mean_i       25.472   34.177   36.000   27.000\n",
      "subsidy_sd_i          0.000    0.000    0.000    0.000\n",
      "subsidy_n_i          74.000   53.000   48.000   63.000\n",
      "i                  1743.432 1679.453 1708.708 1673.746\n",
      "t                    24.000   24.000   24.000   24.000\n",
      "y                    75.804   76.625   78.175   78.771\n",
      "x                    26.550   23.989   27.506   28.148\n",
      "h0                   47.673   48.275   51.327   51.486\n",
      "w                     1.711    3.187    1.652    3.119\n"
     ]
    },
    {
     "data": {
      "text/html": [
       "<dl>\n",
       "\t<dt>$dfmain</dt>\n",
       "\t\t<dd><table>\n",
       "<thead><tr><th scope=col>i</th><th scope=col>t</th><th scope=col>y</th><th scope=col>x</th><th scope=col>h0</th><th scope=col>w</th><th scope=col>h0_Qs0e1n2</th><th scope=col>w_Qs0e1n2</th><th scope=col>guat.grp.idx.h0wlt</th><th scope=col>subsidy_grp</th><th scope=col>subsidy</th><th scope=col>y_subsidy</th></tr></thead>\n",
       "<tbody>\n",
       "\t<tr><td>1352                       </td><td>24                         </td><td>75.8                       </td><td>46.3                       </td><td>47.4                       </td><td>3.3                        </td><td>[40.6,49.9]; (1) of Qs0e1n2</td><td>(2.2,5.7]; (2) of Qs0e1n2  </td><td>2                          </td><td>0.25,0.25,0.25,0.25        </td><td>34.17722                   </td><td>77.36775                   </td></tr>\n",
       "\t<tr><td>1354                       </td><td>24                         </td><td>75.3                       </td><td>15.4                       </td><td>51.2                       </td><td>1.7                        </td><td>(49.9,56.7]; (2) of Qs0e1n2</td><td>[1,2.2]; (1) of Qs0e1n2    </td><td>3                          </td><td>0.25,0.25,0.25,0.25        </td><td>36.00000                   </td><td>78.00260                   </td></tr>\n",
       "\t<tr><td>1356                       </td><td>24                         </td><td>77.1                       </td><td>30.5                       </td><td>51.9                       </td><td>3.4                        </td><td>(49.9,56.7]; (2) of Qs0e1n2</td><td>(2.2,5.7]; (2) of Qs0e1n2  </td><td>4                          </td><td>0.25,0.25,0.25,0.25        </td><td>27.00000                   </td><td>77.43604                   </td></tr>\n",
       "\t<tr><td>...</td><td>...</td><td>...</td><td>...</td><td>...</td><td>...</td><td>...</td><td>...</td><td>...</td><td>...</td><td>...</td><td>...</td></tr>\n",
       "\t<tr><td>2018                       </td><td>24                         </td><td>77.2                       </td><td>31.7                       </td><td>48.8                       </td><td>2.1                        </td><td>[40.6,49.9]; (1) of Qs0e1n2</td><td>[1,2.2]; (1) of Qs0e1n2    </td><td>1                          </td><td>0.25,0.25,0.25,0.25        </td><td>25.4717                    </td><td>76.4070                    </td></tr>\n",
       "\t<tr><td>2019                       </td><td>24                         </td><td>76.8                       </td><td>57.8                       </td><td>49.7                       </td><td>2.2                        </td><td>[40.6,49.9]; (1) of Qs0e1n2</td><td>[1,2.2]; (1) of Qs0e1n2    </td><td>1                          </td><td>0.25,0.25,0.25,0.25        </td><td>25.4717                    </td><td>73.5095                    </td></tr>\n",
       "</tbody>\n",
       "</table>\n",
       "</dd>\n",
       "\t<dt>$ysubsidy</dt>\n",
       "\t\t<dd>'y_subsidy'</dd>\n",
       "</dl>\n"
      ],
      "text/latex": [
       "\\begin{description}\n",
       "\\item[\\$dfmain] \\begin{tabular}{r|llllllllllll}\n",
       " i & t & y & x & h0 & w & h0\\_Qs0e1n2 & w\\_Qs0e1n2 & guat.grp.idx.h0wlt & subsidy\\_grp & subsidy & y\\_subsidy\\\\\n",
       "\\hline\n",
       "\t 1352                            & 24                              & 75.8                            & 46.3                            & 47.4                            & 3.3                             & {[}40.6,49.9{]}; (1) of Qs0e1n2 & (2.2,5.7{]}; (2) of Qs0e1n2     & 2                               & 0.25,0.25,0.25,0.25             & 34.17722                        & 77.36775                       \\\\\n",
       "\t 1354                          & 24                            & 75.3                          & 15.4                          & 51.2                          & 1.7                           & (49.9,56.7{]}; (2) of Qs0e1n2 & {[}1,2.2{]}; (1) of Qs0e1n2   & 3                             & 0.25,0.25,0.25,0.25           & 36.00000                      & 78.00260                     \\\\\n",
       "\t 1356                          & 24                            & 77.1                          & 30.5                          & 51.9                          & 3.4                           & (49.9,56.7{]}; (2) of Qs0e1n2 & (2.2,5.7{]}; (2) of Qs0e1n2   & 4                             & 0.25,0.25,0.25,0.25           & 27.00000                      & 77.43604                     \\\\\n",
       "\t ... & ... & ... & ... & ... & ... & ... & ... & ... & ... & ... & ...\\\\\n",
       "\t 2018                            & 24                              & 77.2                            & 31.7                            & 48.8                            & 2.1                             & {[}40.6,49.9{]}; (1) of Qs0e1n2 & {[}1,2.2{]}; (1) of Qs0e1n2     & 1                               & 0.25,0.25,0.25,0.25             & 25.4717                         & 76.4070                        \\\\\n",
       "\t 2019                            & 24                              & 76.8                            & 57.8                            & 49.7                            & 2.2                             & {[}40.6,49.9{]}; (1) of Qs0e1n2 & {[}1,2.2{]}; (1) of Qs0e1n2     & 1                               & 0.25,0.25,0.25,0.25             & 25.4717                         & 73.5095                        \\\\\n",
       "\\end{tabular}\n",
       "\n",
       "\\item[\\$ysubsidy] 'y\\_subsidy'\n",
       "\\end{description}\n"
      ],
      "text/markdown": [
       "$dfmain\n",
       ":   \n",
       "i | t | y | x | h0 | w | h0_Qs0e1n2 | w_Qs0e1n2 | guat.grp.idx.h0wlt | subsidy_grp | subsidy | y_subsidy | \n",
       "|---|---|---|---|---|---|\n",
       "| 1352                        | 24                          | 75.8                        | 46.3                        | 47.4                        | 3.3                         | [40.6,49.9]; (1) of Qs0e1n2 | (2.2,5.7]; (2) of Qs0e1n2   | 2                           | 0.25,0.25,0.25,0.25         | 34.17722                    | 77.36775                    | \n",
       "| 1354                        | 24                          | 75.3                        | 15.4                        | 51.2                        | 1.7                         | (49.9,56.7]; (2) of Qs0e1n2 | [1,2.2]; (1) of Qs0e1n2     | 3                           | 0.25,0.25,0.25,0.25         | 36.00000                    | 78.00260                    | \n",
       "| 1356                        | 24                          | 77.1                        | 30.5                        | 51.9                        | 3.4                         | (49.9,56.7]; (2) of Qs0e1n2 | (2.2,5.7]; (2) of Qs0e1n2   | 4                           | 0.25,0.25,0.25,0.25         | 27.00000                    | 77.43604                    | \n",
       "| ... | ... | ... | ... | ... | ... | ... | ... | ... | ... | ... | ... | \n",
       "| 2018                        | 24                          | 77.2                        | 31.7                        | 48.8                        | 2.1                         | [40.6,49.9]; (1) of Qs0e1n2 | [1,2.2]; (1) of Qs0e1n2     | 1                           | 0.25,0.25,0.25,0.25         | 25.4717                     | 76.4070                     | \n",
       "| 2019                        | 24                          | 76.8                        | 57.8                        | 49.7                        | 2.2                         | [40.6,49.9]; (1) of Qs0e1n2 | [1,2.2]; (1) of Qs0e1n2     | 1                           | 0.25,0.25,0.25,0.25         | 25.4717                     | 73.5095                     | \n",
       "\n",
       "\n",
       "\n",
       "$ysubsidy\n",
       ":   'y_subsidy'\n",
       "\n",
       "\n"
      ],
      "text/plain": [
       "$dfmain\n",
       "# A tibble: 238 x 12\n",
       "       i     t     y     x    h0     w h0_Qs0e1n2 w_Qs0e1n2 guat.grp.idx.h0~\n",
       "   <dbl> <dbl> <dbl> <dbl> <dbl> <dbl> <fct>      <fct>                <int>\n",
       " 1  1352    24  75.8  46.3  47.4   3.3 [40.6,49.~ (2.2,5.7~                2\n",
       " 2  1354    24  75.3  15.4  51.2   1.7 (49.9,56.~ [1,2.2];~                3\n",
       " 3  1356    24  77.1  30.5  51.9   3.4 (49.9,56.~ (2.2,5.7~                4\n",
       " 4  1357    24  78.4  22.3  52.6   3.3 (49.9,56.~ (2.2,5.7~                4\n",
       " 5  1358    24  72.5   7.6  45.7   2.2 [40.6,49.~ [1,2.2];~                1\n",
       " 6  1360    24  69.7  25.2  50.4   2.2 (49.9,56.~ [1,2.2];~                3\n",
       " 7  1361    24  72.3  19    48.5   2.2 [40.6,49.~ [1,2.2];~                1\n",
       " 8  1363    24  69.9  23.8  47     2.2 [40.6,49.~ [1,2.2];~                1\n",
       " 9  1364    24  69.7  25.6  45.8   2.2 [40.6,49.~ [1,2.2];~                1\n",
       "10  1366    24  81     7.2  49.8   3.4 [40.6,49.~ (2.2,5.7~                2\n",
       "# ... with 228 more rows, and 3 more variables: subsidy_grp <chr>,\n",
       "#   subsidy <dbl>, y_subsidy <dbl>\n",
       "\n",
       "$ysubsidy\n",
       "[1] \"y_subsidy\"\n"
      ]
     },
     "metadata": {},
     "output_type": "display_data"
    }
   ],
   "source": [
    "options(repr.matrix.max.rows=5, repr.matrix.max.cols=20)\n",
    "do.call(f.subsidy.y.str.h0wlt, list.subsidy.y.params.h0wlt)"
   ]
  },
  {
   "cell_type": "markdown",
   "metadata": {},
   "source": [
    "## Testing Planer Optimization At Single CES Parameter Value\n",
    "\n",
    "Single CES Planer Optimization problem. "
   ]
  },
  {
   "cell_type": "code",
   "execution_count": 204,
   "metadata": {},
   "outputs": [],
   "source": [
    "options(warn=-1) # Suppress Warning Messages\n",
    "# optim_wrapper() from C:\\Users\\fan\\R4Econ\\optimization\\planer\\ces\\cesoptimizer.R\n",
    "param.ces <- -100"
   ]
  },
  {
   "cell_type": "code",
   "execution_count": 205,
   "metadata": {},
   "outputs": [],
   "source": [
    "# test i4xy\n",
    "res.opti.test.i4xy <- optim_wrapper(sca.subsidy.frac.init = (numeric((sca.subsidy.groups.i4xy-1))+1), \n",
    "                                    param.ces = param.ces, f.subsidy.y.str = f.subsidy.y.str.i4xy,\n",
    "                                    list.subsidy.y.params.other = list.subsidy.y.params.other.default.i4xy)"
   ]
  },
  {
   "cell_type": "code",
   "execution_count": 206,
   "metadata": {},
   "outputs": [],
   "source": [
    "# test h0\n",
    "res.opti.test.h0 <- optim_wrapper(sca.subsidy.frac.init = (numeric((sca.subsidy.groups.h0-1))+1), \n",
    "                                  param.ces = param.ces, f.subsidy.y.str = f.subsidy.y.str.h0,\n",
    "                                  list.subsidy.y.params.other = list.subsidy.y.params.other.default.h0)"
   ]
  },
  {
   "cell_type": "code",
   "execution_count": 207,
   "metadata": {},
   "outputs": [],
   "source": [
    "# test h0wlt\n",
    "res.opti.test.h0wlt <- optim_wrapper(sca.subsidy.frac.init = (numeric((sca.subsidy.groups.h0wlt-1))+1), \n",
    "                                     param.ces = param.ces, f.subsidy.y.str = f.subsidy.y.str.h0wlt,\n",
    "                                     list.subsidy.y.params.other = list.subsidy.y.params.other.default.h0wlt)"
   ]
  },
  {
   "cell_type": "code",
   "execution_count": 208,
   "metadata": {},
   "outputs": [
    {
     "data": {
      "text/html": [
       "<table>\n",
       "<thead><tr><th></th><th scope=col>df_h0_cebu</th><th scope=col>df_h0wlt_guat</th><th scope=col>df_i4xy</th></tr></thead>\n",
       "<tbody>\n",
       "\t<tr><th scope=row>convergence</th><td>   0.0000000 </td><td> 0.000000e+00</td><td>   0.00000000</td></tr>\n",
       "\t<tr><th scope=row>counts.function</th><td>  18.0000000 </td><td> 1.140000e+02</td><td>  69.00000000</td></tr>\n",
       "\t<tr><th scope=row>counts.gradient</th><td>          NA </td><td>           NA</td><td>           NA</td></tr>\n",
       "\t<tr><th scope=row>par.frac.grpsize.v1</th><td>  31.0000000 </td><td> 1.060000e+02</td><td>   1.00000000</td></tr>\n",
       "\t<tr><th scope=row>par.frac.grpsize.v2</th><td>  29.0000000 </td><td> 7.900000e+01</td><td>   1.00000000</td></tr>\n",
       "\t<tr><th scope=row>par.frac.grpsize.v3</th><td>          NA </td><td> 7.500000e+01</td><td>   1.00000000</td></tr>\n",
       "\t<tr><th scope=row>par.frac.grpsize.v4</th><td>          NA </td><td> 1.000000e+02</td><td>           NA</td></tr>\n",
       "\t<tr><th scope=row>par.frac.lvl.v1</th><td>  44.1502877 </td><td> 4.774593e+01</td><td>  28.08922207</td></tr>\n",
       "\t<tr><th scope=row>par.frac.lvl.v2</th><td>  14.8738304 </td><td> 2.801595e+01</td><td>  31.54196108</td></tr>\n",
       "\t<tr><th scope=row>par.frac.lvl.v3</th><td>          NA </td><td> 3.669750e+01</td><td>  30.36881685</td></tr>\n",
       "\t<tr><th scope=row>par.frac.lvl.v4</th><td>          NA </td><td> 7.733593e+00</td><td>           NA</td></tr>\n",
       "\t<tr><th scope=row>par.frac.norm.v1</th><td>   0.7480042 </td><td> 3.972440e-01</td><td>   0.31210247</td></tr>\n",
       "\t<tr><th scope=row>par.frac.norm.v2</th><td>   0.2519958 </td><td> 2.330914e-01</td><td>   0.35046623</td></tr>\n",
       "\t<tr><th scope=row>par.frac.norm.v3</th><td>          NA </td><td> 3.053215e-01</td><td>   0.33743130</td></tr>\n",
       "\t<tr><th scope=row>par.frac.norm.v4</th><td>          NA </td><td> 6.434314e-02</td><td>           NA</td></tr>\n",
       "\t<tr><th scope=row>par.frac.sum</th><td>   1.0000000 </td><td> 1.000000e+00</td><td>   1.00000000</td></tr>\n",
       "\t<tr><th scope=row>par.frac.v1</th><td>   0.7603661 </td><td> 4.686175e-01</td><td>   0.31210247</td></tr>\n",
       "\t<tr><th scope=row>par.frac.v2</th><td>   0.2396339 </td><td> 2.049315e-01</td><td>   0.35046623</td></tr>\n",
       "\t<tr><th scope=row>par.frac.v3</th><td>          NA </td><td> 2.548437e-01</td><td>   0.33743130</td></tr>\n",
       "\t<tr><th scope=row>par.frac.v4</th><td>          NA </td><td> 7.160734e-02</td><td>           NA</td></tr>\n",
       "\t<tr><th scope=row>par.v1</th><td>   1.1546875 </td><td>-1.256953e-01</td><td>  -0.79030834</td></tr>\n",
       "\t<tr><th scope=row>par.v2</th><td>          NA </td><td>-4.656044e-01</td><td>   0.03790244</td></tr>\n",
       "\t<tr><th scope=row>par.v3</th><td>          NA </td><td> 1.269453e+00</td><td>           NA</td></tr>\n",
       "\t<tr><th scope=row>param.ces</th><td>-100.0000000 </td><td>-1.000000e+02</td><td>-100.00000000</td></tr>\n",
       "\t<tr><th scope=row>sca.subsidy.frac.init.v1</th><td>   1.0000000 </td><td> 1.000000e+00</td><td>   1.00000000</td></tr>\n",
       "\t<tr><th scope=row>sca.subsidy.frac.init.v2</th><td>          NA </td><td> 1.000000e+00</td><td>   1.00000000</td></tr>\n",
       "\t<tr><th scope=row>sca.subsidy.frac.init.v3</th><td>          NA </td><td> 1.000000e+00</td><td>           NA</td></tr>\n",
       "\t<tr><th scope=row>subsidy.total</th><td>1800.0000000 </td><td> 1.080000e+04</td><td>  90.00000000</td></tr>\n",
       "\t<tr><th scope=row>value</th><td> -75.1773266 </td><td>-7.268970e+01</td><td> -89.69101486</td></tr>\n",
       "\t<tr><th scope=row>y.subsidy.cebu.grp.idx.h0.g1.mean</th><td>  82.1839384 </td><td>           NA</td><td>           NA</td></tr>\n",
       "\t<tr><th scope=row>y.subsidy.cebu.grp.idx.h0.g1.min</th><td>  72.6473174 </td><td>           NA</td><td>           NA</td></tr>\n",
       "\t<tr><th scope=row>y.subsidy.cebu.grp.idx.h0.g1.sd</th><td>   4.9491762 </td><td>           NA</td><td>           NA</td></tr>\n",
       "\t<tr><th scope=row>y.subsidy.cebu.grp.idx.h0.g2.mean</th><td>  81.0825961 </td><td>           NA</td><td>           NA</td></tr>\n",
       "\t<tr><th scope=row>y.subsidy.cebu.grp.idx.h0.g2.min</th><td>  73.2604294 </td><td>           NA</td><td>           NA</td></tr>\n",
       "\t<tr><th scope=row>y.subsidy.cebu.grp.idx.h0.g2.sd</th><td>   4.1702754 </td><td>           NA</td><td>           NA</td></tr>\n",
       "\t<tr><th scope=row>y.subsidy.grp.idx.i4xy.g1.mean</th><td>          NA </td><td>           NA</td><td>  90.20895734</td></tr>\n",
       "\t<tr><th scope=row>y.subsidy.grp.idx.i4xy.g1.min</th><td>          NA </td><td>           NA</td><td>  89.27763914</td></tr>\n",
       "\t<tr><th scope=row>y.subsidy.grp.idx.i4xy.g1.sd</th><td>          NA </td><td>           NA</td><td>   1.15258502</td></tr>\n",
       "\t<tr><th scope=row>y.subsidy.grp.idx.i4xy.g2.mean</th><td>          NA </td><td>           NA</td><td>  89.91565624</td></tr>\n",
       "\t<tr><th scope=row>y.subsidy.grp.idx.i4xy.g2.min</th><td>          NA </td><td>           NA</td><td>  88.90955230</td></tr>\n",
       "\t<tr><th scope=row>y.subsidy.grp.idx.i4xy.g2.sd</th><td>          NA </td><td>           NA</td><td>   0.81166456</td></tr>\n",
       "\t<tr><th scope=row>y.subsidy.grp.idx.i4xy.g3.mean</th><td>          NA </td><td>           NA</td><td>  90.33687256</td></tr>\n",
       "\t<tr><th scope=row>y.subsidy.grp.idx.i4xy.g3.min</th><td>          NA </td><td>           NA</td><td>  88.83677728</td></tr>\n",
       "\t<tr><th scope=row>y.subsidy.grp.idx.i4xy.g3.sd</th><td>          NA </td><td>           NA</td><td>   1.43347096</td></tr>\n",
       "\t<tr><th scope=row>y.subsidy.guat.grp.idx.h0wlt.g1.mean</th><td>          NA </td><td> 7.726439e+01</td><td>           NA</td></tr>\n",
       "\t<tr><th scope=row>y.subsidy.guat.grp.idx.h0wlt.g1.min</th><td>          NA </td><td> 6.958054e+01</td><td>           NA</td></tr>\n",
       "\t<tr><th scope=row>y.subsidy.guat.grp.idx.h0wlt.g1.sd</th><td>          NA </td><td> 2.953343e+00</td><td>           NA</td></tr>\n",
       "\t<tr><th scope=row>y.subsidy.guat.grp.idx.h0wlt.g2.mean</th><td>          NA </td><td> 7.734865e+01</td><td>           NA</td></tr>\n",
       "\t<tr><th scope=row>y.subsidy.guat.grp.idx.h0wlt.g2.min</th><td>          NA </td><td> 7.002722e+01</td><td>           NA</td></tr>\n",
       "\t<tr><th scope=row>y.subsidy.guat.grp.idx.h0wlt.g2.sd</th><td>          NA </td><td> 3.551695e+00</td><td>           NA</td></tr>\n",
       "\t<tr><th scope=row>y.subsidy.guat.grp.idx.h0wlt.g3.mean</th><td>          NA </td><td> 7.904263e+01</td><td>           NA</td></tr>\n",
       "\t<tr><th scope=row>y.subsidy.guat.grp.idx.h0wlt.g3.min</th><td>          NA </td><td> 6.994319e+01</td><td>           NA</td></tr>\n",
       "\t<tr><th scope=row>y.subsidy.guat.grp.idx.h0wlt.g3.sd</th><td>          NA </td><td> 3.025723e+00</td><td>           NA</td></tr>\n",
       "\t<tr><th scope=row>y.subsidy.guat.grp.idx.h0wlt.g4.mean</th><td>          NA </td><td> 7.640375e+01</td><td>           NA</td></tr>\n",
       "\t<tr><th scope=row>y.subsidy.guat.grp.idx.h0wlt.g4.min</th><td>          NA </td><td> 7.076781e+01</td><td>           NA</td></tr>\n",
       "\t<tr><th scope=row>y.subsidy.guat.grp.idx.h0wlt.g4.sd</th><td>          NA </td><td> 2.801728e+00</td><td>           NA</td></tr>\n",
       "\t<tr><th scope=row>y_subsidy.mean</th><td>  81.6622499 </td><td> 7.741397e+01</td><td>  90.15382871</td></tr>\n",
       "\t<tr><th scope=row>y_subsidy.min</th><td>  72.6473174 </td><td> 6.958054e+01</td><td>  88.83677728</td></tr>\n",
       "\t<tr><th scope=row>y_subsidy.sd</th><td>   4.5898643 </td><td> 3.184311e+00</td><td>   1.14383475</td></tr>\n",
       "</tbody>\n",
       "</table>\n"
      ],
      "text/latex": [
       "\\begin{tabular}{r|lll}\n",
       "  & df\\_h0\\_cebu & df\\_h0wlt\\_guat & df\\_i4xy\\\\\n",
       "\\hline\n",
       "\tconvergence &    0.0000000  &  0.000000e+00 &    0.00000000\\\\\n",
       "\tcounts.function &   18.0000000  &  1.140000e+02 &   69.00000000\\\\\n",
       "\tcounts.gradient &           NA  &            NA &            NA\\\\\n",
       "\tpar.frac.grpsize.v1 &   31.0000000  &  1.060000e+02 &    1.00000000\\\\\n",
       "\tpar.frac.grpsize.v2 &   29.0000000  &  7.900000e+01 &    1.00000000\\\\\n",
       "\tpar.frac.grpsize.v3 &           NA  &  7.500000e+01 &    1.00000000\\\\\n",
       "\tpar.frac.grpsize.v4 &           NA  &  1.000000e+02 &            NA\\\\\n",
       "\tpar.frac.lvl.v1 &   44.1502877  &  4.774593e+01 &   28.08922207\\\\\n",
       "\tpar.frac.lvl.v2 &   14.8738304  &  2.801595e+01 &   31.54196108\\\\\n",
       "\tpar.frac.lvl.v3 &           NA  &  3.669750e+01 &   30.36881685\\\\\n",
       "\tpar.frac.lvl.v4 &           NA  &  7.733593e+00 &            NA\\\\\n",
       "\tpar.frac.norm.v1 &    0.7480042  &  3.972440e-01 &    0.31210247\\\\\n",
       "\tpar.frac.norm.v2 &    0.2519958  &  2.330914e-01 &    0.35046623\\\\\n",
       "\tpar.frac.norm.v3 &           NA  &  3.053215e-01 &    0.33743130\\\\\n",
       "\tpar.frac.norm.v4 &           NA  &  6.434314e-02 &            NA\\\\\n",
       "\tpar.frac.sum &    1.0000000  &  1.000000e+00 &    1.00000000\\\\\n",
       "\tpar.frac.v1 &    0.7603661  &  4.686175e-01 &    0.31210247\\\\\n",
       "\tpar.frac.v2 &    0.2396339  &  2.049315e-01 &    0.35046623\\\\\n",
       "\tpar.frac.v3 &           NA  &  2.548437e-01 &    0.33743130\\\\\n",
       "\tpar.frac.v4 &           NA  &  7.160734e-02 &            NA\\\\\n",
       "\tpar.v1 &    1.1546875  & -1.256953e-01 &   -0.79030834\\\\\n",
       "\tpar.v2 &           NA  & -4.656044e-01 &    0.03790244\\\\\n",
       "\tpar.v3 &           NA  &  1.269453e+00 &            NA\\\\\n",
       "\tparam.ces & -100.0000000  & -1.000000e+02 & -100.00000000\\\\\n",
       "\tsca.subsidy.frac.init.v1 &    1.0000000  &  1.000000e+00 &    1.00000000\\\\\n",
       "\tsca.subsidy.frac.init.v2 &           NA  &  1.000000e+00 &    1.00000000\\\\\n",
       "\tsca.subsidy.frac.init.v3 &           NA  &  1.000000e+00 &            NA\\\\\n",
       "\tsubsidy.total & 1800.0000000  &  1.080000e+04 &   90.00000000\\\\\n",
       "\tvalue &  -75.1773266  & -7.268970e+01 &  -89.69101486\\\\\n",
       "\ty.subsidy.cebu.grp.idx.h0.g1.mean &   82.1839384  &            NA &            NA\\\\\n",
       "\ty.subsidy.cebu.grp.idx.h0.g1.min &   72.6473174  &            NA &            NA\\\\\n",
       "\ty.subsidy.cebu.grp.idx.h0.g1.sd &    4.9491762  &            NA &            NA\\\\\n",
       "\ty.subsidy.cebu.grp.idx.h0.g2.mean &   81.0825961  &            NA &            NA\\\\\n",
       "\ty.subsidy.cebu.grp.idx.h0.g2.min &   73.2604294  &            NA &            NA\\\\\n",
       "\ty.subsidy.cebu.grp.idx.h0.g2.sd &    4.1702754  &            NA &            NA\\\\\n",
       "\ty.subsidy.grp.idx.i4xy.g1.mean &           NA  &            NA &   90.20895734\\\\\n",
       "\ty.subsidy.grp.idx.i4xy.g1.min &           NA  &            NA &   89.27763914\\\\\n",
       "\ty.subsidy.grp.idx.i4xy.g1.sd &           NA  &            NA &    1.15258502\\\\\n",
       "\ty.subsidy.grp.idx.i4xy.g2.mean &           NA  &            NA &   89.91565624\\\\\n",
       "\ty.subsidy.grp.idx.i4xy.g2.min &           NA  &            NA &   88.90955230\\\\\n",
       "\ty.subsidy.grp.idx.i4xy.g2.sd &           NA  &            NA &    0.81166456\\\\\n",
       "\ty.subsidy.grp.idx.i4xy.g3.mean &           NA  &            NA &   90.33687256\\\\\n",
       "\ty.subsidy.grp.idx.i4xy.g3.min &           NA  &            NA &   88.83677728\\\\\n",
       "\ty.subsidy.grp.idx.i4xy.g3.sd &           NA  &            NA &    1.43347096\\\\\n",
       "\ty.subsidy.guat.grp.idx.h0wlt.g1.mean &           NA  &  7.726439e+01 &            NA\\\\\n",
       "\ty.subsidy.guat.grp.idx.h0wlt.g1.min &           NA  &  6.958054e+01 &            NA\\\\\n",
       "\ty.subsidy.guat.grp.idx.h0wlt.g1.sd &           NA  &  2.953343e+00 &            NA\\\\\n",
       "\ty.subsidy.guat.grp.idx.h0wlt.g2.mean &           NA  &  7.734865e+01 &            NA\\\\\n",
       "\ty.subsidy.guat.grp.idx.h0wlt.g2.min &           NA  &  7.002722e+01 &            NA\\\\\n",
       "\ty.subsidy.guat.grp.idx.h0wlt.g2.sd &           NA  &  3.551695e+00 &            NA\\\\\n",
       "\ty.subsidy.guat.grp.idx.h0wlt.g3.mean &           NA  &  7.904263e+01 &            NA\\\\\n",
       "\ty.subsidy.guat.grp.idx.h0wlt.g3.min &           NA  &  6.994319e+01 &            NA\\\\\n",
       "\ty.subsidy.guat.grp.idx.h0wlt.g3.sd &           NA  &  3.025723e+00 &            NA\\\\\n",
       "\ty.subsidy.guat.grp.idx.h0wlt.g4.mean &           NA  &  7.640375e+01 &            NA\\\\\n",
       "\ty.subsidy.guat.grp.idx.h0wlt.g4.min &           NA  &  7.076781e+01 &            NA\\\\\n",
       "\ty.subsidy.guat.grp.idx.h0wlt.g4.sd &           NA  &  2.801728e+00 &            NA\\\\\n",
       "\ty\\_subsidy.mean &   81.6622499  &  7.741397e+01 &   90.15382871\\\\\n",
       "\ty\\_subsidy.min &   72.6473174  &  6.958054e+01 &   88.83677728\\\\\n",
       "\ty\\_subsidy.sd &    4.5898643  &  3.184311e+00 &    1.14383475\\\\\n",
       "\\end{tabular}\n"
      ],
      "text/markdown": [
       "\n",
       "| <!--/--> | df_h0_cebu | df_h0wlt_guat | df_i4xy | \n",
       "|---|---|---|---|---|---|---|---|---|---|---|---|---|---|---|---|---|---|---|---|---|---|---|---|---|---|---|---|---|---|---|---|---|---|---|---|---|---|---|---|---|---|---|---|---|---|---|---|---|---|---|---|---|---|---|---|---|---|---|\n",
       "| convergence |    0.0000000  |  0.000000e+00 |    0.00000000 | \n",
       "| counts.function |   18.0000000  |  1.140000e+02 |   69.00000000 | \n",
       "| counts.gradient |           NA  |            NA |            NA | \n",
       "| par.frac.grpsize.v1 |   31.0000000  |  1.060000e+02 |    1.00000000 | \n",
       "| par.frac.grpsize.v2 |   29.0000000  |  7.900000e+01 |    1.00000000 | \n",
       "| par.frac.grpsize.v3 |           NA  |  7.500000e+01 |    1.00000000 | \n",
       "| par.frac.grpsize.v4 |           NA  |  1.000000e+02 |            NA | \n",
       "| par.frac.lvl.v1 |   44.1502877  |  4.774593e+01 |   28.08922207 | \n",
       "| par.frac.lvl.v2 |   14.8738304  |  2.801595e+01 |   31.54196108 | \n",
       "| par.frac.lvl.v3 |           NA  |  3.669750e+01 |   30.36881685 | \n",
       "| par.frac.lvl.v4 |           NA  |  7.733593e+00 |            NA | \n",
       "| par.frac.norm.v1 |    0.7480042  |  3.972440e-01 |    0.31210247 | \n",
       "| par.frac.norm.v2 |    0.2519958  |  2.330914e-01 |    0.35046623 | \n",
       "| par.frac.norm.v3 |           NA  |  3.053215e-01 |    0.33743130 | \n",
       "| par.frac.norm.v4 |           NA  |  6.434314e-02 |            NA | \n",
       "| par.frac.sum |    1.0000000  |  1.000000e+00 |    1.00000000 | \n",
       "| par.frac.v1 |    0.7603661  |  4.686175e-01 |    0.31210247 | \n",
       "| par.frac.v2 |    0.2396339  |  2.049315e-01 |    0.35046623 | \n",
       "| par.frac.v3 |           NA  |  2.548437e-01 |    0.33743130 | \n",
       "| par.frac.v4 |           NA  |  7.160734e-02 |            NA | \n",
       "| par.v1 |    1.1546875  | -1.256953e-01 |   -0.79030834 | \n",
       "| par.v2 |           NA  | -4.656044e-01 |    0.03790244 | \n",
       "| par.v3 |           NA  |  1.269453e+00 |            NA | \n",
       "| param.ces | -100.0000000  | -1.000000e+02 | -100.00000000 | \n",
       "| sca.subsidy.frac.init.v1 |    1.0000000  |  1.000000e+00 |    1.00000000 | \n",
       "| sca.subsidy.frac.init.v2 |           NA  |  1.000000e+00 |    1.00000000 | \n",
       "| sca.subsidy.frac.init.v3 |           NA  |  1.000000e+00 |            NA | \n",
       "| subsidy.total | 1800.0000000  |  1.080000e+04 |   90.00000000 | \n",
       "| value |  -75.1773266  | -7.268970e+01 |  -89.69101486 | \n",
       "| y.subsidy.cebu.grp.idx.h0.g1.mean |   82.1839384  |            NA |            NA | \n",
       "| y.subsidy.cebu.grp.idx.h0.g1.min |   72.6473174  |            NA |            NA | \n",
       "| y.subsidy.cebu.grp.idx.h0.g1.sd |    4.9491762  |            NA |            NA | \n",
       "| y.subsidy.cebu.grp.idx.h0.g2.mean |   81.0825961  |            NA |            NA | \n",
       "| y.subsidy.cebu.grp.idx.h0.g2.min |   73.2604294  |            NA |            NA | \n",
       "| y.subsidy.cebu.grp.idx.h0.g2.sd |    4.1702754  |            NA |            NA | \n",
       "| y.subsidy.grp.idx.i4xy.g1.mean |           NA  |            NA |   90.20895734 | \n",
       "| y.subsidy.grp.idx.i4xy.g1.min |           NA  |            NA |   89.27763914 | \n",
       "| y.subsidy.grp.idx.i4xy.g1.sd |           NA  |            NA |    1.15258502 | \n",
       "| y.subsidy.grp.idx.i4xy.g2.mean |           NA  |            NA |   89.91565624 | \n",
       "| y.subsidy.grp.idx.i4xy.g2.min |           NA  |            NA |   88.90955230 | \n",
       "| y.subsidy.grp.idx.i4xy.g2.sd |           NA  |            NA |    0.81166456 | \n",
       "| y.subsidy.grp.idx.i4xy.g3.mean |           NA  |            NA |   90.33687256 | \n",
       "| y.subsidy.grp.idx.i4xy.g3.min |           NA  |            NA |   88.83677728 | \n",
       "| y.subsidy.grp.idx.i4xy.g3.sd |           NA  |            NA |    1.43347096 | \n",
       "| y.subsidy.guat.grp.idx.h0wlt.g1.mean |           NA  |  7.726439e+01 |            NA | \n",
       "| y.subsidy.guat.grp.idx.h0wlt.g1.min |           NA  |  6.958054e+01 |            NA | \n",
       "| y.subsidy.guat.grp.idx.h0wlt.g1.sd |           NA  |  2.953343e+00 |            NA | \n",
       "| y.subsidy.guat.grp.idx.h0wlt.g2.mean |           NA  |  7.734865e+01 |            NA | \n",
       "| y.subsidy.guat.grp.idx.h0wlt.g2.min |           NA  |  7.002722e+01 |            NA | \n",
       "| y.subsidy.guat.grp.idx.h0wlt.g2.sd |           NA  |  3.551695e+00 |            NA | \n",
       "| y.subsidy.guat.grp.idx.h0wlt.g3.mean |           NA  |  7.904263e+01 |            NA | \n",
       "| y.subsidy.guat.grp.idx.h0wlt.g3.min |           NA  |  6.994319e+01 |            NA | \n",
       "| y.subsidy.guat.grp.idx.h0wlt.g3.sd |           NA  |  3.025723e+00 |            NA | \n",
       "| y.subsidy.guat.grp.idx.h0wlt.g4.mean |           NA  |  7.640375e+01 |            NA | \n",
       "| y.subsidy.guat.grp.idx.h0wlt.g4.min |           NA  |  7.076781e+01 |            NA | \n",
       "| y.subsidy.guat.grp.idx.h0wlt.g4.sd |           NA  |  2.801728e+00 |            NA | \n",
       "| y_subsidy.mean |   81.6622499  |  7.741397e+01 |   90.15382871 | \n",
       "| y_subsidy.min |   72.6473174  |  6.958054e+01 |   88.83677728 | \n",
       "| y_subsidy.sd |    4.5898643  |  3.184311e+00 |    1.14383475 | \n",
       "\n",
       "\n"
      ],
      "text/plain": [
       "                                     df_h0_cebu   df_h0wlt_guat df_i4xy      \n",
       "convergence                             0.0000000  0.000000e+00    0.00000000\n",
       "counts.function                        18.0000000  1.140000e+02   69.00000000\n",
       "counts.gradient                                NA            NA            NA\n",
       "par.frac.grpsize.v1                    31.0000000  1.060000e+02    1.00000000\n",
       "par.frac.grpsize.v2                    29.0000000  7.900000e+01    1.00000000\n",
       "par.frac.grpsize.v3                            NA  7.500000e+01    1.00000000\n",
       "par.frac.grpsize.v4                            NA  1.000000e+02            NA\n",
       "par.frac.lvl.v1                        44.1502877  4.774593e+01   28.08922207\n",
       "par.frac.lvl.v2                        14.8738304  2.801595e+01   31.54196108\n",
       "par.frac.lvl.v3                                NA  3.669750e+01   30.36881685\n",
       "par.frac.lvl.v4                                NA  7.733593e+00            NA\n",
       "par.frac.norm.v1                        0.7480042  3.972440e-01    0.31210247\n",
       "par.frac.norm.v2                        0.2519958  2.330914e-01    0.35046623\n",
       "par.frac.norm.v3                               NA  3.053215e-01    0.33743130\n",
       "par.frac.norm.v4                               NA  6.434314e-02            NA\n",
       "par.frac.sum                            1.0000000  1.000000e+00    1.00000000\n",
       "par.frac.v1                             0.7603661  4.686175e-01    0.31210247\n",
       "par.frac.v2                             0.2396339  2.049315e-01    0.35046623\n",
       "par.frac.v3                                    NA  2.548437e-01    0.33743130\n",
       "par.frac.v4                                    NA  7.160734e-02            NA\n",
       "par.v1                                  1.1546875 -1.256953e-01   -0.79030834\n",
       "par.v2                                         NA -4.656044e-01    0.03790244\n",
       "par.v3                                         NA  1.269453e+00            NA\n",
       "param.ces                            -100.0000000 -1.000000e+02 -100.00000000\n",
       "sca.subsidy.frac.init.v1                1.0000000  1.000000e+00    1.00000000\n",
       "sca.subsidy.frac.init.v2                       NA  1.000000e+00    1.00000000\n",
       "sca.subsidy.frac.init.v3                       NA  1.000000e+00            NA\n",
       "subsidy.total                        1800.0000000  1.080000e+04   90.00000000\n",
       "value                                 -75.1773266 -7.268970e+01  -89.69101486\n",
       "y.subsidy.cebu.grp.idx.h0.g1.mean      82.1839384            NA            NA\n",
       "y.subsidy.cebu.grp.idx.h0.g1.min       72.6473174            NA            NA\n",
       "y.subsidy.cebu.grp.idx.h0.g1.sd         4.9491762            NA            NA\n",
       "y.subsidy.cebu.grp.idx.h0.g2.mean      81.0825961            NA            NA\n",
       "y.subsidy.cebu.grp.idx.h0.g2.min       73.2604294            NA            NA\n",
       "y.subsidy.cebu.grp.idx.h0.g2.sd         4.1702754            NA            NA\n",
       "y.subsidy.grp.idx.i4xy.g1.mean                 NA            NA   90.20895734\n",
       "y.subsidy.grp.idx.i4xy.g1.min                  NA            NA   89.27763914\n",
       "y.subsidy.grp.idx.i4xy.g1.sd                   NA            NA    1.15258502\n",
       "y.subsidy.grp.idx.i4xy.g2.mean                 NA            NA   89.91565624\n",
       "y.subsidy.grp.idx.i4xy.g2.min                  NA            NA   88.90955230\n",
       "y.subsidy.grp.idx.i4xy.g2.sd                   NA            NA    0.81166456\n",
       "y.subsidy.grp.idx.i4xy.g3.mean                 NA            NA   90.33687256\n",
       "y.subsidy.grp.idx.i4xy.g3.min                  NA            NA   88.83677728\n",
       "y.subsidy.grp.idx.i4xy.g3.sd                   NA            NA    1.43347096\n",
       "y.subsidy.guat.grp.idx.h0wlt.g1.mean           NA  7.726439e+01            NA\n",
       "y.subsidy.guat.grp.idx.h0wlt.g1.min            NA  6.958054e+01            NA\n",
       "y.subsidy.guat.grp.idx.h0wlt.g1.sd             NA  2.953343e+00            NA\n",
       "y.subsidy.guat.grp.idx.h0wlt.g2.mean           NA  7.734865e+01            NA\n",
       "y.subsidy.guat.grp.idx.h0wlt.g2.min            NA  7.002722e+01            NA\n",
       "y.subsidy.guat.grp.idx.h0wlt.g2.sd             NA  3.551695e+00            NA\n",
       "y.subsidy.guat.grp.idx.h0wlt.g3.mean           NA  7.904263e+01            NA\n",
       "y.subsidy.guat.grp.idx.h0wlt.g3.min            NA  6.994319e+01            NA\n",
       "y.subsidy.guat.grp.idx.h0wlt.g3.sd             NA  3.025723e+00            NA\n",
       "y.subsidy.guat.grp.idx.h0wlt.g4.mean           NA  7.640375e+01            NA\n",
       "y.subsidy.guat.grp.idx.h0wlt.g4.min            NA  7.076781e+01            NA\n",
       "y.subsidy.guat.grp.idx.h0wlt.g4.sd             NA  2.801728e+00            NA\n",
       "y_subsidy.mean                         81.6622499  7.741397e+01   90.15382871\n",
       "y_subsidy.min                          72.6473174  6.958054e+01   88.83677728\n",
       "y_subsidy.sd                            4.5898643  3.184311e+00    1.14383475"
      ]
     },
     "metadata": {},
     "output_type": "display_data"
    }
   ],
   "source": [
    "# Display Test Results\n",
    "options(repr.matrix.max.rows=60, repr.matrix.max.cols=20)\n",
    "df.test.results <- list(df_i4xy=res.opti.test.i4xy,\n",
    "                        df_h0_cebu=res.opti.test.h0, \n",
    "                        df_h0wlt_guat=res.opti.test.h0wlt)\n",
    "# Show Results From Tests\n",
    "# list.names = list of list first level names\n",
    "# list.of.list.names = list of list second level names\n",
    "as.data.frame(df.test.results) %>%\n",
    "    gather(variable, value) %>%\n",
    "    separate(variable, c('list.names', 'list.of.list.names'),\n",
    "             sep = \"\\\\.\", extra = \"merge\") %>%\n",
    "    spread(list.names, value) %>%\n",
    "    column_to_rownames(var='list.of.list.names')"
   ]
  },
  {
   "cell_type": "markdown",
   "metadata": {},
   "source": [
    "## Optimization Many CES Parameters\n",
    "\n",
    "Now We Loop over different CES Parameters and Analyze Optimal Policies."
   ]
  },
  {
   "cell_type": "code",
   "execution_count": 209,
   "metadata": {},
   "outputs": [],
   "source": [
    "# Initialize\n",
    "# C:\\Users\\fan\\R4Econ\\optimization\\planer\\ces\\cesplanerobj.R\n",
    "vec.param.ces <- f_ces_params_vec(3, 6)\n",
    "options(warn=-1) # Suppress Warning Messages"
   ]
  },
  {
   "cell_type": "code",
   "execution_count": 210,
   "metadata": {},
   "outputs": [
    {
     "data": {
      "text/html": [
       "<table>\n",
       "<tbody>\n",
       "\t<tr><th scope=row>param.ces</th><td>-160.0000000</td><td>-58.0000000 </td><td>-21.0000000 </td><td>-8.0000000  </td><td>-3.0000000  </td><td>-1.0000000  </td><td>-0.0100000  </td><td>0.9900000   </td></tr>\n",
       "\t<tr><th scope=row>par.frac.norm.v1</th><td>   0.3028461</td><td>  0.3143323 </td><td>  0.3201091 </td><td> 0.3278539  </td><td> 0.3353681  </td><td> 0.3405066  </td><td> 0.3436284  </td><td>0.3480063   </td></tr>\n",
       "\t<tr><th scope=row>par.frac.norm.v2</th><td>   0.3538148</td><td>  0.3506671 </td><td>  0.3495459 </td><td> 0.3454204  </td><td> 0.3410788  </td><td> 0.3380481  </td><td> 0.3361046  </td><td>0.3333661   </td></tr>\n",
       "\t<tr><th scope=row>par.frac.norm.v3</th><td>   0.3433392</td><td>  0.3350006 </td><td>  0.3303449 </td><td> 0.3267257  </td><td> 0.3235530  </td><td> 0.3214454  </td><td> 0.3202670  </td><td>0.3186275   </td></tr>\n",
       "</tbody>\n",
       "</table>\n"
      ],
      "text/latex": [
       "\\begin{tabular}{r|llllllll}\n",
       "\tparam.ces & -160.0000000 & -58.0000000  & -21.0000000  & -8.0000000   & -3.0000000   & -1.0000000   & -0.0100000   & 0.9900000   \\\\\n",
       "\tpar.frac.norm.v1 &    0.3028461 &   0.3143323  &   0.3201091  &  0.3278539   &  0.3353681   &  0.3405066   &  0.3436284   & 0.3480063   \\\\\n",
       "\tpar.frac.norm.v2 &    0.3538148 &   0.3506671  &   0.3495459  &  0.3454204   &  0.3410788   &  0.3380481   &  0.3361046   & 0.3333661   \\\\\n",
       "\tpar.frac.norm.v3 &    0.3433392 &   0.3350006  &   0.3303449  &  0.3267257   &  0.3235530   &  0.3214454   &  0.3202670   & 0.3186275   \\\\\n",
       "\\end{tabular}\n"
      ],
      "text/markdown": [
       "\n",
       "| param.ces | -160.0000000 | -58.0000000  | -21.0000000  | -8.0000000   | -3.0000000   | -1.0000000   | -0.0100000   | 0.9900000    | \n",
       "| par.frac.norm.v1 |    0.3028461 |   0.3143323  |   0.3201091  |  0.3278539   |  0.3353681   |  0.3405066   |  0.3436284   | 0.3480063    | \n",
       "| par.frac.norm.v2 |    0.3538148 |   0.3506671  |   0.3495459  |  0.3454204   |  0.3410788   |  0.3380481   |  0.3361046   | 0.3333661    | \n",
       "| par.frac.norm.v3 |    0.3433392 |   0.3350006  |   0.3303449  |  0.3267257   |  0.3235530   |  0.3214454   |  0.3202670   | 0.3186275    | \n",
       "\n",
       "\n"
      ],
      "text/plain": [
       "                 [,1]         [,2]        [,3]        [,4]       [,5]      \n",
       "param.ces        -160.0000000 -58.0000000 -21.0000000 -8.0000000 -3.0000000\n",
       "par.frac.norm.v1    0.3028461   0.3143323   0.3201091  0.3278539  0.3353681\n",
       "par.frac.norm.v2    0.3538148   0.3506671   0.3495459  0.3454204  0.3410788\n",
       "par.frac.norm.v3    0.3433392   0.3350006   0.3303449  0.3267257  0.3235530\n",
       "                 [,6]       [,7]       [,8]     \n",
       "param.ces        -1.0000000 -0.0100000 0.9900000\n",
       "par.frac.norm.v1  0.3405066  0.3436284 0.3480063\n",
       "par.frac.norm.v2  0.3380481  0.3361046 0.3333661\n",
       "par.frac.norm.v3  0.3214454  0.3202670 0.3186275"
      ]
     },
     "metadata": {},
     "output_type": "display_data"
    },
    {
     "data": {},
     "metadata": {},
     "output_type": "display_data"
    },
    {
     "data": {
      "image/png": "[encoded data removed]",
      "text/plain": [
       "plot without title"
      ]
     },
     "metadata": {},
     "output_type": "display_data"
    }
   ],
   "source": [
    "# Call i4xy\n",
    "df.ces.opti.i4xy <- bind_rows(lapply(vec.param.ces, optim_wrapper, \n",
    "                                list.subsidy.y.params.other = list.subsidy.y.params.other.default.i4xy,\n",
    "                                sca.subsidy.frac.init = (numeric((sca.subsidy.groups.i4xy-1))+1), \n",
    "                                f.subsidy.y.str = 'f_subsidy_y_cd')) %>% \n",
    "                    select(param.ces, matches('par.frac.norm.v'))\n",
    "t(df.ces.opti.i4xy)\n",
    "# Graph\n",
    "options(repr.plot.width = 12, repr.plot.height = 3)\n",
    "str.title <- 'Three Individuals'\n",
    "str.captions <- 'Jitter/Random Guatemala Cebu Data\\nRelative Subsidy Individuals Normalized'\n",
    "graphf.ces.opti.subsidy(df.ces.opti=df.ces.opti.i4xy,\n",
    "                        sca.subsidy.groups = list.subsidy.y.params.other.default.i4xy$sca.subsidy.groups,\n",
    "                        vec.subsidy.grpsize =  list.subsidy.y.params.other.default.i4xy$vec.subsidy.grpsize, \n",
    "                        str.title=str.title, str.captions=str.captions)"
   ]
  },
  {
   "cell_type": "code",
   "execution_count": 211,
   "metadata": {},
   "outputs": [
    {
     "data": {
      "text/html": [
       "<table>\n",
       "<tbody>\n",
       "\t<tr><th scope=row>param.ces</th><td>-160.000000  </td><td> -58.0000000 </td><td> -21.0000000 </td><td>  -8.0000000 </td><td>  -3.0000000 </td><td>  -1.0000000 </td><td>  -0.0100000 </td><td> 9.900000e-01</td></tr>\n",
       "\t<tr><th scope=row>subsidy.total</th><td>1800.000000  </td><td>1800.0000000 </td><td>1800.0000000 </td><td>1800.0000000 </td><td>1800.0000000 </td><td>1800.0000000 </td><td>1800.0000000 </td><td> 1.800000e+03</td></tr>\n",
       "\t<tr><th scope=row>par.frac.sum</th><td>   1.000000  </td><td>   1.0000000 </td><td>   1.0000000 </td><td>   1.0000000 </td><td>   1.0000000 </td><td>   1.0000000 </td><td>   1.0000000 </td><td> 1.000000e+00</td></tr>\n",
       "\t<tr><th scope=row>value</th><td> -72.865213  </td><td> -76.4888863 </td><td> -79.2232660 </td><td> -80.8119194 </td><td> -81.4997430 </td><td> -81.7852346 </td><td> -81.9293075 </td><td>-8.207723e+01</td></tr>\n",
       "\t<tr><th scope=row>counts.function</th><td>  40.000000  </td><td>  14.0000000 </td><td>  22.0000000 </td><td>  22.0000000 </td><td>  20.0000000 </td><td>  20.0000000 </td><td>  24.0000000 </td><td> 2.000000e+01</td></tr>\n",
       "\t<tr><th scope=row>counts.gradient</th><td>         NA  </td><td>          NA </td><td>          NA </td><td>          NA </td><td>          NA </td><td>          NA </td><td>          NA </td><td>           NA</td></tr>\n",
       "\t<tr><th scope=row>convergence</th><td>   0.000000  </td><td>   0.0000000 </td><td>   0.0000000 </td><td>   0.0000000 </td><td>   0.0000000 </td><td>   0.0000000 </td><td>   0.0000000 </td><td> 0.000000e+00</td></tr>\n",
       "\t<tr><th scope=row>sca.subsidy.frac.init.v1</th><td>   1.000000  </td><td>   1.0000000 </td><td>   1.0000000 </td><td>   1.0000000 </td><td>   1.0000000 </td><td>   1.0000000 </td><td>   1.0000000 </td><td> 1.000000e+00</td></tr>\n",
       "\t<tr><th scope=row>par.v1</th><td>   1.341290  </td><td>   1.0125000 </td><td>   0.6890625 </td><td>   0.4234375 </td><td>   0.2406250 </td><td>   0.1312500 </td><td>   0.0718750 </td><td>-8.881784e-16</td></tr>\n",
       "\t<tr><th scope=row>par.frac.v1</th><td>   0.792702  </td><td>   0.7335091 </td><td>   0.6657583 </td><td>   0.6043055 </td><td>   0.5598677 </td><td>   0.5327655 </td><td>   0.5179610 </td><td> 5.000000e-01</td></tr>\n",
       "\t<tr><th scope=row>par.frac.v2</th><td>   0.207298  </td><td>   0.2664909 </td><td>   0.3342417 </td><td>   0.3956945 </td><td>   0.4401323 </td><td>   0.4672345 </td><td>   0.4820390 </td><td> 5.000000e-01</td></tr>\n",
       "\t<tr><th scope=row>par.frac.grpsize.v1</th><td>  31.000000  </td><td>  31.0000000 </td><td>  31.0000000 </td><td>  31.0000000 </td><td>  31.0000000 </td><td>  31.0000000 </td><td>  31.0000000 </td><td> 3.100000e+01</td></tr>\n",
       "\t<tr><th scope=row>par.frac.grpsize.v2</th><td>  29.000000  </td><td>  29.0000000 </td><td>  29.0000000 </td><td>  29.0000000 </td><td>  29.0000000 </td><td>  29.0000000 </td><td>  29.0000000 </td><td> 2.900000e+01</td></tr>\n",
       "\t<tr><th scope=row>par.frac.lvl.v1</th><td>  46.027861  </td><td>  42.5908520 </td><td>  38.6569360 </td><td>  35.0887076 </td><td>  32.5084451 </td><td>  30.9347696 </td><td>  30.0751559 </td><td> 2.903226e+01</td></tr>\n",
       "\t<tr><th scope=row>par.frac.lvl.v2</th><td>  12.866769  </td><td>  16.5408134 </td><td>  20.7460339 </td><td>  24.5603470 </td><td>  27.3185587 </td><td>  29.0007635 </td><td>  29.9196609 </td><td> 3.103448e+01</td></tr>\n",
       "\t<tr><th scope=row>par.frac.norm.v1</th><td>   0.781529  </td><td>   0.7202715 </td><td>   0.6507576 </td><td>   0.5882525 </td><td>   0.5433741 </td><td>   0.5161341 </td><td>   0.5012959 </td><td> 4.833333e-01</td></tr>\n",
       "\t<tr><th scope=row>par.frac.norm.v2</th><td>   0.218471  </td><td>   0.2797285 </td><td>   0.3492424 </td><td>   0.4117475 </td><td>   0.4566259 </td><td>   0.4838659 </td><td>   0.4987041 </td><td> 5.166667e-01</td></tr>\n",
       "\t<tr><th scope=row>y.subsidy.cebu.grp.idx.h0.g1.mean</th><td>  82.401058  </td><td>  81.9988793 </td><td>  81.5113529 </td><td>  81.0406641 </td><td>  80.6812026 </td><td>  80.4532733 </td><td>  80.3257883 </td><td> 8.016815e+01</td></tr>\n",
       "\t<tr><th scope=row>y.subsidy.cebu.grp.idx.h0.g1.min</th><td>  72.865213  </td><td>  72.4610489 </td><td>  71.9678225 </td><td>  71.4879839 </td><td>  71.1189707 </td><td>  70.8837769 </td><td>  70.7518066 </td><td> 7.058820e+01</td></tr>\n",
       "\t<tr><th scope=row>y.subsidy.cebu.grp.idx.h0.g1.sd</th><td>   4.967738  </td><td>   4.9334231 </td><td>   4.8923003 </td><td>   4.8532777 </td><td>   4.8240670 </td><td>   4.8058680 </td><td>   4.7958132 </td><td> 4.783515e+00</td></tr>\n",
       "\t<tr><th scope=row>y.subsidy.cebu.grp.idx.h0.g2.mean</th><td>  80.588805  </td><td>  81.4694297 </td><td>  82.3659257 </td><td>  83.0976445 </td><td>  83.5869991 </td><td>  83.8711492 </td><td>  84.0221529 </td><td> 8.420157e+01</td></tr>\n",
       "\t<tr><th scope=row>y.subsidy.cebu.grp.idx.h0.g2.min</th><td>  72.865215  </td><td>  73.5726715 </td><td>  74.3043684 </td><td>  74.9090605 </td><td>  75.3167992 </td><td>  75.5546862 </td><td>  75.6814252 </td><td> 7.583229e+01</td></tr>\n",
       "\t<tr><th scope=row>y.subsidy.cebu.grp.idx.h0.g2.sd</th><td>   4.148556  </td><td>   4.1894155 </td><td>   4.2398619 </td><td>   4.2862443 </td><td>   4.3193789 </td><td>   4.3392848 </td><td>   4.3500437 </td><td> 4.362979e+00</td></tr>\n",
       "\t<tr><th scope=row>y_subsidy.mean</th><td>  81.542622  </td><td>  81.7480874 </td><td>  81.9161505 </td><td>  82.0150233 </td><td>  82.0576326 </td><td>  82.0722671 </td><td>  82.0766979 </td><td> 8.207872e+01</td></tr>\n",
       "\t<tr><th scope=row>y_subsidy.sd</th><td>   4.648000  </td><td>   4.5633164 </td><td>   4.5745189 </td><td>   4.6691830 </td><td>   4.7808186 </td><td>   4.8648970 </td><td>   4.9156270 </td><td> 4.981550e+00</td></tr>\n",
       "\t<tr><th scope=row>y_subsidy.min</th><td>  72.865213  </td><td>  72.4610489 </td><td>  71.9678225 </td><td>  71.4879839 </td><td>  71.1189707 </td><td>  70.8837769 </td><td>  70.7518066 </td><td> 7.058820e+01</td></tr>\n",
       "</tbody>\n",
       "</table>\n"
      ],
      "text/latex": [
       "\\begin{tabular}{r|llllllll}\n",
       "\tparam.ces & -160.000000   &  -58.0000000  &  -21.0000000  &   -8.0000000  &   -3.0000000  &   -1.0000000  &   -0.0100000  &  9.900000e-01\\\\\n",
       "\tsubsidy.total & 1800.000000   & 1800.0000000  & 1800.0000000  & 1800.0000000  & 1800.0000000  & 1800.0000000  & 1800.0000000  &  1.800000e+03\\\\\n",
       "\tpar.frac.sum &    1.000000   &    1.0000000  &    1.0000000  &    1.0000000  &    1.0000000  &    1.0000000  &    1.0000000  &  1.000000e+00\\\\\n",
       "\tvalue &  -72.865213   &  -76.4888863  &  -79.2232660  &  -80.8119194  &  -81.4997430  &  -81.7852346  &  -81.9293075  & -8.207723e+01\\\\\n",
       "\tcounts.function &   40.000000   &   14.0000000  &   22.0000000  &   22.0000000  &   20.0000000  &   20.0000000  &   24.0000000  &  2.000000e+01\\\\\n",
       "\tcounts.gradient &          NA   &           NA  &           NA  &           NA  &           NA  &           NA  &           NA  &            NA\\\\\n",
       "\tconvergence &    0.000000   &    0.0000000  &    0.0000000  &    0.0000000  &    0.0000000  &    0.0000000  &    0.0000000  &  0.000000e+00\\\\\n",
       "\tsca.subsidy.frac.init.v1 &    1.000000   &    1.0000000  &    1.0000000  &    1.0000000  &    1.0000000  &    1.0000000  &    1.0000000  &  1.000000e+00\\\\\n",
       "\tpar.v1 &    1.341290   &    1.0125000  &    0.6890625  &    0.4234375  &    0.2406250  &    0.1312500  &    0.0718750  & -8.881784e-16\\\\\n",
       "\tpar.frac.v1 &    0.792702   &    0.7335091  &    0.6657583  &    0.6043055  &    0.5598677  &    0.5327655  &    0.5179610  &  5.000000e-01\\\\\n",
       "\tpar.frac.v2 &    0.207298   &    0.2664909  &    0.3342417  &    0.3956945  &    0.4401323  &    0.4672345  &    0.4820390  &  5.000000e-01\\\\\n",
       "\tpar.frac.grpsize.v1 &   31.000000   &   31.0000000  &   31.0000000  &   31.0000000  &   31.0000000  &   31.0000000  &   31.0000000  &  3.100000e+01\\\\\n",
       "\tpar.frac.grpsize.v2 &   29.000000   &   29.0000000  &   29.0000000  &   29.0000000  &   29.0000000  &   29.0000000  &   29.0000000  &  2.900000e+01\\\\\n",
       "\tpar.frac.lvl.v1 &   46.027861   &   42.5908520  &   38.6569360  &   35.0887076  &   32.5084451  &   30.9347696  &   30.0751559  &  2.903226e+01\\\\\n",
       "\tpar.frac.lvl.v2 &   12.866769   &   16.5408134  &   20.7460339  &   24.5603470  &   27.3185587  &   29.0007635  &   29.9196609  &  3.103448e+01\\\\\n",
       "\tpar.frac.norm.v1 &    0.781529   &    0.7202715  &    0.6507576  &    0.5882525  &    0.5433741  &    0.5161341  &    0.5012959  &  4.833333e-01\\\\\n",
       "\tpar.frac.norm.v2 &    0.218471   &    0.2797285  &    0.3492424  &    0.4117475  &    0.4566259  &    0.4838659  &    0.4987041  &  5.166667e-01\\\\\n",
       "\ty.subsidy.cebu.grp.idx.h0.g1.mean &   82.401058   &   81.9988793  &   81.5113529  &   81.0406641  &   80.6812026  &   80.4532733  &   80.3257883  &  8.016815e+01\\\\\n",
       "\ty.subsidy.cebu.grp.idx.h0.g1.min &   72.865213   &   72.4610489  &   71.9678225  &   71.4879839  &   71.1189707  &   70.8837769  &   70.7518066  &  7.058820e+01\\\\\n",
       "\ty.subsidy.cebu.grp.idx.h0.g1.sd &    4.967738   &    4.9334231  &    4.8923003  &    4.8532777  &    4.8240670  &    4.8058680  &    4.7958132  &  4.783515e+00\\\\\n",
       "\ty.subsidy.cebu.grp.idx.h0.g2.mean &   80.588805   &   81.4694297  &   82.3659257  &   83.0976445  &   83.5869991  &   83.8711492  &   84.0221529  &  8.420157e+01\\\\\n",
       "\ty.subsidy.cebu.grp.idx.h0.g2.min &   72.865215   &   73.5726715  &   74.3043684  &   74.9090605  &   75.3167992  &   75.5546862  &   75.6814252  &  7.583229e+01\\\\\n",
       "\ty.subsidy.cebu.grp.idx.h0.g2.sd &    4.148556   &    4.1894155  &    4.2398619  &    4.2862443  &    4.3193789  &    4.3392848  &    4.3500437  &  4.362979e+00\\\\\n",
       "\ty\\_subsidy.mean &   81.542622   &   81.7480874  &   81.9161505  &   82.0150233  &   82.0576326  &   82.0722671  &   82.0766979  &  8.207872e+01\\\\\n",
       "\ty\\_subsidy.sd &    4.648000   &    4.5633164  &    4.5745189  &    4.6691830  &    4.7808186  &    4.8648970  &    4.9156270  &  4.981550e+00\\\\\n",
       "\ty\\_subsidy.min &   72.865213   &   72.4610489  &   71.9678225  &   71.4879839  &   71.1189707  &   70.8837769  &   70.7518066  &  7.058820e+01\\\\\n",
       "\\end{tabular}\n"
      ],
      "text/markdown": [
       "\n",
       "| param.ces | -160.000000   |  -58.0000000  |  -21.0000000  |   -8.0000000  |   -3.0000000  |   -1.0000000  |   -0.0100000  |  9.900000e-01 | \n",
       "| subsidy.total | 1800.000000   | 1800.0000000  | 1800.0000000  | 1800.0000000  | 1800.0000000  | 1800.0000000  | 1800.0000000  |  1.800000e+03 | \n",
       "| par.frac.sum |    1.000000   |    1.0000000  |    1.0000000  |    1.0000000  |    1.0000000  |    1.0000000  |    1.0000000  |  1.000000e+00 | \n",
       "| value |  -72.865213   |  -76.4888863  |  -79.2232660  |  -80.8119194  |  -81.4997430  |  -81.7852346  |  -81.9293075  | -8.207723e+01 | \n",
       "| counts.function |   40.000000   |   14.0000000  |   22.0000000  |   22.0000000  |   20.0000000  |   20.0000000  |   24.0000000  |  2.000000e+01 | \n",
       "| counts.gradient |          NA   |           NA  |           NA  |           NA  |           NA  |           NA  |           NA  |            NA | \n",
       "| convergence |    0.000000   |    0.0000000  |    0.0000000  |    0.0000000  |    0.0000000  |    0.0000000  |    0.0000000  |  0.000000e+00 | \n",
       "| sca.subsidy.frac.init.v1 |    1.000000   |    1.0000000  |    1.0000000  |    1.0000000  |    1.0000000  |    1.0000000  |    1.0000000  |  1.000000e+00 | \n",
       "| par.v1 |    1.341290   |    1.0125000  |    0.6890625  |    0.4234375  |    0.2406250  |    0.1312500  |    0.0718750  | -8.881784e-16 | \n",
       "| par.frac.v1 |    0.792702   |    0.7335091  |    0.6657583  |    0.6043055  |    0.5598677  |    0.5327655  |    0.5179610  |  5.000000e-01 | \n",
       "| par.frac.v2 |    0.207298   |    0.2664909  |    0.3342417  |    0.3956945  |    0.4401323  |    0.4672345  |    0.4820390  |  5.000000e-01 | \n",
       "| par.frac.grpsize.v1 |   31.000000   |   31.0000000  |   31.0000000  |   31.0000000  |   31.0000000  |   31.0000000  |   31.0000000  |  3.100000e+01 | \n",
       "| par.frac.grpsize.v2 |   29.000000   |   29.0000000  |   29.0000000  |   29.0000000  |   29.0000000  |   29.0000000  |   29.0000000  |  2.900000e+01 | \n",
       "| par.frac.lvl.v1 |   46.027861   |   42.5908520  |   38.6569360  |   35.0887076  |   32.5084451  |   30.9347696  |   30.0751559  |  2.903226e+01 | \n",
       "| par.frac.lvl.v2 |   12.866769   |   16.5408134  |   20.7460339  |   24.5603470  |   27.3185587  |   29.0007635  |   29.9196609  |  3.103448e+01 | \n",
       "| par.frac.norm.v1 |    0.781529   |    0.7202715  |    0.6507576  |    0.5882525  |    0.5433741  |    0.5161341  |    0.5012959  |  4.833333e-01 | \n",
       "| par.frac.norm.v2 |    0.218471   |    0.2797285  |    0.3492424  |    0.4117475  |    0.4566259  |    0.4838659  |    0.4987041  |  5.166667e-01 | \n",
       "| y.subsidy.cebu.grp.idx.h0.g1.mean |   82.401058   |   81.9988793  |   81.5113529  |   81.0406641  |   80.6812026  |   80.4532733  |   80.3257883  |  8.016815e+01 | \n",
       "| y.subsidy.cebu.grp.idx.h0.g1.min |   72.865213   |   72.4610489  |   71.9678225  |   71.4879839  |   71.1189707  |   70.8837769  |   70.7518066  |  7.058820e+01 | \n",
       "| y.subsidy.cebu.grp.idx.h0.g1.sd |    4.967738   |    4.9334231  |    4.8923003  |    4.8532777  |    4.8240670  |    4.8058680  |    4.7958132  |  4.783515e+00 | \n",
       "| y.subsidy.cebu.grp.idx.h0.g2.mean |   80.588805   |   81.4694297  |   82.3659257  |   83.0976445  |   83.5869991  |   83.8711492  |   84.0221529  |  8.420157e+01 | \n",
       "| y.subsidy.cebu.grp.idx.h0.g2.min |   72.865215   |   73.5726715  |   74.3043684  |   74.9090605  |   75.3167992  |   75.5546862  |   75.6814252  |  7.583229e+01 | \n",
       "| y.subsidy.cebu.grp.idx.h0.g2.sd |    4.148556   |    4.1894155  |    4.2398619  |    4.2862443  |    4.3193789  |    4.3392848  |    4.3500437  |  4.362979e+00 | \n",
       "| y_subsidy.mean |   81.542622   |   81.7480874  |   81.9161505  |   82.0150233  |   82.0576326  |   82.0722671  |   82.0766979  |  8.207872e+01 | \n",
       "| y_subsidy.sd |    4.648000   |    4.5633164  |    4.5745189  |    4.6691830  |    4.7808186  |    4.8648970  |    4.9156270  |  4.981550e+00 | \n",
       "| y_subsidy.min |   72.865213   |   72.4610489  |   71.9678225  |   71.4879839  |   71.1189707  |   70.8837769  |   70.7518066  |  7.058820e+01 | \n",
       "\n",
       "\n"
      ],
      "text/plain": [
       "                                  [,1]        [,2]         [,3]        \n",
       "param.ces                         -160.000000  -58.0000000  -21.0000000\n",
       "subsidy.total                     1800.000000 1800.0000000 1800.0000000\n",
       "par.frac.sum                         1.000000    1.0000000    1.0000000\n",
       "value                              -72.865213  -76.4888863  -79.2232660\n",
       "counts.function                     40.000000   14.0000000   22.0000000\n",
       "counts.gradient                            NA           NA           NA\n",
       "convergence                          0.000000    0.0000000    0.0000000\n",
       "sca.subsidy.frac.init.v1             1.000000    1.0000000    1.0000000\n",
       "par.v1                               1.341290    1.0125000    0.6890625\n",
       "par.frac.v1                          0.792702    0.7335091    0.6657583\n",
       "par.frac.v2                          0.207298    0.2664909    0.3342417\n",
       "par.frac.grpsize.v1                 31.000000   31.0000000   31.0000000\n",
       "par.frac.grpsize.v2                 29.000000   29.0000000   29.0000000\n",
       "par.frac.lvl.v1                     46.027861   42.5908520   38.6569360\n",
       "par.frac.lvl.v2                     12.866769   16.5408134   20.7460339\n",
       "par.frac.norm.v1                     0.781529    0.7202715    0.6507576\n",
       "par.frac.norm.v2                     0.218471    0.2797285    0.3492424\n",
       "y.subsidy.cebu.grp.idx.h0.g1.mean   82.401058   81.9988793   81.5113529\n",
       "y.subsidy.cebu.grp.idx.h0.g1.min    72.865213   72.4610489   71.9678225\n",
       "y.subsidy.cebu.grp.idx.h0.g1.sd      4.967738    4.9334231    4.8923003\n",
       "y.subsidy.cebu.grp.idx.h0.g2.mean   80.588805   81.4694297   82.3659257\n",
       "y.subsidy.cebu.grp.idx.h0.g2.min    72.865215   73.5726715   74.3043684\n",
       "y.subsidy.cebu.grp.idx.h0.g2.sd      4.148556    4.1894155    4.2398619\n",
       "y_subsidy.mean                      81.542622   81.7480874   81.9161505\n",
       "y_subsidy.sd                         4.648000    4.5633164    4.5745189\n",
       "y_subsidy.min                       72.865213   72.4610489   71.9678225\n",
       "                                  [,4]         [,5]         [,6]        \n",
       "param.ces                           -8.0000000   -3.0000000   -1.0000000\n",
       "subsidy.total                     1800.0000000 1800.0000000 1800.0000000\n",
       "par.frac.sum                         1.0000000    1.0000000    1.0000000\n",
       "value                              -80.8119194  -81.4997430  -81.7852346\n",
       "counts.function                     22.0000000   20.0000000   20.0000000\n",
       "counts.gradient                             NA           NA           NA\n",
       "convergence                          0.0000000    0.0000000    0.0000000\n",
       "sca.subsidy.frac.init.v1             1.0000000    1.0000000    1.0000000\n",
       "par.v1                               0.4234375    0.2406250    0.1312500\n",
       "par.frac.v1                          0.6043055    0.5598677    0.5327655\n",
       "par.frac.v2                          0.3956945    0.4401323    0.4672345\n",
       "par.frac.grpsize.v1                 31.0000000   31.0000000   31.0000000\n",
       "par.frac.grpsize.v2                 29.0000000   29.0000000   29.0000000\n",
       "par.frac.lvl.v1                     35.0887076   32.5084451   30.9347696\n",
       "par.frac.lvl.v2                     24.5603470   27.3185587   29.0007635\n",
       "par.frac.norm.v1                     0.5882525    0.5433741    0.5161341\n",
       "par.frac.norm.v2                     0.4117475    0.4566259    0.4838659\n",
       "y.subsidy.cebu.grp.idx.h0.g1.mean   81.0406641   80.6812026   80.4532733\n",
       "y.subsidy.cebu.grp.idx.h0.g1.min    71.4879839   71.1189707   70.8837769\n",
       "y.subsidy.cebu.grp.idx.h0.g1.sd      4.8532777    4.8240670    4.8058680\n",
       "y.subsidy.cebu.grp.idx.h0.g2.mean   83.0976445   83.5869991   83.8711492\n",
       "y.subsidy.cebu.grp.idx.h0.g2.min    74.9090605   75.3167992   75.5546862\n",
       "y.subsidy.cebu.grp.idx.h0.g2.sd      4.2862443    4.3193789    4.3392848\n",
       "y_subsidy.mean                      82.0150233   82.0576326   82.0722671\n",
       "y_subsidy.sd                         4.6691830    4.7808186    4.8648970\n",
       "y_subsidy.min                       71.4879839   71.1189707   70.8837769\n",
       "                                  [,7]         [,8]         \n",
       "param.ces                           -0.0100000  9.900000e-01\n",
       "subsidy.total                     1800.0000000  1.800000e+03\n",
       "par.frac.sum                         1.0000000  1.000000e+00\n",
       "value                              -81.9293075 -8.207723e+01\n",
       "counts.function                     24.0000000  2.000000e+01\n",
       "counts.gradient                             NA            NA\n",
       "convergence                          0.0000000  0.000000e+00\n",
       "sca.subsidy.frac.init.v1             1.0000000  1.000000e+00\n",
       "par.v1                               0.0718750 -8.881784e-16\n",
       "par.frac.v1                          0.5179610  5.000000e-01\n",
       "par.frac.v2                          0.4820390  5.000000e-01\n",
       "par.frac.grpsize.v1                 31.0000000  3.100000e+01\n",
       "par.frac.grpsize.v2                 29.0000000  2.900000e+01\n",
       "par.frac.lvl.v1                     30.0751559  2.903226e+01\n",
       "par.frac.lvl.v2                     29.9196609  3.103448e+01\n",
       "par.frac.norm.v1                     0.5012959  4.833333e-01\n",
       "par.frac.norm.v2                     0.4987041  5.166667e-01\n",
       "y.subsidy.cebu.grp.idx.h0.g1.mean   80.3257883  8.016815e+01\n",
       "y.subsidy.cebu.grp.idx.h0.g1.min    70.7518066  7.058820e+01\n",
       "y.subsidy.cebu.grp.idx.h0.g1.sd      4.7958132  4.783515e+00\n",
       "y.subsidy.cebu.grp.idx.h0.g2.mean   84.0221529  8.420157e+01\n",
       "y.subsidy.cebu.grp.idx.h0.g2.min    75.6814252  7.583229e+01\n",
       "y.subsidy.cebu.grp.idx.h0.g2.sd      4.3500437  4.362979e+00\n",
       "y_subsidy.mean                      82.0766979  8.207872e+01\n",
       "y_subsidy.sd                         4.9156270  4.981550e+00\n",
       "y_subsidy.min                       70.7518066  7.058820e+01"
      ]
     },
     "metadata": {},
     "output_type": "display_data"
    },
    {
     "data": {},
     "metadata": {},
     "output_type": "display_data"
    },
    {
     "data": {},
     "metadata": {},
     "output_type": "display_data"
    },
    {
     "data": {
      "image/png": "[encoded data removed]",
      "text/plain": [
       "plot without title"
      ]
     },
     "metadata": {},
     "output_type": "display_data"
    },
    {
     "data": {},
     "metadata": {},
     "output_type": "display_data"
    },
    {
     "data": {
      "image/png": "[encoded data removed]",
      "text/plain": [
       "plot without title"
      ]
     },
     "metadata": {},
     "output_type": "display_data"
    },
    {
     "data": {
      "image/png": "[encoded data removed]",
      "text/plain": [
       "plot without title"
      ]
     },
     "metadata": {},
     "output_type": "display_data"
    }
   ],
   "source": [
    "# test h0\n",
    "df.ces.opti.h0 <- bind_rows(lapply(vec.param.ces, optim_wrapper, \n",
    "                                list.subsidy.y.params.other = list.subsidy.y.params.other.default.h0,\n",
    "                                sca.subsidy.frac.init = (numeric((sca.subsidy.groups.h0-1))+1), \n",
    "                                f.subsidy.y.str = 'f_subsidy_y_cd'))\n",
    "t(df.ces.opti.h0)\n",
    "# Graph\n",
    "options(repr.plot.width = 12, repr.plot.height = 3.5)\n",
    "sca.subsidy.groups = list.subsidy.y.params.other.default.h0$sca.subsidy.groups\n",
    "vec.subsidy.grpsize =  list.subsidy.y.params.other.default.h0$vec.subsidy.grpsize\n",
    "# Two Graphs\n",
    "# G1 \n",
    "str.title <- 'Subsidy Per Person Fraction Normalized, Cebu 60 People Below (v1) and Above (v2) Median Initial Height'\n",
    "str.captions <- 'Jitter/Random Guatemala Cebu Data\\nRelative Subsidy Individuals Normalized'\n",
    "graphf.ces.opti.subsidy(df.ces.opti=df.ces.opti.h0 %>% select(param.ces, matches('par.frac.norm.v')),\n",
    "                        sca.subsidy.groups = sca.subsidy.groups, vec.subsidy.grpsize = vec.subsidy.grpsize, \n",
    "                        str.title=str.title, str.captions=str.captions)\n",
    "str.title <- 'Subsidy Per Person Level, Cebu 60 People Below (v1) and Above (v2) Median Initial Height'\n",
    "str.captions <- 'Jitter/Random Guatemala Cebu Data\\nPer Person Subsidy Level'\n",
    "graphf.ces.opti.subsidy(df.ces.opti=df.ces.opti.h0 %>% select(param.ces, matches('par.frac.lvl.v')),\n",
    "                        sca.subsidy.groups = sca.subsidy.groups, vec.subsidy.grpsize = vec.subsidy.grpsize, \n",
    "                        str.title=str.title, str.captions=str.captions)\n",
    "str.title <- 'Overal Average and Min outcomes, Cebu 60 People Below (v1) and Above (v2) Median Initial Height'\n",
    "str.captions <- 'Jitter/Random Guatemala Cebu Data\\nPer Person Subsidy Level'\n",
    "graphf.ces.opti.subsidy(df.ces.opti=df.ces.opti.h0 %>% select(param.ces,\n",
    "                                                              y.subsidy.cebu.grp.idx.h0.g1.min,\n",
    "                                                              y.subsidy.cebu.grp.idx.h0.g2.min, \n",
    "                                                              y_subsidy.mean),\n",
    "                        sca.subsidy.groups = sca.subsidy.groups, vec.subsidy.grpsize = vec.subsidy.grpsize, \n",
    "                        str.title=str.title, str.captions=str.captions, geom_text_format='%.2f')"
   ]
  },
  {
   "cell_type": "code",
   "execution_count": 212,
   "metadata": {},
   "outputs": [
    {
     "data": {
      "text/html": [
       "<table>\n",
       "<tbody>\n",
       "\t<tr><th scope=row>param.ces</th><td>-1.600000e+02</td><td>-5.800000e+01</td><td>-2.100000e+01</td><td>   -8.0000000</td><td>   -3.0000000</td><td>   -1.0000000</td><td>   -0.0100000</td><td>    0.9900000</td></tr>\n",
       "\t<tr><th scope=row>subsidy.total</th><td> 1.080000e+04</td><td> 1.080000e+04</td><td> 1.080000e+04</td><td>10800.0000000</td><td>10800.0000000</td><td>10800.0000000</td><td>10800.0000000</td><td>10800.0000000</td></tr>\n",
       "\t<tr><th scope=row>par.frac.sum</th><td> 1.000000e+00</td><td> 1.000000e+00</td><td> 1.000000e+00</td><td>    1.0000000</td><td>    1.0000000</td><td>    1.0000000</td><td>    1.0000000</td><td>    1.0000000</td></tr>\n",
       "\t<tr><th scope=row>value</th><td>-6.989605e+01</td><td>-7.412007e+01</td><td>-7.619396e+01</td><td>  -76.9993587</td><td>  -77.3132916</td><td>  -77.4406441</td><td>  -77.5042449</td><td>  -77.5689787</td></tr>\n",
       "\t<tr><th scope=row>counts.function</th><td> 1.780000e+02</td><td> 1.480000e+02</td><td> 1.240000e+02</td><td>  132.0000000</td><td>  128.0000000</td><td>  164.0000000</td><td>  116.0000000</td><td>  108.0000000</td></tr>\n",
       "\t<tr><th scope=row>counts.gradient</th><td>           NA</td><td>           NA</td><td>           NA</td><td>           NA</td><td>           NA</td><td>           NA</td><td>           NA</td><td>           NA</td></tr>\n",
       "\t<tr><th scope=row>convergence</th><td> 0.000000e+00</td><td> 0.000000e+00</td><td> 0.000000e+00</td><td>    0.0000000</td><td>    0.0000000</td><td>    0.0000000</td><td>    0.0000000</td><td>    0.0000000</td></tr>\n",
       "\t<tr><th scope=row>sca.subsidy.frac.init.v1</th><td> 1.000000e+00</td><td> 1.000000e+00</td><td> 1.000000e+00</td><td>    1.0000000</td><td>    1.0000000</td><td>    1.0000000</td><td>    1.0000000</td><td>    1.0000000</td></tr>\n",
       "\t<tr><th scope=row>sca.subsidy.frac.init.v2</th><td> 1.000000e+00</td><td> 1.000000e+00</td><td> 1.000000e+00</td><td>    1.0000000</td><td>    1.0000000</td><td>    1.0000000</td><td>    1.0000000</td><td>    1.0000000</td></tr>\n",
       "\t<tr><th scope=row>sca.subsidy.frac.init.v3</th><td> 1.000000e+00</td><td> 1.000000e+00</td><td> 1.000000e+00</td><td>    1.0000000</td><td>    1.0000000</td><td>    1.0000000</td><td>    1.0000000</td><td>    1.0000000</td></tr>\n",
       "\t<tr><th scope=row>par.v1</th><td> 1.240356e-01</td><td>-2.405590e-01</td><td>-3.740779e-01</td><td>   -0.5211500</td><td>   -0.6350898</td><td>   -0.7000372</td><td>   -0.7407843</td><td>   -0.7771841</td></tr>\n",
       "\t<tr><th scope=row>par.v2</th><td>-3.876340e-01</td><td>-4.236918e-01</td><td>-4.095921e-01</td><td>   -0.5115118</td><td>   -0.5660304</td><td>   -0.5922219</td><td>   -0.6049483</td><td>   -0.6171941</td></tr>\n",
       "\t<tr><th scope=row>par.v3</th><td> 2.160244e+00</td><td> 7.455086e-01</td><td>-6.405885e-02</td><td>   -0.2187342</td><td>   -0.2406793</td><td>   -0.2448401</td><td>   -0.2500206</td><td>   -0.2432353</td></tr>\n",
       "\t<tr><th scope=row>par.frac.v1</th><td> 5.309692e-01</td><td> 4.401486e-01</td><td> 4.075560e-01</td><td>    0.3725834</td><td>    0.3463573</td><td>    0.3318040</td><td>    0.3228327</td><td>    0.3149271</td></tr>\n",
       "\t<tr><th scope=row>par.frac.v2</th><td> 1.896230e-01</td><td> 2.214961e-01</td><td> 2.363910e-01</td><td>    0.2351803</td><td>    0.2367188</td><td>    0.2379614</td><td>    0.2391839</td><td>    0.2400632</td></tr>\n",
       "\t<tr><th scope=row>par.frac.v3</th><td> 2.505232e-01</td><td> 2.294723e-01</td><td> 1.723263e-01</td><td>    0.1747544</td><td>    0.1834961</td><td>    0.1889134</td><td>    0.1917572</td><td>    0.1955770</td></tr>\n",
       "\t<tr><th scope=row>par.frac.v4</th><td> 2.888457e-02</td><td> 1.088830e-01</td><td> 1.837266e-01</td><td>    0.2174819</td><td>    0.2334277</td><td>    0.2413212</td><td>    0.2462262</td><td>    0.2494328</td></tr>\n",
       "\t<tr><th scope=row>par.frac.grpsize.v1</th><td> 1.060000e+02</td><td> 1.060000e+02</td><td> 1.060000e+02</td><td>  106.0000000</td><td>  106.0000000</td><td>  106.0000000</td><td>  106.0000000</td><td>  106.0000000</td></tr>\n",
       "\t<tr><th scope=row>par.frac.grpsize.v2</th><td> 7.900000e+01</td><td> 7.900000e+01</td><td> 7.900000e+01</td><td>   79.0000000</td><td>   79.0000000</td><td>   79.0000000</td><td>   79.0000000</td><td>   79.0000000</td></tr>\n",
       "\t<tr><th scope=row>par.frac.grpsize.v3</th><td> 7.500000e+01</td><td> 7.500000e+01</td><td> 7.500000e+01</td><td>   75.0000000</td><td>   75.0000000</td><td>   75.0000000</td><td>   75.0000000</td><td>   75.0000000</td></tr>\n",
       "\t<tr><th scope=row>par.frac.grpsize.v4</th><td> 1.000000e+02</td><td> 1.000000e+02</td><td> 1.000000e+02</td><td>  100.0000000</td><td>  100.0000000</td><td>  100.0000000</td><td>  100.0000000</td><td>  100.0000000</td></tr>\n",
       "\t<tr><th scope=row>par.frac.lvl.v1</th><td> 5.409875e+01</td><td> 4.484533e+01</td><td> 4.152458e+01</td><td>   37.9613244</td><td>   35.2892379</td><td>   33.8064437</td><td>   32.8923853</td><td>   32.0869113</td></tr>\n",
       "\t<tr><th scope=row>par.frac.lvl.v2</th><td> 2.592315e+01</td><td> 3.028047e+01</td><td> 3.231675e+01</td><td>   32.1512372</td><td>   32.3615635</td><td>   32.5314372</td><td>   32.6985595</td><td>   32.8187611</td></tr>\n",
       "\t<tr><th scope=row>par.frac.lvl.v3</th><td> 3.607534e+01</td><td> 3.304402e+01</td><td> 2.481499e+01</td><td>   25.1646308</td><td>   26.4234349</td><td>   27.2035281</td><td>   27.6130393</td><td>   28.1630864</td></tr>\n",
       "\t<tr><th scope=row>par.frac.lvl.v4</th><td> 3.119533e+00</td><td> 1.175936e+01</td><td> 1.984247e+01</td><td>   23.4880457</td><td>   25.2101964</td><td>   26.0626881</td><td>   26.5924301</td><td>   26.9387380</td></tr>\n",
       "\t<tr><th scope=row>par.frac.norm.v1</th><td> 4.537847e-01</td><td> 3.739317e-01</td><td> 3.504219e-01</td><td>    0.3196333</td><td>    0.2958411</td><td>    0.2826529</td><td>    0.2745690</td><td>    0.2673742</td></tr>\n",
       "\t<tr><th scope=row>par.frac.norm.v2</th><td> 2.174455e-01</td><td> 2.524863e-01</td><td> 2.727180e-01</td><td>    0.2707125</td><td>    0.2712975</td><td>    0.2719927</td><td>    0.2729511</td><td>    0.2734726</td></tr>\n",
       "\t<tr><th scope=row>par.frac.norm.v3</th><td> 3.026029e-01</td><td> 2.755294e-01</td><td> 2.094114e-01</td><td>    0.2118855</td><td>    0.2215162</td><td>    0.2274465</td><td>    0.2304997</td><td>    0.2346777</td></tr>\n",
       "\t<tr><th scope=row>par.frac.norm.v4</th><td> 2.616690e-02</td><td> 9.805256e-02</td><td> 1.674487e-01</td><td>    0.1977687</td><td>    0.2113452</td><td>    0.2179080</td><td>    0.2219802</td><td>    0.2244755</td></tr>\n",
       "\t<tr><th scope=row>y.subsidy.guat.grp.idx.h0wlt.g1.mean</th><td> 7.760963e+01</td><td> 7.709692e+01</td><td> 7.689668e+01</td><td>   76.6706503</td><td>   76.4927540</td><td>   76.3906530</td><td>   76.3264377</td><td>   76.2690128</td></tr>\n",
       "\t<tr><th scope=row>y.subsidy.guat.grp.idx.h0wlt.g1.min</th><td> 6.989605e+01</td><td> 6.942755e+01</td><td> 6.924471e+01</td><td>   69.0384570</td><td>   68.8762556</td><td>   68.7832247</td><td>   68.7247402</td><td>   68.6724585</td></tr>\n",
       "\t<tr><th scope=row>y.subsidy.guat.grp.idx.h0wlt.g1.sd</th><td> 2.971116e+00</td><td> 2.944938e+00</td><td> 2.935120e+00</td><td>    2.9244048</td><td>    2.9162981</td><td>    2.9117955</td><td>    2.9090253</td><td>    2.9065910</td></tr>\n",
       "\t<tr><th scope=row>y.subsidy.guat.grp.idx.h0wlt.g2.mean</th><td> 7.717420e+01</td><td> 7.752962e+01</td><td> 7.768600e+01</td><td>   77.6734999</td><td>   77.6893758</td><td>   77.7021550</td><td>   77.7146900</td><td>   77.7236829</td></tr>\n",
       "\t<tr><th scope=row>y.subsidy.guat.grp.idx.h0wlt.g2.min</th><td> 6.989605e+01</td><td> 7.016440e+01</td><td> 7.028380e+01</td><td>   70.2742255</td><td>   70.2863842</td><td>   70.2961772</td><td>   70.3057878</td><td>   70.3126858</td></tr>\n",
       "\t<tr><th scope=row>y.subsidy.guat.grp.idx.h0wlt.g2.sd</th><td> 3.537396e+00</td><td> 3.566468e+00</td><td> 3.579173e+00</td><td>    3.5781602</td><td>    3.5794472</td><td>    3.5804827</td><td>    3.5814979</td><td>    3.5822260</td></tr>\n",
       "\t<tr><th scope=row>y.subsidy.guat.grp.idx.h0wlt.g3.mean</th><td> 7.900031e+01</td><td> 7.878792e+01</td><td> 7.815131e+01</td><td>   78.1804090</td><td>   78.2835341</td><td>   78.3461924</td><td>   78.3787150</td><td>   78.4220072</td></tr>\n",
       "\t<tr><th scope=row>y.subsidy.guat.grp.idx.h0wlt.g3.min</th><td> 6.989605e+01</td><td> 6.965795e+01</td><td> 6.892711e+01</td><td>   68.9611228</td><td>   69.0811714</td><td>   69.1537443</td><td>   69.1913056</td><td>   69.2411927</td></tr>\n",
       "\t<tr><th scope=row>y.subsidy.guat.grp.idx.h0wlt.g3.sd</th><td> 3.024593e+00</td><td> 3.019351e+00</td><td> 3.008795e+00</td><td>    3.0090782</td><td>    3.0102528</td><td>    3.0110904</td><td>    3.0115606</td><td>    3.0122232</td></tr>\n",
       "\t<tr><th scope=row>y.subsidy.guat.grp.idx.h0wlt.g4.mean</th><td> 7.575696e+01</td><td> 7.688865e+01</td><td> 7.771171e+01</td><td>   78.0344150</td><td>   78.1785144</td><td>   78.2480412</td><td>   78.2906694</td><td>   78.3183037</td></tr>\n",
       "\t<tr><th scope=row>y.subsidy.guat.grp.idx.h0wlt.g4.min</th><td> 6.991496e+01</td><td> 7.138663e+01</td><td> 7.239915e+01</td><td>   72.7843785</td><td>   72.9544484</td><td>   73.0360929</td><td>   73.0860205</td><td>   73.1183344</td></tr>\n",
       "\t<tr><th scope=row>y.subsidy.guat.grp.idx.h0wlt.g4.sd</th><td> 2.840268e+00</td><td> 2.792923e+00</td><td> 2.802695e+00</td><td>    2.8122859</td><td>    2.8173284</td><td>    2.8199081</td><td>    2.8215340</td><td>    2.8226055</td></tr>\n",
       "\t<tr><th scope=row>y_subsidy.mean</th><td> 7.730273e+01</td><td> 7.747919e+01</td><td> 7.754123e+01</td><td>   77.5594597</td><td>   77.5666250</td><td>   77.5687663</td><td>   77.5694347</td><td>   77.5696287</td></tr>\n",
       "\t<tr><th scope=row>y_subsidy.sd</th><td> 3.262058e+00</td><td> 3.129930e+00</td><td> 3.087394e+00</td><td>    3.1137783</td><td>    3.1418647</td><td>    3.1599071</td><td>    3.1717896</td><td>    3.1829205</td></tr>\n",
       "\t<tr><th scope=row>y_subsidy.min</th><td> 6.989605e+01</td><td> 6.942755e+01</td><td> 6.892711e+01</td><td>   68.9611228</td><td>   68.8762556</td><td>   68.7832247</td><td>   68.7247402</td><td>   68.6724585</td></tr>\n",
       "</tbody>\n",
       "</table>\n"
      ],
      "text/latex": [
       "\\begin{tabular}{r|llllllll}\n",
       "\tparam.ces & -1.600000e+02 & -5.800000e+01 & -2.100000e+01 &    -8.0000000 &    -3.0000000 &    -1.0000000 &    -0.0100000 &     0.9900000\\\\\n",
       "\tsubsidy.total &  1.080000e+04 &  1.080000e+04 &  1.080000e+04 & 10800.0000000 & 10800.0000000 & 10800.0000000 & 10800.0000000 & 10800.0000000\\\\\n",
       "\tpar.frac.sum &  1.000000e+00 &  1.000000e+00 &  1.000000e+00 &     1.0000000 &     1.0000000 &     1.0000000 &     1.0000000 &     1.0000000\\\\\n",
       "\tvalue & -6.989605e+01 & -7.412007e+01 & -7.619396e+01 &   -76.9993587 &   -77.3132916 &   -77.4406441 &   -77.5042449 &   -77.5689787\\\\\n",
       "\tcounts.function &  1.780000e+02 &  1.480000e+02 &  1.240000e+02 &   132.0000000 &   128.0000000 &   164.0000000 &   116.0000000 &   108.0000000\\\\\n",
       "\tcounts.gradient &            NA &            NA &            NA &            NA &            NA &            NA &            NA &            NA\\\\\n",
       "\tconvergence &  0.000000e+00 &  0.000000e+00 &  0.000000e+00 &     0.0000000 &     0.0000000 &     0.0000000 &     0.0000000 &     0.0000000\\\\\n",
       "\tsca.subsidy.frac.init.v1 &  1.000000e+00 &  1.000000e+00 &  1.000000e+00 &     1.0000000 &     1.0000000 &     1.0000000 &     1.0000000 &     1.0000000\\\\\n",
       "\tsca.subsidy.frac.init.v2 &  1.000000e+00 &  1.000000e+00 &  1.000000e+00 &     1.0000000 &     1.0000000 &     1.0000000 &     1.0000000 &     1.0000000\\\\\n",
       "\tsca.subsidy.frac.init.v3 &  1.000000e+00 &  1.000000e+00 &  1.000000e+00 &     1.0000000 &     1.0000000 &     1.0000000 &     1.0000000 &     1.0000000\\\\\n",
       "\tpar.v1 &  1.240356e-01 & -2.405590e-01 & -3.740779e-01 &    -0.5211500 &    -0.6350898 &    -0.7000372 &    -0.7407843 &    -0.7771841\\\\\n",
       "\tpar.v2 & -3.876340e-01 & -4.236918e-01 & -4.095921e-01 &    -0.5115118 &    -0.5660304 &    -0.5922219 &    -0.6049483 &    -0.6171941\\\\\n",
       "\tpar.v3 &  2.160244e+00 &  7.455086e-01 & -6.405885e-02 &    -0.2187342 &    -0.2406793 &    -0.2448401 &    -0.2500206 &    -0.2432353\\\\\n",
       "\tpar.frac.v1 &  5.309692e-01 &  4.401486e-01 &  4.075560e-01 &     0.3725834 &     0.3463573 &     0.3318040 &     0.3228327 &     0.3149271\\\\\n",
       "\tpar.frac.v2 &  1.896230e-01 &  2.214961e-01 &  2.363910e-01 &     0.2351803 &     0.2367188 &     0.2379614 &     0.2391839 &     0.2400632\\\\\n",
       "\tpar.frac.v3 &  2.505232e-01 &  2.294723e-01 &  1.723263e-01 &     0.1747544 &     0.1834961 &     0.1889134 &     0.1917572 &     0.1955770\\\\\n",
       "\tpar.frac.v4 &  2.888457e-02 &  1.088830e-01 &  1.837266e-01 &     0.2174819 &     0.2334277 &     0.2413212 &     0.2462262 &     0.2494328\\\\\n",
       "\tpar.frac.grpsize.v1 &  1.060000e+02 &  1.060000e+02 &  1.060000e+02 &   106.0000000 &   106.0000000 &   106.0000000 &   106.0000000 &   106.0000000\\\\\n",
       "\tpar.frac.grpsize.v2 &  7.900000e+01 &  7.900000e+01 &  7.900000e+01 &    79.0000000 &    79.0000000 &    79.0000000 &    79.0000000 &    79.0000000\\\\\n",
       "\tpar.frac.grpsize.v3 &  7.500000e+01 &  7.500000e+01 &  7.500000e+01 &    75.0000000 &    75.0000000 &    75.0000000 &    75.0000000 &    75.0000000\\\\\n",
       "\tpar.frac.grpsize.v4 &  1.000000e+02 &  1.000000e+02 &  1.000000e+02 &   100.0000000 &   100.0000000 &   100.0000000 &   100.0000000 &   100.0000000\\\\\n",
       "\tpar.frac.lvl.v1 &  5.409875e+01 &  4.484533e+01 &  4.152458e+01 &    37.9613244 &    35.2892379 &    33.8064437 &    32.8923853 &    32.0869113\\\\\n",
       "\tpar.frac.lvl.v2 &  2.592315e+01 &  3.028047e+01 &  3.231675e+01 &    32.1512372 &    32.3615635 &    32.5314372 &    32.6985595 &    32.8187611\\\\\n",
       "\tpar.frac.lvl.v3 &  3.607534e+01 &  3.304402e+01 &  2.481499e+01 &    25.1646308 &    26.4234349 &    27.2035281 &    27.6130393 &    28.1630864\\\\\n",
       "\tpar.frac.lvl.v4 &  3.119533e+00 &  1.175936e+01 &  1.984247e+01 &    23.4880457 &    25.2101964 &    26.0626881 &    26.5924301 &    26.9387380\\\\\n",
       "\tpar.frac.norm.v1 &  4.537847e-01 &  3.739317e-01 &  3.504219e-01 &     0.3196333 &     0.2958411 &     0.2826529 &     0.2745690 &     0.2673742\\\\\n",
       "\tpar.frac.norm.v2 &  2.174455e-01 &  2.524863e-01 &  2.727180e-01 &     0.2707125 &     0.2712975 &     0.2719927 &     0.2729511 &     0.2734726\\\\\n",
       "\tpar.frac.norm.v3 &  3.026029e-01 &  2.755294e-01 &  2.094114e-01 &     0.2118855 &     0.2215162 &     0.2274465 &     0.2304997 &     0.2346777\\\\\n",
       "\tpar.frac.norm.v4 &  2.616690e-02 &  9.805256e-02 &  1.674487e-01 &     0.1977687 &     0.2113452 &     0.2179080 &     0.2219802 &     0.2244755\\\\\n",
       "\ty.subsidy.guat.grp.idx.h0wlt.g1.mean &  7.760963e+01 &  7.709692e+01 &  7.689668e+01 &    76.6706503 &    76.4927540 &    76.3906530 &    76.3264377 &    76.2690128\\\\\n",
       "\ty.subsidy.guat.grp.idx.h0wlt.g1.min &  6.989605e+01 &  6.942755e+01 &  6.924471e+01 &    69.0384570 &    68.8762556 &    68.7832247 &    68.7247402 &    68.6724585\\\\\n",
       "\ty.subsidy.guat.grp.idx.h0wlt.g1.sd &  2.971116e+00 &  2.944938e+00 &  2.935120e+00 &     2.9244048 &     2.9162981 &     2.9117955 &     2.9090253 &     2.9065910\\\\\n",
       "\ty.subsidy.guat.grp.idx.h0wlt.g2.mean &  7.717420e+01 &  7.752962e+01 &  7.768600e+01 &    77.6734999 &    77.6893758 &    77.7021550 &    77.7146900 &    77.7236829\\\\\n",
       "\ty.subsidy.guat.grp.idx.h0wlt.g2.min &  6.989605e+01 &  7.016440e+01 &  7.028380e+01 &    70.2742255 &    70.2863842 &    70.2961772 &    70.3057878 &    70.3126858\\\\\n",
       "\ty.subsidy.guat.grp.idx.h0wlt.g2.sd &  3.537396e+00 &  3.566468e+00 &  3.579173e+00 &     3.5781602 &     3.5794472 &     3.5804827 &     3.5814979 &     3.5822260\\\\\n",
       "\ty.subsidy.guat.grp.idx.h0wlt.g3.mean &  7.900031e+01 &  7.878792e+01 &  7.815131e+01 &    78.1804090 &    78.2835341 &    78.3461924 &    78.3787150 &    78.4220072\\\\\n",
       "\ty.subsidy.guat.grp.idx.h0wlt.g3.min &  6.989605e+01 &  6.965795e+01 &  6.892711e+01 &    68.9611228 &    69.0811714 &    69.1537443 &    69.1913056 &    69.2411927\\\\\n",
       "\ty.subsidy.guat.grp.idx.h0wlt.g3.sd &  3.024593e+00 &  3.019351e+00 &  3.008795e+00 &     3.0090782 &     3.0102528 &     3.0110904 &     3.0115606 &     3.0122232\\\\\n",
       "\ty.subsidy.guat.grp.idx.h0wlt.g4.mean &  7.575696e+01 &  7.688865e+01 &  7.771171e+01 &    78.0344150 &    78.1785144 &    78.2480412 &    78.2906694 &    78.3183037\\\\\n",
       "\ty.subsidy.guat.grp.idx.h0wlt.g4.min &  6.991496e+01 &  7.138663e+01 &  7.239915e+01 &    72.7843785 &    72.9544484 &    73.0360929 &    73.0860205 &    73.1183344\\\\\n",
       "\ty.subsidy.guat.grp.idx.h0wlt.g4.sd &  2.840268e+00 &  2.792923e+00 &  2.802695e+00 &     2.8122859 &     2.8173284 &     2.8199081 &     2.8215340 &     2.8226055\\\\\n",
       "\ty\\_subsidy.mean &  7.730273e+01 &  7.747919e+01 &  7.754123e+01 &    77.5594597 &    77.5666250 &    77.5687663 &    77.5694347 &    77.5696287\\\\\n",
       "\ty\\_subsidy.sd &  3.262058e+00 &  3.129930e+00 &  3.087394e+00 &     3.1137783 &     3.1418647 &     3.1599071 &     3.1717896 &     3.1829205\\\\\n",
       "\ty\\_subsidy.min &  6.989605e+01 &  6.942755e+01 &  6.892711e+01 &    68.9611228 &    68.8762556 &    68.7832247 &    68.7247402 &    68.6724585\\\\\n",
       "\\end{tabular}\n"
      ],
      "text/markdown": [
       "\n",
       "| param.ces | -1.600000e+02 | -5.800000e+01 | -2.100000e+01 |    -8.0000000 |    -3.0000000 |    -1.0000000 |    -0.0100000 |     0.9900000 | \n",
       "| subsidy.total |  1.080000e+04 |  1.080000e+04 |  1.080000e+04 | 10800.0000000 | 10800.0000000 | 10800.0000000 | 10800.0000000 | 10800.0000000 | \n",
       "| par.frac.sum |  1.000000e+00 |  1.000000e+00 |  1.000000e+00 |     1.0000000 |     1.0000000 |     1.0000000 |     1.0000000 |     1.0000000 | \n",
       "| value | -6.989605e+01 | -7.412007e+01 | -7.619396e+01 |   -76.9993587 |   -77.3132916 |   -77.4406441 |   -77.5042449 |   -77.5689787 | \n",
       "| counts.function |  1.780000e+02 |  1.480000e+02 |  1.240000e+02 |   132.0000000 |   128.0000000 |   164.0000000 |   116.0000000 |   108.0000000 | \n",
       "| counts.gradient |            NA |            NA |            NA |            NA |            NA |            NA |            NA |            NA | \n",
       "| convergence |  0.000000e+00 |  0.000000e+00 |  0.000000e+00 |     0.0000000 |     0.0000000 |     0.0000000 |     0.0000000 |     0.0000000 | \n",
       "| sca.subsidy.frac.init.v1 |  1.000000e+00 |  1.000000e+00 |  1.000000e+00 |     1.0000000 |     1.0000000 |     1.0000000 |     1.0000000 |     1.0000000 | \n",
       "| sca.subsidy.frac.init.v2 |  1.000000e+00 |  1.000000e+00 |  1.000000e+00 |     1.0000000 |     1.0000000 |     1.0000000 |     1.0000000 |     1.0000000 | \n",
       "| sca.subsidy.frac.init.v3 |  1.000000e+00 |  1.000000e+00 |  1.000000e+00 |     1.0000000 |     1.0000000 |     1.0000000 |     1.0000000 |     1.0000000 | \n",
       "| par.v1 |  1.240356e-01 | -2.405590e-01 | -3.740779e-01 |    -0.5211500 |    -0.6350898 |    -0.7000372 |    -0.7407843 |    -0.7771841 | \n",
       "| par.v2 | -3.876340e-01 | -4.236918e-01 | -4.095921e-01 |    -0.5115118 |    -0.5660304 |    -0.5922219 |    -0.6049483 |    -0.6171941 | \n",
       "| par.v3 |  2.160244e+00 |  7.455086e-01 | -6.405885e-02 |    -0.2187342 |    -0.2406793 |    -0.2448401 |    -0.2500206 |    -0.2432353 | \n",
       "| par.frac.v1 |  5.309692e-01 |  4.401486e-01 |  4.075560e-01 |     0.3725834 |     0.3463573 |     0.3318040 |     0.3228327 |     0.3149271 | \n",
       "| par.frac.v2 |  1.896230e-01 |  2.214961e-01 |  2.363910e-01 |     0.2351803 |     0.2367188 |     0.2379614 |     0.2391839 |     0.2400632 | \n",
       "| par.frac.v3 |  2.505232e-01 |  2.294723e-01 |  1.723263e-01 |     0.1747544 |     0.1834961 |     0.1889134 |     0.1917572 |     0.1955770 | \n",
       "| par.frac.v4 |  2.888457e-02 |  1.088830e-01 |  1.837266e-01 |     0.2174819 |     0.2334277 |     0.2413212 |     0.2462262 |     0.2494328 | \n",
       "| par.frac.grpsize.v1 |  1.060000e+02 |  1.060000e+02 |  1.060000e+02 |   106.0000000 |   106.0000000 |   106.0000000 |   106.0000000 |   106.0000000 | \n",
       "| par.frac.grpsize.v2 |  7.900000e+01 |  7.900000e+01 |  7.900000e+01 |    79.0000000 |    79.0000000 |    79.0000000 |    79.0000000 |    79.0000000 | \n",
       "| par.frac.grpsize.v3 |  7.500000e+01 |  7.500000e+01 |  7.500000e+01 |    75.0000000 |    75.0000000 |    75.0000000 |    75.0000000 |    75.0000000 | \n",
       "| par.frac.grpsize.v4 |  1.000000e+02 |  1.000000e+02 |  1.000000e+02 |   100.0000000 |   100.0000000 |   100.0000000 |   100.0000000 |   100.0000000 | \n",
       "| par.frac.lvl.v1 |  5.409875e+01 |  4.484533e+01 |  4.152458e+01 |    37.9613244 |    35.2892379 |    33.8064437 |    32.8923853 |    32.0869113 | \n",
       "| par.frac.lvl.v2 |  2.592315e+01 |  3.028047e+01 |  3.231675e+01 |    32.1512372 |    32.3615635 |    32.5314372 |    32.6985595 |    32.8187611 | \n",
       "| par.frac.lvl.v3 |  3.607534e+01 |  3.304402e+01 |  2.481499e+01 |    25.1646308 |    26.4234349 |    27.2035281 |    27.6130393 |    28.1630864 | \n",
       "| par.frac.lvl.v4 |  3.119533e+00 |  1.175936e+01 |  1.984247e+01 |    23.4880457 |    25.2101964 |    26.0626881 |    26.5924301 |    26.9387380 | \n",
       "| par.frac.norm.v1 |  4.537847e-01 |  3.739317e-01 |  3.504219e-01 |     0.3196333 |     0.2958411 |     0.2826529 |     0.2745690 |     0.2673742 | \n",
       "| par.frac.norm.v2 |  2.174455e-01 |  2.524863e-01 |  2.727180e-01 |     0.2707125 |     0.2712975 |     0.2719927 |     0.2729511 |     0.2734726 | \n",
       "| par.frac.norm.v3 |  3.026029e-01 |  2.755294e-01 |  2.094114e-01 |     0.2118855 |     0.2215162 |     0.2274465 |     0.2304997 |     0.2346777 | \n",
       "| par.frac.norm.v4 |  2.616690e-02 |  9.805256e-02 |  1.674487e-01 |     0.1977687 |     0.2113452 |     0.2179080 |     0.2219802 |     0.2244755 | \n",
       "| y.subsidy.guat.grp.idx.h0wlt.g1.mean |  7.760963e+01 |  7.709692e+01 |  7.689668e+01 |    76.6706503 |    76.4927540 |    76.3906530 |    76.3264377 |    76.2690128 | \n",
       "| y.subsidy.guat.grp.idx.h0wlt.g1.min |  6.989605e+01 |  6.942755e+01 |  6.924471e+01 |    69.0384570 |    68.8762556 |    68.7832247 |    68.7247402 |    68.6724585 | \n",
       "| y.subsidy.guat.grp.idx.h0wlt.g1.sd |  2.971116e+00 |  2.944938e+00 |  2.935120e+00 |     2.9244048 |     2.9162981 |     2.9117955 |     2.9090253 |     2.9065910 | \n",
       "| y.subsidy.guat.grp.idx.h0wlt.g2.mean |  7.717420e+01 |  7.752962e+01 |  7.768600e+01 |    77.6734999 |    77.6893758 |    77.7021550 |    77.7146900 |    77.7236829 | \n",
       "| y.subsidy.guat.grp.idx.h0wlt.g2.min |  6.989605e+01 |  7.016440e+01 |  7.028380e+01 |    70.2742255 |    70.2863842 |    70.2961772 |    70.3057878 |    70.3126858 | \n",
       "| y.subsidy.guat.grp.idx.h0wlt.g2.sd |  3.537396e+00 |  3.566468e+00 |  3.579173e+00 |     3.5781602 |     3.5794472 |     3.5804827 |     3.5814979 |     3.5822260 | \n",
       "| y.subsidy.guat.grp.idx.h0wlt.g3.mean |  7.900031e+01 |  7.878792e+01 |  7.815131e+01 |    78.1804090 |    78.2835341 |    78.3461924 |    78.3787150 |    78.4220072 | \n",
       "| y.subsidy.guat.grp.idx.h0wlt.g3.min |  6.989605e+01 |  6.965795e+01 |  6.892711e+01 |    68.9611228 |    69.0811714 |    69.1537443 |    69.1913056 |    69.2411927 | \n",
       "| y.subsidy.guat.grp.idx.h0wlt.g3.sd |  3.024593e+00 |  3.019351e+00 |  3.008795e+00 |     3.0090782 |     3.0102528 |     3.0110904 |     3.0115606 |     3.0122232 | \n",
       "| y.subsidy.guat.grp.idx.h0wlt.g4.mean |  7.575696e+01 |  7.688865e+01 |  7.771171e+01 |    78.0344150 |    78.1785144 |    78.2480412 |    78.2906694 |    78.3183037 | \n",
       "| y.subsidy.guat.grp.idx.h0wlt.g4.min |  6.991496e+01 |  7.138663e+01 |  7.239915e+01 |    72.7843785 |    72.9544484 |    73.0360929 |    73.0860205 |    73.1183344 | \n",
       "| y.subsidy.guat.grp.idx.h0wlt.g4.sd |  2.840268e+00 |  2.792923e+00 |  2.802695e+00 |     2.8122859 |     2.8173284 |     2.8199081 |     2.8215340 |     2.8226055 | \n",
       "| y_subsidy.mean |  7.730273e+01 |  7.747919e+01 |  7.754123e+01 |    77.5594597 |    77.5666250 |    77.5687663 |    77.5694347 |    77.5696287 | \n",
       "| y_subsidy.sd |  3.262058e+00 |  3.129930e+00 |  3.087394e+00 |     3.1137783 |     3.1418647 |     3.1599071 |     3.1717896 |     3.1829205 | \n",
       "| y_subsidy.min |  6.989605e+01 |  6.942755e+01 |  6.892711e+01 |    68.9611228 |    68.8762556 |    68.7832247 |    68.7247402 |    68.6724585 | \n",
       "\n",
       "\n"
      ],
      "text/plain": [
       "                                     [,1]          [,2]          [,3]         \n",
       "param.ces                            -1.600000e+02 -5.800000e+01 -2.100000e+01\n",
       "subsidy.total                         1.080000e+04  1.080000e+04  1.080000e+04\n",
       "par.frac.sum                          1.000000e+00  1.000000e+00  1.000000e+00\n",
       "value                                -6.989605e+01 -7.412007e+01 -7.619396e+01\n",
       "counts.function                       1.780000e+02  1.480000e+02  1.240000e+02\n",
       "counts.gradient                                 NA            NA            NA\n",
       "convergence                           0.000000e+00  0.000000e+00  0.000000e+00\n",
       "sca.subsidy.frac.init.v1              1.000000e+00  1.000000e+00  1.000000e+00\n",
       "sca.subsidy.frac.init.v2              1.000000e+00  1.000000e+00  1.000000e+00\n",
       "sca.subsidy.frac.init.v3              1.000000e+00  1.000000e+00  1.000000e+00\n",
       "par.v1                                1.240356e-01 -2.405590e-01 -3.740779e-01\n",
       "par.v2                               -3.876340e-01 -4.236918e-01 -4.095921e-01\n",
       "par.v3                                2.160244e+00  7.455086e-01 -6.405885e-02\n",
       "par.frac.v1                           5.309692e-01  4.401486e-01  4.075560e-01\n",
       "par.frac.v2                           1.896230e-01  2.214961e-01  2.363910e-01\n",
       "par.frac.v3                           2.505232e-01  2.294723e-01  1.723263e-01\n",
       "par.frac.v4                           2.888457e-02  1.088830e-01  1.837266e-01\n",
       "par.frac.grpsize.v1                   1.060000e+02  1.060000e+02  1.060000e+02\n",
       "par.frac.grpsize.v2                   7.900000e+01  7.900000e+01  7.900000e+01\n",
       "par.frac.grpsize.v3                   7.500000e+01  7.500000e+01  7.500000e+01\n",
       "par.frac.grpsize.v4                   1.000000e+02  1.000000e+02  1.000000e+02\n",
       "par.frac.lvl.v1                       5.409875e+01  4.484533e+01  4.152458e+01\n",
       "par.frac.lvl.v2                       2.592315e+01  3.028047e+01  3.231675e+01\n",
       "par.frac.lvl.v3                       3.607534e+01  3.304402e+01  2.481499e+01\n",
       "par.frac.lvl.v4                       3.119533e+00  1.175936e+01  1.984247e+01\n",
       "par.frac.norm.v1                      4.537847e-01  3.739317e-01  3.504219e-01\n",
       "par.frac.norm.v2                      2.174455e-01  2.524863e-01  2.727180e-01\n",
       "par.frac.norm.v3                      3.026029e-01  2.755294e-01  2.094114e-01\n",
       "par.frac.norm.v4                      2.616690e-02  9.805256e-02  1.674487e-01\n",
       "y.subsidy.guat.grp.idx.h0wlt.g1.mean  7.760963e+01  7.709692e+01  7.689668e+01\n",
       "y.subsidy.guat.grp.idx.h0wlt.g1.min   6.989605e+01  6.942755e+01  6.924471e+01\n",
       "y.subsidy.guat.grp.idx.h0wlt.g1.sd    2.971116e+00  2.944938e+00  2.935120e+00\n",
       "y.subsidy.guat.grp.idx.h0wlt.g2.mean  7.717420e+01  7.752962e+01  7.768600e+01\n",
       "y.subsidy.guat.grp.idx.h0wlt.g2.min   6.989605e+01  7.016440e+01  7.028380e+01\n",
       "y.subsidy.guat.grp.idx.h0wlt.g2.sd    3.537396e+00  3.566468e+00  3.579173e+00\n",
       "y.subsidy.guat.grp.idx.h0wlt.g3.mean  7.900031e+01  7.878792e+01  7.815131e+01\n",
       "y.subsidy.guat.grp.idx.h0wlt.g3.min   6.989605e+01  6.965795e+01  6.892711e+01\n",
       "y.subsidy.guat.grp.idx.h0wlt.g3.sd    3.024593e+00  3.019351e+00  3.008795e+00\n",
       "y.subsidy.guat.grp.idx.h0wlt.g4.mean  7.575696e+01  7.688865e+01  7.771171e+01\n",
       "y.subsidy.guat.grp.idx.h0wlt.g4.min   6.991496e+01  7.138663e+01  7.239915e+01\n",
       "y.subsidy.guat.grp.idx.h0wlt.g4.sd    2.840268e+00  2.792923e+00  2.802695e+00\n",
       "y_subsidy.mean                        7.730273e+01  7.747919e+01  7.754123e+01\n",
       "y_subsidy.sd                          3.262058e+00  3.129930e+00  3.087394e+00\n",
       "y_subsidy.min                         6.989605e+01  6.942755e+01  6.892711e+01\n",
       "                                     [,4]          [,5]          [,6]         \n",
       "param.ces                               -8.0000000    -3.0000000    -1.0000000\n",
       "subsidy.total                        10800.0000000 10800.0000000 10800.0000000\n",
       "par.frac.sum                             1.0000000     1.0000000     1.0000000\n",
       "value                                  -76.9993587   -77.3132916   -77.4406441\n",
       "counts.function                        132.0000000   128.0000000   164.0000000\n",
       "counts.gradient                                 NA            NA            NA\n",
       "convergence                              0.0000000     0.0000000     0.0000000\n",
       "sca.subsidy.frac.init.v1                 1.0000000     1.0000000     1.0000000\n",
       "sca.subsidy.frac.init.v2                 1.0000000     1.0000000     1.0000000\n",
       "sca.subsidy.frac.init.v3                 1.0000000     1.0000000     1.0000000\n",
       "par.v1                                  -0.5211500    -0.6350898    -0.7000372\n",
       "par.v2                                  -0.5115118    -0.5660304    -0.5922219\n",
       "par.v3                                  -0.2187342    -0.2406793    -0.2448401\n",
       "par.frac.v1                              0.3725834     0.3463573     0.3318040\n",
       "par.frac.v2                              0.2351803     0.2367188     0.2379614\n",
       "par.frac.v3                              0.1747544     0.1834961     0.1889134\n",
       "par.frac.v4                              0.2174819     0.2334277     0.2413212\n",
       "par.frac.grpsize.v1                    106.0000000   106.0000000   106.0000000\n",
       "par.frac.grpsize.v2                     79.0000000    79.0000000    79.0000000\n",
       "par.frac.grpsize.v3                     75.0000000    75.0000000    75.0000000\n",
       "par.frac.grpsize.v4                    100.0000000   100.0000000   100.0000000\n",
       "par.frac.lvl.v1                         37.9613244    35.2892379    33.8064437\n",
       "par.frac.lvl.v2                         32.1512372    32.3615635    32.5314372\n",
       "par.frac.lvl.v3                         25.1646308    26.4234349    27.2035281\n",
       "par.frac.lvl.v4                         23.4880457    25.2101964    26.0626881\n",
       "par.frac.norm.v1                         0.3196333     0.2958411     0.2826529\n",
       "par.frac.norm.v2                         0.2707125     0.2712975     0.2719927\n",
       "par.frac.norm.v3                         0.2118855     0.2215162     0.2274465\n",
       "par.frac.norm.v4                         0.1977687     0.2113452     0.2179080\n",
       "y.subsidy.guat.grp.idx.h0wlt.g1.mean    76.6706503    76.4927540    76.3906530\n",
       "y.subsidy.guat.grp.idx.h0wlt.g1.min     69.0384570    68.8762556    68.7832247\n",
       "y.subsidy.guat.grp.idx.h0wlt.g1.sd       2.9244048     2.9162981     2.9117955\n",
       "y.subsidy.guat.grp.idx.h0wlt.g2.mean    77.6734999    77.6893758    77.7021550\n",
       "y.subsidy.guat.grp.idx.h0wlt.g2.min     70.2742255    70.2863842    70.2961772\n",
       "y.subsidy.guat.grp.idx.h0wlt.g2.sd       3.5781602     3.5794472     3.5804827\n",
       "y.subsidy.guat.grp.idx.h0wlt.g3.mean    78.1804090    78.2835341    78.3461924\n",
       "y.subsidy.guat.grp.idx.h0wlt.g3.min     68.9611228    69.0811714    69.1537443\n",
       "y.subsidy.guat.grp.idx.h0wlt.g3.sd       3.0090782     3.0102528     3.0110904\n",
       "y.subsidy.guat.grp.idx.h0wlt.g4.mean    78.0344150    78.1785144    78.2480412\n",
       "y.subsidy.guat.grp.idx.h0wlt.g4.min     72.7843785    72.9544484    73.0360929\n",
       "y.subsidy.guat.grp.idx.h0wlt.g4.sd       2.8122859     2.8173284     2.8199081\n",
       "y_subsidy.mean                          77.5594597    77.5666250    77.5687663\n",
       "y_subsidy.sd                             3.1137783     3.1418647     3.1599071\n",
       "y_subsidy.min                           68.9611228    68.8762556    68.7832247\n",
       "                                     [,7]          [,8]         \n",
       "param.ces                               -0.0100000     0.9900000\n",
       "subsidy.total                        10800.0000000 10800.0000000\n",
       "par.frac.sum                             1.0000000     1.0000000\n",
       "value                                  -77.5042449   -77.5689787\n",
       "counts.function                        116.0000000   108.0000000\n",
       "counts.gradient                                 NA            NA\n",
       "convergence                              0.0000000     0.0000000\n",
       "sca.subsidy.frac.init.v1                 1.0000000     1.0000000\n",
       "sca.subsidy.frac.init.v2                 1.0000000     1.0000000\n",
       "sca.subsidy.frac.init.v3                 1.0000000     1.0000000\n",
       "par.v1                                  -0.7407843    -0.7771841\n",
       "par.v2                                  -0.6049483    -0.6171941\n",
       "par.v3                                  -0.2500206    -0.2432353\n",
       "par.frac.v1                              0.3228327     0.3149271\n",
       "par.frac.v2                              0.2391839     0.2400632\n",
       "par.frac.v3                              0.1917572     0.1955770\n",
       "par.frac.v4                              0.2462262     0.2494328\n",
       "par.frac.grpsize.v1                    106.0000000   106.0000000\n",
       "par.frac.grpsize.v2                     79.0000000    79.0000000\n",
       "par.frac.grpsize.v3                     75.0000000    75.0000000\n",
       "par.frac.grpsize.v4                    100.0000000   100.0000000\n",
       "par.frac.lvl.v1                         32.8923853    32.0869113\n",
       "par.frac.lvl.v2                         32.6985595    32.8187611\n",
       "par.frac.lvl.v3                         27.6130393    28.1630864\n",
       "par.frac.lvl.v4                         26.5924301    26.9387380\n",
       "par.frac.norm.v1                         0.2745690     0.2673742\n",
       "par.frac.norm.v2                         0.2729511     0.2734726\n",
       "par.frac.norm.v3                         0.2304997     0.2346777\n",
       "par.frac.norm.v4                         0.2219802     0.2244755\n",
       "y.subsidy.guat.grp.idx.h0wlt.g1.mean    76.3264377    76.2690128\n",
       "y.subsidy.guat.grp.idx.h0wlt.g1.min     68.7247402    68.6724585\n",
       "y.subsidy.guat.grp.idx.h0wlt.g1.sd       2.9090253     2.9065910\n",
       "y.subsidy.guat.grp.idx.h0wlt.g2.mean    77.7146900    77.7236829\n",
       "y.subsidy.guat.grp.idx.h0wlt.g2.min     70.3057878    70.3126858\n",
       "y.subsidy.guat.grp.idx.h0wlt.g2.sd       3.5814979     3.5822260\n",
       "y.subsidy.guat.grp.idx.h0wlt.g3.mean    78.3787150    78.4220072\n",
       "y.subsidy.guat.grp.idx.h0wlt.g3.min     69.1913056    69.2411927\n",
       "y.subsidy.guat.grp.idx.h0wlt.g3.sd       3.0115606     3.0122232\n",
       "y.subsidy.guat.grp.idx.h0wlt.g4.mean    78.2906694    78.3183037\n",
       "y.subsidy.guat.grp.idx.h0wlt.g4.min     73.0860205    73.1183344\n",
       "y.subsidy.guat.grp.idx.h0wlt.g4.sd       2.8215340     2.8226055\n",
       "y_subsidy.mean                          77.5694347    77.5696287\n",
       "y_subsidy.sd                             3.1717896     3.1829205\n",
       "y_subsidy.min                           68.7247402    68.6724585"
      ]
     },
     "metadata": {},
     "output_type": "display_data"
    },
    {
     "data": {},
     "metadata": {},
     "output_type": "display_data"
    },
    {
     "data": {},
     "metadata": {},
     "output_type": "display_data"
    },
    {
     "data": {
      "image/png": "[encoded data removed]",
      "text/plain": [
       "plot without title"
      ]
     },
     "metadata": {},
     "output_type": "display_data"
    },
    {
     "data": {},
     "metadata": {},
     "output_type": "display_data"
    },
    {
     "data": {
      "image/png": "[encoded data removed]",
      "text/plain": [
       "plot without title"
      ]
     },
     "metadata": {},
     "output_type": "display_data"
    },
    {
     "data": {
      "image/png": "[encoded data removed]",
      "text/plain": [
       "plot without title"
      ]
     },
     "metadata": {},
     "output_type": "display_data"
    }
   ],
   "source": [
    "# test h0wlt\n",
    "df.ces.opti.h0wlt <- bind_rows(lapply(vec.param.ces, optim_wrapper, \n",
    "                                list.subsidy.y.params.other = list.subsidy.y.params.other.default.h0wlt,\n",
    "                                sca.subsidy.frac.init = (numeric((sca.subsidy.groups.h0wlt-1))+1), \n",
    "                                f.subsidy.y.str = 'f_subsidy_y_cd'))\n",
    "t(df.ces.opti.h0wlt)\n",
    "\n",
    "# Graph\n",
    "options(repr.plot.width = 12, repr.plot.height = 3.5)\n",
    "sca.subsidy.groups = list.subsidy.y.params.other.default.h0wlt$sca.subsidy.groups\n",
    "vec.subsidy.grpsize =  list.subsidy.y.params.other.default.h0wlt$vec.subsidy.grpsize\n",
    "# Two Graphs\n",
    "# G1 \n",
    "str.title <- paste0('Subsidy Per Person Fraction Normalized',\n",
    "                    '\\nGuatemala Below (v1-2) Above (v3-4) P50 Initial Height, ',\n",
    "                    'Guatemala Below (v1,3) Above (v2-4) P50 Wealth Index')\n",
    "str.captions <- 'Jitter/Random Guatemala Cebu Data\\nRelative Subsidy Individuals Normalized'\n",
    "graphf.ces.opti.subsidy(df.ces.opti=df.ces.opti.h0wlt %>% select(param.ces, matches('par.frac.norm.v')),\n",
    "                        sca.subsidy.groups = sca.subsidy.groups, vec.subsidy.grpsize = vec.subsidy.grpsize, \n",
    "                        str.title=str.title, str.captions=str.captions, geom_text_format='%.1f')\n",
    "str.title <- paste0('Subsidy Per Person Level',\n",
    "                    '\\nGuatemala Below (v1-2) Above (v3-4) P50 Initial Height, ',\n",
    "                    'Guatemala Below (v1,3) Above (v2-4) P50 Wealth Index')\n",
    "str.captions <- 'Jitter/Random Guatemala Cebu Data\\nPer Person Subsidy Level'\n",
    "graphf.ces.opti.subsidy(df.ces.opti=df.ces.opti.h0wlt %>% select(param.ces, matches('par.frac.lvl.v')),\n",
    "                        sca.subsidy.groups = sca.subsidy.groups, vec.subsidy.grpsize = vec.subsidy.grpsize, \n",
    "                        str.title=str.title, str.captions=str.captions, geom_text_format='%.1f')\n",
    "str.title <- paste0('Overal Average and Min outcomes with Subsidies',\n",
    "                    '\\nGuatemala Below (v1-2) Above (v3-4) P50 Initial Height, ',\n",
    "                    'Guatemala Below (v1,3) Above (v2-4) P50 Wealth Index')\n",
    "str.captions <- 'Jitter/Random Guatemala Cebu Data\\nPer Person Subsidy Level'\n",
    "graphf.ces.opti.subsidy(df.ces.opti=df.ces.opti.h0wlt %>% select(param.ces,\n",
    "                                                                 y.subsidy.guat.grp.idx.h0wlt.g1.min,\n",
    "                                                                 y.subsidy.guat.grp.idx.h0wlt.g2.min,\n",
    "                                                                 y.subsidy.guat.grp.idx.h0wlt.g3.min, \n",
    "                                                                 y_subsidy.mean),\n",
    "                        sca.subsidy.groups = sca.subsidy.groups, vec.subsidy.grpsize = vec.subsidy.grpsize, \n",
    "                        str.title=str.title, str.captions=str.captions, geom_text_format='%.1f')"
   ]
  }
 ],
 "metadata": {
  "kernelspec": {
   "display_name": "R",
   "language": "R",
   "name": "ir"
  },
  "language_info": {
   "codemirror_mode": "r",
   "file_extension": ".r",
   "mimetype": "text/x-r-source",
   "name": "R",
   "pygments_lexer": "r",
   "version": "3.5.1"
  }
 },
 "nbformat": 4,
 "nbformat_minor": 2
}
