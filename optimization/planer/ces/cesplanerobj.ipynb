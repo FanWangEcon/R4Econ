{
 "cells": [
  {
   "cell_type": "markdown",
   "metadata": {},
   "source": [
    "Back to **[Fan](https://fanwangecon.github.io/)**'s R4Econ Homepage **[Table of Content](https://fanwangecon.github.io/R4Econ/)**\n",
    "\n",
    "# A CES Planner's Objective Function\n",
    "\n",
    "We have a planer, who cares about some vector of $Y$. Suppose $Y$ is from a panel with individuals $i$, each observed for time periods $t$, then:\n",
    "\n",
    "$$ \\Omega\\left( Y \\right) = \\left(  \\frac{1}{N \\cdot T}\\sum_{i=1}^N \\sum_{t=1}^T \\left(Y_{it}\\right)^{\\rho} \\right)^{\\frac{1}{\\rho}}$$\n",
    "\n",
    "We can adjust the $\\rho$ parameter. \n",
    "- When $\\rho=0$, we have cobb-douglas, with complementarity between individual and time specific $Y_{it}$. \n",
    "- When $\\rho=-\\inf$, we have leontiff welfare, the planer only cares about the minimum $\\min\\left\\{Y_{it}\\right\\}$ across individuals and time\n",
    "- When $\\rho=1$, we have perfect substitution, which means the planer cares only about the average of all $\\frac{1}{N \\cdot T}\\sum_{i=1}^N \\sum_{t=1}^T \\left(Y_{it}\\right)$.\n"
   ]
  },
  {
   "cell_type": "code",
   "execution_count": 1,
   "metadata": {},
   "outputs": [
    {
     "name": "stderr",
     "output_type": "stream",
     "text": [
      "-- Attaching packages --------------------------------------- tidyverse 1.2.1 --\n",
      "v ggplot2 3.1.0     v purrr   0.3.0\n",
      "v tibble  2.0.1     v dplyr   0.7.8\n",
      "v tidyr   0.8.2     v stringr 1.4.0\n",
      "v readr   1.3.1     v forcats 0.3.0\n",
      "Warning message:\n",
      "\"package 'tibble' was built under R version 3.5.2\"Warning message:\n",
      "\"package 'readr' was built under R version 3.5.2\"Warning message:\n",
      "\"package 'purrr' was built under R version 3.5.2\"Warning message:\n",
      "\"package 'stringr' was built under R version 3.5.2\"-- Conflicts ------------------------------------------ tidyverse_conflicts() --\n",
      "x dplyr::filter() masks stats::filter()\n",
      "x dplyr::lag()    masks stats::lag()\n"
     ]
    }
   ],
   "source": [
    "library(tidyverse)"
   ]
  },
  {
   "cell_type": "markdown",
   "metadata": {},
   "source": [
    "## Planer's Objective Function Program\n",
    "\n",
    "Below we have the planer's objective function's program. And we can generate a vector of CES parameters. Using log-space below 0 and linspace between 0 and 1. We can not go to negative infinity, so we stop at $-150$."
   ]
  },
  {
   "cell_type": "code",
   "execution_count": 2,
   "metadata": {},
   "outputs": [],
   "source": [
    "parmam.ces.min <- -160\n",
    "# Planer's objective function\n",
    "# Constant Elasticity of Substitution over All Individuals\n",
    "f_planer_obj  <- function(vec.y = c(80, 85, 90), param.ces = 0.5) {\n",
    "    \n",
    "    # Can not Process NA Values. Count NA values in vec.y and give alert if there are NAs\n",
    "    sca.NA.count <- sum(is.na(vec.y))\n",
    "    if (sca.NA.count > 0 ) {        \n",
    "        warning(sprintf(paste0(\"In f_planer_obj, vec.y (len=%s) has NA (len=%s) values\\n\",\n",
    "                               \"Ignored NAs for Planer Objective\"),\n",
    "                                length(vec.y), sca.NA.count))\n",
    "        # Remove NA\n",
    "        vec.y <- na.omit(vec.y)\n",
    "    }\n",
    "    \n",
    "    # CES Objective Function\n",
    "    if (param.ces == 0) {\n",
    "        obj <- prod(vec.y^(1/length(vec.y)))\n",
    "    } else if (param.ces <= parmam.ces.min) {\n",
    "        obj <- min(vec.y)\n",
    "    } else {\n",
    "        obj <- (mean(vec.y^param.ces))^(1/param.ces)\n",
    "    } \n",
    "    \n",
    "    # Return\n",
    "    return(obj)\n",
    "}\n",
    "\n",
    "# Vector of CES Parameters\n",
    "f_ces_params_vec <- function(sca.len.right = 11, sca.len.left = 9, ces.max = 0.99, ces.min = parmam.ces.min) {\n",
    "    vec.param.ces.right <- round(seq(-1, ces.max, length.out = sca.len.right), 2)\n",
    "    vec.param.ces.left <- (-1)*unique(round(exp(log(10)*seq(log10(1),\n",
    "                                                       log10((-1)*ces.min),\n",
    "                                                       length.out=sca.len.left))))\n",
    "    vec.param.ces <- sort(unique(c(vec.param.ces.left, vec.param.ces.right)))\n",
    "    return(vec.param.ces)\n",
    "}"
   ]
  },
  {
   "cell_type": "code",
   "execution_count": 3,
   "metadata": {},
   "outputs": [
    {
     "name": "stderr",
     "output_type": "stream",
     "text": [
      "Warning message in f_planer_obj(vec.y = c(80, 85, 90, NA)):\n",
      "\"In f_planer_obj, vec.y (len=4) has NA (len=1) values\n",
      "Ignored NAs for Planer Objective\""
     ]
    },
    {
     "data": {
      "text/html": [
       "84.9509343727597"
      ],
      "text/latex": [
       "84.9509343727597"
      ],
      "text/markdown": [
       "84.9509343727597"
      ],
      "text/plain": [
       "[1] 84.95093"
      ]
     },
     "metadata": {},
     "output_type": "display_data"
    }
   ],
   "source": [
    "# Single Test\n",
    "f_planer_obj(vec.y = c(80, 85, 90, NA))"
   ]
  },
  {
   "cell_type": "code",
   "execution_count": 4,
   "metadata": {},
   "outputs": [
    {
     "data": {
      "text/html": [
       "<table>\n",
       "<tbody>\n",
       "\t<tr><td>80      </td><td>81.03516</td><td>81.8534 </td><td>82.85632</td><td>83.68353</td><td>84.22414</td><td>84.51093</td><td>84.70571</td><td>84.8037 </td><td>84.82332</td><td>84.84295</td><td>84.86258</td><td>84.88221</td><td>84.90185</td><td>84.9205 </td><td>84.94014</td><td>84.95977</td><td>84.9794 </td><td>84.99902</td></tr>\n",
       "</tbody>\n",
       "</table>\n"
      ],
      "text/latex": [
       "\\begin{tabular}{lllllllllllllllllll}\n",
       "\t 80       & 81.03516 & 81.8534  & 82.85632 & 83.68353 & 84.22414 & 84.51093 & 84.70571 & 84.8037  & 84.82332 & 84.84295 & 84.86258 & 84.88221 & 84.90185 & 84.9205  & 84.94014 & 84.95977 & 84.9794  & 84.99902\\\\\n",
       "\\end{tabular}\n"
      ],
      "text/markdown": [
       "\n",
       "| 80       | 81.03516 | 81.8534  | 82.85632 | 83.68353 | 84.22414 | 84.51093 | 84.70571 | 84.8037  | 84.82332 | 84.84295 | 84.86258 | 84.88221 | 84.90185 | 84.9205  | 84.94014 | 84.95977 | 84.9794  | 84.99902 |\n",
       "\n"
      ],
      "text/plain": [
       "     [,1] [,2]     [,3]    [,4]     [,5]     [,6]     [,7]     [,8]     [,9]   \n",
       "[1,] 80   81.03516 81.8534 82.85632 83.68353 84.22414 84.51093 84.70571 84.8037\n",
       "     [,10]    [,11]    [,12]    [,13]    [,14]    [,15]   [,16]    [,17]   \n",
       "[1,] 84.82332 84.84295 84.86258 84.88221 84.90185 84.9205 84.94014 84.95977\n",
       "     [,18]   [,19]   \n",
       "[1,] 84.9794 84.99902"
      ]
     },
     "metadata": {},
     "output_type": "display_data"
    }
   ],
   "source": [
    "# Lapply Test\n",
    "t(lapply(f_ces_params_vec(), f_planer_obj, vec.y = c(80, 85, 90)))"
   ]
  },
  {
   "cell_type": "markdown",
   "metadata": {},
   "source": [
    "## Welfare for Planer Across CES Parameters\n",
    "\n",
    "We have a vector of Y: $$0.1, 0.2, 0.3$$\n",
    "\n",
    "The Leontiff planer's objective/welfare will be $0.1$, only cares about the lowest. The Perfect substitution planer's objective/welfare will be $0.2$, because that is the average. The Planer's welfare is monotonically increasing as we go from Leontiff towards perfect substitution. \n",
    "\n",
    "This is shown graphically below."
   ]
  },
  {
   "cell_type": "code",
   "execution_count": 5,
   "metadata": {},
   "outputs": [
    {
     "data": {
      "text/html": [
       "<table>\n",
       "<tbody>\n",
       "\t<tr><th scope=row>ces.param</th><td>-160.0     </td><td>-85.0000000</td><td>-45.0000000</td><td>-24.0000000</td><td>-13.0000000</td><td>-7.0000000 </td><td>-4.0000000 </td><td>-2.0000000 </td><td>-1.0000000 </td><td>-0.8000000 </td><td>-0.6000000 </td><td>-0.4000000 </td><td>-0.2000000 </td><td>0.0000000  </td><td>0.1900000  </td><td>0.3900000  </td><td>0.590000   </td><td>0.7900000  </td><td>0.9900000  </td></tr>\n",
       "\t<tr><th scope=row>planer.value</th><td>   0.1     </td><td>  0.1013009</td><td>  0.1024714</td><td>  0.1046839</td><td>  0.1088172</td><td> 0.1168555 </td><td> 0.1292539 </td><td> 0.1484615 </td><td> 0.1636364 </td><td> 0.1670884 </td><td> 0.1706447 </td><td> 0.1742836 </td><td> 0.1779812 </td><td>0.1817121  </td><td>0.1852636  </td><td>0.1889855  </td><td>0.192667   </td><td>0.1962865  </td><td>0.1998255  </td></tr>\n",
       "</tbody>\n",
       "</table>\n"
      ],
      "text/latex": [
       "\\begin{tabular}{r|lllllllllllllllllll}\n",
       "\tces.param & -160.0      & -85.0000000 & -45.0000000 & -24.0000000 & -13.0000000 & -7.0000000  & -4.0000000  & -2.0000000  & -1.0000000  & -0.8000000  & -0.6000000  & -0.4000000  & -0.2000000  & 0.0000000   & 0.1900000   & 0.3900000   & 0.590000    & 0.7900000   & 0.9900000  \\\\\n",
       "\tplaner.value &    0.1      &   0.1013009 &   0.1024714 &   0.1046839 &   0.1088172 &  0.1168555  &  0.1292539  &  0.1484615  &  0.1636364  &  0.1670884  &  0.1706447  &  0.1742836  &  0.1779812  & 0.1817121   & 0.1852636   & 0.1889855   & 0.192667    & 0.1962865   & 0.1998255  \\\\\n",
       "\\end{tabular}\n"
      ],
      "text/markdown": [
       "\n",
       "| ces.param | -160.0      | -85.0000000 | -45.0000000 | -24.0000000 | -13.0000000 | -7.0000000  | -4.0000000  | -2.0000000  | -1.0000000  | -0.8000000  | -0.6000000  | -0.4000000  | -0.2000000  | 0.0000000   | 0.1900000   | 0.3900000   | 0.590000    | 0.7900000   | 0.9900000   |\n",
       "| planer.value |    0.1      |   0.1013009 |   0.1024714 |   0.1046839 |   0.1088172 |  0.1168555  |  0.1292539  |  0.1484615  |  0.1636364  |  0.1670884  |  0.1706447  |  0.1742836  |  0.1779812  | 0.1817121   | 0.1852636   | 0.1889855   | 0.192667    | 0.1962865   | 0.1998255   |\n",
       "\n"
      ],
      "text/plain": [
       "             [,1]   [,2]        [,3]        [,4]        [,5]        [,6]      \n",
       "ces.param    -160.0 -85.0000000 -45.0000000 -24.0000000 -13.0000000 -7.0000000\n",
       "planer.value    0.1   0.1013009   0.1024714   0.1046839   0.1088172  0.1168555\n",
       "             [,7]       [,8]       [,9]       [,10]      [,11]      [,12]     \n",
       "ces.param    -4.0000000 -2.0000000 -1.0000000 -0.8000000 -0.6000000 -0.4000000\n",
       "planer.value  0.1292539  0.1484615  0.1636364  0.1670884  0.1706447  0.1742836\n",
       "             [,13]      [,14]     [,15]     [,16]     [,17]    [,18]    \n",
       "ces.param    -0.2000000 0.0000000 0.1900000 0.3900000 0.590000 0.7900000\n",
       "planer.value  0.1779812 0.1817121 0.1852636 0.1889855 0.192667 0.1962865\n",
       "             [,19]    \n",
       "ces.param    0.9900000\n",
       "planer.value 0.1998255"
      ]
     },
     "metadata": {},
     "output_type": "display_data"
    }
   ],
   "source": [
    "# Test Planer Objective Function\n",
    "vec.y <- c(0.1, 0.2, 0.3)\n",
    "df.planer.obj.cesparams <- tibble(ces.param=f_ces_params_vec(), \n",
    "                                  planer.value=unlist(lapply(f_ces_params_vec(),\n",
    "                                                      f_planer_obj, vec.y = vec.y)))\n",
    "t(df.planer.obj.cesparams)"
   ]
  },
  {
   "cell_type": "code",
   "execution_count": 6,
   "metadata": {},
   "outputs": [
    {
     "data": {
      "image/png": "[encoded data removed]",
      "text/plain": [
       "plot without title"
      ]
     },
     "metadata": {},
     "output_type": "display_data"
    }
   ],
   "source": [
    "# Graphically\n",
    "options(repr.plot.width = 5, repr.plot.height = 3)\n",
    "df.planer.obj.cesparams %>%\n",
    "    ggplot(aes(x=factor(ces.param), y=planer.value)) + \n",
    "    geom_bar(stat = 'identity') + \n",
    "    labs(title = paste0(paste0('CES Parameters, Y=(', paste0(vec.y, collapse=','), ')')\n",
    "                          ,'\\n0=Cobb-Douglas, 1=Perfect Substitutes, -Inf=Leontiff'),\n",
    "           x = 'CES Parameters',\n",
    "           y = 'Planer Object/Welfare',\n",
    "           caption = paste0('Equal Weights\\nObjective Over Outcomes:', \n",
    "                            paste0(vec.y, collapse=','))) +\n",
    "    theme(axis.text.x = element_text(angle = 90, vjust=0.3, hjust = 1))\n",
    "# + \n",
    "#     scale_x_discrete(labels = as.character(df.planer.obj.cesparams$ces.param),\n",
    "#                      breaks = df.planer.obj.cesparams$ces.param)"
   ]
  },
  {
   "cell_type": "markdown",
   "metadata": {},
   "source": [
    "## Welfare For Multiple Sets of Outcomes\n",
    "\n",
    "How does planer objective/welfare change if the vector of $Y$ changes?"
   ]
  },
  {
   "cell_type": "code",
   "execution_count": 7,
   "metadata": {},
   "outputs": [],
   "source": [
    "# Planer Test Function\n",
    "f_planer_obj_tib_cesvec <- function(vec.y, vec.ces.params) {\n",
    "    if(missing(vec.ces.params)) {\n",
    "        vec.ces.params <- f_ces_params_vec(3, 3)\n",
    "    }\n",
    "    df.planer.obj.cesparams <- tibble(ces.param=vec.ces.params, \n",
    "                                      planer.value=unlist(lapply(vec.ces.params,\n",
    "                                                                 f_planer_obj, vec.y = vec.y))) %>% \n",
    "                                    mutate(vec.y = paste0(vec.y, collapse=','))\n",
    "            \n",
    "    \n",
    "    return(df.planer.obj.cesparams)\n",
    "}"
   ]
  },
  {
   "cell_type": "code",
   "execution_count": 8,
   "metadata": {},
   "outputs": [],
   "source": [
    "# Graphing Function\n",
    "graphf_planer_obj_tib_cesvec <- function(df.vec.out.all.planer) {\n",
    "df.vec.out.all.planer %>%\n",
    "    ggplot(aes(x=factor(ces.param),\n",
    "               y=planer.value, \n",
    "               fill=vec.y)) + \n",
    "    geom_bar(stat = 'identity', position = \"dodge2\") + \n",
    "    labs(title = paste0(paste0('CES Parameters, Various Y Vectors')\n",
    "                          ,'\\n0=Cobb-Douglas, 1=Perfect Substitutes, -Inf=Leontiff'),\n",
    "           x = 'CES Parameters',\n",
    "           y = 'Planer Object/Welfare',\n",
    "           caption = paste0('Equal Weights')) +\n",
    "    theme(axis.text.x = element_text(angle = 90, vjust=0.3, hjust = 1))\n",
    "}"
   ]
  },
  {
   "cell_type": "code",
   "execution_count": 9,
   "metadata": {},
   "outputs": [
    {
     "data": {
      "text/html": [
       "<table>\n",
       "<tbody>\n",
       "\t<tr><th scope=row>ces.param</th><td>-160.00       </td><td> -13.00       </td><td>  -1.00       </td><td>  -0.01       </td><td>   0.99       </td><td>-160.00       </td><td> -13.00       </td><td>  -1.00       </td><td>  -0.01       </td><td>   0.99       </td><td>-160.00       </td><td> -13.00       </td><td>  -1.00       </td><td>  -0.01       </td><td>   0.99       </td><td>-160.00       </td><td> -13.00       </td><td>  -1.00       </td><td>  -0.01       </td><td>   0.99       </td></tr>\n",
       "\t<tr><th scope=row>planer.value</th><td>0.10000000    </td><td>0.10877432    </td><td>0.13846154    </td><td>0.14416666    </td><td>0.14994335    </td><td>0.10000000    </td><td>0.10000000    </td><td>0.10000000    </td><td>0.10000000    </td><td>0.10000000    </td><td>0.05000000    </td><td>0.05440860    </td><td>0.08181818    </td><td>0.09076256    </td><td>0.09991273    </td><td>0.12000000    </td><td>0.12911186    </td><td>0.13808219    </td><td>0.13903146    </td><td>0.13999044    </td></tr>\n",
       "\t<tr><th scope=row>vec.y</th><td>0.1,0.15,0.2  </td><td>0.1,0.15,0.2  </td><td>0.1,0.15,0.2  </td><td>0.1,0.15,0.2  </td><td>0.1,0.15,0.2  </td><td>0.1,0.1,0.1   </td><td>0.1,0.1,0.1   </td><td>0.1,0.1,0.1   </td><td>0.1,0.1,0.1   </td><td>0.1,0.1,0.1   </td><td>0.05,0.1,0.15 </td><td>0.05,0.1,0.15 </td><td>0.05,0.1,0.15 </td><td>0.05,0.1,0.15 </td><td>0.05,0.1,0.15 </td><td>0.12,0.14,0.16</td><td>0.12,0.14,0.16</td><td>0.12,0.14,0.16</td><td>0.12,0.14,0.16</td><td>0.12,0.14,0.16</td></tr>\n",
       "</tbody>\n",
       "</table>\n"
      ],
      "text/latex": [
       "\\begin{tabular}{r|llllllllllllllllllll}\n",
       "\tces.param & -160.00        &  -13.00        &   -1.00        &   -0.01        &    0.99        & -160.00        &  -13.00        &   -1.00        &   -0.01        &    0.99        & -160.00        &  -13.00        &   -1.00        &   -0.01        &    0.99        & -160.00        &  -13.00        &   -1.00        &   -0.01        &    0.99       \\\\\n",
       "\tplaner.value & 0.10000000     & 0.10877432     & 0.13846154     & 0.14416666     & 0.14994335     & 0.10000000     & 0.10000000     & 0.10000000     & 0.10000000     & 0.10000000     & 0.05000000     & 0.05440860     & 0.08181818     & 0.09076256     & 0.09991273     & 0.12000000     & 0.12911186     & 0.13808219     & 0.13903146     & 0.13999044    \\\\\n",
       "\tvec.y & 0.1,0.15,0.2   & 0.1,0.15,0.2   & 0.1,0.15,0.2   & 0.1,0.15,0.2   & 0.1,0.15,0.2   & 0.1,0.1,0.1    & 0.1,0.1,0.1    & 0.1,0.1,0.1    & 0.1,0.1,0.1    & 0.1,0.1,0.1    & 0.05,0.1,0.15  & 0.05,0.1,0.15  & 0.05,0.1,0.15  & 0.05,0.1,0.15  & 0.05,0.1,0.15  & 0.12,0.14,0.16 & 0.12,0.14,0.16 & 0.12,0.14,0.16 & 0.12,0.14,0.16 & 0.12,0.14,0.16\\\\\n",
       "\\end{tabular}\n"
      ],
      "text/markdown": [
       "\n",
       "| ces.param | -160.00        |  -13.00        |   -1.00        |   -0.01        |    0.99        | -160.00        |  -13.00        |   -1.00        |   -0.01        |    0.99        | -160.00        |  -13.00        |   -1.00        |   -0.01        |    0.99        | -160.00        |  -13.00        |   -1.00        |   -0.01        |    0.99        |\n",
       "| planer.value | 0.10000000     | 0.10877432     | 0.13846154     | 0.14416666     | 0.14994335     | 0.10000000     | 0.10000000     | 0.10000000     | 0.10000000     | 0.10000000     | 0.05000000     | 0.05440860     | 0.08181818     | 0.09076256     | 0.09991273     | 0.12000000     | 0.12911186     | 0.13808219     | 0.13903146     | 0.13999044     |\n",
       "| vec.y | 0.1,0.15,0.2   | 0.1,0.15,0.2   | 0.1,0.15,0.2   | 0.1,0.15,0.2   | 0.1,0.15,0.2   | 0.1,0.1,0.1    | 0.1,0.1,0.1    | 0.1,0.1,0.1    | 0.1,0.1,0.1    | 0.1,0.1,0.1    | 0.05,0.1,0.15  | 0.05,0.1,0.15  | 0.05,0.1,0.15  | 0.05,0.1,0.15  | 0.05,0.1,0.15  | 0.12,0.14,0.16 | 0.12,0.14,0.16 | 0.12,0.14,0.16 | 0.12,0.14,0.16 | 0.12,0.14,0.16 |\n",
       "\n"
      ],
      "text/plain": [
       "             [,1]         [,2]         [,3]         [,4]         [,5]        \n",
       "ces.param    -160.00       -13.00        -1.00        -0.01         0.99     \n",
       "planer.value 0.10000000   0.10877432   0.13846154   0.14416666   0.14994335  \n",
       "vec.y        0.1,0.15,0.2 0.1,0.15,0.2 0.1,0.15,0.2 0.1,0.15,0.2 0.1,0.15,0.2\n",
       "             [,6]        [,7]        [,8]        [,9]        [,10]      \n",
       "ces.param    -160.00      -13.00       -1.00       -0.01        0.99    \n",
       "planer.value 0.10000000  0.10000000  0.10000000  0.10000000  0.10000000 \n",
       "vec.y        0.1,0.1,0.1 0.1,0.1,0.1 0.1,0.1,0.1 0.1,0.1,0.1 0.1,0.1,0.1\n",
       "             [,11]         [,12]         [,13]         [,14]        \n",
       "ces.param    -160.00        -13.00         -1.00         -0.01      \n",
       "planer.value 0.05000000    0.05440860    0.08181818    0.09076256   \n",
       "vec.y        0.05,0.1,0.15 0.05,0.1,0.15 0.05,0.1,0.15 0.05,0.1,0.15\n",
       "             [,15]         [,16]          [,17]          [,18]         \n",
       "ces.param       0.99       -160.00         -13.00          -1.00       \n",
       "planer.value 0.09991273    0.12000000     0.12911186     0.13808219    \n",
       "vec.y        0.05,0.1,0.15 0.12,0.14,0.16 0.12,0.14,0.16 0.12,0.14,0.16\n",
       "             [,19]          [,20]         \n",
       "ces.param      -0.01           0.99       \n",
       "planer.value 0.13903146     0.13999044    \n",
       "vec.y        0.12,0.14,0.16 0.12,0.14,0.16"
      ]
     },
     "metadata": {},
     "output_type": "display_data"
    }
   ],
   "source": [
    "# a vector of different Ys\n",
    "vec.out.a <- c(0.1, 0.15, 0.20)\n",
    "vec.out.b <- c(0.1, 0.1, 0.1)\n",
    "vec.out.c <- c(0.05, 0.10, 0.15)\n",
    "vec.out.d <- c(0.12, 0.14, 0.16)\n",
    "vec.out.all <- list(vec.out.a, vec.out.b, vec.out.c, vec.out.d)\n",
    "vec.ces.params <- f_ces_params_vec(3, 3)\n",
    "df.vec.out.all.planer <- bind_rows(lapply(vec.out.all, f_planer_obj_tib_cesvec, vec.ces.params = vec.ces.params))\n",
    "t(df.vec.out.all.planer)\n",
    "# f_ces_params_vec(3, 3)"
   ]
  },
  {
   "cell_type": "code",
   "execution_count": 10,
   "metadata": {},
   "outputs": [
    {
     "data": {
      "image/png": "[encoded data removed]",
      "text/plain": [
       "plot without title"
      ]
     },
     "metadata": {},
     "output_type": "display_data"
    }
   ],
   "source": [
    "# Graphically\n",
    "options(repr.plot.width = 6, repr.plot.height = 3)\n",
    "graphf_planer_obj_tib_cesvec(df.vec.out.all.planer)"
   ]
  },
  {
   "cell_type": "markdown",
   "metadata": {},
   "source": [
    "## Same Total Y, Different Distributions\n",
    "\n",
    "Same total Y, different distributions. Because total Y is the same, there is no difference between objective if we only care about average (perfect substitution)"
   ]
  },
  {
   "cell_type": "code",
   "execution_count": 11,
   "metadata": {},
   "outputs": [
    {
     "data": {
      "text/html": [
       "<table>\n",
       "<tbody>\n",
       "\t<tr><th scope=row>ces.param</th><td>-160.00          </td><td> -13.00          </td><td>  -1.00          </td><td>  -0.01          </td><td>   0.99          </td><td>-160.00          </td><td> -13.00          </td><td>  -1.00          </td><td>  -0.01          </td><td>   0.99          </td><td>-160.00          </td><td> -13.00          </td><td>  -1.00          </td><td>  -0.01          </td><td>   0.99          </td></tr>\n",
       "\t<tr><th scope=row>planer.value</th><td>0.3330000        </td><td>0.3333287        </td><td>0.3333327        </td><td>0.3333330        </td><td>0.3333333        </td><td>0.2500000        </td><td>0.2579191        </td><td>0.3000000        </td><td>0.3148123        </td><td>0.3331371        </td><td>0.1000000        </td><td>0.1088182        </td><td>0.2000000        </td><td>0.2613615        </td><td>0.3326637        </td></tr>\n",
       "\t<tr><th scope=row>vec.y</th><td>0.333,0.333,0.334</td><td>0.333,0.333,0.334</td><td>0.333,0.333,0.334</td><td>0.333,0.333,0.334</td><td>0.333,0.333,0.334</td><td>0.5,0.25,0.25    </td><td>0.5,0.25,0.25    </td><td>0.5,0.25,0.25    </td><td>0.5,0.25,0.25    </td><td>0.5,0.25,0.25    </td><td>0.6,0.3,0.1      </td><td>0.6,0.3,0.1      </td><td>0.6,0.3,0.1      </td><td>0.6,0.3,0.1      </td><td>0.6,0.3,0.1      </td></tr>\n",
       "</tbody>\n",
       "</table>\n"
      ],
      "text/latex": [
       "\\begin{tabular}{r|lllllllllllllll}\n",
       "\tces.param & -160.00           &  -13.00           &   -1.00           &   -0.01           &    0.99           & -160.00           &  -13.00           &   -1.00           &   -0.01           &    0.99           & -160.00           &  -13.00           &   -1.00           &   -0.01           &    0.99          \\\\\n",
       "\tplaner.value & 0.3330000         & 0.3333287         & 0.3333327         & 0.3333330         & 0.3333333         & 0.2500000         & 0.2579191         & 0.3000000         & 0.3148123         & 0.3331371         & 0.1000000         & 0.1088182         & 0.2000000         & 0.2613615         & 0.3326637        \\\\\n",
       "\tvec.y & 0.333,0.333,0.334 & 0.333,0.333,0.334 & 0.333,0.333,0.334 & 0.333,0.333,0.334 & 0.333,0.333,0.334 & 0.5,0.25,0.25     & 0.5,0.25,0.25     & 0.5,0.25,0.25     & 0.5,0.25,0.25     & 0.5,0.25,0.25     & 0.6,0.3,0.1       & 0.6,0.3,0.1       & 0.6,0.3,0.1       & 0.6,0.3,0.1       & 0.6,0.3,0.1      \\\\\n",
       "\\end{tabular}\n"
      ],
      "text/markdown": [
       "\n",
       "| ces.param | -160.00           |  -13.00           |   -1.00           |   -0.01           |    0.99           | -160.00           |  -13.00           |   -1.00           |   -0.01           |    0.99           | -160.00           |  -13.00           |   -1.00           |   -0.01           |    0.99           |\n",
       "| planer.value | 0.3330000         | 0.3333287         | 0.3333327         | 0.3333330         | 0.3333333         | 0.2500000         | 0.2579191         | 0.3000000         | 0.3148123         | 0.3331371         | 0.1000000         | 0.1088182         | 0.2000000         | 0.2613615         | 0.3326637         |\n",
       "| vec.y | 0.333,0.333,0.334 | 0.333,0.333,0.334 | 0.333,0.333,0.334 | 0.333,0.333,0.334 | 0.333,0.333,0.334 | 0.5,0.25,0.25     | 0.5,0.25,0.25     | 0.5,0.25,0.25     | 0.5,0.25,0.25     | 0.5,0.25,0.25     | 0.6,0.3,0.1       | 0.6,0.3,0.1       | 0.6,0.3,0.1       | 0.6,0.3,0.1       | 0.6,0.3,0.1       |\n",
       "\n"
      ],
      "text/plain": [
       "             [,1]              [,2]              [,3]             \n",
       "ces.param    -160.00            -13.00             -1.00          \n",
       "planer.value 0.3330000         0.3333287         0.3333327        \n",
       "vec.y        0.333,0.333,0.334 0.333,0.333,0.334 0.333,0.333,0.334\n",
       "             [,4]              [,5]              [,6]          [,7]         \n",
       "ces.param      -0.01              0.99           -160.00        -13.00      \n",
       "planer.value 0.3333330         0.3333333         0.2500000     0.2579191    \n",
       "vec.y        0.333,0.333,0.334 0.333,0.333,0.334 0.5,0.25,0.25 0.5,0.25,0.25\n",
       "             [,8]          [,9]          [,10]         [,11]       [,12]      \n",
       "ces.param      -1.00         -0.01          0.99       -160.00      -13.00    \n",
       "planer.value 0.3000000     0.3148123     0.3331371     0.1000000   0.1088182  \n",
       "vec.y        0.5,0.25,0.25 0.5,0.25,0.25 0.5,0.25,0.25 0.6,0.3,0.1 0.6,0.3,0.1\n",
       "             [,13]       [,14]       [,15]      \n",
       "ces.param      -1.00       -0.01        0.99    \n",
       "planer.value 0.2000000   0.2613615   0.3326637  \n",
       "vec.y        0.6,0.3,0.1 0.6,0.3,0.1 0.6,0.3,0.1"
      ]
     },
     "metadata": {},
     "output_type": "display_data"
    }
   ],
   "source": [
    "# a vector of different Ys\n",
    "total <- 1\n",
    "vec.out.a <- c(0.333, 0.333, 0.334)/total\n",
    "vec.out.b <- c(0.50, 0.25, 0.25)/total\n",
    "vec.out.c <- c(0.60, 0.30, 0.10)/total\n",
    "vec.out.all <- list(vec.out.a, vec.out.b, vec.out.c)\n",
    "vec.ces.params <- f_ces_params_vec(3, 3)\n",
    "df.vec.out.all.planer <- bind_rows(lapply(vec.out.all, f_planer_obj_tib_cesvec, vec.ces.params = vec.ces.params))\n",
    "t(df.vec.out.all.planer)\n",
    "# f_ces_params_vec(3, 3) "
   ]
  },
  {
   "cell_type": "code",
   "execution_count": 12,
   "metadata": {},
   "outputs": [
    {
     "data": {
      "image/png": "[encoded data removed]",
      "text/plain": [
       "plot without title"
      ]
     },
     "metadata": {},
     "output_type": "display_data"
    }
   ],
   "source": [
    "# Graphically\n",
    "options(repr.plot.width = 6, repr.plot.height = 3)\n",
    "graphf_planer_obj_tib_cesvec(df.vec.out.all.planer)"
   ]
  }
 ],
 "metadata": {
  "kernelspec": {
   "display_name": "R",
   "language": "R",
   "name": "ir"
  },
  "language_info": {
   "codemirror_mode": "r",
   "file_extension": ".r",
   "mimetype": "text/x-r-source",
   "name": "R",
   "pygments_lexer": "r",
   "version": "3.5.1"
  }
 },
 "nbformat": 4,
 "nbformat_minor": 2
}
