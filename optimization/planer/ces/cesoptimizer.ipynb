{
 "cells": [
  {
   "cell_type": "markdown",
   "metadata": {},
   "source": [
    "# Constant Elasticity of Substitution Planer Welfare Subsidies Optimizer Over Quantile/Individual Groups\n",
    "\n",
    "There is some production function or other functional relationship between x and y. When x shifts, y shifts. We are interested in some function over the vector of y. We shift x to maximize some objective over the vector of y. \n",
    "\n",
    "$$\n",
    "\\max_{\\left\\{S_i\\right\\}_{i \\in \\left\\{1,...,N\\right\\}}}\n",
    "O \\left(\n",
    "    \\left\\{ \n",
    "    Y_{it}(X_{it}, S_i) \n",
    "    \\right\\}^{i \\in \\left\\{1,...,N\\right\\}}\n",
    "    _{t \\in \\left\\{1,...,T\\right\\}}\n",
    " \\right)\n",
    "$$\n",
    "\n",
    "Specifically: there is a finite amount of subsidies, there are N individuals observed between month 0 and 24. What are the optimal nutritional subsidies to provide to the N individuals given some function that relates nutritional input to outcome (height), ignoring behavior responses.\n",
    "\n",
    "The N individuals could be N groups of individuals. There could be many more than N people that are in N groups. For example, groups determined by if someone has below or above median initial height."
   ]
  },
  {
   "cell_type": "markdown",
   "metadata": {},
   "source": [
    "## Program Structure\n",
    "\n",
    "The program below has these ingredients. It is not written in the most generic way possible, but wrritten to work with a CES planer's optimization problem where the planer is optimizing over subsidies for sub-groups of individuals. \n",
    "\n",
    "1. Given a dataset, generate subsidy groups within\n",
    "    - each group could have one individual or could have multiple individuals\n",
    "    - dependency: [Generate Joint Quantiles from Multiple Continuous Variables as a Categorical Variable with Linear Index](https://fanwangecon.github.io/R4Econ/generate/quantile/VarCateIdxVarsQuantiles.html)\n",
    "        * group linear index \n",
    "        * group label\n",
    "2. Show Basic Summary Statistics for Each group\n",
    "    - dependency: [All Numeric Variables Mean + SD + N by Groups](https://github.com/FanWangEcon/R4Econ/blob/master/summarize/summ/ByGroupSumm.R)\n",
    "3. Various Prediction Function\n",
    "    - based on some estimation structure that generates overall relationship between intputs and outputs and also individual specific coefficients, some type of production function for example\n",
    "    - prediction functions that generates new outputs based on subsidies for each prediction function model\n",
    "    - re-write this every time. \n",
    "4. Estimation Function Wrapper\n",
    "    - default parameters and key shifting parameters as inputs\n",
    "    - allows for using lapply to estimate for example for multiple parameters\n",
    "    - invokes optim function, and process results with function parameters\n",
    "5. Inner Estimation Function\n",
    "    - what optim invokes\n",
    "    - estimands is first parameter\n",
    "    - additional parameters as list\n",
    "6. Estimation Depencies\n",
    "    - for constrained to unconstrained transformation\n",
    "    - for generating fractions\n",
    "    - for ces objective function"
   ]
  },
  {
   "cell_type": "markdown",
   "metadata": {},
   "source": [
    "## Program"
   ]
  },
  {
   "cell_type": "markdown",
   "metadata": {},
   "source": [
    "### Dependencies\n",
    "\n",
    "To achieve points 1 and 2 and 6 above."
   ]
  },
  {
   "cell_type": "code",
   "execution_count": 3,
   "metadata": {},
   "outputs": [],
   "source": [
    "library(tidyverse)\n",
    "# Point 1\n",
    "source('C:/Users/fan/R4Econ/summarize/summ/ByGroupSumm.R')\n",
    "# Point 2\n",
    "source('C:/Users/fan/R4Econ/generate/quantile/VarCateIdxVarsQuantiles.R')\n",
    "# Point 6\n",
    "# get f_frac_asymp_vec()\n",
    "source('C:/Users/fan/R4Econ/optimization/support/fraction.R')\n",
    "# get f_planer_obj()\n",
    "source('C:/Users/fan/R4Econ/optimization/planer/ces/cesplanerobj.R')"
   ]
  },
  {
   "cell_type": "markdown",
   "metadata": {},
   "source": [
    "### Estimation Objective Function\n",
    "\n",
    "In the function below:\n",
    "1. x is the unconstrained transformed fraction from (optimization/support/fraction.R)\n",
    "2. param.ces is the ces parameter, not that this parameter does not enter the f.subsidy.y.str function\n",
    "3. f.subsidy.y.str is the name of the estimation prediction function (Step 3) in string \n",
    "4. list.subsidy.y.params.other contains a list of parameters needed for f.subsidy.y.str in addition to the "
   ]
  },
  {
   "cell_type": "code",
   "execution_count": 4,
   "metadata": {},
   "outputs": [],
   "source": [
    "# Single Parameter Optimization Functions\n",
    "obj_planer <- function(x, param.ces, f.subsidy.y.str, list.subsidy.y.params.other) {\n",
    "\n",
    "    # Input list\n",
    "    # Convert from Estimation x to Actual Fraction between 0 and 1\n",
    "    list.subsidy.y.params.maximand <- list(vec.subsidy.frac = f_frac_asymp_vec(x))\n",
    "    list.subsidy.y.params <- append(list.subsidy.y.params.other, list.subsidy.y.params.maximand)\n",
    "    \n",
    "    # Call Function\n",
    "    df.y.subsidized <- do.call(f.subsidy.y.str, list.subsidy.y.params)\n",
    "    \n",
    "    # C:\\Users\\fan\\R4Econ\\optimization\\planer\\ces\\cesplanerobj.R\n",
    "    obj <- (-1)*f_planer_obj(vec.y=df.y.subsidized$y_subsidy, param.ces=param.ces)\n",
    "    \n",
    "    return(obj)\n",
    "}"
   ]
  },
  {
   "cell_type": "code",
   "execution_count": 5,
   "metadata": {},
   "outputs": [],
   "source": [
    "# Subsidy Function\n",
    "# var.grp.idx: name of index group variable\n",
    "# subsidy.total: total subsidy\n",
    "# vec.subsidy.frac: fraction of subsidy each group\n",
    "# vec.subsidy.grpsize: number of people in each subsidy group.\n",
    "f_subsidy_vec <- function(df, var.grp.idx, subsidy.total, vec.subsidy.frac, vec.subsidy.grpsize) {\n",
    "    # var.grp.idx <- 'subsidy.grp'\n",
    "    # subsidy_total <- 2\n",
    "    # df.subsidy.frac <- c(0.1, 0.9)\n",
    "    # vec.subsidy.grpsize <- c(1, 1)\n",
    "    return(df %>% mutate(subsidy_grp = paste0(vec.subsidy.frac, collapse=','), \n",
    "                         subsidy = ((subsidy.total*\n",
    "                                     vec.subsidy.frac[df[[var.grp.idx]]])/\n",
    "                                     vec.subsidy.grpsize[df[[var.grp.idx]]])))\n",
    "}"
   ]
  },
  {
   "cell_type": "markdown",
   "metadata": {},
   "source": [
    "### Estimation Wrapper\n",
    "\n",
    "Basically same parameters as above, except that the first parameter here are the starting values for estimation. \n",
    "\n",
    "1. sca.subsidy.frac.init: unconstrained fraction subsidy transformed x initial starting estimation values\n",
    "2. param.ces:\n",
    "3. f.subsidy.y.str: name of the estimation prediction function (Step 3) in string \n",
    "4. list.subsidy.y.params.other: contains a list of parameters needed for f.subsidy.y.str."
   ]
  },
  {
   "cell_type": "code",
   "execution_count": 6,
   "metadata": {},
   "outputs": [],
   "source": [
    "# Optimization Wrapper\n",
    "# sca.subsidy.frac.init.default <- numeric((sca.subsidy.groups-1))+1\n",
    "# list.subsidy.y.params.other must have: vec.subsidy.grpsize\n",
    "# Optimization Function\n",
    "optim_wrapper <- function(sca.subsidy.frac.init, param.ces, f.subsidy.y.str, list.subsidy.y.params.other) {\n",
    "            \n",
    "    # Optimization    \n",
    "    res.opti <- optim(sca.subsidy.frac.init, obj_planer, \n",
    "                      param.ces = param.ces, \n",
    "                      f.subsidy.y.str = f.subsidy.y.str,\n",
    "                      list.subsidy.y.params.other = list.subsidy.y.params.other)\n",
    "    \n",
    "    # Generate Named LIst\n",
    "    sca.subsidy.lengthm1 = length(sca.subsidy.frac.init)\n",
    "    list.sca.subsidy.frac.init <- setNames(sca.subsidy.frac.init, \n",
    "                                           paste0('sca.subsidy.frac.init.v', 1:sca.subsidy.lengthm1))\n",
    "    list.par <- setNames(res.opti$par, paste0('par.v',\n",
    "                                              1:sca.subsidy.lengthm1))\n",
    "    list.par.frac <- setNames(f_frac_asymp_vec(res.opti$par),\n",
    "                              paste0('par.frac.v', 1:(sca.subsidy.lengthm1+1)))\n",
    "    \n",
    "    # Number of Individuals Each Subsidy Group, Normalize Relative Subidy Across Groups\n",
    "    list.vec.subsidy.grpsize <- setNames(list.subsidy.y.params.other$vec.subsidy.grpsize,\n",
    "                                         paste0('par.frac.grpsize.v', 1:(sca.subsidy.lengthm1+1)))\n",
    "    list.vec.frac.norm <- ((f_frac_asymp_vec(res.opti$par))/(list.subsidy.y.params.other$vec.subsidy.grpsize))\n",
    "    list.vec.frac.norm <- list.vec.frac.norm/min(list.vec.frac.norm)\n",
    "    list.vec.subsidy.grpsize.norm <- setNames(list.vec.frac.norm,\n",
    "                                         paste0('par.frac.norm.v', 1:(sca.subsidy.lengthm1+1)))\n",
    "    \n",
    "    # Collect Results\n",
    "    list.esti.res <- list(param.ces = param.ces, \n",
    "                          subsidy.total = list.subsidy.y.params.other[['subsidy.total']], \n",
    "                          par.frac.sum = sum(f_frac_asymp_vec(res.opti$par)),\n",
    "                          value = res.opti$value,\n",
    "                          counts.function = (res.opti$counts)[['function']],\n",
    "                          counts.gradient = (res.opti$counts)[['gradient']],\n",
    "                          convergence = res.opti$convergence) \n",
    "    \n",
    "    list.esti.res <- append(list.esti.res, list.sca.subsidy.frac.init)\n",
    "    list.esti.res <- append(list.esti.res, list.par)\n",
    "    list.esti.res <- append(list.esti.res, list.par.frac)\n",
    "    list.esti.res <- append(list.esti.res, list.vec.subsidy.grpsize)\n",
    "    list.esti.res <- append(list.esti.res, list.vec.subsidy.grpsize.norm)    \n",
    "    \n",
    "    # Return\n",
    "    return(list.esti.res)\n",
    "}"
   ]
  },
  {
   "cell_type": "markdown",
   "metadata": {},
   "source": [
    "### Final Results Graph\n",
    "Graphing given many CES parameters"
   ]
  },
  {
   "cell_type": "code",
   "execution_count": 7,
   "metadata": {},
   "outputs": [],
   "source": [
    "# Graphically\n",
    "graphf.ces.opti.subsidy <- function(df.ces.opti, sca.subsidy.groups, vec.subsidy.grpsize, \n",
    "                                    str.title, str.captions) {\n",
    "    df.ces.opti %>%\n",
    "        gather(variable, value, -param.ces)  %>%\n",
    "        ggplot(aes(x=factor(param.ces), y=value,\n",
    "                   fill=variable,\n",
    "                   label=sprintf('%.3f', value))) + \n",
    "        geom_bar(stat = 'identity', position='dodge2') + \n",
    "        geom_text(size=3, hjust=0.5, vjust=0, angle=0,\n",
    "                  fontface = 'bold', color='black',\n",
    "                  position = position_dodge(width = 1)) + \n",
    "        labs(title = paste0(paste0(str.title, '\\nOptimal Subsidy ', \n",
    "                                   sca.subsidy.groups,' Groups, n per group=(', \n",
    "                                   paste0(vec.subsidy.grpsize, collapse=',')\n",
    "                              ,')\\n0=Cobb-Douglas, 1=Perfect Substitutes, -Inf=Leontiff')),\n",
    "               x = 'CES Parameters',\n",
    "               y = 'Subsidies',\n",
    "               caption = str.captions) +\n",
    "        theme(axis.text.x = element_text(angle = 90, vjust=0.3, hjust = 1))\n",
    "}"
   ]
  },
  {
   "cell_type": "markdown",
   "metadata": {},
   "source": [
    "## Data"
   ]
  },
  {
   "cell_type": "markdown",
   "metadata": {},
   "source": [
    "### Load Data"
   ]
  },
  {
   "cell_type": "code",
   "execution_count": 8,
   "metadata": {},
   "outputs": [
    {
     "name": "stderr",
     "output_type": "stream",
     "text": [
      "Parsed with column specification:\n",
      "cols(\n",
      "  S.country = col_character(),\n",
      "  vil.id = col_double(),\n",
      "  indi.id = col_double(),\n",
      "  sex = col_character(),\n",
      "  svymthRound = col_double(),\n",
      "  momEdu = col_double(),\n",
      "  wealthIdx = col_double(),\n",
      "  hgt = col_double(),\n",
      "  wgt = col_double(),\n",
      "  hgt0 = col_double(),\n",
      "  wgt0 = col_double(),\n",
      "  prot = col_double(),\n",
      "  cal = col_double(),\n",
      "  p.A.prot = col_double(),\n",
      "  p.A.nProt = col_double()\n",
      ")\n"
     ]
    }
   ],
   "source": [
    "# Library\n",
    "library(tidyverse)\n",
    "\n",
    "# Load Sample Data\n",
    "setwd('C:/Users/fan/R4Econ/_data/')\n",
    "df <- read_csv('height_weight.csv')"
   ]
  },
  {
   "cell_type": "markdown",
   "metadata": {},
   "source": [
    "### Data Selection\n",
    "\n",
    "We will have several data selection rules to generate grouped dataframe for subsidies:\n",
    "\n",
    "1. Dataframe with two groups: below and above median initial height, each group has multiple individuals\n",
    "    + implicitly, this means the planer is doing policy conditional on observable characteristics, integrating over empirical conditional distribution of unobservable.\n",
    "2. Dataframe with 3 individuals: subsidy specific to each individual\n",
    "    + implicitly, this would only be relevant if we know the individual type. \n",
    "3. Dataframe with 4 groups: above and below median initial height, and above below median initial weight as well.\n",
    "\n",
    "Note for the grouped policy, we need to distinguish between individual subsidy and total group subsidy. We can adjust either, will adjust group level subsidy, then need to interpret results then as fraction of subsidy per person. Graph carefully. "
   ]
  },
  {
   "cell_type": "markdown",
   "metadata": {},
   "source": [
    "#### Data 1: df.i4xy"
   ]
  },
  {
   "cell_type": "code",
   "execution_count": 9,
   "metadata": {},
   "outputs": [
    {
     "name": "stdout",
     "output_type": "stream",
     "text": [
      "[1] \"dim(df.i4xy)=39,5\"\n"
     ]
    },
    {
     "data": {
      "text/html": [
       "<table>\n",
       "<thead><tr><th scope=col>i</th><th scope=col>t</th><th scope=col>y</th><th scope=col>x</th><th scope=col>grp.idx.i4xy</th></tr></thead>\n",
       "<tbody>\n",
       "\t<tr><td>4   </td><td>0   </td><td>48.4</td><td>0.5 </td><td>1   </td></tr>\n",
       "\t<tr><td>4   </td><td>2   </td><td>53.9</td><td>1.0 </td><td>1   </td></tr>\n",
       "\t<tr><td>4   </td><td>4   </td><td>59.8</td><td>0.5 </td><td>1   </td></tr>\n",
       "\t<tr><td>...</td><td>...</td><td>...</td><td>...</td><td>...</td></tr>\n",
       "\t<tr><td>15  </td><td>22  </td><td>84  </td><td> 8.9</td><td>3   </td></tr>\n",
       "\t<tr><td>15  </td><td>24  </td><td>85  </td><td>20.3</td><td>3   </td></tr>\n",
       "</tbody>\n",
       "</table>\n"
      ],
      "text/latex": [
       "\\begin{tabular}{r|lllll}\n",
       " i & t & y & x & grp.idx.i4xy\\\\\n",
       "\\hline\n",
       "\t 4    & 0    & 48.4 & 0.5  & 1   \\\\\n",
       "\t 4    & 2    & 53.9 & 1.0  & 1   \\\\\n",
       "\t 4    & 4    & 59.8 & 0.5  & 1   \\\\\n",
       "\t ... & ... & ... & ... & ...\\\\\n",
       "\t 15   & 22   & 84   &  8.9 & 3   \\\\\n",
       "\t 15   & 24   & 85   & 20.3 & 3   \\\\\n",
       "\\end{tabular}\n"
      ],
      "text/markdown": [
       "\n",
       "| i | t | y | x | grp.idx.i4xy |\n",
       "|---|---|---|---|---|\n",
       "| 4    | 0    | 48.4 | 0.5  | 1    |\n",
       "| 4    | 2    | 53.9 | 1.0  | 1    |\n",
       "| 4    | 4    | 59.8 | 0.5  | 1    |\n",
       "| ... | ... | ... | ... | ... |\n",
       "| 15   | 22   | 84   |  8.9 | 3    |\n",
       "| 15   | 24   | 85   | 20.3 | 3    |\n",
       "\n"
      ],
      "text/plain": [
       "    i   t   y    x    grp.idx.i4xy\n",
       "1   4   0   48.4 0.5  1           \n",
       "2   4   2   53.9 1.0  1           \n",
       "3   4   4   59.8 0.5  1           \n",
       "... ... ... ...  ...  ...         \n",
       "38  15  22  84    8.9 3           \n",
       "39  15  24  85   20.3 3           "
      ]
     },
     "metadata": {},
     "output_type": "display_data"
    }
   ],
   "source": [
    "# These are the same as in: https://fanwangecon.github.io/HeightProfile/r/planer/paneloptigN.html\n",
    "# Select 3 individuals, information from second year, four variables\n",
    "var.qjnt.grp.idx.i4xy <- 'grp.idx.i4xy'\n",
    "vars.subsidy.group <- 'i'\n",
    "df.i4xy <- df %>% filter(svymthRound <= 24 & svymthRound >= 0 & \n",
    "              S.country == 'Cebu' & (indi.id == 4 | indi.id == 13  | indi.id == 15)) %>% \n",
    "              select(i = indi.id, t = svymthRound, y = hgt, x =prot) %>% \n",
    "              mutate(!!var.qjnt.grp.idx.i4xy := group_indices(., !!!syms(vars.subsidy.group))) %>%\n",
    "              drop_na(i, t, y, x) \n",
    "\n",
    "# Obtain dataframe with quantile cut\n",
    "df.i4xy.grps <- tibble(id=c(4,13,15), !!var.qjnt.grp.idx.i4xy := c(1,2,3))\n",
    "sca.subsidy.groups.i4xy <- 3\n",
    "vec.subsidy.grpsize.i4xy <- c(1,1,1)\n",
    "\n",
    "# Results\n",
    "print(paste0('dim(df.i4xy)=', dim(df.i4xy)[1], ',', dim(df.i4xy)[2]))\n",
    "options(repr.matrix.max.rows=5, repr.matrix.max.cols=20)\n",
    "df.i4xy"
   ]
  },
  {
   "cell_type": "markdown",
   "metadata": {},
   "source": [
    "#### Data 2: df.h0 Cebu\n",
    "\n",
    "Generate quantile cuts. Generate two separate dataframes. \n",
    "Dataframes could bedifferent because some observations are dropped due to not having observation for the quantile by variables. "
   ]
  },
  {
   "cell_type": "code",
   "execution_count": 10,
   "metadata": {},
   "outputs": [
    {
     "name": "stdout",
     "output_type": "stream",
     "text": [
      "[1] \"dim(df.h0)=749,8\"\n"
     ]
    },
    {
     "data": {
      "text/html": [
       "<table>\n",
       "<thead><tr><th scope=col>h0_Qs0e1n2</th><th scope=col>cebu.grp.idx.h0</th><th scope=col>mean</th><th scope=col>n</th></tr></thead>\n",
       "<tbody>\n",
       "\t<tr><td>[44.2,49.4]; (1) of Qs0e1n2</td><td>1                          </td><td>47.99677                   </td><td>31                         </td></tr>\n",
       "\t<tr><td>(49.4,54]; (2) of Qs0e1n2  </td><td>2                          </td><td>50.99655                   </td><td>29                         </td></tr>\n",
       "</tbody>\n",
       "</table>\n"
      ],
      "text/latex": [
       "\\begin{tabular}{r|llll}\n",
       " h0\\_Qs0e1n2 & cebu.grp.idx.h0 & mean & n\\\\\n",
       "\\hline\n",
       "\t {[}44.2,49.4{]}; (1) of Qs0e1n2 & 1                               & 47.99677                        & 31                             \\\\\n",
       "\t (49.4,54{]}; (2) of Qs0e1n2   & 2                             & 50.99655                      & 29                           \\\\\n",
       "\\end{tabular}\n"
      ],
      "text/markdown": [
       "\n",
       "| h0_Qs0e1n2 | cebu.grp.idx.h0 | mean | n |\n",
       "|---|---|---|---|\n",
       "| [44.2,49.4]; (1) of Qs0e1n2 | 1                           | 47.99677                    | 31                          |\n",
       "| (49.4,54]; (2) of Qs0e1n2   | 2                           | 50.99655                    | 29                          |\n",
       "\n"
      ],
      "text/plain": [
       "  h0_Qs0e1n2                  cebu.grp.idx.h0 mean     n \n",
       "1 [44.2,49.4]; (1) of Qs0e1n2 1               47.99677 31\n",
       "2 (49.4,54]; (2) of Qs0e1n2   2               50.99655 29"
      ]
     },
     "metadata": {},
     "output_type": "display_data"
    },
    {
     "name": "stdout",
     "output_type": "stream",
     "text": [
      "[1] \"vec.subsidy.grpsize.h0=31,29\"\n",
      "[1] \"sca.subsidy.groups.h0=2\"\n"
     ]
    }
   ],
   "source": [
    "# Base Data\n",
    "df.cebu.t0t24 <- df %>% filter(svymthRound <= 24 & svymthRound >= 0 & \n",
    "                               S.country == 'Cebu' & \n",
    "                               indi.id <= 60 ) %>% \n",
    "            select(i = indi.id, t = svymthRound, y = hgt, x = prot, h0 = hgt0, w = wealthIdx) %>%\n",
    "            drop_na(i, t, y, x, h0, w)\n",
    "\n",
    "# Cut Quantiles\n",
    "var.qjnt.grp.idx.h0 <- 'cebu.grp.idx.h0'\n",
    "list.cts2quantile.h0 <- list(list(vars=c('h0'), prob=c(0, 0.5, 1.0)))\n",
    "results.h0 <- df_cut_by_sliced_quantiles_joint(df.cebu.t0t24, var.qjnt.grp.idx.h0, list.cts2quantile.h0,\n",
    "                                               vars.group_by = c('i'), vars.arrange = c('i', 't'),\n",
    "                                               drop.any.quantile.na = TRUE, toprint = FALSE)\n",
    "# Obtain dataframe with quantile cut\n",
    "df.h0 <- results.h0$df.with.cut.quant\n",
    "df.h0.grps <- results.h0$df.group.slice1.cnt.mean\n",
    "sca.subsidy.groups.h0 <- dim(df.h0.grps)[1]\n",
    "vec.subsidy.grpsize.h0 <- df.h0.grps$n\n",
    "\n",
    "# Show Stats\n",
    "print(paste0('dim(df.h0)=', dim(df.h0)[1], ',', dim(df.h0)[2]))\n",
    "df.h0.grps \n",
    "print(paste0('vec.subsidy.grpsize.h0=', paste0(vec.subsidy.grpsize.h0, collapse=',')))\n",
    "print(paste0('sca.subsidy.groups.h0=', sca.subsidy.groups.h0))"
   ]
  },
  {
   "cell_type": "markdown",
   "metadata": {},
   "source": [
    "#### Data 3: df.h0wlt Guatemala\n",
    "\n",
    "Two Variables Quantile Cut Guatemala."
   ]
  },
  {
   "cell_type": "code",
   "execution_count": 11,
   "metadata": {},
   "outputs": [
    {
     "name": "stderr",
     "output_type": "stream",
     "text": [
      "Joining, by = c(\"i\", \"t\", \"y\", \"x\", \"h0\", \"w\")\n"
     ]
    },
    {
     "name": "stdout",
     "output_type": "stream",
     "text": [
      "[1] \"dim(df.h0wlt)=1808,9\"\n"
     ]
    },
    {
     "data": {
      "text/html": [
       "<table>\n",
       "<thead><tr><th scope=col>h0_Qs0e1n2</th><th scope=col>w_Qs0e1n2</th><th scope=col>guat.grp.idx.h0wlt</th><th scope=col>h0_mean</th><th scope=col>w_mean</th><th scope=col>h0_n</th><th scope=col>w_n</th></tr></thead>\n",
       "<tbody>\n",
       "\t<tr><td>[40.6,49.9]; (1) of Qs0e1n2</td><td>[1,2.2]; (1) of Qs0e1n2    </td><td>1                          </td><td>47.64340                   </td><td>1.725472                   </td><td>106                        </td><td>106                        </td></tr>\n",
       "\t<tr><td>[40.6,49.9]; (1) of Qs0e1n2</td><td>(2.2,5.7]; (2) of Qs0e1n2  </td><td>2                          </td><td>48.33924                   </td><td>3.153165                   </td><td> 79                        </td><td> 79                        </td></tr>\n",
       "\t<tr><td>(49.9,56.7]; (2) of Qs0e1n2</td><td>[1,2.2]; (1) of Qs0e1n2    </td><td>3                          </td><td>51.45867                   </td><td>1.654667                   </td><td> 75                        </td><td> 75                        </td></tr>\n",
       "\t<tr><td>(49.9,56.7]; (2) of Qs0e1n2</td><td>(2.2,5.7]; (2) of Qs0e1n2  </td><td>4                          </td><td>51.72400                   </td><td>3.090000                   </td><td>100                        </td><td>100                        </td></tr>\n",
       "</tbody>\n",
       "</table>\n"
      ],
      "text/latex": [
       "\\begin{tabular}{r|lllllll}\n",
       " h0\\_Qs0e1n2 & w\\_Qs0e1n2 & guat.grp.idx.h0wlt & h0\\_mean & w\\_mean & h0\\_n & w\\_n\\\\\n",
       "\\hline\n",
       "\t {[}40.6,49.9{]}; (1) of Qs0e1n2 & {[}1,2.2{]}; (1) of Qs0e1n2     & 1                               & 47.64340                        & 1.725472                        & 106                             & 106                            \\\\\n",
       "\t {[}40.6,49.9{]}; (1) of Qs0e1n2 & (2.2,5.7{]}; (2) of Qs0e1n2     & 2                               & 48.33924                        & 3.153165                        &  79                             &  79                            \\\\\n",
       "\t (49.9,56.7{]}; (2) of Qs0e1n2 & {[}1,2.2{]}; (1) of Qs0e1n2   & 3                             & 51.45867                      & 1.654667                      &  75                           &  75                          \\\\\n",
       "\t (49.9,56.7{]}; (2) of Qs0e1n2 & (2.2,5.7{]}; (2) of Qs0e1n2   & 4                             & 51.72400                      & 3.090000                      & 100                           & 100                          \\\\\n",
       "\\end{tabular}\n"
      ],
      "text/markdown": [
       "\n",
       "| h0_Qs0e1n2 | w_Qs0e1n2 | guat.grp.idx.h0wlt | h0_mean | w_mean | h0_n | w_n |\n",
       "|---|---|---|---|---|---|---|\n",
       "| [40.6,49.9]; (1) of Qs0e1n2 | [1,2.2]; (1) of Qs0e1n2     | 1                           | 47.64340                    | 1.725472                    | 106                         | 106                         |\n",
       "| [40.6,49.9]; (1) of Qs0e1n2 | (2.2,5.7]; (2) of Qs0e1n2   | 2                           | 48.33924                    | 3.153165                    |  79                         |  79                         |\n",
       "| (49.9,56.7]; (2) of Qs0e1n2 | [1,2.2]; (1) of Qs0e1n2     | 3                           | 51.45867                    | 1.654667                    |  75                         |  75                         |\n",
       "| (49.9,56.7]; (2) of Qs0e1n2 | (2.2,5.7]; (2) of Qs0e1n2   | 4                           | 51.72400                    | 3.090000                    | 100                         | 100                         |\n",
       "\n"
      ],
      "text/plain": [
       "  h0_Qs0e1n2                  w_Qs0e1n2                 guat.grp.idx.h0wlt\n",
       "1 [40.6,49.9]; (1) of Qs0e1n2 [1,2.2]; (1) of Qs0e1n2   1                 \n",
       "2 [40.6,49.9]; (1) of Qs0e1n2 (2.2,5.7]; (2) of Qs0e1n2 2                 \n",
       "3 (49.9,56.7]; (2) of Qs0e1n2 [1,2.2]; (1) of Qs0e1n2   3                 \n",
       "4 (49.9,56.7]; (2) of Qs0e1n2 (2.2,5.7]; (2) of Qs0e1n2 4                 \n",
       "  h0_mean  w_mean   h0_n w_n\n",
       "1 47.64340 1.725472 106  106\n",
       "2 48.33924 3.153165  79   79\n",
       "3 51.45867 1.654667  75   75\n",
       "4 51.72400 3.090000 100  100"
      ]
     },
     "metadata": {},
     "output_type": "display_data"
    },
    {
     "name": "stdout",
     "output_type": "stream",
     "text": [
      "[1] \"vec.subsidy.grpsize.h0wlt=106,79,75,100\"\n",
      "[1] \"sca.subsidy.groups.h0wlt=4\"\n"
     ]
    }
   ],
   "source": [
    "# Base Data Women Guatemala\n",
    "df.guat.t0t24 <- df %>% filter(svymthRound <= 24 & svymthRound >= 0 & \n",
    "                               S.country == 'Guatemala') %>% \n",
    "            select(i = indi.id, t = svymthRound, y = hgt, x = prot, h0 = hgt0, w = wealthIdx) %>%\n",
    "            drop_na(i, t, y, x, h0, w)\n",
    "\n",
    "# Cut Quantiles\n",
    "var.qjnt.grp.idx.h0wlt <- 'guat.grp.idx.h0wlt'\n",
    "list.cts2quantile.h0wlt <- list(list(vars=c('h0'), prob=c(0, 0.5, 1.0)), \n",
    "                          list(vars=c('w'), prob=c(0, 0.5, 1.0)))\n",
    "results.h0wlt <- df_cut_by_sliced_quantiles_joint(df.guat.t0t24, var.qjnt.grp.idx.h0wlt, list.cts2quantile.h0wlt,\n",
    "                                                  vars.group_by = c('i'), vars.arrange = c('i', 't'),\n",
    "                                                  drop.any.quantile.na = TRUE, toprint = FALSE)\n",
    "# Obtain dataframe with quantile cut\n",
    "df.h0wlt <- results.h0wlt$df.with.cut.quant\n",
    "df.h0wlt.grps <- results.h0wlt$df.group.slice1.cnt.mean\n",
    "sca.subsidy.groups.h0wlt <- dim(df.h0wlt.grps)[1]\n",
    "vec.subsidy.grpsize.h0wlt <- df.h0wlt.grps$h0_n\n",
    "\n",
    "# Show Stats\n",
    "print(paste0('dim(df.h0wlt)=', dim(df.h0wlt)[1], ',', dim(df.h0wlt)[2]))\n",
    "df.h0wlt.grps\n",
    "print(paste0('vec.subsidy.grpsize.h0wlt=', paste0(vec.subsidy.grpsize.h0wlt, collapse=',')))\n",
    "print(paste0('sca.subsidy.groups.h0wlt=', sca.subsidy.groups.h0wlt))"
   ]
  },
  {
   "cell_type": "markdown",
   "metadata": {},
   "source": [
    "## Estimation and Prediction Functions\n",
    "\n",
    "Run Estimations Separately for different Data group, and generate different prediction functions based on them. \n",
    "\n",
    "Only three fixed effects for df.i4xy, about 60 for df.h0, and then about 360 for df.h0wlt. \n",
    "\n",
    "First run a timer."
   ]
  },
  {
   "cell_type": "code",
   "execution_count": 12,
   "metadata": {},
   "outputs": [],
   "source": [
    "# Regressions\n",
    "f_res_linfe <- function(df) lm(log(y) ~ log(x) + factor(i) - 1 , data=df)"
   ]
  },
  {
   "cell_type": "code",
   "execution_count": 13,
   "metadata": {},
   "outputs": [
    {
     "data": {
      "text/plain": [
       "   user  system elapsed \n",
       "   0.02    0.00    0.02 "
      ]
     },
     "metadata": {},
     "output_type": "display_data"
    },
    {
     "data": {
      "text/plain": [
       "   user  system elapsed \n",
       "      0       0       0 "
      ]
     },
     "metadata": {},
     "output_type": "display_data"
    },
    {
     "data": {
      "text/plain": [
       "   user  system elapsed \n",
       "   0.22    0.00    0.22 "
      ]
     },
     "metadata": {},
     "output_type": "display_data"
    }
   ],
   "source": [
    "# Timing\n",
    "system.time({f_res_linfe(df.i4xy)})\n",
    "system.time({f_res_linfe(df.h0)})\n",
    "system.time({f_res_linfe(df.h0wlt)})"
   ]
  },
  {
   "cell_type": "code",
   "execution_count": 14,
   "metadata": {},
   "outputs": [],
   "source": [
    "# StoreEstimation Results\n",
    "res.linfe.i4xy <- lm(log(y) ~ log(x) + factor(i) - 1 , data=df.i4xy)\n",
    "res.linfe.h0 <- lm(log(y) ~ log(x) + factor(i) - 1 , data=df.h0)\n",
    "res.linfe.h0wlt <- lm(log(y) ~ log(x) + factor(i) - 1 , data=df.h0wlt)"
   ]
  },
  {
   "cell_type": "code",
   "execution_count": 15,
   "metadata": {},
   "outputs": [],
   "source": [
    "# Summaries\n",
    "# str(res.linfe.h0)\n",
    "# summary(res.linfe.h0)\n",
    "# summary(res.linfe.h0wlt)\n",
    "# summary(res.linfe.i4xy)"
   ]
  },
  {
   "cell_type": "code",
   "execution_count": 16,
   "metadata": {},
   "outputs": [],
   "source": [
    "# Function 2\n",
    "f_subsidy_y_cd <- function(df, res.linfe,\n",
    "                           var.grp.idx, subsidy.total,\n",
    "                           vec.subsidy.frac, vec.subsidy.grpsize) {\n",
    "    \n",
    "    # Invoke Function 1\n",
    "    df.wth.subsidy <- f_subsidy_vec(df, var.grp.idx, subsidy.total,\n",
    "                                    vec.subsidy.frac, vec.subsidy.grpsize)\n",
    "    \n",
    "    # Y with subsidy for linear regresion model\n",
    "    df.wth.subsidy %>% mutate(y_subsidy =\n",
    "                              exp(predict(res.linfe,\n",
    "                                          (df.wth.subsidy %>% \n",
    "                                           mutate(x = x + subsidy)))))\n",
    "}"
   ]
  },
  {
   "cell_type": "markdown",
   "metadata": {},
   "source": [
    "## Planer Optimization Parameters Set Up"
   ]
  },
  {
   "cell_type": "markdown",
   "metadata": {},
   "source": [
    "### For 3 Individuals"
   ]
  },
  {
   "cell_type": "code",
   "execution_count": 17,
   "metadata": {},
   "outputs": [],
   "source": [
    "subsidy.total.default.person <- 30"
   ]
  },
  {
   "cell_type": "code",
   "execution_count": 18,
   "metadata": {},
   "outputs": [],
   "source": [
    "# These are the same as in: https://fanwangecon.github.io/HeightProfile/r/planer/paneloptigN.html\n",
    "# Should produce the same results\n",
    "# Default Parameters for Estimation Set up\n",
    "f.subsidy.y.str.i4xy <- 'f_subsidy_y_cd'\n",
    "t.filter.default.i4xy <- 24\n",
    "subsidy.total.default.i4xy <- subsidy.total.default.person*sum(vec.subsidy.grpsize.i4xy)\n",
    "# lists of Inputs\n",
    "df.default.i4xy <- df.i4xy %>% filter(t == t.filter.default.i4xy)\n",
    "list.subsidy.y.params.other.default.i4xy <- list(df = df.default.i4xy, \n",
    "                                            res.linfe = res.linfe.i4xy,\n",
    "                                            var.grp.idx = var.qjnt.grp.idx.i4xy,\n",
    "                                            subsidy.total = subsidy.total.default.i4xy,\n",
    "                                            vec.subsidy.grpsize = vec.subsidy.grpsize.i4xy)\n",
    "list.subsidy.y.params.maximand.default.i4xy <- list(vec.subsidy.frac =\n",
    "                                               round(f_subsidy_frac(sca.subsidy.groups.i4xy, 'rand', seed=13), 3))\n",
    "# Overall\n",
    "list.subsidy.y.params.i4xy <- append(list.subsidy.y.params.other.default.i4xy,\n",
    "                                     list.subsidy.y.params.maximand.default.i4xy)"
   ]
  },
  {
   "cell_type": "markdown",
   "metadata": {},
   "source": [
    "### For h0 Cebu 60 people"
   ]
  },
  {
   "cell_type": "code",
   "execution_count": 19,
   "metadata": {},
   "outputs": [],
   "source": [
    "# Default Parameters for Estimation Set up\n",
    "f.subsidy.y.str.h0 <- 'f_subsidy_y_cd'\n",
    "t.filter.default.h0 <- 24\n",
    "subsidy.total.default.h0 <- subsidy.total.default.person*sum(vec.subsidy.grpsize.h0)\n",
    "\n",
    "df.default.h0 <- df.h0 %>% filter(t == t.filter.default.h0)\n",
    "\n",
    "# lists of Inputs\n",
    "list.subsidy.y.params.other.default.h0 <- list(df = df.default.h0, \n",
    "                                               res.linfe = res.linfe.h0,\n",
    "                                               var.grp.idx = var.qjnt.grp.idx.h0,\n",
    "                                               subsidy.total = subsidy.total.default.h0,\n",
    "                                               vec.subsidy.grpsize = vec.subsidy.grpsize.h0)\n",
    "list.subsidy.y.params.maximand.default.h0 <- list(vec.subsidy.frac =\n",
    "                                               round(f_subsidy_frac(sca.subsidy.groups.h0, 'unif', seed=13), 3))\n",
    "\n",
    "# Overall\n",
    "list.subsidy.y.params.h0 <- append(list.subsidy.y.params.other.default.h0,\n",
    "                                   list.subsidy.y.params.maximand.default.h0)"
   ]
  },
  {
   "cell_type": "markdown",
   "metadata": {},
   "source": [
    "### For h0wlt Guatemala"
   ]
  },
  {
   "cell_type": "code",
   "execution_count": 20,
   "metadata": {},
   "outputs": [],
   "source": [
    "# Default Parameters for Estimation Set up\n",
    "f.subsidy.y.str.h0wlt <- 'f_subsidy_y_cd'\n",
    "t.filter.default.h0wlt <- 24\n",
    "# 3 people 100, 300 people now\n",
    "subsidy.total.default.h0wlt <- subsidy.total.default.person*sum(vec.subsidy.grpsize.h0wlt)\n",
    "\n",
    "df.default.h0wlt <- df.h0wlt %>% filter(t == t.filter.default.h0wlt)\n",
    "list.subsidy.y.params.other.default.h0wlt <- list(df = df.default.h0wlt, \n",
    "                                                  res.linfe = res.linfe.h0wlt,\n",
    "                                                  var.grp.idx = var.qjnt.grp.idx.h0wlt,\n",
    "                                                  subsidy.total = subsidy.total.default.h0wlt, \n",
    "                                                  vec.subsidy.grpsize = vec.subsidy.grpsize.h0wlt)\n",
    "list.subsidy.y.params.maximand.default.h0wlt <- list(vec.subsidy.frac = \n",
    "                                                     round(f_subsidy_frac(sca.subsidy.groups.h0wlt, 'unif', seed=13), 3))\n",
    "\n",
    "# Overall\n",
    "list.subsidy.y.params.h0wlt <- append(list.subsidy.y.params.other.default.h0wlt,\n",
    "                                      list.subsidy.y.params.maximand.default.h0wlt)"
   ]
  },
  {
   "cell_type": "markdown",
   "metadata": {},
   "source": [
    "### Testing Prediction Function"
   ]
  },
  {
   "cell_type": "code",
   "execution_count": 21,
   "metadata": {},
   "outputs": [
    {
     "data": {
      "text/html": [
       "<table>\n",
       "<thead><tr><th scope=col>i</th><th scope=col>t</th><th scope=col>y</th><th scope=col>x</th><th scope=col>grp.idx.i4xy</th><th scope=col>subsidy_grp</th><th scope=col>subsidy</th><th scope=col>y_subsidy</th></tr></thead>\n",
       "<tbody>\n",
       "\t<tr><td> 4               </td><td>24               </td><td>78.1             </td><td>10.3             </td><td>1                </td><td>0.528,0.183,0.289</td><td>47.52            </td><td>96.20562         </td></tr>\n",
       "\t<tr><td>13               </td><td>24               </td><td>78.7             </td><td>11.0             </td><td>2                </td><td>0.528,0.183,0.289</td><td>16.47            </td><td>87.46888         </td></tr>\n",
       "\t<tr><td>15               </td><td>24               </td><td>85.0             </td><td>20.3             </td><td>3                </td><td>0.528,0.183,0.289</td><td>26.01            </td><td>92.74389         </td></tr>\n",
       "</tbody>\n",
       "</table>\n"
      ],
      "text/latex": [
       "\\begin{tabular}{r|llllllll}\n",
       " i & t & y & x & grp.idx.i4xy & subsidy\\_grp & subsidy & y\\_subsidy\\\\\n",
       "\\hline\n",
       "\t  4                & 24                & 78.1              & 10.3              & 1                 & 0.528,0.183,0.289 & 47.52             & 96.20562         \\\\\n",
       "\t 13                & 24                & 78.7              & 11.0              & 2                 & 0.528,0.183,0.289 & 16.47             & 87.46888         \\\\\n",
       "\t 15                & 24                & 85.0              & 20.3              & 3                 & 0.528,0.183,0.289 & 26.01             & 92.74389         \\\\\n",
       "\\end{tabular}\n"
      ],
      "text/markdown": [
       "\n",
       "| i | t | y | x | grp.idx.i4xy | subsidy_grp | subsidy | y_subsidy |\n",
       "|---|---|---|---|---|---|---|---|\n",
       "|  4                | 24                | 78.1              | 10.3              | 1                 | 0.528,0.183,0.289 | 47.52             | 96.20562          |\n",
       "| 13                | 24                | 78.7              | 11.0              | 2                 | 0.528,0.183,0.289 | 16.47             | 87.46888          |\n",
       "| 15                | 24                | 85.0              | 20.3              | 3                 | 0.528,0.183,0.289 | 26.01             | 92.74389          |\n",
       "\n"
      ],
      "text/plain": [
       "  i  t  y    x    grp.idx.i4xy subsidy_grp       subsidy y_subsidy\n",
       "1  4 24 78.1 10.3 1            0.528,0.183,0.289 47.52   96.20562 \n",
       "2 13 24 78.7 11.0 2            0.528,0.183,0.289 16.47   87.46888 \n",
       "3 15 24 85.0 20.3 3            0.528,0.183,0.289 26.01   92.74389 "
      ]
     },
     "metadata": {},
     "output_type": "display_data"
    }
   ],
   "source": [
    "# Overall Parameter vector\n",
    "options(repr.matrix.max.rows=5, repr.matrix.max.cols=20)\n",
    "do.call(f.subsidy.y.str.i4xy, list.subsidy.y.params.i4xy)"
   ]
  },
  {
   "cell_type": "code",
   "execution_count": 22,
   "metadata": {},
   "outputs": [
    {
     "data": {
      "text/html": [
       "<table>\n",
       "<thead><tr><th scope=col>i</th><th scope=col>t</th><th scope=col>y</th><th scope=col>x</th><th scope=col>h0</th><th scope=col>w</th><th scope=col>h0_Qs0e1n2</th><th scope=col>cebu.grp.idx.h0</th><th scope=col>subsidy_grp</th><th scope=col>subsidy</th><th scope=col>y_subsidy</th></tr></thead>\n",
       "<tbody>\n",
       "\t<tr><td>2                        </td><td>24                       </td><td>79.2                     </td><td>14.1                     </td><td>49.7                     </td><td> 7.3                     </td><td>(49.4,54]; (2) of Qs0e1n2</td><td>2                        </td><td>0.5,0.5                  </td><td>31.03448                 </td><td>85.70456                 </td></tr>\n",
       "\t<tr><td>3                        </td><td>24                       </td><td>76.7                     </td><td>20.6                     </td><td>51.7                     </td><td>10.3                     </td><td>(49.4,54]; (2) of Qs0e1n2</td><td>2                        </td><td>0.5,0.5                  </td><td>31.03448                 </td><td>78.28437                 </td></tr>\n",
       "\t<tr><td>4                        </td><td>24                       </td><td>78.1                     </td><td>10.3                     </td><td>50.2                     </td><td>13.3                     </td><td>(49.4,54]; (2) of Qs0e1n2</td><td>2                        </td><td>0.5,0.5                  </td><td>31.03448                 </td><td>87.84156                 </td></tr>\n",
       "\t<tr><td>...</td><td>...</td><td>...</td><td>...</td><td>...</td><td>...</td><td>...</td><td>...</td><td>...</td><td>...</td><td>...</td></tr>\n",
       "\t<tr><td>58                         </td><td>24                         </td><td>80.3                       </td><td>8.7                        </td><td>46.7                       </td><td>10.3                       </td><td>[44.2,49.4]; (1) of Qs0e1n2</td><td>1                          </td><td>0.5,0.5                    </td><td>29.03226                   </td><td>77.16255                   </td></tr>\n",
       "\t<tr><td>60                         </td><td>24                         </td><td>79.2                       </td><td>6.9                        </td><td>49.4                       </td><td> 7.3                       </td><td>[44.2,49.4]; (1) of Qs0e1n2</td><td>1                          </td><td>0.5,0.5                    </td><td>29.03226                   </td><td>81.82674                   </td></tr>\n",
       "</tbody>\n",
       "</table>\n"
      ],
      "text/latex": [
       "\\begin{tabular}{r|lllllllllll}\n",
       " i & t & y & x & h0 & w & h0\\_Qs0e1n2 & cebu.grp.idx.h0 & subsidy\\_grp & subsidy & y\\_subsidy\\\\\n",
       "\\hline\n",
       "\t 2                           & 24                          & 79.2                        & 14.1                        & 49.7                        &  7.3                        & (49.4,54{]}; (2) of Qs0e1n2 & 2                           & 0.5,0.5                     & 31.03448                    & 85.70456                   \\\\\n",
       "\t 3                           & 24                          & 76.7                        & 20.6                        & 51.7                        & 10.3                        & (49.4,54{]}; (2) of Qs0e1n2 & 2                           & 0.5,0.5                     & 31.03448                    & 78.28437                   \\\\\n",
       "\t 4                           & 24                          & 78.1                        & 10.3                        & 50.2                        & 13.3                        & (49.4,54{]}; (2) of Qs0e1n2 & 2                           & 0.5,0.5                     & 31.03448                    & 87.84156                   \\\\\n",
       "\t ... & ... & ... & ... & ... & ... & ... & ... & ... & ... & ...\\\\\n",
       "\t 58                              & 24                              & 80.3                            & 8.7                             & 46.7                            & 10.3                            & {[}44.2,49.4{]}; (1) of Qs0e1n2 & 1                               & 0.5,0.5                         & 29.03226                        & 77.16255                       \\\\\n",
       "\t 60                              & 24                              & 79.2                            & 6.9                             & 49.4                            &  7.3                            & {[}44.2,49.4{]}; (1) of Qs0e1n2 & 1                               & 0.5,0.5                         & 29.03226                        & 81.82674                       \\\\\n",
       "\\end{tabular}\n"
      ],
      "text/markdown": [
       "\n",
       "| i | t | y | x | h0 | w | h0_Qs0e1n2 | cebu.grp.idx.h0 | subsidy_grp | subsidy | y_subsidy |\n",
       "|---|---|---|---|---|---|---|---|---|---|---|\n",
       "| 2                         | 24                        | 79.2                      | 14.1                      | 49.7                      |  7.3                      | (49.4,54]; (2) of Qs0e1n2 | 2                         | 0.5,0.5                   | 31.03448                  | 85.70456                  |\n",
       "| 3                         | 24                        | 76.7                      | 20.6                      | 51.7                      | 10.3                      | (49.4,54]; (2) of Qs0e1n2 | 2                         | 0.5,0.5                   | 31.03448                  | 78.28437                  |\n",
       "| 4                         | 24                        | 78.1                      | 10.3                      | 50.2                      | 13.3                      | (49.4,54]; (2) of Qs0e1n2 | 2                         | 0.5,0.5                   | 31.03448                  | 87.84156                  |\n",
       "| ... | ... | ... | ... | ... | ... | ... | ... | ... | ... | ... |\n",
       "| 58                          | 24                          | 80.3                        | 8.7                         | 46.7                        | 10.3                        | [44.2,49.4]; (1) of Qs0e1n2 | 1                           | 0.5,0.5                     | 29.03226                    | 77.16255                    |\n",
       "| 60                          | 24                          | 79.2                        | 6.9                         | 49.4                        |  7.3                        | [44.2,49.4]; (1) of Qs0e1n2 | 1                           | 0.5,0.5                     | 29.03226                    | 81.82674                    |\n",
       "\n"
      ],
      "text/plain": [
       "    i   t   y    x    h0   w    h0_Qs0e1n2                  cebu.grp.idx.h0\n",
       "1   2   24  79.2 14.1 49.7  7.3 (49.4,54]; (2) of Qs0e1n2   2              \n",
       "2   3   24  76.7 20.6 51.7 10.3 (49.4,54]; (2) of Qs0e1n2   2              \n",
       "3   4   24  78.1 10.3 50.2 13.3 (49.4,54]; (2) of Qs0e1n2   2              \n",
       "... ... ... ...  ...  ...  ...  ...                         ...            \n",
       "56  58  24  80.3 8.7  46.7 10.3 [44.2,49.4]; (1) of Qs0e1n2 1              \n",
       "57  60  24  79.2 6.9  49.4  7.3 [44.2,49.4]; (1) of Qs0e1n2 1              \n",
       "    subsidy_grp subsidy  y_subsidy\n",
       "1   0.5,0.5     31.03448 85.70456 \n",
       "2   0.5,0.5     31.03448 78.28437 \n",
       "3   0.5,0.5     31.03448 87.84156 \n",
       "... ...         ...      ...      \n",
       "56  0.5,0.5     29.03226 77.16255 \n",
       "57  0.5,0.5     29.03226 81.82674 "
      ]
     },
     "metadata": {},
     "output_type": "display_data"
    }
   ],
   "source": [
    "options(repr.matrix.max.rows=5, repr.matrix.max.cols=20)\n",
    "do.call(f.subsidy.y.str.h0, list.subsidy.y.params.h0)"
   ]
  },
  {
   "cell_type": "code",
   "execution_count": 23,
   "metadata": {},
   "outputs": [
    {
     "data": {
      "text/html": [
       "<table>\n",
       "<thead><tr><th scope=col>i</th><th scope=col>t</th><th scope=col>y</th><th scope=col>x</th><th scope=col>h0</th><th scope=col>w</th><th scope=col>h0_Qs0e1n2</th><th scope=col>w_Qs0e1n2</th><th scope=col>guat.grp.idx.h0wlt</th><th scope=col>subsidy_grp</th><th scope=col>subsidy</th><th scope=col>y_subsidy</th></tr></thead>\n",
       "<tbody>\n",
       "\t<tr><td>1352                       </td><td>24                         </td><td>75.8                       </td><td>46.3                       </td><td>47.4                       </td><td>3.3                        </td><td>[40.6,49.9]; (1) of Qs0e1n2</td><td>(2.2,5.7]; (2) of Qs0e1n2  </td><td>2                          </td><td>0.25,0.25,0.25,0.25        </td><td>34.17722                   </td><td>77.36775                   </td></tr>\n",
       "\t<tr><td>1354                       </td><td>24                         </td><td>75.3                       </td><td>15.4                       </td><td>51.2                       </td><td>1.7                        </td><td>(49.9,56.7]; (2) of Qs0e1n2</td><td>[1,2.2]; (1) of Qs0e1n2    </td><td>3                          </td><td>0.25,0.25,0.25,0.25        </td><td>36.00000                   </td><td>78.00260                   </td></tr>\n",
       "\t<tr><td>1356                       </td><td>24                         </td><td>77.1                       </td><td>30.5                       </td><td>51.9                       </td><td>3.4                        </td><td>(49.9,56.7]; (2) of Qs0e1n2</td><td>(2.2,5.7]; (2) of Qs0e1n2  </td><td>4                          </td><td>0.25,0.25,0.25,0.25        </td><td>27.00000                   </td><td>77.43604                   </td></tr>\n",
       "\t<tr><td>...</td><td>...</td><td>...</td><td>...</td><td>...</td><td>...</td><td>...</td><td>...</td><td>...</td><td>...</td><td>...</td><td>...</td></tr>\n",
       "\t<tr><td>2018                       </td><td>24                         </td><td>77.2                       </td><td>31.7                       </td><td>48.8                       </td><td>2.1                        </td><td>[40.6,49.9]; (1) of Qs0e1n2</td><td>[1,2.2]; (1) of Qs0e1n2    </td><td>1                          </td><td>0.25,0.25,0.25,0.25        </td><td>25.4717                    </td><td>76.4070                    </td></tr>\n",
       "\t<tr><td>2019                       </td><td>24                         </td><td>76.8                       </td><td>57.8                       </td><td>49.7                       </td><td>2.2                        </td><td>[40.6,49.9]; (1) of Qs0e1n2</td><td>[1,2.2]; (1) of Qs0e1n2    </td><td>1                          </td><td>0.25,0.25,0.25,0.25        </td><td>25.4717                    </td><td>73.5095                    </td></tr>\n",
       "</tbody>\n",
       "</table>\n"
      ],
      "text/latex": [
       "\\begin{tabular}{r|llllllllllll}\n",
       " i & t & y & x & h0 & w & h0\\_Qs0e1n2 & w\\_Qs0e1n2 & guat.grp.idx.h0wlt & subsidy\\_grp & subsidy & y\\_subsidy\\\\\n",
       "\\hline\n",
       "\t 1352                            & 24                              & 75.8                            & 46.3                            & 47.4                            & 3.3                             & {[}40.6,49.9{]}; (1) of Qs0e1n2 & (2.2,5.7{]}; (2) of Qs0e1n2     & 2                               & 0.25,0.25,0.25,0.25             & 34.17722                        & 77.36775                       \\\\\n",
       "\t 1354                          & 24                            & 75.3                          & 15.4                          & 51.2                          & 1.7                           & (49.9,56.7{]}; (2) of Qs0e1n2 & {[}1,2.2{]}; (1) of Qs0e1n2   & 3                             & 0.25,0.25,0.25,0.25           & 36.00000                      & 78.00260                     \\\\\n",
       "\t 1356                          & 24                            & 77.1                          & 30.5                          & 51.9                          & 3.4                           & (49.9,56.7{]}; (2) of Qs0e1n2 & (2.2,5.7{]}; (2) of Qs0e1n2   & 4                             & 0.25,0.25,0.25,0.25           & 27.00000                      & 77.43604                     \\\\\n",
       "\t ... & ... & ... & ... & ... & ... & ... & ... & ... & ... & ... & ...\\\\\n",
       "\t 2018                            & 24                              & 77.2                            & 31.7                            & 48.8                            & 2.1                             & {[}40.6,49.9{]}; (1) of Qs0e1n2 & {[}1,2.2{]}; (1) of Qs0e1n2     & 1                               & 0.25,0.25,0.25,0.25             & 25.4717                         & 76.4070                        \\\\\n",
       "\t 2019                            & 24                              & 76.8                            & 57.8                            & 49.7                            & 2.2                             & {[}40.6,49.9{]}; (1) of Qs0e1n2 & {[}1,2.2{]}; (1) of Qs0e1n2     & 1                               & 0.25,0.25,0.25,0.25             & 25.4717                         & 73.5095                        \\\\\n",
       "\\end{tabular}\n"
      ],
      "text/markdown": [
       "\n",
       "| i | t | y | x | h0 | w | h0_Qs0e1n2 | w_Qs0e1n2 | guat.grp.idx.h0wlt | subsidy_grp | subsidy | y_subsidy |\n",
       "|---|---|---|---|---|---|---|---|---|---|---|---|\n",
       "| 1352                        | 24                          | 75.8                        | 46.3                        | 47.4                        | 3.3                         | [40.6,49.9]; (1) of Qs0e1n2 | (2.2,5.7]; (2) of Qs0e1n2   | 2                           | 0.25,0.25,0.25,0.25         | 34.17722                    | 77.36775                    |\n",
       "| 1354                        | 24                          | 75.3                        | 15.4                        | 51.2                        | 1.7                         | (49.9,56.7]; (2) of Qs0e1n2 | [1,2.2]; (1) of Qs0e1n2     | 3                           | 0.25,0.25,0.25,0.25         | 36.00000                    | 78.00260                    |\n",
       "| 1356                        | 24                          | 77.1                        | 30.5                        | 51.9                        | 3.4                         | (49.9,56.7]; (2) of Qs0e1n2 | (2.2,5.7]; (2) of Qs0e1n2   | 4                           | 0.25,0.25,0.25,0.25         | 27.00000                    | 77.43604                    |\n",
       "| ... | ... | ... | ... | ... | ... | ... | ... | ... | ... | ... | ... |\n",
       "| 2018                        | 24                          | 77.2                        | 31.7                        | 48.8                        | 2.1                         | [40.6,49.9]; (1) of Qs0e1n2 | [1,2.2]; (1) of Qs0e1n2     | 1                           | 0.25,0.25,0.25,0.25         | 25.4717                     | 76.4070                     |\n",
       "| 2019                        | 24                          | 76.8                        | 57.8                        | 49.7                        | 2.2                         | [40.6,49.9]; (1) of Qs0e1n2 | [1,2.2]; (1) of Qs0e1n2     | 1                           | 0.25,0.25,0.25,0.25         | 25.4717                     | 73.5095                     |\n",
       "\n"
      ],
      "text/plain": [
       "    i    t   y    x    h0   w   h0_Qs0e1n2                 \n",
       "1   1352 24  75.8 46.3 47.4 3.3 [40.6,49.9]; (1) of Qs0e1n2\n",
       "2   1354 24  75.3 15.4 51.2 1.7 (49.9,56.7]; (2) of Qs0e1n2\n",
       "3   1356 24  77.1 30.5 51.9 3.4 (49.9,56.7]; (2) of Qs0e1n2\n",
       "... ...  ... ...  ...  ...  ... ...                        \n",
       "237 2018 24  77.2 31.7 48.8 2.1 [40.6,49.9]; (1) of Qs0e1n2\n",
       "238 2019 24  76.8 57.8 49.7 2.2 [40.6,49.9]; (1) of Qs0e1n2\n",
       "    w_Qs0e1n2                 guat.grp.idx.h0wlt subsidy_grp         subsidy \n",
       "1   (2.2,5.7]; (2) of Qs0e1n2 2                  0.25,0.25,0.25,0.25 34.17722\n",
       "2   [1,2.2]; (1) of Qs0e1n2   3                  0.25,0.25,0.25,0.25 36.00000\n",
       "3   (2.2,5.7]; (2) of Qs0e1n2 4                  0.25,0.25,0.25,0.25 27.00000\n",
       "... ...                       ...                ...                 ...     \n",
       "237 [1,2.2]; (1) of Qs0e1n2   1                  0.25,0.25,0.25,0.25 25.4717 \n",
       "238 [1,2.2]; (1) of Qs0e1n2   1                  0.25,0.25,0.25,0.25 25.4717 \n",
       "    y_subsidy\n",
       "1   77.36775 \n",
       "2   78.00260 \n",
       "3   77.43604 \n",
       "... ...      \n",
       "237 76.4070  \n",
       "238 73.5095  "
      ]
     },
     "metadata": {},
     "output_type": "display_data"
    }
   ],
   "source": [
    "options(repr.matrix.max.rows=5, repr.matrix.max.cols=20)\n",
    "do.call(f.subsidy.y.str.h0wlt, list.subsidy.y.params.h0wlt)"
   ]
  },
  {
   "cell_type": "markdown",
   "metadata": {},
   "source": [
    "## Testing Planer Optimization At Single CES Parameter Value\n",
    "\n",
    "Single CES Planer Optimization problem. "
   ]
  },
  {
   "cell_type": "code",
   "execution_count": 24,
   "metadata": {},
   "outputs": [],
   "source": [
    "options(warn=-1) # Suppress Warning Messages\n",
    "# optim_wrapper() from C:\\Users\\fan\\R4Econ\\optimization\\planer\\ces\\cesoptimizer.R\n",
    "param.ces <- 1\n",
    "# test i4xy\n",
    "res.opti.test.i4xy <- optim_wrapper(sca.subsidy.frac.init = (numeric((sca.subsidy.groups.i4xy-1))+1), \n",
    "                                    param.ces = param.ces, f.subsidy.y.str = f.subsidy.y.str.i4xy,\n",
    "                                    list.subsidy.y.params.other = list.subsidy.y.params.other.default.i4xy)\n",
    "# test h0\n",
    "res.opti.test.h0 <- optim_wrapper(sca.subsidy.frac.init = (numeric((sca.subsidy.groups.h0-1))+1), \n",
    "                                  param.ces = param.ces, f.subsidy.y.str = f.subsidy.y.str.h0,\n",
    "                                  list.subsidy.y.params.other = list.subsidy.y.params.other.default.h0)\n",
    "# test h0wlt\n",
    "res.opti.test.h0wlt <- optim_wrapper(sca.subsidy.frac.init = (numeric((sca.subsidy.groups.h0wlt-1))+1), \n",
    "                                     param.ces = param.ces, f.subsidy.y.str = f.subsidy.y.str.h0wlt,\n",
    "                                     list.subsidy.y.params.other = list.subsidy.y.params.other.default.h0wlt)"
   ]
  },
  {
   "cell_type": "code",
   "execution_count": 25,
   "metadata": {},
   "outputs": [],
   "source": [
    "# res.opti.test.i4xy"
   ]
  },
  {
   "cell_type": "code",
   "execution_count": 26,
   "metadata": {},
   "outputs": [
    {
     "data": {
      "text/html": [
       "<table>\n",
       "<thead><tr><th></th><th scope=col>df_h0_cebu</th><th scope=col>df_h0wlt_guat</th><th scope=col>df_i4xy</th></tr></thead>\n",
       "<tbody>\n",
       "\t<tr><th scope=row>convergence</th><td>   0.0000000 </td><td>    0.0000000</td><td>  0.0000000  </td></tr>\n",
       "\t<tr><th scope=row>counts.function</th><td>  24.0000000 </td><td>  108.0000000</td><td> 53.0000000  </td></tr>\n",
       "\t<tr><th scope=row>counts.gradient</th><td>          NA </td><td>           NA</td><td>         NA  </td></tr>\n",
       "\t<tr><th scope=row>par.frac.grpsize.v1</th><td>  31.0000000 </td><td>  106.0000000</td><td>  1.0000000  </td></tr>\n",
       "\t<tr><th scope=row>par.frac.grpsize.v2</th><td>  29.0000000 </td><td>   79.0000000</td><td>  1.0000000  </td></tr>\n",
       "\t<tr><th scope=row>par.frac.grpsize.v3</th><td>          NA </td><td>   75.0000000</td><td>  1.0000000  </td></tr>\n",
       "\t<tr><th scope=row>par.frac.grpsize.v4</th><td>          NA </td><td>  100.0000000</td><td>         NA  </td></tr>\n",
       "\t<tr><th scope=row>par.frac.norm.v1</th><td>   1.0000000 </td><td>    1.1906794</td><td>  1.4536456  </td></tr>\n",
       "\t<tr><th scope=row>par.frac.norm.v2</th><td>   1.0723113 </td><td>    1.2180246</td><td>  1.3909892  </td></tr>\n",
       "\t<tr><th scope=row>par.frac.norm.v3</th><td>          NA </td><td>    1.0455385</td><td>  1.0000000  </td></tr>\n",
       "\t<tr><th scope=row>par.frac.norm.v4</th><td>          NA </td><td>    1.0000000</td><td>         NA  </td></tr>\n",
       "\t<tr><th scope=row>par.frac.sum</th><td>   1.0000000 </td><td>    1.0000000</td><td>  1.0000000  </td></tr>\n",
       "\t<tr><th scope=row>par.frac.v1</th><td>   0.4992188 </td><td>    0.3148599</td><td>  0.3780972  </td></tr>\n",
       "\t<tr><th scope=row>par.frac.v2</th><td>   0.5007812 </td><td>    0.2400490</td><td>  0.3618001  </td></tr>\n",
       "\t<tr><th scope=row>par.frac.v3</th><td>          NA </td><td>    0.1956221</td><td>  0.2601027  </td></tr>\n",
       "\t<tr><th scope=row>par.frac.v4</th><td>          NA </td><td>    0.2494690</td><td>         NA  </td></tr>\n",
       "\t<tr><th scope=row>par.v1</th><td>  -0.0031250 </td><td>   -0.7774956</td><td> -0.4976326  </td></tr>\n",
       "\t<tr><th scope=row>par.v2</th><td>          NA </td><td>   -0.6174362</td><td>  0.3300151  </td></tr>\n",
       "\t<tr><th scope=row>par.v3</th><td>          NA </td><td>   -0.2431500</td><td>         NA  </td></tr>\n",
       "\t<tr><th scope=row>param.ces</th><td>   1.0000000 </td><td>    1.0000000</td><td>  1.0000000  </td></tr>\n",
       "\t<tr><th scope=row>sca.subsidy.frac.init.v1</th><td>   1.0000000 </td><td>    1.0000000</td><td>  1.0000000  </td></tr>\n",
       "\t<tr><th scope=row>sca.subsidy.frac.init.v2</th><td>          NA </td><td>    1.0000000</td><td>  1.0000000  </td></tr>\n",
       "\t<tr><th scope=row>sca.subsidy.frac.init.v3</th><td>          NA </td><td>    1.0000000</td><td>         NA  </td></tr>\n",
       "\t<tr><th scope=row>subsidy.total</th><td>1800.0000000 </td><td>10800.0000000</td><td> 90.0000000  </td></tr>\n",
       "\t<tr><th scope=row>value</th><td> -82.0787242 </td><td>  -77.5696286</td><td>-92.5209486  </td></tr>\n",
       "</tbody>\n",
       "</table>\n"
      ],
      "text/latex": [
       "\\begin{tabular}{r|lll}\n",
       "  & df\\_h0\\_cebu & df\\_h0wlt\\_guat & df\\_i4xy\\\\\n",
       "\\hline\n",
       "\tconvergence &    0.0000000  &     0.0000000 &   0.0000000  \\\\\n",
       "\tcounts.function &   24.0000000  &   108.0000000 &  53.0000000  \\\\\n",
       "\tcounts.gradient &           NA  &            NA &          NA  \\\\\n",
       "\tpar.frac.grpsize.v1 &   31.0000000  &   106.0000000 &   1.0000000  \\\\\n",
       "\tpar.frac.grpsize.v2 &   29.0000000  &    79.0000000 &   1.0000000  \\\\\n",
       "\tpar.frac.grpsize.v3 &           NA  &    75.0000000 &   1.0000000  \\\\\n",
       "\tpar.frac.grpsize.v4 &           NA  &   100.0000000 &          NA  \\\\\n",
       "\tpar.frac.norm.v1 &    1.0000000  &     1.1906794 &   1.4536456  \\\\\n",
       "\tpar.frac.norm.v2 &    1.0723113  &     1.2180246 &   1.3909892  \\\\\n",
       "\tpar.frac.norm.v3 &           NA  &     1.0455385 &   1.0000000  \\\\\n",
       "\tpar.frac.norm.v4 &           NA  &     1.0000000 &          NA  \\\\\n",
       "\tpar.frac.sum &    1.0000000  &     1.0000000 &   1.0000000  \\\\\n",
       "\tpar.frac.v1 &    0.4992188  &     0.3148599 &   0.3780972  \\\\\n",
       "\tpar.frac.v2 &    0.5007812  &     0.2400490 &   0.3618001  \\\\\n",
       "\tpar.frac.v3 &           NA  &     0.1956221 &   0.2601027  \\\\\n",
       "\tpar.frac.v4 &           NA  &     0.2494690 &          NA  \\\\\n",
       "\tpar.v1 &   -0.0031250  &    -0.7774956 &  -0.4976326  \\\\\n",
       "\tpar.v2 &           NA  &    -0.6174362 &   0.3300151  \\\\\n",
       "\tpar.v3 &           NA  &    -0.2431500 &          NA  \\\\\n",
       "\tparam.ces &    1.0000000  &     1.0000000 &   1.0000000  \\\\\n",
       "\tsca.subsidy.frac.init.v1 &    1.0000000  &     1.0000000 &   1.0000000  \\\\\n",
       "\tsca.subsidy.frac.init.v2 &           NA  &     1.0000000 &   1.0000000  \\\\\n",
       "\tsca.subsidy.frac.init.v3 &           NA  &     1.0000000 &          NA  \\\\\n",
       "\tsubsidy.total & 1800.0000000  & 10800.0000000 &  90.0000000  \\\\\n",
       "\tvalue &  -82.0787242  &   -77.5696286 & -92.5209486  \\\\\n",
       "\\end{tabular}\n"
      ],
      "text/markdown": [
       "\n",
       "| <!--/--> | df_h0_cebu | df_h0wlt_guat | df_i4xy |\n",
       "|---|---|---|---|\n",
       "| convergence |    0.0000000  |     0.0000000 |   0.0000000   |\n",
       "| counts.function |   24.0000000  |   108.0000000 |  53.0000000   |\n",
       "| counts.gradient |           NA  |            NA |          NA   |\n",
       "| par.frac.grpsize.v1 |   31.0000000  |   106.0000000 |   1.0000000   |\n",
       "| par.frac.grpsize.v2 |   29.0000000  |    79.0000000 |   1.0000000   |\n",
       "| par.frac.grpsize.v3 |           NA  |    75.0000000 |   1.0000000   |\n",
       "| par.frac.grpsize.v4 |           NA  |   100.0000000 |          NA   |\n",
       "| par.frac.norm.v1 |    1.0000000  |     1.1906794 |   1.4536456   |\n",
       "| par.frac.norm.v2 |    1.0723113  |     1.2180246 |   1.3909892   |\n",
       "| par.frac.norm.v3 |           NA  |     1.0455385 |   1.0000000   |\n",
       "| par.frac.norm.v4 |           NA  |     1.0000000 |          NA   |\n",
       "| par.frac.sum |    1.0000000  |     1.0000000 |   1.0000000   |\n",
       "| par.frac.v1 |    0.4992188  |     0.3148599 |   0.3780972   |\n",
       "| par.frac.v2 |    0.5007812  |     0.2400490 |   0.3618001   |\n",
       "| par.frac.v3 |           NA  |     0.1956221 |   0.2601027   |\n",
       "| par.frac.v4 |           NA  |     0.2494690 |          NA   |\n",
       "| par.v1 |   -0.0031250  |    -0.7774956 |  -0.4976326   |\n",
       "| par.v2 |           NA  |    -0.6174362 |   0.3300151   |\n",
       "| par.v3 |           NA  |    -0.2431500 |          NA   |\n",
       "| param.ces |    1.0000000  |     1.0000000 |   1.0000000   |\n",
       "| sca.subsidy.frac.init.v1 |    1.0000000  |     1.0000000 |   1.0000000   |\n",
       "| sca.subsidy.frac.init.v2 |           NA  |     1.0000000 |   1.0000000   |\n",
       "| sca.subsidy.frac.init.v3 |           NA  |     1.0000000 |          NA   |\n",
       "| subsidy.total | 1800.0000000  | 10800.0000000 |  90.0000000   |\n",
       "| value |  -82.0787242  |   -77.5696286 | -92.5209486   |\n",
       "\n"
      ],
      "text/plain": [
       "                         df_h0_cebu   df_h0wlt_guat df_i4xy    \n",
       "convergence                 0.0000000     0.0000000   0.0000000\n",
       "counts.function            24.0000000   108.0000000  53.0000000\n",
       "counts.gradient                    NA            NA          NA\n",
       "par.frac.grpsize.v1        31.0000000   106.0000000   1.0000000\n",
       "par.frac.grpsize.v2        29.0000000    79.0000000   1.0000000\n",
       "par.frac.grpsize.v3                NA    75.0000000   1.0000000\n",
       "par.frac.grpsize.v4                NA   100.0000000          NA\n",
       "par.frac.norm.v1            1.0000000     1.1906794   1.4536456\n",
       "par.frac.norm.v2            1.0723113     1.2180246   1.3909892\n",
       "par.frac.norm.v3                   NA     1.0455385   1.0000000\n",
       "par.frac.norm.v4                   NA     1.0000000          NA\n",
       "par.frac.sum                1.0000000     1.0000000   1.0000000\n",
       "par.frac.v1                 0.4992188     0.3148599   0.3780972\n",
       "par.frac.v2                 0.5007812     0.2400490   0.3618001\n",
       "par.frac.v3                        NA     0.1956221   0.2601027\n",
       "par.frac.v4                        NA     0.2494690          NA\n",
       "par.v1                     -0.0031250    -0.7774956  -0.4976326\n",
       "par.v2                             NA    -0.6174362   0.3300151\n",
       "par.v3                             NA    -0.2431500          NA\n",
       "param.ces                   1.0000000     1.0000000   1.0000000\n",
       "sca.subsidy.frac.init.v1    1.0000000     1.0000000   1.0000000\n",
       "sca.subsidy.frac.init.v2           NA     1.0000000   1.0000000\n",
       "sca.subsidy.frac.init.v3           NA     1.0000000          NA\n",
       "subsidy.total            1800.0000000 10800.0000000  90.0000000\n",
       "value                     -82.0787242   -77.5696286 -92.5209486"
      ]
     },
     "metadata": {},
     "output_type": "display_data"
    }
   ],
   "source": [
    "# Display Test Results\n",
    "options(repr.matrix.max.rows=40, repr.matrix.max.cols=20)\n",
    "df.test.results <- list(df_i4xy=res.opti.test.i4xy,\n",
    "                        df_h0_cebu=res.opti.test.h0, \n",
    "                        df_h0wlt_guat=res.opti.test.h0wlt)\n",
    "# Show Results From Tests\n",
    "# list.names = list of list first level names\n",
    "# list.of.list.names = list of list second level names\n",
    "as.data.frame(df.test.results) %>%\n",
    "    gather(variable, value) %>%\n",
    "    separate(variable, c('list.names', 'list.of.list.names'),\n",
    "             sep = \"\\\\.\", extra = \"merge\") %>%\n",
    "    spread(list.names, value) %>%\n",
    "    column_to_rownames(var='list.of.list.names')"
   ]
  },
  {
   "cell_type": "markdown",
   "metadata": {},
   "source": [
    "## Optimization Many CES Parameters\n",
    "\n",
    "Now We Loop over different CES Parameters and Analyze Optimal Policies."
   ]
  },
  {
   "cell_type": "code",
   "execution_count": 27,
   "metadata": {},
   "outputs": [],
   "source": [
    "# Initialize\n",
    "# C:\\Users\\fan\\R4Econ\\optimization\\planer\\ces\\cesplanerobj.R\n",
    "vec.param.ces <- f_ces_params_vec(3, 6)\n",
    "options(warn=-1) # Suppress Warning Messages"
   ]
  },
  {
   "cell_type": "code",
   "execution_count": 28,
   "metadata": {},
   "outputs": [
    {
     "data": {
      "text/html": [
       "<table>\n",
       "<tbody>\n",
       "\t<tr><th scope=row>param.ces</th><td>-160.000000</td><td>-58.000000 </td><td>-21.000000 </td><td>-8.000000  </td><td>-3.000000  </td><td>-1.000000  </td><td>0.000000   </td><td>1.000000   </td></tr>\n",
       "\t<tr><th scope=row>par.frac.norm.v1</th><td>   1.191396</td><td>  1.220938 </td><td>  1.258544 </td><td> 1.313347  </td><td> 1.365452  </td><td> 1.399544  </td><td>1.425508   </td><td>1.453646   </td></tr>\n",
       "\t<tr><th scope=row>par.frac.norm.v2</th><td>   1.428608</td><td>  1.423392 </td><td>  1.417138 </td><td> 1.411316  </td><td> 1.402914  </td><td> 1.397818  </td><td>1.394589   </td><td>1.390989   </td></tr>\n",
       "\t<tr><th scope=row>par.frac.norm.v3</th><td>   1.000000</td><td>  1.000000 </td><td>  1.000000 </td><td> 1.000000  </td><td> 1.000000  </td><td> 1.000000  </td><td>1.000000   </td><td>1.000000   </td></tr>\n",
       "</tbody>\n",
       "</table>\n"
      ],
      "text/latex": [
       "\\begin{tabular}{r|llllllll}\n",
       "\tparam.ces & -160.000000 & -58.000000  & -21.000000  & -8.000000   & -3.000000   & -1.000000   & 0.000000    & 1.000000   \\\\\n",
       "\tpar.frac.norm.v1 &    1.191396 &   1.220938  &   1.258544  &  1.313347   &  1.365452   &  1.399544   & 1.425508    & 1.453646   \\\\\n",
       "\tpar.frac.norm.v2 &    1.428608 &   1.423392  &   1.417138  &  1.411316   &  1.402914   &  1.397818   & 1.394589    & 1.390989   \\\\\n",
       "\tpar.frac.norm.v3 &    1.000000 &   1.000000  &   1.000000  &  1.000000   &  1.000000   &  1.000000   & 1.000000    & 1.000000   \\\\\n",
       "\\end{tabular}\n"
      ],
      "text/markdown": [
       "\n",
       "| param.ces | -160.000000 | -58.000000  | -21.000000  | -8.000000   | -3.000000   | -1.000000   | 0.000000    | 1.000000    |\n",
       "| par.frac.norm.v1 |    1.191396 |   1.220938  |   1.258544  |  1.313347   |  1.365452   |  1.399544   | 1.425508    | 1.453646    |\n",
       "| par.frac.norm.v2 |    1.428608 |   1.423392  |   1.417138  |  1.411316   |  1.402914   |  1.397818   | 1.394589    | 1.390989    |\n",
       "| par.frac.norm.v3 |    1.000000 |   1.000000  |   1.000000  |  1.000000   |  1.000000   |  1.000000   | 1.000000    | 1.000000    |\n",
       "\n"
      ],
      "text/plain": [
       "                 [,1]        [,2]       [,3]       [,4]      [,5]     \n",
       "param.ces        -160.000000 -58.000000 -21.000000 -8.000000 -3.000000\n",
       "par.frac.norm.v1    1.191396   1.220938   1.258544  1.313347  1.365452\n",
       "par.frac.norm.v2    1.428608   1.423392   1.417138  1.411316  1.402914\n",
       "par.frac.norm.v3    1.000000   1.000000   1.000000  1.000000  1.000000\n",
       "                 [,6]      [,7]     [,8]    \n",
       "param.ces        -1.000000 0.000000 1.000000\n",
       "par.frac.norm.v1  1.399544 1.425508 1.453646\n",
       "par.frac.norm.v2  1.397818 1.394589 1.390989\n",
       "par.frac.norm.v3  1.000000 1.000000 1.000000"
      ]
     },
     "metadata": {},
     "output_type": "display_data"
    },
    {
     "data": {
      "image/png": "[encoded data removed]",
      "text/plain": [
       "plot without title"
      ]
     },
     "metadata": {},
     "output_type": "display_data"
    }
   ],
   "source": [
    "# Call i4xy\n",
    "df.ces.opti.i4xy <- bind_rows(lapply(vec.param.ces, optim_wrapper, \n",
    "                                list.subsidy.y.params.other = list.subsidy.y.params.other.default.i4xy,\n",
    "                                sca.subsidy.frac.init = (numeric((sca.subsidy.groups.i4xy-1))+1), \n",
    "                                f.subsidy.y.str = 'f_subsidy_y_cd')) %>% \n",
    "                    select(param.ces, matches('par.frac.norm.v'))\n",
    "t(df.ces.opti.i4xy)\n",
    "# Graph\n",
    "options(repr.plot.width = 12, repr.plot.height = 3)\n",
    "str.title <- 'Three Individuals'\n",
    "str.captions <- 'Jitter/Random Guatemala Cebu Data\\nRelative Subsidy Individuals Normalized'\n",
    "graphf.ces.opti.subsidy(df.ces.opti=df.ces.opti.i4xy,\n",
    "                        sca.subsidy.groups = list.subsidy.y.params.other.default.i4xy$sca.subsidy.groups,\n",
    "                        vec.subsidy.grpsize =  list.subsidy.y.params.other.default.i4xy$vec.subsidy.grpsize, \n",
    "                        str.title=str.title, str.captions=str.captions)"
   ]
  },
  {
   "cell_type": "code",
   "execution_count": 29,
   "metadata": {},
   "outputs": [
    {
     "data": {
      "text/html": [
       "<table>\n",
       "<tbody>\n",
       "\t<tr><th scope=row>param.ces</th><td>-160.000000</td><td>-58.000000 </td><td>-21.000000 </td><td>-8.000000  </td><td>-3.000000  </td><td>-1.000000  </td><td>0.000000   </td><td>1.000000   </td></tr>\n",
       "\t<tr><th scope=row>par.frac.norm.v1</th><td>   3.577266</td><td>  2.574895 </td><td>  1.863341 </td><td> 1.428673  </td><td> 1.189977  </td><td> 1.066688  </td><td>1.005197   </td><td>1.000000   </td></tr>\n",
       "\t<tr><th scope=row>par.frac.norm.v2</th><td>   1.000000</td><td>  1.000000 </td><td>  1.000000 </td><td> 1.000000  </td><td> 1.000000  </td><td> 1.000000  </td><td>1.000000   </td><td>1.072311   </td></tr>\n",
       "</tbody>\n",
       "</table>\n"
      ],
      "text/latex": [
       "\\begin{tabular}{r|llllllll}\n",
       "\tparam.ces & -160.000000 & -58.000000  & -21.000000  & -8.000000   & -3.000000   & -1.000000   & 0.000000    & 1.000000   \\\\\n",
       "\tpar.frac.norm.v1 &    3.577266 &   2.574895  &   1.863341  &  1.428673   &  1.189977   &  1.066688   & 1.005197    & 1.000000   \\\\\n",
       "\tpar.frac.norm.v2 &    1.000000 &   1.000000  &   1.000000  &  1.000000   &  1.000000   &  1.000000   & 1.000000    & 1.072311   \\\\\n",
       "\\end{tabular}\n"
      ],
      "text/markdown": [
       "\n",
       "| param.ces | -160.000000 | -58.000000  | -21.000000  | -8.000000   | -3.000000   | -1.000000   | 0.000000    | 1.000000    |\n",
       "| par.frac.norm.v1 |    3.577266 |   2.574895  |   1.863341  |  1.428673   |  1.189977   |  1.066688   | 1.005197    | 1.000000    |\n",
       "| par.frac.norm.v2 |    1.000000 |   1.000000  |   1.000000  |  1.000000   |  1.000000   |  1.000000   | 1.000000    | 1.072311    |\n",
       "\n"
      ],
      "text/plain": [
       "                 [,1]        [,2]       [,3]       [,4]      [,5]     \n",
       "param.ces        -160.000000 -58.000000 -21.000000 -8.000000 -3.000000\n",
       "par.frac.norm.v1    3.577266   2.574895   1.863341  1.428673  1.189977\n",
       "par.frac.norm.v2    1.000000   1.000000   1.000000  1.000000  1.000000\n",
       "                 [,6]      [,7]     [,8]    \n",
       "param.ces        -1.000000 0.000000 1.000000\n",
       "par.frac.norm.v1  1.066688 1.005197 1.000000\n",
       "par.frac.norm.v2  1.000000 1.000000 1.072311"
      ]
     },
     "metadata": {},
     "output_type": "display_data"
    },
    {
     "data": {
      "image/png": "[encoded data removed]",
      "text/plain": [
       "plot without title"
      ]
     },
     "metadata": {},
     "output_type": "display_data"
    }
   ],
   "source": [
    "# test h0\n",
    "df.ces.opti.h0 <- bind_rows(lapply(vec.param.ces, optim_wrapper, \n",
    "                                list.subsidy.y.params.other = list.subsidy.y.params.other.default.h0,\n",
    "                                sca.subsidy.frac.init = (numeric((sca.subsidy.groups.h0-1))+1), \n",
    "                                f.subsidy.y.str = 'f_subsidy_y_cd')) %>% \n",
    "                    select(param.ces, matches('par.frac.norm.v'))\n",
    "t(df.ces.opti.h0)\n",
    "# Graph\n",
    "options(repr.plot.width = 12, repr.plot.height = 3)\n",
    "str.title <- 'Cebu 60 People Below (v1) and Above (v2) Median Initial Height'\n",
    "str.captions <- 'Jitter/Random Guatemala Cebu Data\\nRelative Subsidy Individuals Normalized'\n",
    "graphf.ces.opti.subsidy(df.ces.opti=df.ces.opti.h0,\n",
    "                        sca.subsidy.groups = list.subsidy.y.params.other.default.h0$sca.subsidy.groups,\n",
    "                        vec.subsidy.grpsize =  list.subsidy.y.params.other.default.h0$vec.subsidy.grpsize, \n",
    "                        str.title=str.title, str.captions=str.captions)"
   ]
  },
  {
   "cell_type": "code",
   "execution_count": 30,
   "metadata": {},
   "outputs": [
    {
     "data": {
      "text/html": [
       "<table>\n",
       "<tbody>\n",
       "\t<tr><th scope=row>param.ces</th><td>-160.000000</td><td>-58.000000 </td><td>-21.000000 </td><td>-8.000000  </td><td>-3.000000  </td><td>-1.000000  </td><td>0.000000   </td><td>1.000000   </td></tr>\n",
       "\t<tr><th scope=row>par.frac.norm.v1</th><td>  17.341938</td><td>  3.813585 </td><td>  2.092712 </td><td> 1.616198  </td><td> 1.399800  </td><td> 1.297120  </td><td>1.236908   </td><td>1.190679   </td></tr>\n",
       "\t<tr><th scope=row>par.frac.norm.v2</th><td>   8.309946</td><td>  2.575010 </td><td>  1.628665 </td><td> 1.368834  </td><td> 1.283670  </td><td> 1.248200  </td><td>1.229619   </td><td>1.218025   </td></tr>\n",
       "\t<tr><th scope=row>par.frac.norm.v3</th><td>  11.564338</td><td>  2.810017 </td><td>  1.250600 </td><td> 1.071380  </td><td> 1.048125  </td><td> 1.043773  </td><td>1.038380   </td><td>1.045539   </td></tr>\n",
       "\t<tr><th scope=row>par.frac.norm.v4</th><td>   1.000000</td><td>  1.000000 </td><td>  1.000000 </td><td> 1.000000  </td><td> 1.000000  </td><td> 1.000000  </td><td>1.000000   </td><td>1.000000   </td></tr>\n",
       "</tbody>\n",
       "</table>\n"
      ],
      "text/latex": [
       "\\begin{tabular}{r|llllllll}\n",
       "\tparam.ces & -160.000000 & -58.000000  & -21.000000  & -8.000000   & -3.000000   & -1.000000   & 0.000000    & 1.000000   \\\\\n",
       "\tpar.frac.norm.v1 &   17.341938 &   3.813585  &   2.092712  &  1.616198   &  1.399800   &  1.297120   & 1.236908    & 1.190679   \\\\\n",
       "\tpar.frac.norm.v2 &    8.309946 &   2.575010  &   1.628665  &  1.368834   &  1.283670   &  1.248200   & 1.229619    & 1.218025   \\\\\n",
       "\tpar.frac.norm.v3 &   11.564338 &   2.810017  &   1.250600  &  1.071380   &  1.048125   &  1.043773   & 1.038380    & 1.045539   \\\\\n",
       "\tpar.frac.norm.v4 &    1.000000 &   1.000000  &   1.000000  &  1.000000   &  1.000000   &  1.000000   & 1.000000    & 1.000000   \\\\\n",
       "\\end{tabular}\n"
      ],
      "text/markdown": [
       "\n",
       "| param.ces | -160.000000 | -58.000000  | -21.000000  | -8.000000   | -3.000000   | -1.000000   | 0.000000    | 1.000000    |\n",
       "| par.frac.norm.v1 |   17.341938 |   3.813585  |   2.092712  |  1.616198   |  1.399800   |  1.297120   | 1.236908    | 1.190679    |\n",
       "| par.frac.norm.v2 |    8.309946 |   2.575010  |   1.628665  |  1.368834   |  1.283670   |  1.248200   | 1.229619    | 1.218025    |\n",
       "| par.frac.norm.v3 |   11.564338 |   2.810017  |   1.250600  |  1.071380   |  1.048125   |  1.043773   | 1.038380    | 1.045539    |\n",
       "| par.frac.norm.v4 |    1.000000 |   1.000000  |   1.000000  |  1.000000   |  1.000000   |  1.000000   | 1.000000    | 1.000000    |\n",
       "\n"
      ],
      "text/plain": [
       "                 [,1]        [,2]       [,3]       [,4]      [,5]     \n",
       "param.ces        -160.000000 -58.000000 -21.000000 -8.000000 -3.000000\n",
       "par.frac.norm.v1   17.341938   3.813585   2.092712  1.616198  1.399800\n",
       "par.frac.norm.v2    8.309946   2.575010   1.628665  1.368834  1.283670\n",
       "par.frac.norm.v3   11.564338   2.810017   1.250600  1.071380  1.048125\n",
       "par.frac.norm.v4    1.000000   1.000000   1.000000  1.000000  1.000000\n",
       "                 [,6]      [,7]     [,8]    \n",
       "param.ces        -1.000000 0.000000 1.000000\n",
       "par.frac.norm.v1  1.297120 1.236908 1.190679\n",
       "par.frac.norm.v2  1.248200 1.229619 1.218025\n",
       "par.frac.norm.v3  1.043773 1.038380 1.045539\n",
       "par.frac.norm.v4  1.000000 1.000000 1.000000"
      ]
     },
     "metadata": {},
     "output_type": "display_data"
    }
   ],
   "source": [
    "# test h0wlt\n",
    "df.ces.opti.h0wlt <- bind_rows(lapply(vec.param.ces, optim_wrapper, \n",
    "                                list.subsidy.y.params.other = list.subsidy.y.params.other.default.h0wlt,\n",
    "                                sca.subsidy.frac.init = (numeric((sca.subsidy.groups.h0wlt-1))+1), \n",
    "                                f.subsidy.y.str = 'f_subsidy_y_cd')) %>% \n",
    "                    select(param.ces, matches('par.frac.norm.v'))\n",
    "t(df.ces.opti.h0wlt)"
   ]
  },
  {
   "cell_type": "code",
   "execution_count": 31,
   "metadata": {},
   "outputs": [
    {
     "data": {
      "image/png": "[encoded data removed]",
      "text/plain": [
       "plot without title"
      ]
     },
     "metadata": {},
     "output_type": "display_data"
    }
   ],
   "source": [
    "options(repr.plot.width = 12, repr.plot.height = 4)\n",
    "str.title <- 'Guatemala Below (v1-2) Above (v3-4) P50 Initial Height\\nGuatemala Below (v1,3) Above (v2-4) P50 Wealth Index'\n",
    "str.captions <- 'Jitter/Random Guatemala Cebu Data\\nRelative Subsidy Individuals Normalized'\n",
    "graphf.ces.opti.subsidy(df.ces.opti=df.ces.opti.h0wlt,\n",
    "                        sca.subsidy.groups = list.subsidy.y.params.other.default.h0wlt$sca.subsidy.groups,\n",
    "                        vec.subsidy.grpsize =  list.subsidy.y.params.other.default.h0wlt$vec.subsidy.grpsize, \n",
    "                        str.title=str.title, str.captions=str.captions)"
   ]
  }
 ],
 "metadata": {
  "kernelspec": {
   "display_name": "R",
   "language": "R",
   "name": "ir"
  },
  "language_info": {
   "codemirror_mode": "r",
   "file_extension": ".r",
   "mimetype": "text/x-r-source",
   "name": "R",
   "pygments_lexer": "r",
   "version": "3.5.1"
  }
 },
 "nbformat": 4,
 "nbformat_minor": 2
}
