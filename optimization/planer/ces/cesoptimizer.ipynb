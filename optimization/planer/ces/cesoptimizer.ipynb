{
 "cells": [
  {
   "cell_type": "markdown",
   "metadata": {},
   "source": [
    "# Constant Elasticity of Substitution Planer Welfare Subsidies Optimizer Over Quantile/Individual Groups\n",
    "\n",
    "There is some production function or other functional relationship between x and y. When x shifts, y shifts. We are interested in some function over the vector of y. We shift x to maximize some objective over the vector of y. \n",
    "\n",
    "$$\n",
    "\\max_{\\left\\{S_i\\right\\}_{i \\in \\left\\{1,...,N\\right\\}}}\n",
    "O \\left(\n",
    "    \\left\\{ \n",
    "    Y_{it}(X_{it}, S_i) \n",
    "    \\right\\}^{i \\in \\left\\{1,...,N\\right\\}}\n",
    "    _{t \\in \\left\\{1,...,T\\right\\}}\n",
    " \\right)\n",
    "$$\n",
    "\n",
    "Specifically: there is a finite amount of subsidies, there are N individuals observed between month 0 and 24. What are the optimal nutritional subsidies to provide to the N individuals given some function that relates nutritional input to outcome (height), ignoring behavior responses.\n",
    "\n",
    "The N individuals could be N groups of individuals. There could be many more than N people that are in N groups. For example, groups determined by if someone has below or above median initial height."
   ]
  },
  {
   "cell_type": "markdown",
   "metadata": {},
   "source": [
    "## Program Structure\n",
    "\n",
    "The program below has these ingredients. It is not written in the most generic way possible, but wrritten to work with a CES planer's optimization problem where the planer is optimizing over subsidies for sub-groups of individuals. \n",
    "\n",
    "1. Given a dataset, generate subsidy groups within\n",
    "    - each group could have one individual or could have multiple individuals\n",
    "    - dependency: [Generate Joint Quantiles from Multiple Continuous Variables as a Categorical Variable with Linear Index](https://fanwangecon.github.io/R4Econ/generate/quantile/VarCateIdxVarsQuantiles.html)\n",
    "        * group linear index \n",
    "        * group label\n",
    "2. Show Basic Summary Statistics for Each group\n",
    "    - dependency: [All Numeric Variables Mean + SD + N by Groups](https://github.com/FanWangEcon/R4Econ/blob/master/summarize/summ/ByGroupSumm.R)\n",
    "3. Various Prediction Function\n",
    "    - based on some estimation structure that generates overall relationship between intputs and outputs and also individual specific coefficients, some type of production function for example\n",
    "    - prediction functions that generates new outputs based on subsidies for each prediction function model\n",
    "    - re-write this every time. \n",
    "4. Estimation Function Wrapper\n",
    "    - default parameters and key shifting parameters as inputs\n",
    "    - allows for using lapply to estimate for example for multiple parameters\n",
    "    - invokes optim function, and process results with function parameters\n",
    "5. Inner Estimation Function\n",
    "    - what optim invokes\n",
    "    - estimands is first parameter\n",
    "    - additional parameters as list\n",
    "6. Estimation Depencies\n",
    "    - for constrained to unconstrained transformation\n",
    "    - for generating fractions\n",
    "    - for ces objective function"
   ]
  },
  {
   "cell_type": "markdown",
   "metadata": {},
   "source": [
    "## Program"
   ]
  },
  {
   "cell_type": "markdown",
   "metadata": {},
   "source": [
    "### Dependencies\n",
    "\n",
    "To achieve points 1 and 2 and 6 above."
   ]
  },
  {
   "cell_type": "code",
   "execution_count": 29,
   "metadata": {},
   "outputs": [],
   "source": [
    "library(tidyverse)\n",
    "# Point 1\n",
    "source('C:/Users/fan/R4Econ/summarize/summ/ByGroupSumm.R')\n",
    "# Point 2\n",
    "source('C:/Users/fan/R4Econ/generate/quantile/VarCateIdxVarsQuantiles.R')\n",
    "# Point 6\n",
    "# get f_frac_asymp_vec()\n",
    "source('C:/Users/fan/R4Econ/optimization/support/fraction.R')\n",
    "# get f_planer_obj()\n",
    "source('C:/Users/fan/R4Econ/optimization/planer/ces/cesplanerobj.R')"
   ]
  },
  {
   "cell_type": "markdown",
   "metadata": {},
   "source": [
    "### Estimation Objective Function\n",
    "\n",
    "In the function below:\n",
    "1. x is the unconstrained transformed fraction from (optimization/support/fraction.R)\n",
    "2. param.ces is the ces parameter, not that this parameter does not enter the f.subsidy.y.str function\n",
    "3. f.subsidy.y.str is the name of the estimation prediction function (Step 3) in string \n",
    "4. list.subsidy.y.params.other contains a list of parameters needed for f.subsidy.y.str in addition to the "
   ]
  },
  {
   "cell_type": "code",
   "execution_count": 30,
   "metadata": {},
   "outputs": [],
   "source": [
    "# Single Parameter Optimization Functions\n",
    "obj_planer <- function(x, param.ces, f.subsidy.y.str, list.subsidy.y.params.other) {\n",
    "\n",
    "    # Input list\n",
    "    # Convert from Estimation x to Actual Fraction between 0 and 1\n",
    "    list.subsidy.y.params.maximand <- list(vec.subsidy.frac = f_frac_asymp_vec(x))\n",
    "    list.subsidy.y.params <- append(list.subsidy.y.params.other, list.subsidy.y.params.maximand)\n",
    "    \n",
    "    # Call Function\n",
    "    list.df.y.subsidized <- do.call(f.subsidy.y.str, list.subsidy.y.params)\n",
    "    \n",
    "    df.y.subsidized <- list.df.y.subsidized$dfmain\n",
    "    var.y.subsidy <- list.df.y.subsidized$ysubsidy\n",
    "    \n",
    "    # C:\\Users\\fan\\R4Econ\\optimization\\planer\\ces\\cesplanerobj.R\n",
    "    obj <- (-1)*f_planer_obj(vec.y=df.y.subsidized[[var.y.subsidy]], param.ces=param.ces)\n",
    "    \n",
    "    return(obj)\n",
    "}"
   ]
  },
  {
   "cell_type": "code",
   "execution_count": 31,
   "metadata": {},
   "outputs": [],
   "source": [
    "# Subsidy Function\n",
    "# var.grp.idx: name of index group variable\n",
    "# subsidy.total: total subsidy\n",
    "# vec.subsidy.frac: fraction of subsidy each group\n",
    "# vec.subsidy.grpsize: number of people in each subsidy group.\n",
    "f_subsidy_vec <- function(df, var.grp.idx, subsidy.total, vec.subsidy.frac, vec.subsidy.grpsize,\n",
    "                          review=FALSE, var.i='i', var.t='t',\n",
    "                          var.new.subsidy ='subsidy',\n",
    "                          var.new.subsidy.grp ='subsidy_grp') {\n",
    "    # var.grp.idx <- 'subsidy.grp'\n",
    "    # subsidy_total <- 2\n",
    "    # df.subsidy.frac <- c(0.1, 0.9)\n",
    "    # vec.subsidy.grpsize <- c(1, 1)\n",
    "    df.with.subsidy <- df %>% mutate(!!(var.new.subsidy.grp) := paste0(vec.subsidy.frac, collapse=','),\n",
    "                                     !!(var.new.subsidy) := ((subsidy.total*\n",
    "                                                              vec.subsidy.frac[df[[var.grp.idx]]])/\n",
    "                                                             vec.subsidy.grpsize[df[[var.grp.idx]]]))\n",
    "\n",
    "    if (review) {\n",
    "      df.with.subsidy.review <- df.with.subsidy %>%\n",
    "                                    select(!!sym(var.i), !!sym(var.t), !!sym(var.grp.idx),\n",
    "                                           contains(var.new.subsidy), everything()) %>%\n",
    "                                group_by(!!sym(var.grp.idx)) %>%\n",
    "                                mutate_at(vars(c(var.new.subsidy)), funs(subsidy_mean_it = mean,\n",
    "                                                                   subsidy_sd_it = sd,\n",
    "                                                                   subsidy_n_it = n()))  %>%\n",
    "                 ungroup() %>% group_by(!!sym(var.i)) %>% slice(1L) %>% group_by(!!sym(var.grp.idx)) %>%\n",
    "                 mutate_at(vars(c(var.new.subsidy)), funs(subsidy_mean_i = mean,\n",
    "                                                    subsidy_sd_i = sd,\n",
    "                                                    subsidy_n_i = n())) %>%\n",
    "                summarize_if(is.numeric, mean) %>%\n",
    "                select(!!sym(var.grp.idx), contains(var.new.subsidy), everything()) %>%\n",
    "                mutate_if(is.numeric, round, 3)\n",
    "\n",
    "        print(t(df.with.subsidy.review))\n",
    "\n",
    "    } else {\n",
    "\n",
    "        df.with.subsidy.review <- c('')\n",
    "    }\n",
    "\n",
    "    return(list(dfmain=df.with.subsidy,\n",
    "                dfreview=df.with.subsidy.review,\n",
    "                varsubsidy=var.new.subsidy))\n",
    "}"
   ]
  },
  {
   "cell_type": "markdown",
   "metadata": {},
   "source": [
    "### Estimation Wrapper\n",
    "\n",
    "Basically same parameters as above, except that the first parameter here are the starting values for estimation. \n",
    "\n",
    "1. sca.subsidy.frac.init: unconstrained fraction subsidy transformed x initial starting estimation values\n",
    "2. param.ces:\n",
    "3. f.subsidy.y.str: name of the estimation prediction function (Step 3) in string \n",
    "4. list.subsidy.y.params.other: contains a list of parameters needed for f.subsidy.y.str."
   ]
  },
  {
   "cell_type": "code",
   "execution_count": 32,
   "metadata": {},
   "outputs": [],
   "source": [
    "# Optimization Wrapper\n",
    "# sca.subsidy.frac.init.default <- numeric((sca.subsidy.groups-1))+1\n",
    "# list.subsidy.y.params.other must have: vec.subsidy.grpsize and subsidy.total\n",
    "# Optimization Function\n",
    "optim_wrapper <- function(sca.subsidy.frac.init, param.ces, f.subsidy.y.str, list.subsidy.y.params.other) {\n",
    "\n",
    "    # Optimization\n",
    "    res.opti <- optim(sca.subsidy.frac.init, obj_planer,\n",
    "                      param.ces = param.ces,\n",
    "                      f.subsidy.y.str = f.subsidy.y.str,\n",
    "                      list.subsidy.y.params.other = list.subsidy.y.params.other)\n",
    "\n",
    "    # Generate Named LIst\n",
    "    sca.subsidy.lengthm1 = length(sca.subsidy.frac.init)\n",
    "    list.sca.subsidy.frac.init <- setNames(sca.subsidy.frac.init,\n",
    "                                           paste0('sca.subsidy.frac.init.v', 1:sca.subsidy.lengthm1))\n",
    "    list.par <- setNames(res.opti$par, paste0('par.v',\n",
    "                                              1:sca.subsidy.lengthm1))\n",
    "    list.par.frac <- setNames(f_frac_asymp_vec(res.opti$par),\n",
    "                              paste0('par.frac.v', 1:(sca.subsidy.lengthm1+1)))\n",
    "\n",
    "    # Number of Individuals Each Subsidy Group, Normalize Relative Subidy Across Groups\n",
    "    list.vec.subsidy.grpsize <- setNames(list.subsidy.y.params.other$vec.subsidy.grpsize,\n",
    "                                         paste0('par.frac.grpsize.v', 1:(sca.subsidy.lengthm1+1)))\n",
    "    list.vec.frac.sub.lvl <- ((f_frac_asymp_vec(res.opti$par))/(list.subsidy.y.params.other$vec.subsidy.grpsize))\n",
    "    list.vec.frac.norm <- list.vec.frac.sub.lvl/min(list.vec.frac.sub.lvl)\n",
    "    list.vec.subsidy.indi.lvl <- setNames(list.vec.frac.sub.lvl*list.subsidy.y.params.other$subsidy.total,\n",
    "                                         paste0('par.frac.lvl.v', 1:(sca.subsidy.lengthm1+1)))\n",
    "    list.vec.subsidy.grpsize.norm <- setNames(list.vec.frac.norm,\n",
    "                                         paste0('par.frac.norm.v', 1:(sca.subsidy.lengthm1+1)))\n",
    "\n",
    "    # Collect Results\n",
    "    list.esti.res <- list(param.ces = param.ces,\n",
    "                          subsidy.total = list.subsidy.y.params.other[['subsidy.total']],\n",
    "                          par.frac.sum = sum(f_frac_asymp_vec(res.opti$par)),\n",
    "                          value = res.opti$value,\n",
    "                          counts.function = (res.opti$counts)[['function']],\n",
    "                          counts.gradient = (res.opti$counts)[['gradient']],\n",
    "                          convergence = res.opti$convergence)\n",
    "\n",
    "    list.esti.res <- append(list.esti.res, list.sca.subsidy.frac.init)\n",
    "    list.esti.res <- append(list.esti.res, list.par)\n",
    "    list.esti.res <- append(list.esti.res, list.par.frac)\n",
    "    list.esti.res <- append(list.esti.res, list.vec.subsidy.grpsize)\n",
    "    list.esti.res <- append(list.esti.res, list.vec.subsidy.indi.lvl)\n",
    "    list.esti.res <- append(list.esti.res, list.vec.subsidy.grpsize.norm)\n",
    "\n",
    "    # Return\n",
    "    return(list.esti.res)\n",
    "}"
   ]
  },
  {
   "cell_type": "markdown",
   "metadata": {},
   "source": [
    "### Final Results Graph\n",
    "Graphing given many CES parameters"
   ]
  },
  {
   "cell_type": "code",
   "execution_count": 33,
   "metadata": {},
   "outputs": [],
   "source": [
    "# Graphically\n",
    "graphf.ces.opti.subsidy <- function(df.ces.opti, sca.subsidy.groups, vec.subsidy.grpsize,\n",
    "                                    str.title, str.captions, geom_text_format='%.3f') {\n",
    "    df.ces.opti %>%\n",
    "        gather(variable, value, -param.ces)  %>%\n",
    "        ggplot(aes(x=factor(param.ces), y=value,\n",
    "                   fill=variable,\n",
    "                   label=sprintf(geom_text_format, value))) +\n",
    "        geom_bar(stat = 'identity', position='dodge2') +\n",
    "        geom_text(size=3, hjust=0.5, vjust=0, angle=0,\n",
    "                  fontface = 'bold', color='black',\n",
    "                  position = position_dodge(width = 1)) +\n",
    "        labs(title = paste0(paste0(str.title, '\\nOptimal Subsidy ',\n",
    "                                   sca.subsidy.groups,' Groups, n per group=(',\n",
    "                                   paste0(vec.subsidy.grpsize, collapse=',')\n",
    "                              ,')\\n0=Cobb-Douglas, 1=Perfect Substitutes, -Inf=Leontiff')),\n",
    "               x = 'CES Parameters',\n",
    "               y = 'Subsidies',\n",
    "               caption = str.captions) +\n",
    "        theme(axis.text.x = element_text(angle = 90, vjust=0.3, hjust = 1))\n",
    "}"
   ]
  },
  {
   "cell_type": "markdown",
   "metadata": {},
   "source": [
    "## Data"
   ]
  },
  {
   "cell_type": "markdown",
   "metadata": {},
   "source": [
    "### Load Data"
   ]
  },
  {
   "cell_type": "code",
   "execution_count": 34,
   "metadata": {},
   "outputs": [
    {
     "name": "stderr",
     "output_type": "stream",
     "text": [
      "Parsed with column specification:\n",
      "cols(\n",
      "  S.country = col_character(),\n",
      "  vil.id = col_double(),\n",
      "  indi.id = col_double(),\n",
      "  sex = col_character(),\n",
      "  svymthRound = col_double(),\n",
      "  momEdu = col_double(),\n",
      "  wealthIdx = col_double(),\n",
      "  hgt = col_double(),\n",
      "  wgt = col_double(),\n",
      "  hgt0 = col_double(),\n",
      "  wgt0 = col_double(),\n",
      "  prot = col_double(),\n",
      "  cal = col_double(),\n",
      "  p.A.prot = col_double(),\n",
      "  p.A.nProt = col_double()\n",
      ")\n"
     ]
    }
   ],
   "source": [
    "# Library\n",
    "library(tidyverse)\n",
    "\n",
    "# Load Sample Data\n",
    "setwd('C:/Users/fan/R4Econ/_data/')\n",
    "df <- read_csv('height_weight.csv')"
   ]
  },
  {
   "cell_type": "markdown",
   "metadata": {},
   "source": [
    "### Data Selection\n",
    "\n",
    "We will have several data selection rules to generate grouped dataframe for subsidies:\n",
    "\n",
    "1. Dataframe with two groups: below and above median initial height, each group has multiple individuals\n",
    "    + implicitly, this means the planer is doing policy conditional on observable characteristics, integrating over empirical conditional distribution of unobservable.\n",
    "2. Dataframe with 3 individuals: subsidy specific to each individual\n",
    "    + implicitly, this would only be relevant if we know the individual type. \n",
    "3. Dataframe with 4 groups: above and below median initial height, and above below median initial weight as well.\n",
    "\n",
    "Note for the grouped policy, we need to distinguish between individual subsidy and total group subsidy. We can adjust either, will adjust group level subsidy, then need to interpret results then as fraction of subsidy per person. Graph carefully. "
   ]
  },
  {
   "cell_type": "markdown",
   "metadata": {},
   "source": [
    "#### Data 1: df.i4xy"
   ]
  },
  {
   "cell_type": "code",
   "execution_count": 35,
   "metadata": {},
   "outputs": [
    {
     "name": "stdout",
     "output_type": "stream",
     "text": [
      "[1] \"dim(df.i4xy)=39,5\"\n"
     ]
    },
    {
     "data": {
      "text/html": [
       "<table>\n",
       "<thead><tr><th scope=col>i</th><th scope=col>t</th><th scope=col>y</th><th scope=col>x</th><th scope=col>grp.idx.i4xy</th></tr></thead>\n",
       "<tbody>\n",
       "\t<tr><td>4   </td><td>0   </td><td>48.4</td><td>0.5 </td><td>1   </td></tr>\n",
       "\t<tr><td>4   </td><td>2   </td><td>53.9</td><td>1.0 </td><td>1   </td></tr>\n",
       "\t<tr><td>4   </td><td>4   </td><td>59.8</td><td>0.5 </td><td>1   </td></tr>\n",
       "\t<tr><td>...</td><td>...</td><td>...</td><td>...</td><td>...</td></tr>\n",
       "\t<tr><td>15  </td><td>22  </td><td>84  </td><td> 8.9</td><td>3   </td></tr>\n",
       "\t<tr><td>15  </td><td>24  </td><td>85  </td><td>20.3</td><td>3   </td></tr>\n",
       "</tbody>\n",
       "</table>\n"
      ],
      "text/latex": [
       "\\begin{tabular}{r|lllll}\n",
       " i & t & y & x & grp.idx.i4xy\\\\\n",
       "\\hline\n",
       "\t 4    & 0    & 48.4 & 0.5  & 1   \\\\\n",
       "\t 4    & 2    & 53.9 & 1.0  & 1   \\\\\n",
       "\t 4    & 4    & 59.8 & 0.5  & 1   \\\\\n",
       "\t ... & ... & ... & ... & ...\\\\\n",
       "\t 15   & 22   & 84   &  8.9 & 3   \\\\\n",
       "\t 15   & 24   & 85   & 20.3 & 3   \\\\\n",
       "\\end{tabular}\n"
      ],
      "text/markdown": [
       "\n",
       "| i | t | y | x | grp.idx.i4xy |\n",
       "|---|---|---|---|---|\n",
       "| 4    | 0    | 48.4 | 0.5  | 1    |\n",
       "| 4    | 2    | 53.9 | 1.0  | 1    |\n",
       "| 4    | 4    | 59.8 | 0.5  | 1    |\n",
       "| ... | ... | ... | ... | ... |\n",
       "| 15   | 22   | 84   |  8.9 | 3    |\n",
       "| 15   | 24   | 85   | 20.3 | 3    |\n",
       "\n"
      ],
      "text/plain": [
       "    i   t   y    x    grp.idx.i4xy\n",
       "1   4   0   48.4 0.5  1           \n",
       "2   4   2   53.9 1.0  1           \n",
       "3   4   4   59.8 0.5  1           \n",
       "... ... ... ...  ...  ...         \n",
       "38  15  22  84    8.9 3           \n",
       "39  15  24  85   20.3 3           "
      ]
     },
     "metadata": {},
     "output_type": "display_data"
    }
   ],
   "source": [
    "# These are the same as in: https://fanwangecon.github.io/HeightProfile/r/planer/paneloptigN.html\n",
    "# Select 3 individuals, information from second year, four variables\n",
    "var.qjnt.grp.idx.i4xy <- 'grp.idx.i4xy'\n",
    "vars.subsidy.group <- 'i'\n",
    "df.i4xy <- df %>% filter(svymthRound <= 24 & svymthRound >= 0 & \n",
    "              S.country == 'Cebu' & (indi.id == 4 | indi.id == 13  | indi.id == 15)) %>% \n",
    "              select(i = indi.id, t = svymthRound, y = hgt, x =prot) %>% \n",
    "              mutate(!!var.qjnt.grp.idx.i4xy := group_indices(., !!!syms(vars.subsidy.group))) %>%\n",
    "              drop_na(i, t, y, x) \n",
    "\n",
    "# Obtain dataframe with quantile cut\n",
    "df.i4xy.grps <- tibble(id=c(4,13,15), !!var.qjnt.grp.idx.i4xy := c(1,2,3))\n",
    "sca.subsidy.groups.i4xy <- 3\n",
    "vec.subsidy.grpsize.i4xy <- c(1,1,1)\n",
    "\n",
    "# Results\n",
    "print(paste0('dim(df.i4xy)=', dim(df.i4xy)[1], ',', dim(df.i4xy)[2]))\n",
    "options(repr.matrix.max.rows=5, repr.matrix.max.cols=20)\n",
    "df.i4xy"
   ]
  },
  {
   "cell_type": "markdown",
   "metadata": {},
   "source": [
    "#### Data 2: df.h0 Cebu\n",
    "\n",
    "Generate quantile cuts. Generate two separate dataframes. \n",
    "Dataframes could bedifferent because some observations are dropped due to not having observation for the quantile by variables. "
   ]
  },
  {
   "cell_type": "code",
   "execution_count": 36,
   "metadata": {},
   "outputs": [
    {
     "name": "stdout",
     "output_type": "stream",
     "text": [
      "[1] \"dim(df.h0)=749,8\"\n"
     ]
    },
    {
     "data": {
      "text/html": [
       "<table>\n",
       "<thead><tr><th scope=col>h0_Qs0e1n2</th><th scope=col>cebu.grp.idx.h0</th><th scope=col>mean</th><th scope=col>n</th></tr></thead>\n",
       "<tbody>\n",
       "\t<tr><td>[44.2,49.4]; (1) of Qs0e1n2</td><td>1                          </td><td>47.99677                   </td><td>31                         </td></tr>\n",
       "\t<tr><td>(49.4,54]; (2) of Qs0e1n2  </td><td>2                          </td><td>50.99655                   </td><td>29                         </td></tr>\n",
       "</tbody>\n",
       "</table>\n"
      ],
      "text/latex": [
       "\\begin{tabular}{r|llll}\n",
       " h0\\_Qs0e1n2 & cebu.grp.idx.h0 & mean & n\\\\\n",
       "\\hline\n",
       "\t {[}44.2,49.4{]}; (1) of Qs0e1n2 & 1                               & 47.99677                        & 31                             \\\\\n",
       "\t (49.4,54{]}; (2) of Qs0e1n2   & 2                             & 50.99655                      & 29                           \\\\\n",
       "\\end{tabular}\n"
      ],
      "text/markdown": [
       "\n",
       "| h0_Qs0e1n2 | cebu.grp.idx.h0 | mean | n |\n",
       "|---|---|---|---|\n",
       "| [44.2,49.4]; (1) of Qs0e1n2 | 1                           | 47.99677                    | 31                          |\n",
       "| (49.4,54]; (2) of Qs0e1n2   | 2                           | 50.99655                    | 29                          |\n",
       "\n"
      ],
      "text/plain": [
       "  h0_Qs0e1n2                  cebu.grp.idx.h0 mean     n \n",
       "1 [44.2,49.4]; (1) of Qs0e1n2 1               47.99677 31\n",
       "2 (49.4,54]; (2) of Qs0e1n2   2               50.99655 29"
      ]
     },
     "metadata": {},
     "output_type": "display_data"
    },
    {
     "name": "stdout",
     "output_type": "stream",
     "text": [
      "[1] \"vec.subsidy.grpsize.h0=31,29\"\n",
      "[1] \"sca.subsidy.groups.h0=2\"\n"
     ]
    }
   ],
   "source": [
    "# Base Data\n",
    "df.cebu.t0t24 <- df %>% filter(svymthRound <= 24 & svymthRound >= 0 & \n",
    "                               S.country == 'Cebu' & \n",
    "                               indi.id <= 60 ) %>% \n",
    "            select(i = indi.id, t = svymthRound, y = hgt, x = prot, h0 = hgt0, w = wealthIdx) %>%\n",
    "            drop_na(i, t, y, x, h0, w)\n",
    "\n",
    "# Cut Quantiles\n",
    "var.qjnt.grp.idx.h0 <- 'cebu.grp.idx.h0'\n",
    "list.cts2quantile.h0 <- list(list(vars=c('h0'), prob=c(0, 0.5, 1.0)))\n",
    "results.h0 <- df_cut_by_sliced_quantiles_joint(df.cebu.t0t24, var.qjnt.grp.idx.h0, list.cts2quantile.h0,\n",
    "                                               vars.group_by = c('i'), vars.arrange = c('i', 't'),\n",
    "                                               drop.any.quantile.na = TRUE, toprint = FALSE)\n",
    "# Obtain dataframe with quantile cut\n",
    "df.h0 <- results.h0$df.with.cut.quant\n",
    "df.h0.grps <- results.h0$df.group.slice1.cnt.mean\n",
    "sca.subsidy.groups.h0 <- dim(df.h0.grps)[1]\n",
    "vec.subsidy.grpsize.h0 <- df.h0.grps$n\n",
    "\n",
    "# Show Stats\n",
    "print(paste0('dim(df.h0)=', dim(df.h0)[1], ',', dim(df.h0)[2]))\n",
    "df.h0.grps \n",
    "print(paste0('vec.subsidy.grpsize.h0=', paste0(vec.subsidy.grpsize.h0, collapse=',')))\n",
    "print(paste0('sca.subsidy.groups.h0=', sca.subsidy.groups.h0))"
   ]
  },
  {
   "cell_type": "markdown",
   "metadata": {},
   "source": [
    "#### Data 3: df.h0wlt Guatemala\n",
    "\n",
    "Two Variables Quantile Cut Guatemala."
   ]
  },
  {
   "cell_type": "code",
   "execution_count": 37,
   "metadata": {},
   "outputs": [
    {
     "name": "stderr",
     "output_type": "stream",
     "text": [
      "Joining, by = c(\"i\", \"t\", \"y\", \"x\", \"h0\", \"w\")\n"
     ]
    },
    {
     "name": "stdout",
     "output_type": "stream",
     "text": [
      "[1] \"dim(df.h0wlt)=1808,9\"\n"
     ]
    },
    {
     "data": {
      "text/html": [
       "<table>\n",
       "<thead><tr><th scope=col>h0_Qs0e1n2</th><th scope=col>w_Qs0e1n2</th><th scope=col>guat.grp.idx.h0wlt</th><th scope=col>h0_mean</th><th scope=col>w_mean</th><th scope=col>h0_n</th><th scope=col>w_n</th></tr></thead>\n",
       "<tbody>\n",
       "\t<tr><td>[40.6,49.9]; (1) of Qs0e1n2</td><td>[1,2.2]; (1) of Qs0e1n2    </td><td>1                          </td><td>47.64340                   </td><td>1.725472                   </td><td>106                        </td><td>106                        </td></tr>\n",
       "\t<tr><td>[40.6,49.9]; (1) of Qs0e1n2</td><td>(2.2,5.7]; (2) of Qs0e1n2  </td><td>2                          </td><td>48.33924                   </td><td>3.153165                   </td><td> 79                        </td><td> 79                        </td></tr>\n",
       "\t<tr><td>(49.9,56.7]; (2) of Qs0e1n2</td><td>[1,2.2]; (1) of Qs0e1n2    </td><td>3                          </td><td>51.45867                   </td><td>1.654667                   </td><td> 75                        </td><td> 75                        </td></tr>\n",
       "\t<tr><td>(49.9,56.7]; (2) of Qs0e1n2</td><td>(2.2,5.7]; (2) of Qs0e1n2  </td><td>4                          </td><td>51.72400                   </td><td>3.090000                   </td><td>100                        </td><td>100                        </td></tr>\n",
       "</tbody>\n",
       "</table>\n"
      ],
      "text/latex": [
       "\\begin{tabular}{r|lllllll}\n",
       " h0\\_Qs0e1n2 & w\\_Qs0e1n2 & guat.grp.idx.h0wlt & h0\\_mean & w\\_mean & h0\\_n & w\\_n\\\\\n",
       "\\hline\n",
       "\t {[}40.6,49.9{]}; (1) of Qs0e1n2 & {[}1,2.2{]}; (1) of Qs0e1n2     & 1                               & 47.64340                        & 1.725472                        & 106                             & 106                            \\\\\n",
       "\t {[}40.6,49.9{]}; (1) of Qs0e1n2 & (2.2,5.7{]}; (2) of Qs0e1n2     & 2                               & 48.33924                        & 3.153165                        &  79                             &  79                            \\\\\n",
       "\t (49.9,56.7{]}; (2) of Qs0e1n2 & {[}1,2.2{]}; (1) of Qs0e1n2   & 3                             & 51.45867                      & 1.654667                      &  75                           &  75                          \\\\\n",
       "\t (49.9,56.7{]}; (2) of Qs0e1n2 & (2.2,5.7{]}; (2) of Qs0e1n2   & 4                             & 51.72400                      & 3.090000                      & 100                           & 100                          \\\\\n",
       "\\end{tabular}\n"
      ],
      "text/markdown": [
       "\n",
       "| h0_Qs0e1n2 | w_Qs0e1n2 | guat.grp.idx.h0wlt | h0_mean | w_mean | h0_n | w_n |\n",
       "|---|---|---|---|---|---|---|\n",
       "| [40.6,49.9]; (1) of Qs0e1n2 | [1,2.2]; (1) of Qs0e1n2     | 1                           | 47.64340                    | 1.725472                    | 106                         | 106                         |\n",
       "| [40.6,49.9]; (1) of Qs0e1n2 | (2.2,5.7]; (2) of Qs0e1n2   | 2                           | 48.33924                    | 3.153165                    |  79                         |  79                         |\n",
       "| (49.9,56.7]; (2) of Qs0e1n2 | [1,2.2]; (1) of Qs0e1n2     | 3                           | 51.45867                    | 1.654667                    |  75                         |  75                         |\n",
       "| (49.9,56.7]; (2) of Qs0e1n2 | (2.2,5.7]; (2) of Qs0e1n2   | 4                           | 51.72400                    | 3.090000                    | 100                         | 100                         |\n",
       "\n"
      ],
      "text/plain": [
       "  h0_Qs0e1n2                  w_Qs0e1n2                 guat.grp.idx.h0wlt\n",
       "1 [40.6,49.9]; (1) of Qs0e1n2 [1,2.2]; (1) of Qs0e1n2   1                 \n",
       "2 [40.6,49.9]; (1) of Qs0e1n2 (2.2,5.7]; (2) of Qs0e1n2 2                 \n",
       "3 (49.9,56.7]; (2) of Qs0e1n2 [1,2.2]; (1) of Qs0e1n2   3                 \n",
       "4 (49.9,56.7]; (2) of Qs0e1n2 (2.2,5.7]; (2) of Qs0e1n2 4                 \n",
       "  h0_mean  w_mean   h0_n w_n\n",
       "1 47.64340 1.725472 106  106\n",
       "2 48.33924 3.153165  79   79\n",
       "3 51.45867 1.654667  75   75\n",
       "4 51.72400 3.090000 100  100"
      ]
     },
     "metadata": {},
     "output_type": "display_data"
    },
    {
     "name": "stdout",
     "output_type": "stream",
     "text": [
      "[1] \"vec.subsidy.grpsize.h0wlt=106,79,75,100\"\n",
      "[1] \"sca.subsidy.groups.h0wlt=4\"\n"
     ]
    }
   ],
   "source": [
    "# Base Data Women Guatemala\n",
    "df.guat.t0t24 <- df %>% filter(svymthRound <= 24 & svymthRound >= 0 & \n",
    "                               S.country == 'Guatemala') %>% \n",
    "            select(i = indi.id, t = svymthRound, y = hgt, x = prot, h0 = hgt0, w = wealthIdx) %>%\n",
    "            drop_na(i, t, y, x, h0, w)\n",
    "\n",
    "# Cut Quantiles\n",
    "var.qjnt.grp.idx.h0wlt <- 'guat.grp.idx.h0wlt'\n",
    "list.cts2quantile.h0wlt <- list(list(vars=c('h0'), prob=c(0, 0.5, 1.0)), \n",
    "                          list(vars=c('w'), prob=c(0, 0.5, 1.0)))\n",
    "results.h0wlt <- df_cut_by_sliced_quantiles_joint(df.guat.t0t24, var.qjnt.grp.idx.h0wlt, list.cts2quantile.h0wlt,\n",
    "                                                  vars.group_by = c('i'), vars.arrange = c('i', 't'),\n",
    "                                                  drop.any.quantile.na = TRUE, toprint = FALSE)\n",
    "# Obtain dataframe with quantile cut\n",
    "df.h0wlt <- results.h0wlt$df.with.cut.quant\n",
    "df.h0wlt.grps <- results.h0wlt$df.group.slice1.cnt.mean\n",
    "sca.subsidy.groups.h0wlt <- dim(df.h0wlt.grps)[1]\n",
    "vec.subsidy.grpsize.h0wlt <- df.h0wlt.grps$h0_n\n",
    "\n",
    "# Show Stats\n",
    "print(paste0('dim(df.h0wlt)=', dim(df.h0wlt)[1], ',', dim(df.h0wlt)[2]))\n",
    "df.h0wlt.grps\n",
    "print(paste0('vec.subsidy.grpsize.h0wlt=', paste0(vec.subsidy.grpsize.h0wlt, collapse=',')))\n",
    "print(paste0('sca.subsidy.groups.h0wlt=', sca.subsidy.groups.h0wlt))"
   ]
  },
  {
   "cell_type": "markdown",
   "metadata": {},
   "source": [
    "## Estimation and Prediction Functions\n",
    "\n",
    "Run Estimations Separately for different Data group, and generate different prediction functions based on them. \n",
    "\n",
    "Only three fixed effects for df.i4xy, about 60 for df.h0, and then about 360 for df.h0wlt. \n",
    "\n",
    "First run a timer."
   ]
  },
  {
   "cell_type": "code",
   "execution_count": 38,
   "metadata": {},
   "outputs": [],
   "source": [
    "# Regressions\n",
    "f_res_linfe <- function(df) lm(log(y) ~ log(x) + factor(i) - 1 , data=df)"
   ]
  },
  {
   "cell_type": "code",
   "execution_count": 39,
   "metadata": {},
   "outputs": [
    {
     "data": {
      "text/plain": [
       "   user  system elapsed \n",
       "      0       0       0 "
      ]
     },
     "metadata": {},
     "output_type": "display_data"
    },
    {
     "data": {
      "text/plain": [
       "   user  system elapsed \n",
       "      0       0       0 "
      ]
     },
     "metadata": {},
     "output_type": "display_data"
    },
    {
     "data": {
      "text/plain": [
       "   user  system elapsed \n",
       "   0.09    0.00    0.10 "
      ]
     },
     "metadata": {},
     "output_type": "display_data"
    }
   ],
   "source": [
    "# Timing\n",
    "system.time({f_res_linfe(df.i4xy)})\n",
    "system.time({f_res_linfe(df.h0)})\n",
    "system.time({f_res_linfe(df.h0wlt)})"
   ]
  },
  {
   "cell_type": "code",
   "execution_count": 40,
   "metadata": {},
   "outputs": [],
   "source": [
    "# StoreEstimation Results\n",
    "res.linfe.i4xy <- lm(log(y) ~ log(x) + factor(i) - 1 , data=df.i4xy)\n",
    "res.linfe.h0 <- lm(log(y) ~ log(x) + factor(i) - 1 , data=df.h0)\n",
    "res.linfe.h0wlt <- lm(log(y) ~ log(x) + factor(i) - 1 , data=df.h0wlt)"
   ]
  },
  {
   "cell_type": "code",
   "execution_count": 41,
   "metadata": {},
   "outputs": [],
   "source": [
    "# Summaries\n",
    "# str(res.linfe.h0)\n",
    "# summary(res.linfe.h0)\n",
    "# summary(res.linfe.h0wlt)\n",
    "# summary(res.linfe.i4xy)"
   ]
  },
  {
   "cell_type": "code",
   "execution_count": 42,
   "metadata": {},
   "outputs": [],
   "source": [
    "# Function 2\n",
    "f_subsidy_y_cd <- function(df, res.linfe,\n",
    "                           var.grp.idx, subsidy.total,\n",
    "                           vec.subsidy.frac, vec.subsidy.grpsize,\n",
    "                           var.new.y.subsidy = 'y_subsidy',\n",
    "                           review=FALSE) {\n",
    "    \n",
    "    # Invoke Function 1\n",
    "    list.df.subsidy <- f_subsidy_vec(df, var.grp.idx, subsidy.total,\n",
    "                                         vec.subsidy.frac, vec.subsidy.grpsize, review)\n",
    "    \n",
    "    df.subsidy <- list.df.subsidy$dfmain\n",
    "    \n",
    "    # Y with subsidy for linear regresion model\n",
    "    df.hgt.adj <- df.subsidy %>% mutate(!!(var.new.y.subsidy) := \n",
    "                                        exp(predict(res.linfe, \n",
    "                                                    (df.subsidy %>% \n",
    "                                                     mutate(x = x + subsidy)))))\n",
    "    \n",
    "    return(list(dfmain=df.hgt.adj,\n",
    "                ysubsidy=var.new.y.subsidy))\n",
    "}"
   ]
  },
  {
   "cell_type": "markdown",
   "metadata": {},
   "source": [
    "## Planer Optimization Parameters Set Up"
   ]
  },
  {
   "cell_type": "markdown",
   "metadata": {},
   "source": [
    "### For 3 Individuals"
   ]
  },
  {
   "cell_type": "code",
   "execution_count": 43,
   "metadata": {},
   "outputs": [],
   "source": [
    "subsidy.total.default.person <- 30"
   ]
  },
  {
   "cell_type": "code",
   "execution_count": 44,
   "metadata": {},
   "outputs": [],
   "source": [
    "# These are the same as in: https://fanwangecon.github.io/HeightProfile/r/planer/paneloptigN.html\n",
    "# Should produce the same results\n",
    "# Default Parameters for Estimation Set up\n",
    "f.subsidy.y.str.i4xy <- 'f_subsidy_y_cd'\n",
    "# t.filter.default.i4xy <- 24\n",
    "subsidy.total.default.i4xy <- subsidy.total.default.person*sum(vec.subsidy.grpsize.i4xy)\n",
    "# lists of Inputs\n",
    "df.default.i4xy <- df.i4xy \n",
    "# NOTE DO NOT INCLUDE in other.default: vec.subsidy.frac, that is set by optim \n",
    "list.subsidy.y.params.other.default.i4xy <- list(df = df.default.i4xy, \n",
    "                                            res.linfe = res.linfe.i4xy,\n",
    "                                            var.grp.idx = var.qjnt.grp.idx.i4xy,\n",
    "                                            subsidy.total = subsidy.total.default.i4xy,\n",
    "                                            vec.subsidy.grpsize = vec.subsidy.grpsize.i4xy)\n",
    "list.subsidy.y.params.maximand.default.i4xy <- list(review = TRUE, vec.subsidy.frac =\n",
    "                                               round(f_subsidy_frac(sca.subsidy.groups.i4xy, 'rand', seed=13), 3))\n",
    "# Overall\n",
    "list.subsidy.y.params.i4xy <- append(list.subsidy.y.params.other.default.i4xy,\n",
    "                                     list.subsidy.y.params.maximand.default.i4xy)"
   ]
  },
  {
   "cell_type": "markdown",
   "metadata": {},
   "source": [
    "### For h0 Cebu 60 people"
   ]
  },
  {
   "cell_type": "code",
   "execution_count": 45,
   "metadata": {},
   "outputs": [],
   "source": [
    "# Default Parameters for Estimation Set up\n",
    "f.subsidy.y.str.h0 <- 'f_subsidy_y_cd'\n",
    "t.filter.default.h0 <- 24\n",
    "subsidy.total.default.h0 <- subsidy.total.default.person*sum(vec.subsidy.grpsize.h0)\n",
    "\n",
    "df.default.h0 <- df.h0 %>% filter(t == t.filter.default.h0)\n",
    "\n",
    "# lists of Inputs\n",
    "# NOTE DO NOT INCLUDE in other.default: vec.subsidy.frac, that is set by optim \n",
    "list.subsidy.y.params.other.default.h0 <- list(df = df.default.h0, \n",
    "                                               res.linfe = res.linfe.h0,\n",
    "                                               var.grp.idx = var.qjnt.grp.idx.h0,\n",
    "                                               subsidy.total = subsidy.total.default.h0,\n",
    "                                               vec.subsidy.grpsize = vec.subsidy.grpsize.h0)\n",
    "list.subsidy.y.params.maximand.default.h0 <- list(review = TRUE, vec.subsidy.frac =\n",
    "                                               round(f_subsidy_frac(sca.subsidy.groups.h0, 'unif', seed=13), 3))\n",
    "\n",
    "# Overall\n",
    "list.subsidy.y.params.h0 <- append(list.subsidy.y.params.other.default.h0,\n",
    "                                   list.subsidy.y.params.maximand.default.h0)"
   ]
  },
  {
   "cell_type": "markdown",
   "metadata": {},
   "source": [
    "### For h0wlt Guatemala"
   ]
  },
  {
   "cell_type": "code",
   "execution_count": 46,
   "metadata": {},
   "outputs": [],
   "source": [
    "# Default Parameters for Estimation Set up\n",
    "f.subsidy.y.str.h0wlt <- 'f_subsidy_y_cd'\n",
    "t.filter.default.h0wlt <- 24\n",
    "# 3 people 100, 300 people now\n",
    "subsidy.total.default.h0wlt <- subsidy.total.default.person*sum(vec.subsidy.grpsize.h0wlt)\n",
    "\n",
    "df.default.h0wlt <- df.h0wlt %>% filter(t == t.filter.default.h0wlt)\n",
    "# NOTE DO NOT INCLUDE in other.default: vec.subsidy.frac, that is set by optim \n",
    "list.subsidy.y.params.other.default.h0wlt <- list(df = df.default.h0wlt, \n",
    "                                                  res.linfe = res.linfe.h0wlt,\n",
    "                                                  var.grp.idx = var.qjnt.grp.idx.h0wlt,\n",
    "                                                  subsidy.total = subsidy.total.default.h0wlt, \n",
    "                                                  vec.subsidy.grpsize = vec.subsidy.grpsize.h0wlt)\n",
    "list.subsidy.y.params.maximand.default.h0wlt <- list(review = TRUE, vec.subsidy.frac = \n",
    "                                                     round(f_subsidy_frac(sca.subsidy.groups.h0wlt, 'unif', seed=13), 3))\n",
    "\n",
    "# Overall\n",
    "list.subsidy.y.params.h0wlt <- append(list.subsidy.y.params.other.default.h0wlt,\n",
    "                                      list.subsidy.y.params.maximand.default.h0wlt)"
   ]
  },
  {
   "cell_type": "markdown",
   "metadata": {},
   "source": [
    "### Testing Prediction Function"
   ]
  },
  {
   "cell_type": "code",
   "execution_count": 47,
   "metadata": {},
   "outputs": [
    {
     "name": "stdout",
     "output_type": "stream",
     "text": [
      "                 [,1]  [,2]  [,3]\n",
      "grp.idx.i4xy     1.00  2.00  3.00\n",
      "subsidy         47.52 16.47 26.01\n",
      "subsidy_mean_it 47.52 16.47 26.01\n",
      "subsidy_sd_it    0.00  0.00  0.00\n",
      "subsidy_n_it    13.00 13.00 13.00\n",
      "subsidy_mean_i  47.52 16.47 26.01\n",
      "subsidy_sd_i      NaN   NaN   NaN\n",
      "subsidy_n_i      1.00  1.00  1.00\n",
      "i                4.00 13.00 15.00\n",
      "t                0.00  0.00  0.00\n",
      "y               48.40 49.30 52.50\n",
      "x                0.50  0.50  0.50\n"
     ]
    },
    {
     "data": {
      "text/html": [
       "<dl>\n",
       "\t<dt>$dfmain</dt>\n",
       "\t\t<dd><table>\n",
       "<thead><tr><th scope=col>i</th><th scope=col>t</th><th scope=col>y</th><th scope=col>x</th><th scope=col>grp.idx.i4xy</th><th scope=col>subsidy_grp</th><th scope=col>subsidy</th><th scope=col>y_subsidy</th></tr></thead>\n",
       "<tbody>\n",
       "\t<tr><td>4                </td><td>0                </td><td>48.4             </td><td>0.5              </td><td>1                </td><td>0.528,0.183,0.289</td><td>47.52            </td><td>94.32824         </td></tr>\n",
       "\t<tr><td>4                </td><td>2                </td><td>53.9             </td><td>1.0              </td><td>1                </td><td>0.528,0.183,0.289</td><td>47.52            </td><td>94.43198         </td></tr>\n",
       "\t<tr><td>4                </td><td>4                </td><td>59.8             </td><td>0.5              </td><td>1                </td><td>0.528,0.183,0.289</td><td>47.52            </td><td>94.32824         </td></tr>\n",
       "\t<tr><td>...</td><td>...</td><td>...</td><td>...</td><td>...</td><td>...</td><td>...</td><td>...</td></tr>\n",
       "\t<tr><td>15               </td><td>22               </td><td>84               </td><td> 8.9             </td><td>3                </td><td>0.528,0.183,0.289</td><td>26.01            </td><td>90.00413         </td></tr>\n",
       "\t<tr><td>15               </td><td>24               </td><td>85               </td><td>20.3             </td><td>3                </td><td>0.528,0.183,0.289</td><td>26.01            </td><td>92.74389         </td></tr>\n",
       "</tbody>\n",
       "</table>\n",
       "</dd>\n",
       "\t<dt>$ysubsidy</dt>\n",
       "\t\t<dd>'y_subsidy'</dd>\n",
       "</dl>\n"
      ],
      "text/latex": [
       "\\begin{description}\n",
       "\\item[\\$dfmain] \\begin{tabular}{r|llllllll}\n",
       " i & t & y & x & grp.idx.i4xy & subsidy\\_grp & subsidy & y\\_subsidy\\\\\n",
       "\\hline\n",
       "\t 4                 & 0                 & 48.4              & 0.5               & 1                 & 0.528,0.183,0.289 & 47.52             & 94.32824         \\\\\n",
       "\t 4                 & 2                 & 53.9              & 1.0               & 1                 & 0.528,0.183,0.289 & 47.52             & 94.43198         \\\\\n",
       "\t 4                 & 4                 & 59.8              & 0.5               & 1                 & 0.528,0.183,0.289 & 47.52             & 94.32824         \\\\\n",
       "\t ... & ... & ... & ... & ... & ... & ... & ...\\\\\n",
       "\t 15                & 22                & 84                &  8.9              & 3                 & 0.528,0.183,0.289 & 26.01             & 90.00413         \\\\\n",
       "\t 15                & 24                & 85                & 20.3              & 3                 & 0.528,0.183,0.289 & 26.01             & 92.74389         \\\\\n",
       "\\end{tabular}\n",
       "\n",
       "\\item[\\$ysubsidy] 'y\\_subsidy'\n",
       "\\end{description}\n"
      ],
      "text/markdown": [
       "$dfmain\n",
       ":   \n",
       "| i | t | y | x | grp.idx.i4xy | subsidy_grp | subsidy | y_subsidy |\n",
       "|---|---|---|---|---|---|---|---|\n",
       "| 4                 | 0                 | 48.4              | 0.5               | 1                 | 0.528,0.183,0.289 | 47.52             | 94.32824          |\n",
       "| 4                 | 2                 | 53.9              | 1.0               | 1                 | 0.528,0.183,0.289 | 47.52             | 94.43198          |\n",
       "| 4                 | 4                 | 59.8              | 0.5               | 1                 | 0.528,0.183,0.289 | 47.52             | 94.32824          |\n",
       "| ... | ... | ... | ... | ... | ... | ... | ... |\n",
       "| 15                | 22                | 84                |  8.9              | 3                 | 0.528,0.183,0.289 | 26.01             | 90.00413          |\n",
       "| 15                | 24                | 85                | 20.3              | 3                 | 0.528,0.183,0.289 | 26.01             | 92.74389          |\n",
       "\n",
       "\n",
       "$ysubsidy\n",
       ":   'y_subsidy'\n",
       "\n",
       "\n"
      ],
      "text/plain": [
       "$dfmain\n",
       "# A tibble: 39 x 8\n",
       "       i     t     y     x grp.idx.i4xy subsidy_grp       subsidy y_subsidy\n",
       "   <dbl> <dbl> <dbl> <dbl>        <int> <chr>               <dbl>     <dbl>\n",
       " 1     4     0  48.4   0.5            1 0.528,0.183,0.289    47.5      94.3\n",
       " 2     4     2  53.9   1              1 0.528,0.183,0.289    47.5      94.4\n",
       " 3     4     4  59.8   0.5            1 0.528,0.183,0.289    47.5      94.3\n",
       " 4     4     6  65.5   1.7            1 0.528,0.183,0.289    47.5      94.6\n",
       " 5     4     8  67.2   1.2            1 0.528,0.183,0.289    47.5      94.5\n",
       " 6     4    10  67.3   0.5            1 0.528,0.183,0.289    47.5      94.3\n",
       " 7     4    12  69.1   0.7            1 0.528,0.183,0.289    47.5      94.4\n",
       " 8     4    14  71.2   1.8            1 0.528,0.183,0.289    47.5      94.6\n",
       " 9     4    16  72.6   2.5            1 0.528,0.183,0.289    47.5      94.7\n",
       "10     4    18  74.3   7.2            1 0.528,0.183,0.289    47.5      95.6\n",
       "# ... with 29 more rows\n",
       "\n",
       "$ysubsidy\n",
       "[1] \"y_subsidy\"\n"
      ]
     },
     "metadata": {},
     "output_type": "display_data"
    }
   ],
   "source": [
    "# Overall Parameter vector\n",
    "options(repr.matrix.max.rows=5, repr.matrix.max.cols=20)\n",
    "do.call(f.subsidy.y.str.i4xy, list.subsidy.y.params.i4xy)"
   ]
  },
  {
   "cell_type": "code",
   "execution_count": 48,
   "metadata": {},
   "outputs": [
    {
     "name": "stdout",
     "output_type": "stream",
     "text": [
      "                  [,1]   [,2]\n",
      "cebu.grp.idx.h0  1.000  2.000\n",
      "subsidy         29.032 31.034\n",
      "subsidy_mean_it 29.032 31.034\n",
      "subsidy_sd_it    0.000  0.000\n",
      "subsidy_n_it    30.000 27.000\n",
      "subsidy_mean_i  29.032 31.034\n",
      "subsidy_sd_i     0.000  0.000\n",
      "subsidy_n_i     30.000 27.000\n",
      "i               34.333 26.222\n",
      "t               24.000 24.000\n",
      "y               78.557 79.500\n",
      "x               19.060 18.019\n",
      "h0              48.123 51.067\n",
      "w                9.297  8.363\n"
     ]
    },
    {
     "data": {
      "text/html": [
       "<dl>\n",
       "\t<dt>$dfmain</dt>\n",
       "\t\t<dd><table>\n",
       "<thead><tr><th scope=col>i</th><th scope=col>t</th><th scope=col>y</th><th scope=col>x</th><th scope=col>h0</th><th scope=col>w</th><th scope=col>h0_Qs0e1n2</th><th scope=col>cebu.grp.idx.h0</th><th scope=col>subsidy_grp</th><th scope=col>subsidy</th><th scope=col>y_subsidy</th></tr></thead>\n",
       "<tbody>\n",
       "\t<tr><td>2                        </td><td>24                       </td><td>79.2                     </td><td>14.1                     </td><td>49.7                     </td><td> 7.3                     </td><td>(49.4,54]; (2) of Qs0e1n2</td><td>2                        </td><td>0.5,0.5                  </td><td>31.03448                 </td><td>85.70456                 </td></tr>\n",
       "\t<tr><td>3                        </td><td>24                       </td><td>76.7                     </td><td>20.6                     </td><td>51.7                     </td><td>10.3                     </td><td>(49.4,54]; (2) of Qs0e1n2</td><td>2                        </td><td>0.5,0.5                  </td><td>31.03448                 </td><td>78.28437                 </td></tr>\n",
       "\t<tr><td>4                        </td><td>24                       </td><td>78.1                     </td><td>10.3                     </td><td>50.2                     </td><td>13.3                     </td><td>(49.4,54]; (2) of Qs0e1n2</td><td>2                        </td><td>0.5,0.5                  </td><td>31.03448                 </td><td>87.84156                 </td></tr>\n",
       "\t<tr><td>...</td><td>...</td><td>...</td><td>...</td><td>...</td><td>...</td><td>...</td><td>...</td><td>...</td><td>...</td><td>...</td></tr>\n",
       "\t<tr><td>58                         </td><td>24                         </td><td>80.3                       </td><td>8.7                        </td><td>46.7                       </td><td>10.3                       </td><td>[44.2,49.4]; (1) of Qs0e1n2</td><td>1                          </td><td>0.5,0.5                    </td><td>29.03226                   </td><td>77.16255                   </td></tr>\n",
       "\t<tr><td>60                         </td><td>24                         </td><td>79.2                       </td><td>6.9                        </td><td>49.4                       </td><td> 7.3                       </td><td>[44.2,49.4]; (1) of Qs0e1n2</td><td>1                          </td><td>0.5,0.5                    </td><td>29.03226                   </td><td>81.82674                   </td></tr>\n",
       "</tbody>\n",
       "</table>\n",
       "</dd>\n",
       "\t<dt>$ysubsidy</dt>\n",
       "\t\t<dd>'y_subsidy'</dd>\n",
       "</dl>\n"
      ],
      "text/latex": [
       "\\begin{description}\n",
       "\\item[\\$dfmain] \\begin{tabular}{r|lllllllllll}\n",
       " i & t & y & x & h0 & w & h0\\_Qs0e1n2 & cebu.grp.idx.h0 & subsidy\\_grp & subsidy & y\\_subsidy\\\\\n",
       "\\hline\n",
       "\t 2                           & 24                          & 79.2                        & 14.1                        & 49.7                        &  7.3                        & (49.4,54{]}; (2) of Qs0e1n2 & 2                           & 0.5,0.5                     & 31.03448                    & 85.70456                   \\\\\n",
       "\t 3                           & 24                          & 76.7                        & 20.6                        & 51.7                        & 10.3                        & (49.4,54{]}; (2) of Qs0e1n2 & 2                           & 0.5,0.5                     & 31.03448                    & 78.28437                   \\\\\n",
       "\t 4                           & 24                          & 78.1                        & 10.3                        & 50.2                        & 13.3                        & (49.4,54{]}; (2) of Qs0e1n2 & 2                           & 0.5,0.5                     & 31.03448                    & 87.84156                   \\\\\n",
       "\t ... & ... & ... & ... & ... & ... & ... & ... & ... & ... & ...\\\\\n",
       "\t 58                              & 24                              & 80.3                            & 8.7                             & 46.7                            & 10.3                            & {[}44.2,49.4{]}; (1) of Qs0e1n2 & 1                               & 0.5,0.5                         & 29.03226                        & 77.16255                       \\\\\n",
       "\t 60                              & 24                              & 79.2                            & 6.9                             & 49.4                            &  7.3                            & {[}44.2,49.4{]}; (1) of Qs0e1n2 & 1                               & 0.5,0.5                         & 29.03226                        & 81.82674                       \\\\\n",
       "\\end{tabular}\n",
       "\n",
       "\\item[\\$ysubsidy] 'y\\_subsidy'\n",
       "\\end{description}\n"
      ],
      "text/markdown": [
       "$dfmain\n",
       ":   \n",
       "| i | t | y | x | h0 | w | h0_Qs0e1n2 | cebu.grp.idx.h0 | subsidy_grp | subsidy | y_subsidy |\n",
       "|---|---|---|---|---|---|---|---|---|---|---|\n",
       "| 2                         | 24                        | 79.2                      | 14.1                      | 49.7                      |  7.3                      | (49.4,54]; (2) of Qs0e1n2 | 2                         | 0.5,0.5                   | 31.03448                  | 85.70456                  |\n",
       "| 3                         | 24                        | 76.7                      | 20.6                      | 51.7                      | 10.3                      | (49.4,54]; (2) of Qs0e1n2 | 2                         | 0.5,0.5                   | 31.03448                  | 78.28437                  |\n",
       "| 4                         | 24                        | 78.1                      | 10.3                      | 50.2                      | 13.3                      | (49.4,54]; (2) of Qs0e1n2 | 2                         | 0.5,0.5                   | 31.03448                  | 87.84156                  |\n",
       "| ... | ... | ... | ... | ... | ... | ... | ... | ... | ... | ... |\n",
       "| 58                          | 24                          | 80.3                        | 8.7                         | 46.7                        | 10.3                        | [44.2,49.4]; (1) of Qs0e1n2 | 1                           | 0.5,0.5                     | 29.03226                    | 77.16255                    |\n",
       "| 60                          | 24                          | 79.2                        | 6.9                         | 49.4                        |  7.3                        | [44.2,49.4]; (1) of Qs0e1n2 | 1                           | 0.5,0.5                     | 29.03226                    | 81.82674                    |\n",
       "\n",
       "\n",
       "$ysubsidy\n",
       ":   'y_subsidy'\n",
       "\n",
       "\n"
      ],
      "text/plain": [
       "$dfmain\n",
       "# A tibble: 57 x 11\n",
       "       i     t     y     x    h0     w h0_Qs0e1n2 cebu.grp.idx.h0 subsidy_grp\n",
       "   <dbl> <dbl> <dbl> <dbl> <dbl> <dbl> <fct>                <int> <chr>      \n",
       " 1     2    24  79.2  14.1  49.7   7.3 (49.4,54]~               2 0.5,0.5    \n",
       " 2     3    24  76.7  20.6  51.7  10.3 (49.4,54]~               2 0.5,0.5    \n",
       " 3     4    24  78.1  10.3  50.2  13.3 (49.4,54]~               2 0.5,0.5    \n",
       " 4     5    24  84.1  18.4  53.4   9.3 (49.4,54]~               2 0.5,0.5    \n",
       " 5     6    24  76.9  16.7  48.3   7.3 [44.2,49.~               1 0.5,0.5    \n",
       " 6     7    24  79.6  15.9  50.3   8.3 (49.4,54]~               2 0.5,0.5    \n",
       " 7     8    24  81.5  30.1  47.7   9.3 [44.2,49.~               1 0.5,0.5    \n",
       " 8     9    24  74.7  14.7  48.2  17.3 [44.2,49.~               1 0.5,0.5    \n",
       " 9    10    24  77.1   9.8  50.7   6.3 (49.4,54]~               2 0.5,0.5    \n",
       "10    11    24  72.1   9.9  48.3   6.3 [44.2,49.~               1 0.5,0.5    \n",
       "# ... with 47 more rows, and 2 more variables: subsidy <dbl>, y_subsidy <dbl>\n",
       "\n",
       "$ysubsidy\n",
       "[1] \"y_subsidy\"\n"
      ]
     },
     "metadata": {},
     "output_type": "display_data"
    }
   ],
   "source": [
    "options(repr.matrix.max.rows=5, repr.matrix.max.cols=20)\n",
    "do.call(f.subsidy.y.str.h0, list.subsidy.y.params.h0)"
   ]
  },
  {
   "cell_type": "code",
   "execution_count": 49,
   "metadata": {},
   "outputs": [
    {
     "name": "stdout",
     "output_type": "stream",
     "text": [
      "                       [,1]     [,2]     [,3]     [,4]\n",
      "guat.grp.idx.h0wlt    1.000    2.000    3.000    4.000\n",
      "subsidy              25.472   34.177   36.000   27.000\n",
      "subsidy_mean_it      25.472   34.177   36.000   27.000\n",
      "subsidy_sd_it         0.000    0.000    0.000    0.000\n",
      "subsidy_n_it         74.000   53.000   48.000   63.000\n",
      "subsidy_mean_i       25.472   34.177   36.000   27.000\n",
      "subsidy_sd_i          0.000    0.000    0.000    0.000\n",
      "subsidy_n_i          74.000   53.000   48.000   63.000\n",
      "i                  1743.432 1679.453 1708.708 1673.746\n",
      "t                    24.000   24.000   24.000   24.000\n",
      "y                    75.804   76.625   78.175   78.771\n",
      "x                    26.550   23.989   27.506   28.148\n",
      "h0                   47.673   48.275   51.327   51.486\n",
      "w                     1.711    3.187    1.652    3.119\n"
     ]
    },
    {
     "data": {
      "text/html": [
       "<dl>\n",
       "\t<dt>$dfmain</dt>\n",
       "\t\t<dd><table>\n",
       "<thead><tr><th scope=col>i</th><th scope=col>t</th><th scope=col>y</th><th scope=col>x</th><th scope=col>h0</th><th scope=col>w</th><th scope=col>h0_Qs0e1n2</th><th scope=col>w_Qs0e1n2</th><th scope=col>guat.grp.idx.h0wlt</th><th scope=col>subsidy_grp</th><th scope=col>subsidy</th><th scope=col>y_subsidy</th></tr></thead>\n",
       "<tbody>\n",
       "\t<tr><td>1352                       </td><td>24                         </td><td>75.8                       </td><td>46.3                       </td><td>47.4                       </td><td>3.3                        </td><td>[40.6,49.9]; (1) of Qs0e1n2</td><td>(2.2,5.7]; (2) of Qs0e1n2  </td><td>2                          </td><td>0.25,0.25,0.25,0.25        </td><td>34.17722                   </td><td>77.36775                   </td></tr>\n",
       "\t<tr><td>1354                       </td><td>24                         </td><td>75.3                       </td><td>15.4                       </td><td>51.2                       </td><td>1.7                        </td><td>(49.9,56.7]; (2) of Qs0e1n2</td><td>[1,2.2]; (1) of Qs0e1n2    </td><td>3                          </td><td>0.25,0.25,0.25,0.25        </td><td>36.00000                   </td><td>78.00260                   </td></tr>\n",
       "\t<tr><td>1356                       </td><td>24                         </td><td>77.1                       </td><td>30.5                       </td><td>51.9                       </td><td>3.4                        </td><td>(49.9,56.7]; (2) of Qs0e1n2</td><td>(2.2,5.7]; (2) of Qs0e1n2  </td><td>4                          </td><td>0.25,0.25,0.25,0.25        </td><td>27.00000                   </td><td>77.43604                   </td></tr>\n",
       "\t<tr><td>...</td><td>...</td><td>...</td><td>...</td><td>...</td><td>...</td><td>...</td><td>...</td><td>...</td><td>...</td><td>...</td><td>...</td></tr>\n",
       "\t<tr><td>2018                       </td><td>24                         </td><td>77.2                       </td><td>31.7                       </td><td>48.8                       </td><td>2.1                        </td><td>[40.6,49.9]; (1) of Qs0e1n2</td><td>[1,2.2]; (1) of Qs0e1n2    </td><td>1                          </td><td>0.25,0.25,0.25,0.25        </td><td>25.4717                    </td><td>76.4070                    </td></tr>\n",
       "\t<tr><td>2019                       </td><td>24                         </td><td>76.8                       </td><td>57.8                       </td><td>49.7                       </td><td>2.2                        </td><td>[40.6,49.9]; (1) of Qs0e1n2</td><td>[1,2.2]; (1) of Qs0e1n2    </td><td>1                          </td><td>0.25,0.25,0.25,0.25        </td><td>25.4717                    </td><td>73.5095                    </td></tr>\n",
       "</tbody>\n",
       "</table>\n",
       "</dd>\n",
       "\t<dt>$ysubsidy</dt>\n",
       "\t\t<dd>'y_subsidy'</dd>\n",
       "</dl>\n"
      ],
      "text/latex": [
       "\\begin{description}\n",
       "\\item[\\$dfmain] \\begin{tabular}{r|llllllllllll}\n",
       " i & t & y & x & h0 & w & h0\\_Qs0e1n2 & w\\_Qs0e1n2 & guat.grp.idx.h0wlt & subsidy\\_grp & subsidy & y\\_subsidy\\\\\n",
       "\\hline\n",
       "\t 1352                            & 24                              & 75.8                            & 46.3                            & 47.4                            & 3.3                             & {[}40.6,49.9{]}; (1) of Qs0e1n2 & (2.2,5.7{]}; (2) of Qs0e1n2     & 2                               & 0.25,0.25,0.25,0.25             & 34.17722                        & 77.36775                       \\\\\n",
       "\t 1354                          & 24                            & 75.3                          & 15.4                          & 51.2                          & 1.7                           & (49.9,56.7{]}; (2) of Qs0e1n2 & {[}1,2.2{]}; (1) of Qs0e1n2   & 3                             & 0.25,0.25,0.25,0.25           & 36.00000                      & 78.00260                     \\\\\n",
       "\t 1356                          & 24                            & 77.1                          & 30.5                          & 51.9                          & 3.4                           & (49.9,56.7{]}; (2) of Qs0e1n2 & (2.2,5.7{]}; (2) of Qs0e1n2   & 4                             & 0.25,0.25,0.25,0.25           & 27.00000                      & 77.43604                     \\\\\n",
       "\t ... & ... & ... & ... & ... & ... & ... & ... & ... & ... & ... & ...\\\\\n",
       "\t 2018                            & 24                              & 77.2                            & 31.7                            & 48.8                            & 2.1                             & {[}40.6,49.9{]}; (1) of Qs0e1n2 & {[}1,2.2{]}; (1) of Qs0e1n2     & 1                               & 0.25,0.25,0.25,0.25             & 25.4717                         & 76.4070                        \\\\\n",
       "\t 2019                            & 24                              & 76.8                            & 57.8                            & 49.7                            & 2.2                             & {[}40.6,49.9{]}; (1) of Qs0e1n2 & {[}1,2.2{]}; (1) of Qs0e1n2     & 1                               & 0.25,0.25,0.25,0.25             & 25.4717                         & 73.5095                        \\\\\n",
       "\\end{tabular}\n",
       "\n",
       "\\item[\\$ysubsidy] 'y\\_subsidy'\n",
       "\\end{description}\n"
      ],
      "text/markdown": [
       "$dfmain\n",
       ":   \n",
       "| i | t | y | x | h0 | w | h0_Qs0e1n2 | w_Qs0e1n2 | guat.grp.idx.h0wlt | subsidy_grp | subsidy | y_subsidy |\n",
       "|---|---|---|---|---|---|---|---|---|---|---|---|\n",
       "| 1352                        | 24                          | 75.8                        | 46.3                        | 47.4                        | 3.3                         | [40.6,49.9]; (1) of Qs0e1n2 | (2.2,5.7]; (2) of Qs0e1n2   | 2                           | 0.25,0.25,0.25,0.25         | 34.17722                    | 77.36775                    |\n",
       "| 1354                        | 24                          | 75.3                        | 15.4                        | 51.2                        | 1.7                         | (49.9,56.7]; (2) of Qs0e1n2 | [1,2.2]; (1) of Qs0e1n2     | 3                           | 0.25,0.25,0.25,0.25         | 36.00000                    | 78.00260                    |\n",
       "| 1356                        | 24                          | 77.1                        | 30.5                        | 51.9                        | 3.4                         | (49.9,56.7]; (2) of Qs0e1n2 | (2.2,5.7]; (2) of Qs0e1n2   | 4                           | 0.25,0.25,0.25,0.25         | 27.00000                    | 77.43604                    |\n",
       "| ... | ... | ... | ... | ... | ... | ... | ... | ... | ... | ... | ... |\n",
       "| 2018                        | 24                          | 77.2                        | 31.7                        | 48.8                        | 2.1                         | [40.6,49.9]; (1) of Qs0e1n2 | [1,2.2]; (1) of Qs0e1n2     | 1                           | 0.25,0.25,0.25,0.25         | 25.4717                     | 76.4070                     |\n",
       "| 2019                        | 24                          | 76.8                        | 57.8                        | 49.7                        | 2.2                         | [40.6,49.9]; (1) of Qs0e1n2 | [1,2.2]; (1) of Qs0e1n2     | 1                           | 0.25,0.25,0.25,0.25         | 25.4717                     | 73.5095                     |\n",
       "\n",
       "\n",
       "$ysubsidy\n",
       ":   'y_subsidy'\n",
       "\n",
       "\n"
      ],
      "text/plain": [
       "$dfmain\n",
       "# A tibble: 238 x 12\n",
       "       i     t     y     x    h0     w h0_Qs0e1n2 w_Qs0e1n2 guat.grp.idx.h0~\n",
       "   <dbl> <dbl> <dbl> <dbl> <dbl> <dbl> <fct>      <fct>                <int>\n",
       " 1  1352    24  75.8  46.3  47.4   3.3 [40.6,49.~ (2.2,5.7~                2\n",
       " 2  1354    24  75.3  15.4  51.2   1.7 (49.9,56.~ [1,2.2];~                3\n",
       " 3  1356    24  77.1  30.5  51.9   3.4 (49.9,56.~ (2.2,5.7~                4\n",
       " 4  1357    24  78.4  22.3  52.6   3.3 (49.9,56.~ (2.2,5.7~                4\n",
       " 5  1358    24  72.5   7.6  45.7   2.2 [40.6,49.~ [1,2.2];~                1\n",
       " 6  1360    24  69.7  25.2  50.4   2.2 (49.9,56.~ [1,2.2];~                3\n",
       " 7  1361    24  72.3  19    48.5   2.2 [40.6,49.~ [1,2.2];~                1\n",
       " 8  1363    24  69.9  23.8  47     2.2 [40.6,49.~ [1,2.2];~                1\n",
       " 9  1364    24  69.7  25.6  45.8   2.2 [40.6,49.~ [1,2.2];~                1\n",
       "10  1366    24  81     7.2  49.8   3.4 [40.6,49.~ (2.2,5.7~                2\n",
       "# ... with 228 more rows, and 3 more variables: subsidy_grp <chr>,\n",
       "#   subsidy <dbl>, y_subsidy <dbl>\n",
       "\n",
       "$ysubsidy\n",
       "[1] \"y_subsidy\"\n"
      ]
     },
     "metadata": {},
     "output_type": "display_data"
    }
   ],
   "source": [
    "options(repr.matrix.max.rows=5, repr.matrix.max.cols=20)\n",
    "do.call(f.subsidy.y.str.h0wlt, list.subsidy.y.params.h0wlt)"
   ]
  },
  {
   "cell_type": "markdown",
   "metadata": {},
   "source": [
    "## Testing Planer Optimization At Single CES Parameter Value\n",
    "\n",
    "Single CES Planer Optimization problem. "
   ]
  },
  {
   "cell_type": "code",
   "execution_count": 50,
   "metadata": {},
   "outputs": [],
   "source": [
    "options(warn=-1) # Suppress Warning Messages\n",
    "# optim_wrapper() from C:\\Users\\fan\\R4Econ\\optimization\\planer\\ces\\cesoptimizer.R\n",
    "param.ces <- 1\n",
    "# test i4xy\n",
    "res.opti.test.i4xy <- optim_wrapper(sca.subsidy.frac.init = (numeric((sca.subsidy.groups.i4xy-1))+1), \n",
    "                                    param.ces = param.ces, f.subsidy.y.str = f.subsidy.y.str.i4xy,\n",
    "                                    list.subsidy.y.params.other = list.subsidy.y.params.other.default.i4xy)\n",
    "# test h0\n",
    "res.opti.test.h0 <- optim_wrapper(sca.subsidy.frac.init = (numeric((sca.subsidy.groups.h0-1))+1), \n",
    "                                  param.ces = param.ces, f.subsidy.y.str = f.subsidy.y.str.h0,\n",
    "                                  list.subsidy.y.params.other = list.subsidy.y.params.other.default.h0)\n",
    "# test h0wlt\n",
    "res.opti.test.h0wlt <- optim_wrapper(sca.subsidy.frac.init = (numeric((sca.subsidy.groups.h0wlt-1))+1), \n",
    "                                     param.ces = param.ces, f.subsidy.y.str = f.subsidy.y.str.h0wlt,\n",
    "                                     list.subsidy.y.params.other = list.subsidy.y.params.other.default.h0wlt)"
   ]
  },
  {
   "cell_type": "code",
   "execution_count": 51,
   "metadata": {},
   "outputs": [],
   "source": [
    "# res.opti.test.i4xy"
   ]
  },
  {
   "cell_type": "code",
   "execution_count": 52,
   "metadata": {},
   "outputs": [
    {
     "data": {
      "text/html": [
       "<table>\n",
       "<thead><tr><th></th><th scope=col>df_h0_cebu</th><th scope=col>df_h0wlt_guat</th><th scope=col>df_i4xy</th></tr></thead>\n",
       "<tbody>\n",
       "\t<tr><th scope=row>convergence</th><td>   0.0000000 </td><td>    0.0000000</td><td>  0.00000000 </td></tr>\n",
       "\t<tr><th scope=row>counts.function</th><td>  24.0000000 </td><td>  108.0000000</td><td> 59.00000000 </td></tr>\n",
       "\t<tr><th scope=row>counts.gradient</th><td>          NA </td><td>           NA</td><td>          NA </td></tr>\n",
       "\t<tr><th scope=row>par.frac.grpsize.v1</th><td>  31.0000000 </td><td>  106.0000000</td><td>  1.00000000 </td></tr>\n",
       "\t<tr><th scope=row>par.frac.grpsize.v2</th><td>  29.0000000 </td><td>   79.0000000</td><td>  1.00000000 </td></tr>\n",
       "\t<tr><th scope=row>par.frac.grpsize.v3</th><td>          NA </td><td>   75.0000000</td><td>  1.00000000 </td></tr>\n",
       "\t<tr><th scope=row>par.frac.grpsize.v4</th><td>          NA </td><td>  100.0000000</td><td>          NA </td></tr>\n",
       "\t<tr><th scope=row>par.frac.lvl.v1</th><td>  28.9868952 </td><td>   32.0800654</td><td> 31.29603118 </td></tr>\n",
       "\t<tr><th scope=row>par.frac.lvl.v2</th><td>  31.0829741 </td><td>   32.8168187</td><td> 30.00530514 </td></tr>\n",
       "\t<tr><th scope=row>par.frac.lvl.v3</th><td>          NA </td><td>   28.1695841</td><td> 28.69866367 </td></tr>\n",
       "\t<tr><th scope=row>par.frac.lvl.v4</th><td>          NA </td><td>   26.9426559</td><td>          NA </td></tr>\n",
       "\t<tr><th scope=row>par.frac.norm.v1</th><td>   1.0000000 </td><td>    1.1906794</td><td>  1.09050482 </td></tr>\n",
       "\t<tr><th scope=row>par.frac.norm.v2</th><td>   1.0723113 </td><td>    1.2180246</td><td>  1.04552970 </td></tr>\n",
       "\t<tr><th scope=row>par.frac.norm.v3</th><td>          NA </td><td>    1.0455385</td><td>  1.00000000 </td></tr>\n",
       "\t<tr><th scope=row>par.frac.norm.v4</th><td>          NA </td><td>    1.0000000</td><td>          NA </td></tr>\n",
       "\t<tr><th scope=row>par.frac.sum</th><td>   1.0000000 </td><td>    1.0000000</td><td>  1.00000000 </td></tr>\n",
       "\t<tr><th scope=row>par.frac.v1</th><td>   0.4992188 </td><td>    0.3148599</td><td>  0.34773368 </td></tr>\n",
       "\t<tr><th scope=row>par.frac.v2</th><td>   0.5007812 </td><td>    0.2400490</td><td>  0.33339228 </td></tr>\n",
       "\t<tr><th scope=row>par.frac.v3</th><td>          NA </td><td>    0.1956221</td><td>  0.31887404 </td></tr>\n",
       "\t<tr><th scope=row>par.frac.v4</th><td>          NA </td><td>    0.2494690</td><td>          NA </td></tr>\n",
       "\t<tr><th scope=row>par.v1</th><td>  -0.0031250 </td><td>   -0.7774956</td><td> -0.62901605 </td></tr>\n",
       "\t<tr><th scope=row>par.v2</th><td>          NA </td><td>   -0.6174362</td><td>  0.04452364 </td></tr>\n",
       "\t<tr><th scope=row>par.v3</th><td>          NA </td><td>   -0.2431500</td><td>          NA </td></tr>\n",
       "\t<tr><th scope=row>param.ces</th><td>   1.0000000 </td><td>    1.0000000</td><td>  1.00000000 </td></tr>\n",
       "\t<tr><th scope=row>sca.subsidy.frac.init.v1</th><td>   1.0000000 </td><td>    1.0000000</td><td>  1.00000000 </td></tr>\n",
       "\t<tr><th scope=row>sca.subsidy.frac.init.v2</th><td>          NA </td><td>    1.0000000</td><td>  1.00000000 </td></tr>\n",
       "\t<tr><th scope=row>sca.subsidy.frac.init.v3</th><td>          NA </td><td>    1.0000000</td><td>          NA </td></tr>\n",
       "\t<tr><th scope=row>subsidy.total</th><td>1800.0000000 </td><td>10800.0000000</td><td> 90.00000000 </td></tr>\n",
       "\t<tr><th scope=row>value</th><td> -82.0787242 </td><td>  -77.5696286</td><td>-90.17354668 </td></tr>\n",
       "</tbody>\n",
       "</table>\n"
      ],
      "text/latex": [
       "\\begin{tabular}{r|lll}\n",
       "  & df\\_h0\\_cebu & df\\_h0wlt\\_guat & df\\_i4xy\\\\\n",
       "\\hline\n",
       "\tconvergence &    0.0000000  &     0.0000000 &   0.00000000 \\\\\n",
       "\tcounts.function &   24.0000000  &   108.0000000 &  59.00000000 \\\\\n",
       "\tcounts.gradient &           NA  &            NA &           NA \\\\\n",
       "\tpar.frac.grpsize.v1 &   31.0000000  &   106.0000000 &   1.00000000 \\\\\n",
       "\tpar.frac.grpsize.v2 &   29.0000000  &    79.0000000 &   1.00000000 \\\\\n",
       "\tpar.frac.grpsize.v3 &           NA  &    75.0000000 &   1.00000000 \\\\\n",
       "\tpar.frac.grpsize.v4 &           NA  &   100.0000000 &           NA \\\\\n",
       "\tpar.frac.lvl.v1 &   28.9868952  &    32.0800654 &  31.29603118 \\\\\n",
       "\tpar.frac.lvl.v2 &   31.0829741  &    32.8168187 &  30.00530514 \\\\\n",
       "\tpar.frac.lvl.v3 &           NA  &    28.1695841 &  28.69866367 \\\\\n",
       "\tpar.frac.lvl.v4 &           NA  &    26.9426559 &           NA \\\\\n",
       "\tpar.frac.norm.v1 &    1.0000000  &     1.1906794 &   1.09050482 \\\\\n",
       "\tpar.frac.norm.v2 &    1.0723113  &     1.2180246 &   1.04552970 \\\\\n",
       "\tpar.frac.norm.v3 &           NA  &     1.0455385 &   1.00000000 \\\\\n",
       "\tpar.frac.norm.v4 &           NA  &     1.0000000 &           NA \\\\\n",
       "\tpar.frac.sum &    1.0000000  &     1.0000000 &   1.00000000 \\\\\n",
       "\tpar.frac.v1 &    0.4992188  &     0.3148599 &   0.34773368 \\\\\n",
       "\tpar.frac.v2 &    0.5007812  &     0.2400490 &   0.33339228 \\\\\n",
       "\tpar.frac.v3 &           NA  &     0.1956221 &   0.31887404 \\\\\n",
       "\tpar.frac.v4 &           NA  &     0.2494690 &           NA \\\\\n",
       "\tpar.v1 &   -0.0031250  &    -0.7774956 &  -0.62901605 \\\\\n",
       "\tpar.v2 &           NA  &    -0.6174362 &   0.04452364 \\\\\n",
       "\tpar.v3 &           NA  &    -0.2431500 &           NA \\\\\n",
       "\tparam.ces &    1.0000000  &     1.0000000 &   1.00000000 \\\\\n",
       "\tsca.subsidy.frac.init.v1 &    1.0000000  &     1.0000000 &   1.00000000 \\\\\n",
       "\tsca.subsidy.frac.init.v2 &           NA  &     1.0000000 &   1.00000000 \\\\\n",
       "\tsca.subsidy.frac.init.v3 &           NA  &     1.0000000 &           NA \\\\\n",
       "\tsubsidy.total & 1800.0000000  & 10800.0000000 &  90.00000000 \\\\\n",
       "\tvalue &  -82.0787242  &   -77.5696286 & -90.17354668 \\\\\n",
       "\\end{tabular}\n"
      ],
      "text/markdown": [
       "\n",
       "| <!--/--> | df_h0_cebu | df_h0wlt_guat | df_i4xy |\n",
       "|---|---|---|---|\n",
       "| convergence |    0.0000000  |     0.0000000 |   0.00000000  |\n",
       "| counts.function |   24.0000000  |   108.0000000 |  59.00000000  |\n",
       "| counts.gradient |           NA  |            NA |           NA  |\n",
       "| par.frac.grpsize.v1 |   31.0000000  |   106.0000000 |   1.00000000  |\n",
       "| par.frac.grpsize.v2 |   29.0000000  |    79.0000000 |   1.00000000  |\n",
       "| par.frac.grpsize.v3 |           NA  |    75.0000000 |   1.00000000  |\n",
       "| par.frac.grpsize.v4 |           NA  |   100.0000000 |           NA  |\n",
       "| par.frac.lvl.v1 |   28.9868952  |    32.0800654 |  31.29603118  |\n",
       "| par.frac.lvl.v2 |   31.0829741  |    32.8168187 |  30.00530514  |\n",
       "| par.frac.lvl.v3 |           NA  |    28.1695841 |  28.69866367  |\n",
       "| par.frac.lvl.v4 |           NA  |    26.9426559 |           NA  |\n",
       "| par.frac.norm.v1 |    1.0000000  |     1.1906794 |   1.09050482  |\n",
       "| par.frac.norm.v2 |    1.0723113  |     1.2180246 |   1.04552970  |\n",
       "| par.frac.norm.v3 |           NA  |     1.0455385 |   1.00000000  |\n",
       "| par.frac.norm.v4 |           NA  |     1.0000000 |           NA  |\n",
       "| par.frac.sum |    1.0000000  |     1.0000000 |   1.00000000  |\n",
       "| par.frac.v1 |    0.4992188  |     0.3148599 |   0.34773368  |\n",
       "| par.frac.v2 |    0.5007812  |     0.2400490 |   0.33339228  |\n",
       "| par.frac.v3 |           NA  |     0.1956221 |   0.31887404  |\n",
       "| par.frac.v4 |           NA  |     0.2494690 |           NA  |\n",
       "| par.v1 |   -0.0031250  |    -0.7774956 |  -0.62901605  |\n",
       "| par.v2 |           NA  |    -0.6174362 |   0.04452364  |\n",
       "| par.v3 |           NA  |    -0.2431500 |           NA  |\n",
       "| param.ces |    1.0000000  |     1.0000000 |   1.00000000  |\n",
       "| sca.subsidy.frac.init.v1 |    1.0000000  |     1.0000000 |   1.00000000  |\n",
       "| sca.subsidy.frac.init.v2 |           NA  |     1.0000000 |   1.00000000  |\n",
       "| sca.subsidy.frac.init.v3 |           NA  |     1.0000000 |           NA  |\n",
       "| subsidy.total | 1800.0000000  | 10800.0000000 |  90.00000000  |\n",
       "| value |  -82.0787242  |   -77.5696286 | -90.17354668  |\n",
       "\n"
      ],
      "text/plain": [
       "                         df_h0_cebu   df_h0wlt_guat df_i4xy     \n",
       "convergence                 0.0000000     0.0000000   0.00000000\n",
       "counts.function            24.0000000   108.0000000  59.00000000\n",
       "counts.gradient                    NA            NA           NA\n",
       "par.frac.grpsize.v1        31.0000000   106.0000000   1.00000000\n",
       "par.frac.grpsize.v2        29.0000000    79.0000000   1.00000000\n",
       "par.frac.grpsize.v3                NA    75.0000000   1.00000000\n",
       "par.frac.grpsize.v4                NA   100.0000000           NA\n",
       "par.frac.lvl.v1            28.9868952    32.0800654  31.29603118\n",
       "par.frac.lvl.v2            31.0829741    32.8168187  30.00530514\n",
       "par.frac.lvl.v3                    NA    28.1695841  28.69866367\n",
       "par.frac.lvl.v4                    NA    26.9426559           NA\n",
       "par.frac.norm.v1            1.0000000     1.1906794   1.09050482\n",
       "par.frac.norm.v2            1.0723113     1.2180246   1.04552970\n",
       "par.frac.norm.v3                   NA     1.0455385   1.00000000\n",
       "par.frac.norm.v4                   NA     1.0000000           NA\n",
       "par.frac.sum                1.0000000     1.0000000   1.00000000\n",
       "par.frac.v1                 0.4992188     0.3148599   0.34773368\n",
       "par.frac.v2                 0.5007812     0.2400490   0.33339228\n",
       "par.frac.v3                        NA     0.1956221   0.31887404\n",
       "par.frac.v4                        NA     0.2494690           NA\n",
       "par.v1                     -0.0031250    -0.7774956  -0.62901605\n",
       "par.v2                             NA    -0.6174362   0.04452364\n",
       "par.v3                             NA    -0.2431500           NA\n",
       "param.ces                   1.0000000     1.0000000   1.00000000\n",
       "sca.subsidy.frac.init.v1    1.0000000     1.0000000   1.00000000\n",
       "sca.subsidy.frac.init.v2           NA     1.0000000   1.00000000\n",
       "sca.subsidy.frac.init.v3           NA     1.0000000           NA\n",
       "subsidy.total            1800.0000000 10800.0000000  90.00000000\n",
       "value                     -82.0787242   -77.5696286 -90.17354668"
      ]
     },
     "metadata": {},
     "output_type": "display_data"
    }
   ],
   "source": [
    "# Display Test Results\n",
    "options(repr.matrix.max.rows=40, repr.matrix.max.cols=20)\n",
    "df.test.results <- list(df_i4xy=res.opti.test.i4xy,\n",
    "                        df_h0_cebu=res.opti.test.h0, \n",
    "                        df_h0wlt_guat=res.opti.test.h0wlt)\n",
    "# Show Results From Tests\n",
    "# list.names = list of list first level names\n",
    "# list.of.list.names = list of list second level names\n",
    "as.data.frame(df.test.results) %>%\n",
    "    gather(variable, value) %>%\n",
    "    separate(variable, c('list.names', 'list.of.list.names'),\n",
    "             sep = \"\\\\.\", extra = \"merge\") %>%\n",
    "    spread(list.names, value) %>%\n",
    "    column_to_rownames(var='list.of.list.names')"
   ]
  },
  {
   "cell_type": "markdown",
   "metadata": {},
   "source": [
    "## Optimization Many CES Parameters\n",
    "\n",
    "Now We Loop over different CES Parameters and Analyze Optimal Policies."
   ]
  },
  {
   "cell_type": "code",
   "execution_count": 53,
   "metadata": {},
   "outputs": [],
   "source": [
    "# Initialize\n",
    "# C:\\Users\\fan\\R4Econ\\optimization\\planer\\ces\\cesplanerobj.R\n",
    "vec.param.ces <- f_ces_params_vec(3, 6)\n",
    "options(warn=-1) # Suppress Warning Messages"
   ]
  },
  {
   "cell_type": "code",
   "execution_count": 54,
   "metadata": {},
   "outputs": [
    {
     "data": {
      "text/html": [
       "<table>\n",
       "<tbody>\n",
       "\t<tr><th scope=row>param.ces</th><td>-160.000000</td><td>-58.000000 </td><td>-21.000000 </td><td>-8.000000  </td><td>-3.000000  </td><td>-1.000000  </td><td>0.000000   </td><td>1.000000   </td></tr>\n",
       "\t<tr><th scope=row>par.frac.norm.v1</th><td>   1.000000</td><td>  1.000000 </td><td>  1.000000 </td><td> 1.003453  </td><td> 1.036517  </td><td> 1.059298  </td><td>1.072686   </td><td>1.090505   </td></tr>\n",
       "\t<tr><th scope=row>par.frac.norm.v2</th><td>   1.168299</td><td>  1.115593 </td><td>  1.091959 </td><td> 1.057218  </td><td> 1.054167  </td><td> 1.051650  </td><td>1.048080   </td><td>1.045530   </td></tr>\n",
       "\t<tr><th scope=row>par.frac.norm.v3</th><td>   1.133708</td><td>  1.065753 </td><td>  1.031976 </td><td> 1.000000  </td><td> 1.000000  </td><td> 1.000000  </td><td>1.000000   </td><td>1.000000   </td></tr>\n",
       "</tbody>\n",
       "</table>\n"
      ],
      "text/latex": [
       "\\begin{tabular}{r|llllllll}\n",
       "\tparam.ces & -160.000000 & -58.000000  & -21.000000  & -8.000000   & -3.000000   & -1.000000   & 0.000000    & 1.000000   \\\\\n",
       "\tpar.frac.norm.v1 &    1.000000 &   1.000000  &   1.000000  &  1.003453   &  1.036517   &  1.059298   & 1.072686    & 1.090505   \\\\\n",
       "\tpar.frac.norm.v2 &    1.168299 &   1.115593  &   1.091959  &  1.057218   &  1.054167   &  1.051650   & 1.048080    & 1.045530   \\\\\n",
       "\tpar.frac.norm.v3 &    1.133708 &   1.065753  &   1.031976  &  1.000000   &  1.000000   &  1.000000   & 1.000000    & 1.000000   \\\\\n",
       "\\end{tabular}\n"
      ],
      "text/markdown": [
       "\n",
       "| param.ces | -160.000000 | -58.000000  | -21.000000  | -8.000000   | -3.000000   | -1.000000   | 0.000000    | 1.000000    |\n",
       "| par.frac.norm.v1 |    1.000000 |   1.000000  |   1.000000  |  1.003453   |  1.036517   |  1.059298   | 1.072686    | 1.090505    |\n",
       "| par.frac.norm.v2 |    1.168299 |   1.115593  |   1.091959  |  1.057218   |  1.054167   |  1.051650   | 1.048080    | 1.045530    |\n",
       "| par.frac.norm.v3 |    1.133708 |   1.065753  |   1.031976  |  1.000000   |  1.000000   |  1.000000   | 1.000000    | 1.000000    |\n",
       "\n"
      ],
      "text/plain": [
       "                 [,1]        [,2]       [,3]       [,4]      [,5]     \n",
       "param.ces        -160.000000 -58.000000 -21.000000 -8.000000 -3.000000\n",
       "par.frac.norm.v1    1.000000   1.000000   1.000000  1.003453  1.036517\n",
       "par.frac.norm.v2    1.168299   1.115593   1.091959  1.057218  1.054167\n",
       "par.frac.norm.v3    1.133708   1.065753   1.031976  1.000000  1.000000\n",
       "                 [,6]      [,7]     [,8]    \n",
       "param.ces        -1.000000 0.000000 1.000000\n",
       "par.frac.norm.v1  1.059298 1.072686 1.090505\n",
       "par.frac.norm.v2  1.051650 1.048080 1.045530\n",
       "par.frac.norm.v3  1.000000 1.000000 1.000000"
      ]
     },
     "metadata": {},
     "output_type": "display_data"
    },
    {
     "data": {
      "image/png": "[encoded data removed]",
      "text/plain": [
       "plot without title"
      ]
     },
     "metadata": {},
     "output_type": "display_data"
    }
   ],
   "source": [
    "# Call i4xy\n",
    "df.ces.opti.i4xy <- bind_rows(lapply(vec.param.ces, optim_wrapper, \n",
    "                                list.subsidy.y.params.other = list.subsidy.y.params.other.default.i4xy,\n",
    "                                sca.subsidy.frac.init = (numeric((sca.subsidy.groups.i4xy-1))+1), \n",
    "                                f.subsidy.y.str = 'f_subsidy_y_cd')) %>% \n",
    "                    select(param.ces, matches('par.frac.norm.v'))\n",
    "t(df.ces.opti.i4xy)\n",
    "# Graph\n",
    "options(repr.plot.width = 12, repr.plot.height = 3)\n",
    "str.title <- 'Three Individuals'\n",
    "str.captions <- 'Jitter/Random Guatemala Cebu Data\\nRelative Subsidy Individuals Normalized'\n",
    "graphf.ces.opti.subsidy(df.ces.opti=df.ces.opti.i4xy,\n",
    "                        sca.subsidy.groups = list.subsidy.y.params.other.default.i4xy$sca.subsidy.groups,\n",
    "                        vec.subsidy.grpsize =  list.subsidy.y.params.other.default.i4xy$vec.subsidy.grpsize, \n",
    "                        str.title=str.title, str.captions=str.captions)"
   ]
  },
  {
   "cell_type": "code",
   "execution_count": 55,
   "metadata": {},
   "outputs": [
    {
     "data": {
      "text/html": [
       "<table>\n",
       "<tbody>\n",
       "\t<tr><th scope=row>param.ces</th><td>-160.000000 </td><td> -58.0000000</td><td> -21.0000000</td><td>  -8.0000000</td><td>  -3.0000000</td><td>  -1.0000000</td><td>   0.000000 </td><td>   1.0000000</td></tr>\n",
       "\t<tr><th scope=row>subsidy.total</th><td>1800.000000 </td><td>1800.0000000</td><td>1800.0000000</td><td>1800.0000000</td><td>1800.0000000</td><td>1800.0000000</td><td>1800.000000 </td><td>1800.0000000</td></tr>\n",
       "\t<tr><th scope=row>par.frac.sum</th><td>   1.000000 </td><td>   1.0000000</td><td>   1.0000000</td><td>   1.0000000</td><td>   1.0000000</td><td>   1.0000000</td><td>   1.000000 </td><td>   1.0000000</td></tr>\n",
       "\t<tr><th scope=row>value</th><td> -72.865213 </td><td> -76.4888863</td><td> -79.2232660</td><td> -80.8119194</td><td> -81.4997430</td><td> -81.7852346</td><td> -81.930773 </td><td> -82.0787242</td></tr>\n",
       "\t<tr><th scope=row>counts.function</th><td>  40.000000 </td><td>  14.0000000</td><td>  22.0000000</td><td>  22.0000000</td><td>  20.0000000</td><td>  20.0000000</td><td>  22.000000 </td><td>  24.0000000</td></tr>\n",
       "\t<tr><th scope=row>counts.gradient</th><td>         NA </td><td>          NA</td><td>          NA</td><td>          NA</td><td>          NA</td><td>          NA</td><td>         NA </td><td>          NA</td></tr>\n",
       "\t<tr><th scope=row>convergence</th><td>   0.000000 </td><td>   0.0000000</td><td>   0.0000000</td><td>   0.0000000</td><td>   0.0000000</td><td>   0.0000000</td><td>   0.000000 </td><td>   0.0000000</td></tr>\n",
       "\t<tr><th scope=row>sca.subsidy.frac.init.v1</th><td>   1.000000 </td><td>   1.0000000</td><td>   1.0000000</td><td>   1.0000000</td><td>   1.0000000</td><td>   1.0000000</td><td>   1.000000 </td><td>   1.0000000</td></tr>\n",
       "\t<tr><th scope=row>par.v1</th><td>   1.341290 </td><td>   1.0125000</td><td>   0.6890625</td><td>   0.4234375</td><td>   0.2406250</td><td>   0.1312500</td><td>   0.071875 </td><td>  -0.0031250</td></tr>\n",
       "\t<tr><th scope=row>par.frac.v1</th><td>   0.792702 </td><td>   0.7335091</td><td>   0.6657583</td><td>   0.6043055</td><td>   0.5598677</td><td>   0.5327655</td><td>   0.517961 </td><td>   0.4992188</td></tr>\n",
       "\t<tr><th scope=row>par.frac.v2</th><td>   0.207298 </td><td>   0.2664909</td><td>   0.3342417</td><td>   0.3956945</td><td>   0.4401323</td><td>   0.4672345</td><td>   0.482039 </td><td>   0.5007812</td></tr>\n",
       "\t<tr><th scope=row>par.frac.grpsize.v1</th><td>  31.000000 </td><td>  31.0000000</td><td>  31.0000000</td><td>  31.0000000</td><td>  31.0000000</td><td>  31.0000000</td><td>  31.000000 </td><td>  31.0000000</td></tr>\n",
       "\t<tr><th scope=row>par.frac.grpsize.v2</th><td>  29.000000 </td><td>  29.0000000</td><td>  29.0000000</td><td>  29.0000000</td><td>  29.0000000</td><td>  29.0000000</td><td>  29.000000 </td><td>  29.0000000</td></tr>\n",
       "\t<tr><th scope=row>par.frac.lvl.v1</th><td>  46.027861 </td><td>  42.5908520</td><td>  38.6569360</td><td>  35.0887076</td><td>  32.5084451</td><td>  30.9347696</td><td>  30.075156 </td><td>  28.9868952</td></tr>\n",
       "\t<tr><th scope=row>par.frac.lvl.v2</th><td>  12.866769 </td><td>  16.5408134</td><td>  20.7460339</td><td>  24.5603470</td><td>  27.3185587</td><td>  29.0007635</td><td>  29.919661 </td><td>  31.0829741</td></tr>\n",
       "\t<tr><th scope=row>par.frac.norm.v1</th><td>   3.577266 </td><td>   2.5748947</td><td>   1.8633410</td><td>   1.4286731</td><td>   1.1899766</td><td>   1.0666881</td><td>   1.005197 </td><td>   1.0000000</td></tr>\n",
       "\t<tr><th scope=row>par.frac.norm.v2</th><td>   1.000000 </td><td>   1.0000000</td><td>   1.0000000</td><td>   1.0000000</td><td>   1.0000000</td><td>   1.0000000</td><td>   1.000000 </td><td>   1.0723113</td></tr>\n",
       "</tbody>\n",
       "</table>\n"
      ],
      "text/latex": [
       "\\begin{tabular}{r|llllllll}\n",
       "\tparam.ces & -160.000000  &  -58.0000000 &  -21.0000000 &   -8.0000000 &   -3.0000000 &   -1.0000000 &    0.000000  &    1.0000000\\\\\n",
       "\tsubsidy.total & 1800.000000  & 1800.0000000 & 1800.0000000 & 1800.0000000 & 1800.0000000 & 1800.0000000 & 1800.000000  & 1800.0000000\\\\\n",
       "\tpar.frac.sum &    1.000000  &    1.0000000 &    1.0000000 &    1.0000000 &    1.0000000 &    1.0000000 &    1.000000  &    1.0000000\\\\\n",
       "\tvalue &  -72.865213  &  -76.4888863 &  -79.2232660 &  -80.8119194 &  -81.4997430 &  -81.7852346 &  -81.930773  &  -82.0787242\\\\\n",
       "\tcounts.function &   40.000000  &   14.0000000 &   22.0000000 &   22.0000000 &   20.0000000 &   20.0000000 &   22.000000  &   24.0000000\\\\\n",
       "\tcounts.gradient &          NA  &           NA &           NA &           NA &           NA &           NA &          NA  &           NA\\\\\n",
       "\tconvergence &    0.000000  &    0.0000000 &    0.0000000 &    0.0000000 &    0.0000000 &    0.0000000 &    0.000000  &    0.0000000\\\\\n",
       "\tsca.subsidy.frac.init.v1 &    1.000000  &    1.0000000 &    1.0000000 &    1.0000000 &    1.0000000 &    1.0000000 &    1.000000  &    1.0000000\\\\\n",
       "\tpar.v1 &    1.341290  &    1.0125000 &    0.6890625 &    0.4234375 &    0.2406250 &    0.1312500 &    0.071875  &   -0.0031250\\\\\n",
       "\tpar.frac.v1 &    0.792702  &    0.7335091 &    0.6657583 &    0.6043055 &    0.5598677 &    0.5327655 &    0.517961  &    0.4992188\\\\\n",
       "\tpar.frac.v2 &    0.207298  &    0.2664909 &    0.3342417 &    0.3956945 &    0.4401323 &    0.4672345 &    0.482039  &    0.5007812\\\\\n",
       "\tpar.frac.grpsize.v1 &   31.000000  &   31.0000000 &   31.0000000 &   31.0000000 &   31.0000000 &   31.0000000 &   31.000000  &   31.0000000\\\\\n",
       "\tpar.frac.grpsize.v2 &   29.000000  &   29.0000000 &   29.0000000 &   29.0000000 &   29.0000000 &   29.0000000 &   29.000000  &   29.0000000\\\\\n",
       "\tpar.frac.lvl.v1 &   46.027861  &   42.5908520 &   38.6569360 &   35.0887076 &   32.5084451 &   30.9347696 &   30.075156  &   28.9868952\\\\\n",
       "\tpar.frac.lvl.v2 &   12.866769  &   16.5408134 &   20.7460339 &   24.5603470 &   27.3185587 &   29.0007635 &   29.919661  &   31.0829741\\\\\n",
       "\tpar.frac.norm.v1 &    3.577266  &    2.5748947 &    1.8633410 &    1.4286731 &    1.1899766 &    1.0666881 &    1.005197  &    1.0000000\\\\\n",
       "\tpar.frac.norm.v2 &    1.000000  &    1.0000000 &    1.0000000 &    1.0000000 &    1.0000000 &    1.0000000 &    1.000000  &    1.0723113\\\\\n",
       "\\end{tabular}\n"
      ],
      "text/markdown": [
       "\n",
       "| param.ces | -160.000000  |  -58.0000000 |  -21.0000000 |   -8.0000000 |   -3.0000000 |   -1.0000000 |    0.000000  |    1.0000000 |\n",
       "| subsidy.total | 1800.000000  | 1800.0000000 | 1800.0000000 | 1800.0000000 | 1800.0000000 | 1800.0000000 | 1800.000000  | 1800.0000000 |\n",
       "| par.frac.sum |    1.000000  |    1.0000000 |    1.0000000 |    1.0000000 |    1.0000000 |    1.0000000 |    1.000000  |    1.0000000 |\n",
       "| value |  -72.865213  |  -76.4888863 |  -79.2232660 |  -80.8119194 |  -81.4997430 |  -81.7852346 |  -81.930773  |  -82.0787242 |\n",
       "| counts.function |   40.000000  |   14.0000000 |   22.0000000 |   22.0000000 |   20.0000000 |   20.0000000 |   22.000000  |   24.0000000 |\n",
       "| counts.gradient |          NA  |           NA |           NA |           NA |           NA |           NA |          NA  |           NA |\n",
       "| convergence |    0.000000  |    0.0000000 |    0.0000000 |    0.0000000 |    0.0000000 |    0.0000000 |    0.000000  |    0.0000000 |\n",
       "| sca.subsidy.frac.init.v1 |    1.000000  |    1.0000000 |    1.0000000 |    1.0000000 |    1.0000000 |    1.0000000 |    1.000000  |    1.0000000 |\n",
       "| par.v1 |    1.341290  |    1.0125000 |    0.6890625 |    0.4234375 |    0.2406250 |    0.1312500 |    0.071875  |   -0.0031250 |\n",
       "| par.frac.v1 |    0.792702  |    0.7335091 |    0.6657583 |    0.6043055 |    0.5598677 |    0.5327655 |    0.517961  |    0.4992188 |\n",
       "| par.frac.v2 |    0.207298  |    0.2664909 |    0.3342417 |    0.3956945 |    0.4401323 |    0.4672345 |    0.482039  |    0.5007812 |\n",
       "| par.frac.grpsize.v1 |   31.000000  |   31.0000000 |   31.0000000 |   31.0000000 |   31.0000000 |   31.0000000 |   31.000000  |   31.0000000 |\n",
       "| par.frac.grpsize.v2 |   29.000000  |   29.0000000 |   29.0000000 |   29.0000000 |   29.0000000 |   29.0000000 |   29.000000  |   29.0000000 |\n",
       "| par.frac.lvl.v1 |   46.027861  |   42.5908520 |   38.6569360 |   35.0887076 |   32.5084451 |   30.9347696 |   30.075156  |   28.9868952 |\n",
       "| par.frac.lvl.v2 |   12.866769  |   16.5408134 |   20.7460339 |   24.5603470 |   27.3185587 |   29.0007635 |   29.919661  |   31.0829741 |\n",
       "| par.frac.norm.v1 |    3.577266  |    2.5748947 |    1.8633410 |    1.4286731 |    1.1899766 |    1.0666881 |    1.005197  |    1.0000000 |\n",
       "| par.frac.norm.v2 |    1.000000  |    1.0000000 |    1.0000000 |    1.0000000 |    1.0000000 |    1.0000000 |    1.000000  |    1.0723113 |\n",
       "\n"
      ],
      "text/plain": [
       "                         [,1]        [,2]         [,3]         [,4]        \n",
       "param.ces                -160.000000  -58.0000000  -21.0000000   -8.0000000\n",
       "subsidy.total            1800.000000 1800.0000000 1800.0000000 1800.0000000\n",
       "par.frac.sum                1.000000    1.0000000    1.0000000    1.0000000\n",
       "value                     -72.865213  -76.4888863  -79.2232660  -80.8119194\n",
       "counts.function            40.000000   14.0000000   22.0000000   22.0000000\n",
       "counts.gradient                   NA           NA           NA           NA\n",
       "convergence                 0.000000    0.0000000    0.0000000    0.0000000\n",
       "sca.subsidy.frac.init.v1    1.000000    1.0000000    1.0000000    1.0000000\n",
       "par.v1                      1.341290    1.0125000    0.6890625    0.4234375\n",
       "par.frac.v1                 0.792702    0.7335091    0.6657583    0.6043055\n",
       "par.frac.v2                 0.207298    0.2664909    0.3342417    0.3956945\n",
       "par.frac.grpsize.v1        31.000000   31.0000000   31.0000000   31.0000000\n",
       "par.frac.grpsize.v2        29.000000   29.0000000   29.0000000   29.0000000\n",
       "par.frac.lvl.v1            46.027861   42.5908520   38.6569360   35.0887076\n",
       "par.frac.lvl.v2            12.866769   16.5408134   20.7460339   24.5603470\n",
       "par.frac.norm.v1            3.577266    2.5748947    1.8633410    1.4286731\n",
       "par.frac.norm.v2            1.000000    1.0000000    1.0000000    1.0000000\n",
       "                         [,5]         [,6]         [,7]        [,8]        \n",
       "param.ces                  -3.0000000   -1.0000000    0.000000    1.0000000\n",
       "subsidy.total            1800.0000000 1800.0000000 1800.000000 1800.0000000\n",
       "par.frac.sum                1.0000000    1.0000000    1.000000    1.0000000\n",
       "value                     -81.4997430  -81.7852346  -81.930773  -82.0787242\n",
       "counts.function            20.0000000   20.0000000   22.000000   24.0000000\n",
       "counts.gradient                    NA           NA          NA           NA\n",
       "convergence                 0.0000000    0.0000000    0.000000    0.0000000\n",
       "sca.subsidy.frac.init.v1    1.0000000    1.0000000    1.000000    1.0000000\n",
       "par.v1                      0.2406250    0.1312500    0.071875   -0.0031250\n",
       "par.frac.v1                 0.5598677    0.5327655    0.517961    0.4992188\n",
       "par.frac.v2                 0.4401323    0.4672345    0.482039    0.5007812\n",
       "par.frac.grpsize.v1        31.0000000   31.0000000   31.000000   31.0000000\n",
       "par.frac.grpsize.v2        29.0000000   29.0000000   29.000000   29.0000000\n",
       "par.frac.lvl.v1            32.5084451   30.9347696   30.075156   28.9868952\n",
       "par.frac.lvl.v2            27.3185587   29.0007635   29.919661   31.0829741\n",
       "par.frac.norm.v1            1.1899766    1.0666881    1.005197    1.0000000\n",
       "par.frac.norm.v2            1.0000000    1.0000000    1.000000    1.0723113"
      ]
     },
     "metadata": {},
     "output_type": "display_data"
    },
    {
     "data": {
      "image/png": "[encoded data removed]",
      "text/plain": [
       "plot without title"
      ]
     },
     "metadata": {},
     "output_type": "display_data"
    },
    {
     "data": {
      "image/png": "[encoded data removed]",
      "text/plain": [
       "plot without title"
      ]
     },
     "metadata": {},
     "output_type": "display_data"
    }
   ],
   "source": [
    "# test h0\n",
    "df.ces.opti.h0 <- bind_rows(lapply(vec.param.ces, optim_wrapper, \n",
    "                                list.subsidy.y.params.other = list.subsidy.y.params.other.default.h0,\n",
    "                                sca.subsidy.frac.init = (numeric((sca.subsidy.groups.h0-1))+1), \n",
    "                                f.subsidy.y.str = 'f_subsidy_y_cd'))\n",
    "t(df.ces.opti.h0)\n",
    "# Graph\n",
    "options(repr.plot.width = 12, repr.plot.height = 3)\n",
    "sca.subsidy.groups = list.subsidy.y.params.other.default.h0$sca.subsidy.groups\n",
    "vec.subsidy.grpsize =  list.subsidy.y.params.other.default.h0$vec.subsidy.grpsize\n",
    "# Two Graphs\n",
    "# G1 \n",
    "str.title <- 'Subsidy Per Person Normalized, Cebu 60 People Below (v1) and Above (v2) Median Initial Height'\n",
    "str.captions <- 'Jitter/Random Guatemala Cebu Data\\nRelative Subsidy Individuals Normalized'\n",
    "graphf.ces.opti.subsidy(df.ces.opti=df.ces.opti.h0 %>% select(param.ces, matches('par.frac.norm.v')),\n",
    "                        sca.subsidy.groups = sca.subsidy.groups, vec.subsidy.grpsize = vec.subsidy.grpsize, \n",
    "                        str.title=str.title, str.captions=str.captions)\n",
    "str.title <- 'Subsidy Per Person Level, Cebu 60 People Below (v1) and Above (v2) Median Initial Height'\n",
    "str.captions <- 'Jitter/Random Guatemala Cebu Data\\nPer Person Subsidy Level'\n",
    "graphf.ces.opti.subsidy(df.ces.opti=df.ces.opti.h0 %>% select(param.ces, matches('par.frac.lvl.v')),\n",
    "                        sca.subsidy.groups = sca.subsidy.groups, vec.subsidy.grpsize = vec.subsidy.grpsize, \n",
    "                        str.title=str.title, str.captions=str.captions)"
   ]
  },
  {
   "cell_type": "code",
   "execution_count": 56,
   "metadata": {},
   "outputs": [
    {
     "data": {
      "text/html": [
       "<table>\n",
       "<tbody>\n",
       "\t<tr><th scope=row>param.ces</th><td>-1.600000e+02</td><td>  -58.0000000</td><td>-2.100000e+01</td><td>   -8.0000000</td><td>   -3.0000000</td><td>   -1.0000000</td><td>    0.0000000</td><td>    1.0000000</td></tr>\n",
       "\t<tr><th scope=row>subsidy.total</th><td> 1.080000e+04</td><td>10800.0000000</td><td> 1.080000e+04</td><td>10800.0000000</td><td>10800.0000000</td><td>10800.0000000</td><td>10800.0000000</td><td>10800.0000000</td></tr>\n",
       "\t<tr><th scope=row>par.frac.sum</th><td> 1.000000e+00</td><td>    1.0000000</td><td> 1.000000e+00</td><td>    1.0000000</td><td>    1.0000000</td><td>    1.0000000</td><td>    1.0000000</td><td>    1.0000000</td></tr>\n",
       "\t<tr><th scope=row>value</th><td>-6.989605e+01</td><td>  -74.1200724</td><td>-7.619396e+01</td><td>  -76.9993587</td><td>  -77.3132916</td><td>  -77.4406441</td><td>  -77.5048903</td><td>  -77.5696286</td></tr>\n",
       "\t<tr><th scope=row>counts.function</th><td> 1.780000e+02</td><td>  148.0000000</td><td> 1.240000e+02</td><td>  132.0000000</td><td>  128.0000000</td><td>  164.0000000</td><td>  116.0000000</td><td>  108.0000000</td></tr>\n",
       "\t<tr><th scope=row>counts.gradient</th><td>           NA</td><td>           NA</td><td>           NA</td><td>           NA</td><td>           NA</td><td>           NA</td><td>           NA</td><td>           NA</td></tr>\n",
       "\t<tr><th scope=row>convergence</th><td> 0.000000e+00</td><td>    0.0000000</td><td> 0.000000e+00</td><td>    0.0000000</td><td>    0.0000000</td><td>    0.0000000</td><td>    0.0000000</td><td>    0.0000000</td></tr>\n",
       "\t<tr><th scope=row>sca.subsidy.frac.init.v1</th><td> 1.000000e+00</td><td>    1.0000000</td><td> 1.000000e+00</td><td>    1.0000000</td><td>    1.0000000</td><td>    1.0000000</td><td>    1.0000000</td><td>    1.0000000</td></tr>\n",
       "\t<tr><th scope=row>sca.subsidy.frac.init.v2</th><td> 1.000000e+00</td><td>    1.0000000</td><td> 1.000000e+00</td><td>    1.0000000</td><td>    1.0000000</td><td>    1.0000000</td><td>    1.0000000</td><td>    1.0000000</td></tr>\n",
       "\t<tr><th scope=row>sca.subsidy.frac.init.v3</th><td> 1.000000e+00</td><td>    1.0000000</td><td> 1.000000e+00</td><td>    1.0000000</td><td>    1.0000000</td><td>    1.0000000</td><td>    1.0000000</td><td>    1.0000000</td></tr>\n",
       "\t<tr><th scope=row>par.v1</th><td> 1.240356e-01</td><td>   -0.2405590</td><td>-3.740779e-01</td><td>   -0.5211500</td><td>   -0.6350898</td><td>   -0.7000372</td><td>   -0.7407843</td><td>   -0.7774956</td></tr>\n",
       "\t<tr><th scope=row>par.v2</th><td>-3.876340e-01</td><td>   -0.4236918</td><td>-4.095921e-01</td><td>   -0.5115118</td><td>   -0.5660304</td><td>   -0.5922219</td><td>   -0.6049483</td><td>   -0.6174362</td></tr>\n",
       "\t<tr><th scope=row>par.v3</th><td> 2.160244e+00</td><td>    0.7455086</td><td>-6.405885e-02</td><td>   -0.2187342</td><td>   -0.2406793</td><td>   -0.2448401</td><td>   -0.2500206</td><td>   -0.2431500</td></tr>\n",
       "\t<tr><th scope=row>par.frac.v1</th><td> 5.309692e-01</td><td>    0.4401486</td><td> 4.075560e-01</td><td>    0.3725834</td><td>    0.3463573</td><td>    0.3318040</td><td>    0.3228327</td><td>    0.3148599</td></tr>\n",
       "\t<tr><th scope=row>par.frac.v2</th><td> 1.896230e-01</td><td>    0.2214961</td><td> 2.363910e-01</td><td>    0.2351803</td><td>    0.2367188</td><td>    0.2379614</td><td>    0.2391839</td><td>    0.2400490</td></tr>\n",
       "\t<tr><th scope=row>par.frac.v3</th><td> 2.505232e-01</td><td>    0.2294723</td><td> 1.723263e-01</td><td>    0.1747544</td><td>    0.1834961</td><td>    0.1889134</td><td>    0.1917572</td><td>    0.1956221</td></tr>\n",
       "\t<tr><th scope=row>par.frac.v4</th><td> 2.888457e-02</td><td>    0.1088830</td><td> 1.837266e-01</td><td>    0.2174819</td><td>    0.2334277</td><td>    0.2413212</td><td>    0.2462262</td><td>    0.2494690</td></tr>\n",
       "\t<tr><th scope=row>par.frac.grpsize.v1</th><td> 1.060000e+02</td><td>  106.0000000</td><td> 1.060000e+02</td><td>  106.0000000</td><td>  106.0000000</td><td>  106.0000000</td><td>  106.0000000</td><td>  106.0000000</td></tr>\n",
       "\t<tr><th scope=row>par.frac.grpsize.v2</th><td> 7.900000e+01</td><td>   79.0000000</td><td> 7.900000e+01</td><td>   79.0000000</td><td>   79.0000000</td><td>   79.0000000</td><td>   79.0000000</td><td>   79.0000000</td></tr>\n",
       "\t<tr><th scope=row>par.frac.grpsize.v3</th><td> 7.500000e+01</td><td>   75.0000000</td><td> 7.500000e+01</td><td>   75.0000000</td><td>   75.0000000</td><td>   75.0000000</td><td>   75.0000000</td><td>   75.0000000</td></tr>\n",
       "\t<tr><th scope=row>par.frac.grpsize.v4</th><td> 1.000000e+02</td><td>  100.0000000</td><td> 1.000000e+02</td><td>  100.0000000</td><td>  100.0000000</td><td>  100.0000000</td><td>  100.0000000</td><td>  100.0000000</td></tr>\n",
       "\t<tr><th scope=row>par.frac.lvl.v1</th><td> 5.409875e+01</td><td>   44.8453294</td><td> 4.152458e+01</td><td>   37.9613244</td><td>   35.2892379</td><td>   33.8064437</td><td>   32.8923853</td><td>   32.0800654</td></tr>\n",
       "\t<tr><th scope=row>par.frac.lvl.v2</th><td> 2.592315e+01</td><td>   30.2804749</td><td> 3.231675e+01</td><td>   32.1512372</td><td>   32.3615635</td><td>   32.5314372</td><td>   32.6985595</td><td>   32.8168187</td></tr>\n",
       "\t<tr><th scope=row>par.frac.lvl.v3</th><td> 3.607534e+01</td><td>   33.0440159</td><td> 2.481499e+01</td><td>   25.1646308</td><td>   26.4234349</td><td>   27.2035281</td><td>   27.6130393</td><td>   28.1695841</td></tr>\n",
       "\t<tr><th scope=row>par.frac.lvl.v4</th><td> 3.119533e+00</td><td>   11.7593637</td><td> 1.984247e+01</td><td>   23.4880457</td><td>   25.2101964</td><td>   26.0626881</td><td>   26.5924301</td><td>   26.9426559</td></tr>\n",
       "\t<tr><th scope=row>par.frac.norm.v1</th><td> 1.734194e+01</td><td>    3.8135847</td><td> 2.092712e+00</td><td>    1.6161977</td><td>    1.3998002</td><td>    1.2971204</td><td>    1.2369078</td><td>    1.1906794</td></tr>\n",
       "\t<tr><th scope=row>par.frac.norm.v2</th><td> 8.309946e+00</td><td>    2.5750096</td><td> 1.628665e+00</td><td>    1.3688341</td><td>    1.2836696</td><td>    1.2481996</td><td>    1.2296191</td><td>    1.2180246</td></tr>\n",
       "\t<tr><th scope=row>par.frac.norm.v3</th><td> 1.156434e+01</td><td>    2.8100173</td><td> 1.250600e+00</td><td>    1.0713804</td><td>    1.0481249</td><td>    1.0437729</td><td>    1.0383797</td><td>    1.0455385</td></tr>\n",
       "\t<tr><th scope=row>par.frac.norm.v4</th><td> 1.000000e+00</td><td>    1.0000000</td><td> 1.000000e+00</td><td>    1.0000000</td><td>    1.0000000</td><td>    1.0000000</td><td>    1.0000000</td><td>    1.0000000</td></tr>\n",
       "</tbody>\n",
       "</table>\n"
      ],
      "text/latex": [
       "\\begin{tabular}{r|llllllll}\n",
       "\tparam.ces & -1.600000e+02 &   -58.0000000 & -2.100000e+01 &    -8.0000000 &    -3.0000000 &    -1.0000000 &     0.0000000 &     1.0000000\\\\\n",
       "\tsubsidy.total &  1.080000e+04 & 10800.0000000 &  1.080000e+04 & 10800.0000000 & 10800.0000000 & 10800.0000000 & 10800.0000000 & 10800.0000000\\\\\n",
       "\tpar.frac.sum &  1.000000e+00 &     1.0000000 &  1.000000e+00 &     1.0000000 &     1.0000000 &     1.0000000 &     1.0000000 &     1.0000000\\\\\n",
       "\tvalue & -6.989605e+01 &   -74.1200724 & -7.619396e+01 &   -76.9993587 &   -77.3132916 &   -77.4406441 &   -77.5048903 &   -77.5696286\\\\\n",
       "\tcounts.function &  1.780000e+02 &   148.0000000 &  1.240000e+02 &   132.0000000 &   128.0000000 &   164.0000000 &   116.0000000 &   108.0000000\\\\\n",
       "\tcounts.gradient &            NA &            NA &            NA &            NA &            NA &            NA &            NA &            NA\\\\\n",
       "\tconvergence &  0.000000e+00 &     0.0000000 &  0.000000e+00 &     0.0000000 &     0.0000000 &     0.0000000 &     0.0000000 &     0.0000000\\\\\n",
       "\tsca.subsidy.frac.init.v1 &  1.000000e+00 &     1.0000000 &  1.000000e+00 &     1.0000000 &     1.0000000 &     1.0000000 &     1.0000000 &     1.0000000\\\\\n",
       "\tsca.subsidy.frac.init.v2 &  1.000000e+00 &     1.0000000 &  1.000000e+00 &     1.0000000 &     1.0000000 &     1.0000000 &     1.0000000 &     1.0000000\\\\\n",
       "\tsca.subsidy.frac.init.v3 &  1.000000e+00 &     1.0000000 &  1.000000e+00 &     1.0000000 &     1.0000000 &     1.0000000 &     1.0000000 &     1.0000000\\\\\n",
       "\tpar.v1 &  1.240356e-01 &    -0.2405590 & -3.740779e-01 &    -0.5211500 &    -0.6350898 &    -0.7000372 &    -0.7407843 &    -0.7774956\\\\\n",
       "\tpar.v2 & -3.876340e-01 &    -0.4236918 & -4.095921e-01 &    -0.5115118 &    -0.5660304 &    -0.5922219 &    -0.6049483 &    -0.6174362\\\\\n",
       "\tpar.v3 &  2.160244e+00 &     0.7455086 & -6.405885e-02 &    -0.2187342 &    -0.2406793 &    -0.2448401 &    -0.2500206 &    -0.2431500\\\\\n",
       "\tpar.frac.v1 &  5.309692e-01 &     0.4401486 &  4.075560e-01 &     0.3725834 &     0.3463573 &     0.3318040 &     0.3228327 &     0.3148599\\\\\n",
       "\tpar.frac.v2 &  1.896230e-01 &     0.2214961 &  2.363910e-01 &     0.2351803 &     0.2367188 &     0.2379614 &     0.2391839 &     0.2400490\\\\\n",
       "\tpar.frac.v3 &  2.505232e-01 &     0.2294723 &  1.723263e-01 &     0.1747544 &     0.1834961 &     0.1889134 &     0.1917572 &     0.1956221\\\\\n",
       "\tpar.frac.v4 &  2.888457e-02 &     0.1088830 &  1.837266e-01 &     0.2174819 &     0.2334277 &     0.2413212 &     0.2462262 &     0.2494690\\\\\n",
       "\tpar.frac.grpsize.v1 &  1.060000e+02 &   106.0000000 &  1.060000e+02 &   106.0000000 &   106.0000000 &   106.0000000 &   106.0000000 &   106.0000000\\\\\n",
       "\tpar.frac.grpsize.v2 &  7.900000e+01 &    79.0000000 &  7.900000e+01 &    79.0000000 &    79.0000000 &    79.0000000 &    79.0000000 &    79.0000000\\\\\n",
       "\tpar.frac.grpsize.v3 &  7.500000e+01 &    75.0000000 &  7.500000e+01 &    75.0000000 &    75.0000000 &    75.0000000 &    75.0000000 &    75.0000000\\\\\n",
       "\tpar.frac.grpsize.v4 &  1.000000e+02 &   100.0000000 &  1.000000e+02 &   100.0000000 &   100.0000000 &   100.0000000 &   100.0000000 &   100.0000000\\\\\n",
       "\tpar.frac.lvl.v1 &  5.409875e+01 &    44.8453294 &  4.152458e+01 &    37.9613244 &    35.2892379 &    33.8064437 &    32.8923853 &    32.0800654\\\\\n",
       "\tpar.frac.lvl.v2 &  2.592315e+01 &    30.2804749 &  3.231675e+01 &    32.1512372 &    32.3615635 &    32.5314372 &    32.6985595 &    32.8168187\\\\\n",
       "\tpar.frac.lvl.v3 &  3.607534e+01 &    33.0440159 &  2.481499e+01 &    25.1646308 &    26.4234349 &    27.2035281 &    27.6130393 &    28.1695841\\\\\n",
       "\tpar.frac.lvl.v4 &  3.119533e+00 &    11.7593637 &  1.984247e+01 &    23.4880457 &    25.2101964 &    26.0626881 &    26.5924301 &    26.9426559\\\\\n",
       "\tpar.frac.norm.v1 &  1.734194e+01 &     3.8135847 &  2.092712e+00 &     1.6161977 &     1.3998002 &     1.2971204 &     1.2369078 &     1.1906794\\\\\n",
       "\tpar.frac.norm.v2 &  8.309946e+00 &     2.5750096 &  1.628665e+00 &     1.3688341 &     1.2836696 &     1.2481996 &     1.2296191 &     1.2180246\\\\\n",
       "\tpar.frac.norm.v3 &  1.156434e+01 &     2.8100173 &  1.250600e+00 &     1.0713804 &     1.0481249 &     1.0437729 &     1.0383797 &     1.0455385\\\\\n",
       "\tpar.frac.norm.v4 &  1.000000e+00 &     1.0000000 &  1.000000e+00 &     1.0000000 &     1.0000000 &     1.0000000 &     1.0000000 &     1.0000000\\\\\n",
       "\\end{tabular}\n"
      ],
      "text/markdown": [
       "\n",
       "| param.ces | -1.600000e+02 |   -58.0000000 | -2.100000e+01 |    -8.0000000 |    -3.0000000 |    -1.0000000 |     0.0000000 |     1.0000000 |\n",
       "| subsidy.total |  1.080000e+04 | 10800.0000000 |  1.080000e+04 | 10800.0000000 | 10800.0000000 | 10800.0000000 | 10800.0000000 | 10800.0000000 |\n",
       "| par.frac.sum |  1.000000e+00 |     1.0000000 |  1.000000e+00 |     1.0000000 |     1.0000000 |     1.0000000 |     1.0000000 |     1.0000000 |\n",
       "| value | -6.989605e+01 |   -74.1200724 | -7.619396e+01 |   -76.9993587 |   -77.3132916 |   -77.4406441 |   -77.5048903 |   -77.5696286 |\n",
       "| counts.function |  1.780000e+02 |   148.0000000 |  1.240000e+02 |   132.0000000 |   128.0000000 |   164.0000000 |   116.0000000 |   108.0000000 |\n",
       "| counts.gradient |            NA |            NA |            NA |            NA |            NA |            NA |            NA |            NA |\n",
       "| convergence |  0.000000e+00 |     0.0000000 |  0.000000e+00 |     0.0000000 |     0.0000000 |     0.0000000 |     0.0000000 |     0.0000000 |\n",
       "| sca.subsidy.frac.init.v1 |  1.000000e+00 |     1.0000000 |  1.000000e+00 |     1.0000000 |     1.0000000 |     1.0000000 |     1.0000000 |     1.0000000 |\n",
       "| sca.subsidy.frac.init.v2 |  1.000000e+00 |     1.0000000 |  1.000000e+00 |     1.0000000 |     1.0000000 |     1.0000000 |     1.0000000 |     1.0000000 |\n",
       "| sca.subsidy.frac.init.v3 |  1.000000e+00 |     1.0000000 |  1.000000e+00 |     1.0000000 |     1.0000000 |     1.0000000 |     1.0000000 |     1.0000000 |\n",
       "| par.v1 |  1.240356e-01 |    -0.2405590 | -3.740779e-01 |    -0.5211500 |    -0.6350898 |    -0.7000372 |    -0.7407843 |    -0.7774956 |\n",
       "| par.v2 | -3.876340e-01 |    -0.4236918 | -4.095921e-01 |    -0.5115118 |    -0.5660304 |    -0.5922219 |    -0.6049483 |    -0.6174362 |\n",
       "| par.v3 |  2.160244e+00 |     0.7455086 | -6.405885e-02 |    -0.2187342 |    -0.2406793 |    -0.2448401 |    -0.2500206 |    -0.2431500 |\n",
       "| par.frac.v1 |  5.309692e-01 |     0.4401486 |  4.075560e-01 |     0.3725834 |     0.3463573 |     0.3318040 |     0.3228327 |     0.3148599 |\n",
       "| par.frac.v2 |  1.896230e-01 |     0.2214961 |  2.363910e-01 |     0.2351803 |     0.2367188 |     0.2379614 |     0.2391839 |     0.2400490 |\n",
       "| par.frac.v3 |  2.505232e-01 |     0.2294723 |  1.723263e-01 |     0.1747544 |     0.1834961 |     0.1889134 |     0.1917572 |     0.1956221 |\n",
       "| par.frac.v4 |  2.888457e-02 |     0.1088830 |  1.837266e-01 |     0.2174819 |     0.2334277 |     0.2413212 |     0.2462262 |     0.2494690 |\n",
       "| par.frac.grpsize.v1 |  1.060000e+02 |   106.0000000 |  1.060000e+02 |   106.0000000 |   106.0000000 |   106.0000000 |   106.0000000 |   106.0000000 |\n",
       "| par.frac.grpsize.v2 |  7.900000e+01 |    79.0000000 |  7.900000e+01 |    79.0000000 |    79.0000000 |    79.0000000 |    79.0000000 |    79.0000000 |\n",
       "| par.frac.grpsize.v3 |  7.500000e+01 |    75.0000000 |  7.500000e+01 |    75.0000000 |    75.0000000 |    75.0000000 |    75.0000000 |    75.0000000 |\n",
       "| par.frac.grpsize.v4 |  1.000000e+02 |   100.0000000 |  1.000000e+02 |   100.0000000 |   100.0000000 |   100.0000000 |   100.0000000 |   100.0000000 |\n",
       "| par.frac.lvl.v1 |  5.409875e+01 |    44.8453294 |  4.152458e+01 |    37.9613244 |    35.2892379 |    33.8064437 |    32.8923853 |    32.0800654 |\n",
       "| par.frac.lvl.v2 |  2.592315e+01 |    30.2804749 |  3.231675e+01 |    32.1512372 |    32.3615635 |    32.5314372 |    32.6985595 |    32.8168187 |\n",
       "| par.frac.lvl.v3 |  3.607534e+01 |    33.0440159 |  2.481499e+01 |    25.1646308 |    26.4234349 |    27.2035281 |    27.6130393 |    28.1695841 |\n",
       "| par.frac.lvl.v4 |  3.119533e+00 |    11.7593637 |  1.984247e+01 |    23.4880457 |    25.2101964 |    26.0626881 |    26.5924301 |    26.9426559 |\n",
       "| par.frac.norm.v1 |  1.734194e+01 |     3.8135847 |  2.092712e+00 |     1.6161977 |     1.3998002 |     1.2971204 |     1.2369078 |     1.1906794 |\n",
       "| par.frac.norm.v2 |  8.309946e+00 |     2.5750096 |  1.628665e+00 |     1.3688341 |     1.2836696 |     1.2481996 |     1.2296191 |     1.2180246 |\n",
       "| par.frac.norm.v3 |  1.156434e+01 |     2.8100173 |  1.250600e+00 |     1.0713804 |     1.0481249 |     1.0437729 |     1.0383797 |     1.0455385 |\n",
       "| par.frac.norm.v4 |  1.000000e+00 |     1.0000000 |  1.000000e+00 |     1.0000000 |     1.0000000 |     1.0000000 |     1.0000000 |     1.0000000 |\n",
       "\n"
      ],
      "text/plain": [
       "                         [,1]          [,2]          [,3]         \n",
       "param.ces                -1.600000e+02   -58.0000000 -2.100000e+01\n",
       "subsidy.total             1.080000e+04 10800.0000000  1.080000e+04\n",
       "par.frac.sum              1.000000e+00     1.0000000  1.000000e+00\n",
       "value                    -6.989605e+01   -74.1200724 -7.619396e+01\n",
       "counts.function           1.780000e+02   148.0000000  1.240000e+02\n",
       "counts.gradient                     NA            NA            NA\n",
       "convergence               0.000000e+00     0.0000000  0.000000e+00\n",
       "sca.subsidy.frac.init.v1  1.000000e+00     1.0000000  1.000000e+00\n",
       "sca.subsidy.frac.init.v2  1.000000e+00     1.0000000  1.000000e+00\n",
       "sca.subsidy.frac.init.v3  1.000000e+00     1.0000000  1.000000e+00\n",
       "par.v1                    1.240356e-01    -0.2405590 -3.740779e-01\n",
       "par.v2                   -3.876340e-01    -0.4236918 -4.095921e-01\n",
       "par.v3                    2.160244e+00     0.7455086 -6.405885e-02\n",
       "par.frac.v1               5.309692e-01     0.4401486  4.075560e-01\n",
       "par.frac.v2               1.896230e-01     0.2214961  2.363910e-01\n",
       "par.frac.v3               2.505232e-01     0.2294723  1.723263e-01\n",
       "par.frac.v4               2.888457e-02     0.1088830  1.837266e-01\n",
       "par.frac.grpsize.v1       1.060000e+02   106.0000000  1.060000e+02\n",
       "par.frac.grpsize.v2       7.900000e+01    79.0000000  7.900000e+01\n",
       "par.frac.grpsize.v3       7.500000e+01    75.0000000  7.500000e+01\n",
       "par.frac.grpsize.v4       1.000000e+02   100.0000000  1.000000e+02\n",
       "par.frac.lvl.v1           5.409875e+01    44.8453294  4.152458e+01\n",
       "par.frac.lvl.v2           2.592315e+01    30.2804749  3.231675e+01\n",
       "par.frac.lvl.v3           3.607534e+01    33.0440159  2.481499e+01\n",
       "par.frac.lvl.v4           3.119533e+00    11.7593637  1.984247e+01\n",
       "par.frac.norm.v1          1.734194e+01     3.8135847  2.092712e+00\n",
       "par.frac.norm.v2          8.309946e+00     2.5750096  1.628665e+00\n",
       "par.frac.norm.v3          1.156434e+01     2.8100173  1.250600e+00\n",
       "par.frac.norm.v4          1.000000e+00     1.0000000  1.000000e+00\n",
       "                         [,4]          [,5]          [,6]         \n",
       "param.ces                   -8.0000000    -3.0000000    -1.0000000\n",
       "subsidy.total            10800.0000000 10800.0000000 10800.0000000\n",
       "par.frac.sum                 1.0000000     1.0000000     1.0000000\n",
       "value                      -76.9993587   -77.3132916   -77.4406441\n",
       "counts.function            132.0000000   128.0000000   164.0000000\n",
       "counts.gradient                     NA            NA            NA\n",
       "convergence                  0.0000000     0.0000000     0.0000000\n",
       "sca.subsidy.frac.init.v1     1.0000000     1.0000000     1.0000000\n",
       "sca.subsidy.frac.init.v2     1.0000000     1.0000000     1.0000000\n",
       "sca.subsidy.frac.init.v3     1.0000000     1.0000000     1.0000000\n",
       "par.v1                      -0.5211500    -0.6350898    -0.7000372\n",
       "par.v2                      -0.5115118    -0.5660304    -0.5922219\n",
       "par.v3                      -0.2187342    -0.2406793    -0.2448401\n",
       "par.frac.v1                  0.3725834     0.3463573     0.3318040\n",
       "par.frac.v2                  0.2351803     0.2367188     0.2379614\n",
       "par.frac.v3                  0.1747544     0.1834961     0.1889134\n",
       "par.frac.v4                  0.2174819     0.2334277     0.2413212\n",
       "par.frac.grpsize.v1        106.0000000   106.0000000   106.0000000\n",
       "par.frac.grpsize.v2         79.0000000    79.0000000    79.0000000\n",
       "par.frac.grpsize.v3         75.0000000    75.0000000    75.0000000\n",
       "par.frac.grpsize.v4        100.0000000   100.0000000   100.0000000\n",
       "par.frac.lvl.v1             37.9613244    35.2892379    33.8064437\n",
       "par.frac.lvl.v2             32.1512372    32.3615635    32.5314372\n",
       "par.frac.lvl.v3             25.1646308    26.4234349    27.2035281\n",
       "par.frac.lvl.v4             23.4880457    25.2101964    26.0626881\n",
       "par.frac.norm.v1             1.6161977     1.3998002     1.2971204\n",
       "par.frac.norm.v2             1.3688341     1.2836696     1.2481996\n",
       "par.frac.norm.v3             1.0713804     1.0481249     1.0437729\n",
       "par.frac.norm.v4             1.0000000     1.0000000     1.0000000\n",
       "                         [,7]          [,8]         \n",
       "param.ces                    0.0000000     1.0000000\n",
       "subsidy.total            10800.0000000 10800.0000000\n",
       "par.frac.sum                 1.0000000     1.0000000\n",
       "value                      -77.5048903   -77.5696286\n",
       "counts.function            116.0000000   108.0000000\n",
       "counts.gradient                     NA            NA\n",
       "convergence                  0.0000000     0.0000000\n",
       "sca.subsidy.frac.init.v1     1.0000000     1.0000000\n",
       "sca.subsidy.frac.init.v2     1.0000000     1.0000000\n",
       "sca.subsidy.frac.init.v3     1.0000000     1.0000000\n",
       "par.v1                      -0.7407843    -0.7774956\n",
       "par.v2                      -0.6049483    -0.6174362\n",
       "par.v3                      -0.2500206    -0.2431500\n",
       "par.frac.v1                  0.3228327     0.3148599\n",
       "par.frac.v2                  0.2391839     0.2400490\n",
       "par.frac.v3                  0.1917572     0.1956221\n",
       "par.frac.v4                  0.2462262     0.2494690\n",
       "par.frac.grpsize.v1        106.0000000   106.0000000\n",
       "par.frac.grpsize.v2         79.0000000    79.0000000\n",
       "par.frac.grpsize.v3         75.0000000    75.0000000\n",
       "par.frac.grpsize.v4        100.0000000   100.0000000\n",
       "par.frac.lvl.v1             32.8923853    32.0800654\n",
       "par.frac.lvl.v2             32.6985595    32.8168187\n",
       "par.frac.lvl.v3             27.6130393    28.1695841\n",
       "par.frac.lvl.v4             26.5924301    26.9426559\n",
       "par.frac.norm.v1             1.2369078     1.1906794\n",
       "par.frac.norm.v2             1.2296191     1.2180246\n",
       "par.frac.norm.v3             1.0383797     1.0455385\n",
       "par.frac.norm.v4             1.0000000     1.0000000"
      ]
     },
     "metadata": {},
     "output_type": "display_data"
    },
    {
     "data": {
      "image/png": "[encoded data removed]",
      "text/plain": [
       "plot without title"
      ]
     },
     "metadata": {},
     "output_type": "display_data"
    },
    {
     "data": {
      "image/png": "[encoded data removed]",
      "text/plain": [
       "plot without title"
      ]
     },
     "metadata": {},
     "output_type": "display_data"
    }
   ],
   "source": [
    "# test h0wlt\n",
    "df.ces.opti.h0wlt <- bind_rows(lapply(vec.param.ces, optim_wrapper, \n",
    "                                list.subsidy.y.params.other = list.subsidy.y.params.other.default.h0wlt,\n",
    "                                sca.subsidy.frac.init = (numeric((sca.subsidy.groups.h0wlt-1))+1), \n",
    "                                f.subsidy.y.str = 'f_subsidy_y_cd'))\n",
    "t(df.ces.opti.h0wlt)\n",
    "\n",
    "# Graph\n",
    "options(repr.plot.width = 12, repr.plot.height = 3)\n",
    "sca.subsidy.groups = list.subsidy.y.params.other.default.h0wlt$sca.subsidy.groups\n",
    "vec.subsidy.grpsize =  list.subsidy.y.params.other.default.h0wlt$vec.subsidy.grpsize\n",
    "# Two Graphs\n",
    "# G1 \n",
    "str.title <- paste0('Subsidy Per Person Normalized',\n",
    "                    '\\nGuatemala Below (v1-2) Above (v3-4) P50 Initial Height, ',\n",
    "                    'Guatemala Below (v1,3) Above (v2-4) P50 Wealth Index')\n",
    "str.captions <- 'Jitter/Random Guatemala Cebu Data\\nRelative Subsidy Individuals Normalized'\n",
    "graphf.ces.opti.subsidy(df.ces.opti=df.ces.opti.h0wlt %>% select(param.ces, matches('par.frac.norm.v')),\n",
    "                        sca.subsidy.groups = sca.subsidy.groups, vec.subsidy.grpsize = vec.subsidy.grpsize, \n",
    "                        str.title=str.title, str.captions=str.captions, geom_text_format='%.1f')\n",
    "str.title <- paste0('Subsidy Per Person Level',\n",
    "                    '\\nGuatemala Below (v1-2) Above (v3-4) P50 Initial Height, ',\n",
    "                    'Guatemala Below (v1,3) Above (v2-4) P50 Wealth Index')\n",
    "str.captions <- 'Jitter/Random Guatemala Cebu Data\\nPer Person Subsidy Level'\n",
    "graphf.ces.opti.subsidy(df.ces.opti=df.ces.opti.h0wlt %>% select(param.ces, matches('par.frac.lvl.v')),\n",
    "                        sca.subsidy.groups = sca.subsidy.groups, vec.subsidy.grpsize = vec.subsidy.grpsize, \n",
    "                        str.title=str.title, str.captions=str.captions, geom_text_format='%.1f')"
   ]
  }
 ],
 "metadata": {
  "kernelspec": {
   "display_name": "R",
   "language": "R",
   "name": "ir"
  },
  "language_info": {
   "codemirror_mode": "r",
   "file_extension": ".r",
   "mimetype": "text/x-r-source",
   "name": "R",
   "pygments_lexer": "r",
   "version": "3.5.1"
  }
 },
 "nbformat": 4,
 "nbformat_minor": 2
}
