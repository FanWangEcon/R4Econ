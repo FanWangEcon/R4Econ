{
 "cells": [
  {
   "cell_type": "markdown",
   "metadata": {},
   "source": [
    "# Panel Data Subsidy Optimization over Two Groups\n",
    "\n",
    "There is some production function or other functional relationship between x and y. When x shifts, y shifts. We are interested in some function over the vector of y. We shift x to maximize some objective over the vector of y. \n",
    "\n",
    "$$\n",
    "\\max_{\\left\\{S_i\\right\\}_{i \\in \\left\\{1,2\\right\\}}}\n",
    "O \\left(\n",
    "    \\left\\{ \n",
    "    Y_{it}(X_{it}, S_i) \n",
    "    \\right\\}^{i \\in \\left\\{1,2\\right\\}}\n",
    "    _{t \\in \\left\\{1,...,T\\right\\}}\n",
    " \\right)\n",
    "$$\n",
    "\n",
    "Specifically: there is a finite amount of subsidies, there are two individuals observed between month 0 and 24. What are the optimal nutritional subsidies to provide to the three individuals given some function that relates nutritional input to outcome (height), ignoring behavior responses.\n",
    "\n",
    "This exercise assumes that individual specific coefficients are known ex-ante. "
   ]
  },
  {
   "cell_type": "markdown",
   "metadata": {},
   "source": [
    "## Use Program"
   ]
  },
  {
   "cell_type": "markdown",
   "metadata": {},
   "source": [
    "### Load Data"
   ]
  },
  {
   "cell_type": "code",
   "execution_count": 402,
   "metadata": {},
   "outputs": [
    {
     "name": "stderr",
     "output_type": "stream",
     "text": [
      "Parsed with column specification:\n",
      "cols(\n",
      "  S.country = col_character(),\n",
      "  vil.id = col_integer(),\n",
      "  indi.id = col_integer(),\n",
      "  sex = col_character(),\n",
      "  svymthRound = col_integer(),\n",
      "  momEdu = col_double(),\n",
      "  wealthIdx = col_double(),\n",
      "  hgt = col_double(),\n",
      "  wgt = col_double(),\n",
      "  hgt0 = col_double(),\n",
      "  wgt0 = col_double(),\n",
      "  prot = col_double(),\n",
      "  cal = col_double(),\n",
      "  p.A.prot = col_double(),\n",
      "  p.A.nProt = col_double()\n",
      ")\n"
     ]
    }
   ],
   "source": [
    "# Library\n",
    "library(tidyverse)\n",
    "\n",
    "# Load Sample Data\n",
    "setwd('C:/Users/fan/R4Econ/_data/')\n",
    "df <- read_csv('height_weight.csv')"
   ]
  },
  {
   "cell_type": "markdown",
   "metadata": {},
   "source": [
    "### Data Selection\n",
    "\n",
    "We only need information from several individuals"
   ]
  },
  {
   "cell_type": "code",
   "execution_count": 403,
   "metadata": {},
   "outputs": [
    {
     "data": {
      "text/html": [
       "<table>\n",
       "<tbody>\n",
       "\t<tr><th scope=row>i</th><td> 4.0</td><td> 4.0</td><td> 4.0</td><td> 4.0</td><td> 4.0</td><td> 4.0</td><td>13.0</td><td>13.0</td><td>13.0</td><td>13.0</td><td>13.0</td><td>13.0</td></tr>\n",
       "\t<tr><th scope=row>t</th><td>14.0</td><td>16.0</td><td>18.0</td><td>20.0</td><td>22.0</td><td>24.0</td><td>14.0</td><td>16.0</td><td>18.0</td><td>20.0</td><td>22.0</td><td>24.0</td></tr>\n",
       "\t<tr><th scope=row>y</th><td>71.2</td><td>72.6</td><td>74.3</td><td>76.7</td><td>76.2</td><td>78.1</td><td>75.0</td><td>75.4</td><td>75.5</td><td>78.4</td><td>79.2</td><td>78.7</td></tr>\n",
       "\t<tr><th scope=row>x</th><td> 1.8</td><td> 2.5</td><td> 7.2</td><td>10.1</td><td> 9.2</td><td>10.3</td><td> 8.3</td><td> 4.2</td><td> 5.3</td><td> 6.2</td><td> 5.8</td><td>11.0</td></tr>\n",
       "</tbody>\n",
       "</table>\n"
      ],
      "text/latex": [
       "\\begin{tabular}{r|llllllllllll}\n",
       "\ti &  4.0 &  4.0 &  4.0 &  4.0 &  4.0 &  4.0 & 13.0 & 13.0 & 13.0 & 13.0 & 13.0 & 13.0\\\\\n",
       "\tt & 14.0 & 16.0 & 18.0 & 20.0 & 22.0 & 24.0 & 14.0 & 16.0 & 18.0 & 20.0 & 22.0 & 24.0\\\\\n",
       "\ty & 71.2 & 72.6 & 74.3 & 76.7 & 76.2 & 78.1 & 75.0 & 75.4 & 75.5 & 78.4 & 79.2 & 78.7\\\\\n",
       "\tx &  1.8 &  2.5 &  7.2 & 10.1 &  9.2 & 10.3 &  8.3 &  4.2 &  5.3 &  6.2 &  5.8 & 11.0\\\\\n",
       "\\end{tabular}\n"
      ],
      "text/markdown": [
       "\n",
       "| i |  4.0 |  4.0 |  4.0 |  4.0 |  4.0 |  4.0 | 13.0 | 13.0 | 13.0 | 13.0 | 13.0 | 13.0 | \n",
       "| t | 14.0 | 16.0 | 18.0 | 20.0 | 22.0 | 24.0 | 14.0 | 16.0 | 18.0 | 20.0 | 22.0 | 24.0 | \n",
       "| y | 71.2 | 72.6 | 74.3 | 76.7 | 76.2 | 78.1 | 75.0 | 75.4 | 75.5 | 78.4 | 79.2 | 78.7 | \n",
       "| x |  1.8 |  2.5 |  7.2 | 10.1 |  9.2 | 10.3 |  8.3 |  4.2 |  5.3 |  6.2 |  5.8 | 11.0 | \n",
       "\n",
       "\n"
      ],
      "text/plain": [
       "  [,1] [,2] [,3] [,4] [,5] [,6] [,7] [,8] [,9] [,10] [,11] [,12]\n",
       "i  4.0  4.0  4.0  4.0  4.0  4.0 13.0 13.0 13.0 13.0  13.0  13.0 \n",
       "t 14.0 16.0 18.0 20.0 22.0 24.0 14.0 16.0 18.0 20.0  22.0  24.0 \n",
       "y 71.2 72.6 74.3 76.7 76.2 78.1 75.0 75.4 75.5 78.4  79.2  78.7 \n",
       "x  1.8  2.5  7.2 10.1  9.2 10.3  8.3  4.2  5.3  6.2   5.8  11.0 "
      ]
     },
     "metadata": {},
     "output_type": "display_data"
    }
   ],
   "source": [
    "# Select 2 individuals, information from second year, four variables\n",
    "df.i2t6xy <- df %>% filter(svymthRound <= 24 & svymthRound >= 14 & \n",
    "              S.country == 'Cebu' & (indi.id == 4 | indi.id == 13)) %>% \n",
    "            select(i = indi.id, t = svymthRound, y = hgt, x =prot)\n",
    "t(df.i2t6xy)"
   ]
  },
  {
   "cell_type": "markdown",
   "metadata": {},
   "source": [
    "### Subsidy Group Index\n",
    "\n",
    "Generate linear index for subsidy groups."
   ]
  },
  {
   "cell_type": "code",
   "execution_count": 404,
   "metadata": {},
   "outputs": [
    {
     "data": {
      "text/html": [
       "<table>\n",
       "<tbody>\n",
       "\t<tr><th scope=row>i</th><td> 4.0</td><td> 4.0</td><td> 4.0</td><td> 4.0</td><td> 4.0</td><td> 4.0</td><td>13.0</td><td>13.0</td><td>13.0</td><td>13.0</td><td>13.0</td><td>13.0</td></tr>\n",
       "\t<tr><th scope=row>t</th><td>14.0</td><td>16.0</td><td>18.0</td><td>20.0</td><td>22.0</td><td>24.0</td><td>14.0</td><td>16.0</td><td>18.0</td><td>20.0</td><td>22.0</td><td>24.0</td></tr>\n",
       "\t<tr><th scope=row>y</th><td>71.2</td><td>72.6</td><td>74.3</td><td>76.7</td><td>76.2</td><td>78.1</td><td>75.0</td><td>75.4</td><td>75.5</td><td>78.4</td><td>79.2</td><td>78.7</td></tr>\n",
       "\t<tr><th scope=row>x</th><td> 1.8</td><td> 2.5</td><td> 7.2</td><td>10.1</td><td> 9.2</td><td>10.3</td><td> 8.3</td><td> 4.2</td><td> 5.3</td><td> 6.2</td><td> 5.8</td><td>11.0</td></tr>\n",
       "\t<tr><th scope=row>subsidy.grp</th><td> 1.0</td><td> 1.0</td><td> 1.0</td><td> 1.0</td><td> 1.0</td><td> 1.0</td><td> 2.0</td><td> 2.0</td><td> 2.0</td><td> 2.0</td><td> 2.0</td><td> 2.0</td></tr>\n",
       "</tbody>\n",
       "</table>\n"
      ],
      "text/latex": [
       "\\begin{tabular}{r|llllllllllll}\n",
       "\ti &  4.0 &  4.0 &  4.0 &  4.0 &  4.0 &  4.0 & 13.0 & 13.0 & 13.0 & 13.0 & 13.0 & 13.0\\\\\n",
       "\tt & 14.0 & 16.0 & 18.0 & 20.0 & 22.0 & 24.0 & 14.0 & 16.0 & 18.0 & 20.0 & 22.0 & 24.0\\\\\n",
       "\ty & 71.2 & 72.6 & 74.3 & 76.7 & 76.2 & 78.1 & 75.0 & 75.4 & 75.5 & 78.4 & 79.2 & 78.7\\\\\n",
       "\tx &  1.8 &  2.5 &  7.2 & 10.1 &  9.2 & 10.3 &  8.3 &  4.2 &  5.3 &  6.2 &  5.8 & 11.0\\\\\n",
       "\tsubsidy.grp &  1.0 &  1.0 &  1.0 &  1.0 &  1.0 &  1.0 &  2.0 &  2.0 &  2.0 &  2.0 &  2.0 &  2.0\\\\\n",
       "\\end{tabular}\n"
      ],
      "text/markdown": [
       "\n",
       "| i |  4.0 |  4.0 |  4.0 |  4.0 |  4.0 |  4.0 | 13.0 | 13.0 | 13.0 | 13.0 | 13.0 | 13.0 | \n",
       "| t | 14.0 | 16.0 | 18.0 | 20.0 | 22.0 | 24.0 | 14.0 | 16.0 | 18.0 | 20.0 | 22.0 | 24.0 | \n",
       "| y | 71.2 | 72.6 | 74.3 | 76.7 | 76.2 | 78.1 | 75.0 | 75.4 | 75.5 | 78.4 | 79.2 | 78.7 | \n",
       "| x |  1.8 |  2.5 |  7.2 | 10.1 |  9.2 | 10.3 |  8.3 |  4.2 |  5.3 |  6.2 |  5.8 | 11.0 | \n",
       "| subsidy.grp |  1.0 |  1.0 |  1.0 |  1.0 |  1.0 |  1.0 |  2.0 |  2.0 |  2.0 |  2.0 |  2.0 |  2.0 | \n",
       "\n",
       "\n"
      ],
      "text/plain": [
       "            [,1] [,2] [,3] [,4] [,5] [,6] [,7] [,8] [,9] [,10] [,11] [,12]\n",
       "i            4.0  4.0  4.0  4.0  4.0  4.0 13.0 13.0 13.0 13.0  13.0  13.0 \n",
       "t           14.0 16.0 18.0 20.0 22.0 24.0 14.0 16.0 18.0 20.0  22.0  24.0 \n",
       "y           71.2 72.6 74.3 76.7 76.2 78.1 75.0 75.4 75.5 78.4  79.2  78.7 \n",
       "x            1.8  2.5  7.2 10.1  9.2 10.3  8.3  4.2  5.3  6.2   5.8  11.0 \n",
       "subsidy.grp  1.0  1.0  1.0  1.0  1.0  1.0  2.0  2.0  2.0  2.0   2.0   2.0 "
      ]
     },
     "metadata": {},
     "output_type": "display_data"
    },
    {
     "data": {
      "text/html": [
       "2"
      ],
      "text/latex": [
       "2"
      ],
      "text/markdown": [
       "2"
      ],
      "text/plain": [
       "[1] 2"
      ]
     },
     "metadata": {},
     "output_type": "display_data"
    }
   ],
   "source": [
    "var.grp.idx <- 'subsidy.grp'\n",
    "vars.subsidy.group <- c('i')\n",
    "df.i2t6xy <- df.i2t6xy %>% mutate(!!var.grp.idx := group_indices(., !!!syms(vars.subsidy.group)))\n",
    "t(df.i2t6xy)\n",
    "sca.subsidy.groups <- length(unique(df.i2t6xy[[var.grp.idx]]))\n",
    "sca.subsidy.groups"
   ]
  },
  {
   "cell_type": "markdown",
   "metadata": {},
   "source": [
    "### Input/Output Relationship and Prediction with Changes in X\n",
    "\n",
    "Estimate a production function relationship between the input and output\n",
    "\n",
    "Prediction can be re-done changing x (which is how we will change subsidy)"
   ]
  },
  {
   "cell_type": "code",
   "execution_count": 405,
   "metadata": {},
   "outputs": [
    {
     "data": {
      "text/plain": [
       "\n",
       "Call:\n",
       "lm(formula = log(y) ~ log(x) + factor(i), data = df.i2t6xy)\n",
       "\n",
       "Residuals:\n",
       "      Min        1Q    Median        3Q       Max \n",
       "-0.036535 -0.005822 -0.000627  0.006491  0.032371 \n",
       "\n",
       "Coefficients:\n",
       "            Estimate Std. Error t value Pr(>|t|)    \n",
       "(Intercept)  4.24563    0.01996 212.700  < 2e-16 ***\n",
       "log(x)       0.04023    0.01057   3.804  0.00419 ** \n",
       "factor(i)13  0.02326    0.01160   2.004  0.07601 .  \n",
       "---\n",
       "Signif. codes:  0 '***' 0.001 '**' 0.01 '*' 0.05 '.' 0.1 ' ' 1\n",
       "\n",
       "Residual standard error: 0.01993 on 9 degrees of freedom\n",
       "Multiple R-squared:  0.6983,\tAdjusted R-squared:  0.6312 \n",
       "F-statistic: 10.41 on 2 and 9 DF,  p-value: 0.004552\n"
      ]
     },
     "metadata": {},
     "output_type": "display_data"
    }
   ],
   "source": [
    "# Regression and Results\n",
    "res.linfe <- lm(log(y) ~ log(x) + factor(i) , data=df.i2t6xy)\n",
    "summary(res.linfe)"
   ]
  },
  {
   "cell_type": "code",
   "execution_count": 406,
   "metadata": {},
   "outputs": [
    {
     "data": {
      "text/html": [
       "<table>\n",
       "<thead><tr><th scope=col>y.predict</th><th scope=col>y.predict.subsidy - y.predict</th><th scope=col>i</th><th scope=col>t</th><th scope=col>y</th><th scope=col>x</th><th scope=col>subsidy.grp</th></tr></thead>\n",
       "<tbody>\n",
       "\t<tr><td>71.46981 </td><td>1.2816855</td><td> 4       </td><td>14       </td><td>71.2     </td><td> 1.8     </td><td>1        </td></tr>\n",
       "\t<tr><td>72.42057 </td><td>0.9869368</td><td> 4       </td><td>16       </td><td>72.6     </td><td> 2.5     </td><td>1        </td></tr>\n",
       "\t<tr><td>75.56883 </td><td>0.3964018</td><td> 4       </td><td>18       </td><td>74.3     </td><td> 7.2     </td><td>1        </td></tr>\n",
       "\t<tr><td>76.60478 </td><td>0.2914962</td><td> 4       </td><td>20       </td><td>76.7     </td><td>10.1     </td><td>1        </td></tr>\n",
       "\t<tr><td>76.31770 </td><td>0.3174504</td><td> 4       </td><td>22       </td><td>76.2     </td><td> 9.2     </td><td>1        </td></tr>\n",
       "\t<tr><td>76.66523 </td><td>0.2863060</td><td> 4       </td><td>24       </td><td>78.1     </td><td>10.3     </td><td>1        </td></tr>\n",
       "\t<tr><td>77.79083 </td><td>0.3568153</td><td>13       </td><td>14       </td><td>75.0     </td><td> 8.3     </td><td>2        </td></tr>\n",
       "\t<tr><td>75.68810 </td><td>0.6530987</td><td>13       </td><td>16       </td><td>75.4     </td><td> 4.2     </td><td>2        </td></tr>\n",
       "\t<tr><td>76.39972 </td><td>0.5330764</td><td>13       </td><td>18       </td><td>75.5     </td><td> 5.3     </td><td>2        </td></tr>\n",
       "\t<tr><td>76.88329 </td><td>0.4638823</td><td>13       </td><td>20       </td><td>78.4     </td><td> 6.2     </td><td>2        </td></tr>\n",
       "\t<tr><td>76.67730 </td><td>0.4922282</td><td>13       </td><td>22       </td><td>79.2     </td><td> 5.8     </td><td>2        </td></tr>\n",
       "\t<tr><td>78.67721 </td><td>0.2758804</td><td>13       </td><td>24       </td><td>78.7     </td><td>11.0     </td><td>2        </td></tr>\n",
       "</tbody>\n",
       "</table>\n"
      ],
      "text/latex": [
       "\\begin{tabular}{r|lllllll}\n",
       " y.predict & y.predict.subsidy - y.predict & i & t & y & x & subsidy.grp\\\\\n",
       "\\hline\n",
       "\t 71.46981  & 1.2816855 &  4        & 14        & 71.2      &  1.8      & 1        \\\\\n",
       "\t 72.42057  & 0.9869368 &  4        & 16        & 72.6      &  2.5      & 1        \\\\\n",
       "\t 75.56883  & 0.3964018 &  4        & 18        & 74.3      &  7.2      & 1        \\\\\n",
       "\t 76.60478  & 0.2914962 &  4        & 20        & 76.7      & 10.1      & 1        \\\\\n",
       "\t 76.31770  & 0.3174504 &  4        & 22        & 76.2      &  9.2      & 1        \\\\\n",
       "\t 76.66523  & 0.2863060 &  4        & 24        & 78.1      & 10.3      & 1        \\\\\n",
       "\t 77.79083  & 0.3568153 & 13        & 14        & 75.0      &  8.3      & 2        \\\\\n",
       "\t 75.68810  & 0.6530987 & 13        & 16        & 75.4      &  4.2      & 2        \\\\\n",
       "\t 76.39972  & 0.5330764 & 13        & 18        & 75.5      &  5.3      & 2        \\\\\n",
       "\t 76.88329  & 0.4638823 & 13        & 20        & 78.4      &  6.2      & 2        \\\\\n",
       "\t 76.67730  & 0.4922282 & 13        & 22        & 79.2      &  5.8      & 2        \\\\\n",
       "\t 78.67721  & 0.2758804 & 13        & 24        & 78.7      & 11.0      & 2        \\\\\n",
       "\\end{tabular}\n"
      ],
      "text/markdown": [
       "\n",
       "y.predict | y.predict.subsidy - y.predict | i | t | y | x | subsidy.grp | \n",
       "|---|---|---|---|---|---|---|---|---|---|---|---|\n",
       "| 71.46981  | 1.2816855 |  4        | 14        | 71.2      |  1.8      | 1         | \n",
       "| 72.42057  | 0.9869368 |  4        | 16        | 72.6      |  2.5      | 1         | \n",
       "| 75.56883  | 0.3964018 |  4        | 18        | 74.3      |  7.2      | 1         | \n",
       "| 76.60478  | 0.2914962 |  4        | 20        | 76.7      | 10.1      | 1         | \n",
       "| 76.31770  | 0.3174504 |  4        | 22        | 76.2      |  9.2      | 1         | \n",
       "| 76.66523  | 0.2863060 |  4        | 24        | 78.1      | 10.3      | 1         | \n",
       "| 77.79083  | 0.3568153 | 13        | 14        | 75.0      |  8.3      | 2         | \n",
       "| 75.68810  | 0.6530987 | 13        | 16        | 75.4      |  4.2      | 2         | \n",
       "| 76.39972  | 0.5330764 | 13        | 18        | 75.5      |  5.3      | 2         | \n",
       "| 76.88329  | 0.4638823 | 13        | 20        | 78.4      |  6.2      | 2         | \n",
       "| 76.67730  | 0.4922282 | 13        | 22        | 79.2      |  5.8      | 2         | \n",
       "| 78.67721  | 0.2758804 | 13        | 24        | 78.7      | 11.0      | 2         | \n",
       "\n",
       "\n"
      ],
      "text/plain": [
       "   y.predict y.predict.subsidy - y.predict i  t  y    x    subsidy.grp\n",
       "1  71.46981  1.2816855                      4 14 71.2  1.8 1          \n",
       "2  72.42057  0.9869368                      4 16 72.6  2.5 1          \n",
       "3  75.56883  0.3964018                      4 18 74.3  7.2 1          \n",
       "4  76.60478  0.2914962                      4 20 76.7 10.1 1          \n",
       "5  76.31770  0.3174504                      4 22 76.2  9.2 1          \n",
       "6  76.66523  0.2863060                      4 24 78.1 10.3 1          \n",
       "7  77.79083  0.3568153                     13 14 75.0  8.3 2          \n",
       "8  75.68810  0.6530987                     13 16 75.4  4.2 2          \n",
       "9  76.39972  0.5330764                     13 18 75.5  5.3 2          \n",
       "10 76.88329  0.4638823                     13 20 78.4  6.2 2          \n",
       "11 76.67730  0.4922282                     13 22 79.2  5.8 2          \n",
       "12 78.67721  0.2758804                     13 24 78.7 11.0 2          "
      ]
     },
     "metadata": {},
     "output_type": "display_data"
    }
   ],
   "source": [
    "# Regression Predition, with Changes in X\n",
    "y.predict <- exp(predict(res.linfe))\n",
    "y.predict.subsidy <- exp(predict(res.linfe, (df.i2t6xy %>% mutate(x = x + 1))))\n",
    "cbind(y.predict, y.predict.subsidy - y.predict, df.i2t6xy)"
   ]
  },
  {
   "cell_type": "markdown",
   "metadata": {},
   "source": [
    "## Dataframe with predicitons from different subsidies\n",
    "\n",
    "Given fixed total subsidy available, distribute over the two subsidy groups. (2 individuals)\n",
    "\n",
    "A vector of policy determined by proportion of subsidies to the two individauls.\n",
    "\n",
    "Results below show subsidy effects on height at individual months. \n",
    "\n",
    "Then we try a vector of subsidies from 0 percent to 100 percent of total subsidy for the 1st of 2 individuals, and look at the resulting height differences between the two individuals. \n",
    "\n",
    "It is clear that differential subsidies lead to more or less inequality. "
   ]
  },
  {
   "cell_type": "code",
   "execution_count": 407,
   "metadata": {},
   "outputs": [],
   "source": [
    "# subsidy_total <- 2\n",
    "# vec_frac <- c(0.1, 0.9)\n",
    "# df <- df.i2t6xy\n",
    "f_subsidy_y <- function(df, var.grp.idx, res.linfe, subsidy.total, vec.subsidy.frac) {\n",
    "    return(df %>% mutate(subsidy_grp = paste0(vec.subsidy.frac, collapse=','),\n",
    "                         subsidy = subsidy.total*vec.subsidy.frac[df[[var.grp.idx]]]) %>% \n",
    "            mutate(y_subsidy = exp(predict(res.linfe,\n",
    "                                           (df %>% mutate(x = x + subsidy))))))\n",
    "}\n",
    "# For only two people\n",
    "f_subsidy_y_n2_wrapper <- function(df, var.grp.idx, res.linfe, subsidy.total=2, sca.subsidy.frac=0.5) {\n",
    "    vec.subsidy.frac = c(sca.subsidy.frac, (1-sca.subsidy.frac))\n",
    "    # do not need to store both, just one for subsidy.grp, given only 2 groups\n",
    "    f_subsidy_y(df.i2t6xy, var.grp.idx, res.linfe, subsidy.total, vec.subsidy.frac) %>%\n",
    "        mutate(subsidy.grp = sca.subsidy.frac)\n",
    "}"
   ]
  },
  {
   "cell_type": "code",
   "execution_count": 408,
   "metadata": {},
   "outputs": [
    {
     "data": {
      "text/html": [
       "<table>\n",
       "<thead><tr><th scope=col>i</th><th scope=col>t</th><th scope=col>y</th><th scope=col>x</th><th scope=col>subsidy.grp</th><th scope=col>subsidy_grp</th><th scope=col>subsidy</th><th scope=col>y_subsidy</th></tr></thead>\n",
       "<tbody>\n",
       "\t<tr><td> 4      </td><td>14      </td><td>71.2    </td><td> 1.8    </td><td>1       </td><td>0.1,0.9 </td><td>0.2     </td><td>71.77338</td></tr>\n",
       "\t<tr><td> 4      </td><td>16      </td><td>72.6    </td><td> 2.5    </td><td>1       </td><td>0.1,0.9 </td><td>0.2     </td><td>72.64514</td></tr>\n",
       "\t<tr><td> 4      </td><td>18      </td><td>74.3    </td><td> 7.2    </td><td>1       </td><td>0.1,0.9 </td><td>0.2     </td><td>75.65217</td></tr>\n",
       "\t<tr><td> 4      </td><td>20      </td><td>76.7    </td><td>10.1    </td><td>1       </td><td>0.1,0.9 </td><td>0.2     </td><td>76.66523</td></tr>\n",
       "\t<tr><td> 4      </td><td>22      </td><td>76.2    </td><td> 9.2    </td><td>1       </td><td>0.1,0.9 </td><td>0.2     </td><td>76.38375</td></tr>\n",
       "\t<tr><td> 4      </td><td>24      </td><td>78.1    </td><td>10.3    </td><td>1       </td><td>0.1,0.9 </td><td>0.2     </td><td>76.72456</td></tr>\n",
       "\t<tr><td>13      </td><td>14      </td><td>75.0    </td><td> 8.3    </td><td>2       </td><td>0.1,0.9 </td><td>1.8     </td><td>78.40750</td></tr>\n",
       "\t<tr><td>13      </td><td>16      </td><td>75.4    </td><td> 4.2    </td><td>2       </td><td>0.1,0.9 </td><td>1.8     </td><td>76.78194</td></tr>\n",
       "\t<tr><td>13      </td><td>18      </td><td>75.5    </td><td> 5.3    </td><td>2       </td><td>0.1,0.9 </td><td>1.8     </td><td>77.30367</td></tr>\n",
       "\t<tr><td>13      </td><td>20      </td><td>78.4    </td><td> 6.2    </td><td>2       </td><td>0.1,0.9 </td><td>1.8     </td><td>77.67571</td></tr>\n",
       "\t<tr><td>13      </td><td>22      </td><td>79.2    </td><td> 5.8    </td><td>2       </td><td>0.1,0.9 </td><td>1.8     </td><td>77.51559</td></tr>\n",
       "\t<tr><td>13      </td><td>24      </td><td>78.7    </td><td>11.0    </td><td>2       </td><td>0.1,0.9 </td><td>1.8     </td><td>79.15834</td></tr>\n",
       "</tbody>\n",
       "</table>\n"
      ],
      "text/latex": [
       "\\begin{tabular}{r|llllllll}\n",
       " i & t & y & x & subsidy.grp & subsidy\\_grp & subsidy & y\\_subsidy\\\\\n",
       "\\hline\n",
       "\t  4       & 14       & 71.2     &  1.8     & 1        & 0.1,0.9  & 0.2      & 71.77338\\\\\n",
       "\t  4       & 16       & 72.6     &  2.5     & 1        & 0.1,0.9  & 0.2      & 72.64514\\\\\n",
       "\t  4       & 18       & 74.3     &  7.2     & 1        & 0.1,0.9  & 0.2      & 75.65217\\\\\n",
       "\t  4       & 20       & 76.7     & 10.1     & 1        & 0.1,0.9  & 0.2      & 76.66523\\\\\n",
       "\t  4       & 22       & 76.2     &  9.2     & 1        & 0.1,0.9  & 0.2      & 76.38375\\\\\n",
       "\t  4       & 24       & 78.1     & 10.3     & 1        & 0.1,0.9  & 0.2      & 76.72456\\\\\n",
       "\t 13       & 14       & 75.0     &  8.3     & 2        & 0.1,0.9  & 1.8      & 78.40750\\\\\n",
       "\t 13       & 16       & 75.4     &  4.2     & 2        & 0.1,0.9  & 1.8      & 76.78194\\\\\n",
       "\t 13       & 18       & 75.5     &  5.3     & 2        & 0.1,0.9  & 1.8      & 77.30367\\\\\n",
       "\t 13       & 20       & 78.4     &  6.2     & 2        & 0.1,0.9  & 1.8      & 77.67571\\\\\n",
       "\t 13       & 22       & 79.2     &  5.8     & 2        & 0.1,0.9  & 1.8      & 77.51559\\\\\n",
       "\t 13       & 24       & 78.7     & 11.0     & 2        & 0.1,0.9  & 1.8      & 79.15834\\\\\n",
       "\\end{tabular}\n"
      ],
      "text/markdown": [
       "\n",
       "i | t | y | x | subsidy.grp | subsidy_grp | subsidy | y_subsidy | \n",
       "|---|---|---|---|---|---|---|---|---|---|---|---|\n",
       "|  4       | 14       | 71.2     |  1.8     | 1        | 0.1,0.9  | 0.2      | 71.77338 | \n",
       "|  4       | 16       | 72.6     |  2.5     | 1        | 0.1,0.9  | 0.2      | 72.64514 | \n",
       "|  4       | 18       | 74.3     |  7.2     | 1        | 0.1,0.9  | 0.2      | 75.65217 | \n",
       "|  4       | 20       | 76.7     | 10.1     | 1        | 0.1,0.9  | 0.2      | 76.66523 | \n",
       "|  4       | 22       | 76.2     |  9.2     | 1        | 0.1,0.9  | 0.2      | 76.38375 | \n",
       "|  4       | 24       | 78.1     | 10.3     | 1        | 0.1,0.9  | 0.2      | 76.72456 | \n",
       "| 13       | 14       | 75.0     |  8.3     | 2        | 0.1,0.9  | 1.8      | 78.40750 | \n",
       "| 13       | 16       | 75.4     |  4.2     | 2        | 0.1,0.9  | 1.8      | 76.78194 | \n",
       "| 13       | 18       | 75.5     |  5.3     | 2        | 0.1,0.9  | 1.8      | 77.30367 | \n",
       "| 13       | 20       | 78.4     |  6.2     | 2        | 0.1,0.9  | 1.8      | 77.67571 | \n",
       "| 13       | 22       | 79.2     |  5.8     | 2        | 0.1,0.9  | 1.8      | 77.51559 | \n",
       "| 13       | 24       | 78.7     | 11.0     | 2        | 0.1,0.9  | 1.8      | 79.15834 | \n",
       "\n",
       "\n"
      ],
      "text/plain": [
       "   i  t  y    x    subsidy.grp subsidy_grp subsidy y_subsidy\n",
       "1   4 14 71.2  1.8 1           0.1,0.9     0.2     71.77338 \n",
       "2   4 16 72.6  2.5 1           0.1,0.9     0.2     72.64514 \n",
       "3   4 18 74.3  7.2 1           0.1,0.9     0.2     75.65217 \n",
       "4   4 20 76.7 10.1 1           0.1,0.9     0.2     76.66523 \n",
       "5   4 22 76.2  9.2 1           0.1,0.9     0.2     76.38375 \n",
       "6   4 24 78.1 10.3 1           0.1,0.9     0.2     76.72456 \n",
       "7  13 14 75.0  8.3 2           0.1,0.9     1.8     78.40750 \n",
       "8  13 16 75.4  4.2 2           0.1,0.9     1.8     76.78194 \n",
       "9  13 18 75.5  5.3 2           0.1,0.9     1.8     77.30367 \n",
       "10 13 20 78.4  6.2 2           0.1,0.9     1.8     77.67571 \n",
       "11 13 22 79.2  5.8 2           0.1,0.9     1.8     77.51559 \n",
       "12 13 24 78.7 11.0 2           0.1,0.9     1.8     79.15834 "
      ]
     },
     "metadata": {},
     "output_type": "display_data"
    }
   ],
   "source": [
    "# Test Function One Subsidy\n",
    "f_subsidy_y(df.i2t6xy, var.grp.idx, res.linfe, subsidy.total = 2, vec.subsidy.frac = c(0.1, 0.9))"
   ]
  },
  {
   "cell_type": "markdown",
   "metadata": {},
   "source": [
    "### Greatest Equality and Greatest Total Height Month 24\n",
    "\n",
    "if we care only about month 24 height\n",
    "- Which subsidy achieves the greatest level of total height for the two individuals?\n",
    "    + 0.496 and 0.504 (See below)\n",
    "- Which subsidy achieves the greatest level of equality (leontiff)?\n",
    "    + 0.674 and 0.326 (See below)"
   ]
  },
  {
   "cell_type": "code",
   "execution_count": 409,
   "metadata": {},
   "outputs": [],
   "source": [
    "# Function loop over subsidies\n",
    "vec.sca.subsidy.frac <- seq(0, 1, 0.001)\n",
    "subsidy.total <- 100\n",
    "df.all.subsidy <- bind_rows(lapply(vec.sca.subsidy.frac, f_subsidy_y_n2_wrapper, \n",
    "                                   df=df.i2t6xy, var.grp.idx=var.grp.idx, res.linfe=res.linfe,\n",
    "                                   subsidy.total=subsidy.total))"
   ]
  },
  {
   "cell_type": "code",
   "execution_count": 410,
   "metadata": {},
   "outputs": [
    {
     "data": {
      "text/html": [
       "<table>\n",
       "<thead><tr><th scope=col>subsidy_grp</th><th scope=col>subsidy.grp</th><th scope=col>i_4</th><th scope=col>i_13</th><th scope=col>total.hgt</th><th scope=col>min.hgt</th><th scope=col>mth</th></tr></thead>\n",
       "<tbody>\n",
       "\t<tr><td>0.496,0.504</td><td>0.496      </td><td>82.29186   </td><td>84.31226   </td><td>166.6041   </td><td>82.29186   </td><td>t24        </td></tr>\n",
       "\t<tr><td>0.497,0.503</td><td>0.497      </td><td>82.29738   </td><td>84.30673   </td><td>166.6041   </td><td>82.29738   </td><td>t24        </td></tr>\n",
       "\t<tr><td>0.495,0.505</td><td>0.495      </td><td>82.28632   </td><td>84.31778   </td><td>166.6041   </td><td>82.28632   </td><td>t24        </td></tr>\n",
       "</tbody>\n",
       "</table>\n"
      ],
      "text/latex": [
       "\\begin{tabular}{r|lllllll}\n",
       " subsidy\\_grp & subsidy.grp & i\\_4 & i\\_13 & total.hgt & min.hgt & mth\\\\\n",
       "\\hline\n",
       "\t 0.496,0.504 & 0.496       & 82.29186    & 84.31226    & 166.6041    & 82.29186    & t24        \\\\\n",
       "\t 0.497,0.503 & 0.497       & 82.29738    & 84.30673    & 166.6041    & 82.29738    & t24        \\\\\n",
       "\t 0.495,0.505 & 0.495       & 82.28632    & 84.31778    & 166.6041    & 82.28632    & t24        \\\\\n",
       "\\end{tabular}\n"
      ],
      "text/markdown": [
       "\n",
       "subsidy_grp | subsidy.grp | i_4 | i_13 | total.hgt | min.hgt | mth | \n",
       "|---|---|---|\n",
       "| 0.496,0.504 | 0.496       | 82.29186    | 84.31226    | 166.6041    | 82.29186    | t24         | \n",
       "| 0.497,0.503 | 0.497       | 82.29738    | 84.30673    | 166.6041    | 82.29738    | t24         | \n",
       "| 0.495,0.505 | 0.495       | 82.28632    | 84.31778    | 166.6041    | 82.28632    | t24         | \n",
       "\n",
       "\n"
      ],
      "text/plain": [
       "  subsidy_grp subsidy.grp i_4      i_13     total.hgt min.hgt  mth\n",
       "1 0.496,0.504 0.496       82.29186 84.31226 166.6041  82.29186 t24\n",
       "2 0.497,0.503 0.497       82.29738 84.30673 166.6041  82.29738 t24\n",
       "3 0.495,0.505 0.495       82.28632 84.31778 166.6041  82.28632 t24"
      ]
     },
     "metadata": {},
     "output_type": "display_data"
    },
    {
     "data": {
      "text/html": [
       "<table>\n",
       "<thead><tr><th scope=col>subsidy_grp</th><th scope=col>subsidy.grp</th><th scope=col>i_4</th><th scope=col>i_13</th><th scope=col>total.hgt</th><th scope=col>min.hgt</th><th scope=col>mth</th></tr></thead>\n",
       "<tbody>\n",
       "\t<tr><td>0.674,0.326</td><td>0.674      </td><td>83.15770   </td><td>83.15904   </td><td>166.3167   </td><td>83.15770   </td><td>t24        </td></tr>\n",
       "\t<tr><td>0.673,0.327</td><td>0.673      </td><td>83.15339   </td><td>83.16671   </td><td>166.3201   </td><td>83.15339   </td><td>t24        </td></tr>\n",
       "\t<tr><td>0.675,0.325</td><td>0.675      </td><td>83.16200   </td><td>83.15136   </td><td>166.3134   </td><td>83.15136   </td><td>t24        </td></tr>\n",
       "</tbody>\n",
       "</table>\n"
      ],
      "text/latex": [
       "\\begin{tabular}{r|lllllll}\n",
       " subsidy\\_grp & subsidy.grp & i\\_4 & i\\_13 & total.hgt & min.hgt & mth\\\\\n",
       "\\hline\n",
       "\t 0.674,0.326 & 0.674       & 83.15770    & 83.15904    & 166.3167    & 83.15770    & t24        \\\\\n",
       "\t 0.673,0.327 & 0.673       & 83.15339    & 83.16671    & 166.3201    & 83.15339    & t24        \\\\\n",
       "\t 0.675,0.325 & 0.675       & 83.16200    & 83.15136    & 166.3134    & 83.15136    & t24        \\\\\n",
       "\\end{tabular}\n"
      ],
      "text/markdown": [
       "\n",
       "subsidy_grp | subsidy.grp | i_4 | i_13 | total.hgt | min.hgt | mth | \n",
       "|---|---|---|\n",
       "| 0.674,0.326 | 0.674       | 83.15770    | 83.15904    | 166.3167    | 83.15770    | t24         | \n",
       "| 0.673,0.327 | 0.673       | 83.15339    | 83.16671    | 166.3201    | 83.15339    | t24         | \n",
       "| 0.675,0.325 | 0.675       | 83.16200    | 83.15136    | 166.3134    | 83.15136    | t24         | \n",
       "\n",
       "\n"
      ],
      "text/plain": [
       "  subsidy_grp subsidy.grp i_4      i_13     total.hgt min.hgt  mth\n",
       "1 0.674,0.326 0.674       83.15770 83.15904 166.3167  83.15770 t24\n",
       "2 0.673,0.327 0.673       83.15339 83.16671 166.3201  83.15339 t24\n",
       "3 0.675,0.325 0.675       83.16200 83.15136 166.3134  83.15136 t24"
      ]
     },
     "metadata": {},
     "output_type": "display_data"
    }
   ],
   "source": [
    "# Summarize Results\n",
    "df.t24.hgt <- df.all.subsidy %>% filter(t == 24) %>% \n",
    "                group_by(subsidy_grp, subsidy.grp, i) %>% summarize(y_subsidy_mean = mean(y_subsidy)) %>%\n",
    "                spread(i, y_subsidy_mean, sep='_') %>% \n",
    "                mutate_at(vars(contains(\"i_\")), as.numeric) %>% \n",
    "                mutate(total.hgt = i_4 + i_13, min.hgt = min(i_4, i_13), mth = 't24')\n",
    "# Which Subsidy Achieves Greaterest Equality\n",
    "head(df.t24.hgt %>% arrange(desc(total.hgt)), 3)\n",
    "head(df.t24.hgt %>% arrange(desc(min.hgt)), 3)"
   ]
  },
  {
   "cell_type": "code",
   "execution_count": 411,
   "metadata": {},
   "outputs": [
    {
     "data": {},
     "metadata": {},
     "output_type": "display_data"
    },
    {
     "data": {
      "image/png": "[encoded data removed]",
      "text/plain": [
       "plot without title"
      ]
     },
     "metadata": {},
     "output_type": "display_data",
     "source": "R display func"
    }
   ],
   "source": [
    "# Graphical Results\n",
    "options(repr.plot.width = 6, repr.plot.height = 3.5)\n",
    "title_line2 <- 'Planer Equality: Only minimum hgt of the two matter'\n",
    "title_line3 <- 'Planer Efficiency: Only average/sum Height of the two matter'\n",
    "title_x <- 'Fraction of Subsidy to the First Person'\n",
    "title_y <- 'Height in cm'\n",
    "caption <- 'Two individuals, Height at Month 24'\n",
    "df.t24.hgt %>% gather(variable, value, -mth, -subsidy.grp, -subsidy_grp, -matches('i_')) %>%\n",
    "    ggplot(aes(x=subsidy.grp, y=value)) +\n",
    "    geom_line() + facet_wrap( ~ variable, scale='free') +\n",
    "    labs(title = paste0('Equality Or Maximum Height Optimal Policy\\n', title_line2,\n",
    "                        '\\n', title_line3 ),\n",
    "           x = title_x, y = title_y, caption = caption) +\n",
    "      theme_bw()"
   ]
  },
  {
   "cell_type": "markdown",
   "metadata": {},
   "source": [
    "### Greatest Equality and Greatest Total Height Mth 14 vs Mth 24\n",
    "\n",
    "if we care only about month 14 height\n",
    "- Which subsidy achieves the greatest level of total height for the two individuals?\n",
    "    + 0.526 and 0.474 (See below)\n",
    "- Which subsidy achieves the greatest level of equality (leontiff)?\n",
    "    + 0.687 and 0.313 (See below)"
   ]
  },
  {
   "cell_type": "code",
   "execution_count": 412,
   "metadata": {},
   "outputs": [
    {
     "data": {
      "text/html": [
       "<table>\n",
       "<thead><tr><th scope=col>subsidy_grp</th><th scope=col>subsidy.grp</th><th scope=col>i_4</th><th scope=col>i_13</th><th scope=col>total.hgt</th><th scope=col>min.hgt</th><th scope=col>mth</th></tr></thead>\n",
       "<tbody>\n",
       "\t<tr><td>0.526,0.474</td><td>0.526      </td><td>81.97363   </td><td>83.98245   </td><td>165.9561   </td><td>81.97363   </td><td>t14        </td></tr>\n",
       "\t<tr><td>0.525,0.475</td><td>0.525      </td><td>81.96756   </td><td>83.98851   </td><td>165.9561   </td><td>81.96756   </td><td>t14        </td></tr>\n",
       "\t<tr><td>0.527,0.473</td><td>0.527      </td><td>81.97969   </td><td>83.97638   </td><td>165.9561   </td><td>81.97969   </td><td>t14        </td></tr>\n",
       "</tbody>\n",
       "</table>\n"
      ],
      "text/latex": [
       "\\begin{tabular}{r|lllllll}\n",
       " subsidy\\_grp & subsidy.grp & i\\_4 & i\\_13 & total.hgt & min.hgt & mth\\\\\n",
       "\\hline\n",
       "\t 0.526,0.474 & 0.526       & 81.97363    & 83.98245    & 165.9561    & 81.97363    & t14        \\\\\n",
       "\t 0.525,0.475 & 0.525       & 81.96756    & 83.98851    & 165.9561    & 81.96756    & t14        \\\\\n",
       "\t 0.527,0.473 & 0.527       & 81.97969    & 83.97638    & 165.9561    & 81.97969    & t14        \\\\\n",
       "\\end{tabular}\n"
      ],
      "text/markdown": [
       "\n",
       "subsidy_grp | subsidy.grp | i_4 | i_13 | total.hgt | min.hgt | mth | \n",
       "|---|---|---|\n",
       "| 0.526,0.474 | 0.526       | 81.97363    | 83.98245    | 165.9561    | 81.97363    | t14         | \n",
       "| 0.525,0.475 | 0.525       | 81.96756    | 83.98851    | 165.9561    | 81.96756    | t14         | \n",
       "| 0.527,0.473 | 0.527       | 81.97969    | 83.97638    | 165.9561    | 81.97969    | t14         | \n",
       "\n",
       "\n"
      ],
      "text/plain": [
       "  subsidy_grp subsidy.grp i_4      i_13     total.hgt min.hgt  mth\n",
       "1 0.526,0.474 0.526       81.97363 83.98245 165.9561  81.97363 t14\n",
       "2 0.525,0.475 0.525       81.96756 83.98851 165.9561  81.96756 t14\n",
       "3 0.527,0.473 0.527       81.97969 83.97638 165.9561  81.97969 t14"
      ]
     },
     "metadata": {},
     "output_type": "display_data"
    },
    {
     "data": {
      "text/html": [
       "<table>\n",
       "<thead><tr><th scope=col>subsidy_grp</th><th scope=col>subsidy.grp</th><th scope=col>i_4</th><th scope=col>i_13</th><th scope=col>total.hgt</th><th scope=col>min.hgt</th><th scope=col>mth</th></tr></thead>\n",
       "<tbody>\n",
       "\t<tr><td>0.687,0.313</td><td>0.687      </td><td>82.83303   </td><td>82.83774   </td><td>165.6708   </td><td>82.83303   </td><td>t14        </td></tr>\n",
       "\t<tr><td>0.688,0.312</td><td>0.688      </td><td>82.83775   </td><td>82.82932   </td><td>165.6671   </td><td>82.82932   </td><td>t14        </td></tr>\n",
       "\t<tr><td>0.686,0.314</td><td>0.686      </td><td>82.82830   </td><td>82.84615   </td><td>165.6744   </td><td>82.82830   </td><td>t14        </td></tr>\n",
       "</tbody>\n",
       "</table>\n"
      ],
      "text/latex": [
       "\\begin{tabular}{r|lllllll}\n",
       " subsidy\\_grp & subsidy.grp & i\\_4 & i\\_13 & total.hgt & min.hgt & mth\\\\\n",
       "\\hline\n",
       "\t 0.687,0.313 & 0.687       & 82.83303    & 82.83774    & 165.6708    & 82.83303    & t14        \\\\\n",
       "\t 0.688,0.312 & 0.688       & 82.83775    & 82.82932    & 165.6671    & 82.82932    & t14        \\\\\n",
       "\t 0.686,0.314 & 0.686       & 82.82830    & 82.84615    & 165.6744    & 82.82830    & t14        \\\\\n",
       "\\end{tabular}\n"
      ],
      "text/markdown": [
       "\n",
       "subsidy_grp | subsidy.grp | i_4 | i_13 | total.hgt | min.hgt | mth | \n",
       "|---|---|---|\n",
       "| 0.687,0.313 | 0.687       | 82.83303    | 82.83774    | 165.6708    | 82.83303    | t14         | \n",
       "| 0.688,0.312 | 0.688       | 82.83775    | 82.82932    | 165.6671    | 82.82932    | t14         | \n",
       "| 0.686,0.314 | 0.686       | 82.82830    | 82.84615    | 165.6744    | 82.82830    | t14         | \n",
       "\n",
       "\n"
      ],
      "text/plain": [
       "  subsidy_grp subsidy.grp i_4      i_13     total.hgt min.hgt  mth\n",
       "1 0.687,0.313 0.687       82.83303 82.83774 165.6708  82.83303 t14\n",
       "2 0.688,0.312 0.688       82.83775 82.82932 165.6671  82.82932 t14\n",
       "3 0.686,0.314 0.686       82.82830 82.84615 165.6744  82.82830 t14"
      ]
     },
     "metadata": {},
     "output_type": "display_data"
    }
   ],
   "source": [
    "# Summarize Results\n",
    "df.t2t12.hgt <- df.all.subsidy %>% filter(t == 14) %>% \n",
    "                group_by(subsidy_grp, subsidy.grp, i) %>% summarize(y_subsidy_mean = mean(y_subsidy)) %>%\n",
    "                spread(i, y_subsidy_mean, sep='_') %>% \n",
    "                mutate_at(vars(contains(\"i_\")), as.numeric) %>% \n",
    "                mutate(total.hgt = i_4 + i_13, min.hgt = min(i_4, i_13), mth = 't14')\n",
    "# Which Subsidy Achieves Greaterest Equality\n",
    "head(df.t2t12.hgt %>% arrange(desc(total.hgt)), 3)\n",
    "head(df.t2t12.hgt %>% arrange(desc(min.hgt)), 3)"
   ]
  },
  {
   "cell_type": "code",
   "execution_count": 413,
   "metadata": {},
   "outputs": [
    {
     "data": {},
     "metadata": {},
     "output_type": "display_data"
    },
    {
     "data": {
      "image/png": "[encoded data removed]",
      "text/plain": [
       "plot without title"
      ]
     },
     "metadata": {},
     "output_type": "display_data",
     "source": "R display func"
    }
   ],
   "source": [
    "# Graphical Results\n",
    "options(repr.plot.width = 6, repr.plot.height = 3.5)\n",
    "bind_rows(df.t24.hgt, df.t2t12.hgt) %>% \n",
    "    gather(variable, value, -mth, -subsidy.grp, -subsidy_grp, -matches('i_')) %>%\n",
    "    ggplot(aes(x=subsidy.grp, y=value, colour=mth)) +\n",
    "    geom_line() + facet_wrap( ~ variable, scale='free') + \n",
    "    labs(title = paste0('Equality Or Maximum Height Optimal Policy\\n', title_line2,\n",
    "                        '\\n', title_line3 ),\n",
    "           x = title_x, y = title_y, caption = caption) +\n",
    "      theme_bw()"
   ]
  }
 ],
 "metadata": {
  "kernelspec": {
   "display_name": "R",
   "language": "R",
   "name": "ir"
  },
  "language_info": {
   "codemirror_mode": "r",
   "file_extension": ".r",
   "mimetype": "text/x-r-source",
   "name": "R",
   "pygments_lexer": "r",
   "version": "3.5.1"
  }
 },
 "nbformat": 4,
 "nbformat_minor": 2
}
