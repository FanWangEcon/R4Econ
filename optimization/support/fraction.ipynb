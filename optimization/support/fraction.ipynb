{
 "cells": [
  {
   "cell_type": "markdown",
   "metadata": {},
   "source": [
    "Back to **[Fan](https://fanwangecon.github.io/)**'s R4Econ Homepage **[Table of Content](https://fanwangecon.github.io/R4Econ/)**\n",
    "\n",
    "# Constrained Share Parameters to Unconstrained Parameters\n",
    "\n",
    "Sometimes, the parameters we are optimizing over are constrained, we might be optimizing by choosing $a,b,c$. They sum up ot $1$, and each is greater or equal to $0$. \n",
    "\n",
    "$$ a + b + c = 1$$\n",
    "\n",
    "We can solve the problem as a constrained optimization problem.\n",
    "\n",
    "We can also restate $a$, $b$ and $c$ as unconstrained parameters, and use the functions below to make sure the unconstrained parameters could be transformed back."
   ]
  },
  {
   "cell_type": "code",
   "execution_count": 44,
   "metadata": {},
   "outputs": [],
   "source": [
    "library(tidyverse)"
   ]
  },
  {
   "cell_type": "markdown",
   "metadata": {},
   "source": [
    "## Constrained Fraction/Shares to Unconstrained Parameters\n",
    "\n",
    "The original fractional variables are:\n",
    "$$ \\sum_i x_i = 1$$\n",
    "$$ x_i \\ge 0 $$\n",
    "We transform to $\\hat{x_i}$, using this transformation function\n",
    "$$ G_i - \\frac{G_i}{1+exp(\\hat{x_i})} = x_i$$\n",
    "Where $G_1 = 1$, and $$G_i = 1 - \\sum_{i=1}^{i-1} x_i $$\n",
    "Where $x$ is the original fractional variable that is constrained.\n",
    "\n",
    "The optimizer is optimizing over $\\hat{x_i}$, which are unconstrained, but the model uses the transformed constrained $x_i$. During optimization, optimizer changing $\\hat{x_i}$. Given that $x_i$ sum up to a fixed aggregate, we optimize over 1 less $i$ than the total number of fractions. \n",
    "\n",
    "Note that the total sum of $x_i$ do not have to be $1$. "
   ]
  },
  {
   "cell_type": "markdown",
   "metadata": {},
   "source": [
    "## Transformer Function\n",
    "\n",
    "The function below executes the transformation from unconstrained maximizers back to constrained."
   ]
  },
  {
   "cell_type": "code",
   "execution_count": 45,
   "metadata": {},
   "outputs": [],
   "source": [
    "# Convert one by one\n",
    "f_frac_asymp <- function(x, sca.total.frac=1) {\n",
    "    sca.subsidy.frac <- sca.total.frac - sca.total.frac/(1+exp(x))\n",
    "    return(sca.subsidy.frac)\n",
    "}"
   ]
  },
  {
   "cell_type": "code",
   "execution_count": 46,
   "metadata": {},
   "outputs": [],
   "source": [
    "# Vector of Fractions from Asymptotic Transform\n",
    "f_frac_asymp_vec <- function(x) {\n",
    "    # inputs: x <- c(1, 1, 1), these are the x_hats, the unconstrained transformed\n",
    "    # outputs: the return output of the function are the original fractionos\n",
    "    \n",
    "    sca.x.counter <- 1\n",
    "    sca.total.frac <- 1\n",
    "    vec.subsidy.frac <- numeric(length(x)+1)\n",
    "    while(sca.x.counter <= length(x)) {\n",
    "        sca.x.cur <- x[sca.x.counter]\n",
    "        sca.subsidy.frac <- f_frac_asymp(sca.x.cur, sca.total.frac)\n",
    "        vec.subsidy.frac[sca.x.counter] <- sca.subsidy.frac\n",
    "        sca.total.frac <- sca.total.frac - sca.subsidy.frac\n",
    "        sca.x.counter <- sca.x.counter + 1\n",
    "    }\n",
    "    \n",
    "    vec.subsidy.frac[length(x)+1] <- sca.total.frac\n",
    "    \n",
    "    return(vec.subsidy.frac)\n",
    "}"
   ]
  },
  {
   "cell_type": "code",
   "execution_count": 47,
   "metadata": {},
   "outputs": [
    {
     "data": {
      "text/html": [
       "<ol class=list-inline>\n",
       "\t<li>0.268941421369995</li>\n",
       "\t<li>0.276004344706594</li>\n",
       "\t<li>0.227527116961706</li>\n",
       "\t<li>0.227527116961706</li>\n",
       "</ol>\n"
      ],
      "text/latex": [
       "\\begin{enumerate*}\n",
       "\\item 0.268941421369995\n",
       "\\item 0.276004344706594\n",
       "\\item 0.227527116961706\n",
       "\\item 0.227527116961706\n",
       "\\end{enumerate*}\n"
      ],
      "text/markdown": [
       "1. 0.268941421369995\n",
       "2. 0.276004344706594\n",
       "3. 0.227527116961706\n",
       "4. 0.227527116961706\n",
       "\n",
       "\n"
      ],
      "text/plain": [
       "[1] 0.2689414 0.2760043 0.2275271 0.2275271"
      ]
     },
     "metadata": {},
     "output_type": "display_data"
    },
    {
     "data": {
      "text/html": [
       "<ol class=list-inline>\n",
       "\t<li>0.731058578630005</li>\n",
       "\t<li>0.196611933241482</li>\n",
       "\t<li>0.0528770927842667</li>\n",
       "\t<li>0.0194523953442465</li>\n",
       "</ol>\n"
      ],
      "text/latex": [
       "\\begin{enumerate*}\n",
       "\\item 0.731058578630005\n",
       "\\item 0.196611933241482\n",
       "\\item 0.0528770927842667\n",
       "\\item 0.0194523953442465\n",
       "\\end{enumerate*}\n"
      ],
      "text/markdown": [
       "1. 0.731058578630005\n",
       "2. 0.196611933241482\n",
       "3. 0.0528770927842667\n",
       "4. 0.0194523953442465\n",
       "\n",
       "\n"
      ],
      "text/plain": [
       "[1] 0.73105858 0.19661193 0.05287709 0.01945240"
      ]
     },
     "metadata": {},
     "output_type": "display_data"
    },
    {
     "data": {
      "text/html": [
       "<ol class=list-inline>\n",
       "\t<li>0.731058578630005</li>\n",
       "\t<li>0.23688281808991</li>\n",
       "\t<li>0.0234367169468021</li>\n",
       "\t<li>0.00862188633328284</li>\n",
       "</ol>\n"
      ],
      "text/latex": [
       "\\begin{enumerate*}\n",
       "\\item 0.731058578630005\n",
       "\\item 0.23688281808991\n",
       "\\item 0.0234367169468021\n",
       "\\item 0.00862188633328284\n",
       "\\end{enumerate*}\n"
      ],
      "text/markdown": [
       "1. 0.731058578630005\n",
       "2. 0.23688281808991\n",
       "3. 0.0234367169468021\n",
       "4. 0.00862188633328284\n",
       "\n",
       "\n"
      ],
      "text/plain": [
       "[1] 0.731058579 0.236882818 0.023436717 0.008621886"
      ]
     },
     "metadata": {},
     "output_type": "display_data"
    },
    {
     "data": {
      "text/html": [
       "<ol class=list-inline>\n",
       "\t<li>1.3888001859641e-11</li>\n",
       "\t<li>0.00669285092419181</li>\n",
       "\t<li>0.26714143652569</li>\n",
       "\t<li>0.72616571253623</li>\n",
       "</ol>\n"
      ],
      "text/latex": [
       "\\begin{enumerate*}\n",
       "\\item 1.3888001859641e-11\n",
       "\\item 0.00669285092419181\n",
       "\\item 0.26714143652569\n",
       "\\item 0.72616571253623\n",
       "\\end{enumerate*}\n"
      ],
      "text/markdown": [
       "1. 1.3888001859641e-11\n",
       "2. 0.00669285092419181\n",
       "3. 0.26714143652569\n",
       "4. 0.72616571253623\n",
       "\n",
       "\n"
      ],
      "text/plain": [
       "[1] 1.388800e-11 6.692851e-03 2.671414e-01 7.261657e-01"
      ]
     },
     "metadata": {},
     "output_type": "display_data"
    }
   ],
   "source": [
    "# Testing\n",
    "f_frac_asymp_vec(c(-1, -0.5, 0))\n",
    "f_frac_asymp_vec(c(1, 1, 1))\n",
    "f_frac_asymp_vec(c(1, 2, 1))\n",
    "f_frac_asymp_vec(c(-25, -5, -1))"
   ]
  },
  {
   "cell_type": "code",
   "execution_count": 48,
   "metadata": {},
   "outputs": [
    {
     "data": {
      "text/html": [
       "<ol class=list-inline>\n",
       "\t<li>0.731058578630005</li>\n",
       "\t<li>0.196611933241482</li>\n",
       "\t<li>0.0528770927842667</li>\n",
       "\t<li>0.0142208404913138</li>\n",
       "\t<li>0.00523155485293274</li>\n",
       "</ol>\n"
      ],
      "text/latex": [
       "\\begin{enumerate*}\n",
       "\\item 0.731058578630005\n",
       "\\item 0.196611933241482\n",
       "\\item 0.0528770927842667\n",
       "\\item 0.0142208404913138\n",
       "\\item 0.00523155485293274\n",
       "\\end{enumerate*}\n"
      ],
      "text/markdown": [
       "1. 0.731058578630005\n",
       "2. 0.196611933241482\n",
       "3. 0.0528770927842667\n",
       "4. 0.0142208404913138\n",
       "5. 0.00523155485293274\n",
       "\n",
       "\n"
      ],
      "text/plain": [
       "[1] 0.731058579 0.196611933 0.052877093 0.014220840 0.005231555"
      ]
     },
     "metadata": {},
     "output_type": "display_data"
    },
    {
     "data": {
      "text/html": [
       "<ol class=list-inline>\n",
       "\t<li>0.880797077977882</li>\n",
       "\t<li>0.104993585403507</li>\n",
       "\t<li>0.0125155421736767</li>\n",
       "\t<li>0.00149188919779331</li>\n",
       "\t<li>0.000201905247141001</li>\n",
       "</ol>\n"
      ],
      "text/latex": [
       "\\begin{enumerate*}\n",
       "\\item 0.880797077977882\n",
       "\\item 0.104993585403507\n",
       "\\item 0.0125155421736767\n",
       "\\item 0.00149188919779331\n",
       "\\item 0.000201905247141001\n",
       "\\end{enumerate*}\n"
      ],
      "text/markdown": [
       "1. 0.880797077977882\n",
       "2. 0.104993585403507\n",
       "3. 0.0125155421736767\n",
       "4. 0.00149188919779331\n",
       "5. 0.000201905247141001\n",
       "\n",
       "\n"
      ],
      "text/plain": [
       "[1] 0.8807970780 0.1049935854 0.0125155422 0.0014918892 0.0002019052"
      ]
     },
     "metadata": {},
     "output_type": "display_data"
    }
   ],
   "source": [
    "# Testing\n",
    "f_frac_asymp_vec(c(1, 1, 1, 1))\n",
    "f_frac_asymp_vec(c(2, 2, 2, 2))"
   ]
  },
  {
   "cell_type": "markdown",
   "metadata": {},
   "source": [
    "## Initializer Function\n",
    "\n",
    "We will need to initialize parameters. They could be drawn randomly, they could be uniform fractions, or normal (more weight in the middle), or exponential (higher fraction at one end, monotonic)"
   ]
  },
  {
   "cell_type": "code",
   "execution_count": 49,
   "metadata": {},
   "outputs": [
    {
     "data": {
      "text/html": [
       "<table>\n",
       "<thead><tr><th scope=col>type</th><th scope=col>frac</th><th scope=col>type</th><th scope=col>frac</th><th scope=col>type</th><th scope=col>frac</th><th scope=col>type</th><th scope=col>frac</th></tr></thead>\n",
       "<tbody>\n",
       "\t<tr><td>rand      </td><td>0.08692491</td><td>unif      </td><td>0.2       </td><td>dexp      </td><td>0.02260111</td><td>dnorm     </td><td>0.1214249 </td></tr>\n",
       "\t<tr><td>rand      </td><td>0.23827784</td><td>unif      </td><td>0.2       </td><td>dexp      </td><td>0.07651111</td><td>dnorm     </td><td>0.2405638 </td></tr>\n",
       "\t<tr><td>rand      </td><td>0.12361982</td><td>unif      </td><td>0.2       </td><td>dexp      </td><td>0.14868849</td><td>dnorm     </td><td>0.2760227 </td></tr>\n",
       "\t<tr><td>rand      </td><td>0.26690614</td><td>unif      </td><td>0.2       </td><td>dexp      </td><td>0.25826680</td><td>dnorm     </td><td>0.2405638 </td></tr>\n",
       "\t<tr><td>rand      </td><td>0.28427129</td><td>unif      </td><td>0.2       </td><td>dexp      </td><td>0.49393249</td><td>dnorm     </td><td>0.1214249 </td></tr>\n",
       "</tbody>\n",
       "</table>\n"
      ],
      "text/latex": [
       "\\begin{tabular}{r|llllllll}\n",
       " type & frac & type & frac & type & frac & type & frac\\\\\n",
       "\\hline\n",
       "\t rand       & 0.08692491 & unif       & 0.2        & dexp       & 0.02260111 & dnorm      & 0.1214249 \\\\\n",
       "\t rand       & 0.23827784 & unif       & 0.2        & dexp       & 0.07651111 & dnorm      & 0.2405638 \\\\\n",
       "\t rand       & 0.12361982 & unif       & 0.2        & dexp       & 0.14868849 & dnorm      & 0.2760227 \\\\\n",
       "\t rand       & 0.26690614 & unif       & 0.2        & dexp       & 0.25826680 & dnorm      & 0.2405638 \\\\\n",
       "\t rand       & 0.28427129 & unif       & 0.2        & dexp       & 0.49393249 & dnorm      & 0.1214249 \\\\\n",
       "\\end{tabular}\n"
      ],
      "text/markdown": [
       "\n",
       "| type | frac | type | frac | type | frac | type | frac |\n",
       "|---|---|---|---|---|---|---|---|\n",
       "| rand       | 0.08692491 | unif       | 0.2        | dexp       | 0.02260111 | dnorm      | 0.1214249  |\n",
       "| rand       | 0.23827784 | unif       | 0.2        | dexp       | 0.07651111 | dnorm      | 0.2405638  |\n",
       "| rand       | 0.12361982 | unif       | 0.2        | dexp       | 0.14868849 | dnorm      | 0.2760227  |\n",
       "| rand       | 0.26690614 | unif       | 0.2        | dexp       | 0.25826680 | dnorm      | 0.2405638  |\n",
       "| rand       | 0.28427129 | unif       | 0.2        | dexp       | 0.49393249 | dnorm      | 0.1214249  |\n",
       "\n"
      ],
      "text/plain": [
       "  type frac       type frac type frac       type  frac     \n",
       "1 rand 0.08692491 unif 0.2  dexp 0.02260111 dnorm 0.1214249\n",
       "2 rand 0.23827784 unif 0.2  dexp 0.07651111 dnorm 0.2405638\n",
       "3 rand 0.12361982 unif 0.2  dexp 0.14868849 dnorm 0.2760227\n",
       "4 rand 0.26690614 unif 0.2  dexp 0.25826680 dnorm 0.2405638\n",
       "5 rand 0.28427129 unif 0.2  dexp 0.49393249 dnorm 0.1214249"
      ]
     },
     "metadata": {},
     "output_type": "display_data"
    }
   ],
   "source": [
    "# Fractional Estimands Initializer Function\n",
    "f_subsidy_frac <- function(n, type, seed=123) {\n",
    "    \n",
    "    if (type == 'rand') {\n",
    "        set.seed(seed)\n",
    "        vec.draws <- runif(n)\n",
    "        vec.prob <- vec.draws/sum(vec.draws)\n",
    "    }\n",
    "    \n",
    "    if (type == 'unif') {\n",
    "        vec.prob <- numeric(n) + 1/n \n",
    "    }\n",
    "    \n",
    "    if (type == 'dexp') {\n",
    "        bin <- 1/(n)\n",
    "        vec.quantiles <- seq(bin/2, 1, bin)\n",
    "        vec.points <- qexp(vec.quantiles)\n",
    "        vec.prob <- vec.points/sum(vec.points)\n",
    "        vec.prob <- sort(vec.prob)\n",
    "    }    \n",
    "\n",
    "    if (type == 'dnorm') {\n",
    "        bin <- 1/(n)\n",
    "        vec.quantiles <- seq(bin/2, 1, bin)\n",
    "        vec.points <- qnorm(vec.quantiles)\n",
    "        vec.prob <- dnorm(vec.points)/sum(dnorm(vec.points))\n",
    "    }    \n",
    "\n",
    "    return((vec.prob))\n",
    "}\n",
    "# Different Probability Strucgture\n",
    "cbind(tibble(type='rand', frac=f_subsidy_frac(5, 'rand')),\n",
    "      tibble(type='unif', frac=f_subsidy_frac(5, 'unif')),\n",
    "      tibble(type='dexp', frac=f_subsidy_frac(5, 'dexp')),\n",
    "      tibble(type='dnorm', frac=f_subsidy_frac(5, 'dnorm')))"
   ]
  }
 ],
 "metadata": {
  "kernelspec": {
   "display_name": "R",
   "language": "R",
   "name": "ir"
  },
  "language_info": {
   "codemirror_mode": "r",
   "file_extension": ".r",
   "mimetype": "text/x-r-source",
   "name": "R",
   "pygments_lexer": "r",
   "version": "3.5.1"
  }
 },
 "nbformat": 4,
 "nbformat_minor": 2
}
